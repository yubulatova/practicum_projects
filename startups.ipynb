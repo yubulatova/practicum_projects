{
 "cells": [
  {
   "cell_type": "markdown",
   "id": "471c327a-c2bd-4f35-b44c-a430b5963de3",
   "metadata": {},
   "source": [
    "# Исследование стартапов\n",
    "\n",
    "## Цель и задачи\n",
    "\n",
    "**Цель:** подготовить датасет и проверить, что данные в нём соответствуют здравому смыслу, а также ответить на вопросы заказчика как о предобработке, так и о значении данных для бизнеса.\n",
    "\n",
    "**Задачи:**\n",
    "1. Загрузить данные и познакомиться с их содержимым.\n",
    "2. Провести предобработку данных.\n",
    "3. Провести исследовательский анализ данных:\n",
    "    - изучить данные более детально;\n",
    "    - изучить взаимосвязь данных.\n",
    "4. Сформулировать выводы по проведённому анализу и дать рекомендации.\n",
    "\n",
    "## Данные\n",
    "\n",
    "Для анализа поступили данные о стартапах. Данные состоят из пяти датасетов:\n",
    "- `acquisition` - информация о покупках одними компаниями других компаний.\n",
    "- `company_and_rounds` - информация о компаниях и раундах финансирования.\n",
    "- `education` - информация об образовании сотрудника.\n",
    "- `people` - информация о сотрудниках.\n",
    "- `degrees` - информация о типе образования сотрудника.\n",
    "\n",
    "К данным прилагается две дополнительные таблицы:\n",
    "- `fund` - информация о фондах.\n",
    "- `investment` - информация о раундах инвестирования.\n",
    "\n",
    "### Описание датасета `acquisition`:\n",
    "\n",
    "- `id` — идентификатор покупки.\n",
    "- `acquiring_company_id` — идентификатор покупающей компании.\n",
    "- `acquired_company_id` — идентификатор покупаемой компании.\n",
    "- `term_code` — варианты расчёта.\n",
    "- `price_amount` — сумма сделки.\n",
    "- `acquired_at` — дата сделки.\n",
    "\n",
    "### Описание датасета `company_and_rounds`:\n",
    "\n",
    "- `company ID` — идентификатор компании.\n",
    "- `name` — название компании.\n",
    "- `category code` — категория области деятельности компании.\n",
    "- `status` — статус компании.\n",
    "- `founded at` — дата инвестирования.\n",
    "- `closed at` — дата закрытия компании.\n",
    "- `domain` — официальный сайт компании.\n",
    "- `network username` — ник компании в сети.\n",
    "- `country code` — код страны компании.\n",
    "- `investment rounds` — число инвестиционных раундов.\n",
    "- `funding rounds` — число раундов финансирования.\n",
    "- `funding total` — сумма финансирования.\n",
    "- `milestones` — вехи финансирования.\n",
    "- `funding round id` — идентификатор этапа финансирования.\n",
    "- `company id` — идентификатор компании.\n",
    "- `funded at` — дата финансирования.\n",
    "- `funding round type` — тип финансирования.\n",
    "- `raised amount` — сумма финансирования.\n",
    "- `pre money valuation` — предварительная денежная оценка.\n",
    "- `participants` — число участников.\n",
    "- `is first round` — является ли раунд первым.\n",
    "- `is last round` — является раунд последним.\n",
    "\n",
    "### Описание датасета `education`:\n",
    "\n",
    "- `id` — идентификатор записи об образовании.\n",
    "- `person_id` — идентификатор работника.\n",
    "- `instituition` — название учебного заведения.\n",
    "- `graduated_at` — дата получения образования.\n",
    "\n",
    "### Описание датасета `people`:\n",
    "\n",
    "- `id` — идентификатор сотрудника.\n",
    "- `first_name` — имя сотрудника.\n",
    "- `last_name` — фамилия сотрудника.\n",
    "- `company_id` — идентификатор компании.\n",
    "- `network_username` — ник в социальных сетях.\n",
    "  \n",
    "### Описание датасета `degrees`:\n",
    "\n",
    "- `id` — идентификатор записи.\n",
    "- `object_id` — идентификатор сотрудника.\n",
    "- `degree_type` — тип образования.\n",
    "- `subject` — специальность.\n",
    "\n",
    "### Описание датасета `fund`:\n",
    "\n",
    "- `id` — идентификатор фонда.\n",
    "- `name` — название фонда.\n",
    "- `category_code` — категория области деятельности компании.\n",
    "- `founded_at` — дата создания фонда.\n",
    "- `domain` — сайт фонда.\n",
    "- `network_username` — ник фонда в сети.\n",
    "- `country_code` — код страны фонда.\n",
    "- `investment_rounds` — число инвестиционных раундов.\n",
    "- `invested_companies` — число профинансированных компаний.\n",
    "- `milestones` — вехи финансирования.\n",
    "\n",
    "### Описание датасета `investment`:\n",
    "\n",
    "- `id` — идентификатор этапа инвестирования.\n",
    "- `funding_round_id` — идентификатор раунда инвестирования.\n",
    "- `company_id` — индентификатор компании.\n",
    "- `funding_round_type` — тип финансирования.\n",
    "- `fund_id` — идентификатор фонда.\n",
    "\n",
    "## Структура проекта\n",
    "1. [Знакомство с данными: загрузка и первичная предобработка.](#link_1)\n",
    "2. [Предобработка данных, предварительное исследование.](#link_2)\n",
    "3. Исследовательский анализ объединённых таблиц.\n",
    "4. Итоговый вывод и рекомендации.\n",
    "__________________"
   ]
  },
  {
   "cell_type": "markdown",
   "id": "4e28d1ec-fd23-4d22-9974-92f4ceed7701",
   "metadata": {},
   "source": [
    "<a class='anchor' id=\"link_1\"></a>\n",
    "\n",
    "## 1. Знакомство с данными: загрузка и первичная предобработка.\n",
    "\n",
    "### 1.1. Вывод общей информации, исправление названия столбцов.\n",
    "\n",
    "Начнем с загрузки библиотек: pandas, numpy, matplotlib, seaborn, missingo для визуализаций. После чего выгрузим датасеты и сохраним их в переменные. "
   ]
  },
  {
   "cell_type": "code",
   "execution_count": 1,
   "id": "88bec5c6-8e91-4220-8dcf-b705b784a905",
   "metadata": {},
   "outputs": [],
   "source": [
    "# Подключаем библиотеки\n",
    "import pandas as pd\n",
    "import matplotlib.pyplot as plt\n",
    "import seaborn as sns\n",
    "import numpy as np\n",
    "!pip install missingno -q\n",
    "import missingno as msno"
   ]
  },
  {
   "cell_type": "code",
   "execution_count": 2,
   "id": "71c0509a-4853-4f6c-90e1-671372a219ee",
   "metadata": {},
   "outputs": [],
   "source": [
    "# Выгружаем основные датасеты в переменные\n",
    "df_acquisition = pd.read_csv('https://code.s3.yandex.net/datasets/acquisition.csv')\n",
    "df_company_and_rounds = pd.read_csv('https://code.s3.yandex.net/datasets/company_and_rounds.csv')\n",
    "df_education = pd.read_csv('https://code.s3.yandex.net/datasets/education.csv')\n",
    "df_people = pd.read_csv('https://code.s3.yandex.net/datasets/people.csv')\n",
    "df_degrees = pd.read_csv('https://code.s3.yandex.net/datasets/degrees.csv') \n",
    "\n",
    "# Выгрузим дополнительные датасеты\n",
    "df_fund = pd.read_csv('https://code.s3.yandex.net/datasets/fund.csv')\n",
    "df_investment = pd.read_csv('https://code.s3.yandex.net/datasets/investment.csv')"
   ]
  },
  {
   "cell_type": "markdown",
   "id": "5e60f319-f4c3-41da-ba5d-544afb4dfa1f",
   "metadata": {},
   "source": [
    "Начнем знакомство с данными датасетов. Выведем первые пять строк датафрейма `df_acquisition` с помощью метода `head()` и информацию о нем методом `info()`:"
   ]
  },
  {
   "cell_type": "code",
   "execution_count": 3,
   "id": "1d7ce59f-d476-4038-9da3-d46b0ee3b6cc",
   "metadata": {},
   "outputs": [
    {
     "data": {
      "text/html": [
       "<div>\n",
       "<style scoped>\n",
       "    .dataframe tbody tr th:only-of-type {\n",
       "        vertical-align: middle;\n",
       "    }\n",
       "\n",
       "    .dataframe tbody tr th {\n",
       "        vertical-align: top;\n",
       "    }\n",
       "\n",
       "    .dataframe thead th {\n",
       "        text-align: right;\n",
       "    }\n",
       "</style>\n",
       "<table border=\"1\" class=\"dataframe\">\n",
       "  <thead>\n",
       "    <tr style=\"text-align: right;\">\n",
       "      <th></th>\n",
       "      <th>id</th>\n",
       "      <th>acquiring_company_id</th>\n",
       "      <th>acquired_company_id</th>\n",
       "      <th>term_code</th>\n",
       "      <th>price_amount</th>\n",
       "      <th>acquired_at</th>\n",
       "    </tr>\n",
       "  </thead>\n",
       "  <tbody>\n",
       "    <tr>\n",
       "      <th>0</th>\n",
       "      <td>1</td>\n",
       "      <td>11</td>\n",
       "      <td>10</td>\n",
       "      <td>NaN</td>\n",
       "      <td>20000000</td>\n",
       "      <td>2007-05-30</td>\n",
       "    </tr>\n",
       "    <tr>\n",
       "      <th>1</th>\n",
       "      <td>7</td>\n",
       "      <td>59</td>\n",
       "      <td>72</td>\n",
       "      <td>cash</td>\n",
       "      <td>60000000</td>\n",
       "      <td>2007-07-01</td>\n",
       "    </tr>\n",
       "    <tr>\n",
       "      <th>2</th>\n",
       "      <td>8</td>\n",
       "      <td>24</td>\n",
       "      <td>132</td>\n",
       "      <td>cash</td>\n",
       "      <td>280000000</td>\n",
       "      <td>2007-05-01</td>\n",
       "    </tr>\n",
       "    <tr>\n",
       "      <th>3</th>\n",
       "      <td>9</td>\n",
       "      <td>59</td>\n",
       "      <td>155</td>\n",
       "      <td>cash</td>\n",
       "      <td>100000000</td>\n",
       "      <td>2007-06-01</td>\n",
       "    </tr>\n",
       "    <tr>\n",
       "      <th>4</th>\n",
       "      <td>10</td>\n",
       "      <td>212</td>\n",
       "      <td>215</td>\n",
       "      <td>cash</td>\n",
       "      <td>25000000</td>\n",
       "      <td>2007-07-01</td>\n",
       "    </tr>\n",
       "  </tbody>\n",
       "</table>\n",
       "</div>"
      ],
      "text/plain": [
       "   id  acquiring_company_id  acquired_company_id term_code  price_amount  \\\n",
       "0   1                    11                   10       NaN      20000000   \n",
       "1   7                    59                   72      cash      60000000   \n",
       "2   8                    24                  132      cash     280000000   \n",
       "3   9                    59                  155      cash     100000000   \n",
       "4  10                   212                  215      cash      25000000   \n",
       "\n",
       "  acquired_at  \n",
       "0  2007-05-30  \n",
       "1  2007-07-01  \n",
       "2  2007-05-01  \n",
       "3  2007-06-01  \n",
       "4  2007-07-01  "
      ]
     },
     "execution_count": 3,
     "metadata": {},
     "output_type": "execute_result"
    }
   ],
   "source": [
    "df_acquisition.head()"
   ]
  },
  {
   "cell_type": "code",
   "execution_count": 4,
   "id": "6791e96a-f731-43e8-b2cb-0f7756cb027c",
   "metadata": {},
   "outputs": [
    {
     "name": "stdout",
     "output_type": "stream",
     "text": [
      "<class 'pandas.core.frame.DataFrame'>\n",
      "RangeIndex: 9407 entries, 0 to 9406\n",
      "Data columns (total 6 columns):\n",
      " #   Column                Non-Null Count  Dtype \n",
      "---  ------                --------------  ----- \n",
      " 0   id                    9407 non-null   int64 \n",
      " 1   acquiring_company_id  9407 non-null   int64 \n",
      " 2   acquired_company_id   9407 non-null   int64 \n",
      " 3   term_code             1831 non-null   object\n",
      " 4   price_amount          9407 non-null   int64 \n",
      " 5   acquired_at           9378 non-null   object\n",
      "dtypes: int64(4), object(2)\n",
      "memory usage: 441.1+ KB\n"
     ]
    }
   ],
   "source": [
    "df_acquisition.info()"
   ]
  },
  {
   "cell_type": "markdown",
   "id": "9dd488e3-c57a-469e-be54-7db8f349f317",
   "metadata": {},
   "source": [
    "Датафрейм `df_acquisition` содержит 6 столбцов и 9407 строк, в которых содержится информация о покупках одних компаний другими. \n",
    "\n",
    "После первичного анализа можно сделать выводы:\n",
    "- Названия столбцов отображают информацию, содержащуюся в них\n",
    "- Названия столбцов приведены к единому стилю snake_case, нам не понадобится проводить корректировки\n",
    "- Столбцы `id`, `acquiring_company_id`, `acquired_company_id`, `price_amount` представлены типом `int64`, что соотвествует содержимому. Однако для оптимизации работы с данными произведем понижение размерности.\n",
    "- Столбец `term_code` представлен типом `object`. Тип данных корректен, так как информация содержит текстовые данные вариантов расчета.\n",
    "- Столбец `acquired_at` содержит информацию о дате сделки, однако хранит данные типа `object`. Это некорректно. Для возможности работы с инструментами дат приведем его к типу `datetime`.\n",
    "- Два столбца - `term_code` и `acquired_at` - содержат пропуски. И в том, и другом случае это могло стать технической ошибкой. Следует проверить другие столбцы на наличие маркеров-индикаторов.\n",
    "\n",
    "Перейдем к знакомтсву с данными датафрейма `df_company_and_rounds`:"
   ]
  },
  {
   "cell_type": "code",
   "execution_count": 5,
   "id": "6253020d-dc52-47a5-b428-c76f7bb7f904",
   "metadata": {},
   "outputs": [
    {
     "data": {
      "text/html": [
       "<div>\n",
       "<style scoped>\n",
       "    .dataframe tbody tr th:only-of-type {\n",
       "        vertical-align: middle;\n",
       "    }\n",
       "\n",
       "    .dataframe tbody tr th {\n",
       "        vertical-align: top;\n",
       "    }\n",
       "\n",
       "    .dataframe thead th {\n",
       "        text-align: right;\n",
       "    }\n",
       "</style>\n",
       "<table border=\"1\" class=\"dataframe\">\n",
       "  <thead>\n",
       "    <tr style=\"text-align: right;\">\n",
       "      <th></th>\n",
       "      <th>company  ID</th>\n",
       "      <th>name</th>\n",
       "      <th>category  code</th>\n",
       "      <th>status</th>\n",
       "      <th>founded  at</th>\n",
       "      <th>closed  at</th>\n",
       "      <th>domain</th>\n",
       "      <th>network  username</th>\n",
       "      <th>country  code</th>\n",
       "      <th>investment  rounds</th>\n",
       "      <th>...</th>\n",
       "      <th>milestones</th>\n",
       "      <th>funding  round  id</th>\n",
       "      <th>company  id</th>\n",
       "      <th>funded  at</th>\n",
       "      <th>funding  round  type</th>\n",
       "      <th>raised  amount</th>\n",
       "      <th>pre  money  valuation</th>\n",
       "      <th>participants</th>\n",
       "      <th>is  first  round</th>\n",
       "      <th>is  last  round</th>\n",
       "    </tr>\n",
       "  </thead>\n",
       "  <tbody>\n",
       "    <tr>\n",
       "      <th>0</th>\n",
       "      <td>1.0</td>\n",
       "      <td>Wetpaint</td>\n",
       "      <td>web</td>\n",
       "      <td>operating</td>\n",
       "      <td>2005-10-17</td>\n",
       "      <td>NaN</td>\n",
       "      <td>wetpaint-inc.com</td>\n",
       "      <td>BachelrWetpaint</td>\n",
       "      <td>USA</td>\n",
       "      <td>0.0</td>\n",
       "      <td>...</td>\n",
       "      <td>5.0</td>\n",
       "      <td>888.0</td>\n",
       "      <td>1.0</td>\n",
       "      <td>2005-10-01</td>\n",
       "      <td>series-a</td>\n",
       "      <td>5250000.0</td>\n",
       "      <td>0.0</td>\n",
       "      <td>2.0</td>\n",
       "      <td>0.0</td>\n",
       "      <td>1.0</td>\n",
       "    </tr>\n",
       "    <tr>\n",
       "      <th>1</th>\n",
       "      <td>1.0</td>\n",
       "      <td>Wetpaint</td>\n",
       "      <td>web</td>\n",
       "      <td>operating</td>\n",
       "      <td>2005-10-17</td>\n",
       "      <td>NaN</td>\n",
       "      <td>wetpaint-inc.com</td>\n",
       "      <td>BachelrWetpaint</td>\n",
       "      <td>USA</td>\n",
       "      <td>0.0</td>\n",
       "      <td>...</td>\n",
       "      <td>5.0</td>\n",
       "      <td>889.0</td>\n",
       "      <td>1.0</td>\n",
       "      <td>2007-01-01</td>\n",
       "      <td>series-b</td>\n",
       "      <td>9500000.0</td>\n",
       "      <td>0.0</td>\n",
       "      <td>3.0</td>\n",
       "      <td>0.0</td>\n",
       "      <td>0.0</td>\n",
       "    </tr>\n",
       "    <tr>\n",
       "      <th>2</th>\n",
       "      <td>1.0</td>\n",
       "      <td>Wetpaint</td>\n",
       "      <td>web</td>\n",
       "      <td>operating</td>\n",
       "      <td>2005-10-17</td>\n",
       "      <td>NaN</td>\n",
       "      <td>wetpaint-inc.com</td>\n",
       "      <td>BachelrWetpaint</td>\n",
       "      <td>USA</td>\n",
       "      <td>0.0</td>\n",
       "      <td>...</td>\n",
       "      <td>5.0</td>\n",
       "      <td>2312.0</td>\n",
       "      <td>1.0</td>\n",
       "      <td>2008-05-19</td>\n",
       "      <td>series-c+</td>\n",
       "      <td>25000000.0</td>\n",
       "      <td>0.0</td>\n",
       "      <td>4.0</td>\n",
       "      <td>1.0</td>\n",
       "      <td>0.0</td>\n",
       "    </tr>\n",
       "    <tr>\n",
       "      <th>3</th>\n",
       "      <td>10.0</td>\n",
       "      <td>Flektor</td>\n",
       "      <td>games_video</td>\n",
       "      <td>acquired</td>\n",
       "      <td>NaN</td>\n",
       "      <td>NaN</td>\n",
       "      <td>flektor.com</td>\n",
       "      <td>NaN</td>\n",
       "      <td>USA</td>\n",
       "      <td>0.0</td>\n",
       "      <td>...</td>\n",
       "      <td>0.0</td>\n",
       "      <td>NaN</td>\n",
       "      <td>NaN</td>\n",
       "      <td>NaN</td>\n",
       "      <td>NaN</td>\n",
       "      <td>NaN</td>\n",
       "      <td>NaN</td>\n",
       "      <td>NaN</td>\n",
       "      <td>NaN</td>\n",
       "      <td>NaN</td>\n",
       "    </tr>\n",
       "    <tr>\n",
       "      <th>4</th>\n",
       "      <td>100.0</td>\n",
       "      <td>There</td>\n",
       "      <td>games_video</td>\n",
       "      <td>acquired</td>\n",
       "      <td>NaN</td>\n",
       "      <td>NaN</td>\n",
       "      <td>there.com</td>\n",
       "      <td>NaN</td>\n",
       "      <td>USA</td>\n",
       "      <td>0.0</td>\n",
       "      <td>...</td>\n",
       "      <td>4.0</td>\n",
       "      <td>NaN</td>\n",
       "      <td>NaN</td>\n",
       "      <td>NaN</td>\n",
       "      <td>NaN</td>\n",
       "      <td>NaN</td>\n",
       "      <td>NaN</td>\n",
       "      <td>NaN</td>\n",
       "      <td>NaN</td>\n",
       "      <td>NaN</td>\n",
       "    </tr>\n",
       "  </tbody>\n",
       "</table>\n",
       "<p>5 rows × 22 columns</p>\n",
       "</div>"
      ],
      "text/plain": [
       "   company  ID      name category  code     status founded  at closed  at  \\\n",
       "0          1.0  Wetpaint            web  operating  2005-10-17        NaN   \n",
       "1          1.0  Wetpaint            web  operating  2005-10-17        NaN   \n",
       "2          1.0  Wetpaint            web  operating  2005-10-17        NaN   \n",
       "3         10.0   Flektor    games_video   acquired         NaN        NaN   \n",
       "4        100.0     There    games_video   acquired         NaN        NaN   \n",
       "\n",
       "             domain network  username country  code  investment  rounds  ...  \\\n",
       "0  wetpaint-inc.com   BachelrWetpaint           USA                 0.0  ...   \n",
       "1  wetpaint-inc.com   BachelrWetpaint           USA                 0.0  ...   \n",
       "2  wetpaint-inc.com   BachelrWetpaint           USA                 0.0  ...   \n",
       "3       flektor.com               NaN           USA                 0.0  ...   \n",
       "4         there.com               NaN           USA                 0.0  ...   \n",
       "\n",
       "   milestones  funding  round  id  company  id  funded  at  \\\n",
       "0         5.0               888.0          1.0  2005-10-01   \n",
       "1         5.0               889.0          1.0  2007-01-01   \n",
       "2         5.0              2312.0          1.0  2008-05-19   \n",
       "3         0.0                 NaN          NaN         NaN   \n",
       "4         4.0                 NaN          NaN         NaN   \n",
       "\n",
       "   funding  round  type raised  amount pre  money  valuation  participants  \\\n",
       "0              series-a      5250000.0                   0.0           2.0   \n",
       "1              series-b      9500000.0                   0.0           3.0   \n",
       "2             series-c+     25000000.0                   0.0           4.0   \n",
       "3                   NaN            NaN                   NaN           NaN   \n",
       "4                   NaN            NaN                   NaN           NaN   \n",
       "\n",
       "   is  first  round  is  last  round  \n",
       "0               0.0              1.0  \n",
       "1               0.0              0.0  \n",
       "2               1.0              0.0  \n",
       "3               NaN              NaN  \n",
       "4               NaN              NaN  \n",
       "\n",
       "[5 rows x 22 columns]"
      ]
     },
     "execution_count": 5,
     "metadata": {},
     "output_type": "execute_result"
    }
   ],
   "source": [
    "df_company_and_rounds.head()"
   ]
  },
  {
   "cell_type": "code",
   "execution_count": 6,
   "id": "f0693e28-6a56-4662-9378-79f9cc82728b",
   "metadata": {},
   "outputs": [
    {
     "name": "stdout",
     "output_type": "stream",
     "text": [
      "<class 'pandas.core.frame.DataFrame'>\n",
      "RangeIndex: 217774 entries, 0 to 217773\n",
      "Data columns (total 22 columns):\n",
      " #   Column                 Non-Null Count   Dtype  \n",
      "---  ------                 --------------   -----  \n",
      " 0   company  ID            217472 non-null  float64\n",
      " 1   name                   217472 non-null  object \n",
      " 2   category  code         143886 non-null  object \n",
      " 3   status                 217472 non-null  object \n",
      " 4   founded  at            109956 non-null  object \n",
      " 5   closed  at             3449 non-null    object \n",
      " 6   domain                 147159 non-null  object \n",
      " 7   network  username      95534 non-null   object \n",
      " 8   country  code          108607 non-null  object \n",
      " 9   investment  rounds     217472 non-null  float64\n",
      " 10  funding  rounds        217472 non-null  float64\n",
      " 11  funding  total         217472 non-null  float64\n",
      " 12  milestones             217472 non-null  float64\n",
      " 13  funding  round  id     52928 non-null   float64\n",
      " 14  company  id            52928 non-null   float64\n",
      " 15  funded  at             52680 non-null   object \n",
      " 16  funding  round  type   52928 non-null   object \n",
      " 17  raised  amount         52928 non-null   float64\n",
      " 18  pre  money  valuation  52928 non-null   float64\n",
      " 19  participants           52928 non-null   float64\n",
      " 20  is  first  round       52928 non-null   float64\n",
      " 21  is  last  round        52928 non-null   float64\n",
      "dtypes: float64(12), object(10)\n",
      "memory usage: 36.6+ MB\n"
     ]
    }
   ],
   "source": [
    "df_company_and_rounds.info()"
   ]
  },
  {
   "cell_type": "markdown",
   "id": "71a2b53a-6414-4e7b-aa24-894abf1e7d4f",
   "metadata": {},
   "source": [
    "Датафрейм `df_company_and_rounds` содержит 22 столбца и 217774 строк. В ходе первичного анализа мы выяснили, что: \n",
    "- Есть два дублирующихся столбца `company ID` и `company id`. Необходимо выяснить, причину такого явления.\n",
    "- Также в датафрейме содержатся два столбца с информацией о сумме финансирования - `funding  total` и `raised  amount`.\n",
    "- Двенадцать столбцов - `company  ID`, `investment  rounds`, `funding  rounds`, `funding  total`, `milestones`, `funding  round  id`, `company  id`, `raised  amount`, `pre  money  valuation`, `participants`, `is  first  round`, `is  last  round` - содержат информацию типа `float64`. Столбцы с информацией об id могли бы иметь тип `int`, однако в них встречаются пропуски. Для оптимизации данных понизим размерность всех столбцов с числовыми данными.\n",
    "- Столбцы `name`, `category  code`, `status`, `domain`, `network  username`, `country  code`, `funding  round  type` имеют тип `object`, что корректно для них.\n",
    "- Столбцы `founded  at`, `closed  at`, `funded  at` так же содержат информацию типа `object`, но для корректно работы с датами преобразуем эти столбцы к типу `datetime`.\n",
    "- Все столбцы содержат пропуски данных.\n",
    "- Названия столбцов неоходимо привести к единому стилю snake_case, так как сейчас в них используются пробелы.\n",
    "- Данные совпадают с заявленным описанием датасета.\n",
    "\n",
    "Приведем названия столбцов датафрейма `df_acquisition` к стилю snake case. Используя этот метод, у нас появится два столбца с одинаковым названием `company_id`, поэтому предварительно переименуем один из них."
   ]
  },
  {
   "cell_type": "code",
   "execution_count": 7,
   "id": "c78bdfe2-6fc0-4151-8663-79cfb25ab7c2",
   "metadata": {},
   "outputs": [
    {
     "data": {
      "text/plain": [
       "Index(['company_id', 'name', 'category_code', 'status', 'founded_at',\n",
       "       'closed_at', 'domain', 'network_username', 'country_code',\n",
       "       'investment_rounds', 'funding_rounds', 'funding_total', 'milestones',\n",
       "       'funding_round_id', 'company_id_2', 'funded_at', 'funding_round_type',\n",
       "       'raised_amount', 'pre_money_valuation', 'participants',\n",
       "       'is_first_round', 'is_last_round'],\n",
       "      dtype='object')"
      ]
     },
     "execution_count": 7,
     "metadata": {},
     "output_type": "execute_result"
    }
   ],
   "source": [
    "# Переименовываем один столбец \n",
    "df_company_and_rounds = df_company_and_rounds.rename(columns = {'company  id':'company  id  2'})\n",
    "# Заменяем два пробела на одно нижнее подчеркивание и преобразуем все в нижний регистр \n",
    "df_company_and_rounds.columns = df_company_and_rounds.columns.str.lower().str.replace('  ', '_')\n",
    "#Выводим на экран результат\n",
    "df_company_and_rounds.columns"
   ]
  },
  {
   "cell_type": "markdown",
   "id": "858ed845-3783-43ba-923e-3f3e5e1378b2",
   "metadata": {},
   "source": [
    "Теперь обратимся к датафрейму `df_education`: "
   ]
  },
  {
   "cell_type": "code",
   "execution_count": 8,
   "id": "8817d96c-fddd-4dc7-a1af-ac859e94c1ff",
   "metadata": {},
   "outputs": [
    {
     "data": {
      "text/html": [
       "<div>\n",
       "<style scoped>\n",
       "    .dataframe tbody tr th:only-of-type {\n",
       "        vertical-align: middle;\n",
       "    }\n",
       "\n",
       "    .dataframe tbody tr th {\n",
       "        vertical-align: top;\n",
       "    }\n",
       "\n",
       "    .dataframe thead th {\n",
       "        text-align: right;\n",
       "    }\n",
       "</style>\n",
       "<table border=\"1\" class=\"dataframe\">\n",
       "  <thead>\n",
       "    <tr style=\"text-align: right;\">\n",
       "      <th></th>\n",
       "      <th>id</th>\n",
       "      <th>person_id</th>\n",
       "      <th>instituition</th>\n",
       "      <th>graduated_at</th>\n",
       "    </tr>\n",
       "  </thead>\n",
       "  <tbody>\n",
       "    <tr>\n",
       "      <th>0</th>\n",
       "      <td>1</td>\n",
       "      <td>6117</td>\n",
       "      <td>NaN</td>\n",
       "      <td>NaN</td>\n",
       "    </tr>\n",
       "    <tr>\n",
       "      <th>1</th>\n",
       "      <td>2</td>\n",
       "      <td>6136</td>\n",
       "      <td>Washington University, St. Louis</td>\n",
       "      <td>1990-01-01</td>\n",
       "    </tr>\n",
       "    <tr>\n",
       "      <th>2</th>\n",
       "      <td>3</td>\n",
       "      <td>6136</td>\n",
       "      <td>Boston University</td>\n",
       "      <td>1992-01-01</td>\n",
       "    </tr>\n",
       "    <tr>\n",
       "      <th>3</th>\n",
       "      <td>4</td>\n",
       "      <td>6005</td>\n",
       "      <td>University of Greenwich</td>\n",
       "      <td>2006-01-01</td>\n",
       "    </tr>\n",
       "    <tr>\n",
       "      <th>4</th>\n",
       "      <td>5</td>\n",
       "      <td>5832</td>\n",
       "      <td>Rice University</td>\n",
       "      <td>NaN</td>\n",
       "    </tr>\n",
       "  </tbody>\n",
       "</table>\n",
       "</div>"
      ],
      "text/plain": [
       "   id  person_id                      instituition graduated_at\n",
       "0   1       6117                               NaN          NaN\n",
       "1   2       6136  Washington University, St. Louis   1990-01-01\n",
       "2   3       6136                 Boston University   1992-01-01\n",
       "3   4       6005           University of Greenwich   2006-01-01\n",
       "4   5       5832                   Rice University          NaN"
      ]
     },
     "execution_count": 8,
     "metadata": {},
     "output_type": "execute_result"
    }
   ],
   "source": [
    "df_education.head()"
   ]
  },
  {
   "cell_type": "code",
   "execution_count": 9,
   "id": "6c8577ca-e426-486f-86e0-5edc8ff78666",
   "metadata": {},
   "outputs": [
    {
     "name": "stdout",
     "output_type": "stream",
     "text": [
      "<class 'pandas.core.frame.DataFrame'>\n",
      "RangeIndex: 109610 entries, 0 to 109609\n",
      "Data columns (total 4 columns):\n",
      " #   Column        Non-Null Count   Dtype \n",
      "---  ------        --------------   ----- \n",
      " 0   id            109610 non-null  int64 \n",
      " 1   person_id     109610 non-null  int64 \n",
      " 2   instituition  109555 non-null  object\n",
      " 3   graduated_at  58054 non-null   object\n",
      "dtypes: int64(2), object(2)\n",
      "memory usage: 3.3+ MB\n"
     ]
    }
   ],
   "source": [
    "df_education.info()"
   ]
  },
  {
   "cell_type": "markdown",
   "id": "51bd9197-b168-44e1-bc6c-77f51fecbbbc",
   "metadata": {},
   "source": [
    "Датафрейм `df_education` содержит 4 столбца и 109610 строк. Можно отметить, что:\n",
    "- Названия столбцов приведены к стилю snake case, что будет удобно для последующей обработке данных.\n",
    "- Столбцы `id`, `person_id` не имеют пропусков и представлены в типе данных `int64`, что правильно. Для оптимизации понизим размерность.\n",
    "- Столбцы `instituition` содержит информацию типа `object`. Также в нем есть пропущенные значения. Это, может быть, как технической ошибкой, так и следствием отсутсвия образования у сотрудников компаний.\n",
    "- Столбец `graduated_at` содержит пропуски. Аналогично их причиной может быть отсутствие образования или техническая ошибка, а так же незавершенность процесса обучения. Тип данных `object` необходимо поменять на временной формат, так как столбец содержит дату получения образования.\n",
    "\n",
    "Приступим к первичной предобработке датафрейма `df_people`:"
   ]
  },
  {
   "cell_type": "code",
   "execution_count": 10,
   "id": "c8b340d2-aa31-4b0b-988b-5486c7d6dd43",
   "metadata": {},
   "outputs": [
    {
     "data": {
      "text/html": [
       "<div>\n",
       "<style scoped>\n",
       "    .dataframe tbody tr th:only-of-type {\n",
       "        vertical-align: middle;\n",
       "    }\n",
       "\n",
       "    .dataframe tbody tr th {\n",
       "        vertical-align: top;\n",
       "    }\n",
       "\n",
       "    .dataframe thead th {\n",
       "        text-align: right;\n",
       "    }\n",
       "</style>\n",
       "<table border=\"1\" class=\"dataframe\">\n",
       "  <thead>\n",
       "    <tr style=\"text-align: right;\">\n",
       "      <th></th>\n",
       "      <th>id</th>\n",
       "      <th>first_name</th>\n",
       "      <th>last_name</th>\n",
       "      <th>company_id</th>\n",
       "      <th>network_username</th>\n",
       "    </tr>\n",
       "  </thead>\n",
       "  <tbody>\n",
       "    <tr>\n",
       "      <th>0</th>\n",
       "      <td>10</td>\n",
       "      <td>Mark</td>\n",
       "      <td>Zuckerberg</td>\n",
       "      <td>5.0</td>\n",
       "      <td>NaN</td>\n",
       "    </tr>\n",
       "    <tr>\n",
       "      <th>1</th>\n",
       "      <td>100</td>\n",
       "      <td>Peter</td>\n",
       "      <td>Lester</td>\n",
       "      <td>27.0</td>\n",
       "      <td>NaN</td>\n",
       "    </tr>\n",
       "    <tr>\n",
       "      <th>2</th>\n",
       "      <td>1000</td>\n",
       "      <td>Dr. Steven</td>\n",
       "      <td>E. Saunders</td>\n",
       "      <td>292.0</td>\n",
       "      <td>NaN</td>\n",
       "    </tr>\n",
       "    <tr>\n",
       "      <th>3</th>\n",
       "      <td>10000</td>\n",
       "      <td>Neil</td>\n",
       "      <td>Capel</td>\n",
       "      <td>2526.0</td>\n",
       "      <td>NaN</td>\n",
       "    </tr>\n",
       "    <tr>\n",
       "      <th>4</th>\n",
       "      <td>100000</td>\n",
       "      <td>Sue</td>\n",
       "      <td>Pilsch</td>\n",
       "      <td>NaN</td>\n",
       "      <td>NaN</td>\n",
       "    </tr>\n",
       "  </tbody>\n",
       "</table>\n",
       "</div>"
      ],
      "text/plain": [
       "       id  first_name    last_name  company_id network_username\n",
       "0      10        Mark   Zuckerberg         5.0              NaN\n",
       "1     100       Peter       Lester        27.0              NaN\n",
       "2    1000  Dr. Steven  E. Saunders       292.0              NaN\n",
       "3   10000        Neil        Capel      2526.0              NaN\n",
       "4  100000         Sue       Pilsch         NaN              NaN"
      ]
     },
     "execution_count": 10,
     "metadata": {},
     "output_type": "execute_result"
    }
   ],
   "source": [
    "df_people.head()"
   ]
  },
  {
   "cell_type": "code",
   "execution_count": 11,
   "id": "9497e3c6-eb92-4fb0-9026-e9071758e774",
   "metadata": {},
   "outputs": [
    {
     "name": "stdout",
     "output_type": "stream",
     "text": [
      "<class 'pandas.core.frame.DataFrame'>\n",
      "RangeIndex: 226709 entries, 0 to 226708\n",
      "Data columns (total 5 columns):\n",
      " #   Column            Non-Null Count   Dtype  \n",
      "---  ------            --------------   -----  \n",
      " 0   id                226709 non-null  int64  \n",
      " 1   first_name        226704 non-null  object \n",
      " 2   last_name         226708 non-null  object \n",
      " 3   company_id        34615 non-null   float64\n",
      " 4   network_username  38867 non-null   object \n",
      "dtypes: float64(1), int64(1), object(3)\n",
      "memory usage: 8.6+ MB\n"
     ]
    }
   ],
   "source": [
    "df_people.info()"
   ]
  },
  {
   "cell_type": "markdown",
   "id": "86080d92-fec2-4c7b-b5f3-3d568a035dfb",
   "metadata": {},
   "source": [
    "Датафрейм `df_people` состоит из 5 столбцов и 226709 строк. В нем присутствуют данные разных типов:\n",
    "- Столбец `id` представлен типом `int64`, что верно. Однако для удобства понизим размерность.\n",
    "- Столбец `company_id` содержит информацию типа `float64`. Из-за наличия в нем пропусков, которые могли быть вызваны технической ошибкой или увольнением работника из компании, он не имеет тип `int`, хотя там представлены целочисленные данные.\n",
    "- Остальные столбцы, а именно `first_name`, `last_name` и `network_username`, содержат строковую информацию `object`.\n",
    "  \n",
    "Также стоит отметить, что:\n",
    "- Названия столбцов корректны и приведены к стилю snake case.\n",
    "- Все столбцы, кроме `id` содержат пропуски данных. Пропуски в `first_name` и `last_name` могут быть следствием технических сбоев, а отсутствие информации в `network_username` могут объясняться той же причиной или же отсутсвием социальных сетей у работников компании.\n",
    "\n",
    "Теперь перейдем к изучению датафрейма `df_degrees`:\n"
   ]
  },
  {
   "cell_type": "code",
   "execution_count": 12,
   "id": "f02166cc-4bf4-40e3-a7e7-755800c0ea16",
   "metadata": {},
   "outputs": [
    {
     "data": {
      "text/html": [
       "<div>\n",
       "<style scoped>\n",
       "    .dataframe tbody tr th:only-of-type {\n",
       "        vertical-align: middle;\n",
       "    }\n",
       "\n",
       "    .dataframe tbody tr th {\n",
       "        vertical-align: top;\n",
       "    }\n",
       "\n",
       "    .dataframe thead th {\n",
       "        text-align: right;\n",
       "    }\n",
       "</style>\n",
       "<table border=\"1\" class=\"dataframe\">\n",
       "  <thead>\n",
       "    <tr style=\"text-align: right;\">\n",
       "      <th></th>\n",
       "      <th>id</th>\n",
       "      <th>object_id</th>\n",
       "      <th>degree_type</th>\n",
       "      <th>subject</th>\n",
       "    </tr>\n",
       "  </thead>\n",
       "  <tbody>\n",
       "    <tr>\n",
       "      <th>0</th>\n",
       "      <td>1</td>\n",
       "      <td>p:6117</td>\n",
       "      <td>MBA</td>\n",
       "      <td>NaN</td>\n",
       "    </tr>\n",
       "    <tr>\n",
       "      <th>1</th>\n",
       "      <td>2</td>\n",
       "      <td>p:6136</td>\n",
       "      <td>BA</td>\n",
       "      <td>English, French</td>\n",
       "    </tr>\n",
       "    <tr>\n",
       "      <th>2</th>\n",
       "      <td>3</td>\n",
       "      <td>p:6136</td>\n",
       "      <td>MS</td>\n",
       "      <td>Mass Communication</td>\n",
       "    </tr>\n",
       "    <tr>\n",
       "      <th>3</th>\n",
       "      <td>4</td>\n",
       "      <td>p:6005</td>\n",
       "      <td>MS</td>\n",
       "      <td>Internet Technology</td>\n",
       "    </tr>\n",
       "    <tr>\n",
       "      <th>4</th>\n",
       "      <td>5</td>\n",
       "      <td>p:5832</td>\n",
       "      <td>BCS</td>\n",
       "      <td>Computer Science, Psychology</td>\n",
       "    </tr>\n",
       "  </tbody>\n",
       "</table>\n",
       "</div>"
      ],
      "text/plain": [
       "   id object_id degree_type                       subject\n",
       "0   1    p:6117         MBA                           NaN\n",
       "1   2    p:6136          BA               English, French\n",
       "2   3    p:6136          MS            Mass Communication\n",
       "3   4    p:6005          MS           Internet Technology\n",
       "4   5    p:5832         BCS  Computer Science, Psychology"
      ]
     },
     "execution_count": 12,
     "metadata": {},
     "output_type": "execute_result"
    }
   ],
   "source": [
    "df_degrees.head()"
   ]
  },
  {
   "cell_type": "code",
   "execution_count": 13,
   "id": "286f99f2-fc54-4930-90ec-f1e5d484333b",
   "metadata": {},
   "outputs": [
    {
     "name": "stdout",
     "output_type": "stream",
     "text": [
      "<class 'pandas.core.frame.DataFrame'>\n",
      "RangeIndex: 109610 entries, 0 to 109609\n",
      "Data columns (total 4 columns):\n",
      " #   Column       Non-Null Count   Dtype \n",
      "---  ------       --------------   ----- \n",
      " 0   id           109610 non-null  int64 \n",
      " 1   object_id    109610 non-null  object\n",
      " 2   degree_type  98392 non-null   object\n",
      " 3   subject      81298 non-null   object\n",
      "dtypes: int64(1), object(3)\n",
      "memory usage: 3.3+ MB\n"
     ]
    }
   ],
   "source": [
    "df_degrees.info()"
   ]
  },
  {
   "cell_type": "markdown",
   "id": "dd8c0157-07b9-4b86-b64c-0887968025da",
   "metadata": {},
   "source": [
    "Датафрейм содержит 4 столбца и 109610 строк с информацией о типе образования сотрудников. Отметим, что:\n",
    "- Столбец `id` - единственный, хранящий информацию типа `int64` столбец. Формат данных выбран корректно, однако проведем его оптимизацию.\n",
    "- Столбцы `object_id`, `degree_type`, `subject` хранят информацию типа `object`.\n",
    "- Столбцы `degree_type`, `subject` содержат пропуски, причиной которых могут быть технические сбои или отсутсвие образования о сотрудников.\n",
    "- Важно, что формат записи id сотрудника в этом датафрейме не совпадает с записями в `df_people`. Стоит учесть это различие при последующей обработке.\n",
    "\n",
    "Обратимся к датафрейму `df_fund`."
   ]
  },
  {
   "cell_type": "code",
   "execution_count": 14,
   "id": "a060759d-5ee9-4610-b14b-98d6a7dfc753",
   "metadata": {},
   "outputs": [
    {
     "data": {
      "text/html": [
       "<div>\n",
       "<style scoped>\n",
       "    .dataframe tbody tr th:only-of-type {\n",
       "        vertical-align: middle;\n",
       "    }\n",
       "\n",
       "    .dataframe tbody tr th {\n",
       "        vertical-align: top;\n",
       "    }\n",
       "\n",
       "    .dataframe thead th {\n",
       "        text-align: right;\n",
       "    }\n",
       "</style>\n",
       "<table border=\"1\" class=\"dataframe\">\n",
       "  <thead>\n",
       "    <tr style=\"text-align: right;\">\n",
       "      <th></th>\n",
       "      <th>id</th>\n",
       "      <th>name</th>\n",
       "      <th>founded_at</th>\n",
       "      <th>domain</th>\n",
       "      <th>network_username</th>\n",
       "      <th>country_code</th>\n",
       "      <th>investment_rounds</th>\n",
       "      <th>invested_companies</th>\n",
       "      <th>milestones</th>\n",
       "    </tr>\n",
       "  </thead>\n",
       "  <tbody>\n",
       "    <tr>\n",
       "      <th>0</th>\n",
       "      <td>13131</td>\n",
       "      <td>NaN</td>\n",
       "      <td>NaN</td>\n",
       "      <td>NaN</td>\n",
       "      <td>NaN</td>\n",
       "      <td>NaN</td>\n",
       "      <td>0</td>\n",
       "      <td>0</td>\n",
       "      <td>0</td>\n",
       "    </tr>\n",
       "    <tr>\n",
       "      <th>1</th>\n",
       "      <td>1</td>\n",
       "      <td>Greylock Partners</td>\n",
       "      <td>1965-01-01</td>\n",
       "      <td>greylock.com</td>\n",
       "      <td>greylockvc</td>\n",
       "      <td>USA</td>\n",
       "      <td>307</td>\n",
       "      <td>196</td>\n",
       "      <td>0</td>\n",
       "    </tr>\n",
       "    <tr>\n",
       "      <th>2</th>\n",
       "      <td>10</td>\n",
       "      <td>Mission Ventures</td>\n",
       "      <td>1996-01-01</td>\n",
       "      <td>missionventures.com</td>\n",
       "      <td>NaN</td>\n",
       "      <td>USA</td>\n",
       "      <td>58</td>\n",
       "      <td>33</td>\n",
       "      <td>0</td>\n",
       "    </tr>\n",
       "    <tr>\n",
       "      <th>3</th>\n",
       "      <td>100</td>\n",
       "      <td>Kapor Enterprises, Inc.</td>\n",
       "      <td>NaN</td>\n",
       "      <td>kei.com</td>\n",
       "      <td>NaN</td>\n",
       "      <td>USA</td>\n",
       "      <td>2</td>\n",
       "      <td>1</td>\n",
       "      <td>0</td>\n",
       "    </tr>\n",
       "    <tr>\n",
       "      <th>4</th>\n",
       "      <td>1000</td>\n",
       "      <td>Speed Ventures</td>\n",
       "      <td>NaN</td>\n",
       "      <td>NaN</td>\n",
       "      <td>NaN</td>\n",
       "      <td>NaN</td>\n",
       "      <td>0</td>\n",
       "      <td>0</td>\n",
       "      <td>1</td>\n",
       "    </tr>\n",
       "  </tbody>\n",
       "</table>\n",
       "</div>"
      ],
      "text/plain": [
       "      id                     name  founded_at               domain  \\\n",
       "0  13131                      NaN         NaN                  NaN   \n",
       "1      1        Greylock Partners  1965-01-01         greylock.com   \n",
       "2     10         Mission Ventures  1996-01-01  missionventures.com   \n",
       "3    100  Kapor Enterprises, Inc.         NaN              kei.com   \n",
       "4   1000           Speed Ventures         NaN                  NaN   \n",
       "\n",
       "  network_username country_code  investment_rounds  invested_companies  \\\n",
       "0              NaN          NaN                  0                   0   \n",
       "1       greylockvc          USA                307                 196   \n",
       "2              NaN          USA                 58                  33   \n",
       "3              NaN          USA                  2                   1   \n",
       "4              NaN          NaN                  0                   0   \n",
       "\n",
       "   milestones  \n",
       "0           0  \n",
       "1           0  \n",
       "2           0  \n",
       "3           0  \n",
       "4           1  "
      ]
     },
     "execution_count": 14,
     "metadata": {},
     "output_type": "execute_result"
    }
   ],
   "source": [
    "df_fund.head()"
   ]
  },
  {
   "cell_type": "code",
   "execution_count": 15,
   "id": "e75c8ace-ef6e-4b14-b49a-ca6a2a5a89db",
   "metadata": {},
   "outputs": [
    {
     "name": "stdout",
     "output_type": "stream",
     "text": [
      "<class 'pandas.core.frame.DataFrame'>\n",
      "RangeIndex: 11652 entries, 0 to 11651\n",
      "Data columns (total 9 columns):\n",
      " #   Column              Non-Null Count  Dtype \n",
      "---  ------              --------------  ----- \n",
      " 0   id                  11652 non-null  int64 \n",
      " 1   name                11650 non-null  object\n",
      " 2   founded_at          4605 non-null   object\n",
      " 3   domain              7362 non-null   object\n",
      " 4   network_username    2149 non-null   object\n",
      " 5   country_code        7053 non-null   object\n",
      " 6   investment_rounds   11652 non-null  int64 \n",
      " 7   invested_companies  11652 non-null  int64 \n",
      " 8   milestones          11652 non-null  int64 \n",
      "dtypes: int64(4), object(5)\n",
      "memory usage: 819.4+ KB\n"
     ]
    }
   ],
   "source": [
    "df_fund.info()"
   ]
  },
  {
   "cell_type": "markdown",
   "id": "a25f2d13-b37f-491c-ac74-853721997375",
   "metadata": {},
   "source": [
    "Датафрейм состоит из 9 столбцов и 11652 строк. \n",
    "- Названия столбцов корректны и отображают содержимое. \n",
    "- Столбцы `id`, `investment_rounds`, `invested_companies`, `milestones` имеют тип данных `int64`, что корректно для числовых данных. Однако мы проведем оптимизацию этих столбцов для понижения размерности.\n",
    "- Столбцы `name`, `category_code`, `domain`, `network_username`, `country_code` представлены типом `object`.\n",
    "- Столбец `founded_at` нужно привести к формату даты `datetime`.\n",
    "- Отсутствует стоолбец `category_code` — категория области деятельности компании, заявленный в описании.\n",
    "\n",
    "Продолжим изучение дополнительных датафреймов. На этот раз обратим внимание на `df_investment`:"
   ]
  },
  {
   "cell_type": "code",
   "execution_count": 16,
   "id": "fadd572e-83a7-472d-834b-8583f5bcf61d",
   "metadata": {},
   "outputs": [
    {
     "data": {
      "text/html": [
       "<div>\n",
       "<style scoped>\n",
       "    .dataframe tbody tr th:only-of-type {\n",
       "        vertical-align: middle;\n",
       "    }\n",
       "\n",
       "    .dataframe tbody tr th {\n",
       "        vertical-align: top;\n",
       "    }\n",
       "\n",
       "    .dataframe thead th {\n",
       "        text-align: right;\n",
       "    }\n",
       "</style>\n",
       "<table border=\"1\" class=\"dataframe\">\n",
       "  <thead>\n",
       "    <tr style=\"text-align: right;\">\n",
       "      <th></th>\n",
       "      <th>id</th>\n",
       "      <th>funding_round_id</th>\n",
       "      <th>company_id</th>\n",
       "      <th>fund_id</th>\n",
       "    </tr>\n",
       "  </thead>\n",
       "  <tbody>\n",
       "    <tr>\n",
       "      <th>0</th>\n",
       "      <td>1</td>\n",
       "      <td>1</td>\n",
       "      <td>4</td>\n",
       "      <td>1</td>\n",
       "    </tr>\n",
       "    <tr>\n",
       "      <th>1</th>\n",
       "      <td>2</td>\n",
       "      <td>1</td>\n",
       "      <td>4</td>\n",
       "      <td>2</td>\n",
       "    </tr>\n",
       "    <tr>\n",
       "      <th>2</th>\n",
       "      <td>3</td>\n",
       "      <td>3</td>\n",
       "      <td>5</td>\n",
       "      <td>4</td>\n",
       "    </tr>\n",
       "    <tr>\n",
       "      <th>3</th>\n",
       "      <td>4</td>\n",
       "      <td>4</td>\n",
       "      <td>5</td>\n",
       "      <td>1</td>\n",
       "    </tr>\n",
       "    <tr>\n",
       "      <th>4</th>\n",
       "      <td>5</td>\n",
       "      <td>4</td>\n",
       "      <td>5</td>\n",
       "      <td>5</td>\n",
       "    </tr>\n",
       "  </tbody>\n",
       "</table>\n",
       "</div>"
      ],
      "text/plain": [
       "   id  funding_round_id  company_id  fund_id\n",
       "0   1                 1           4        1\n",
       "1   2                 1           4        2\n",
       "2   3                 3           5        4\n",
       "3   4                 4           5        1\n",
       "4   5                 4           5        5"
      ]
     },
     "execution_count": 16,
     "metadata": {},
     "output_type": "execute_result"
    }
   ],
   "source": [
    "df_investment.head()"
   ]
  },
  {
   "cell_type": "code",
   "execution_count": 17,
   "id": "13c9ea6f-32c7-4bf7-b13a-b7095c8d3b99",
   "metadata": {},
   "outputs": [
    {
     "name": "stdout",
     "output_type": "stream",
     "text": [
      "<class 'pandas.core.frame.DataFrame'>\n",
      "RangeIndex: 61403 entries, 0 to 61402\n",
      "Data columns (total 4 columns):\n",
      " #   Column            Non-Null Count  Dtype\n",
      "---  ------            --------------  -----\n",
      " 0   id                61403 non-null  int64\n",
      " 1   funding_round_id  61403 non-null  int64\n",
      " 2   company_id        61403 non-null  int64\n",
      " 3   fund_id           61403 non-null  int64\n",
      "dtypes: int64(4)\n",
      "memory usage: 1.9 MB\n"
     ]
    }
   ],
   "source": [
    "df_investment.info()"
   ]
  },
  {
   "cell_type": "markdown",
   "id": "dd99c73d-ee8e-4e47-8922-e979a3a289e8",
   "metadata": {},
   "source": [
    "Датафрейм состоит из 4 столбцов и 61403 строк. Названия столбцов приведены к стилю snake_case и соответствуют описанию. Все столбцы корректно представлены типом `int64`. Понизим из размерность для оптимизации. "
   ]
  },
  {
   "cell_type": "markdown",
   "id": "ec87b989-6004-4ee0-9b1f-b4e87cb5f2f5",
   "metadata": {},
   "source": [
    "### 1.2. Смена типов и анализ пропусков\n",
    "\n",
    "Для начала оптимизируем числовые типы данных всех датафреймов с помощью функции:\n"
   ]
  },
  {
   "cell_type": "code",
   "execution_count": 18,
   "id": "be68db04-b03f-4a55-9ced-a7deb71edee2",
   "metadata": {},
   "outputs": [],
   "source": [
    "# Оптимизация числовых типов данных\n",
    "def optimize_memory_usage(df: pd.DataFrame, print_size: bool=True) -> pd.DataFrame:\n",
    "        '''\n",
    "        Function optimizes memory usage in dataframe\n",
    "        df: pd.DataFrame - data table\n",
    "        print_size: bool - display of optimization results\n",
    "        return pd.DataFrame - amount of optimized memory\n",
    "        '''\n",
    "        numerics = ['int16', 'int32', 'int64', 'float16', 'float32', 'float64'] # Типы, которые будем проверять на оптимизацию\n",
    "        # Размер занимаемой памяти до оптимизации (в Мб)\n",
    "        before_size = df.memory_usage().sum() / 1024**2    \n",
    "        for column in df.columns:\n",
    "            column_type = df[column].dtypes\n",
    "            if column_type in numerics:\n",
    "                column_min = df[column].min()\n",
    "                column_max = df[column].max()\n",
    "                if str(column_type).startswith('int'):\n",
    "                    if column_min > np.iinfo(np.int8).min and column_max < np.iinfo(np.int8).max:\n",
    "                        df[column] = df[column].astype(np.int8)\n",
    "                    elif column_min > np.iinfo(np.int16).min and column_max < np.iinfo(np.int16).max:\n",
    "                        df[column] = df[column].astype(np.int16)\n",
    "                    elif column_min > np.iinfo(np.int32).min and column_max < np.iinfo(np.int32).max:\n",
    "                        df[column] = df[column].astype(np.int32)\n",
    "                    elif column_min > np.iinfo(np.int64).min and column_max < np.iinfo(np.int64).max:\n",
    "                        df[column] = df[column].astype(np.int64)  \n",
    "                else:\n",
    "                    if column_min > np.finfo(np.float32).min and column_max < np.finfo(np.float32).max:\n",
    "                        df[column] = df[column].astype(np.float32)\n",
    "                    else:\n",
    "                        df[column] = df[column].astype(np.float64)    \n",
    "        # Размер занимаемой памяти после оптимизации (в Мб)\n",
    "        after_size = df.memory_usage().sum() / 1024**2\n",
    "        if print_size: print('Размер использования памяти: до {:5.2f} Mb - после {:5.2f} Mb ({:.1f}%)'\n",
    "                             .format(before_size, after_size, 100 * (before_size - after_size) / before_size))\n",
    "        return df"
   ]
  },
  {
   "cell_type": "code",
   "execution_count": 19,
   "id": "468358b1-1522-4157-a9d1-28f93e423d88",
   "metadata": {},
   "outputs": [
    {
     "name": "stdout",
     "output_type": "stream",
     "text": [
      "Размер использования памяти: до  0.43 Mb - после  0.31 Mb (29.2%)\n",
      "Размер использования памяти: до 36.55 Mb - после 26.58 Mb (27.3%)\n",
      "Размер использования памяти: до  3.35 Mb - после  2.51 Mb (25.0%)\n",
      "Размер использования памяти: до  8.65 Mb - после  6.92 Mb (20.0%)\n",
      "Размер использования памяти: до  3.35 Mb - после  2.93 Mb (12.5%)\n",
      "Размер использования памяти: до  0.80 Mb - после  0.52 Mb (34.7%)\n",
      "Размер использования памяти: до  1.87 Mb - после  0.82 Mb (56.2%)\n"
     ]
    },
    {
     "data": {
      "text/html": [
       "<div>\n",
       "<style scoped>\n",
       "    .dataframe tbody tr th:only-of-type {\n",
       "        vertical-align: middle;\n",
       "    }\n",
       "\n",
       "    .dataframe tbody tr th {\n",
       "        vertical-align: top;\n",
       "    }\n",
       "\n",
       "    .dataframe thead th {\n",
       "        text-align: right;\n",
       "    }\n",
       "</style>\n",
       "<table border=\"1\" class=\"dataframe\">\n",
       "  <thead>\n",
       "    <tr style=\"text-align: right;\">\n",
       "      <th></th>\n",
       "      <th>id</th>\n",
       "      <th>funding_round_id</th>\n",
       "      <th>company_id</th>\n",
       "      <th>fund_id</th>\n",
       "    </tr>\n",
       "  </thead>\n",
       "  <tbody>\n",
       "    <tr>\n",
       "      <th>0</th>\n",
       "      <td>1</td>\n",
       "      <td>1</td>\n",
       "      <td>4</td>\n",
       "      <td>1</td>\n",
       "    </tr>\n",
       "    <tr>\n",
       "      <th>1</th>\n",
       "      <td>2</td>\n",
       "      <td>1</td>\n",
       "      <td>4</td>\n",
       "      <td>2</td>\n",
       "    </tr>\n",
       "    <tr>\n",
       "      <th>2</th>\n",
       "      <td>3</td>\n",
       "      <td>3</td>\n",
       "      <td>5</td>\n",
       "      <td>4</td>\n",
       "    </tr>\n",
       "    <tr>\n",
       "      <th>3</th>\n",
       "      <td>4</td>\n",
       "      <td>4</td>\n",
       "      <td>5</td>\n",
       "      <td>1</td>\n",
       "    </tr>\n",
       "    <tr>\n",
       "      <th>4</th>\n",
       "      <td>5</td>\n",
       "      <td>4</td>\n",
       "      <td>5</td>\n",
       "      <td>5</td>\n",
       "    </tr>\n",
       "    <tr>\n",
       "      <th>...</th>\n",
       "      <td>...</td>\n",
       "      <td>...</td>\n",
       "      <td>...</td>\n",
       "      <td>...</td>\n",
       "    </tr>\n",
       "    <tr>\n",
       "      <th>61398</th>\n",
       "      <td>61399</td>\n",
       "      <td>57926</td>\n",
       "      <td>15847</td>\n",
       "      <td>173</td>\n",
       "    </tr>\n",
       "    <tr>\n",
       "      <th>61399</th>\n",
       "      <td>61400</td>\n",
       "      <td>57926</td>\n",
       "      <td>15847</td>\n",
       "      <td>1290</td>\n",
       "    </tr>\n",
       "    <tr>\n",
       "      <th>61400</th>\n",
       "      <td>61401</td>\n",
       "      <td>57926</td>\n",
       "      <td>15847</td>\n",
       "      <td>73</td>\n",
       "    </tr>\n",
       "    <tr>\n",
       "      <th>61401</th>\n",
       "      <td>61402</td>\n",
       "      <td>57942</td>\n",
       "      <td>70841</td>\n",
       "      <td>15098</td>\n",
       "    </tr>\n",
       "    <tr>\n",
       "      <th>61402</th>\n",
       "      <td>61403</td>\n",
       "      <td>57948</td>\n",
       "      <td>211890</td>\n",
       "      <td>2101</td>\n",
       "    </tr>\n",
       "  </tbody>\n",
       "</table>\n",
       "<p>61403 rows × 4 columns</p>\n",
       "</div>"
      ],
      "text/plain": [
       "          id  funding_round_id  company_id  fund_id\n",
       "0          1                 1           4        1\n",
       "1          2                 1           4        2\n",
       "2          3                 3           5        4\n",
       "3          4                 4           5        1\n",
       "4          5                 4           5        5\n",
       "...      ...               ...         ...      ...\n",
       "61398  61399             57926       15847      173\n",
       "61399  61400             57926       15847     1290\n",
       "61400  61401             57926       15847       73\n",
       "61401  61402             57942       70841    15098\n",
       "61402  61403             57948      211890     2101\n",
       "\n",
       "[61403 rows x 4 columns]"
      ]
     },
     "execution_count": 19,
     "metadata": {},
     "output_type": "execute_result"
    }
   ],
   "source": [
    "optimize_memory_usage(df_acquisition)\n",
    "optimize_memory_usage(df_company_and_rounds)\n",
    "optimize_memory_usage(df_education)\n",
    "optimize_memory_usage(df_people)\n",
    "optimize_memory_usage(df_degrees)\n",
    "optimize_memory_usage(df_fund)\n",
    "optimize_memory_usage(df_investment)"
   ]
  },
  {
   "cell_type": "markdown",
   "id": "d73fe857-7813-4ef5-a7db-3bd6fc31c4e3",
   "metadata": {},
   "source": [
    "Мы оптимизировали использованием памяти компьютера. Теперь перейдем к преобразованию данных в формат `datetime`."
   ]
  },
  {
   "cell_type": "code",
   "execution_count": 20,
   "id": "306972b3-ce79-4869-8d73-67029c7aa37e",
   "metadata": {},
   "outputs": [],
   "source": [
    "# Проведем изменение типа данных столбца 'acquired_at' первого датафрейма\n",
    "df_acquisition['acquired_at'] = pd.to_datetime(df_acquisition['acquired_at'])\n",
    "# Для второго датафрейма напишем цикл, который преобразует нужные столбцы к формату 'datetime'\n",
    "for column in ['founded_at', 'closed_at', 'funded_at']:\n",
    "    df_company_and_rounds[column] = pd.to_datetime(df_company_and_rounds[column])\n",
    "# В третьем датафрейме преобразуем во временной формат столбец 'graduated_at'\n",
    "df_education['graduated_at'] = pd.to_datetime(df_education['graduated_at'])\n",
    "# В датафрейме df_fund преобразуем во временной формат столбец 'founded_at'\n",
    "df_fund['founded_at'] = pd.to_datetime(df_fund['founded_at'])"
   ]
  },
  {
   "cell_type": "markdown",
   "id": "0d460b1a-7972-4acc-9375-055b4a33fcdc",
   "metadata": {},
   "source": [
    "Теперь все столбцы датафреймов имеют корректные типы данных. "
   ]
  },
  {
   "cell_type": "code",
   "execution_count": 21,
   "id": "ae006b96-be1b-4641-99d7-8a18f6510b6e",
   "metadata": {},
   "outputs": [
    {
     "data": {
      "text/plain": [
       "'Количество пропусков в датафрейме df_acquisition'"
      ]
     },
     "metadata": {},
     "output_type": "display_data"
    },
    {
     "data": {
      "text/plain": [
       "id                         0\n",
       "acquiring_company_id       0\n",
       "acquired_company_id        0\n",
       "term_code               7576\n",
       "price_amount               0\n",
       "acquired_at               29\n",
       "dtype: int64"
      ]
     },
     "execution_count": 21,
     "metadata": {},
     "output_type": "execute_result"
    }
   ],
   "source": [
    "display('Количество пропусков в датафрейме df_acquisition')\n",
    "df_acquisition.isna().sum()"
   ]
  },
  {
   "cell_type": "code",
   "execution_count": 22,
   "id": "19a6fab8-8697-4b67-b73a-fc2195a0d49f",
   "metadata": {},
   "outputs": [
    {
     "data": {
      "text/plain": [
       "'Доля пропусков в датафрейме df_acquisition'"
      ]
     },
     "metadata": {},
     "output_type": "display_data"
    },
    {
     "data": {
      "text/plain": [
       "id                      0.000000\n",
       "acquiring_company_id    0.000000\n",
       "acquired_company_id     0.000000\n",
       "term_code               0.805358\n",
       "price_amount            0.000000\n",
       "acquired_at             0.003083\n",
       "dtype: float64"
      ]
     },
     "execution_count": 22,
     "metadata": {},
     "output_type": "execute_result"
    }
   ],
   "source": [
    "display('Доля пропусков в датафрейме df_acquisition')\n",
    "df_acquisition.isna().sum() / df_acquisition.shape[0]"
   ]
  },
  {
   "cell_type": "markdown",
   "id": "bcfac339-c4b8-4fdc-8a1d-c9dd522dac94",
   "metadata": {},
   "source": [
    "Анализируя пропуски в датафрейме `df_acquisition`, заметим, что в столбце `term_code` 80,5% строк составляют пропуски. В данном столбце хранится информация о вариантах расчета при покупке одной компании другой. Можно предположить, что такое количество пустых строк связано с деланием сохранить конфиденциальность данных о финансовых операциях. Другой вариант - это техническая ошибка. В дальнейшем мы можем заменить пустые значения на 'заглушки' или же не трогать их вовсе, так как данный столбец не понадобится нам для исследования. \n",
    "\n",
    "В столбце `acquired_at` содержится 0.31% пустых строк. Причиной этому могут быть технические ошибки. Например, при проведении безналичной операции произошел сбой и дата не записалась. Также это может быть связано с политикой конфиденциальности компаний. При необходимости поставим 'заглушку' на пропуски этого столбца или удалим пустые строки. "
   ]
  },
  {
   "cell_type": "code",
   "execution_count": 23,
   "id": "7ec9be32-1013-48bd-bb84-209369b2ba1f",
   "metadata": {},
   "outputs": [
    {
     "data": {
      "text/plain": [
       "'Количество пропусков в датафрейме df_company_and_rounds'"
      ]
     },
     "metadata": {},
     "output_type": "display_data"
    },
    {
     "data": {
      "text/plain": [
       "company_id                302\n",
       "name                      302\n",
       "category_code           73888\n",
       "status                    302\n",
       "founded_at             107818\n",
       "closed_at              214325\n",
       "domain                  70615\n",
       "network_username       122240\n",
       "country_code           109167\n",
       "investment_rounds         302\n",
       "funding_rounds            302\n",
       "funding_total             302\n",
       "milestones                302\n",
       "funding_round_id       164846\n",
       "company_id_2           164846\n",
       "funded_at              165094\n",
       "funding_round_type     164846\n",
       "raised_amount          164846\n",
       "pre_money_valuation    164846\n",
       "participants           164846\n",
       "is_first_round         164846\n",
       "is_last_round          164846\n",
       "dtype: int64"
      ]
     },
     "execution_count": 23,
     "metadata": {},
     "output_type": "execute_result"
    }
   ],
   "source": [
    "display('Количество пропусков в датафрейме df_company_and_rounds')\n",
    "df_company_and_rounds.isna().sum()"
   ]
  },
  {
   "cell_type": "code",
   "execution_count": 24,
   "id": "3aada5f9-f515-4937-8053-9f383c36e723",
   "metadata": {},
   "outputs": [
    {
     "data": {
      "text/plain": [
       "'Доля пропусков в датафрейме df_company_and_rounds'"
      ]
     },
     "metadata": {},
     "output_type": "display_data"
    },
    {
     "data": {
      "text/plain": [
       "company_id             0.001387\n",
       "name                   0.001387\n",
       "category_code          0.339288\n",
       "status                 0.001387\n",
       "founded_at             0.495091\n",
       "closed_at              0.984162\n",
       "domain                 0.324258\n",
       "network_username       0.561316\n",
       "country_code           0.501286\n",
       "investment_rounds      0.001387\n",
       "funding_rounds         0.001387\n",
       "funding_total          0.001387\n",
       "milestones             0.001387\n",
       "funding_round_id       0.756959\n",
       "company_id_2           0.756959\n",
       "funded_at              0.758098\n",
       "funding_round_type     0.756959\n",
       "raised_amount          0.756959\n",
       "pre_money_valuation    0.756959\n",
       "participants           0.756959\n",
       "is_first_round         0.756959\n",
       "is_last_round          0.756959\n",
       "dtype: float64"
      ]
     },
     "execution_count": 24,
     "metadata": {},
     "output_type": "execute_result"
    }
   ],
   "source": [
    "display('Доля пропусков в датафрейме df_company_and_rounds')\n",
    "df_company_and_rounds.isna().sum() / df_company_and_rounds.shape[0]"
   ]
  },
  {
   "cell_type": "markdown",
   "id": "00b6d687-60ca-471f-8a22-1f4a29b5c7a6",
   "metadata": {},
   "source": [
    "Дополнительно построим тепловую карту взаимосвязей пропусков, чтобы понимать зависят ли пропуски в одном столбце от наличия пропусков в других.\n",
    "\n",
    "- Значения, близкие к +1, означают, что наличие пропусков в одном столбце связано с наличием пропусков в другом. Чем ближе значение к +1, тем сильнее эта связь.\n",
    "- Значения, близкие к -1, означают, что наличие пропусков в одном столбце противоположно наличию пропусков в другом. Если в одном столбце есть пропуски, то в другом их нет, и наоборот.\n",
    "- Значения, близкие к 0, означают, что связь между пропусками в столбцах отсутствует."
   ]
  },
  {
   "cell_type": "code",
   "execution_count": 25,
   "id": "64f2b07f-c8bb-4803-9efe-ab02b14193ab",
   "metadata": {},
   "outputs": [
    {
     "data": {
      "text/plain": [
       "<AxesSubplot:>"
      ]
     },
     "execution_count": 25,
     "metadata": {},
     "output_type": "execute_result"
    },
    {
     "data": {
      "text/plain": [
       "<Figure size 504x216 with 0 Axes>"
      ]
     },
     "metadata": {},
     "output_type": "display_data"
    },
    {
     "data": {
      "image/png": "[encoded data removed]",
      "text/plain": [
       "<Figure size 1440x864 with 2 Axes>"
      ]
     },
     "metadata": {
      "needs_background": "light"
     },
     "output_type": "display_data"
    }
   ],
   "source": [
    "# Строим тепловую карту\n",
    "plt.figure(figsize = (7,3))\n",
    "msno.heatmap(df_company_and_rounds)"
   ]
  },
  {
   "cell_type": "markdown",
   "id": "b0f7b7c9-312e-41a1-824b-110cf3daf29c",
   "metadata": {},
   "source": [
    "Сразу заметно, что датафрейм `df_company_and_rounds`, хранящий информацию о компаниях и раундах финансирования, содержит пропуски во всех столбцах.\n",
    "- Можно заметить, что столбцы `company_id`, `status`, `investment_rounds`, `funding_rounds`, `milestones` содержат одинаковое количество пропусков - 0.14% и коэффициент связи между их пропусками равен 1. Возможно, что из-за утери информации об идентификационном номере компании в связи с техническими ошибками потерялась и остальная часть сведений.\n",
    "- Пропуски в столбце `category_code` (33.93%) можно объяснить как техническими ошибками, так и отсутсвием опредеденной категории деятельности компании в случае, когда она представлена в разных сферах.\n",
    "- У пропусков в столбце `founded_at`(49.5%) могут быть несколько причин: тех.ошибки или же отсутствие инвестиций со стороны компании.\n",
    "- Попуски в столбце `closed_at` (98.4%) можно объяснить тем, что большая часть компаний до сих пор функционируют.\n",
    "- Восемь столбцов: `funding_round_id`, `company_id_2`, `funding_round_type`, `raised_amount`, `pre_money_valuation`, `participants`, `is_first_round`, `is_last_round` содержат по 75.7% пропусков и, глядя на тепловую карту, мы видим что пропуски полностью взаимосвязаны. Возможно, что при сборе этого датасета потерялась часть ключевого столбца (напремер, `funding_round_id` или `company_id_2` и стало невозможным заполнить остальные данные).\n",
    "- В будущем попробуем заполнить пропуски данными из датафрейма `df_investment`.\n",
    "- Как мы заметили при первичной предобработке данных, в датафрейме два столбца с идентификационным номером компании, причем они содержат разное количество ошибок. Можно проверить, возможно ли объединить их в один столбец при условии, что известные id являются дубликатами друг друга в двух столбцах. Тогда 302 пропуска в первом столбце мы заполним значениями из второго.\n",
    "- Помимо этого, в датафрейме содержатся два столбца с информацией о сумме финансирования - `funding  total` и `raised  amount`.\n"
   ]
  },
  {
   "cell_type": "markdown",
   "id": "e8966ea8-7159-4ea4-a79d-2de6f2b2f59b",
   "metadata": {},
   "source": [
    "Перейдем к анализу пропусков в датафрейме `df_education`:"
   ]
  },
  {
   "cell_type": "code",
   "execution_count": 26,
   "id": "9a0d15ed-0a7e-453a-a003-b551187a24fb",
   "metadata": {},
   "outputs": [
    {
     "data": {
      "text/plain": [
       "'Количество пропусков в датафрейме df_education'"
      ]
     },
     "metadata": {},
     "output_type": "display_data"
    },
    {
     "data": {
      "text/plain": [
       "id                  0\n",
       "person_id           0\n",
       "instituition       55\n",
       "graduated_at    51556\n",
       "dtype: int64"
      ]
     },
     "execution_count": 26,
     "metadata": {},
     "output_type": "execute_result"
    }
   ],
   "source": [
    "display('Количество пропусков в датафрейме df_education')\n",
    "df_education.isna().sum()"
   ]
  },
  {
   "cell_type": "code",
   "execution_count": 27,
   "id": "1df3f81d-2335-4166-ac6a-c8573d5ba7da",
   "metadata": {},
   "outputs": [
    {
     "data": {
      "text/plain": [
       "'Доля пропусков в датафрейме df_education'"
      ]
     },
     "metadata": {},
     "output_type": "display_data"
    },
    {
     "data": {
      "text/plain": [
       "id              0.000000\n",
       "person_id       0.000000\n",
       "instituition    0.000502\n",
       "graduated_at    0.470359\n",
       "dtype: float64"
      ]
     },
     "execution_count": 27,
     "metadata": {},
     "output_type": "execute_result"
    }
   ],
   "source": [
    "display('Доля пропусков в датафрейме df_education')\n",
    "df_education.isna().sum() / df_education.shape[0]"
   ]
  },
  {
   "cell_type": "markdown",
   "id": "eb1186d7-2180-4b37-9100-b2235d18d4cd",
   "metadata": {},
   "source": [
    "По данным видно, что пропуски содержаться в двух столбцах:\n",
    "- Столбец `instituition`: 55 пропусков, что составляет менее 1% датафрейма. Возможно, некоторые сотрудники не получали образования, поэтому этот столбец для них не заполнен.\n",
    "- Столбец `graduated_at`: 47% пропусков. Это можно объяснить тем, что часть сотрудников либо не получали образования, либо все еще в процессе обучения.\n",
    "\n",
    "Рассмотрим пропуски в датафрейме `df_people`:"
   ]
  },
  {
   "cell_type": "code",
   "execution_count": 28,
   "id": "54a66a17-d091-4430-8f0d-1380f76c7483",
   "metadata": {},
   "outputs": [
    {
     "data": {
      "text/plain": [
       "'Количество пропусков в датафрейме df_people'"
      ]
     },
     "metadata": {},
     "output_type": "display_data"
    },
    {
     "data": {
      "text/plain": [
       "id                       0\n",
       "first_name               5\n",
       "last_name                1\n",
       "company_id          192094\n",
       "network_username    187842\n",
       "dtype: int64"
      ]
     },
     "execution_count": 28,
     "metadata": {},
     "output_type": "execute_result"
    }
   ],
   "source": [
    "display('Количество пропусков в датафрейме df_people')\n",
    "df_people.isna().sum()"
   ]
  },
  {
   "cell_type": "code",
   "execution_count": 29,
   "id": "51660900-ee62-4ac7-9143-7d3422aa6e94",
   "metadata": {},
   "outputs": [
    {
     "data": {
      "text/plain": [
       "'Доля пропусков в датафрейме df_people'"
      ]
     },
     "metadata": {},
     "output_type": "display_data"
    },
    {
     "data": {
      "text/plain": [
       "id                  0.000000\n",
       "first_name          0.000022\n",
       "last_name           0.000004\n",
       "company_id          0.847315\n",
       "network_username    0.828560\n",
       "dtype: float64"
      ]
     },
     "execution_count": 29,
     "metadata": {},
     "output_type": "execute_result"
    }
   ],
   "source": [
    "display('Доля пропусков в датафрейме df_people')\n",
    "df_people.isna().sum() / df_people.shape[0]"
   ]
  },
  {
   "cell_type": "markdown",
   "id": "30dc3162-18e9-4f15-96c2-343ac96451fc",
   "metadata": {},
   "source": [
    "Заметим, что столбцы `first_name` и `last_name` содержат менее чем по 1% пропусков. Вероятно, это технические ошибки, которые привели к неполноте заполнения данных. Восстановить их, к сожалению, не получится. \n",
    "Столбцы `company_id`, `network_username` содержат по 84.73% и 82.86% пропусков соотвественно. Это говорит о том, что данных для анализа недостаточно. \n",
    "\n",
    "Перейдем к анализу пропусков в датафрейме `df_degrees`:"
   ]
  },
  {
   "cell_type": "code",
   "execution_count": 30,
   "id": "7fcea871-fac1-4945-a626-abf9674c0cc5",
   "metadata": {},
   "outputs": [
    {
     "data": {
      "text/plain": [
       "'Количество пропусков в датафрейме df_degrees'"
      ]
     },
     "metadata": {},
     "output_type": "display_data"
    },
    {
     "data": {
      "text/plain": [
       "id                 0\n",
       "object_id          0\n",
       "degree_type    11218\n",
       "subject        28312\n",
       "dtype: int64"
      ]
     },
     "execution_count": 30,
     "metadata": {},
     "output_type": "execute_result"
    }
   ],
   "source": [
    "display('Количество пропусков в датафрейме df_degrees')\n",
    "df_degrees.isna().sum()"
   ]
  },
  {
   "cell_type": "code",
   "execution_count": 31,
   "id": "154bb203-cad9-47c5-aadb-09cba55fa726",
   "metadata": {},
   "outputs": [
    {
     "data": {
      "text/plain": [
       "'Доля пропусков в датафрейме df_degrees'"
      ]
     },
     "metadata": {},
     "output_type": "display_data"
    },
    {
     "data": {
      "text/plain": [
       "id             0.000000\n",
       "object_id      0.000000\n",
       "degree_type    0.102345\n",
       "subject        0.258298\n",
       "dtype: float64"
      ]
     },
     "execution_count": 31,
     "metadata": {},
     "output_type": "execute_result"
    }
   ],
   "source": [
    "display('Доля пропусков в датафрейме df_degrees')\n",
    "df_degrees.isna().sum() / df_degrees.shape[0]"
   ]
  },
  {
   "cell_type": "markdown",
   "id": "77a6a25d-9900-43c3-9d57-f8447a2d29bb",
   "metadata": {},
   "source": [
    "- Первые два столбца - `id` и `object_id` - не содержат пропусков.\n",
    "- Столбцы `degree_type` и `subject` содержат по 10.24% и 25.83% пропусков соответсвенно. \n",
    "\n",
    "В целом, данных для анализа достаточно. Перейдем к дополнительным датафреймам. "
   ]
  },
  {
   "cell_type": "code",
   "execution_count": 32,
   "id": "9e7e5a3f-a017-4f42-9589-dd59d9bda6e0",
   "metadata": {},
   "outputs": [
    {
     "data": {
      "text/plain": [
       "'Количество пропусков в датафрейме df_fund'"
      ]
     },
     "metadata": {},
     "output_type": "display_data"
    },
    {
     "data": {
      "text/plain": [
       "id                       0\n",
       "name                     2\n",
       "founded_at            7047\n",
       "domain                4290\n",
       "network_username      9503\n",
       "country_code          4599\n",
       "investment_rounds        0\n",
       "invested_companies       0\n",
       "milestones               0\n",
       "dtype: int64"
      ]
     },
     "execution_count": 32,
     "metadata": {},
     "output_type": "execute_result"
    }
   ],
   "source": [
    "display('Количество пропусков в датафрейме df_fund')\n",
    "df_fund.isna().sum()"
   ]
  },
  {
   "cell_type": "code",
   "execution_count": 33,
   "id": "7dd3d66c-2fe5-4bdd-9c51-ed7e927a0d70",
   "metadata": {},
   "outputs": [
    {
     "data": {
      "text/plain": [
       "'Доля пропусков в датафрейме df_fund'"
      ]
     },
     "metadata": {},
     "output_type": "display_data"
    },
    {
     "data": {
      "text/plain": [
       "id                    0.000000\n",
       "name                  0.000018\n",
       "founded_at            0.064292\n",
       "domain                0.039139\n",
       "network_username      0.086698\n",
       "country_code          0.041958\n",
       "investment_rounds     0.000000\n",
       "invested_companies    0.000000\n",
       "milestones            0.000000\n",
       "dtype: float64"
      ]
     },
     "execution_count": 33,
     "metadata": {},
     "output_type": "execute_result"
    }
   ],
   "source": [
    "display('Доля пропусков в датафрейме df_fund')\n",
    "df_fund.isna().sum() / df_degrees.shape[0]"
   ]
  },
  {
   "cell_type": "markdown",
   "id": "f8bd4cf3-5891-4e51-a44b-972e78e63f9f",
   "metadata": {},
   "source": [
    "В датафрейме `df_fund` содержится четыре столбца с пропусками:\n",
    "- Столбец `founded_at` с датой создания фонда хранит 6.43% пустых значений. Скорее всего, это технические ошибки.\n",
    "- Столбец `domain`: 3.91%. Возможно, что это технические ошибки или же фонды не имеют собственных сайтов.\n",
    "- Столбец `network_username`: 8.67%. Причиной могут быть ошибки при сборе информации, так и простое отсутствие у фонда ника в сети.\n",
    "- Столбец `country_code`: 4.2%. Вероятно, это технические ошибки, но также это может быть следствием неопределенного статуса фонда, международного уровня организации или это фонды, связанные с криптовалютой (они могут отступать от четких стандартов регистрации). "
   ]
  },
  {
   "cell_type": "code",
   "execution_count": 34,
   "id": "5a10d24a-bdb3-48dc-9238-4b1e8468324c",
   "metadata": {},
   "outputs": [
    {
     "data": {
      "text/plain": [
       "'Количество пропусков в датафрейме df_investment'"
      ]
     },
     "metadata": {},
     "output_type": "display_data"
    },
    {
     "data": {
      "text/plain": [
       "id                  0\n",
       "funding_round_id    0\n",
       "company_id          0\n",
       "fund_id             0\n",
       "dtype: int64"
      ]
     },
     "execution_count": 34,
     "metadata": {},
     "output_type": "execute_result"
    }
   ],
   "source": [
    "display('Количество пропусков в датафрейме df_investment')\n",
    "df_investment.isna().sum()"
   ]
  },
  {
   "cell_type": "code",
   "execution_count": 35,
   "id": "36fdee5d-5821-4126-b1dc-cf345bd9b87d",
   "metadata": {},
   "outputs": [
    {
     "data": {
      "text/plain": [
       "'Доля пропусков в датафрейме df_investment'"
      ]
     },
     "metadata": {},
     "output_type": "display_data"
    },
    {
     "data": {
      "text/plain": [
       "id                  0.0\n",
       "funding_round_id    0.0\n",
       "company_id          0.0\n",
       "fund_id             0.0\n",
       "dtype: float64"
      ]
     },
     "execution_count": 35,
     "metadata": {},
     "output_type": "execute_result"
    }
   ],
   "source": [
    "display('Доля пропусков в датафрейме df_investment')\n",
    "df_investment.isna().sum() / df_degrees.shape[0]"
   ]
  },
  {
   "cell_type": "markdown",
   "id": "7af1da8a-0550-4949-9302-146ed0dfe346",
   "metadata": {},
   "source": [
    "Пропусков в данных датафрейма `df_investment` нет. "
   ]
  },
  {
   "cell_type": "markdown",
   "id": "3525e8f8-e24d-4597-a3fc-8db549bb0a16",
   "metadata": {},
   "source": [
    "### Промежуточные выводы\n",
    "\n",
    "В результате первичной предобработки данных были выполнены следующие действия:\n",
    "- Названия столбцов датафреймов приведены к единому стилю snake case.\n",
    "- Мы оптимизировали типы данных для анализа: понизили размерность и поработали со столбцами, храняящими дату, приведя их к типу `datetime64`.\n",
    "\n",
    "Было выявлено, что датафрейм `df_company_and_rounds` содержит много пропусков, что может помешать дальнейшем анализу данных в связи с их недостаточностью. Поэтому мы проведем дополнительную обработку. Помимо этого, добавим столбец `year_of_funding_round`, выделив год из даты. Это облегчит нам работу при составлении статистики по годам. \n",
    "\n",
    "Датафрейм `df_people` содержит 85% пропусков в важном для анализа столбце `company_id`. Это говорит о большой неполноте данных и малой выборке сотрудников, которые подойдут для анализа связи размера компании и данных об образовании. \n",
    "_________"
   ]
  },
  {
   "cell_type": "markdown",
   "id": "5d08e4e0-fc24-44d0-aa98-468c8118a52e",
   "metadata": {},
   "source": [
    "<a class='anchor' id=\"link_2\"></a>\n",
    "\n",
    "## 2. Предобработка данных, предварительное исследование\n",
    "### 2.1. Раунды финансирования по годам\n",
    "\n",
    "Это задание мы будем выполнять без объединения и дополнительной предобработки на основе датасета `company_and_rounds.csv`. Нам необходимо составить сводную таблицу по годам, в которой на основании столбца `raised_amount` для каждого года указан типичный размер средств, выделяемый в рамках одного раунда и общее количество раундов финансирования за этот год, и оставить в ней только те года, по которым известно более чем о 50 раундах финансирования. \n",
    "\n",
    "Для начала создадим дополнительный столбец `year_of_funding_round`, в котором сохраним год раунда финансирования. "
   ]
  },
  {
   "cell_type": "code",
   "execution_count": 36,
   "id": "daad6659-cceb-4cde-8517-0b6223168d5a",
   "metadata": {},
   "outputs": [],
   "source": [
    "# Извлекаем год из даты финансирования\n",
    "df_company_and_rounds['year_of_funding_round'] = df_company_and_rounds['funded_at'].dt.year"
   ]
  },
  {
   "cell_type": "markdown",
   "id": "9af1347c-efc7-4d63-adf9-6594cfa113c5",
   "metadata": {},
   "source": [
    "Приступим к созданию сводной таблицы. "
   ]
  },
  {
   "cell_type": "code",
   "execution_count": 37,
   "id": "351fd027-9818-419f-9ecb-dd8dfb6e95ce",
   "metadata": {},
   "outputs": [
    {
     "data": {
      "text/html": [
       "<style  type=\"text/css\" >\n",
       "#T_df881_row0_col1,#T_df881_row2_col1,#T_df881_row3_col1,#T_df881_row4_col2{\n",
       "            background-color:  #f7fcfd;\n",
       "            color:  #000000;\n",
       "        }#T_df881_row0_col2{\n",
       "            background-color:  #bae5dc;\n",
       "            color:  #000000;\n",
       "        }#T_df881_row1_col1,#T_df881_row4_col1{\n",
       "            background-color:  #f6fcfd;\n",
       "            color:  #000000;\n",
       "        }#T_df881_row1_col2,#T_df881_row14_col1{\n",
       "            background-color:  #00441b;\n",
       "            color:  #f1f1f1;\n",
       "        }#T_df881_row2_col2{\n",
       "            background-color:  #5ebe9b;\n",
       "            color:  #000000;\n",
       "        }#T_df881_row3_col2{\n",
       "            background-color:  #9ddacb;\n",
       "            color:  #000000;\n",
       "        }#T_df881_row5_col1{\n",
       "            background-color:  #f4fbfc;\n",
       "            color:  #000000;\n",
       "        }#T_df881_row5_col2{\n",
       "            background-color:  #ade0d4;\n",
       "            color:  #000000;\n",
       "        }#T_df881_row6_col1{\n",
       "            background-color:  #e2f4f7;\n",
       "            color:  #000000;\n",
       "        }#T_df881_row6_col2{\n",
       "            background-color:  #41ae77;\n",
       "            color:  #000000;\n",
       "        }#T_df881_row7_col1{\n",
       "            background-color:  #d4efec;\n",
       "            color:  #000000;\n",
       "        }#T_df881_row7_col2{\n",
       "            background-color:  #74c8ae;\n",
       "            color:  #000000;\n",
       "        }#T_df881_row8_col1{\n",
       "            background-color:  #bce6dd;\n",
       "            color:  #000000;\n",
       "        }#T_df881_row8_col2{\n",
       "            background-color:  #55b98f;\n",
       "            color:  #000000;\n",
       "        }#T_df881_row9_col1{\n",
       "            background-color:  #a8ded2;\n",
       "            color:  #000000;\n",
       "        }#T_df881_row9_col2{\n",
       "            background-color:  #1c8540;\n",
       "            color:  #000000;\n",
       "        }#T_df881_row10_col1{\n",
       "            background-color:  #9cd9ca;\n",
       "            color:  #000000;\n",
       "        }#T_df881_row10_col2{\n",
       "            background-color:  #5cbd98;\n",
       "            color:  #000000;\n",
       "        }#T_df881_row11_col1{\n",
       "            background-color:  #54b88e;\n",
       "            color:  #000000;\n",
       "        }#T_df881_row11_col2{\n",
       "            background-color:  #a4dccf;\n",
       "            color:  #000000;\n",
       "        }#T_df881_row12_col1{\n",
       "            background-color:  #0c7735;\n",
       "            color:  #f1f1f1;\n",
       "        }#T_df881_row12_col2{\n",
       "            background-color:  #c7eae3;\n",
       "            color:  #000000;\n",
       "        }#T_df881_row13_col1{\n",
       "            background-color:  #006428;\n",
       "            color:  #f1f1f1;\n",
       "        }#T_df881_row13_col2{\n",
       "            background-color:  #e6f5f9;\n",
       "            color:  #000000;\n",
       "        }#T_df881_row14_col2{\n",
       "            background-color:  #70c6ac;\n",
       "            color:  #000000;\n",
       "        }</style><table id=\"T_df881_\" ><thead>    <tr>        <th class=\"blank level0\" ></th>        <th class=\"col_heading level0 col0\" >Год</th>        <th class=\"col_heading level0 col1\" >Количество раундов финансирования</th>        <th class=\"col_heading level0 col2\" >Средний размер средств</th>    </tr></thead><tbody>\n",
       "                <tr>\n",
       "                        <th id=\"T_df881_level0_row0\" class=\"row_heading level0 row0\" >0</th>\n",
       "                        <td id=\"T_df881_row0_col0\" class=\"data row0 col0\" >1999</td>\n",
       "                        <td id=\"T_df881_row0_col1\" class=\"data row0 col1\" >76</td>\n",
       "                        <td id=\"T_df881_row0_col2\" class=\"data row0 col2\" >7420241.500000</td>\n",
       "            </tr>\n",
       "            <tr>\n",
       "                        <th id=\"T_df881_level0_row1\" class=\"row_heading level0 row1\" >1</th>\n",
       "                        <td id=\"T_df881_row1_col0\" class=\"data row1 col0\" >2000</td>\n",
       "                        <td id=\"T_df881_row1_col1\" class=\"data row1 col1\" >125</td>\n",
       "                        <td id=\"T_df881_row1_col2\" class=\"data row1 col2\" >11485509.000000</td>\n",
       "            </tr>\n",
       "            <tr>\n",
       "                        <th id=\"T_df881_level0_row2\" class=\"row_heading level0 row2\" >2</th>\n",
       "                        <td id=\"T_df881_row2_col0\" class=\"data row2 col0\" >2001</td>\n",
       "                        <td id=\"T_df881_row2_col1\" class=\"data row2 col1\" >96</td>\n",
       "                        <td id=\"T_df881_row2_col2\" class=\"data row2 col2\" >8761519.000000</td>\n",
       "            </tr>\n",
       "            <tr>\n",
       "                        <th id=\"T_df881_level0_row3\" class=\"row_heading level0 row3\" >3</th>\n",
       "                        <td id=\"T_df881_row3_col0\" class=\"data row3 col0\" >2002</td>\n",
       "                        <td id=\"T_df881_row3_col1\" class=\"data row3 col1\" >116</td>\n",
       "                        <td id=\"T_df881_row3_col2\" class=\"data row3 col2\" >7836196.000000</td>\n",
       "            </tr>\n",
       "            <tr>\n",
       "                        <th id=\"T_df881_level0_row4\" class=\"row_heading level0 row4\" >4</th>\n",
       "                        <td id=\"T_df881_row4_col0\" class=\"data row4 col0\" >2003</td>\n",
       "                        <td id=\"T_df881_row4_col1\" class=\"data row4 col1\" >159</td>\n",
       "                        <td id=\"T_df881_row4_col2\" class=\"data row4 col2\" >5725049.500000</td>\n",
       "            </tr>\n",
       "            <tr>\n",
       "                        <th id=\"T_df881_level0_row5\" class=\"row_heading level0 row5\" >5</th>\n",
       "                        <td id=\"T_df881_row5_col0\" class=\"data row5 col0\" >2004</td>\n",
       "                        <td id=\"T_df881_row5_col1\" class=\"data row5 col1\" >291</td>\n",
       "                        <td id=\"T_df881_row5_col2\" class=\"data row5 col2\" >7593645.500000</td>\n",
       "            </tr>\n",
       "            <tr>\n",
       "                        <th id=\"T_df881_level0_row6\" class=\"row_heading level0 row6\" >6</th>\n",
       "                        <td id=\"T_df881_row6_col0\" class=\"data row6 col0\" >2005</td>\n",
       "                        <td id=\"T_df881_row6_col1\" class=\"data row6 col1\" >1633</td>\n",
       "                        <td id=\"T_df881_row6_col2\" class=\"data row6 col2\" >9324877.000000</td>\n",
       "            </tr>\n",
       "            <tr>\n",
       "                        <th id=\"T_df881_level0_row7\" class=\"row_heading level0 row7\" >7</th>\n",
       "                        <td id=\"T_df881_row7_col0\" class=\"data row7 col0\" >2006</td>\n",
       "                        <td id=\"T_df881_row7_col1\" class=\"data row7 col1\" >2436</td>\n",
       "                        <td id=\"T_df881_row7_col2\" class=\"data row7 col2\" >8404267.000000</td>\n",
       "            </tr>\n",
       "            <tr>\n",
       "                        <th id=\"T_df881_level0_row8\" class=\"row_heading level0 row8\" >8</th>\n",
       "                        <td id=\"T_df881_row8_col0\" class=\"data row8 col0\" >2007</td>\n",
       "                        <td id=\"T_df881_row8_col1\" class=\"data row8 col1\" >3279</td>\n",
       "                        <td id=\"T_df881_row8_col2\" class=\"data row8 col2\" >8931094.000000</td>\n",
       "            </tr>\n",
       "            <tr>\n",
       "                        <th id=\"T_df881_level0_row9\" class=\"row_heading level0 row9\" >9</th>\n",
       "                        <td id=\"T_df881_row9_col0\" class=\"data row9 col0\" >2008</td>\n",
       "                        <td id=\"T_df881_row9_col1\" class=\"data row9 col1\" >3774</td>\n",
       "                        <td id=\"T_df881_row9_col2\" class=\"data row9 col2\" >10191804.000000</td>\n",
       "            </tr>\n",
       "            <tr>\n",
       "                        <th id=\"T_df881_level0_row10\" class=\"row_heading level0 row10\" >10</th>\n",
       "                        <td id=\"T_df881_row10_col0\" class=\"data row10 col0\" >2009</td>\n",
       "                        <td id=\"T_df881_row10_col1\" class=\"data row10 col1\" >4151</td>\n",
       "                        <td id=\"T_df881_row10_col2\" class=\"data row10 col2\" >8794643.000000</td>\n",
       "            </tr>\n",
       "            <tr>\n",
       "                        <th id=\"T_df881_level0_row11\" class=\"row_heading level0 row11\" >11</th>\n",
       "                        <td id=\"T_df881_row11_col0\" class=\"data row11 col0\" >2010</td>\n",
       "                        <td id=\"T_df881_row11_col1\" class=\"data row11 col1\" >6221</td>\n",
       "                        <td id=\"T_df881_row11_col2\" class=\"data row11 col2\" >7749651.500000</td>\n",
       "            </tr>\n",
       "            <tr>\n",
       "                        <th id=\"T_df881_level0_row12\" class=\"row_heading level0 row12\" >12</th>\n",
       "                        <td id=\"T_df881_row12_col0\" class=\"data row12 col0\" >2011</td>\n",
       "                        <td id=\"T_df881_row12_col1\" class=\"data row12 col1\" >9204</td>\n",
       "                        <td id=\"T_df881_row12_col2\" class=\"data row12 col2\" >7246439.000000</td>\n",
       "            </tr>\n",
       "            <tr>\n",
       "                        <th id=\"T_df881_level0_row13\" class=\"row_heading level0 row13\" >13</th>\n",
       "                        <td id=\"T_df881_row13_col0\" class=\"data row13 col0\" >2012</td>\n",
       "                        <td id=\"T_df881_row13_col1\" class=\"data row13 col1\" >9970</td>\n",
       "                        <td id=\"T_df881_row13_col2\" class=\"data row13 col2\" >6412032.500000</td>\n",
       "            </tr>\n",
       "            <tr>\n",
       "                        <th id=\"T_df881_level0_row14\" class=\"row_heading level0 row14\" >14</th>\n",
       "                        <td id=\"T_df881_row14_col0\" class=\"data row14 col0\" >2013</td>\n",
       "                        <td id=\"T_df881_row14_col1\" class=\"data row14 col1\" >11072</td>\n",
       "                        <td id=\"T_df881_row14_col2\" class=\"data row14 col2\" >8467284.000000</td>\n",
       "            </tr>\n",
       "    </tbody></table>"
      ],
      "text/plain": [
       "<pandas.io.formats.style.Styler at 0x7f660d90b100>"
      ]
     },
     "execution_count": 37,
     "metadata": {},
     "output_type": "execute_result"
    }
   ],
   "source": [
    "# Группируем данные по годам\n",
    "grouped = df_company_and_rounds.groupby('year_of_funding_round')['raised_amount'].agg(['mean', 'count'])\n",
    "# Создаем сводную таблицу, отфильтровав по количеству раундов \n",
    "pivot_year = pd.pivot_table(grouped[grouped['count']> 50],\n",
    "                            index = 'year_of_funding_round',\n",
    "                            values = ['count', 'mean'])\n",
    "pivot_year = pivot_year.reset_index()\n",
    "# Переименуем названия столбцов \n",
    "pivot_year.rename(columns={'year_of_funding_round': 'Год', 'count': 'Количество раундов финансирования', 'mean': 'Средний размер средств'}, inplace=True)\n",
    "# Приведем количество райндов финансирования и год в тип integer\n",
    "pivot_year['Количество раундов финансирования'] = pivot_year['Количество раундов финансирования'].astype('int')\n",
    "pivot_year['Год'] = pivot_year['Год'].astype('int')\n",
    "# Создаю окрашенную версию таблицы\n",
    "pivot_year_styler = pivot_year.style.background_gradient(subset = ['Количество раундов финансирования', 'Средний размер средств'], cmap='BuGn', axis=0)\n",
    "pivot_year_styler"
   ]
  },
  {
   "cell_type": "code",
   "execution_count": 38,
   "id": "8927da93-8ca3-4437-b32a-b4ae9f91cf38",
   "metadata": {},
   "outputs": [
    {
     "data": {
      "image/png": "[encoded data removed]",
      "text/plain": [
       "<Figure size 504x216 with 1 Axes>"
      ]
     },
     "metadata": {
      "needs_background": "light"
     },
     "output_type": "display_data"
    }
   ],
   "source": [
    "from matplotlib import ticker\n",
    "from matplotlib.ticker import ScalarFormatter\n",
    "\n",
    "pivot_line = pivot_year.plot(kind = 'line',\n",
    "                             title = 'Динамика среднего размера выделяемых на финансирование средств',\n",
    "                             ylabel = 'Средний размер средств',\n",
    "                             figsize = (7,3),\n",
    "                             x = 'Год',\n",
    "                             y = 'Средний размер средств',\n",
    "                            color = 'green',\n",
    "                            legend = False,\n",
    "                            marker = 'o')\n",
    "plt.ticklabel_format(style='plain', axis='y')\n",
    "plt.grid()"
   ]
  },
  {
   "cell_type": "markdown",
   "id": "d764efa2-e9ea-4fc1-8eee-e5fb22e91865",
   "metadata": {},
   "source": [
    "Таким образом, максимальный типичный размер собранных на раунд финансирования средств был максимален в 2000 году. Тогда он составил 11485509 денежных единиц. \n",
    "\n",
    "До 2013 года была видна четкая теденция роста количества раундов финансирования, в то время как средний размер средств выделяемых на один раунд претерпевал и рост, и падение. Это объясняется тем, что финансироваться стали стартапы разных размеров. Это говорит об эпохе начала финансирования в мелкие стартапы, сопровождающейся ростом технологий и доступностью капитала. \n",
    "___"
   ]
  },
  {
   "cell_type": "markdown",
   "id": "16a279bd-7d1f-4273-85b9-1a05d8730fb2",
   "metadata": {},
   "source": [
    "### 2.2. Люди и их образование\n",
    "\n",
    "Заказчик хочет понять, зависит ли полнота сведений об образовании сотрудников от размера компаний. Для этого нам нужно оценить, насколько информация об образовании сотрудников полна и , используя датафреймы `df_people` и `df_education`, разделить все компании на несколько групп по количеству сотрудников и оценить среднюю долю сотрудников без информации об образовании в каждой из групп.\n",
    "\n",
    "В пункте 1.2 мы изучали количество пропусков в датафреймах и пришли к выводу, что большая часть данных (около 85%) столбца `company_id` датафрейма `df_people` содержит пропуски, а значит, мы не сможем использовать эти строки для анализа связи между полнотой сведений и размером компании. Для удобства создадим новый датафрейм `df_people_filtered`, в котором не будет строк с пропусками в этом столбце. "
   ]
  },
  {
   "cell_type": "code",
   "execution_count": 39,
   "id": "298d1e5e-2771-4d41-85da-3ebeb5f23068",
   "metadata": {},
   "outputs": [
    {
     "name": "stdout",
     "output_type": "stream",
     "text": [
      "<class 'pandas.core.frame.DataFrame'>\n",
      "Int64Index: 34615 entries, 0 to 226706\n",
      "Data columns (total 5 columns):\n",
      " #   Column            Non-Null Count  Dtype  \n",
      "---  ------            --------------  -----  \n",
      " 0   id_people         34615 non-null  int32  \n",
      " 1   first_name        34614 non-null  object \n",
      " 2   last_name         34614 non-null  object \n",
      " 3   company_id        34615 non-null  float32\n",
      " 4   network_username  17313 non-null  object \n",
      "dtypes: float32(1), int32(1), object(3)\n",
      "memory usage: 1.3+ MB\n"
     ]
    }
   ],
   "source": [
    "# Фильтруем датафрейм и создаем новый \n",
    "df_people_filtered = df_people.loc[df_people['company_id'].isna() == False]\n",
    "df_people_filtered = df_people_filtered.rename(columns = {'id':'id_people'})\n",
    "# Выведем информацию о новом датафрейме\n",
    "df_people_filtered.info()"
   ]
  },
  {
   "cell_type": "markdown",
   "id": "ad539d88-a316-4998-82a9-dce555c6ab2e",
   "metadata": {},
   "source": [
    "Мы получили датафрейм, состоящий из 5 столбцов и 34615 строк. Данные достаточного для анализа объема. Объединим его с датафреймом `df_education` левым методом, так как тогда в датафрейм войдут записи:\n",
    "- сотрудников, которых даже нет в датафрейме с информацией об образовании\n",
    "- сотрудников, которые есть в датафрейме с информацией об образовании, но имеют там пропуски в столбцах `instituition` и `graduated_at`\n",
    "- сотрудников, которые есть в датафрейме с информацией об образовании и имеют заполненную информацию об образовании.\n",
    "\n",
    "В дальнейшем анализе первые две категории будут рассматриваться как сотрудники без информации об образовании. "
   ]
  },
  {
   "cell_type": "code",
   "execution_count": 40,
   "id": "e9456e52-bd73-4e93-81eb-454202a54e5e",
   "metadata": {},
   "outputs": [
    {
     "name": "stdout",
     "output_type": "stream",
     "text": [
      "<class 'pandas.core.frame.DataFrame'>\n",
      "Int64Index: 44789 entries, 0 to 44788\n",
      "Data columns (total 9 columns):\n",
      " #   Column            Non-Null Count  Dtype         \n",
      "---  ------            --------------  -----         \n",
      " 0   id_people         44789 non-null  int32         \n",
      " 1   first_name        44788 non-null  object        \n",
      " 2   last_name         44788 non-null  object        \n",
      " 3   company_id        44789 non-null  float32       \n",
      " 4   network_username  22892 non-null  object        \n",
      " 5   id                28638 non-null  float64       \n",
      " 6   person_id         28638 non-null  float64       \n",
      " 7   instituition      28609 non-null  object        \n",
      " 8   graduated_at      20954 non-null  datetime64[ns]\n",
      "dtypes: datetime64[ns](1), float32(1), float64(2), int32(1), object(4)\n",
      "memory usage: 3.1+ MB\n"
     ]
    }
   ],
   "source": [
    "# Объединяем датафреймы\n",
    "df_people_and_education = df_people_filtered.merge(df_education, left_on = 'id_people', right_on = 'person_id', how = 'left')\n",
    "# Выводим информацию \n",
    "df_people_and_education.info()"
   ]
  },
  {
   "cell_type": "markdown",
   "id": "c66be135-0ddb-4fdf-bdd8-dbaa1caba79b",
   "metadata": {},
   "source": [
    "Мы получили новый датафрейм `df_people_and_education`, который состоит из 9 столбцов и 44762 строк.\n",
    "- Все столбцы, кроме `id_people` и `company_id` содержат пропуски. Это не помешает дальнейшей обработке информации.\n",
    "- Переименуем некоторые столбцы, чтобы не запутаться в них. \n"
   ]
  },
  {
   "cell_type": "code",
   "execution_count": 41,
   "id": "66d767bc-ea63-4e2e-bffd-3006b31c29dc",
   "metadata": {},
   "outputs": [],
   "source": [
    "# Переименовываем два столбца \n",
    "df_people_and_education = df_people_and_education.rename(columns = {'id': 'education_id', 'person_id': 'education_person_id'})"
   ]
  },
  {
   "cell_type": "code",
   "execution_count": 42,
   "id": "354227e8-cc14-4f78-a76a-6ee5b800d015",
   "metadata": {},
   "outputs": [
    {
     "data": {
      "text/plain": [
       "company_id\n",
       "70873.0       1\n",
       "74306.0       1\n",
       "74313.0       1\n",
       "74318.0       1\n",
       "74323.0       1\n",
       "           ... \n",
       "4175.0       89\n",
       "231067.0    111\n",
       "1242.0      192\n",
       "29.0        221\n",
       "59.0        376\n",
       "Name: id_people, Length: 22922, dtype: int64"
      ]
     },
     "execution_count": 42,
     "metadata": {},
     "output_type": "execute_result"
    }
   ],
   "source": [
    "grouped_company = df_people_and_education.groupby('company_id')['id_people'].count()\n",
    "grouped_company.sort_values()"
   ]
  },
  {
   "cell_type": "markdown",
   "id": "01744d78-d236-4311-b9da-ced9e0259a48",
   "metadata": {},
   "source": [
    "Поделим все компании на четыре группы:\n",
    "1. Микропредприятия: обычно имеют до 10 сотрудников.\n",
    "2. Малые предприятия: имеют от 11 до 50 сотрудников.\n",
    "3. Средние предприятия: имеют от 51 до 250 сотрудников.\n",
    "4. Крупные предприятия: имеют более 250 сотрудников.\n",
    "\n",
    "Для этого создадим из полученной таблицы датафрейм и добавим в него столбец `category` с помощью функции."
   ]
  },
  {
   "cell_type": "code",
   "execution_count": 43,
   "id": "6e16d4cd-ff21-4b52-8014-d5973f3b5b36",
   "metadata": {},
   "outputs": [],
   "source": [
    "# Корректируем датафрейм\n",
    "df_grouped_company = pd.DataFrame(grouped_company)\n",
    "df_grouped_company = df_grouped_company.reset_index()\n",
    "df_grouped_company = df_grouped_company.rename(columns = {'id_people':'people_count'})"
   ]
  },
  {
   "cell_type": "code",
   "execution_count": 44,
   "id": "46654d63-5aef-4313-af23-82b8ccbe1a3b",
   "metadata": {},
   "outputs": [],
   "source": [
    "# Функция принимает на вход столбец датафрейма и присваивает категорию исходя из значения содержимого \n",
    "def category_function(x):\n",
    "    if x <= 10:\n",
    "        return 'микрокомпания' \n",
    "    elif x <=50:\n",
    "        return 'малая компания'\n",
    "    elif x <= 250:\n",
    "        return 'средняя компания'\n",
    "    elif x > 250:\n",
    "        return 'крупная компания'\n",
    "# Применяем функцию \n",
    "df_grouped_company['category'] = df_grouped_company['people_count'].apply(category_function)"
   ]
  },
  {
   "cell_type": "markdown",
   "id": "ccc730a4-a4ac-48f6-be55-82afbd681460",
   "metadata": {},
   "source": [
    "Теперь проведем анализ этих категорий на полноту информации об образовании. Для начала соединим этот датафрейм с датафремом `df_people_and_education`, чтобы добавить туда столбец с информацией о категории компании."
   ]
  },
  {
   "cell_type": "code",
   "execution_count": 45,
   "id": "0bb319fa-e06d-4adc-b204-682a849a6927",
   "metadata": {},
   "outputs": [
    {
     "name": "stdout",
     "output_type": "stream",
     "text": [
      "<class 'pandas.core.frame.DataFrame'>\n",
      "Int64Index: 44789 entries, 0 to 44788\n",
      "Data columns (total 11 columns):\n",
      " #   Column               Non-Null Count  Dtype         \n",
      "---  ------               --------------  -----         \n",
      " 0   id_people            44789 non-null  int32         \n",
      " 1   first_name           44788 non-null  object        \n",
      " 2   last_name            44788 non-null  object        \n",
      " 3   company_id           44789 non-null  float32       \n",
      " 4   network_username     22892 non-null  object        \n",
      " 5   education_id         28638 non-null  float64       \n",
      " 6   education_person_id  28638 non-null  float64       \n",
      " 7   instituition         28609 non-null  object        \n",
      " 8   graduated_at         20954 non-null  datetime64[ns]\n",
      " 9   people_count         44789 non-null  int64         \n",
      " 10  category             44789 non-null  object        \n",
      "dtypes: datetime64[ns](1), float32(1), float64(2), int32(1), int64(1), object(5)\n",
      "memory usage: 3.8+ MB\n"
     ]
    }
   ],
   "source": [
    "df_merged = df_people_and_education.merge(df_grouped_company, on = 'company_id', how = 'left')\n",
    "df_merged.info()"
   ]
  },
  {
   "cell_type": "markdown",
   "id": "e0010f76-5de4-4172-b3ef-7df3df067c23",
   "metadata": {},
   "source": [
    "Перейдем к созданию датафрейма, в котором отобразим нужную информацию. "
   ]
  },
  {
   "cell_type": "code",
   "execution_count": 46,
   "id": "aa16f567-b56c-4f7e-9666-5dc84a75bb3f",
   "metadata": {},
   "outputs": [
    {
     "data": {
      "text/html": [
       "<div>\n",
       "<style scoped>\n",
       "    .dataframe tbody tr th:only-of-type {\n",
       "        vertical-align: middle;\n",
       "    }\n",
       "\n",
       "    .dataframe tbody tr th {\n",
       "        vertical-align: top;\n",
       "    }\n",
       "\n",
       "    .dataframe thead th {\n",
       "        text-align: right;\n",
       "    }\n",
       "</style>\n",
       "<table border=\"1\" class=\"dataframe\">\n",
       "  <thead>\n",
       "    <tr style=\"text-align: right;\">\n",
       "      <th></th>\n",
       "      <th>category</th>\n",
       "      <th>no_inf_part</th>\n",
       "    </tr>\n",
       "  </thead>\n",
       "  <tbody>\n",
       "    <tr>\n",
       "      <th>0</th>\n",
       "      <td>крупная компания</td>\n",
       "      <td>76</td>\n",
       "    </tr>\n",
       "    <tr>\n",
       "      <th>1</th>\n",
       "      <td>малая компания</td>\n",
       "      <td>982</td>\n",
       "    </tr>\n",
       "    <tr>\n",
       "      <th>2</th>\n",
       "      <td>микрокомпания</td>\n",
       "      <td>14875</td>\n",
       "    </tr>\n",
       "    <tr>\n",
       "      <th>3</th>\n",
       "      <td>средняя компания</td>\n",
       "      <td>218</td>\n",
       "    </tr>\n",
       "  </tbody>\n",
       "</table>\n",
       "</div>"
      ],
      "text/plain": [
       "           category  no_inf_part\n",
       "0  крупная компания           76\n",
       "1    малая компания          982\n",
       "2     микрокомпания        14875\n",
       "3  средняя компания          218"
      ]
     },
     "execution_count": 46,
     "metadata": {},
     "output_type": "execute_result"
    }
   ],
   "source": [
    "# Узнаем, сколько людей в каждой категории компаний не имели данных в датафрейме df_education\n",
    "grouped = df_merged.groupby('category')['education_id'].apply(lambda x: x.isna().sum()).reset_index()\n",
    "grouped = grouped.rename(columns = {'education_id':'no_inf_part'})\n",
    "grouped "
   ]
  },
  {
   "cell_type": "code",
   "execution_count": 47,
   "id": "577d855c-1115-4c7e-b739-8a53138e5688",
   "metadata": {},
   "outputs": [
    {
     "data": {
      "text/html": [
       "<div>\n",
       "<style scoped>\n",
       "    .dataframe tbody tr th:only-of-type {\n",
       "        vertical-align: middle;\n",
       "    }\n",
       "\n",
       "    .dataframe tbody tr th {\n",
       "        vertical-align: top;\n",
       "    }\n",
       "\n",
       "    .dataframe thead th {\n",
       "        text-align: right;\n",
       "    }\n",
       "</style>\n",
       "<table border=\"1\" class=\"dataframe\">\n",
       "  <thead>\n",
       "    <tr style=\"text-align: right;\">\n",
       "      <th></th>\n",
       "      <th>category</th>\n",
       "      <th>instituition</th>\n",
       "    </tr>\n",
       "  </thead>\n",
       "  <tbody>\n",
       "    <tr>\n",
       "      <th>0</th>\n",
       "      <td>средняя компания</td>\n",
       "      <td>2</td>\n",
       "    </tr>\n",
       "    <tr>\n",
       "      <th>1</th>\n",
       "      <td>малая компания</td>\n",
       "      <td>1</td>\n",
       "    </tr>\n",
       "    <tr>\n",
       "      <th>2</th>\n",
       "      <td>микрокомпания</td>\n",
       "      <td>4</td>\n",
       "    </tr>\n",
       "    <tr>\n",
       "      <th>3</th>\n",
       "      <td>крупная компания</td>\n",
       "      <td>0</td>\n",
       "    </tr>\n",
       "  </tbody>\n",
       "</table>\n",
       "</div>"
      ],
      "text/plain": [
       "           category  instituition\n",
       "0  средняя компания             2\n",
       "1    малая компания             1\n",
       "2     микрокомпания             4\n",
       "3  крупная компания             0"
      ]
     },
     "execution_count": 47,
     "metadata": {},
     "output_type": "execute_result"
    }
   ],
   "source": [
    "# Узнаем, сколько людей в каждой категории компаний имели запись в датафрейме df_education, но столбцы 'instituition' и 'graduated_at' были пусты\n",
    "grouped_1 = df_merged[(df_merged['instituition'].isna() == True) & (df_merged['graduated_at'].isna() == True) & (df_merged['education_id'].isna() == False)].groupby('category')['instituition'].apply(lambda x: x.isna().sum())\n",
    "# Используем reindex(), чтобы сохранить категорию 'крупная компания', так как ни один сотрудник из нее не удовлетворяет условию\n",
    "grouped_1 = grouped_1.reindex(df_merged['category'].unique(), fill_value=0)\n",
    "grouped_1.reset_index()\n"
   ]
  },
  {
   "cell_type": "code",
   "execution_count": 48,
   "id": "01be1850-dda2-41eb-93b3-1f538deb0d16",
   "metadata": {},
   "outputs": [
    {
     "data": {
      "text/html": [
       "<div>\n",
       "<style scoped>\n",
       "    .dataframe tbody tr th:only-of-type {\n",
       "        vertical-align: middle;\n",
       "    }\n",
       "\n",
       "    .dataframe tbody tr th {\n",
       "        vertical-align: top;\n",
       "    }\n",
       "\n",
       "    .dataframe thead th {\n",
       "        text-align: right;\n",
       "    }\n",
       "</style>\n",
       "<table border=\"1\" class=\"dataframe\">\n",
       "  <thead>\n",
       "    <tr style=\"text-align: right;\">\n",
       "      <th></th>\n",
       "      <th>category</th>\n",
       "      <th>Сотрудники без информации об образовании</th>\n",
       "      <th>Всего сотрудников</th>\n",
       "      <th>Доля сотрудников без информации об образовании</th>\n",
       "    </tr>\n",
       "  </thead>\n",
       "  <tbody>\n",
       "    <tr>\n",
       "      <th>0</th>\n",
       "      <td>крупная компания</td>\n",
       "      <td>76</td>\n",
       "      <td>376</td>\n",
       "      <td>0.202128</td>\n",
       "    </tr>\n",
       "    <tr>\n",
       "      <th>1</th>\n",
       "      <td>малая компания</td>\n",
       "      <td>983</td>\n",
       "      <td>3546</td>\n",
       "      <td>0.277214</td>\n",
       "    </tr>\n",
       "    <tr>\n",
       "      <th>2</th>\n",
       "      <td>микрокомпания</td>\n",
       "      <td>14879</td>\n",
       "      <td>39635</td>\n",
       "      <td>0.375401</td>\n",
       "    </tr>\n",
       "    <tr>\n",
       "      <th>3</th>\n",
       "      <td>средняя компания</td>\n",
       "      <td>220</td>\n",
       "      <td>1232</td>\n",
       "      <td>0.178571</td>\n",
       "    </tr>\n",
       "  </tbody>\n",
       "</table>\n",
       "</div>"
      ],
      "text/plain": [
       "           category  Сотрудники без информации об образовании  \\\n",
       "0  крупная компания                                        76   \n",
       "1    малая компания                                       983   \n",
       "2     микрокомпания                                     14879   \n",
       "3  средняя компания                                       220   \n",
       "\n",
       "   Всего сотрудников  Доля сотрудников без информации об образовании  \n",
       "0                376                                        0.202128  \n",
       "1               3546                                        0.277214  \n",
       "2              39635                                        0.375401  \n",
       "3               1232                                        0.178571  "
      ]
     },
     "execution_count": 48,
     "metadata": {},
     "output_type": "execute_result"
    }
   ],
   "source": [
    "# Считаю, сколько всего сотрудников\n",
    "all_people_grouped = df_merged.groupby('category')['id_people'].count()\n",
    "all_people_grouped = all_people_grouped.reset_index()\n",
    "all_people_grouped = all_people_grouped.rename(columns = {'id_people':'Всего сотрудников'})\n",
    "# Создадим датафрейм, в котором узнаем долю сотрудников без информации об образовании по категориям\n",
    "final_grouped = grouped.merge(grouped_1, on = 'category', how = 'right')\n",
    "# Считаем общее число сотрудников без информации об образовании по категориям\n",
    "final_grouped['Сотрудники без информации об образовании'] = final_grouped['no_inf_part'] + final_grouped['instituition']\n",
    "# Присоединяем датафрейм с общим числом сотрудников по каждой категории\n",
    "final_grouped = final_grouped.merge(all_people_grouped, on = 'category', how = 'right')\n",
    "# Удаляем лишние столбцы\n",
    "final_grouped = final_grouped.drop(columns = ['no_inf_part','instituition'])\n",
    "# Считаем долю сотрудников без информации об образовании по категориям\n",
    "final_grouped['Доля сотрудников без информации об образовании'] = final_grouped['Сотрудники без информации об образовании'] / final_grouped['Всего сотрудников']\n",
    "final_grouped"
   ]
  },
  {
   "cell_type": "markdown",
   "id": "1b01ae7f-2bc7-4e94-bbc7-42382c43fd27",
   "metadata": {},
   "source": [
    "Мы получили датафрейм, в котором содержится информация о:\n",
    "- количестве сотрудников без информации об образовании по категориям компаний\n",
    "- общем количестве сотрудников по категориям компаний\n",
    "- доле сотрудников без информации об образовании по категориям компаний\n",
    "\n",
    "Теперь визуализируем полученный результат."
   ]
  },
  {
   "cell_type": "code",
   "execution_count": 49,
   "id": "59b7742d-f6ba-4c31-879a-733404438a64",
   "metadata": {},
   "outputs": [
    {
     "data": {
      "image/png": "[encoded data removed]",
      "text/plain": [
       "<Figure size 504x216 with 1 Axes>"
      ]
     },
     "metadata": {
      "needs_background": "light"
     },
     "output_type": "display_data"
    }
   ],
   "source": [
    "categories_stat = final_grouped.sort_values(by = 'Доля сотрудников без информации об образовании', ascending = False).plot(kind = 'bar',\n",
    "                             title = 'Доля сотрудников без информации об образовании по категориям компаний',\n",
    "                             ylabel = 'Доля',\n",
    "                             xlabel = 'Категория',\n",
    "                             figsize = (7,3),\n",
    "                             x = 'category',\n",
    "                             y = 'Доля сотрудников без информации об образовании',\n",
    "                            color = 'green',\n",
    "                            legend = False,\n",
    "                                    rot = 45)\n",
    "plt.grid()"
   ]
  },
  {
   "cell_type": "markdown",
   "id": "43093f56-9720-4a3d-aee1-ee94f5f56596",
   "metadata": {},
   "source": [
    "Можно заметить, что наиболее часто отсутствует информация об образовании у сотрудников микрокомпаний и малых компаний, 38% и 28% соответственно. Причиной этому могут стать опасения проигрыша в конкуренции с более крупными компаниями в связи с более низким уровнем образования сотрудников.\n",
    "\n",
    "Примерно одинаковый уровень пропусков в информации об образовании сотрудников имеют крупные и средние компании (18 и 20% соотвественно). Эти компании тоже могут бояться предвзятости со стороны клиентов. Также причиной может быть политика конфиденциальности. \n",
    "\n",
    "Выясним, возможно ли присоединить к датафреймам `df_education` и `df_people` датафрейм `df_degrees`. Как мы отмечали ранее, идентификационные номера сотрудников в нем записаны в другой форме. Уберем из них подстроку `p:`."
   ]
  },
  {
   "cell_type": "code",
   "execution_count": 50,
   "id": "bdc238ef-21f9-4e41-a0d4-fdcc4b9b055f",
   "metadata": {},
   "outputs": [
    {
     "data": {
      "text/html": [
       "<div>\n",
       "<style scoped>\n",
       "    .dataframe tbody tr th:only-of-type {\n",
       "        vertical-align: middle;\n",
       "    }\n",
       "\n",
       "    .dataframe tbody tr th {\n",
       "        vertical-align: top;\n",
       "    }\n",
       "\n",
       "    .dataframe thead th {\n",
       "        text-align: right;\n",
       "    }\n",
       "</style>\n",
       "<table border=\"1\" class=\"dataframe\">\n",
       "  <thead>\n",
       "    <tr style=\"text-align: right;\">\n",
       "      <th></th>\n",
       "      <th>id</th>\n",
       "      <th>object_id</th>\n",
       "      <th>degree_type</th>\n",
       "      <th>subject</th>\n",
       "    </tr>\n",
       "  </thead>\n",
       "  <tbody>\n",
       "    <tr>\n",
       "      <th>0</th>\n",
       "      <td>1</td>\n",
       "      <td>p:6117</td>\n",
       "      <td>MBA</td>\n",
       "      <td>NaN</td>\n",
       "    </tr>\n",
       "    <tr>\n",
       "      <th>1</th>\n",
       "      <td>2</td>\n",
       "      <td>p:6136</td>\n",
       "      <td>BA</td>\n",
       "      <td>English, French</td>\n",
       "    </tr>\n",
       "    <tr>\n",
       "      <th>2</th>\n",
       "      <td>3</td>\n",
       "      <td>p:6136</td>\n",
       "      <td>MS</td>\n",
       "      <td>Mass Communication</td>\n",
       "    </tr>\n",
       "    <tr>\n",
       "      <th>3</th>\n",
       "      <td>4</td>\n",
       "      <td>p:6005</td>\n",
       "      <td>MS</td>\n",
       "      <td>Internet Technology</td>\n",
       "    </tr>\n",
       "    <tr>\n",
       "      <th>4</th>\n",
       "      <td>5</td>\n",
       "      <td>p:5832</td>\n",
       "      <td>BCS</td>\n",
       "      <td>Computer Science, Psychology</td>\n",
       "    </tr>\n",
       "  </tbody>\n",
       "</table>\n",
       "</div>"
      ],
      "text/plain": [
       "   id object_id degree_type                       subject\n",
       "0   1    p:6117         MBA                           NaN\n",
       "1   2    p:6136          BA               English, French\n",
       "2   3    p:6136          MS            Mass Communication\n",
       "3   4    p:6005          MS           Internet Technology\n",
       "4   5    p:5832         BCS  Computer Science, Psychology"
      ]
     },
     "execution_count": 50,
     "metadata": {},
     "output_type": "execute_result"
    }
   ],
   "source": [
    "# Выведем пять первых строк\n",
    "df_degrees.head()"
   ]
  },
  {
   "cell_type": "code",
   "execution_count": 51,
   "id": "9a1fe7f3-dc06-4abd-b836-fcf33af8cf53",
   "metadata": {},
   "outputs": [],
   "source": [
    "# Убираем подстроку\n",
    "df_degrees['object_id'] = df_degrees['object_id'].str.replace('p:', '')"
   ]
  },
  {
   "cell_type": "code",
   "execution_count": 52,
   "id": "9543f2fd-0321-4006-96f5-8869ccf97a7d",
   "metadata": {},
   "outputs": [],
   "source": [
    "# Меняем тип данных\n",
    "df_degrees['object_id'] = df_degrees['object_id'].astype('float')"
   ]
  },
  {
   "cell_type": "markdown",
   "id": "e778edf1-6d63-4f9d-9e79-e89dc08dca60",
   "metadata": {},
   "source": [
    "Объединим датафреймы `df_people_and_education` и `df_degrees` после преобразований."
   ]
  },
  {
   "cell_type": "code",
   "execution_count": 53,
   "id": "e9b095ef-3be1-412d-ab0c-eac88fd9408b",
   "metadata": {},
   "outputs": [],
   "source": [
    "df_merged_all = df_people.merge(df_degrees, left_on = 'id', right_on = 'object_id', how = 'inner')"
   ]
  },
  {
   "cell_type": "code",
   "execution_count": 54,
   "id": "0524b26a-273d-4ac1-8a1f-caaa66d20a82",
   "metadata": {},
   "outputs": [
    {
     "name": "stdout",
     "output_type": "stream",
     "text": [
      "<class 'pandas.core.frame.DataFrame'>\n",
      "Int64Index: 109056 entries, 0 to 109055\n",
      "Data columns (total 9 columns):\n",
      " #   Column            Non-Null Count   Dtype  \n",
      "---  ------            --------------   -----  \n",
      " 0   id_x              109056 non-null  int32  \n",
      " 1   first_name        109056 non-null  object \n",
      " 2   last_name         109056 non-null  object \n",
      " 3   company_id        28638 non-null   float32\n",
      " 4   network_username  33575 non-null   object \n",
      " 5   id_y              109056 non-null  int32  \n",
      " 6   object_id         109056 non-null  float64\n",
      " 7   degree_type       97886 non-null   object \n",
      " 8   subject           80890 non-null   object \n",
      "dtypes: float32(1), float64(1), int32(2), object(5)\n",
      "memory usage: 7.1+ MB\n"
     ]
    }
   ],
   "source": [
    "# Выведем информацию о датафрейме\n",
    "df_merged_all.info()"
   ]
  },
  {
   "cell_type": "markdown",
   "id": "d1f1f0ec-db61-43ee-8caf-745e930a632c",
   "metadata": {},
   "source": [
    "Объединяя методом `inner`, мы получили датафрейм размером 109056 строк. Изначальный размер `df_degrees` - 109609 строк, а значит, что большая часть идентификационных номеров сотрудников этого датафрейма нашла совпадение с номерами в `df_people`. Это значит, что датафрейм подходит для объединения.\n",
    "\n",
    "____"
   ]
  },
  {
   "cell_type": "markdown",
   "id": "26e9e6f0-08f8-43c0-b614-e53f44a3cfc1",
   "metadata": {},
   "source": [
    "### 2.3. Объединять или не объединять — вот в чём вопрос\n",
    "\n",
    "Нам необходимо установить, подходит ли для объединения данных столбец `network_username`, который встречается в нескольких датасетах. Для этого мы должны понимать, дублируется ли для разных датасетов информация в столбцах с таким названием, и если да — то насколько часто.\n",
    "\n",
    "Столбцы с названием `network_username` содержатся в трех датафреймах: `df_company_and_rounds`, `df_people` и `df_fund`.\n",
    "\n",
    "Для поиска количества совпадающих (дублирующихся значений) двух датафреймов создадим два списка с их уникальными значениями `network_username` и напишем цикл, сравнивающий их. После чего сравним количество полученных элементов с числом уникальных значений столбцов с никнеймом исходных датафреймов. "
   ]
  },
  {
   "cell_type": "code",
   "execution_count": 55,
   "id": "3b46a036-e10f-4d0e-a9eb-718d4f9976c6",
   "metadata": {},
   "outputs": [
    {
     "data": {
      "text/plain": [
       "'Число уникальных ников в df_company_and_rounds: 79571'"
      ]
     },
     "metadata": {},
     "output_type": "display_data"
    },
    {
     "data": {
      "text/plain": [
       "'Число уникальных ников в df_fund: 2098'"
      ]
     },
     "metadata": {},
     "output_type": "display_data"
    }
   ],
   "source": [
    "# Число уникальных ников в первом датафрейме\n",
    "nicknames_df_company_and_rounds = df_company_and_rounds['network_username'].nunique()\n",
    "# Число уникальных ников во втором датафрейме\n",
    "nicknames_df_fund = df_fund['network_username'].nunique()\n",
    "display(f'Число уникальных ников в df_company_and_rounds: {nicknames_df_company_and_rounds}')\n",
    "display(f'Число уникальных ников в df_fund: {nicknames_df_fund}')"
   ]
  },
  {
   "cell_type": "code",
   "execution_count": 56,
   "id": "0ac93f01-8f11-44c4-84f7-b8918f64cebe",
   "metadata": {},
   "outputs": [],
   "source": [
    "# Список уникальных username датафрейма df_company_and_rounds\n",
    "unique_df_company_and_rounds = df_company_and_rounds['network_username'].unique()\n",
    "# Список уникальных username датафрейма df_fund\n",
    "unique_df_fund = df_fund['network_username'].unique()\n",
    "# Пустой список, в который будем добавлять совпавшие элементы\n",
    "matched_usernames = []"
   ]
  },
  {
   "cell_type": "code",
   "execution_count": 57,
   "id": "f559988c-6bdc-4b67-90d2-1b8e8b7da770",
   "metadata": {},
   "outputs": [],
   "source": [
    "# Цикл\n",
    "for i in unique_df_company_and_rounds:\n",
    "    for j in unique_df_fund:\n",
    "        if i == j:\n",
    "            matched_usernames.append(i)\n",
    "            break "
   ]
  },
  {
   "cell_type": "code",
   "execution_count": 58,
   "id": "d34d1a6e-3d6c-4f9d-b3f9-feb206657759",
   "metadata": {},
   "outputs": [
    {
     "data": {
      "text/plain": [
       "'Количество совпавших значений никнеймов: 70'"
      ]
     },
     "metadata": {},
     "output_type": "display_data"
    },
    {
     "data": {
      "text/plain": [
       "'Это составляет 0.09% от датафрейма df_company_and_rounds'"
      ]
     },
     "metadata": {},
     "output_type": "display_data"
    },
    {
     "data": {
      "text/plain": [
       "'И 3.34% от датафрейма df_fund'"
      ]
     },
     "metadata": {},
     "output_type": "display_data"
    }
   ],
   "source": [
    "# Найдем длину списка\n",
    "display(f'Количество совпавших значений никнеймов: {len(matched_usernames)}')\n",
    "display(f'Это составляет {round(len(matched_usernames) / nicknames_df_company_and_rounds * 100,2)}% от датафрейма df_company_and_rounds')\n",
    "display(f'И {round(len(matched_usernames) / nicknames_df_fund * 100,2)}% от датафрейма df_fund')"
   ]
  },
  {
   "cell_type": "markdown",
   "id": "eba148f5-e207-42fa-b8ad-ac35c03c2098",
   "metadata": {},
   "source": [
    "Всего 70 совпадений. В то время как уникальных значений в исходных датафреймах 79571 и 2098. В обоих случаях совпадений меньше 4%, а это значит, что датафреймы нельзя объединять по столбцу `network_username`.\n",
    "проверим дублируемость ников в датафреймах `df_company_and_rounds` и `df_people`:"
   ]
  },
  {
   "cell_type": "code",
   "execution_count": 59,
   "id": "01bc174b-8815-4ca6-bb61-42f369c6e928",
   "metadata": {},
   "outputs": [
    {
     "data": {
      "text/plain": [
       "'Число уникальных ников в df_company_and_rounds: 79571'"
      ]
     },
     "metadata": {},
     "output_type": "display_data"
    },
    {
     "data": {
      "text/plain": [
       "'Число уникальных ников в df_people: 38421'"
      ]
     },
     "metadata": {},
     "output_type": "display_data"
    }
   ],
   "source": [
    "# Число уникальных ников в первом датафрейме\n",
    "nicknames_df_company_and_rounds = df_company_and_rounds['network_username'].nunique()\n",
    "# Число уникальных ников во втором датафрейме\n",
    "nicknames_df_people = df_people['network_username'].nunique()\n",
    "display(f'Число уникальных ников в df_company_and_rounds: {nicknames_df_company_and_rounds}')\n",
    "display(f'Число уникальных ников в df_people: {nicknames_df_people}')"
   ]
  },
  {
   "cell_type": "code",
   "execution_count": 60,
   "id": "b63fd800-ee68-4ffe-9a8f-9c14419559f4",
   "metadata": {},
   "outputs": [],
   "source": [
    "# Список уникальных username датафрейма df_company_and_rounds\n",
    "unique_df_company_and_rounds = df_company_and_rounds['network_username'].unique()\n",
    "# Список уникальных username датафрейма df_people\n",
    "unique_df_people = df_people['network_username'].unique()\n",
    "# Пустой список, в который будем добавлять совпавшие элементы\n",
    "matched_usernames = []"
   ]
  },
  {
   "cell_type": "code",
   "execution_count": 61,
   "id": "0e397455-29a2-4221-9847-5aa37933cd2f",
   "metadata": {},
   "outputs": [],
   "source": [
    "# Цикл\n",
    "for i in unique_df_company_and_rounds:\n",
    "    for j in unique_df_people:\n",
    "        if i == j:\n",
    "            matched_usernames.append(i)\n",
    "            break "
   ]
  },
  {
   "cell_type": "code",
   "execution_count": 62,
   "id": "e9424673-501b-425b-b61e-dcaeea18ee6b",
   "metadata": {},
   "outputs": [
    {
     "data": {
      "text/plain": [
       "'Количество совпавших значений никнеймов: 2199'"
      ]
     },
     "metadata": {},
     "output_type": "display_data"
    },
    {
     "data": {
      "text/plain": [
       "'Это составляет 2.76% от датафрейма df_company_and_rounds'"
      ]
     },
     "metadata": {},
     "output_type": "display_data"
    },
    {
     "data": {
      "text/plain": [
       "'И 5.72% от датафрейма df_people'"
      ]
     },
     "metadata": {},
     "output_type": "display_data"
    }
   ],
   "source": [
    "# Найдем его длину\n",
    "display(f'Количество совпавших значений никнеймов: {len(matched_usernames)}')\n",
    "display(f'Это составляет {round(len(matched_usernames) / nicknames_df_company_and_rounds * 100,2)}% от датафрейма df_company_and_rounds')\n",
    "display(f'И {round(len(matched_usernames) / nicknames_df_people * 100,2)}% от датафрейма df_people')"
   ]
  },
  {
   "cell_type": "markdown",
   "id": "276fbfa8-f0e2-45e3-9b80-f59ae774bc34",
   "metadata": {},
   "source": [
    "Точно так же, как и в первом случае, совпадений слишком мало. Поэтому датафреймы `df_company_and_rounds` и `df_people` не надо объединять по столбцу `network_username`.\n",
    "\n",
    "Перейдем к оценке дублирования никнеймов в датафреймах `df_people` и `df_fund`:"
   ]
  },
  {
   "cell_type": "code",
   "execution_count": 63,
   "id": "618a0c73-8811-4335-898d-a14fe7eaef17",
   "metadata": {},
   "outputs": [
    {
     "data": {
      "text/plain": [
       "'Число уникальных ников в df_people: 38421'"
      ]
     },
     "metadata": {},
     "output_type": "display_data"
    },
    {
     "data": {
      "text/plain": [
       "'Число уникальных ников в df_fund: 2098'"
      ]
     },
     "metadata": {},
     "output_type": "display_data"
    }
   ],
   "source": [
    "display(f'Число уникальных ников в df_people: {nicknames_df_people}')\n",
    "display(f'Число уникальных ников в df_fund: {nicknames_df_fund}')"
   ]
  },
  {
   "cell_type": "code",
   "execution_count": 64,
   "id": "9a454cd7-de58-4187-b2da-8c91963ac1c2",
   "metadata": {},
   "outputs": [],
   "source": [
    "# Пустой список, в который будем добавлять совпавшие элементы\n",
    "matched_usernames = []\n",
    "\n",
    "# Цикл\n",
    "for i in unique_df_people:\n",
    "    for j in unique_df_fund:\n",
    "        if i == j:\n",
    "            matched_usernames.append(i)\n",
    "            break "
   ]
  },
  {
   "cell_type": "code",
   "execution_count": 65,
   "id": "ea9ed26a-447d-48a5-9e60-501c73523e8c",
   "metadata": {},
   "outputs": [
    {
     "data": {
      "text/plain": [
       "'Количество совпавших значений никнеймов: 79'"
      ]
     },
     "metadata": {},
     "output_type": "display_data"
    },
    {
     "data": {
      "text/plain": [
       "'Это составляет 0.21% от датафрейма df_people'"
      ]
     },
     "metadata": {},
     "output_type": "display_data"
    },
    {
     "data": {
      "text/plain": [
       "'И 3.77% от датафрейма df_fund'"
      ]
     },
     "metadata": {},
     "output_type": "display_data"
    }
   ],
   "source": [
    "# Найдем длину\n",
    "display(f'Количество совпавших значений никнеймов: {len(matched_usernames)}')\n",
    "display(f'Это составляет {round(len(matched_usernames) / nicknames_df_people * 100,2)}% от датафрейма df_people')\n",
    "display(f'И {round(len(matched_usernames) / nicknames_df_fund * 100,2)}% от датафрейма df_fund')"
   ]
  },
  {
   "cell_type": "markdown",
   "id": "1a744c50-2bd0-4efa-8c4a-ea77d8fe2160",
   "metadata": {},
   "source": [
    "Аналогично первым двум случаям, датафреймы `df_people` и `df_fund` нельзя соединять по столбцу `network_username`, так как они имеют низкую частоту дублирования по его значениям. \n",
    "\n",
    "______"
   ]
  },
  {
   "cell_type": "markdown",
   "id": "a55e43c7-1b33-4cd3-ad3f-2f8a433bc4d1",
   "metadata": {},
   "source": [
    "### 2.4. Проблемный датасет и причина возникновения пропусков\n",
    "\n",
    "Во время собственного анализа данных у заказчика больше всего вопросов возникло к датасету `company_and_rounds.csv`. В нём много пропусков как раз в информации о раундах, которая заказчику важна. Поэтому нам нужно привести данные в вид, который позволит в дальнейшем проводить анализ в разрезе отдельных компаний. \n",
    "\n",
    "Также по гипотезе заказчика данные по компаниям из этой таблицы раньше хранились иначе, более удобным для исследования образом. Проверим ее. \n",
    "\n",
    "Для начала выделим основные проблемы этого датафрейма:\n",
    "- большое количество пропусков в важных столбцах\n",
    "- есть два столбца, хранящие одну информацию, - идентификационный номер компании, причем они содержат разное количество ошибок. Можно проверить, возможно ли объединить их в один столбец при условии, что известные id являются дубликатами друг друга в двух столбцах. Тогда 302 пропуска в первом столбце мы заполним значениями из второго.\n",
    "- Также содержатся два столбца с информацией о сумме финансирования - `funding_total` и `raised_amount`.\n",
    "\n",
    "Еще раз посмотрим на пропуски в датафрейме. "
   ]
  },
  {
   "cell_type": "code",
   "execution_count": 66,
   "id": "c93d52a4-73e1-458f-90db-dc88c503f70a",
   "metadata": {},
   "outputs": [
    {
     "data": {
      "text/plain": [
       "'Доля пропусков в датафрейме df_company_and_rounds'"
      ]
     },
     "metadata": {},
     "output_type": "display_data"
    },
    {
     "data": {
      "text/plain": [
       "company_id               0.001387\n",
       "name                     0.001387\n",
       "category_code            0.339288\n",
       "status                   0.001387\n",
       "founded_at               0.495091\n",
       "closed_at                0.984162\n",
       "domain                   0.324258\n",
       "network_username         0.561316\n",
       "country_code             0.501286\n",
       "investment_rounds        0.001387\n",
       "funding_rounds           0.001387\n",
       "funding_total            0.001387\n",
       "milestones               0.001387\n",
       "funding_round_id         0.756959\n",
       "company_id_2             0.756959\n",
       "funded_at                0.758098\n",
       "funding_round_type       0.756959\n",
       "raised_amount            0.756959\n",
       "pre_money_valuation      0.756959\n",
       "participants             0.756959\n",
       "is_first_round           0.756959\n",
       "is_last_round            0.756959\n",
       "year_of_funding_round    0.758098\n",
       "dtype: float64"
      ]
     },
     "execution_count": 66,
     "metadata": {},
     "output_type": "execute_result"
    }
   ],
   "source": [
    "display('Доля пропусков в датафрейме df_company_and_rounds')\n",
    "df_company_and_rounds.isna().sum() / df_company_and_rounds.shape[0]"
   ]
  },
  {
   "cell_type": "markdown",
   "id": "f749911e-2df6-4fab-8b02-862fdc20a0d5",
   "metadata": {},
   "source": [
    "Заметим, что есть группы столбцов, которые имеют одинаковое количество пропусков. Первая группа: `company_id`, `status`, `investment_rounds`, `funding_rounds`, `funding_total` и `milestones` по 0.14% пропусков. Вторая группа: `funding_round_id`, `company_id_2`, `funding_round_type`, `raised_amount`, `pre_money_valuation`, `participants`, `is_first_round` и `is_last_round` по 75.7% пропусков. Мы предполагаем, что датафрейм был создан на основе двух таблиц, хранящих разные данные о компаниях. В первой таблице были столбцы из первой группы, а во второй - из второй. Их объединили full join, например, по столбцу `name` или каким-то другим образом, и получили датафрейм с двумя столбцами `company_id`. Причем пустые значения первого из них можно заполнить значениями второго, и наоборот. Первая таблица была больше первой, поэтому процент пропусков во второй группе больше - так как данных в первой не хвататает для заполнения столбцов второй. Проверим нашу гипотезу, предварительно просмотрев дубликаты датафрейма, если они есть. "
   ]
  },
  {
   "cell_type": "code",
   "execution_count": 67,
   "id": "fc05ac61-4dc9-4bae-bd51-9bcb4355052c",
   "metadata": {},
   "outputs": [
    {
     "data": {
      "text/plain": [
       "0"
      ]
     },
     "execution_count": 67,
     "metadata": {},
     "output_type": "execute_result"
    }
   ],
   "source": [
    "df_company_and_rounds.duplicated().sum()"
   ]
  },
  {
   "cell_type": "code",
   "execution_count": 68,
   "id": "d67d177e-3f2d-4205-8349-3726b4fa31f9",
   "metadata": {},
   "outputs": [
    {
     "data": {
      "text/html": [
       "<div>\n",
       "<style scoped>\n",
       "    .dataframe tbody tr th:only-of-type {\n",
       "        vertical-align: middle;\n",
       "    }\n",
       "\n",
       "    .dataframe tbody tr th {\n",
       "        vertical-align: top;\n",
       "    }\n",
       "\n",
       "    .dataframe thead th {\n",
       "        text-align: right;\n",
       "    }\n",
       "</style>\n",
       "<table border=\"1\" class=\"dataframe\">\n",
       "  <thead>\n",
       "    <tr style=\"text-align: right;\">\n",
       "      <th></th>\n",
       "      <th>company_id</th>\n",
       "      <th>name</th>\n",
       "      <th>category_code</th>\n",
       "      <th>status</th>\n",
       "      <th>founded_at</th>\n",
       "      <th>closed_at</th>\n",
       "      <th>domain</th>\n",
       "      <th>network_username</th>\n",
       "      <th>country_code</th>\n",
       "      <th>investment_rounds</th>\n",
       "      <th>...</th>\n",
       "      <th>funding_round_id</th>\n",
       "      <th>company_id_2</th>\n",
       "      <th>funded_at</th>\n",
       "      <th>funding_round_type</th>\n",
       "      <th>raised_amount</th>\n",
       "      <th>pre_money_valuation</th>\n",
       "      <th>participants</th>\n",
       "      <th>is_first_round</th>\n",
       "      <th>is_last_round</th>\n",
       "      <th>year_of_funding_round</th>\n",
       "    </tr>\n",
       "  </thead>\n",
       "  <tbody>\n",
       "  </tbody>\n",
       "</table>\n",
       "<p>0 rows × 23 columns</p>\n",
       "</div>"
      ],
      "text/plain": [
       "Empty DataFrame\n",
       "Columns: [company_id, name, category_code, status, founded_at, closed_at, domain, network_username, country_code, investment_rounds, funding_rounds, funding_total, milestones, funding_round_id, company_id_2, funded_at, funding_round_type, raised_amount, pre_money_valuation, participants, is_first_round, is_last_round, year_of_funding_round]\n",
       "Index: []\n",
       "\n",
       "[0 rows x 23 columns]"
      ]
     },
     "execution_count": 68,
     "metadata": {},
     "output_type": "execute_result"
    }
   ],
   "source": [
    "df_company_and_rounds[df_company_and_rounds.duplicated(subset =['company_id', 'funding_round_id'], keep = False)]"
   ]
  },
  {
   "cell_type": "markdown",
   "id": "e88131f6-3fb5-4956-abac-864d5f3e1ff2",
   "metadata": {},
   "source": [
    "Дубликатов нет, поэтому продолжаем. \n",
    "\n",
    "Проверяем гипотезу. Начнем с работы со столбцами `company_id` и `company_id_2`. Для начала проверим нет ли противоречий между этими столбцами. Для этого выведем все одновременно непустые строки `company_id'` и `company_id_2` и проверим их равенство с помощью метода `equals()`:"
   ]
  },
  {
   "cell_type": "code",
   "execution_count": 69,
   "id": "53803b57-24ca-4541-84ed-58506964356e",
   "metadata": {},
   "outputs": [],
   "source": [
    "# Создаем отдельный датафрейм для сравнения\n",
    "compare = df_company_and_rounds[['company_id', 'company_id_2']].loc[(df_company_and_rounds['company_id'].isna() == False) & (df_company_and_rounds['company_id_2'].isna() == False)]"
   ]
  },
  {
   "cell_type": "code",
   "execution_count": 70,
   "id": "bc30816e-8e98-4125-a46c-a2700d286f95",
   "metadata": {},
   "outputs": [
    {
     "data": {
      "text/plain": [
       "True"
      ]
     },
     "execution_count": 70,
     "metadata": {},
     "output_type": "execute_result"
    }
   ],
   "source": [
    "# Сравниваем\n",
    "compare['company_id'].equals(compare['company_id_2'])"
   ]
  },
  {
   "cell_type": "markdown",
   "id": "24796e42-1d20-411b-8dba-bc4b5697531e",
   "metadata": {},
   "source": [
    "Метод вернул нам `True`. Это значит, что непустые строки идентичны и между ними нет противоречий. \n",
    "\n",
    "Проверим, можно ли данные столбца `company_id` заполнить данными второго столбца:"
   ]
  },
  {
   "cell_type": "code",
   "execution_count": 71,
   "id": "6cc1043a-7053-4ad9-b538-1937661cc3dc",
   "metadata": {},
   "outputs": [
    {
     "data": {
      "text/html": [
       "<div>\n",
       "<style scoped>\n",
       "    .dataframe tbody tr th:only-of-type {\n",
       "        vertical-align: middle;\n",
       "    }\n",
       "\n",
       "    .dataframe tbody tr th {\n",
       "        vertical-align: top;\n",
       "    }\n",
       "\n",
       "    .dataframe thead th {\n",
       "        text-align: right;\n",
       "    }\n",
       "</style>\n",
       "<table border=\"1\" class=\"dataframe\">\n",
       "  <thead>\n",
       "    <tr style=\"text-align: right;\">\n",
       "      <th></th>\n",
       "      <th>company_id</th>\n",
       "      <th>company_id_2</th>\n",
       "    </tr>\n",
       "  </thead>\n",
       "  <tbody>\n",
       "    <tr>\n",
       "      <th>217472</th>\n",
       "      <td>NaN</td>\n",
       "      <td>1267.0</td>\n",
       "    </tr>\n",
       "    <tr>\n",
       "      <th>217473</th>\n",
       "      <td>NaN</td>\n",
       "      <td>558.0</td>\n",
       "    </tr>\n",
       "    <tr>\n",
       "      <th>217474</th>\n",
       "      <td>NaN</td>\n",
       "      <td>746.0</td>\n",
       "    </tr>\n",
       "    <tr>\n",
       "      <th>217475</th>\n",
       "      <td>NaN</td>\n",
       "      <td>748.0</td>\n",
       "    </tr>\n",
       "    <tr>\n",
       "      <th>217476</th>\n",
       "      <td>NaN</td>\n",
       "      <td>804.0</td>\n",
       "    </tr>\n",
       "    <tr>\n",
       "      <th>...</th>\n",
       "      <td>...</td>\n",
       "      <td>...</td>\n",
       "    </tr>\n",
       "    <tr>\n",
       "      <th>217769</th>\n",
       "      <td>NaN</td>\n",
       "      <td>282847.0</td>\n",
       "    </tr>\n",
       "    <tr>\n",
       "      <th>217770</th>\n",
       "      <td>NaN</td>\n",
       "      <td>55477.0</td>\n",
       "    </tr>\n",
       "    <tr>\n",
       "      <th>217771</th>\n",
       "      <td>NaN</td>\n",
       "      <td>55477.0</td>\n",
       "    </tr>\n",
       "    <tr>\n",
       "      <th>217772</th>\n",
       "      <td>NaN</td>\n",
       "      <td>283492.0</td>\n",
       "    </tr>\n",
       "    <tr>\n",
       "      <th>217773</th>\n",
       "      <td>NaN</td>\n",
       "      <td>284191.0</td>\n",
       "    </tr>\n",
       "  </tbody>\n",
       "</table>\n",
       "<p>302 rows × 2 columns</p>\n",
       "</div>"
      ],
      "text/plain": [
       "        company_id  company_id_2\n",
       "217472         NaN        1267.0\n",
       "217473         NaN         558.0\n",
       "217474         NaN         746.0\n",
       "217475         NaN         748.0\n",
       "217476         NaN         804.0\n",
       "...            ...           ...\n",
       "217769         NaN      282847.0\n",
       "217770         NaN       55477.0\n",
       "217771         NaN       55477.0\n",
       "217772         NaN      283492.0\n",
       "217773         NaN      284191.0\n",
       "\n",
       "[302 rows x 2 columns]"
      ]
     },
     "execution_count": 71,
     "metadata": {},
     "output_type": "execute_result"
    }
   ],
   "source": [
    "# Проверяем\n",
    "df_company_and_rounds[['company_id', 'company_id_2']].loc[(df_company_and_rounds['company_id'].isna() == True) & (df_company_and_rounds['company_id_2'].isna() == False)]"
   ]
  },
  {
   "cell_type": "markdown",
   "id": "934735a5-5774-4dfb-bc11-f56ede550dc8",
   "metadata": {},
   "source": [
    "Все пропущенные значения первого столбца можно заполнить данными второго столбца с номерами компаний. Проверим таким же образом второй столбец. "
   ]
  },
  {
   "cell_type": "code",
   "execution_count": 72,
   "id": "2edf741e-cd49-4f3c-8644-ed9f091dffba",
   "metadata": {},
   "outputs": [
    {
     "data": {
      "text/html": [
       "<div>\n",
       "<style scoped>\n",
       "    .dataframe tbody tr th:only-of-type {\n",
       "        vertical-align: middle;\n",
       "    }\n",
       "\n",
       "    .dataframe tbody tr th {\n",
       "        vertical-align: top;\n",
       "    }\n",
       "\n",
       "    .dataframe thead th {\n",
       "        text-align: right;\n",
       "    }\n",
       "</style>\n",
       "<table border=\"1\" class=\"dataframe\">\n",
       "  <thead>\n",
       "    <tr style=\"text-align: right;\">\n",
       "      <th></th>\n",
       "      <th>company_id</th>\n",
       "      <th>company_id_2</th>\n",
       "    </tr>\n",
       "  </thead>\n",
       "  <tbody>\n",
       "    <tr>\n",
       "      <th>3</th>\n",
       "      <td>10.0</td>\n",
       "      <td>NaN</td>\n",
       "    </tr>\n",
       "    <tr>\n",
       "      <th>4</th>\n",
       "      <td>100.0</td>\n",
       "      <td>NaN</td>\n",
       "    </tr>\n",
       "    <tr>\n",
       "      <th>5</th>\n",
       "      <td>10000.0</td>\n",
       "      <td>NaN</td>\n",
       "    </tr>\n",
       "    <tr>\n",
       "      <th>6</th>\n",
       "      <td>10001.0</td>\n",
       "      <td>NaN</td>\n",
       "    </tr>\n",
       "    <tr>\n",
       "      <th>7</th>\n",
       "      <td>10002.0</td>\n",
       "      <td>NaN</td>\n",
       "    </tr>\n",
       "    <tr>\n",
       "      <th>...</th>\n",
       "      <td>...</td>\n",
       "      <td>...</td>\n",
       "    </tr>\n",
       "    <tr>\n",
       "      <th>217457</th>\n",
       "      <td>11.0</td>\n",
       "      <td>NaN</td>\n",
       "    </tr>\n",
       "    <tr>\n",
       "      <th>217460</th>\n",
       "      <td>150413.0</td>\n",
       "      <td>NaN</td>\n",
       "    </tr>\n",
       "    <tr>\n",
       "      <th>217461</th>\n",
       "      <td>155238.0</td>\n",
       "      <td>NaN</td>\n",
       "    </tr>\n",
       "    <tr>\n",
       "      <th>217462</th>\n",
       "      <td>183352.0</td>\n",
       "      <td>NaN</td>\n",
       "    </tr>\n",
       "    <tr>\n",
       "      <th>217468</th>\n",
       "      <td>174536.0</td>\n",
       "      <td>NaN</td>\n",
       "    </tr>\n",
       "  </tbody>\n",
       "</table>\n",
       "<p>164846 rows × 2 columns</p>\n",
       "</div>"
      ],
      "text/plain": [
       "        company_id  company_id_2\n",
       "3             10.0           NaN\n",
       "4            100.0           NaN\n",
       "5          10000.0           NaN\n",
       "6          10001.0           NaN\n",
       "7          10002.0           NaN\n",
       "...            ...           ...\n",
       "217457        11.0           NaN\n",
       "217460    150413.0           NaN\n",
       "217461    155238.0           NaN\n",
       "217462    183352.0           NaN\n",
       "217468    174536.0           NaN\n",
       "\n",
       "[164846 rows x 2 columns]"
      ]
     },
     "execution_count": 72,
     "metadata": {},
     "output_type": "execute_result"
    }
   ],
   "source": [
    "df_company_and_rounds[['company_id', 'company_id_2']].loc[(df_company_and_rounds['company_id'].isna() == False) & (df_company_and_rounds['company_id_2'].isna() == True)]"
   ]
  },
  {
   "cell_type": "code",
   "execution_count": 73,
   "id": "54f80343-8561-49c3-9373-9d7fb22dd795",
   "metadata": {},
   "outputs": [
    {
     "data": {
      "text/plain": [
       "164846"
      ]
     },
     "execution_count": 73,
     "metadata": {},
     "output_type": "execute_result"
    }
   ],
   "source": [
    "# Смотрим количество пропусков в этом столбце\n",
    "df_company_and_rounds['company_id_2'].isna().sum()"
   ]
  },
  {
   "cell_type": "markdown",
   "id": "37a442b7-602f-45c3-bb24-3845198daf90",
   "metadata": {},
   "source": [
    "Все его пустые значения можно заполнить значениями первого столбца. \n",
    "\n",
    "Таким образом, мы пришли к выводу, что `company_id` и `company_id_2` могли быть одним столбцом, но по каким-то причинам произошло его раздвоение и данные были разбиты на два столбца. Но, вероятнее, это они находились в двух разных таблицах. \n",
    "\n",
    "Мы можем восстановить полноту любого из этих столбцов. Для этого пустые значения столбца `company_id` заполним значениями из `company_id_2`."
   ]
  },
  {
   "cell_type": "code",
   "execution_count": 74,
   "id": "166d555f-af42-4c58-9cbb-73df984c1145",
   "metadata": {},
   "outputs": [],
   "source": [
    "df_company_and_rounds['company_id'] = df_company_and_rounds['company_id'].fillna(df_company_and_rounds['company_id_2'])"
   ]
  },
  {
   "cell_type": "markdown",
   "id": "c616e425-52a7-4ddd-9bd3-5dc5fe4b9531",
   "metadata": {},
   "source": [
    "Теперь у нас нет пропусков в столбце `company_id`. Для оптимизации датафрейма удалим столбец `company_id_2`."
   ]
  },
  {
   "cell_type": "code",
   "execution_count": 75,
   "id": "1a0b99c7-f3ce-4070-89e9-35537ec3e69b",
   "metadata": {},
   "outputs": [],
   "source": [
    "df_company_and_rounds = df_company_and_rounds.drop(columns = 'company_id_2')\n",
    "# И приведем столбец `company_id` к типу int\n",
    "df_company_and_rounds['company_id'] = df_company_and_rounds['company_id'].astype(int)"
   ]
  },
  {
   "cell_type": "markdown",
   "id": "6ba87084-2edf-4eeb-af97-aebdf4eca342",
   "metadata": {},
   "source": [
    "Аналогичное исследование проведем со столбцами `funding_total` и `raised_amount`."
   ]
  },
  {
   "cell_type": "code",
   "execution_count": 76,
   "id": "0db35037-cba0-4272-8ff9-a7e4b21aa1ef",
   "metadata": {},
   "outputs": [],
   "source": [
    "# Создаем отдельный датафрейм для сравнения\n",
    "compare = df_company_and_rounds[['funding_total', 'raised_amount']].loc[(df_company_and_rounds['funding_total'].isna() == False) & (df_company_and_rounds['raised_amount'].isna() == False)]"
   ]
  },
  {
   "cell_type": "code",
   "execution_count": 77,
   "id": "76ee0792-e6e2-4978-8aee-5c7ac4031d2d",
   "metadata": {},
   "outputs": [
    {
     "data": {
      "text/plain": [
       "False"
      ]
     },
     "execution_count": 77,
     "metadata": {},
     "output_type": "execute_result"
    }
   ],
   "source": [
    "# Сравниваем\n",
    "compare['funding_total'].equals(compare['raised_amount'])"
   ]
  },
  {
   "cell_type": "markdown",
   "id": "b44e4285-fb47-4fcf-b464-dfacab70c1a0",
   "metadata": {},
   "source": [
    "Столбцы не равны. А значит, нужно понять, в чем их разница, и скорректировать их описание."
   ]
  },
  {
   "cell_type": "code",
   "execution_count": 78,
   "id": "5d118e60-99e4-4c3f-a674-af6d4b7c5da3",
   "metadata": {},
   "outputs": [
    {
     "data": {
      "text/html": [
       "<div>\n",
       "<style scoped>\n",
       "    .dataframe tbody tr th:only-of-type {\n",
       "        vertical-align: middle;\n",
       "    }\n",
       "\n",
       "    .dataframe tbody tr th {\n",
       "        vertical-align: top;\n",
       "    }\n",
       "\n",
       "    .dataframe thead th {\n",
       "        text-align: right;\n",
       "    }\n",
       "</style>\n",
       "<table border=\"1\" class=\"dataframe\">\n",
       "  <thead>\n",
       "    <tr style=\"text-align: right;\">\n",
       "      <th></th>\n",
       "      <th>funding_total</th>\n",
       "      <th>raised_amount</th>\n",
       "    </tr>\n",
       "  </thead>\n",
       "  <tbody>\n",
       "    <tr>\n",
       "      <th>40036</th>\n",
       "      <td>487237.0</td>\n",
       "      <td>487238.0</td>\n",
       "    </tr>\n",
       "  </tbody>\n",
       "</table>\n",
       "</div>"
      ],
      "text/plain": [
       "       funding_total  raised_amount\n",
       "40036       487237.0       487238.0"
      ]
     },
     "execution_count": 78,
     "metadata": {},
     "output_type": "execute_result"
    }
   ],
   "source": [
    "compare.loc[compare['funding_total'] < compare['raised_amount']]"
   ]
  },
  {
   "cell_type": "markdown",
   "id": "cd03a936-82d7-4d1d-9280-9a91709889e9",
   "metadata": {},
   "source": [
    "Заметим, что во всех случаях, за исключением одного, `funding_total` больше `raised_amount`. Приведенная выше строка, скорее всего, является опечаткой и эти два значения должны быть равны. Тогда сделаем вывод, что:\n",
    "- Столбец `funding_total` - общая сумма привлечённых средств.\n",
    "- Столбец `raised_amount` - сумма инвестиций, которую привлекла компания в определённом раунде.\n",
    "\n",
    "Выведем информацию о пустых значениях в столбцах:"
   ]
  },
  {
   "cell_type": "code",
   "execution_count": 79,
   "id": "c916ca14-44b5-4d12-8393-c46d97ccdec8",
   "metadata": {},
   "outputs": [
    {
     "data": {
      "text/plain": [
       "company_id               0.000000\n",
       "name                     0.001387\n",
       "category_code            0.339288\n",
       "status                   0.001387\n",
       "founded_at               0.495091\n",
       "closed_at                0.984162\n",
       "domain                   0.324258\n",
       "network_username         0.561316\n",
       "country_code             0.501286\n",
       "investment_rounds        0.001387\n",
       "funding_rounds           0.001387\n",
       "funding_total            0.001387\n",
       "milestones               0.001387\n",
       "funding_round_id         0.756959\n",
       "funded_at                0.758098\n",
       "funding_round_type       0.756959\n",
       "raised_amount            0.756959\n",
       "pre_money_valuation      0.756959\n",
       "participants             0.756959\n",
       "is_first_round           0.756959\n",
       "is_last_round            0.756959\n",
       "year_of_funding_round    0.758098\n",
       "dtype: float64"
      ]
     },
     "execution_count": 79,
     "metadata": {},
     "output_type": "execute_result"
    }
   ],
   "source": [
    "df_company_and_rounds.isna().sum() / df_company_and_rounds.shape[0]"
   ]
  },
  {
   "cell_type": "markdown",
   "id": "8bbe7904-5c5b-42ed-a7fd-f92e7315b714",
   "metadata": {},
   "source": [
    "В столбцах `name`, `investment_rounds`, `funding_rounds`, `funding_total`, `milestones` количество пропусков менее 1%, поэтому мы можем удалить эти строки, так как значения в них мы не можем их восстановить."
   ]
  },
  {
   "cell_type": "code",
   "execution_count": 80,
   "id": "094f99e7-1d67-474b-9bca-1d5c6082f4de",
   "metadata": {},
   "outputs": [],
   "source": [
    "# Сохраним начальное число строк в датафрейме\n",
    "lines = df_company_and_rounds.shape[0]"
   ]
  },
  {
   "cell_type": "code",
   "execution_count": 81,
   "id": "2e6f3383-8c06-4e56-b248-8a60e8ea1e3f",
   "metadata": {},
   "outputs": [
    {
     "data": {
      "text/plain": [
       "company_id               0.000000\n",
       "name                     0.000000\n",
       "category_code            0.338370\n",
       "status                   0.000000\n",
       "founded_at               0.494390\n",
       "closed_at                0.984140\n",
       "domain                   0.323320\n",
       "network_username         0.560707\n",
       "country_code             0.500593\n",
       "investment_rounds        0.000000\n",
       "funding_rounds           0.000000\n",
       "funding_total            0.000000\n",
       "milestones               0.000000\n",
       "funding_round_id         0.758010\n",
       "funded_at                0.759132\n",
       "funding_round_type       0.758010\n",
       "raised_amount            0.758010\n",
       "pre_money_valuation      0.758010\n",
       "participants             0.758010\n",
       "is_first_round           0.758010\n",
       "is_last_round            0.758010\n",
       "year_of_funding_round    0.759132\n",
       "dtype: float64"
      ]
     },
     "execution_count": 81,
     "metadata": {},
     "output_type": "execute_result"
    }
   ],
   "source": [
    "# Удаляем\n",
    "df_company_and_rounds = df_company_and_rounds.dropna(subset = ['name'])\n",
    "# Выводим процент пропусков\n",
    "df_company_and_rounds.isna().sum() / df_company_and_rounds.shape[0]"
   ]
  },
  {
   "cell_type": "code",
   "execution_count": 82,
   "id": "ff7a8705-5f9d-43d9-a826-3b6d6a0774c3",
   "metadata": {},
   "outputs": [
    {
     "data": {
      "text/plain": [
       "'Количество удаленных строк: 302'"
      ]
     },
     "metadata": {},
     "output_type": "display_data"
    },
    {
     "data": {
      "text/plain": [
       "'Процент удаленных строк: 0.13867587498966819'"
      ]
     },
     "metadata": {},
     "output_type": "display_data"
    }
   ],
   "source": [
    "# Посчитаем количество удаленных строк в абсолютном и относительном значении\n",
    "deleted = lines - df_company_and_rounds.shape[0]\n",
    "display(f'Количество удаленных строк: {deleted}')\n",
    "part = deleted / lines * 100 \n",
    "display(f'Процент удаленных строк: {part}')"
   ]
  },
  {
   "cell_type": "markdown",
   "id": "2e01aa49-5161-49df-8aa7-70fd23b2fadd",
   "metadata": {},
   "source": [
    "Заметим, что при удалении пропущенных строк столбца `name` были удалены и пропущенные значения других столбцов с таким же количеством пропусков, то есть потерянная информация находилась в одних и тех же строках. Это подтверждает нашу теорию о происхождении датафрейма в ходе объединения двух таблиц.\n",
    "\n",
    "К сожалению, у нас недостаточно данных, чтобы восстановить пропущенные значения во второй группе столбцов с одинаковым числом пропусков. Мы можем удалить их, но тогда мы потеряем большую часть данных из столбцов `investment_rounds`, `funding_rounds` и др. Поэтому сохраним пропуски. Не будем заменять их заглушками, так как их слишком много и в будущем придется учитывать их при анализе. \n"
   ]
  },
  {
   "cell_type": "markdown",
   "id": "9a2c5caf-81bb-483a-995d-9cb247112d8b",
   "metadata": {},
   "source": [
    "Для удобства работы с данными разделим датафрейм на две части, как было изначально. Первая с информацией о компаниях, а вторая - с информацией о раундах финансирования. Для этого создадим два датафрейма: `df_company` и `df_rounds`."
   ]
  },
  {
   "cell_type": "code",
   "execution_count": 83,
   "id": "9d3c15ff-10be-47e2-b98a-ccb1de8fb990",
   "metadata": {},
   "outputs": [],
   "source": [
    "df_company = df_company_and_rounds.loc[:,:'milestones']\n",
    "df_rounds = df_company_and_rounds[['company_id', 'funding_round_id', 'funded_at', 'funding_round_type', 'raised_amount', 'pre_money_valuation', 'participants', 'is_first_round', 'is_last_round', 'year_of_funding_round']]     "
   ]
  },
  {
   "cell_type": "markdown",
   "id": "aecf18c0-e166-4d49-b738-95fdc55c4404",
   "metadata": {},
   "source": [
    "Предобработаем полученные датафреймы. Начнем с `df_company`. Выведем общую информацию и информацию о пропусках в датафрейме."
   ]
  },
  {
   "cell_type": "code",
   "execution_count": 84,
   "id": "4f55e0be-d843-4d12-b266-f3a78da8744f",
   "metadata": {},
   "outputs": [
    {
     "name": "stdout",
     "output_type": "stream",
     "text": [
      "<class 'pandas.core.frame.DataFrame'>\n",
      "Int64Index: 217472 entries, 0 to 217471\n",
      "Data columns (total 13 columns):\n",
      " #   Column             Non-Null Count   Dtype         \n",
      "---  ------             --------------   -----         \n",
      " 0   company_id         217472 non-null  int64         \n",
      " 1   name               217472 non-null  object        \n",
      " 2   category_code      143886 non-null  object        \n",
      " 3   status             217472 non-null  object        \n",
      " 4   founded_at         109956 non-null  datetime64[ns]\n",
      " 5   closed_at          3449 non-null    datetime64[ns]\n",
      " 6   domain             147159 non-null  object        \n",
      " 7   network_username   95534 non-null   object        \n",
      " 8   country_code       108607 non-null  object        \n",
      " 9   investment_rounds  217472 non-null  float32       \n",
      " 10  funding_rounds     217472 non-null  float32       \n",
      " 11  funding_total      217472 non-null  float32       \n",
      " 12  milestones         217472 non-null  float32       \n",
      "dtypes: datetime64[ns](2), float32(4), int64(1), object(6)\n",
      "memory usage: 19.9+ MB\n"
     ]
    }
   ],
   "source": [
    "df_company.info()"
   ]
  },
  {
   "cell_type": "markdown",
   "id": "cb775098-2e94-47d7-abfa-053478c1a8d9",
   "metadata": {},
   "source": [
    "Датафрейм `df_company` содержит информацию о компаниях в 13 столбцах и 217471 строках. Так как мы проводили анализ датафрейма, на основе которого создали этот, то можем утверждать, что:\n",
    "- Названия столбцов отражают содержимое.\n",
    "- Типы данных подобраны оптимально.\n",
    "- Не требуется изменение названий столбцов, так как они представлены в едином стиле.\n",
    "\n",
    "Перейдем к информации о пропусках."
   ]
  },
  {
   "cell_type": "code",
   "execution_count": 85,
   "id": "a41741e0-ab9a-4829-b1d0-a1dcef0d204c",
   "metadata": {},
   "outputs": [
    {
     "data": {
      "text/plain": [
       "company_id                0\n",
       "name                      0\n",
       "category_code         73586\n",
       "status                    0\n",
       "founded_at           107516\n",
       "closed_at            214023\n",
       "domain                70313\n",
       "network_username     121938\n",
       "country_code         108865\n",
       "investment_rounds         0\n",
       "funding_rounds            0\n",
       "funding_total             0\n",
       "milestones                0\n",
       "dtype: int64"
      ]
     },
     "execution_count": 85,
     "metadata": {},
     "output_type": "execute_result"
    }
   ],
   "source": [
    "df_company.isna().sum()"
   ]
  },
  {
   "cell_type": "code",
   "execution_count": 86,
   "id": "e4cdae49-168f-4354-a91f-92af0b179cd2",
   "metadata": {},
   "outputs": [
    {
     "data": {
      "text/plain": [
       "company_id           0.000000\n",
       "name                 0.000000\n",
       "category_code        0.338370\n",
       "status               0.000000\n",
       "founded_at           0.494390\n",
       "closed_at            0.984140\n",
       "domain               0.323320\n",
       "network_username     0.560707\n",
       "country_code         0.500593\n",
       "investment_rounds    0.000000\n",
       "funding_rounds       0.000000\n",
       "funding_total        0.000000\n",
       "milestones           0.000000\n",
       "dtype: float64"
      ]
     },
     "execution_count": 86,
     "metadata": {},
     "output_type": "execute_result"
    }
   ],
   "source": [
    "df_company.isna().sum() / df_company.shape[0]"
   ]
  },
  {
   "cell_type": "markdown",
   "id": "ef9b0a63-682a-461b-a78b-5ffb49fc7a4c",
   "metadata": {},
   "source": [
    "Датафрейм содержит пропуски в шести столбцах: `category_code` (33.84%), `founded_at` (49.44%), `closed_at` (98.41%), `domain` (32.33%), `network_username` (56.07%) и `country_code` (50.06%). Мы не будем заполнять пропуски в данных. \n",
    "\n",
    "Проведем нормализацию данных в столбцах `name`, `category_code`, `status`, а затем проверим на наличие дубликатов. "
   ]
  },
  {
   "cell_type": "code",
   "execution_count": 87,
   "id": "0a432585-32b3-4cb5-a022-ad8b4588f942",
   "metadata": {},
   "outputs": [],
   "source": [
    "# Сохраняем исходное число строк \n",
    "lines = df_company.shape[0]"
   ]
  },
  {
   "cell_type": "code",
   "execution_count": 88,
   "id": "f0b975ff-bae8-486a-b471-ba9f366a320f",
   "metadata": {},
   "outputs": [],
   "source": [
    "# Нормализуем данные \n",
    "df_company['name'] = df_company['name'].str.lower()\n",
    "df_company['category_code'] = df_company['category_code'].str.lower()\n",
    "df_company['status'] = df_company['status'].str.lower()\n",
    "df_company['country_code'] = df_company['country_code'].str.upper()"
   ]
  },
  {
   "cell_type": "code",
   "execution_count": 89,
   "id": "3b228a8b-512b-448d-9091-1a8e90041395",
   "metadata": {},
   "outputs": [
    {
     "data": {
      "text/plain": [
       "'Найдено 20919 дубликатов'"
      ]
     },
     "metadata": {},
     "output_type": "display_data"
    }
   ],
   "source": [
    "# Проверяем на явные дубликаты\n",
    "display(f'Найдено {df_company.duplicated().sum()} дубликатов')"
   ]
  },
  {
   "cell_type": "code",
   "execution_count": 90,
   "id": "605ec303-5c03-4a09-9ccb-ecb4e7a0e52b",
   "metadata": {},
   "outputs": [],
   "source": [
    "# Удаляем явные дубликаты\n",
    "df_company = df_company.drop_duplicates()"
   ]
  },
  {
   "cell_type": "code",
   "execution_count": 91,
   "id": "913f0113-e8f7-4c08-83a8-216e782e5156",
   "metadata": {},
   "outputs": [
    {
     "data": {
      "text/plain": [
       "48"
      ]
     },
     "execution_count": 91,
     "metadata": {},
     "output_type": "execute_result"
    }
   ],
   "source": [
    "# Проверим дубликаты по столбцу 'name'\n",
    "df_company.duplicated(subset = ['name']).sum()"
   ]
  },
  {
   "cell_type": "code",
   "execution_count": 92,
   "id": "10f9fe3d-7754-4316-867f-309baa000c21",
   "metadata": {},
   "outputs": [
    {
     "data": {
      "text/html": [
       "<div>\n",
       "<style scoped>\n",
       "    .dataframe tbody tr th:only-of-type {\n",
       "        vertical-align: middle;\n",
       "    }\n",
       "\n",
       "    .dataframe tbody tr th {\n",
       "        vertical-align: top;\n",
       "    }\n",
       "\n",
       "    .dataframe thead th {\n",
       "        text-align: right;\n",
       "    }\n",
       "</style>\n",
       "<table border=\"1\" class=\"dataframe\">\n",
       "  <thead>\n",
       "    <tr style=\"text-align: right;\">\n",
       "      <th></th>\n",
       "      <th>company_id</th>\n",
       "      <th>name</th>\n",
       "      <th>category_code</th>\n",
       "      <th>status</th>\n",
       "      <th>founded_at</th>\n",
       "      <th>closed_at</th>\n",
       "      <th>domain</th>\n",
       "      <th>network_username</th>\n",
       "      <th>country_code</th>\n",
       "      <th>investment_rounds</th>\n",
       "      <th>funding_rounds</th>\n",
       "      <th>funding_total</th>\n",
       "      <th>milestones</th>\n",
       "    </tr>\n",
       "  </thead>\n",
       "  <tbody>\n",
       "    <tr>\n",
       "      <th>92247</th>\n",
       "      <td>229768</td>\n",
       "      <td>apex partners isarel</td>\n",
       "      <td>NaN</td>\n",
       "      <td>operating</td>\n",
       "      <td>NaT</td>\n",
       "      <td>NaT</td>\n",
       "      <td>NaN</td>\n",
       "      <td>NaN</td>\n",
       "      <td>NaN</td>\n",
       "      <td>0.0</td>\n",
       "      <td>0.0</td>\n",
       "      <td>0.0</td>\n",
       "      <td>0.0</td>\n",
       "    </tr>\n",
       "    <tr>\n",
       "      <th>92252</th>\n",
       "      <td>229772</td>\n",
       "      <td>apex partners isarel</td>\n",
       "      <td>NaN</td>\n",
       "      <td>operating</td>\n",
       "      <td>NaT</td>\n",
       "      <td>NaT</td>\n",
       "      <td>NaN</td>\n",
       "      <td>NaN</td>\n",
       "      <td>NaN</td>\n",
       "      <td>0.0</td>\n",
       "      <td>0.0</td>\n",
       "      <td>0.0</td>\n",
       "      <td>0.0</td>\n",
       "    </tr>\n",
       "    <tr>\n",
       "      <th>134462</th>\n",
       "      <td>268777</td>\n",
       "      <td>apneadx</td>\n",
       "      <td>NaN</td>\n",
       "      <td>operating</td>\n",
       "      <td>NaT</td>\n",
       "      <td>NaT</td>\n",
       "      <td>NaN</td>\n",
       "      <td>NaN</td>\n",
       "      <td>NaN</td>\n",
       "      <td>0.0</td>\n",
       "      <td>0.0</td>\n",
       "      <td>0.0</td>\n",
       "      <td>0.0</td>\n",
       "    </tr>\n",
       "    <tr>\n",
       "      <th>134463</th>\n",
       "      <td>268778</td>\n",
       "      <td>apneadx</td>\n",
       "      <td>NaN</td>\n",
       "      <td>operating</td>\n",
       "      <td>NaT</td>\n",
       "      <td>NaT</td>\n",
       "      <td>NaN</td>\n",
       "      <td>NaN</td>\n",
       "      <td>NaN</td>\n",
       "      <td>0.0</td>\n",
       "      <td>0.0</td>\n",
       "      <td>0.0</td>\n",
       "      <td>0.0</td>\n",
       "    </tr>\n",
       "    <tr>\n",
       "      <th>125715</th>\n",
       "      <td>260452</td>\n",
       "      <td>aquatic inf</td>\n",
       "      <td>NaN</td>\n",
       "      <td>operating</td>\n",
       "      <td>NaT</td>\n",
       "      <td>NaT</td>\n",
       "      <td>NaN</td>\n",
       "      <td>NaN</td>\n",
       "      <td>NaN</td>\n",
       "      <td>0.0</td>\n",
       "      <td>0.0</td>\n",
       "      <td>0.0</td>\n",
       "      <td>0.0</td>\n",
       "    </tr>\n",
       "    <tr>\n",
       "      <th>...</th>\n",
       "      <td>...</td>\n",
       "      <td>...</td>\n",
       "      <td>...</td>\n",
       "      <td>...</td>\n",
       "      <td>...</td>\n",
       "      <td>...</td>\n",
       "      <td>...</td>\n",
       "      <td>...</td>\n",
       "      <td>...</td>\n",
       "      <td>...</td>\n",
       "      <td>...</td>\n",
       "      <td>...</td>\n",
       "      <td>...</td>\n",
       "    </tr>\n",
       "    <tr>\n",
       "      <th>88357</th>\n",
       "      <td>225877</td>\n",
       "      <td>trend offset printing</td>\n",
       "      <td>NaN</td>\n",
       "      <td>operating</td>\n",
       "      <td>NaT</td>\n",
       "      <td>NaT</td>\n",
       "      <td>NaN</td>\n",
       "      <td>NaN</td>\n",
       "      <td>NaN</td>\n",
       "      <td>0.0</td>\n",
       "      <td>0.0</td>\n",
       "      <td>0.0</td>\n",
       "      <td>0.0</td>\n",
       "    </tr>\n",
       "    <tr>\n",
       "      <th>140649</th>\n",
       "      <td>274700</td>\n",
       "      <td>walmoo</td>\n",
       "      <td>NaN</td>\n",
       "      <td>operating</td>\n",
       "      <td>NaT</td>\n",
       "      <td>NaT</td>\n",
       "      <td>walmoo.com</td>\n",
       "      <td>NaN</td>\n",
       "      <td>NaN</td>\n",
       "      <td>0.0</td>\n",
       "      <td>0.0</td>\n",
       "      <td>0.0</td>\n",
       "      <td>0.0</td>\n",
       "    </tr>\n",
       "    <tr>\n",
       "      <th>140646</th>\n",
       "      <td>274699</td>\n",
       "      <td>walmoo</td>\n",
       "      <td>NaN</td>\n",
       "      <td>operating</td>\n",
       "      <td>NaT</td>\n",
       "      <td>NaT</td>\n",
       "      <td>walmoo.com</td>\n",
       "      <td>NaN</td>\n",
       "      <td>NaN</td>\n",
       "      <td>0.0</td>\n",
       "      <td>0.0</td>\n",
       "      <td>0.0</td>\n",
       "      <td>0.0</td>\n",
       "    </tr>\n",
       "    <tr>\n",
       "      <th>92255</th>\n",
       "      <td>229775</td>\n",
       "      <td>wharton school,</td>\n",
       "      <td>NaN</td>\n",
       "      <td>operating</td>\n",
       "      <td>NaT</td>\n",
       "      <td>NaT</td>\n",
       "      <td>NaN</td>\n",
       "      <td>NaN</td>\n",
       "      <td>NaN</td>\n",
       "      <td>0.0</td>\n",
       "      <td>0.0</td>\n",
       "      <td>0.0</td>\n",
       "      <td>0.0</td>\n",
       "    </tr>\n",
       "    <tr>\n",
       "      <th>92251</th>\n",
       "      <td>229771</td>\n",
       "      <td>wharton school,</td>\n",
       "      <td>NaN</td>\n",
       "      <td>operating</td>\n",
       "      <td>NaT</td>\n",
       "      <td>NaT</td>\n",
       "      <td>NaN</td>\n",
       "      <td>NaN</td>\n",
       "      <td>NaN</td>\n",
       "      <td>0.0</td>\n",
       "      <td>0.0</td>\n",
       "      <td>0.0</td>\n",
       "      <td>0.0</td>\n",
       "    </tr>\n",
       "  </tbody>\n",
       "</table>\n",
       "<p>95 rows × 13 columns</p>\n",
       "</div>"
      ],
      "text/plain": [
       "        company_id                   name category_code     status founded_at  \\\n",
       "92247       229768   apex partners isarel           NaN  operating        NaT   \n",
       "92252       229772   apex partners isarel           NaN  operating        NaT   \n",
       "134462      268777                apneadx           NaN  operating        NaT   \n",
       "134463      268778                apneadx           NaN  operating        NaT   \n",
       "125715      260452            aquatic inf           NaN  operating        NaT   \n",
       "...            ...                    ...           ...        ...        ...   \n",
       "88357       225877  trend offset printing           NaN  operating        NaT   \n",
       "140649      274700                 walmoo           NaN  operating        NaT   \n",
       "140646      274699                 walmoo           NaN  operating        NaT   \n",
       "92255       229775        wharton school,           NaN  operating        NaT   \n",
       "92251       229771        wharton school,           NaN  operating        NaT   \n",
       "\n",
       "       closed_at      domain network_username country_code  investment_rounds  \\\n",
       "92247        NaT         NaN              NaN          NaN                0.0   \n",
       "92252        NaT         NaN              NaN          NaN                0.0   \n",
       "134462       NaT         NaN              NaN          NaN                0.0   \n",
       "134463       NaT         NaN              NaN          NaN                0.0   \n",
       "125715       NaT         NaN              NaN          NaN                0.0   \n",
       "...          ...         ...              ...          ...                ...   \n",
       "88357        NaT         NaN              NaN          NaN                0.0   \n",
       "140649       NaT  walmoo.com              NaN          NaN                0.0   \n",
       "140646       NaT  walmoo.com              NaN          NaN                0.0   \n",
       "92255        NaT         NaN              NaN          NaN                0.0   \n",
       "92251        NaT         NaN              NaN          NaN                0.0   \n",
       "\n",
       "        funding_rounds  funding_total  milestones  \n",
       "92247              0.0            0.0         0.0  \n",
       "92252              0.0            0.0         0.0  \n",
       "134462             0.0            0.0         0.0  \n",
       "134463             0.0            0.0         0.0  \n",
       "125715             0.0            0.0         0.0  \n",
       "...                ...            ...         ...  \n",
       "88357              0.0            0.0         0.0  \n",
       "140649             0.0            0.0         0.0  \n",
       "140646             0.0            0.0         0.0  \n",
       "92255              0.0            0.0         0.0  \n",
       "92251              0.0            0.0         0.0  \n",
       "\n",
       "[95 rows x 13 columns]"
      ]
     },
     "execution_count": 92,
     "metadata": {},
     "output_type": "execute_result"
    }
   ],
   "source": [
    "#Выведем их на экран \n",
    "df_company[df_company.duplicated(subset = ['name'], keep = False)].sort_values(by = 'name')"
   ]
  },
  {
   "cell_type": "markdown",
   "id": "773913bd-e932-4134-a780-269d1c685d2d",
   "metadata": {},
   "source": [
    "Это неявные дубликаты. Их различия только в столбце `company_id`. Удалим их."
   ]
  },
  {
   "cell_type": "code",
   "execution_count": 93,
   "id": "d26076cd-21c8-427f-8f08-bce65a48d117",
   "metadata": {},
   "outputs": [],
   "source": [
    "df_company = df_company.drop_duplicates(subset = ['name'])"
   ]
  },
  {
   "cell_type": "markdown",
   "id": "b0a8c8a9-0019-4179-9ffe-f28602b604be",
   "metadata": {},
   "source": [
    "Посмотрим на относительно и абсолютное число удаленных строк. "
   ]
  },
  {
   "cell_type": "code",
   "execution_count": 94,
   "id": "7395e169-5ee9-422a-a93a-246596d7ce67",
   "metadata": {},
   "outputs": [
    {
     "data": {
      "text/plain": [
       "'Количество удаленных строк: 20967'"
      ]
     },
     "metadata": {},
     "output_type": "display_data"
    },
    {
     "data": {
      "text/plain": [
       "'Доля удаленных строк: 0.09641241171277222'"
      ]
     },
     "metadata": {},
     "output_type": "display_data"
    },
    {
     "name": "stdout",
     "output_type": "stream",
     "text": [
      "<class 'pandas.core.frame.DataFrame'>\n",
      "Int64Index: 196505 entries, 0 to 217469\n",
      "Data columns (total 13 columns):\n",
      " #   Column             Non-Null Count   Dtype         \n",
      "---  ------             --------------   -----         \n",
      " 0   company_id         196505 non-null  int64         \n",
      " 1   name               196505 non-null  object        \n",
      " 2   category_code      123174 non-null  object        \n",
      " 3   status             196505 non-null  object        \n",
      " 4   founded_at         91220 non-null   datetime64[ns]\n",
      " 5   closed_at          2620 non-null    datetime64[ns]\n",
      " 6   domain             126531 non-null  object        \n",
      " 7   network_username   80585 non-null   object        \n",
      " 8   country_code       87984 non-null   object        \n",
      " 9   investment_rounds  196505 non-null  float32       \n",
      " 10  funding_rounds     196505 non-null  float32       \n",
      " 11  funding_total      196505 non-null  float32       \n",
      " 12  milestones         196505 non-null  float32       \n",
      "dtypes: datetime64[ns](2), float32(4), int64(1), object(6)\n",
      "memory usage: 18.0+ MB\n"
     ]
    }
   ],
   "source": [
    "deleted = lines - df_company.shape[0]\n",
    "display(f'Количество удаленных строк: {deleted}')\n",
    "part_deleted = deleted / lines \n",
    "display(f'Доля удаленных строк: {part_deleted}')\n",
    "\n",
    "df_company.info()"
   ]
  },
  {
   "cell_type": "markdown",
   "id": "013591bf-3b1c-4e9a-8136-864319958f20",
   "metadata": {},
   "source": [
    "Мы предобработали датафрейм `df_company`. В результате предобработки:\n",
    "- Проверили нормализацию данных `name`, `category_code`, `status`, `country_code`, приведя содержимое столбцов к нижнему/верхнему регистру\n",
    "- Провели проверку на явные и неявные дубликаты\n",
    "- Удалили 9.64% строк от исходного датафрейма\n",
    "- Получили датафрейм, состоящий из 13 столбцов и 196504 строк.\n",
    "\n",
    "Перейдем к обработке датафрейма `df_rounds`. "
   ]
  },
  {
   "cell_type": "code",
   "execution_count": 95,
   "id": "1dd96506-143a-4fa5-84bd-d67ad9d50d6c",
   "metadata": {},
   "outputs": [
    {
     "name": "stdout",
     "output_type": "stream",
     "text": [
      "<class 'pandas.core.frame.DataFrame'>\n",
      "Int64Index: 217472 entries, 0 to 217471\n",
      "Data columns (total 10 columns):\n",
      " #   Column                 Non-Null Count   Dtype         \n",
      "---  ------                 --------------   -----         \n",
      " 0   company_id             217472 non-null  int64         \n",
      " 1   funding_round_id       52626 non-null   float32       \n",
      " 2   funded_at              52382 non-null   datetime64[ns]\n",
      " 3   funding_round_type     52626 non-null   object        \n",
      " 4   raised_amount          52626 non-null   float32       \n",
      " 5   pre_money_valuation    52626 non-null   float32       \n",
      " 6   participants           52626 non-null   float32       \n",
      " 7   is_first_round         52626 non-null   float32       \n",
      " 8   is_last_round          52626 non-null   float32       \n",
      " 9   year_of_funding_round  52382 non-null   float64       \n",
      "dtypes: datetime64[ns](1), float32(6), float64(1), int64(1), object(1)\n",
      "memory usage: 13.3+ MB\n"
     ]
    }
   ],
   "source": [
    "# Выводим общую информацию \n",
    "df_rounds.info()"
   ]
  },
  {
   "cell_type": "markdown",
   "id": "99f416be-7ec6-4079-a9c7-08e03773d725",
   "metadata": {},
   "source": [
    "Датафрейм `df_rounds` содержит информацию о раундах финансирования/инвестиций в 10 столбцах и 217471 строках.\n",
    "- Типы данных для столбцов и их размер выбраны корректно, однако некоторые столбцы для удобства можно перевести в тип `int` после обработки пропусков \n",
    "- Названия столбцов отображают содержимое и представлены в едином стиле"
   ]
  },
  {
   "cell_type": "code",
   "execution_count": 96,
   "id": "4a034640-92d1-4d23-89be-397e742cdcad",
   "metadata": {},
   "outputs": [
    {
     "data": {
      "text/plain": [
       "company_id                    0\n",
       "funding_round_id         164846\n",
       "funded_at                165090\n",
       "funding_round_type       164846\n",
       "raised_amount            164846\n",
       "pre_money_valuation      164846\n",
       "participants             164846\n",
       "is_first_round           164846\n",
       "is_last_round            164846\n",
       "year_of_funding_round    165090\n",
       "dtype: int64"
      ]
     },
     "execution_count": 96,
     "metadata": {},
     "output_type": "execute_result"
    }
   ],
   "source": [
    "df_rounds.isna().sum()"
   ]
  },
  {
   "cell_type": "code",
   "execution_count": 97,
   "id": "b77295a9-97b2-4d47-8447-c7676d7a7a3a",
   "metadata": {},
   "outputs": [
    {
     "data": {
      "text/plain": [
       "company_id               0.000000\n",
       "funding_round_id         0.758010\n",
       "funded_at                0.759132\n",
       "funding_round_type       0.758010\n",
       "raised_amount            0.758010\n",
       "pre_money_valuation      0.758010\n",
       "participants             0.758010\n",
       "is_first_round           0.758010\n",
       "is_last_round            0.758010\n",
       "year_of_funding_round    0.759132\n",
       "dtype: float64"
      ]
     },
     "execution_count": 97,
     "metadata": {},
     "output_type": "execute_result"
    }
   ],
   "source": [
    "df_rounds.isna().sum() / df_rounds.shape[0]"
   ]
  },
  {
   "cell_type": "markdown",
   "id": "6b9a181d-3c6d-40e4-b634-1474d91ab13e",
   "metadata": {},
   "source": [
    "Мы видим, что более половины информации во многих столбцах содержат пропуски. Это означает, что некоторые компании, не участвовали в инвестиционных раундах, а значит, их нужно удалить из данного датафрейма."
   ]
  },
  {
   "cell_type": "code",
   "execution_count": 98,
   "id": "c731e9eb-8d00-4526-a46a-5a1deed54953",
   "metadata": {},
   "outputs": [],
   "source": [
    "# Сохраняем исходное число строк\n",
    "lines = df_rounds.shape[0]"
   ]
  },
  {
   "cell_type": "code",
   "execution_count": 99,
   "id": "a81c0c4c-2c34-47f8-99fd-f71ccf5e8603",
   "metadata": {},
   "outputs": [],
   "source": [
    "# Удаляем пустые строки по столбцу с идентфикиатором этапа финансирования\n",
    "df_rounds = df_rounds.dropna(subset = ['funding_round_id'])"
   ]
  },
  {
   "cell_type": "markdown",
   "id": "1b8c9f08-f818-4e89-a08d-103fa40ca4f5",
   "metadata": {},
   "source": [
    "Теперь в датафрейме `df_rounds` хранится информация только о тех, компаниях, которые участвовали в ивеситиционных раундах или раундах финансирования. Проверим данные на явные и неявные дубликаты.  "
   ]
  },
  {
   "cell_type": "code",
   "execution_count": 100,
   "id": "c41f83e0-83b0-488a-8e77-5fdb87cedb56",
   "metadata": {},
   "outputs": [
    {
     "data": {
      "text/plain": [
       "'Найдено 0 дубликатов'"
      ]
     },
     "metadata": {},
     "output_type": "display_data"
    }
   ],
   "source": [
    "# Проверяем на явные дубликаты\n",
    "display(f'Найдено {df_rounds.duplicated().sum()} дубликатов')"
   ]
  },
  {
   "cell_type": "code",
   "execution_count": 101,
   "id": "9cf85c2b-8ea1-4285-8f7d-c0d8732325ae",
   "metadata": {},
   "outputs": [
    {
     "data": {
      "text/plain": [
       "'Найдено 0 дубликатов'"
      ]
     },
     "metadata": {},
     "output_type": "display_data"
    }
   ],
   "source": [
    "# Проверяем на неявные дубликаты\n",
    "dupl = df_rounds.duplicated(subset = ['company_id', 'funding_round_id']).sum()\n",
    "display(f'Найдено {dupl} дубликатов')"
   ]
  },
  {
   "cell_type": "code",
   "execution_count": 102,
   "id": "1a0b34b7-d4f7-4695-b907-a6a6fdb50a14",
   "metadata": {},
   "outputs": [
    {
     "data": {
      "text/plain": [
       "'Количество удаленных строк: 164846'"
      ]
     },
     "metadata": {},
     "output_type": "display_data"
    },
    {
     "data": {
      "text/plain": [
       "'Доля удаленных строк: 0.7580102266038846'"
      ]
     },
     "metadata": {},
     "output_type": "display_data"
    },
    {
     "name": "stdout",
     "output_type": "stream",
     "text": [
      "<class 'pandas.core.frame.DataFrame'>\n",
      "Int64Index: 52626 entries, 0 to 217471\n",
      "Data columns (total 10 columns):\n",
      " #   Column                 Non-Null Count  Dtype         \n",
      "---  ------                 --------------  -----         \n",
      " 0   company_id             52626 non-null  int64         \n",
      " 1   funding_round_id       52626 non-null  float32       \n",
      " 2   funded_at              52382 non-null  datetime64[ns]\n",
      " 3   funding_round_type     52626 non-null  object        \n",
      " 4   raised_amount          52626 non-null  float32       \n",
      " 5   pre_money_valuation    52626 non-null  float32       \n",
      " 6   participants           52626 non-null  float32       \n",
      " 7   is_first_round         52626 non-null  float32       \n",
      " 8   is_last_round          52626 non-null  float32       \n",
      " 9   year_of_funding_round  52382 non-null  float64       \n",
      "dtypes: datetime64[ns](1), float32(6), float64(1), int64(1), object(1)\n",
      "memory usage: 3.2+ MB\n"
     ]
    }
   ],
   "source": [
    "# Анализируем количество удаленных строк датафрейма\n",
    "deleted = lines - df_rounds.shape[0]\n",
    "display(f'Количество удаленных строк: {deleted}')\n",
    "part_deleted = deleted / lines \n",
    "display(f'Доля удаленных строк: {part_deleted}')\n",
    "\n",
    "df_rounds.info()"
   ]
  },
  {
   "cell_type": "markdown",
   "id": "5a221b38-46c9-44f2-a9d5-29ccae91880e",
   "metadata": {},
   "source": [
    "Таким образом,  мы получили датафрейм `df_rounds`, состоящий из 10 столбцов 52626 строк, удалив 75% строк от исходного датафрейма. "
   ]
  },
  {
   "cell_type": "markdown",
   "id": "fbb1dcad-2436-4574-b4b9-92a38c65ffc1",
   "metadata": {},
   "source": [
    "### Промежуточные выводы\n",
    "\n",
    "В результате исследования данных мы пришли к таким выводам:\n",
    "- Максимальный средний размер собранных на раунд финансирования средств был отмечен в 2000 году (11485509 денежных единиц). Мы располагаем данными до 2013 года и можем отметить, что вплоть до него, наблюдалась четкая теденция роста количества раундов финансирования, в то время как средний размер средств выделяемых на один раунд претерпевал и рост, и падение.\n",
    "- Наиболее часто скрывают информацию о сотрудниках микрокомпании и маленькие компании. Возможно, это связано с тем, что они не хотят рисковать своим положением на рынке и проиграть в ходе конкуренции только из-за возможного более низкого уровня образования работников.\n",
    "- К датафреймам `df_people` и `df_education` возможно присоединить `df_degrees` по идентификатору сотрудника. \n",
    "- Ни один датафрейм нельзя объединить с другим по столбцу `network_username`, так как частота дублирования его значений во всех случаях менее 5%. А это значит, что эти столбцы датафреймов содержат разные значения.\n",
    "- Датафрейм `df_company_and_rounds` содержит большое число пропусков, так как был образован в результате некорректного соединения двух разных таблиц. Мы восстановили целостность столбца `company_id` и удалили менее 1% строк для очистки датафрейма от части пропусков.\n",
    "- Мы восстановили исходные таблицы, на основе которых был создан датафрейм `df_company_and_rounds`: первая содержит информацию о компаниях, а вторая - информацию о раундах финасирования и инвестирования. \n",
    "____"
   ]
  },
  {
   "cell_type": "markdown",
   "id": "6d3f5818-9b6b-4dd0-9301-51aff4df64cf",
   "metadata": {},
   "source": [
    "## 3. Исследовательский анализ объединённых таблиц\n",
    "\n",
    "### 3.1. Объединение данных\n",
    "\n",
    "Заказчика интересуют те компании, которые меняли или готовы менять владельцев. Получение инвестиций или финансирования означает интерес к покупке или продаже компании. Поэтому для ответов на последующие вопросы нам необходимо учитывать только те компании, у которых указаны значения `funding_rounds` или `investment_rounds` больше нуля, или те, у которых в колонке `status` указано `acquired`.\n",
    "\n",
    "Отфильтруем датафрейм `df_company` по указанным признакам и сохраним его в `df_company_filtered`. "
   ]
  },
  {
   "cell_type": "code",
   "execution_count": 103,
   "id": "25ae4401-525d-4c55-987f-b929e69405ec",
   "metadata": {},
   "outputs": [],
   "source": [
    "# Фильтруем\n",
    "df_company_filtered = df_company[(df_company['funding_rounds'] > 0) | (df_company['investment_rounds'] > 0) | (df_company['status'] == 'acquired')]"
   ]
  },
  {
   "cell_type": "code",
   "execution_count": 104,
   "id": "769e6617-4ee9-4ec1-beb2-be4d26fdb640",
   "metadata": {},
   "outputs": [
    {
     "data": {
      "text/plain": [
       "40745"
      ]
     },
     "execution_count": 104,
     "metadata": {},
     "output_type": "execute_result"
    }
   ],
   "source": [
    "# Выводим количество строк\n",
    "df_company_filtered.shape[0]"
   ]
  },
  {
   "cell_type": "markdown",
   "id": "ecf7e380-9dd5-470b-b413-ac0faa28e0ad",
   "metadata": {},
   "source": [
    "В получившемся датафрейме осталось 40745 строк. Далее будем работать именно с этим датафреймом.\n",
    "\n",
    "________"
   ]
  },
  {
   "cell_type": "markdown",
   "id": "156ed5b2-c8a0-48a1-9e61-2908e928bc76",
   "metadata": {},
   "source": [
    "### 3.2. Анализ выбросов\n",
    "\n",
    "Заказчик хочет узнать обычный для рассматриваемого периода размер средств, который предоставлялся компаниям. Для ответа на этот вопрос нам понадобится столбец `funding_total`. Проанализируем его значения."
   ]
  },
  {
   "cell_type": "code",
   "execution_count": 105,
   "id": "8be5a78b-5c94-4ec0-972c-2b61b8738596",
   "metadata": {},
   "outputs": [
    {
     "data": {
      "text/plain": [
       "count        40745.00\n",
       "mean      10135632.00\n",
       "std       56465704.00\n",
       "min              0.00\n",
       "25%              0.00\n",
       "50%         600000.00\n",
       "75%        5650000.00\n",
       "max     5699999744.00\n",
       "Name: funding_total, dtype: float64"
      ]
     },
     "execution_count": 105,
     "metadata": {},
     "output_type": "execute_result"
    }
   ],
   "source": [
    "# Установим опцию отображения чисел в обычном формате, а не экспоненциальном\n",
    "pd.set_option('display.float_format', '{:.2f}'.format)\n",
    "# Применяем метод describe\n",
    "df_company_filtered['funding_total'].describe()"
   ]
  },
  {
   "cell_type": "markdown",
   "id": "941ad6c3-4067-4ae9-84b3-f0c242d2fe19",
   "metadata": {},
   "source": [
    "Мы видим, что среднее значение не совпадает с медианой, что говорит о ненормальном распределении данных. Также стандартное отклонение имеет большое значение (56466784). Это указывает на широкий разброс данных и высокую вероятность вбросов, которые нужно будет отфильтровать. Максимальное значение значительно превосходит данные, лежащие до 75 процентиля, что так же может указывать на аномально высокие значения.\n",
    "\n",
    "Эти факторы необходимо учесть при дальнейшей обработке информации. Для визуализации полученных данных построим гистограмму, отфильтровав значения равные 0. "
   ]
  },
  {
   "cell_type": "code",
   "execution_count": 106,
   "id": "ba6a4d38-ecdf-48d5-b66f-3ef8bd48a383",
   "metadata": {},
   "outputs": [
    {
     "data": {
      "image/png": "[encoded data removed]",
      "text/plain": [
       "<Figure size 720x432 with 1 Axes>"
      ]
     },
     "metadata": {
      "needs_background": "light"
     },
     "output_type": "display_data"
    }
   ],
   "source": [
    "funding_total = df_company_filtered['funding_total']\n",
    "funding_total = funding_total[funding_total > 0]\n",
    "# Вычисление логарифма значений\n",
    "log_funding_total = np.log(funding_total)\n",
    "\n",
    "# Визуализация логарифмического распределения\n",
    "plt.figure(figsize=(10, 6))\n",
    "sns.histplot(log_funding_total, bins=30, kde=True)\n",
    "plt.title('Логарифмическое распределение funding_total')\n",
    "plt.xlabel('Логарифм суммы финансирования (log10)')\n",
    "plt.ylabel('Количество компаний')\n",
    "plt.grid()\n",
    "plt.show() "
   ]
  },
  {
   "cell_type": "markdown",
   "id": "6935ed5e-00b4-4626-ba2a-3ad9bf65e211",
   "metadata": {},
   "source": [
    "Мы видим, что данные имеют распределение приближенное к нормальному. Однако у нас достаточно большой разброс данных, поэтому для нахождения типичной суммы финансирования будем использовать медиану, не учитывая значения `funding_total` равные 0. "
   ]
  },
  {
   "cell_type": "code",
   "execution_count": 107,
   "id": "bded91d9-6d03-45d5-8db4-4547e3f160d5",
   "metadata": {},
   "outputs": [
    {
     "data": {
      "text/plain": [
       "'Типичный размер суммы финансирования за отобранный период составляет 2564000'"
      ]
     },
     "metadata": {},
     "output_type": "display_data"
    }
   ],
   "source": [
    "mediana = int(df_company_filtered[df_company_filtered['funding_total'] > 0]['funding_total'].median())\n",
    "display(f'Типичный размер суммы финансирования за отобранный период составляет {mediana}')"
   ]
  },
  {
   "cell_type": "markdown",
   "id": "627192fb-596e-4ea6-949b-a4f701b5df01",
   "metadata": {},
   "source": [
    "Таким образом, мы выяснили, что типичный размер суммы финансирования за отобранный период составляет 2564000 долларов. \n",
    "\n",
    "__________"
   ]
  },
  {
   "cell_type": "markdown",
   "id": "18113fe7-d9eb-47ed-a03d-c6c77d5dbe31",
   "metadata": {},
   "source": [
    "### 3.3. Куплены забесплатно?\n",
    "\n",
    "Нам необходимо исследовать компании, которые были проданы за ноль или за один доллар, и при этом известно, что у них был ненулевой общий объём финансирования.\n",
    "\n",
    "Для решения данной задачи присоединим датафрейм `df_acquisition`, содержащий сумму сделки. "
   ]
  },
  {
   "cell_type": "code",
   "execution_count": 108,
   "id": "bffdd8fa-ab2d-4dc6-ada3-38d585463333",
   "metadata": {},
   "outputs": [],
   "source": [
    "# Объединяем датафреймы\n",
    "df_company_and_acquisition = df_company_filtered.merge(df_acquisition, how = 'left', left_on = 'company_id', right_on = 'acquired_company_id')"
   ]
  },
  {
   "cell_type": "markdown",
   "id": "2fecaca2-afe6-42f8-9f2f-8316bbbf2b52",
   "metadata": {},
   "source": [
    "Фильтруем датафрейм по необходимым условиям. "
   ]
  },
  {
   "cell_type": "code",
   "execution_count": 109,
   "id": "1b69a0fa-3eee-4560-ae8e-aa13c7a90b0a",
   "metadata": {},
   "outputs": [],
   "source": [
    "df_sold_company = df_company_and_acquisition[(df_company_and_acquisition['funding_total'] > 0) & ((df_company_and_acquisition['price_amount'] == 0) | (df_company_and_acquisition['price_amount'] == 1))]"
   ]
  },
  {
   "cell_type": "markdown",
   "id": "11b6364d-4b3e-4b49-b555-86c9cafd02e2",
   "metadata": {},
   "source": [
    "Для начала предположим, почему стартапы могли продать за 0 или 1 рубль:\n",
    "- Основатели компании приняли решение выхода из бизнеса и, чтобы не нести дополнительных трат, продают его за бесплатно.\n",
    "- Основатели не в состоянии выплатить долги по стартапу, поэтому передают долги следующему владельцу. Возможна продажа инвестирующей компании.\n",
    "- Происходит объединение с более крупным бизнесом.\n",
    "- Стартап не привлек нужного внимания, поэтому основатели продают его за символическую сумму.\n",
    "\n",
    "Перейдем к исследованию компаний, оказавшихся в полученном датафрейме. Узнаем:\n",
    "- количество таких компаний\n",
    "- какая категория компаний встречается чаще всего среди них\n",
    "- компании каких стран чаще всего продаются бесплатно\n",
    "- типичное число инвестиционных раундов перед продажей\n",
    "- типичное число раундов финансирования перед продажей\n",
    "- наиболее частовстречающейся число вех финансирования в проданных компаниях\n",
    "- медиана суммы финансирования выбранных компаний\n",
    "  "
   ]
  },
  {
   "cell_type": "code",
   "execution_count": 110,
   "id": "e41b3e45-f9ce-4b41-9126-35643008d224",
   "metadata": {},
   "outputs": [
    {
     "data": {
      "text/plain": [
       "'Было продано за бесплатно 1618 компаний'"
      ]
     },
     "metadata": {},
     "output_type": "display_data"
    }
   ],
   "source": [
    "# Находим количество исследуемых компаний\n",
    "companies_count = df_sold_company['company_id'].count()\n",
    "display(f'Было продано за бесплатно {companies_count} компаний')"
   ]
  },
  {
   "cell_type": "code",
   "execution_count": 111,
   "id": "1de89eab-03fe-4b2e-a37e-605901118b8e",
   "metadata": {},
   "outputs": [
    {
     "data": {
      "text/plain": [
       "'Количество компаний по значениям столбца category_code'"
      ]
     },
     "metadata": {},
     "output_type": "display_data"
    },
    {
     "data": {
      "text/plain": [
       "software            362\n",
       "web                 216\n",
       "enterprise          131\n",
       "mobile              118\n",
       "advertising          77\n",
       "games_video          76\n",
       "biotech              69\n",
       "ecommerce            61\n",
       "network_hosting      56\n",
       "semiconductor        43\n",
       "cleantech            40\n",
       "hardware             36\n",
       "analytics            32\n",
       "security             30\n",
       "public_relations     26\n",
       "other                20\n",
       "search               18\n",
       "social               17\n",
       "messaging            16\n",
       "travel               16\n",
       "health               13\n",
       "medical              11\n",
       "consulting           10\n",
       "education            10\n",
       "news                  9\n",
       "music                 8\n",
       "finance               7\n",
       "fashion               5\n",
       "photo_video           3\n",
       "hospitality           3\n",
       "manufacturing         3\n",
       "design                3\n",
       "legal                 2\n",
       "transportation        2\n",
       "sports                2\n",
       "automotive            2\n",
       "Name: category_code, dtype: int64"
      ]
     },
     "metadata": {},
     "output_type": "display_data"
    },
    {
     "data": {
      "text/plain": [
       "'Доля компаний по значениям столбца category_code'"
      ]
     },
     "metadata": {},
     "output_type": "display_data"
    },
    {
     "data": {
      "text/plain": [
       "software           0.22\n",
       "web                0.13\n",
       "enterprise         0.08\n",
       "mobile             0.07\n",
       "advertising        0.05\n",
       "games_video        0.05\n",
       "biotech            0.04\n",
       "ecommerce          0.04\n",
       "network_hosting    0.03\n",
       "semiconductor      0.03\n",
       "cleantech          0.02\n",
       "hardware           0.02\n",
       "analytics          0.02\n",
       "security           0.02\n",
       "public_relations   0.02\n",
       "other              0.01\n",
       "search             0.01\n",
       "social             0.01\n",
       "messaging          0.01\n",
       "travel             0.01\n",
       "health             0.01\n",
       "medical            0.01\n",
       "consulting         0.01\n",
       "education          0.01\n",
       "news               0.01\n",
       "music              0.00\n",
       "finance            0.00\n",
       "fashion            0.00\n",
       "photo_video        0.00\n",
       "hospitality        0.00\n",
       "manufacturing      0.00\n",
       "design             0.00\n",
       "legal              0.00\n",
       "transportation     0.00\n",
       "sports             0.00\n",
       "automotive         0.00\n",
       "Name: category_code, dtype: float64"
      ]
     },
     "execution_count": 111,
     "metadata": {},
     "output_type": "execute_result"
    }
   ],
   "source": [
    "display('Количество компаний по значениям столбца category_code')\n",
    "display(df_sold_company['category_code'].value_counts())\n",
    "# Рассмотрим распределение в относительных значениях\n",
    "display()\n",
    "display('Доля компаний по значениям столбца category_code')\n",
    "df_sold_company['category_code'].value_counts() / len(df_sold_company) "
   ]
  },
  {
   "cell_type": "markdown",
   "id": "23c4eca2-19d8-40dc-bf18-3162c21f785e",
   "metadata": {},
   "source": [
    "Визуализируем результаты распределения проданных компаний по категориям. "
   ]
  },
  {
   "cell_type": "code",
   "execution_count": 112,
   "id": "59800b14-3142-419d-ab71-2a0759febc17",
   "metadata": {},
   "outputs": [
    {
     "data": {
      "image/png": "[encoded data removed]",
      "text/plain": [
       "<Figure size 720x432 with 1 Axes>"
      ]
     },
     "metadata": {
      "needs_background": "light"
     },
     "output_type": "display_data"
    }
   ],
   "source": [
    "# Построим график, чтобы увидеть визуализировать частоту встречаемости каждой категории компаний\n",
    "df_sold_company['category_code'].value_counts().sort_values(ascending = True).plot(kind = 'barh',\n",
    "                                                                                   figsize = (10,6),\n",
    "                                                                                   color = 'green', \n",
    "                                                                                   rot = 0,\n",
    "                                                                                  xlabel = 'Количество компаний',\n",
    "                                                                                  ylabel = 'Категория',\n",
    "                                                                                  title = 'Количество компаний, проданных за 0 или 1 доллар, по категориям')\n",
    "plt.grid()"
   ]
  },
  {
   "cell_type": "code",
   "execution_count": 113,
   "id": "6f57fd5d-70f3-4120-a528-60ce5370e09c",
   "metadata": {},
   "outputs": [
    {
     "data": {
      "image/png": "[encoded data removed]",
      "text/plain": [
       "<Figure size 720x432 with 1 Axes>"
      ]
     },
     "metadata": {
      "needs_background": "light"
     },
     "output_type": "display_data"
    }
   ],
   "source": [
    "# Построим график, чтобы увидеть визуализировать частоту встречаемости каждой категории компаний\n",
    "df_sold_company['category_code'].value_counts(normalize = True).sort_values(ascending = True).plot(kind = 'barh',\n",
    "                                                                                   figsize = (10,6),\n",
    "                                                                                   color = 'green', \n",
    "                                                                                   rot = 0,\n",
    "                                                                                  xlabel = 'Доля компаний',\n",
    "                                                                                  ylabel = 'Категория',\n",
    "                                                                                  title = 'Доля компаний, проданных за 0 или 1 доллар, по категориям')\n",
    "plt.grid()"
   ]
  },
  {
   "cell_type": "markdown",
   "id": "de8980a4-5ee1-4509-9f5c-f51c78354581",
   "metadata": {},
   "source": [
    "Всего было продано 1618 компаний, имеющих 36 различных категорий. Заметим, что лидером среди них является категория `software`: ее имеют 362 проданные компании, что составляет 22% от общего числа. Вторая по популярности категория - `web`, к ней отнесли себя 216 компаний, их доля 13%. На третьем месте располагается категория `enterprise`, включающая в себя 131 предприятие, 8% от общего числа. \n",
    "\n",
    "Можно заметить, что первые две позиции занимают компании, связанные с компьютерно-информационной сферой. Возможно, стартапы в сфере it часто не выдерживают конкуренцию или неокупают инвестиции и поэтому продаются за бесплатно. Либо же их просто больше в абсолютном значении, чем остальных категорий. \n",
    "\n",
    "Узнаем, в каких странах, чаще всего располагаются продаваемые за бесплатно компании. "
   ]
  },
  {
   "cell_type": "code",
   "execution_count": 114,
   "id": "17be031e-9254-4e39-bf49-89b3822f606c",
   "metadata": {},
   "outputs": [
    {
     "data": {
      "text/plain": [
       "'Количество компаний по значениям столбца country_code'"
      ]
     },
     "metadata": {},
     "output_type": "display_data"
    },
    {
     "data": {
      "text/plain": [
       "USA    1236\n",
       "GBR      64\n",
       "CAN      46\n",
       "DEU      31\n",
       "ISR      27\n",
       "FRA      24\n",
       "IRL      11\n",
       "DNK       9\n",
       "SWE       8\n",
       "ESP       7\n",
       "IND       7\n",
       "CHE       6\n",
       "ITA       6\n",
       "FIN       6\n",
       "JPN       5\n",
       "NLD       5\n",
       "ARG       4\n",
       "CHN       4\n",
       "BEL       4\n",
       "NOR       4\n",
       "SGP       3\n",
       "AUT       3\n",
       "BGR       2\n",
       "AUS       2\n",
       "HUN       1\n",
       "THA       1\n",
       "UMI       1\n",
       "KOR       1\n",
       "POL       1\n",
       "CZE       1\n",
       "HKG       1\n",
       "CHL       1\n",
       "URY       1\n",
       "TUR       1\n",
       "BRA       1\n",
       "RUS       1\n",
       "Name: country_code, dtype: int64"
      ]
     },
     "metadata": {},
     "output_type": "display_data"
    },
    {
     "data": {
      "text/plain": [
       "'Доля компаний по значениям столбца country_code'"
      ]
     },
     "metadata": {},
     "output_type": "display_data"
    },
    {
     "data": {
      "text/plain": [
       "USA   0.76\n",
       "GBR   0.04\n",
       "CAN   0.03\n",
       "DEU   0.02\n",
       "ISR   0.02\n",
       "FRA   0.01\n",
       "IRL   0.01\n",
       "DNK   0.01\n",
       "SWE   0.00\n",
       "ESP   0.00\n",
       "IND   0.00\n",
       "CHE   0.00\n",
       "ITA   0.00\n",
       "FIN   0.00\n",
       "JPN   0.00\n",
       "NLD   0.00\n",
       "ARG   0.00\n",
       "CHN   0.00\n",
       "BEL   0.00\n",
       "NOR   0.00\n",
       "SGP   0.00\n",
       "AUT   0.00\n",
       "BGR   0.00\n",
       "AUS   0.00\n",
       "HUN   0.00\n",
       "THA   0.00\n",
       "UMI   0.00\n",
       "KOR   0.00\n",
       "POL   0.00\n",
       "CZE   0.00\n",
       "HKG   0.00\n",
       "CHL   0.00\n",
       "URY   0.00\n",
       "TUR   0.00\n",
       "BRA   0.00\n",
       "RUS   0.00\n",
       "Name: country_code, dtype: float64"
      ]
     },
     "execution_count": 114,
     "metadata": {},
     "output_type": "execute_result"
    }
   ],
   "source": [
    "display('Количество компаний по значениям столбца country_code')\n",
    "display(df_sold_company['country_code'].value_counts())\n",
    "# Рассмотрим распределение в относительных значениях\n",
    "display()\n",
    "display('Доля компаний по значениям столбца country_code')\n",
    "df_sold_company['country_code'].value_counts() / len(df_sold_company) "
   ]
  },
  {
   "cell_type": "markdown",
   "id": "e25e086f-c544-413c-9e2a-fa07ffdcc392",
   "metadata": {},
   "source": [
    "Заметим, что больше всего проданных стартапов в США (1226 компаний). \n",
    "\n",
    "Узнаем, после скольких инвестиционных раундов продается большинство компаний. "
   ]
  },
  {
   "cell_type": "code",
   "execution_count": 115,
   "id": "fa44f43d-85f2-4474-942c-2e66845f9f41",
   "metadata": {},
   "outputs": [
    {
     "data": {
      "text/plain": [
       "count   1618.00\n",
       "mean       0.01\n",
       "std        0.12\n",
       "min        0.00\n",
       "25%        0.00\n",
       "50%        0.00\n",
       "75%        0.00\n",
       "max        3.00\n",
       "Name: investment_rounds, dtype: float64"
      ]
     },
     "execution_count": 115,
     "metadata": {},
     "output_type": "execute_result"
    }
   ],
   "source": [
    "# Посмотрим статистическую информацию по столбцу\n",
    "df_sold_company['investment_rounds'].describe()"
   ]
  },
  {
   "cell_type": "markdown",
   "id": "906038df-4f9d-4596-b749-da593a57203f",
   "metadata": {},
   "source": [
    "Мы видим, что как минимум 75% компаний были проданы после 0 инвестиционных раундов. Инвестиционные раунды представляют собой привлечение инвестиций от венчурных капиталистов или других бизнес-агентов. Отсутствие инвестиционных раундов может говорить о нежелании инвесторов вкладывать активы в данный стартап, а значит об отсутствии видения перспектив в нем и выгоды от участия. \n",
    "\n",
    "Возможно, что стартапы действительно не были перспективными и основатели решили продать их за символическую сумму. \n"
   ]
  },
  {
   "cell_type": "code",
   "execution_count": 116,
   "id": "b215aecc-7ea4-41a5-816c-1c0a2afd8cb8",
   "metadata": {},
   "outputs": [
    {
     "data": {
      "text/plain": [
       "count   1618.00\n",
       "mean       1.89\n",
       "std        1.24\n",
       "min        1.00\n",
       "25%        1.00\n",
       "50%        1.00\n",
       "75%        2.00\n",
       "max       12.00\n",
       "Name: funding_rounds, dtype: float64"
      ]
     },
     "execution_count": 116,
     "metadata": {},
     "output_type": "execute_result"
    }
   ],
   "source": [
    "# Выводим статистическую информацию о числе раундов финансирования\n",
    "df_sold_company['funding_rounds'].describe()"
   ]
  },
  {
   "cell_type": "code",
   "execution_count": 117,
   "id": "59ce6f9a-d111-45fa-8744-922e04a08ea1",
   "metadata": {},
   "outputs": [
    {
     "data": {
      "text/plain": [
       "1.0"
      ]
     },
     "execution_count": 117,
     "metadata": {},
     "output_type": "execute_result"
    }
   ],
   "source": [
    "# Минимальное число раундов финансирования\n",
    "df_sold_company['funding_rounds'].min()"
   ]
  },
  {
   "cell_type": "markdown",
   "id": "9b8b3e14-ed7b-4bbe-9686-7220f7a35afc",
   "metadata": {},
   "source": [
    "Мы видим, что 75% компаний имели не более двух раундов финансирования и все компании имели как минимум один раунд. Число раундов финансирования можно рассматривать как индикатор роста компании. Многочисленные раунды могут указывать на положительную динамику роста, как и инвестиционные раунды. Так как в рассматриваемых компаниях их число невелико, то нельзя говорить от успешности стартапов. "
   ]
  },
  {
   "cell_type": "code",
   "execution_count": 118,
   "id": "ee704b7e-5ca3-4fd1-98fa-1900f5654300",
   "metadata": {},
   "outputs": [
    {
     "data": {
      "text/html": [
       "<div>\n",
       "<style scoped>\n",
       "    .dataframe tbody tr th:only-of-type {\n",
       "        vertical-align: middle;\n",
       "    }\n",
       "\n",
       "    .dataframe tbody tr th {\n",
       "        vertical-align: top;\n",
       "    }\n",
       "\n",
       "    .dataframe thead th {\n",
       "        text-align: right;\n",
       "    }\n",
       "</style>\n",
       "<table border=\"1\" class=\"dataframe\">\n",
       "  <thead>\n",
       "    <tr style=\"text-align: right;\">\n",
       "      <th></th>\n",
       "      <th>company_id</th>\n",
       "      <th>name</th>\n",
       "      <th>category_code</th>\n",
       "      <th>status</th>\n",
       "      <th>founded_at</th>\n",
       "      <th>closed_at</th>\n",
       "      <th>domain</th>\n",
       "      <th>network_username</th>\n",
       "      <th>country_code</th>\n",
       "      <th>investment_rounds</th>\n",
       "      <th>funding_rounds</th>\n",
       "      <th>funding_total</th>\n",
       "      <th>milestones</th>\n",
       "      <th>id</th>\n",
       "      <th>acquiring_company_id</th>\n",
       "      <th>acquired_company_id</th>\n",
       "      <th>term_code</th>\n",
       "      <th>price_amount</th>\n",
       "      <th>acquired_at</th>\n",
       "    </tr>\n",
       "  </thead>\n",
       "  <tbody>\n",
       "    <tr>\n",
       "      <th>25</th>\n",
       "      <td>10054</td>\n",
       "      <td>jumptap</td>\n",
       "      <td>mobile</td>\n",
       "      <td>acquired</td>\n",
       "      <td>2005-01-01</td>\n",
       "      <td>NaT</td>\n",
       "      <td>jumptap.com</td>\n",
       "      <td>jumptap</td>\n",
       "      <td>USA</td>\n",
       "      <td>0.00</td>\n",
       "      <td>7.00</td>\n",
       "      <td>121500000.00</td>\n",
       "      <td>3.00</td>\n",
       "      <td>9288.00</td>\n",
       "      <td>23283.00</td>\n",
       "      <td>10054.00</td>\n",
       "      <td>cash_and_stock</td>\n",
       "      <td>0.00</td>\n",
       "      <td>2013-08-13</td>\n",
       "    </tr>\n",
       "    <tr>\n",
       "      <th>63</th>\n",
       "      <td>101312</td>\n",
       "      <td>sidetour</td>\n",
       "      <td>web</td>\n",
       "      <td>acquired</td>\n",
       "      <td>2011-06-01</td>\n",
       "      <td>NaT</td>\n",
       "      <td>sidetour.com</td>\n",
       "      <td>sidetour</td>\n",
       "      <td>USA</td>\n",
       "      <td>0.00</td>\n",
       "      <td>3.00</td>\n",
       "      <td>4000000.00</td>\n",
       "      <td>2.00</td>\n",
       "      <td>9653.00</td>\n",
       "      <td>11391.00</td>\n",
       "      <td>101312.00</td>\n",
       "      <td>NaN</td>\n",
       "      <td>0.00</td>\n",
       "      <td>2013-09-18</td>\n",
       "    </tr>\n",
       "    <tr>\n",
       "      <th>66</th>\n",
       "      <td>101340</td>\n",
       "      <td>choicepass</td>\n",
       "      <td>enterprise</td>\n",
       "      <td>acquired</td>\n",
       "      <td>2011-07-01</td>\n",
       "      <td>NaT</td>\n",
       "      <td>choicepass.com</td>\n",
       "      <td>choicepass</td>\n",
       "      <td>USA</td>\n",
       "      <td>0.00</td>\n",
       "      <td>1.00</td>\n",
       "      <td>250000.00</td>\n",
       "      <td>1.00</td>\n",
       "      <td>7272.00</td>\n",
       "      <td>1972.00</td>\n",
       "      <td>101340.00</td>\n",
       "      <td>NaN</td>\n",
       "      <td>0.00</td>\n",
       "      <td>2012-06-18</td>\n",
       "    </tr>\n",
       "    <tr>\n",
       "      <th>67</th>\n",
       "      <td>10137</td>\n",
       "      <td>producteev</td>\n",
       "      <td>software</td>\n",
       "      <td>acquired</td>\n",
       "      <td>2008-07-08</td>\n",
       "      <td>NaT</td>\n",
       "      <td>producteev.com</td>\n",
       "      <td>producteev</td>\n",
       "      <td>USA</td>\n",
       "      <td>0.00</td>\n",
       "      <td>3.00</td>\n",
       "      <td>1310000.00</td>\n",
       "      <td>2.00</td>\n",
       "      <td>8254.00</td>\n",
       "      <td>757.00</td>\n",
       "      <td>10137.00</td>\n",
       "      <td>cash_and_stock</td>\n",
       "      <td>0.00</td>\n",
       "      <td>2012-11-05</td>\n",
       "    </tr>\n",
       "    <tr>\n",
       "      <th>68</th>\n",
       "      <td>10139</td>\n",
       "      <td>tradecard</td>\n",
       "      <td>enterprise</td>\n",
       "      <td>acquired</td>\n",
       "      <td>1999-01-01</td>\n",
       "      <td>NaT</td>\n",
       "      <td>tradecard.com</td>\n",
       "      <td>TradeCard</td>\n",
       "      <td>USA</td>\n",
       "      <td>0.00</td>\n",
       "      <td>2.00</td>\n",
       "      <td>44925000.00</td>\n",
       "      <td>1.00</td>\n",
       "      <td>9326.00</td>\n",
       "      <td>44008.00</td>\n",
       "      <td>10139.00</td>\n",
       "      <td>NaN</td>\n",
       "      <td>0.00</td>\n",
       "      <td>2013-04-01</td>\n",
       "    </tr>\n",
       "  </tbody>\n",
       "</table>\n",
       "</div>"
      ],
      "text/plain": [
       "    company_id        name category_code    status founded_at closed_at  \\\n",
       "25       10054     jumptap        mobile  acquired 2005-01-01       NaT   \n",
       "63      101312    sidetour           web  acquired 2011-06-01       NaT   \n",
       "66      101340  choicepass    enterprise  acquired 2011-07-01       NaT   \n",
       "67       10137  producteev      software  acquired 2008-07-08       NaT   \n",
       "68       10139   tradecard    enterprise  acquired 1999-01-01       NaT   \n",
       "\n",
       "            domain network_username country_code  investment_rounds  \\\n",
       "25     jumptap.com          jumptap          USA               0.00   \n",
       "63    sidetour.com         sidetour          USA               0.00   \n",
       "66  choicepass.com       choicepass          USA               0.00   \n",
       "67  producteev.com       producteev          USA               0.00   \n",
       "68   tradecard.com        TradeCard          USA               0.00   \n",
       "\n",
       "    funding_rounds  funding_total  milestones      id  acquiring_company_id  \\\n",
       "25            7.00   121500000.00        3.00 9288.00              23283.00   \n",
       "63            3.00     4000000.00        2.00 9653.00              11391.00   \n",
       "66            1.00      250000.00        1.00 7272.00               1972.00   \n",
       "67            3.00     1310000.00        2.00 8254.00                757.00   \n",
       "68            2.00    44925000.00        1.00 9326.00              44008.00   \n",
       "\n",
       "    acquired_company_id       term_code  price_amount acquired_at  \n",
       "25             10054.00  cash_and_stock          0.00  2013-08-13  \n",
       "63            101312.00             NaN          0.00  2013-09-18  \n",
       "66            101340.00             NaN          0.00  2012-06-18  \n",
       "67             10137.00  cash_and_stock          0.00  2012-11-05  \n",
       "68             10139.00             NaN          0.00  2013-04-01  "
      ]
     },
     "execution_count": 118,
     "metadata": {},
     "output_type": "execute_result"
    }
   ],
   "source": [
    "df_sold_company.head()"
   ]
  },
  {
   "cell_type": "code",
   "execution_count": 119,
   "id": "20a472ba-1ee3-4dff-8434-309b96bb8713",
   "metadata": {},
   "outputs": [
    {
     "data": {
      "text/plain": [
       "count   1618.00\n",
       "mean       1.46\n",
       "std        1.23\n",
       "min        0.00\n",
       "25%        0.00\n",
       "50%        1.00\n",
       "75%        2.00\n",
       "max        6.00\n",
       "Name: milestones, dtype: float64"
      ]
     },
     "execution_count": 119,
     "metadata": {},
     "output_type": "execute_result"
    }
   ],
   "source": [
    "df_sold_company['milestones'].describe()"
   ]
  },
  {
   "cell_type": "markdown",
   "id": "5bed795a-e7a5-4d50-a73e-7db92e48ea10",
   "metadata": {},
   "source": [
    "Вехи проекта - это основные этапы развития бизнеса, которые позволяют оценить, насколько успешно подвигается стартап. 50% компаний прошли до одной вехи, а 75% - до двух. Это говорит о том, что эти стартапы не прошли много этапов и не являются уже состоявшимися компаниями.\n",
    "\n",
    "Перейдем к анализу столбца `funding_total`. Найдем аналитически верхнюю и нижнюю границу выбросов для него. "
   ]
  },
  {
   "cell_type": "code",
   "execution_count": 120,
   "id": "bd89bdc0-07f4-4153-9199-3ed914e48898",
   "metadata": {},
   "outputs": [
    {
     "data": {
      "text/plain": [
       "count         1618.00\n",
       "mean      18152964.00\n",
       "std      144503024.00\n",
       "min           3750.00\n",
       "25%        2000000.00\n",
       "50%        6000000.00\n",
       "75%       15500000.00\n",
       "max     5699999744.00\n",
       "Name: funding_total, dtype: float64"
      ]
     },
     "execution_count": 120,
     "metadata": {},
     "output_type": "execute_result"
    }
   ],
   "source": [
    "df_sold_company['funding_total'].describe()"
   ]
  },
  {
   "cell_type": "markdown",
   "id": "51754234-961e-40d2-8a67-be68874b00dc",
   "metadata": {},
   "source": [
    "Мы видим, что среднее значение значительно больше медианы, что может говорить об аномально высоких вбросах. Действительно, максимальное значение намного выше 75 процентиля.\n",
    "\n",
    "Установим верхнюю и нижнюю границу для выбросов в этом столбце. У нас не получится использовать метод IQR, так как данные имеют широкий разброс и при обозначении нижней границы мы получим отрицательные значения, что неправильно. Поэтому вручную поставим пороги, посмотрев на процентили столбца."
   ]
  },
  {
   "cell_type": "code",
   "execution_count": 121,
   "id": "b8d56e74-39f5-4f2a-9fa9-dce2cac5815f",
   "metadata": {},
   "outputs": [
    {
     "data": {
      "text/plain": [
       "count         1618.00\n",
       "mean      18152964.00\n",
       "std      144503024.00\n",
       "min           3750.00\n",
       "5%          250000.00\n",
       "10%         513588.50\n",
       "15%        1000000.00\n",
       "25%        2000000.00\n",
       "30%        2600000.00\n",
       "50%        6000000.00\n",
       "75%       15500000.00\n",
       "80%       20000000.00\n",
       "85%       25353735.00\n",
       "95%       51487500.00\n",
       "99%      151552936.64\n",
       "max     5699999744.00\n",
       "Name: funding_total, dtype: float64"
      ]
     },
     "execution_count": 121,
     "metadata": {},
     "output_type": "execute_result"
    }
   ],
   "source": [
    "df_sold_company['funding_total'].describe(percentiles=[0.05, 0.10, 0.15, 0.25, 0.30, 0.75, 0.80, 0.85, 0.95, 0.99])"
   ]
  },
  {
   "cell_type": "markdown",
   "id": "89f35ec8-3676-4104-b14c-c4a2a4ddcd27",
   "metadata": {},
   "source": [
    "Мы предлагаем отсортировать выбросы по 5 и 95 процентилям, так как их значения не являются аномально высокими или низкими для суммы финансирования. "
   ]
  },
  {
   "cell_type": "code",
   "execution_count": 122,
   "id": "682ed8e7-474b-48ff-808f-4d4040f41e47",
   "metadata": {
    "scrolled": true
   },
   "outputs": [
    {
     "data": {
      "text/plain": [
       "'Верхний порог выбросов: 51487499.99999996'"
      ]
     },
     "metadata": {},
     "output_type": "display_data"
    },
    {
     "data": {
      "text/plain": [
       "'Нижний порог выбросов: 250000.0'"
      ]
     },
     "metadata": {},
     "output_type": "display_data"
    }
   ],
   "source": [
    "# Определяем верхний порог для выбросов\n",
    "upper_bound = df_sold_company['funding_total'].quantile(0.95)\n",
    "display(f'Верхний порог выбросов: {upper_bound}')\n",
    "# Определяем нижний порог для выбросов\n",
    "lower_bound = df_sold_company['funding_total'].quantile(0.05)\n",
    "display(f'Нижний порог выбросов: {lower_bound}')\n"
   ]
  },
  {
   "cell_type": "markdown",
   "id": "4ef16a71-5554-4e1d-9c29-f1c2f4d8644a",
   "metadata": {},
   "source": [
    "Таким образом, нижняя граница для выбросов в столбце `funding_total` равна 250000 долларов, а верхняя - 51487499.99999996.\n",
    "\n",
    "__________"
   ]
  },
  {
   "cell_type": "markdown",
   "id": "1bc4aae8-1f21-4530-abc5-dd0680c58438",
   "metadata": {},
   "source": [
    "### 3.4. Цены стартапов по категориям\n",
    "\n",
    "Категории стартапов с наибольшими ценами и значительным разбросом цен могут быть наиболее привлекательными для крупных инвесторов, которые готовы к высоким рискам ради потенциально больших доходов. Нам необходимо выделить категории стартапов, характеризующиеся:\n",
    "- наибольшими типичными ценами;\n",
    "- и наибольшим разбросом цен за стартап.\n",
    "\n",
    "Для ответа на эти вопросы будем работать с датафреймом `df_company_and_acquisition`. Составим сводную таблицу с категориями стартапов и их медианными ценами, так как медиана менее чувствительна к выбросам, которые могут исказить результаты."
   ]
  },
  {
   "cell_type": "code",
   "execution_count": 123,
   "id": "65bc207c-c629-4033-9a9a-4b39dbb1f453",
   "metadata": {},
   "outputs": [
    {
     "data": {
      "text/html": [
       "<style  type=\"text/css\" >\n",
       "#T_06cae_row0_col0{\n",
       "            background-color:  #00441b;\n",
       "            color:  #f1f1f1;\n",
       "        }#T_06cae_row1_col0{\n",
       "            background-color:  #e5f5f9;\n",
       "            color:  #000000;\n",
       "        }#T_06cae_row2_col0{\n",
       "            background-color:  #ebf7fa;\n",
       "            color:  #000000;\n",
       "        }#T_06cae_row3_col0{\n",
       "            background-color:  #edf8fb;\n",
       "            color:  #000000;\n",
       "        }#T_06cae_row4_col0,#T_06cae_row5_col0{\n",
       "            background-color:  #f4fbfc;\n",
       "            color:  #000000;\n",
       "        }#T_06cae_row6_col0,#T_06cae_row7_col0,#T_06cae_row8_col0,#T_06cae_row9_col0,#T_06cae_row10_col0,#T_06cae_row11_col0,#T_06cae_row12_col0,#T_06cae_row13_col0,#T_06cae_row14_col0,#T_06cae_row15_col0,#T_06cae_row16_col0,#T_06cae_row17_col0,#T_06cae_row18_col0,#T_06cae_row19_col0,#T_06cae_row20_col0,#T_06cae_row21_col0,#T_06cae_row22_col0,#T_06cae_row23_col0,#T_06cae_row24_col0,#T_06cae_row25_col0,#T_06cae_row26_col0,#T_06cae_row27_col0,#T_06cae_row28_col0,#T_06cae_row29_col0,#T_06cae_row30_col0,#T_06cae_row31_col0,#T_06cae_row32_col0,#T_06cae_row33_col0,#T_06cae_row34_col0,#T_06cae_row35_col0,#T_06cae_row36_col0,#T_06cae_row37_col0,#T_06cae_row38_col0,#T_06cae_row39_col0{\n",
       "            background-color:  #f7fcfd;\n",
       "            color:  #000000;\n",
       "        }</style><table id=\"T_06cae_\" ><thead>    <tr>        <th class=\"blank level0\" ></th>        <th class=\"col_heading level0 col0\" >Медианная цена</th>    </tr>    <tr>        <th class=\"index_name level0\" >category_code</th>        <th class=\"blank\" ></th>    </tr></thead><tbody>\n",
       "                <tr>\n",
       "                        <th id=\"T_06cae_level0_row0\" class=\"row_heading level0 row0\" >nanotech</th>\n",
       "                        <td id=\"T_06cae_row0_col0\" class=\"data row0 col0\" >584000000.000000</td>\n",
       "            </tr>\n",
       "            <tr>\n",
       "                        <th id=\"T_06cae_level0_row1\" class=\"row_heading level0 row1\" >manufacturing</th>\n",
       "                        <td id=\"T_06cae_row1_col0\" class=\"data row1 col0\" >72000000.000000</td>\n",
       "            </tr>\n",
       "            <tr>\n",
       "                        <th id=\"T_06cae_level0_row2\" class=\"row_heading level0 row2\" >real_estate</th>\n",
       "                        <td id=\"T_06cae_row2_col0\" class=\"data row2 col0\" >50000000.000000</td>\n",
       "            </tr>\n",
       "            <tr>\n",
       "                        <th id=\"T_06cae_level0_row3\" class=\"row_heading level0 row3\" >automotive</th>\n",
       "                        <td id=\"T_06cae_row3_col0\" class=\"data row3 col0\" >43000000.000000</td>\n",
       "            </tr>\n",
       "            <tr>\n",
       "                        <th id=\"T_06cae_level0_row4\" class=\"row_heading level0 row4\" >biotech</th>\n",
       "                        <td id=\"T_06cae_row4_col0\" class=\"data row4 col0\" >13200000.000000</td>\n",
       "            </tr>\n",
       "            <tr>\n",
       "                        <th id=\"T_06cae_level0_row5\" class=\"row_heading level0 row5\" >hospitality</th>\n",
       "                        <td id=\"T_06cae_row5_col0\" class=\"data row5 col0\" >12500000.000000</td>\n",
       "            </tr>\n",
       "            <tr>\n",
       "                        <th id=\"T_06cae_level0_row6\" class=\"row_heading level0 row6\" >finance</th>\n",
       "                        <td id=\"T_06cae_row6_col0\" class=\"data row6 col0\" >600000.000000</td>\n",
       "            </tr>\n",
       "            <tr>\n",
       "                        <th id=\"T_06cae_level0_row7\" class=\"row_heading level0 row7\" >news</th>\n",
       "                        <td id=\"T_06cae_row7_col0\" class=\"data row7 col0\" >0.000000</td>\n",
       "            </tr>\n",
       "            <tr>\n",
       "                        <th id=\"T_06cae_level0_row8\" class=\"row_heading level0 row8\" >nonprofit</th>\n",
       "                        <td id=\"T_06cae_row8_col0\" class=\"data row8 col0\" >0.000000</td>\n",
       "            </tr>\n",
       "            <tr>\n",
       "                        <th id=\"T_06cae_level0_row9\" class=\"row_heading level0 row9\" >other</th>\n",
       "                        <td id=\"T_06cae_row9_col0\" class=\"data row9 col0\" >0.000000</td>\n",
       "            </tr>\n",
       "            <tr>\n",
       "                        <th id=\"T_06cae_level0_row10\" class=\"row_heading level0 row10\" >photo_video</th>\n",
       "                        <td id=\"T_06cae_row10_col0\" class=\"data row10 col0\" >0.000000</td>\n",
       "            </tr>\n",
       "            <tr>\n",
       "                        <th id=\"T_06cae_level0_row11\" class=\"row_heading level0 row11\" >public_relations</th>\n",
       "                        <td id=\"T_06cae_row11_col0\" class=\"data row11 col0\" >0.000000</td>\n",
       "            </tr>\n",
       "            <tr>\n",
       "                        <th id=\"T_06cae_level0_row12\" class=\"row_heading level0 row12\" >advertising</th>\n",
       "                        <td id=\"T_06cae_row12_col0\" class=\"data row12 col0\" >0.000000</td>\n",
       "            </tr>\n",
       "            <tr>\n",
       "                        <th id=\"T_06cae_level0_row13\" class=\"row_heading level0 row13\" >search</th>\n",
       "                        <td id=\"T_06cae_row13_col0\" class=\"data row13 col0\" >0.000000</td>\n",
       "            </tr>\n",
       "            <tr>\n",
       "                        <th id=\"T_06cae_level0_row14\" class=\"row_heading level0 row14\" >security</th>\n",
       "                        <td id=\"T_06cae_row14_col0\" class=\"data row14 col0\" >0.000000</td>\n",
       "            </tr>\n",
       "            <tr>\n",
       "                        <th id=\"T_06cae_level0_row15\" class=\"row_heading level0 row15\" >semiconductor</th>\n",
       "                        <td id=\"T_06cae_row15_col0\" class=\"data row15 col0\" >0.000000</td>\n",
       "            </tr>\n",
       "            <tr>\n",
       "                        <th id=\"T_06cae_level0_row16\" class=\"row_heading level0 row16\" >social</th>\n",
       "                        <td id=\"T_06cae_row16_col0\" class=\"data row16 col0\" >0.000000</td>\n",
       "            </tr>\n",
       "            <tr>\n",
       "                        <th id=\"T_06cae_level0_row17\" class=\"row_heading level0 row17\" >software</th>\n",
       "                        <td id=\"T_06cae_row17_col0\" class=\"data row17 col0\" >0.000000</td>\n",
       "            </tr>\n",
       "            <tr>\n",
       "                        <th id=\"T_06cae_level0_row18\" class=\"row_heading level0 row18\" >sports</th>\n",
       "                        <td id=\"T_06cae_row18_col0\" class=\"data row18 col0\" >0.000000</td>\n",
       "            </tr>\n",
       "            <tr>\n",
       "                        <th id=\"T_06cae_level0_row19\" class=\"row_heading level0 row19\" >transportation</th>\n",
       "                        <td id=\"T_06cae_row19_col0\" class=\"data row19 col0\" >0.000000</td>\n",
       "            </tr>\n",
       "            <tr>\n",
       "                        <th id=\"T_06cae_level0_row20\" class=\"row_heading level0 row20\" >travel</th>\n",
       "                        <td id=\"T_06cae_row20_col0\" class=\"data row20 col0\" >0.000000</td>\n",
       "            </tr>\n",
       "            <tr>\n",
       "                        <th id=\"T_06cae_level0_row21\" class=\"row_heading level0 row21\" >network_hosting</th>\n",
       "                        <td id=\"T_06cae_row21_col0\" class=\"data row21 col0\" >0.000000</td>\n",
       "            </tr>\n",
       "            <tr>\n",
       "                        <th id=\"T_06cae_level0_row22\" class=\"row_heading level0 row22\" >messaging</th>\n",
       "                        <td id=\"T_06cae_row22_col0\" class=\"data row22 col0\" >0.000000</td>\n",
       "            </tr>\n",
       "            <tr>\n",
       "                        <th id=\"T_06cae_level0_row23\" class=\"row_heading level0 row23\" >music</th>\n",
       "                        <td id=\"T_06cae_row23_col0\" class=\"data row23 col0\" >0.000000</td>\n",
       "            </tr>\n",
       "            <tr>\n",
       "                        <th id=\"T_06cae_level0_row24\" class=\"row_heading level0 row24\" >fashion</th>\n",
       "                        <td id=\"T_06cae_row24_col0\" class=\"data row24 col0\" >0.000000</td>\n",
       "            </tr>\n",
       "            <tr>\n",
       "                        <th id=\"T_06cae_level0_row25\" class=\"row_heading level0 row25\" >cleantech</th>\n",
       "                        <td id=\"T_06cae_row25_col0\" class=\"data row25 col0\" >0.000000</td>\n",
       "            </tr>\n",
       "            <tr>\n",
       "                        <th id=\"T_06cae_level0_row26\" class=\"row_heading level0 row26\" >consulting</th>\n",
       "                        <td id=\"T_06cae_row26_col0\" class=\"data row26 col0\" >0.000000</td>\n",
       "            </tr>\n",
       "            <tr>\n",
       "                        <th id=\"T_06cae_level0_row27\" class=\"row_heading level0 row27\" >design</th>\n",
       "                        <td id=\"T_06cae_row27_col0\" class=\"data row27 col0\" >0.000000</td>\n",
       "            </tr>\n",
       "            <tr>\n",
       "                        <th id=\"T_06cae_level0_row28\" class=\"row_heading level0 row28\" >ecommerce</th>\n",
       "                        <td id=\"T_06cae_row28_col0\" class=\"data row28 col0\" >0.000000</td>\n",
       "            </tr>\n",
       "            <tr>\n",
       "                        <th id=\"T_06cae_level0_row29\" class=\"row_heading level0 row29\" >education</th>\n",
       "                        <td id=\"T_06cae_row29_col0\" class=\"data row29 col0\" >0.000000</td>\n",
       "            </tr>\n",
       "            <tr>\n",
       "                        <th id=\"T_06cae_level0_row30\" class=\"row_heading level0 row30\" >enterprise</th>\n",
       "                        <td id=\"T_06cae_row30_col0\" class=\"data row30 col0\" >0.000000</td>\n",
       "            </tr>\n",
       "            <tr>\n",
       "                        <th id=\"T_06cae_level0_row31\" class=\"row_heading level0 row31\" >games_video</th>\n",
       "                        <td id=\"T_06cae_row31_col0\" class=\"data row31 col0\" >0.000000</td>\n",
       "            </tr>\n",
       "            <tr>\n",
       "                        <th id=\"T_06cae_level0_row32\" class=\"row_heading level0 row32\" >mobile</th>\n",
       "                        <td id=\"T_06cae_row32_col0\" class=\"data row32 col0\" >0.000000</td>\n",
       "            </tr>\n",
       "            <tr>\n",
       "                        <th id=\"T_06cae_level0_row33\" class=\"row_heading level0 row33\" >hardware</th>\n",
       "                        <td id=\"T_06cae_row33_col0\" class=\"data row33 col0\" >0.000000</td>\n",
       "            </tr>\n",
       "            <tr>\n",
       "                        <th id=\"T_06cae_level0_row34\" class=\"row_heading level0 row34\" >health</th>\n",
       "                        <td id=\"T_06cae_row34_col0\" class=\"data row34 col0\" >0.000000</td>\n",
       "            </tr>\n",
       "            <tr>\n",
       "                        <th id=\"T_06cae_level0_row35\" class=\"row_heading level0 row35\" >legal</th>\n",
       "                        <td id=\"T_06cae_row35_col0\" class=\"data row35 col0\" >0.000000</td>\n",
       "            </tr>\n",
       "            <tr>\n",
       "                        <th id=\"T_06cae_level0_row36\" class=\"row_heading level0 row36\" >local</th>\n",
       "                        <td id=\"T_06cae_row36_col0\" class=\"data row36 col0\" >0.000000</td>\n",
       "            </tr>\n",
       "            <tr>\n",
       "                        <th id=\"T_06cae_level0_row37\" class=\"row_heading level0 row37\" >medical</th>\n",
       "                        <td id=\"T_06cae_row37_col0\" class=\"data row37 col0\" >0.000000</td>\n",
       "            </tr>\n",
       "            <tr>\n",
       "                        <th id=\"T_06cae_level0_row38\" class=\"row_heading level0 row38\" >analytics</th>\n",
       "                        <td id=\"T_06cae_row38_col0\" class=\"data row38 col0\" >0.000000</td>\n",
       "            </tr>\n",
       "            <tr>\n",
       "                        <th id=\"T_06cae_level0_row39\" class=\"row_heading level0 row39\" >web</th>\n",
       "                        <td id=\"T_06cae_row39_col0\" class=\"data row39 col0\" >0.000000</td>\n",
       "            </tr>\n",
       "    </tbody></table>"
      ],
      "text/plain": [
       "<pandas.io.formats.style.Styler at 0x7f65e72a84c0>"
      ]
     },
     "execution_count": 123,
     "metadata": {},
     "output_type": "execute_result"
    }
   ],
   "source": [
    "# Составляем сводную таблицу\n",
    "pivot_grouped = pd.pivot_table(df_company_and_acquisition,\n",
    "                              index = 'category_code',\n",
    "                              values = 'price_amount',\n",
    "                              aggfunc = 'median')\n",
    "# Переименуем столбце с медианной ценой\n",
    "pivot_grouped = pivot_grouped.rename(columns = {'price_amount': 'Медианная цена'})\n",
    "# Отсортируем таблицу\n",
    "pivot_grouped = pivot_grouped.sort_values(by = 'Медианная цена', ascending = False)\n",
    "# Добавим градиент\n",
    "pivot_grouped = pivot_grouped.style.background_gradient(cmap='BuGn', axis=0)\n",
    "pivot_grouped"
   ]
  },
  {
   "cell_type": "markdown",
   "id": "95effb0a-4451-4d05-9600-ed5353fb3be3",
   "metadata": {},
   "source": [
    "Мы можем выделить семь категорий стартапов по медианной цене:\n",
    "- Самый высокий показатель у стартапов категории `nanotech`. Медиана равна 584000000. Это наиболее прибыльная категория для инвесторов.\n",
    "- На втором месте находится `manufacturing` (72000000 долларов)\n",
    "- На третьем месте `real_estate` с медианной стоимостью продажи 50000000 долларов\n",
    "- Четвертый по показателю медианной стоимости `automotive` (43000000 долларов)\n",
    "- Пятая категория - `biotech` (13200000 долларов)\n",
    "- Шестое место принадлежит `hospitality` (12500000 долларов)\n",
    "- Финальную позицию занимает категория `finance` с медианным чеком 600000 долларов.\n",
    "\n",
    "Для остальных категорий медиана равна 0. Это может быть связано с тем, что все строки содержат пустые значения или равны 0. \n",
    "\n",
    "Посчитаем разбросы между ценами продажи для стартапов по категориям:"
   ]
  },
  {
   "cell_type": "code",
   "execution_count": 124,
   "id": "3b77a709-3e89-4860-87ac-5419f9b680da",
   "metadata": {},
   "outputs": [],
   "source": [
    "# Вычисляем миниальное и максимальное значение по категориям\n",
    "df_min_max = df_company_and_acquisition.groupby('category_code')['price_amount'].agg(['min', 'max'])\n",
    "# Вычисляем размах и добавляем столбец в таблицу\n",
    "df_min_max['Размах'] = df_min_max['max'] - df_min_max['min']"
   ]
  },
  {
   "cell_type": "code",
   "execution_count": 125,
   "id": "1a494b0c-de60-40db-b34c-dca8816599d6",
   "metadata": {},
   "outputs": [
    {
     "data": {
      "text/html": [
       "<style  type=\"text/css\" >\n",
       "#T_1a7f1_row0_col0{\n",
       "            background-color:  #00441b;\n",
       "            color:  #f1f1f1;\n",
       "        }#T_1a7f1_row1_col0{\n",
       "            background-color:  #f5fbfd;\n",
       "            color:  #000000;\n",
       "        }#T_1a7f1_row2_col0,#T_1a7f1_row3_col0,#T_1a7f1_row4_col0,#T_1a7f1_row5_col0{\n",
       "            background-color:  #f6fcfd;\n",
       "            color:  #000000;\n",
       "        }#T_1a7f1_row6_col0,#T_1a7f1_row7_col0,#T_1a7f1_row8_col0,#T_1a7f1_row9_col0,#T_1a7f1_row10_col0,#T_1a7f1_row11_col0,#T_1a7f1_row12_col0,#T_1a7f1_row13_col0,#T_1a7f1_row14_col0,#T_1a7f1_row15_col0,#T_1a7f1_row16_col0,#T_1a7f1_row17_col0,#T_1a7f1_row18_col0,#T_1a7f1_row19_col0,#T_1a7f1_row20_col0,#T_1a7f1_row21_col0,#T_1a7f1_row22_col0,#T_1a7f1_row23_col0,#T_1a7f1_row24_col0,#T_1a7f1_row25_col0,#T_1a7f1_row26_col0,#T_1a7f1_row27_col0,#T_1a7f1_row28_col0,#T_1a7f1_row29_col0,#T_1a7f1_row30_col0,#T_1a7f1_row31_col0,#T_1a7f1_row32_col0,#T_1a7f1_row33_col0,#T_1a7f1_row34_col0,#T_1a7f1_row35_col0,#T_1a7f1_row36_col0,#T_1a7f1_row37_col0,#T_1a7f1_row38_col0,#T_1a7f1_row39_col0{\n",
       "            background-color:  #f7fcfd;\n",
       "            color:  #000000;\n",
       "        }</style><table id=\"T_1a7f1_\" ><thead>    <tr>        <th class=\"blank level0\" ></th>        <th class=\"col_heading level0 col0\" >Размах</th>    </tr>    <tr>        <th class=\"index_name level0\" >category_code</th>        <th class=\"blank\" ></th>    </tr></thead><tbody>\n",
       "                <tr>\n",
       "                        <th id=\"T_1a7f1_level0_row0\" class=\"row_heading level0 row0\" >enterprise</th>\n",
       "                        <td id=\"T_1a7f1_row0_col0\" class=\"data row0 col0\" >2600000000000.000000</td>\n",
       "            </tr>\n",
       "            <tr>\n",
       "                        <th id=\"T_1a7f1_level0_row1\" class=\"row_heading level0 row1\" >public_relations</th>\n",
       "                        <td id=\"T_1a7f1_row1_col0\" class=\"data row1 col0\" >39000000000.000000</td>\n",
       "            </tr>\n",
       "            <tr>\n",
       "                        <th id=\"T_1a7f1_level0_row2\" class=\"row_heading level0 row2\" >biotech</th>\n",
       "                        <td id=\"T_1a7f1_row2_col0\" class=\"data row2 col0\" >20000000000.000000</td>\n",
       "            </tr>\n",
       "            <tr>\n",
       "                        <th id=\"T_1a7f1_level0_row3\" class=\"row_heading level0 row3\" >other</th>\n",
       "                        <td id=\"T_1a7f1_row3_col0\" class=\"data row3 col0\" >18400000000.000000</td>\n",
       "            </tr>\n",
       "            <tr>\n",
       "                        <th id=\"T_1a7f1_level0_row4\" class=\"row_heading level0 row4\" >mobile</th>\n",
       "                        <td id=\"T_1a7f1_row4_col0\" class=\"data row4 col0\" >12500000000.000000</td>\n",
       "            </tr>\n",
       "            <tr>\n",
       "                        <th id=\"T_1a7f1_level0_row5\" class=\"row_heading level0 row5\" >software</th>\n",
       "                        <td id=\"T_1a7f1_row5_col0\" class=\"data row5 col0\" >10200000000.000000</td>\n",
       "            </tr>\n",
       "            <tr>\n",
       "                        <th id=\"T_1a7f1_level0_row6\" class=\"row_heading level0 row6\" >games_video</th>\n",
       "                        <td id=\"T_1a7f1_row6_col0\" class=\"data row6 col0\" >10000000000.000000</td>\n",
       "            </tr>\n",
       "            <tr>\n",
       "                        <th id=\"T_1a7f1_level0_row7\" class=\"row_heading level0 row7\" >security</th>\n",
       "                        <td id=\"T_1a7f1_row7_col0\" class=\"data row7 col0\" >7680000000.000000</td>\n",
       "            </tr>\n",
       "            <tr>\n",
       "                        <th id=\"T_1a7f1_level0_row8\" class=\"row_heading level0 row8\" >real_estate</th>\n",
       "                        <td id=\"T_1a7f1_row8_col0\" class=\"data row8 col0\" >6850000000.000000</td>\n",
       "            </tr>\n",
       "            <tr>\n",
       "                        <th id=\"T_1a7f1_level0_row9\" class=\"row_heading level0 row9\" >semiconductor</th>\n",
       "                        <td id=\"T_1a7f1_row9_col0\" class=\"data row9 col0\" >6500000000.000000</td>\n",
       "            </tr>\n",
       "            <tr>\n",
       "                        <th id=\"T_1a7f1_level0_row10\" class=\"row_heading level0 row10\" >web</th>\n",
       "                        <td id=\"T_1a7f1_row10_col0\" class=\"data row10 col0\" >6400000000.000000</td>\n",
       "            </tr>\n",
       "            <tr>\n",
       "                        <th id=\"T_1a7f1_level0_row11\" class=\"row_heading level0 row11\" >consulting</th>\n",
       "                        <td id=\"T_1a7f1_row11_col0\" class=\"data row11 col0\" >5750000000.000000</td>\n",
       "            </tr>\n",
       "            <tr>\n",
       "                        <th id=\"T_1a7f1_level0_row12\" class=\"row_heading level0 row12\" >health</th>\n",
       "                        <td id=\"T_1a7f1_row12_col0\" class=\"data row12 col0\" >5400000000.000000</td>\n",
       "            </tr>\n",
       "            <tr>\n",
       "                        <th id=\"T_1a7f1_level0_row13\" class=\"row_heading level0 row13\" >automotive</th>\n",
       "                        <td id=\"T_1a7f1_row13_col0\" class=\"data row13 col0\" >5200000000.000000</td>\n",
       "            </tr>\n",
       "            <tr>\n",
       "                        <th id=\"T_1a7f1_level0_row14\" class=\"row_heading level0 row14\" >hardware</th>\n",
       "                        <td id=\"T_1a7f1_row14_col0\" class=\"data row14 col0\" >4600000000.000000</td>\n",
       "            </tr>\n",
       "            <tr>\n",
       "                        <th id=\"T_1a7f1_level0_row15\" class=\"row_heading level0 row15\" >finance</th>\n",
       "                        <td id=\"T_1a7f1_row15_col0\" class=\"data row15 col0\" >4400000000.000000</td>\n",
       "            </tr>\n",
       "            <tr>\n",
       "                        <th id=\"T_1a7f1_level0_row16\" class=\"row_heading level0 row16\" >manufacturing</th>\n",
       "                        <td id=\"T_1a7f1_row16_col0\" class=\"data row16 col0\" >4050000000.000000</td>\n",
       "            </tr>\n",
       "            <tr>\n",
       "                        <th id=\"T_1a7f1_level0_row17\" class=\"row_heading level0 row17\" >cleantech</th>\n",
       "                        <td id=\"T_1a7f1_row17_col0\" class=\"data row17 col0\" >3750000000.000000</td>\n",
       "            </tr>\n",
       "            <tr>\n",
       "                        <th id=\"T_1a7f1_level0_row18\" class=\"row_heading level0 row18\" >advertising</th>\n",
       "                        <td id=\"T_1a7f1_row18_col0\" class=\"data row18 col0\" >3100000000.000000</td>\n",
       "            </tr>\n",
       "            <tr>\n",
       "                        <th id=\"T_1a7f1_level0_row19\" class=\"row_heading level0 row19\" >network_hosting</th>\n",
       "                        <td id=\"T_1a7f1_row19_col0\" class=\"data row19 col0\" >3000000000.000000</td>\n",
       "            </tr>\n",
       "            <tr>\n",
       "                        <th id=\"T_1a7f1_level0_row20\" class=\"row_heading level0 row20\" >hospitality</th>\n",
       "                        <td id=\"T_1a7f1_row20_col0\" class=\"data row20 col0\" >2170000000.000000</td>\n",
       "            </tr>\n",
       "            <tr>\n",
       "                        <th id=\"T_1a7f1_level0_row21\" class=\"row_heading level0 row21\" >ecommerce</th>\n",
       "                        <td id=\"T_1a7f1_row21_col0\" class=\"data row21 col0\" >1250000000.000000</td>\n",
       "            </tr>\n",
       "            <tr>\n",
       "                        <th id=\"T_1a7f1_level0_row22\" class=\"row_heading level0 row22\" >search</th>\n",
       "                        <td id=\"T_1a7f1_row22_col0\" class=\"data row22 col0\" >1200000000.000000</td>\n",
       "            </tr>\n",
       "            <tr>\n",
       "                        <th id=\"T_1a7f1_level0_row23\" class=\"row_heading level0 row23\" >transportation</th>\n",
       "                        <td id=\"T_1a7f1_row23_col0\" class=\"data row23 col0\" >1100000000.000000</td>\n",
       "            </tr>\n",
       "            <tr>\n",
       "                        <th id=\"T_1a7f1_level0_row24\" class=\"row_heading level0 row24\" >photo_video</th>\n",
       "                        <td id=\"T_1a7f1_row24_col0\" class=\"data row24 col0\" >1010470000.000000</td>\n",
       "            </tr>\n",
       "            <tr>\n",
       "                        <th id=\"T_1a7f1_level0_row25\" class=\"row_heading level0 row25\" >sports</th>\n",
       "                        <td id=\"T_1a7f1_row25_col0\" class=\"data row25 col0\" >985000000.000000</td>\n",
       "            </tr>\n",
       "            <tr>\n",
       "                        <th id=\"T_1a7f1_level0_row26\" class=\"row_heading level0 row26\" >education</th>\n",
       "                        <td id=\"T_1a7f1_row26_col0\" class=\"data row26 col0\" >721000000.000000</td>\n",
       "            </tr>\n",
       "            <tr>\n",
       "                        <th id=\"T_1a7f1_level0_row27\" class=\"row_heading level0 row27\" >medical</th>\n",
       "                        <td id=\"T_1a7f1_row27_col0\" class=\"data row27 col0\" >325000000.000000</td>\n",
       "            </tr>\n",
       "            <tr>\n",
       "                        <th id=\"T_1a7f1_level0_row28\" class=\"row_heading level0 row28\" >news</th>\n",
       "                        <td id=\"T_1a7f1_row28_col0\" class=\"data row28 col0\" >315000000.000000</td>\n",
       "            </tr>\n",
       "            <tr>\n",
       "                        <th id=\"T_1a7f1_level0_row29\" class=\"row_heading level0 row29\" >music</th>\n",
       "                        <td id=\"T_1a7f1_row29_col0\" class=\"data row29 col0\" >280000000.000000</td>\n",
       "            </tr>\n",
       "            <tr>\n",
       "                        <th id=\"T_1a7f1_level0_row30\" class=\"row_heading level0 row30\" >fashion</th>\n",
       "                        <td id=\"T_1a7f1_row30_col0\" class=\"data row30 col0\" >270000000.000000</td>\n",
       "            </tr>\n",
       "            <tr>\n",
       "                        <th id=\"T_1a7f1_level0_row31\" class=\"row_heading level0 row31\" >analytics</th>\n",
       "                        <td id=\"T_1a7f1_row31_col0\" class=\"data row31 col0\" >263000000.000000</td>\n",
       "            </tr>\n",
       "            <tr>\n",
       "                        <th id=\"T_1a7f1_level0_row32\" class=\"row_heading level0 row32\" >travel</th>\n",
       "                        <td id=\"T_1a7f1_row32_col0\" class=\"data row32 col0\" >198000000.000000</td>\n",
       "            </tr>\n",
       "            <tr>\n",
       "                        <th id=\"T_1a7f1_level0_row33\" class=\"row_heading level0 row33\" >messaging</th>\n",
       "                        <td id=\"T_1a7f1_row33_col0\" class=\"data row33 col0\" >169000000.000000</td>\n",
       "            </tr>\n",
       "            <tr>\n",
       "                        <th id=\"T_1a7f1_level0_row34\" class=\"row_heading level0 row34\" >social</th>\n",
       "                        <td id=\"T_1a7f1_row34_col0\" class=\"data row34 col0\" >151000000.000000</td>\n",
       "            </tr>\n",
       "            <tr>\n",
       "                        <th id=\"T_1a7f1_level0_row35\" class=\"row_heading level0 row35\" >local</th>\n",
       "                        <td id=\"T_1a7f1_row35_col0\" class=\"data row35 col0\" >16140200.000000</td>\n",
       "            </tr>\n",
       "            <tr>\n",
       "                        <th id=\"T_1a7f1_level0_row36\" class=\"row_heading level0 row36\" >legal</th>\n",
       "                        <td id=\"T_1a7f1_row36_col0\" class=\"data row36 col0\" >0.000000</td>\n",
       "            </tr>\n",
       "            <tr>\n",
       "                        <th id=\"T_1a7f1_level0_row37\" class=\"row_heading level0 row37\" >nonprofit</th>\n",
       "                        <td id=\"T_1a7f1_row37_col0\" class=\"data row37 col0\" >0.000000</td>\n",
       "            </tr>\n",
       "            <tr>\n",
       "                        <th id=\"T_1a7f1_level0_row38\" class=\"row_heading level0 row38\" >nanotech</th>\n",
       "                        <td id=\"T_1a7f1_row38_col0\" class=\"data row38 col0\" >0.000000</td>\n",
       "            </tr>\n",
       "            <tr>\n",
       "                        <th id=\"T_1a7f1_level0_row39\" class=\"row_heading level0 row39\" >design</th>\n",
       "                        <td id=\"T_1a7f1_row39_col0\" class=\"data row39 col0\" >0.000000</td>\n",
       "            </tr>\n",
       "    </tbody></table>"
      ],
      "text/plain": [
       "<pandas.io.formats.style.Styler at 0x7f664f191520>"
      ]
     },
     "execution_count": 125,
     "metadata": {},
     "output_type": "execute_result"
    }
   ],
   "source": [
    "# Строим сводную таблицу на основе полученных данных\n",
    "pivot_df_min_max = pd.pivot_table(df_min_max,\n",
    "                                  index = 'category_code',\n",
    "                                  values = 'Размах')\n",
    "# Сортируем таблицу \n",
    "pivot_df_min_max = pivot_df_min_max.sort_values(by = 'Размах', ascending = False)\n",
    "# Добавим градиент\n",
    "pivot_df_min_max = pivot_df_min_max.style.background_gradient(cmap='BuGn', axis=0)\n",
    "pivot_df_min_max"
   ]
  },
  {
   "cell_type": "markdown",
   "id": "3acd9771-49d4-4178-a328-f713f8893e24",
   "metadata": {},
   "source": [
    "Наибольший размах цен имеют стартапы категории `enterprise` (2600000000000 долларов), `public_relations` (39000000000 долларов) и `biotech` (20000000000 долларов).\n",
    "_____"
   ]
  },
  {
   "cell_type": "markdown",
   "id": "504582e2-52b4-4b73-8031-24002022b55b",
   "metadata": {},
   "source": [
    "### 3.5. Сколько раундов продержится стартап перед покупкой\n",
    "\n",
    "Нам необходимо проанализировать столбец `funding_rounds`. Заказчика интересует типичное значение количества раундов для каждого возможного статуса стартапа.\n",
    "\n",
    "Построим график распределения числа раундов финансирования, чтобы выяснить, встречаются ли аномально высокие или низкие значения в данных. "
   ]
  },
  {
   "cell_type": "code",
   "execution_count": 126,
   "id": "59dfaa12-8f81-4f4b-b01c-1640e70dcc28",
   "metadata": {},
   "outputs": [
    {
     "data": {
      "image/png": "[encoded data removed]",
      "text/plain": [
       "<Figure size 720x432 with 1 Axes>"
      ]
     },
     "metadata": {
      "needs_background": "light"
     },
     "output_type": "display_data"
    }
   ],
   "source": [
    "# Строим график\n",
    "plt.figure(figsize = (10,6))\n",
    "sns.boxplot(data=df_company_filtered, x='funding_rounds', y='status', color = 'green')\n",
    "\n",
    "plt.title('Распределение числа раундов финансирования по категориям')\n",
    "plt.xlabel('Раунды финансирования')\n",
    "plt.ylabel('Категория')\n",
    "plt.show()"
   ]
  },
  {
   "cell_type": "markdown",
   "id": "d2df3732-9c39-4355-a9a0-786b5a78cc5f",
   "metadata": {},
   "source": [
    "По графику распределения видно, что во всех случаях встречаются данные, выходящие за границы ящика с усами. Однако они не являются аномальными значениями, так как числа реалистичны для количества раундов финансирования. \n",
    "\n",
    "Создадим сводную таблицу по статусу стартапов и их среднему числу раундов."
   ]
  },
  {
   "cell_type": "code",
   "execution_count": 127,
   "id": "34868fb2-e3f7-4eee-991c-820f2cee75c0",
   "metadata": {},
   "outputs": [
    {
     "data": {
      "text/html": [
       "<style  type=\"text/css\" >\n",
       "#T_1f8b3_row0_col0{\n",
       "            background-color:  #00441b;\n",
       "            color:  #f1f1f1;\n",
       "        }#T_1f8b3_row1_col0{\n",
       "            background-color:  #2d9655;\n",
       "            color:  #000000;\n",
       "        }#T_1f8b3_row2_col0{\n",
       "            background-color:  #46b17c;\n",
       "            color:  #000000;\n",
       "        }#T_1f8b3_row3_col0{\n",
       "            background-color:  #f7fcfd;\n",
       "            color:  #000000;\n",
       "        }</style><table id=\"T_1f8b3_\" ><thead>    <tr>        <th class=\"blank level0\" ></th>        <th class=\"col_heading level0 col0\" >Среднее число раундов финансирования</th>    </tr>    <tr>        <th class=\"index_name level0\" >status</th>        <th class=\"blank\" ></th>    </tr></thead><tbody>\n",
       "                <tr>\n",
       "                        <th id=\"T_1f8b3_level0_row0\" class=\"row_heading level0 row0\" >ipo</th>\n",
       "                        <td id=\"T_1f8b3_row0_col0\" class=\"data row0 col0\" >1.934375</td>\n",
       "            </tr>\n",
       "            <tr>\n",
       "                        <th id=\"T_1f8b3_level0_row1\" class=\"row_heading level0 row1\" >operating</th>\n",
       "                        <td id=\"T_1f8b3_row1_col0\" class=\"data row1 col0\" >1.522695</td>\n",
       "            </tr>\n",
       "            <tr>\n",
       "                        <th id=\"T_1f8b3_level0_row2\" class=\"row_heading level0 row2\" >closed</th>\n",
       "                        <td id=\"T_1f8b3_row2_col0\" class=\"data row2 col0\" >1.381453</td>\n",
       "            </tr>\n",
       "            <tr>\n",
       "                        <th id=\"T_1f8b3_level0_row3\" class=\"row_heading level0 row3\" >acquired</th>\n",
       "                        <td id=\"T_1f8b3_row3_col0\" class=\"data row3 col0\" >0.523526</td>\n",
       "            </tr>\n",
       "    </tbody></table>"
      ],
      "text/plain": [
       "<pandas.io.formats.style.Styler at 0x7f65e72b9f40>"
      ]
     },
     "execution_count": 127,
     "metadata": {},
     "output_type": "execute_result"
    }
   ],
   "source": [
    "pivot_rounds = pd.pivot_table(df_company_filtered,\n",
    "                              index = 'status',\n",
    "                              values = 'funding_rounds',\n",
    "                              aggfunc = 'mean')\n",
    "\n",
    "# Переименуем столбец со средним числом раундов\n",
    "pivot_rounds = pivot_rounds.rename(columns = {'funding_rounds': 'Среднее число раундов финансирования'})\n",
    "# Отсортируем таблицу\n",
    "pivot_rounds = pivot_rounds.sort_values(by = 'Среднее число раундов финансирования', ascending = False)\n",
    "# Добавим градиент\n",
    "pivot_rounds_styler = pivot_rounds.style.background_gradient(cmap='BuGn', axis=0)\n",
    "pivot_rounds_styler"
   ]
  },
  {
   "cell_type": "code",
   "execution_count": 128,
   "id": "f7b08962-04be-495b-9eeb-e9ed37c30561",
   "metadata": {},
   "outputs": [
    {
     "data": {
      "image/png": "[encoded data removed]",
      "text/plain": [
       "<Figure size 720x288 with 1 Axes>"
      ]
     },
     "metadata": {
      "needs_background": "light"
     },
     "output_type": "display_data"
    }
   ],
   "source": [
    "# Построим график для сравнения числа раундов категорий\n",
    "funding_categories = pivot_rounds.sort_values(by = 'Среднее число раундов финансирования', ascending = False).plot(kind = 'bar',\n",
    "                                                                                                                 figsize = (10,4),\n",
    "                                                                                                                title = 'Среднее число раундов финансирования по статусы стартапа',\n",
    "                                                                                                                xlabel = 'Статус стартапа',\n",
    "                                                                                                                ylabel = 'Среднее число раундов финасирования',\n",
    "                                                                                                                  rot = 0,\n",
    "                                                                                                                color = 'green',\n",
    "                                                                                                                legend = False)\n",
    "plt.grid()"
   ]
  },
  {
   "cell_type": "markdown",
   "id": "e175e02f-68ed-49d8-9b2a-a64db64a3ca2",
   "metadata": {},
   "source": [
    "По графику видно, что в среднем больше раундов финансирования имеют стартапы, вышедшие на `IPO`. их показатель - 1.93 раунда. Это связано с тем, что для достижения такого статуса компаниям требуются значительные капиталовложения в бизнес для масштабирования своей деятельности. Также перед выходом на IPO компании могут проводить дополнительные раунды финансирования, чтобы сбалансировать свои финансовые показатели и привлечь большее внимание инвесторов.\n",
    "\n",
    "У стартапов статуса `operating` показатель среднего числа раундов финансирования меньше - 1.52. Такие стартапы могут находиться на пути к выходу на IPO, они не долшли до этого этапа, а значит, потратили меньше ресурсов на рост, в том числе и финансовых. Они могут быть сосредоточены не на выход на новый рынок, а на разработке продукта и оценке собственного рынка. \n",
    "\n",
    "Стартапы со статусом `closed` еще меньше среднее число раундов финасирования - 1.38. Возможно, эти стартапы были закрыты по причине неокупаемости капиталовложений, а также отсутствия устойчивого уровня дохода и невозможности привлечь нужное внимание инвесторов, поэтому их показатель меньше. \n",
    "\n",
    "У стартапов со статусом `acquired` в среднем раундов меньше одного - 0.52. Такой результат может иметь несколько причин:\n",
    "- Стартап изначально планировался для целевой продажи, а не масшатбирования. Такие компании фокусируются на продукте и привлечения крупных компаний за счет достижения определенных показателей.\n",
    "- Стартап сразу может оказаться прибыльным, поэтому ему не потребуются дополнительные раунды финансирования. Такие компании привлекательны для крупных покупателей.\n",
    "- Иногда стартапы производя уникальный продукт или услугу, что привлекает внимание крупных компаний, готовых купить стартап без дополнительного финансирования.\n",
    "___________"
   ]
  },
  {
   "cell_type": "markdown",
   "id": "5b4d096d-5700-4c43-ad55-b49eb1a8275c",
   "metadata": {},
   "source": [
    "### Промежуточные выводы\n",
    "\n",
    "В результате исследования мы:\n",
    "- Выяснили, что среди всех данных 40745 стартапов вменили владельца или готовы к таким изменениям.\n",
    "- Выяснили, что типичный размер суммы финансирования (столбец `funding_total`) за отобранный период составляет 2564000 долларов.\n",
    "- Предположили, что некоторые компании были проданы за 0 или 1 доллар по причине невозможности привлечь инвестиции и отсутствия перспективы развития. \n",
    "- Установили нижнюю и верхнюю границы для выбросов в столбце `funding_total`: 250000 и 51487499.99999996 долларов соотвественно.\n",
    "- Установили, что в тройку лидеров по медианной цене вошли стартапы категорий `nanotech`, `manufacturing` и `real_estate`.\n",
    "- Выяснили, что в тройку лидеров по размаху цен вошли компании категорий `enterprise`, `public_relations` и `biotech`.\n",
    "- Узнали, что больше всего раундов финансирования имеют компании, вышедшие на IPO, а наименьшее - компании со статусом `acquired`.\n",
    "________"
   ]
  },
  {
   "cell_type": "markdown",
   "id": "88146cf3-da15-4aa0-bccb-f599e379f1cf",
   "metadata": {},
   "source": [
    "## 4. Итоговый вывод и рекомендации\n",
    "### 4.1 Общий обзор проделанной работы\n",
    "В ходе проделанной работы мы проанализировали данные стартапов, включавшие в себя сведения о компании, ее инвестиционных раундах и раундах финансирования, а также информацию о сотрудниках и их образовании. Акцент исследования был сделан на то, чтобы дать рекомендации финансовой компании, которая предоставляет льготные займы стартапам, по выходу на инвестиционный рынок с прицелом на покупку, развитие и последующую перепродажу перспективных стартапов. \n",
    "\n",
    "### 4.2 Ответы на исследовательские вопросы и главные выводы.\n",
    "В ходе исследования мы получили такие результаты:\n",
    "- Наивысший средний объем средств, привлеченных за один раунд финансирования, был зафиксирован в 2000 году и составил 11 485 509 денежных единиц. У нас есть данные до 2013 года, и можно отметить, что до этого времени наблюдался явный тренд роста количества раундов финансирования, в то время как средний размер средств, выделяемых на один раунд, колебался, демонстрируя как рост, так и снижение.\n",
    "- Чаще всего информацию о сотрудниках скрывают микрокомпании и небольшие предприятия. Вероятно, это связано с тем, что они стремятся избежать рисков для своего положения на рынке и не хотят уступать конкурентам из-за возможного более низкого уровня образования своих работников.\n",
    "- Заказчик был прав. Ранее данные о компаниях и раундах финансирования хранились в более удобном для анализа виде. Датафрейм `df_company_and_rounds` был образован соединением двух датафреймов: первый содержал информацию о компаниях, второй - о раундах финансирования. Мы привели данные в первоначальный вид.\n",
    "- Ряд компаний мог быть продан за 0 или 1 доллар из-за трудностей с привлечением инвестиций и отсутствием перспектив для дальнейшего роста.\n",
    "- Стартапы из категорий нанотехнологий, производства и недвижимости заняли три ведущие позиции по медианной стоимости.\n",
    "- Компании из сфер корпоративных услуг, связей с общественностью и биотехнологий входят в тройку лидеров по диапазону цен продажи.\n",
    "\n",
    "### 4.3 Рекомендации\n",
    "\n",
    "Мы рекомендуем обратить внимание на компании, относящися к категории `real_estate` и `biotech`, так как стартапы этих категорий демонстрируют высокий чек продажи и большой размах цен. Широкий диапазон цен предоставляет инвесторам возможность найти стартапы на разных стадиях развития и с различным уровнем риска. Это позволяет диверсифицировать инвестиционный портфель. Также инвестор сможет выбирать стартапы в зависимости от своих стратегий и целей — от более рискованных, но потенциально высокодоходных до более стабильных и предсказуемых.\n",
    "\n",
    "Наиболее часто за 0 или 1 доллар продаются компании категории `soft_ware`, `web` и `enterprice`. Это может говорить о высоком риске отсутствия перспектив и неокупаемости вложений. Поэтому не следует выбирать такие стартапы для инвестиций. В это же время категории среди компаний. проданных бесплатно, нет категории `real_estate`, а доля стартапов `biotech` всего 4%. Это подтвержает выгоду от выбора инвестиций в них.\n",
    "\n",
    "Большая часть компаний продается с небольшим числом раундов финансирования (до 1). Рекомендуем не превышать 2-3 раундов, так как это позволит получить стартапу достаточный для начального развития капитал и не размыть доли ранних инвесторов."
   ]
  }
 ],
 "metadata": {
  "ExecuteTimeLog": [
   {
    "duration": 9227,
    "start_time": "2025-02-06T09:44:48.519Z"
   },
   {
    "duration": 2667,
    "start_time": "2025-02-06T09:44:57.749Z"
   },
   {
    "duration": 13,
    "start_time": "2025-02-06T09:45:00.418Z"
   },
   {
    "duration": 101,
    "start_time": "2025-02-06T09:45:00.433Z"
   },
   {
    "duration": 26,
    "start_time": "2025-02-06T09:45:00.536Z"
   },
   {
    "duration": 108,
    "start_time": "2025-02-06T09:45:00.564Z"
   },
   {
    "duration": 45,
    "start_time": "2025-02-06T09:45:00.674Z"
   },
   {
    "duration": 8,
    "start_time": "2025-02-06T09:45:00.721Z"
   },
   {
    "duration": 57,
    "start_time": "2025-02-06T09:45:00.731Z"
   },
   {
    "duration": 26,
    "start_time": "2025-02-06T09:45:00.790Z"
   },
   {
    "duration": 57,
    "start_time": "2025-02-06T09:45:00.818Z"
   },
   {
    "duration": 10,
    "start_time": "2025-02-06T09:45:00.878Z"
   },
   {
    "duration": 33,
    "start_time": "2025-02-06T09:45:00.890Z"
   },
   {
    "duration": 24,
    "start_time": "2025-02-06T09:45:00.926Z"
   },
   {
    "duration": 26,
    "start_time": "2025-02-06T09:45:00.952Z"
   },
   {
    "duration": 12,
    "start_time": "2025-02-06T09:45:00.980Z"
   },
   {
    "duration": 35,
    "start_time": "2025-02-06T09:45:00.993Z"
   },
   {
    "duration": 9,
    "start_time": "2025-02-06T09:45:01.030Z"
   },
   {
    "duration": 139,
    "start_time": "2025-02-06T09:45:01.041Z"
   },
   {
    "duration": 172,
    "start_time": "2025-02-06T09:45:01.182Z"
   },
   {
    "duration": 7,
    "start_time": "2025-02-06T09:45:01.356Z"
   },
   {
    "duration": 99,
    "start_time": "2025-02-06T09:45:01.365Z"
   },
   {
    "duration": 93,
    "start_time": "2025-02-06T09:45:01.465Z"
   },
   {
    "duration": 94,
    "start_time": "2025-02-06T09:45:01.560Z"
   },
   {
    "duration": 2346,
    "start_time": "2025-02-06T09:45:01.655Z"
   },
   {
    "duration": 22,
    "start_time": "2025-02-06T09:45:04.003Z"
   },
   {
    "duration": 32,
    "start_time": "2025-02-06T09:45:04.027Z"
   },
   {
    "duration": 74,
    "start_time": "2025-02-06T09:45:04.061Z"
   },
   {
    "duration": 40,
    "start_time": "2025-02-06T09:45:04.136Z"
   },
   {
    "duration": 56,
    "start_time": "2025-02-06T09:45:04.178Z"
   },
   {
    "duration": 97,
    "start_time": "2025-02-06T09:45:04.235Z"
   },
   {
    "duration": 25,
    "start_time": "2025-02-06T09:45:04.334Z"
   },
   {
    "duration": 34,
    "start_time": "2025-02-06T09:45:04.361Z"
   },
   {
    "duration": 8,
    "start_time": "2025-02-06T09:45:04.397Z"
   },
   {
    "duration": 133,
    "start_time": "2025-02-06T09:45:04.407Z"
   },
   {
    "duration": 16,
    "start_time": "2025-02-06T09:45:04.541Z"
   },
   {
    "duration": 87,
    "start_time": "2025-02-06T09:45:04.559Z"
   },
   {
    "duration": 164,
    "start_time": "2025-02-06T09:45:04.648Z"
   },
   {
    "duration": 37,
    "start_time": "2025-02-06T09:45:04.814Z"
   },
   {
    "duration": 47,
    "start_time": "2025-02-06T09:45:04.852Z"
   },
   {
    "duration": 6,
    "start_time": "2025-02-06T09:45:04.904Z"
   },
   {
    "duration": 41,
    "start_time": "2025-02-06T09:45:04.912Z"
   },
   {
    "duration": 5,
    "start_time": "2025-02-06T09:45:04.955Z"
   },
   {
    "duration": 16,
    "start_time": "2025-02-06T09:45:04.961Z"
   },
   {
    "duration": 69,
    "start_time": "2025-02-06T09:45:04.979Z"
   },
   {
    "duration": 14,
    "start_time": "2025-02-06T09:45:05.050Z"
   },
   {
    "duration": 39,
    "start_time": "2025-02-06T09:45:05.066Z"
   },
   {
    "duration": 23,
    "start_time": "2025-02-06T09:45:05.107Z"
   },
   {
    "duration": 163,
    "start_time": "2025-02-06T09:45:05.147Z"
   },
   {
    "duration": 7,
    "start_time": "2025-02-06T09:45:05.312Z"
   },
   {
    "duration": 194,
    "start_time": "2025-02-06T09:45:05.321Z"
   },
   {
    "duration": 15,
    "start_time": "2025-02-06T09:45:05.516Z"
   },
   {
    "duration": 125,
    "start_time": "2025-02-06T09:45:05.547Z"
   },
   {
    "duration": 38,
    "start_time": "2025-02-06T09:45:05.674Z"
   },
   {
    "duration": 47,
    "start_time": "2025-02-06T09:45:05.714Z"
   },
   {
    "duration": 29,
    "start_time": "2025-02-06T09:45:05.763Z"
   },
   {
    "duration": 13454,
    "start_time": "2025-02-06T09:45:05.794Z"
   },
   {
    "duration": 6,
    "start_time": "2025-02-06T09:45:19.250Z"
   },
   {
    "duration": 55,
    "start_time": "2025-02-06T09:45:19.258Z"
   },
   {
    "duration": 59,
    "start_time": "2025-02-06T09:45:19.316Z"
   },
   {
    "duration": 237005,
    "start_time": "2025-02-06T09:45:19.377Z"
   },
   {
    "duration": 6,
    "start_time": "2025-02-06T09:49:16.383Z"
   },
   {
    "duration": 6,
    "start_time": "2025-02-06T09:49:16.391Z"
   },
   {
    "duration": 6427,
    "start_time": "2025-02-06T09:49:16.399Z"
   },
   {
    "duration": 7,
    "start_time": "2025-02-06T09:49:22.828Z"
   },
   {
    "duration": 102,
    "start_time": "2025-02-06T09:49:22.848Z"
   },
   {
    "duration": 389,
    "start_time": "2025-02-06T09:49:22.952Z"
   },
   {
    "duration": 49,
    "start_time": "2025-02-06T09:49:23.347Z"
   },
   {
    "duration": 30,
    "start_time": "2025-02-06T09:49:23.397Z"
   },
   {
    "duration": 19,
    "start_time": "2025-02-06T09:49:23.428Z"
   },
   {
    "duration": 15,
    "start_time": "2025-02-06T09:49:23.448Z"
   },
   {
    "duration": 20,
    "start_time": "2025-02-06T09:49:23.465Z"
   },
   {
    "duration": 15,
    "start_time": "2025-02-06T09:49:23.486Z"
   },
   {
    "duration": 11,
    "start_time": "2025-02-06T09:49:23.502Z"
   },
   {
    "duration": 40,
    "start_time": "2025-02-06T09:49:23.516Z"
   },
   {
    "duration": 17,
    "start_time": "2025-02-06T09:49:23.558Z"
   },
   {
    "duration": 35,
    "start_time": "2025-02-06T09:49:23.577Z"
   },
   {
    "duration": 15,
    "start_time": "2025-02-06T09:49:23.613Z"
   },
   {
    "duration": 83,
    "start_time": "2025-02-06T09:49:23.629Z"
   },
   {
    "duration": 3,
    "start_time": "2025-02-06T09:49:23.713Z"
   },
   {
    "duration": 131,
    "start_time": "2025-02-06T09:49:23.717Z"
   },
   {
    "duration": 0,
    "start_time": "2025-02-06T09:49:23.850Z"
   },
   {
    "duration": 3820,
    "start_time": "2025-02-11T07:16:12.404Z"
   },
   {
    "duration": 2449,
    "start_time": "2025-02-11T07:16:16.227Z"
   },
   {
    "duration": 13,
    "start_time": "2025-02-11T07:16:18.678Z"
   },
   {
    "duration": 12,
    "start_time": "2025-02-11T07:16:18.693Z"
   },
   {
    "duration": 25,
    "start_time": "2025-02-11T07:16:18.707Z"
   },
   {
    "duration": 105,
    "start_time": "2025-02-11T07:16:18.761Z"
   },
   {
    "duration": 47,
    "start_time": "2025-02-11T07:16:18.868Z"
   },
   {
    "duration": 7,
    "start_time": "2025-02-11T07:16:18.917Z"
   },
   {
    "duration": 44,
    "start_time": "2025-02-11T07:16:18.926Z"
   },
   {
    "duration": 9,
    "start_time": "2025-02-11T07:16:18.972Z"
   },
   {
    "duration": 49,
    "start_time": "2025-02-11T07:16:18.982Z"
   },
   {
    "duration": 8,
    "start_time": "2025-02-11T07:16:19.033Z"
   },
   {
    "duration": 42,
    "start_time": "2025-02-11T07:16:19.042Z"
   },
   {
    "duration": 9,
    "start_time": "2025-02-11T07:16:19.087Z"
   },
   {
    "duration": 13,
    "start_time": "2025-02-11T07:16:19.097Z"
   },
   {
    "duration": 6,
    "start_time": "2025-02-11T07:16:19.112Z"
   },
   {
    "duration": 11,
    "start_time": "2025-02-11T07:16:19.119Z"
   },
   {
    "duration": 33,
    "start_time": "2025-02-11T07:16:19.132Z"
   },
   {
    "duration": 122,
    "start_time": "2025-02-11T07:16:19.167Z"
   },
   {
    "duration": 163,
    "start_time": "2025-02-11T07:16:19.291Z"
   },
   {
    "duration": 9,
    "start_time": "2025-02-11T07:16:19.455Z"
   },
   {
    "duration": 9,
    "start_time": "2025-02-11T07:16:19.466Z"
   },
   {
    "duration": 91,
    "start_time": "2025-02-11T07:16:19.477Z"
   },
   {
    "duration": 94,
    "start_time": "2025-02-11T07:16:19.570Z"
   },
   {
    "duration": 2395,
    "start_time": "2025-02-11T07:16:19.666Z"
   },
   {
    "duration": 16,
    "start_time": "2025-02-11T07:16:22.064Z"
   },
   {
    "duration": 16,
    "start_time": "2025-02-11T07:16:22.082Z"
   },
   {
    "duration": 64,
    "start_time": "2025-02-11T07:16:22.100Z"
   },
   {
    "duration": 40,
    "start_time": "2025-02-11T07:16:22.166Z"
   },
   {
    "duration": 22,
    "start_time": "2025-02-11T07:16:22.208Z"
   },
   {
    "duration": 49,
    "start_time": "2025-02-11T07:16:22.231Z"
   },
   {
    "duration": 9,
    "start_time": "2025-02-11T07:16:22.282Z"
   },
   {
    "duration": 49,
    "start_time": "2025-02-11T07:16:22.292Z"
   },
   {
    "duration": 22,
    "start_time": "2025-02-11T07:16:22.342Z"
   },
   {
    "duration": 8,
    "start_time": "2025-02-11T07:16:22.366Z"
   },
   {
    "duration": 10,
    "start_time": "2025-02-11T07:16:22.376Z"
   },
   {
    "duration": 86,
    "start_time": "2025-02-11T07:16:22.388Z"
   },
   {
    "duration": 163,
    "start_time": "2025-02-11T07:16:22.476Z"
   },
   {
    "duration": 34,
    "start_time": "2025-02-11T07:16:22.641Z"
   },
   {
    "duration": 44,
    "start_time": "2025-02-11T07:16:22.677Z"
   },
   {
    "duration": 6,
    "start_time": "2025-02-11T07:16:22.727Z"
   },
   {
    "duration": 29,
    "start_time": "2025-02-11T07:16:22.735Z"
   },
   {
    "duration": 6,
    "start_time": "2025-02-11T07:16:22.765Z"
   },
   {
    "duration": 23,
    "start_time": "2025-02-11T07:16:22.772Z"
   },
   {
    "duration": 51,
    "start_time": "2025-02-11T07:16:22.797Z"
   },
   {
    "duration": 23,
    "start_time": "2025-02-11T07:16:22.850Z"
   },
   {
    "duration": 24,
    "start_time": "2025-02-11T07:16:22.875Z"
   },
   {
    "duration": 22,
    "start_time": "2025-02-11T07:16:22.901Z"
   },
   {
    "duration": 181,
    "start_time": "2025-02-11T07:16:22.924Z"
   },
   {
    "duration": 8,
    "start_time": "2025-02-11T07:16:23.107Z"
   },
   {
    "duration": 88,
    "start_time": "2025-02-11T07:16:23.117Z"
   },
   {
    "duration": 15,
    "start_time": "2025-02-11T07:16:23.207Z"
   },
   {
    "duration": 127,
    "start_time": "2025-02-11T07:16:23.224Z"
   },
   {
    "duration": 48,
    "start_time": "2025-02-11T07:16:23.352Z"
   },
   {
    "duration": 31,
    "start_time": "2025-02-11T07:16:23.401Z"
   },
   {
    "duration": 38,
    "start_time": "2025-02-11T07:16:23.433Z"
   },
   {
    "duration": 14924,
    "start_time": "2025-02-11T07:16:23.472Z"
   },
   {
    "duration": 6,
    "start_time": "2025-02-11T07:16:38.398Z"
   },
   {
    "duration": 59,
    "start_time": "2025-02-11T07:16:38.405Z"
   },
   {
    "duration": 40,
    "start_time": "2025-02-11T07:16:38.465Z"
   },
   {
    "duration": 268773,
    "start_time": "2025-02-11T07:16:38.507Z"
   },
   {
    "duration": 8,
    "start_time": "2025-02-11T07:21:07.282Z"
   },
   {
    "duration": 19,
    "start_time": "2025-02-11T07:21:07.291Z"
   },
   {
    "duration": 7141,
    "start_time": "2025-02-11T07:21:07.312Z"
   },
   {
    "duration": 11,
    "start_time": "2025-02-11T07:21:14.455Z"
   },
   {
    "duration": 94,
    "start_time": "2025-02-11T07:21:14.468Z"
   },
   {
    "duration": 370,
    "start_time": "2025-02-11T07:21:14.564Z"
   },
   {
    "duration": 58,
    "start_time": "2025-02-11T07:21:14.936Z"
   },
   {
    "duration": 7,
    "start_time": "2025-02-11T07:21:14.996Z"
   },
   {
    "duration": 92,
    "start_time": "2025-02-11T07:21:15.005Z"
   },
   {
    "duration": 44,
    "start_time": "2025-02-11T07:21:15.099Z"
   },
   {
    "duration": 15,
    "start_time": "2025-02-11T07:21:15.145Z"
   },
   {
    "duration": 4,
    "start_time": "2025-02-11T07:21:15.162Z"
   },
   {
    "duration": 27,
    "start_time": "2025-02-11T07:21:15.168Z"
   },
   {
    "duration": 83,
    "start_time": "2025-02-11T07:21:15.197Z"
   },
   {
    "duration": 8,
    "start_time": "2025-02-11T07:21:15.282Z"
   },
   {
    "duration": 23,
    "start_time": "2025-02-11T07:21:15.291Z"
   },
   {
    "duration": 25,
    "start_time": "2025-02-11T07:21:15.316Z"
   },
   {
    "duration": 89,
    "start_time": "2025-02-11T07:21:15.343Z"
   },
   {
    "duration": 3,
    "start_time": "2025-02-11T07:21:15.433Z"
   },
   {
    "duration": 130,
    "start_time": "2025-02-11T07:21:15.437Z"
   },
   {
    "duration": 6,
    "start_time": "2025-02-11T07:21:15.569Z"
   },
   {
    "duration": 21,
    "start_time": "2025-02-11T07:21:15.576Z"
   },
   {
    "duration": 88,
    "start_time": "2025-02-11T07:21:15.599Z"
   },
   {
    "duration": 77,
    "start_time": "2025-02-11T07:21:15.689Z"
   },
   {
    "duration": 64,
    "start_time": "2025-02-11T07:21:15.768Z"
   },
   {
    "duration": 3,
    "start_time": "2025-02-11T07:21:15.834Z"
   },
   {
    "duration": 261,
    "start_time": "2025-02-11T07:21:15.839Z"
   },
   {
    "duration": 232,
    "start_time": "2025-02-11T07:21:16.102Z"
   },
   {
    "duration": 215,
    "start_time": "2025-02-11T07:21:16.335Z"
   },
   {
    "duration": 50,
    "start_time": "2025-02-11T07:21:16.551Z"
   },
   {
    "duration": 86,
    "start_time": "2025-02-11T07:21:16.602Z"
   },
   {
    "duration": 72,
    "start_time": "2025-02-11T07:21:16.689Z"
   },
   {
    "duration": 65,
    "start_time": "2025-02-11T07:21:16.763Z"
   },
   {
    "duration": 38,
    "start_time": "2025-02-11T07:21:16.830Z"
   },
   {
    "duration": 17,
    "start_time": "2025-02-11T07:21:16.870Z"
   },
   {
    "duration": 18,
    "start_time": "2025-02-11T07:21:16.888Z"
   },
   {
    "duration": 3,
    "start_time": "2025-02-11T07:21:16.908Z"
   },
   {
    "duration": 136,
    "start_time": "2025-02-11T07:21:16.912Z"
   },
   {
    "duration": 0,
    "start_time": "2025-02-11T07:21:17.050Z"
   },
   {
    "duration": 0,
    "start_time": "2025-02-11T07:21:17.051Z"
   },
   {
    "duration": 0,
    "start_time": "2025-02-11T07:21:17.061Z"
   },
   {
    "duration": 0,
    "start_time": "2025-02-11T07:21:17.062Z"
   },
   {
    "duration": 0,
    "start_time": "2025-02-11T07:21:17.062Z"
   },
   {
    "duration": 0,
    "start_time": "2025-02-11T07:21:17.064Z"
   },
   {
    "duration": 0,
    "start_time": "2025-02-11T07:21:17.065Z"
   },
   {
    "duration": 0,
    "start_time": "2025-02-11T07:21:17.066Z"
   },
   {
    "duration": 0,
    "start_time": "2025-02-11T07:21:17.067Z"
   },
   {
    "duration": 0,
    "start_time": "2025-02-11T07:21:17.068Z"
   },
   {
    "duration": 0,
    "start_time": "2025-02-11T07:21:17.069Z"
   },
   {
    "duration": 0,
    "start_time": "2025-02-11T07:21:17.070Z"
   },
   {
    "duration": 0,
    "start_time": "2025-02-11T07:21:17.071Z"
   },
   {
    "duration": 0,
    "start_time": "2025-02-11T07:21:17.072Z"
   },
   {
    "duration": 0,
    "start_time": "2025-02-11T07:21:17.073Z"
   },
   {
    "duration": 0,
    "start_time": "2025-02-11T07:21:17.074Z"
   },
   {
    "duration": 0,
    "start_time": "2025-02-11T07:21:17.075Z"
   },
   {
    "duration": 0,
    "start_time": "2025-02-11T07:21:17.076Z"
   },
   {
    "duration": 0,
    "start_time": "2025-02-11T07:21:17.077Z"
   },
   {
    "duration": 0,
    "start_time": "2025-02-11T07:21:17.079Z"
   },
   {
    "duration": 0,
    "start_time": "2025-02-11T07:21:17.080Z"
   },
   {
    "duration": 0,
    "start_time": "2025-02-11T07:21:17.081Z"
   },
   {
    "duration": 0,
    "start_time": "2025-02-11T07:21:17.082Z"
   },
   {
    "duration": 0,
    "start_time": "2025-02-11T07:21:17.083Z"
   },
   {
    "duration": 0,
    "start_time": "2025-02-11T07:21:17.084Z"
   },
   {
    "duration": 0,
    "start_time": "2025-02-11T07:21:17.085Z"
   },
   {
    "duration": 0,
    "start_time": "2025-02-11T07:21:17.086Z"
   },
   {
    "duration": 0,
    "start_time": "2025-02-11T07:21:17.087Z"
   },
   {
    "duration": 0,
    "start_time": "2025-02-11T07:21:17.089Z"
   },
   {
    "duration": 10,
    "start_time": "2025-02-11T07:22:17.570Z"
   },
   {
    "duration": 28,
    "start_time": "2025-02-11T07:22:19.079Z"
   },
   {
    "duration": 71,
    "start_time": "2025-02-11T07:22:19.241Z"
   },
   {
    "duration": 17,
    "start_time": "2025-02-11T07:22:19.551Z"
   },
   {
    "duration": 14,
    "start_time": "2025-02-11T07:24:00.083Z"
   },
   {
    "duration": 16,
    "start_time": "2025-02-11T07:24:06.377Z"
   },
   {
    "duration": 4240,
    "start_time": "2025-02-11T16:28:50.284Z"
   },
   {
    "duration": 2190,
    "start_time": "2025-02-11T16:28:54.527Z"
   },
   {
    "duration": 14,
    "start_time": "2025-02-11T16:28:56.719Z"
   },
   {
    "duration": 46,
    "start_time": "2025-02-11T16:28:56.734Z"
   },
   {
    "duration": 73,
    "start_time": "2025-02-11T16:28:56.783Z"
   },
   {
    "duration": 135,
    "start_time": "2025-02-11T16:28:56.858Z"
   },
   {
    "duration": 69,
    "start_time": "2025-02-11T16:28:56.995Z"
   },
   {
    "duration": 8,
    "start_time": "2025-02-11T16:28:57.066Z"
   },
   {
    "duration": 35,
    "start_time": "2025-02-11T16:28:57.076Z"
   },
   {
    "duration": 9,
    "start_time": "2025-02-11T16:28:57.113Z"
   },
   {
    "duration": 54,
    "start_time": "2025-02-11T16:28:57.124Z"
   },
   {
    "duration": 8,
    "start_time": "2025-02-11T16:28:57.179Z"
   },
   {
    "duration": 30,
    "start_time": "2025-02-11T16:28:57.189Z"
   },
   {
    "duration": 13,
    "start_time": "2025-02-11T16:28:57.222Z"
   },
   {
    "duration": 13,
    "start_time": "2025-02-11T16:28:57.256Z"
   },
   {
    "duration": 7,
    "start_time": "2025-02-11T16:28:57.271Z"
   },
   {
    "duration": 12,
    "start_time": "2025-02-11T16:28:57.280Z"
   },
   {
    "duration": 9,
    "start_time": "2025-02-11T16:28:57.294Z"
   },
   {
    "duration": 157,
    "start_time": "2025-02-11T16:28:57.305Z"
   },
   {
    "duration": 198,
    "start_time": "2025-02-11T16:28:57.464Z"
   },
   {
    "duration": 8,
    "start_time": "2025-02-11T16:28:57.664Z"
   },
   {
    "duration": 32,
    "start_time": "2025-02-11T16:28:57.673Z"
   },
   {
    "duration": 78,
    "start_time": "2025-02-11T16:28:57.707Z"
   },
   {
    "duration": 90,
    "start_time": "2025-02-11T16:28:57.787Z"
   },
   {
    "duration": 2385,
    "start_time": "2025-02-11T16:28:57.879Z"
   },
   {
    "duration": 15,
    "start_time": "2025-02-11T16:29:00.266Z"
   },
   {
    "duration": 58,
    "start_time": "2025-02-11T16:29:00.282Z"
   },
   {
    "duration": 62,
    "start_time": "2025-02-11T16:29:00.341Z"
   },
   {
    "duration": 45,
    "start_time": "2025-02-11T16:29:00.405Z"
   },
   {
    "duration": 28,
    "start_time": "2025-02-11T16:29:00.451Z"
   },
   {
    "duration": 55,
    "start_time": "2025-02-11T16:29:00.480Z"
   },
   {
    "duration": 10,
    "start_time": "2025-02-11T16:29:00.536Z"
   },
   {
    "duration": 30,
    "start_time": "2025-02-11T16:29:00.548Z"
   },
   {
    "duration": 7,
    "start_time": "2025-02-11T16:29:00.580Z"
   },
   {
    "duration": 29,
    "start_time": "2025-02-11T16:29:00.589Z"
   },
   {
    "duration": 25,
    "start_time": "2025-02-11T16:29:00.620Z"
   },
   {
    "duration": 100,
    "start_time": "2025-02-11T16:29:00.647Z"
   },
   {
    "duration": 167,
    "start_time": "2025-02-11T16:29:00.748Z"
   },
   {
    "duration": 24,
    "start_time": "2025-02-11T16:29:00.917Z"
   },
   {
    "duration": 58,
    "start_time": "2025-02-11T16:29:00.943Z"
   },
   {
    "duration": 6,
    "start_time": "2025-02-11T16:29:01.008Z"
   },
   {
    "duration": 39,
    "start_time": "2025-02-11T16:29:01.016Z"
   },
   {
    "duration": 5,
    "start_time": "2025-02-11T16:29:01.057Z"
   },
   {
    "duration": 21,
    "start_time": "2025-02-11T16:29:01.064Z"
   },
   {
    "duration": 80,
    "start_time": "2025-02-11T16:29:01.087Z"
   },
   {
    "duration": 15,
    "start_time": "2025-02-11T16:29:01.169Z"
   },
   {
    "duration": 37,
    "start_time": "2025-02-11T16:29:01.186Z"
   },
   {
    "duration": 36,
    "start_time": "2025-02-11T16:29:01.225Z"
   },
   {
    "duration": 169,
    "start_time": "2025-02-11T16:29:01.263Z"
   },
   {
    "duration": 8,
    "start_time": "2025-02-11T16:29:01.434Z"
   },
   {
    "duration": 81,
    "start_time": "2025-02-11T16:29:01.456Z"
   },
   {
    "duration": 25,
    "start_time": "2025-02-11T16:29:01.539Z"
   },
   {
    "duration": 155,
    "start_time": "2025-02-11T16:29:01.565Z"
   },
   {
    "duration": 45,
    "start_time": "2025-02-11T16:29:01.722Z"
   },
   {
    "duration": 34,
    "start_time": "2025-02-11T16:29:01.769Z"
   },
   {
    "duration": 36,
    "start_time": "2025-02-11T16:29:01.804Z"
   },
   {
    "duration": 14273,
    "start_time": "2025-02-11T16:29:01.854Z"
   },
   {
    "duration": 7,
    "start_time": "2025-02-11T16:29:16.129Z"
   },
   {
    "duration": 64,
    "start_time": "2025-02-11T16:29:16.137Z"
   },
   {
    "duration": 53,
    "start_time": "2025-02-11T16:29:16.203Z"
   },
   {
    "duration": 254932,
    "start_time": "2025-02-11T16:29:16.257Z"
   },
   {
    "duration": 7,
    "start_time": "2025-02-11T16:33:31.191Z"
   },
   {
    "duration": 28,
    "start_time": "2025-02-11T16:33:31.199Z"
   },
   {
    "duration": 6826,
    "start_time": "2025-02-11T16:33:31.229Z"
   },
   {
    "duration": 7,
    "start_time": "2025-02-11T16:33:38.056Z"
   },
   {
    "duration": 108,
    "start_time": "2025-02-11T16:33:38.064Z"
   },
   {
    "duration": 411,
    "start_time": "2025-02-11T16:33:38.173Z"
   },
   {
    "duration": 53,
    "start_time": "2025-02-11T16:33:38.585Z"
   },
   {
    "duration": 21,
    "start_time": "2025-02-11T16:33:38.639Z"
   },
   {
    "duration": 19,
    "start_time": "2025-02-11T16:33:38.662Z"
   },
   {
    "duration": 24,
    "start_time": "2025-02-11T16:33:38.683Z"
   },
   {
    "duration": 17,
    "start_time": "2025-02-11T16:33:38.709Z"
   },
   {
    "duration": 5,
    "start_time": "2025-02-11T16:33:38.728Z"
   },
   {
    "duration": 23,
    "start_time": "2025-02-11T16:33:38.735Z"
   },
   {
    "duration": 32,
    "start_time": "2025-02-11T16:33:38.760Z"
   },
   {
    "duration": 8,
    "start_time": "2025-02-11T16:33:38.794Z"
   },
   {
    "duration": 21,
    "start_time": "2025-02-11T16:33:38.804Z"
   },
   {
    "duration": 9,
    "start_time": "2025-02-11T16:33:38.826Z"
   },
   {
    "duration": 92,
    "start_time": "2025-02-11T16:33:38.837Z"
   },
   {
    "duration": 3,
    "start_time": "2025-02-11T16:33:38.931Z"
   },
   {
    "duration": 140,
    "start_time": "2025-02-11T16:33:38.936Z"
   },
   {
    "duration": 6,
    "start_time": "2025-02-11T16:33:39.079Z"
   },
   {
    "duration": 30,
    "start_time": "2025-02-11T16:33:39.086Z"
   },
   {
    "duration": 82,
    "start_time": "2025-02-11T16:33:39.118Z"
   },
   {
    "duration": 73,
    "start_time": "2025-02-11T16:33:39.202Z"
   },
   {
    "duration": 80,
    "start_time": "2025-02-11T16:33:39.276Z"
   },
   {
    "duration": 2,
    "start_time": "2025-02-11T16:33:39.358Z"
   },
   {
    "duration": 262,
    "start_time": "2025-02-11T16:33:39.362Z"
   },
   {
    "duration": 278,
    "start_time": "2025-02-11T16:33:39.626Z"
   },
   {
    "duration": 239,
    "start_time": "2025-02-11T16:33:39.906Z"
   },
   {
    "duration": 59,
    "start_time": "2025-02-11T16:33:40.147Z"
   },
   {
    "duration": 91,
    "start_time": "2025-02-11T16:33:40.207Z"
   },
   {
    "duration": 81,
    "start_time": "2025-02-11T16:33:40.299Z"
   },
   {
    "duration": 80,
    "start_time": "2025-02-11T16:33:40.382Z"
   },
   {
    "duration": 24,
    "start_time": "2025-02-11T16:33:40.463Z"
   },
   {
    "duration": 19,
    "start_time": "2025-02-11T16:33:40.488Z"
   },
   {
    "duration": 19,
    "start_time": "2025-02-11T16:33:40.508Z"
   },
   {
    "duration": 30,
    "start_time": "2025-02-11T16:33:40.528Z"
   },
   {
    "duration": 13,
    "start_time": "2025-02-11T16:33:40.560Z"
   },
   {
    "duration": 31,
    "start_time": "2025-02-11T16:33:40.574Z"
   },
   {
    "duration": 15,
    "start_time": "2025-02-11T16:33:40.607Z"
   },
   {
    "duration": 46,
    "start_time": "2025-02-11T16:33:40.624Z"
   },
   {
    "duration": 25,
    "start_time": "2025-02-11T16:33:40.671Z"
   },
   {
    "duration": 4,
    "start_time": "2025-02-11T16:33:40.698Z"
   },
   {
    "duration": 11,
    "start_time": "2025-02-11T16:33:40.703Z"
   },
   {
    "duration": 598,
    "start_time": "2025-02-11T16:33:40.715Z"
   },
   {
    "duration": 14,
    "start_time": "2025-02-11T16:33:41.314Z"
   },
   {
    "duration": 52,
    "start_time": "2025-02-11T16:33:41.330Z"
   },
   {
    "duration": 21,
    "start_time": "2025-02-11T16:33:41.384Z"
   },
   {
    "duration": 6,
    "start_time": "2025-02-11T16:33:41.406Z"
   },
   {
    "duration": 22,
    "start_time": "2025-02-11T16:33:41.414Z"
   },
   {
    "duration": 400,
    "start_time": "2025-02-11T16:33:41.437Z"
   },
   {
    "duration": 361,
    "start_time": "2025-02-11T16:33:41.839Z"
   },
   {
    "duration": 12,
    "start_time": "2025-02-11T16:33:42.202Z"
   },
   {
    "duration": 7,
    "start_time": "2025-02-11T16:33:42.216Z"
   },
   {
    "duration": 32,
    "start_time": "2025-02-11T16:33:42.225Z"
   },
   {
    "duration": 68,
    "start_time": "2025-02-11T16:33:42.258Z"
   },
   {
    "duration": 16,
    "start_time": "2025-02-11T16:33:42.327Z"
   },
   {
    "duration": 25,
    "start_time": "2025-02-11T16:33:42.345Z"
   },
   {
    "duration": 7,
    "start_time": "2025-02-11T16:33:42.372Z"
   },
   {
    "duration": 23,
    "start_time": "2025-02-11T16:33:42.381Z"
   },
   {
    "duration": 15,
    "start_time": "2025-02-11T16:33:42.412Z"
   },
   {
    "duration": 27,
    "start_time": "2025-02-11T16:33:42.429Z"
   },
   {
    "duration": 12,
    "start_time": "2025-02-11T16:33:42.458Z"
   },
   {
    "duration": 20,
    "start_time": "2025-02-11T16:33:42.472Z"
   },
   {
    "duration": 254,
    "start_time": "2025-02-11T16:33:42.494Z"
   },
   {
    "duration": 26,
    "start_time": "2025-02-11T16:33:42.750Z"
   },
   {
    "duration": 180,
    "start_time": "2025-02-11T16:33:42.778Z"
   }
  ],
  "kernelspec": {
   "display_name": "Python 3 (ipykernel)",
   "language": "python",
   "name": "python3"
  },
  "language_info": {
   "codemirror_mode": {
    "name": "ipython",
    "version": 3
   },
   "file_extension": ".py",
   "mimetype": "text/x-python",
   "name": "python",
   "nbconvert_exporter": "python",
   "pygments_lexer": "ipython3",
   "version": "3.12.7"
  },
  "toc": {
   "base_numbering": 1,
   "nav_menu": {},
   "number_sections": true,
   "sideBar": true,
   "skip_h1_title": true,
   "title_cell": "Table of Contents",
   "title_sidebar": "Contents",
   "toc_cell": false,
   "toc_position": {},
   "toc_section_display": true,
   "toc_window_display": true
  }
 },
 "nbformat": 4,
 "nbformat_minor": 5
}
