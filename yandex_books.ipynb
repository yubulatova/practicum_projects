{
 "cells": [
  {
   "cell_type": "markdown",
   "id": "_E41Wr5fqnFT",
   "metadata": {
    "id": "_E41Wr5fqnFT"
   },
   "source": [
    "# Часть 1. Проверка гипотезы в Python и составление аналитической записки"
   ]
  },
  {
   "cell_type": "markdown",
   "id": "Z5_6nf-FrY7o",
   "metadata": {
    "id": "Z5_6nf-FrY7o"
   },
   "source": [
    "Вы предобработали данные в SQL, и теперь они готовы для проверки гипотезы в Python. Загрузите данные пользователей из Москвы и Санкт-Петербурга c суммой часов их активности из файла yandex_knigi_data.csv. Если работаете локально, скачать файл можно по ссылке.\n",
    "\n",
    "Проверьте наличие дубликатов в идентификаторах пользователей. Сравните размеры групп, их статистики и распределение.\n",
    "\n",
    "Напомним, как выглядит гипотеза: пользователи из Москвы проводят в среднем больше времени за чтением и прослушиванием книг в приложении, чем пользователи из Москвы. Попробуйте статистически это доказать, используя одностороннюю проверку гипотезы с двумя выборками:\n",
    "\n",
    "Нулевая гипотеза $H_0: \\mu_{\\text{СПб}} \\leq \\mu_{\\text{Москва}}$ <br> Среднее время активности пользователей в Санкт-Петербурге не больше, чем в Москве.\n",
    "\n",
    "Альтернативная гипотеза $H_1: \\mu_{\\text{СПб}} > \\mu_{\\text{Москва}}$ <br> Среднее время активности пользователей в Санкт-Петербурге больше, и это различие статистически значимо.\n",
    "\n",
    "По результатам анализа данных подготовьте аналитическую записку, в которой опишите:\n",
    "\n",
    "Выбранный тип t-теста и уровень статистической значимости.\n",
    "\n",
    "Результат теста, или p-value.\n",
    "\n",
    "Вывод на основе полученного p-value, то есть интерпретацию результатов.\n",
    "\n",
    "Одну или две возможные причины, объясняющие полученные результаты."
   ]
  },
  {
   "cell_type": "markdown",
   "id": "e06910dd",
   "metadata": {
    "id": "e06910dd"
   },
   "source": [
    "## Анализ активности пользователей: сравнение времени в приложении между Москвой и Санкт-Петербургом\n",
    "\n",
    "- Автор: Булатова Юлия Ивановна \n",
    "- Дата: 23.04.2025"
   ]
  },
  {
   "cell_type": "markdown",
   "id": "4149134c",
   "metadata": {
    "id": "4149134c"
   },
   "source": [
    "## Цели и задачи проекта\n",
    "\n",
    "Цель проекта: проверить гипотезу о том, что пользователи из Санкт-Петербурга в среднем проводят больше времени в приложении (чтение и прослушивание книг), чем пользователи из Москвы, и определить, является ли это различие статистически значимым.\n",
    "\n",
    "Задачи:\n",
    "- Провести предварительный анализ данных\n",
    "- Проверить гипотезу, изложенную в цели проекта, выбрав подходящий t-test\n",
    "- Написать аналитическую записку по результатам теста "
   ]
  },
  {
   "cell_type": "markdown",
   "id": "728986ea",
   "metadata": {
    "id": "728986ea"
   },
   "source": [
    "## Описание данных\n",
    "\n",
    "`https://code.s3.yandex.net/datasets/ab_test_participants.csv` — таблица участников тестов.\n",
    "Структура файла:\n",
    "- `user_id` — идентификатор пользователя;\n",
    "- `group` — группа пользователя;\n",
    "- `ab_test` — название теста;\n",
    "- `device` — устройство, с которого происходила регистрация.\n",
    "\n",
    "`https://code.s3.yandex.net/datasets/ab_test_events.zip` — архив с одним csv-файлом, в котором собраны события 2020 года. \n",
    "Структура файла:\n",
    "- `user_id` — идентификатор пользователя;\n",
    "- `event_dt` — дата и время события;\n",
    "- `event_name` — тип события;\n",
    "- `details` — дополнительные данные о событии."
   ]
  },
  {
   "cell_type": "markdown",
   "id": "4fecaf95",
   "metadata": {
    "id": "4fecaf95"
   },
   "source": [
    "## Содержимое проекта\n",
    "\n",
    "1. Загрузка данных и знакомство с ними\n",
    "2. Проверка гипотезы в Python\n",
    "3. Аналитическая записка"
   ]
  },
  {
   "cell_type": "markdown",
   "id": "6f7d21d6",
   "metadata": {
    "id": "6f7d21d6"
   },
   "source": [
    "## 1. Загрузка данных и знакомство с ними\n",
    "\n",
    "Загрузите данные пользователей из Москвы и Санкт-Петербурга c их активностью (суммой часов чтения и прослушивания) из файла `/datasets/yandex_knigi_data.csv`."
   ]
  },
  {
   "cell_type": "code",
   "execution_count": 1,
   "id": "05faf34b",
   "metadata": {
    "id": "05faf34b"
   },
   "outputs": [],
   "source": [
    "#Загружаем все необходимые для проекта библиотеки\n",
    "import pandas as pd\n",
    "import numpy as np\n",
    "import matplotlib.pyplot as plt\n",
    "from scipy.stats import ttest_ind\n",
    "from statsmodels.stats.proportion import proportions_ztest"
   ]
  },
  {
   "cell_type": "code",
   "execution_count": 2,
   "id": "ce87c1db",
   "metadata": {
    "id": "ce87c1db"
   },
   "outputs": [],
   "source": [
    "# Загружаем датафрейм с данными пользователей\n",
    "df = pd.read_csv('https://code.s3.yandex.net/datasets/yandex_knigi_data.csv')"
   ]
  },
  {
   "cell_type": "code",
   "execution_count": 3,
   "id": "67956690",
   "metadata": {
    "id": "67956690"
   },
   "outputs": [
    {
     "name": "stdout",
     "output_type": "stream",
     "text": [
      "<class 'pandas.core.frame.DataFrame'>\n",
      "RangeIndex: 8784 entries, 0 to 8783\n",
      "Data columns (total 4 columns):\n",
      " #   Column      Non-Null Count  Dtype  \n",
      "---  ------      --------------  -----  \n",
      " 0   Unnamed: 0  8784 non-null   int64  \n",
      " 1   city        8784 non-null   object \n",
      " 2   puid        8784 non-null   int64  \n",
      " 3   hours       8784 non-null   float64\n",
      "dtypes: float64(1), int64(2), object(1)\n",
      "memory usage: 274.6+ KB\n"
     ]
    },
    {
     "data": {
      "text/html": [
       "<div>\n",
       "<style scoped>\n",
       "    .dataframe tbody tr th:only-of-type {\n",
       "        vertical-align: middle;\n",
       "    }\n",
       "\n",
       "    .dataframe tbody tr th {\n",
       "        vertical-align: top;\n",
       "    }\n",
       "\n",
       "    .dataframe thead th {\n",
       "        text-align: right;\n",
       "    }\n",
       "</style>\n",
       "<table border=\"1\" class=\"dataframe\">\n",
       "  <thead>\n",
       "    <tr style=\"text-align: right;\">\n",
       "      <th></th>\n",
       "      <th>Unnamed: 0</th>\n",
       "      <th>city</th>\n",
       "      <th>puid</th>\n",
       "      <th>hours</th>\n",
       "    </tr>\n",
       "  </thead>\n",
       "  <tbody>\n",
       "    <tr>\n",
       "      <th>0</th>\n",
       "      <td>0</td>\n",
       "      <td>Москва</td>\n",
       "      <td>9668</td>\n",
       "      <td>26.167776</td>\n",
       "    </tr>\n",
       "    <tr>\n",
       "      <th>1</th>\n",
       "      <td>1</td>\n",
       "      <td>Москва</td>\n",
       "      <td>16598</td>\n",
       "      <td>82.111217</td>\n",
       "    </tr>\n",
       "    <tr>\n",
       "      <th>2</th>\n",
       "      <td>2</td>\n",
       "      <td>Москва</td>\n",
       "      <td>80401</td>\n",
       "      <td>4.656906</td>\n",
       "    </tr>\n",
       "    <tr>\n",
       "      <th>3</th>\n",
       "      <td>3</td>\n",
       "      <td>Москва</td>\n",
       "      <td>140205</td>\n",
       "      <td>1.840556</td>\n",
       "    </tr>\n",
       "    <tr>\n",
       "      <th>4</th>\n",
       "      <td>4</td>\n",
       "      <td>Москва</td>\n",
       "      <td>248755</td>\n",
       "      <td>151.326434</td>\n",
       "    </tr>\n",
       "  </tbody>\n",
       "</table>\n",
       "</div>"
      ],
      "text/plain": [
       "   Unnamed: 0    city    puid       hours\n",
       "0           0  Москва    9668   26.167776\n",
       "1           1  Москва   16598   82.111217\n",
       "2           2  Москва   80401    4.656906\n",
       "3           3  Москва  140205    1.840556\n",
       "4           4  Москва  248755  151.326434"
      ]
     },
     "execution_count": 3,
     "metadata": {},
     "output_type": "execute_result"
    }
   ],
   "source": [
    "# Выведем данные датафрейма \n",
    "df.info()\n",
    "# Выведем первые пять строк датафрейма\n",
    "df.head()"
   ]
  },
  {
   "cell_type": "markdown",
   "id": "20078aa3",
   "metadata": {},
   "source": [
    "Датафрейм содержит 8784 строк и 4 столбца:\n",
    "- `Unnamed: 0` - столбец типа `int64`, содержащий номер строки (дублирует индекс датафрейма). Удалим его, чтобы не занимать память компьютера. \n",
    "- `city` представлен типом данных `object` и содержит название города \n",
    "- `puid` содержит данные типа `int64` и хранит уникальный идентификатор пользователя \n",
    "- `hours` имеет тип `float64` и отображает общее количество часов активности  \n",
    "\n",
    "В данных нет пропусков. "
   ]
  },
  {
   "cell_type": "code",
   "execution_count": 4,
   "id": "6c5b0752",
   "metadata": {},
   "outputs": [
    {
     "name": "stdout",
     "output_type": "stream",
     "text": [
      "Найдено 0 явных дубликатов\n",
      "Найдено 244 неявных дубликатов по идентификатору пользователя\n"
     ]
    }
   ],
   "source": [
    "#Удаляем столбец uunamed: 0 \n",
    "df = df.drop('Unnamed: 0', axis = 1)\n",
    "# Проверим датафрейм на дубликаты\n",
    "print(f'Найдено {df.duplicated().sum()} явных дубликатов')\n",
    "count_duplicated_puid = df.duplicated(subset = 'puid').sum()\n",
    "print(f'Найдено {count_duplicated_puid} неявных дубликатов по идентификатору пользователя')"
   ]
  },
  {
   "cell_type": "code",
   "execution_count": 5,
   "id": "6131d9d0",
   "metadata": {},
   "outputs": [
    {
     "data": {
      "text/html": [
       "<div>\n",
       "<style scoped>\n",
       "    .dataframe tbody tr th:only-of-type {\n",
       "        vertical-align: middle;\n",
       "    }\n",
       "\n",
       "    .dataframe tbody tr th {\n",
       "        vertical-align: top;\n",
       "    }\n",
       "\n",
       "    .dataframe thead th {\n",
       "        text-align: right;\n",
       "    }\n",
       "</style>\n",
       "<table border=\"1\" class=\"dataframe\">\n",
       "  <thead>\n",
       "    <tr style=\"text-align: right;\">\n",
       "      <th></th>\n",
       "      <th>city</th>\n",
       "      <th>puid</th>\n",
       "      <th>hours</th>\n",
       "    </tr>\n",
       "  </thead>\n",
       "  <tbody>\n",
       "    <tr>\n",
       "      <th>35</th>\n",
       "      <td>Москва</td>\n",
       "      <td>2637041</td>\n",
       "      <td>10.317371</td>\n",
       "    </tr>\n",
       "    <tr>\n",
       "      <th>6247</th>\n",
       "      <td>Санкт-Петербург</td>\n",
       "      <td>2637041</td>\n",
       "      <td>3.883926</td>\n",
       "    </tr>\n",
       "    <tr>\n",
       "      <th>134</th>\n",
       "      <td>Москва</td>\n",
       "      <td>9979490</td>\n",
       "      <td>32.415573</td>\n",
       "    </tr>\n",
       "    <tr>\n",
       "      <th>6274</th>\n",
       "      <td>Санкт-Петербург</td>\n",
       "      <td>9979490</td>\n",
       "      <td>1.302997</td>\n",
       "    </tr>\n",
       "    <tr>\n",
       "      <th>145</th>\n",
       "      <td>Москва</td>\n",
       "      <td>10597984</td>\n",
       "      <td>42.931506</td>\n",
       "    </tr>\n",
       "    <tr>\n",
       "      <th>...</th>\n",
       "      <td>...</td>\n",
       "      <td>...</td>\n",
       "      <td>...</td>\n",
       "    </tr>\n",
       "    <tr>\n",
       "      <th>6195</th>\n",
       "      <td>Москва</td>\n",
       "      <td>1130000020425037</td>\n",
       "      <td>0.310556</td>\n",
       "    </tr>\n",
       "    <tr>\n",
       "      <th>8775</th>\n",
       "      <td>Санкт-Петербург</td>\n",
       "      <td>1130000023864516</td>\n",
       "      <td>14.384722</td>\n",
       "    </tr>\n",
       "    <tr>\n",
       "      <th>6202</th>\n",
       "      <td>Москва</td>\n",
       "      <td>1130000023864516</td>\n",
       "      <td>142.830085</td>\n",
       "    </tr>\n",
       "    <tr>\n",
       "      <th>6210</th>\n",
       "      <td>Москва</td>\n",
       "      <td>1130000028554332</td>\n",
       "      <td>11.277554</td>\n",
       "    </tr>\n",
       "    <tr>\n",
       "      <th>8779</th>\n",
       "      <td>Санкт-Петербург</td>\n",
       "      <td>1130000028554332</td>\n",
       "      <td>4.107774</td>\n",
       "    </tr>\n",
       "  </tbody>\n",
       "</table>\n",
       "<p>488 rows × 3 columns</p>\n",
       "</div>"
      ],
      "text/plain": [
       "                 city              puid       hours\n",
       "35             Москва           2637041   10.317371\n",
       "6247  Санкт-Петербург           2637041    3.883926\n",
       "134            Москва           9979490   32.415573\n",
       "6274  Санкт-Петербург           9979490    1.302997\n",
       "145            Москва          10597984   42.931506\n",
       "...               ...               ...         ...\n",
       "6195           Москва  1130000020425037    0.310556\n",
       "8775  Санкт-Петербург  1130000023864516   14.384722\n",
       "6202           Москва  1130000023864516  142.830085\n",
       "6210           Москва  1130000028554332   11.277554\n",
       "8779  Санкт-Петербург  1130000028554332    4.107774\n",
       "\n",
       "[488 rows x 3 columns]"
      ]
     },
     "execution_count": 5,
     "metadata": {},
     "output_type": "execute_result"
    }
   ],
   "source": [
    "# Выведем полученные дубликаты\n",
    "df[df.duplicated(subset = 'puid', keep = False) == True].sort_values(by = 'puid', ascending = True)"
   ]
  },
  {
   "cell_type": "markdown",
   "id": "4b8ae3bf",
   "metadata": {},
   "source": [
    "Можно заметить, что идентификаторы пользователей действительно дублируются, причем один идентификатор принадлежит и Москве, и Санкт-Петербургу. Это может быть связано с техническими сбоями. Таких пользователей необходимо удалить, так как невозможно определить из какого города они  на самом деле. "
   ]
  },
  {
   "cell_type": "code",
   "execution_count": 6,
   "id": "887e84b5",
   "metadata": {},
   "outputs": [],
   "source": [
    "# Сохраняем изначальное количество строк датафрейма\n",
    "lines = df.shape[0]"
   ]
  },
  {
   "cell_type": "code",
   "execution_count": 7,
   "id": "2ce8d7ad",
   "metadata": {},
   "outputs": [],
   "source": [
    "# Удаляем пользоваталей, попавших в обе группы\n",
    "df = df.drop_duplicates(subset = 'puid', keep = False)"
   ]
  },
  {
   "cell_type": "markdown",
   "id": "096158b5",
   "metadata": {},
   "source": [
    "Для дальнейшей работы с данными необходимо рассмотреть распределение ключевого для нас столбца с количеством часов, проведенных в сервисе. Посмотрим на его описание, вызванное методом describe и построим гистограмму распределения для него и ящик с усами. "
   ]
  },
  {
   "cell_type": "code",
   "execution_count": 8,
   "id": "16858c1c",
   "metadata": {},
   "outputs": [
    {
     "data": {
      "text/plain": [
       "count    8296.000000\n",
       "mean       10.963892\n",
       "std        37.753906\n",
       "min         0.000022\n",
       "25%         0.057493\n",
       "50%         0.884214\n",
       "75%         5.944675\n",
       "max       978.764775\n",
       "Name: hours, dtype: float64"
      ]
     },
     "execution_count": 8,
     "metadata": {},
     "output_type": "execute_result"
    }
   ],
   "source": [
    "df['hours'].describe()"
   ]
  },
  {
   "cell_type": "markdown",
   "id": "6e0e6c8a",
   "metadata": {},
   "source": [
    "Замечаем, что среднее время прослушивания составляет 10.96 часов при медиане 0.88 и стандартном отклонении 37.75. Это может указывать на высокий разброс данных и наличие аномально высоких значений. Минимальное значение столбца можно объяснить поведением нелояльных пользователей, которые попробовали сервис и покинули его."
   ]
  },
  {
   "cell_type": "code",
   "execution_count": 9,
   "id": "3faf2306",
   "metadata": {},
   "outputs": [
    {
     "data": {
      "image/png": "[encoded data removed]",
      "text/plain": [
       "<Figure size 720x432 with 1 Axes>"
      ]
     },
     "metadata": {
      "needs_background": "light"
     },
     "output_type": "display_data"
    }
   ],
   "source": [
    "#Строим график \n",
    "plt.figure(figsize = (10,6))\n",
    "plt.hist(df['hours'], bins = 30)\n",
    "plt.title('Распределение столбца hours')\n",
    "plt.ylabel('Частота значений')\n",
    "plt.xlabel('Значение')\n",
    "plt.grid()\n",
    "plt.show()"
   ]
  },
  {
   "cell_type": "code",
   "execution_count": 10,
   "id": "318f9c39",
   "metadata": {},
   "outputs": [
    {
     "data": {
      "image/png": "[encoded data removed]",
      "text/plain": [
       "<Figure size 432x288 with 1 Axes>"
      ]
     },
     "metadata": {
      "needs_background": "light"
     },
     "output_type": "display_data"
    }
   ],
   "source": [
    "# Создаем горизонтальный ящик с усами\n",
    "plt.boxplot(df['hours'], vert=False)  \n",
    "plt.title('Ящик с усами для столбца hours')\n",
    "plt.xlabel('Значения в столбце hours')\n",
    "plt.grid(axis='x')\n",
    "plt.show()"
   ]
  },
  {
   "cell_type": "markdown",
   "id": "810fdd29",
   "metadata": {},
   "source": [
    "На обоих графиках заметен большой разброс данных и наличие очень высоких значений для длительности прослушивания. Чтобы избежать влияния таких показателей на анализ данных удалим значения, превышающие 99 процентиль - это позволит нам отфильтровать аномальные значения и не потерять большое количество информации. "
   ]
  },
  {
   "cell_type": "code",
   "execution_count": 11,
   "id": "a5ef1d68",
   "metadata": {},
   "outputs": [],
   "source": [
    "df = df[df['hours'] <= df['hours'].quantile(0.99)]"
   ]
  },
  {
   "cell_type": "code",
   "execution_count": 12,
   "id": "e07a39b5",
   "metadata": {},
   "outputs": [
    {
     "name": "stdout",
     "output_type": "stream",
     "text": [
      "Было удалено 571 строк, что составило 6.5% от исходного датафрейма.\n"
     ]
    }
   ],
   "source": [
    "# Считаем число строк нового датафрейма\n",
    "after_lines = df.shape[0]\n",
    "print(f'Было удалено {lines - after_lines} строк, что составило {round(((lines - after_lines)*100/lines),2)}% от исходного датафрейма.')"
   ]
  },
  {
   "cell_type": "markdown",
   "id": "d1b85216",
   "metadata": {},
   "source": [
    "В ходе предобработки датафрейма было обнаружено 488 пользователей, принадлежащих одновременно и к группе из Санкт-Петербруга, и к группе из Москвы. Было принято решение удалить данных пользователей, чтобы сохранить условие независимости двух групп. Помимо этого, мы удалили аномально высокие значения столбца с длительность прослушивания. Число удаленных строк составило 6.5% от исходного датафрейма. \n",
    "\n",
    "Теперь можно переходить к сравнению пользователей из двух городов и их статистик. Для начала рассчитаем, сколько всего пользователей в каждой группе и представим это на столбчатой диаграмме. "
   ]
  },
  {
   "cell_type": "code",
   "execution_count": 13,
   "id": "011532ff",
   "metadata": {},
   "outputs": [
    {
     "name": "stdout",
     "output_type": "stream",
     "text": [
      "Количество пользователей в Москве и Санкт-Петербурге\n",
      "              city  puid\n",
      "0           Москва  5929\n",
      "1  Санкт-Петербург  2284\n"
     ]
    }
   ],
   "source": [
    "# Группируем данные для построения графика\n",
    "users_per_city = df.groupby('city').agg({'puid':'count', 'hours':'sum'}).reset_index()\n",
    "print('Количество пользователей в Москве и Санкт-Петербурге')\n",
    "print(users_per_city[['city', 'puid']])"
   ]
  },
  {
   "cell_type": "code",
   "execution_count": 14,
   "id": "deaf44af",
   "metadata": {},
   "outputs": [
    {
     "data": {
      "image/png": "[encoded data removed]",
      "text/plain": [
       "<Figure size 720x432 with 1 Axes>"
      ]
     },
     "metadata": {
      "needs_background": "light"
     },
     "output_type": "display_data"
    }
   ],
   "source": [
    "#Строим столбчатую диаграмму\n",
    "plt.figure(figsize = (10,6))\n",
    "plt.bar(users_per_city['city'], users_per_city['puid'])\n",
    "plt.title('Количество пользователей в Москве и Санкт-Петербурге')\n",
    "plt.xlabel('Город')\n",
    "plt.ylabel('Количество пользователей')\n",
    "plt.grid()"
   ]
  },
  {
   "cell_type": "markdown",
   "id": "cf685e87",
   "metadata": {},
   "source": [
    "Заметно, что пользователей из Москвы (5929) значительно больше, чем пользователей из Санкт-Петербурга (2284). Это не помешает нам проверить гипотезу, так как равенство групп не является необходимым для этого условием. Перейдем к сравнению статистик этих двух групп. "
   ]
  },
  {
   "cell_type": "code",
   "execution_count": 15,
   "id": "3b1bfafc",
   "metadata": {},
   "outputs": [
    {
     "name": "stdout",
     "output_type": "stream",
     "text": [
      "Данные о столбце hours пользователей из Санкт-Петербурга\n",
      "count    2284.000000\n",
      "mean        8.377901\n",
      "std        19.723539\n",
      "min         0.000025\n",
      "25%         0.057032\n",
      "50%         0.852310\n",
      "75%         5.672186\n",
      "max       152.338086\n",
      "Name: hours, dtype: float64\n",
      "Данные о столбце hours пользователей из Москвы\n",
      "count    5929.000000\n",
      "mean        8.064964\n",
      "std        19.733973\n",
      "min         0.000022\n",
      "25%         0.055492\n",
      "50%         0.856322\n",
      "75%         5.639621\n",
      "max       153.639891\n",
      "Name: hours, dtype: float64\n"
     ]
    }
   ],
   "source": [
    "#Выводим данные по Санкт-Петербургу \n",
    "print('Данные о столбце hours пользователей из Санкт-Петербурга')\n",
    "print(df[df['city'] == 'Санкт-Петербург']['hours'].describe())\n",
    "#Выводим данные по Москве\n",
    "print('Данные о столбце hours пользователей из Москвы')\n",
    "print(df[df['city'] == 'Москва']['hours'].describe())"
   ]
  },
  {
   "cell_type": "markdown",
   "id": "c3deedd1",
   "metadata": {
    "id": "956e82e2"
   },
   "source": []
  },
  {
   "cell_type": "markdown",
   "id": "126ac306",
   "metadata": {},
   "source": [
    "Заметим, что все показатели столбца `hours` у пользователей из двух гороов примерно одинаковы - и стандартное отклонение, и макимальная, и минимальная длительность прослушивания. Средняя продолжительность прослушивания в Санкт-Петербурге составила 8.38 часов, а в Москве - 8.06. Проверим, является ли это различие статистически значимым. "
   ]
  },
  {
   "cell_type": "markdown",
   "id": "3e4f1f74",
   "metadata": {},
   "source": [
    "## 2. Проверка гипотезы в Python\n",
    "\n",
    "Гипотеза звучит так: пользователи из Санкт-Петербурга проводят в среднем больше времени за чтением и прослушиванием книг в приложении, чем пользователи из Москвы. Попробуйте статистически это доказать, используя одностороннюю проверку гипотезы с двумя выборками:\n",
    "\n",
    "- Нулевая гипотеза H₀: Средняя активность пользователей в часах в двух группах (Москва и Санкт-Петербург) не различается.\n",
    "\n",
    "- Альтернативная гипотеза H₁: Средняя активность пользователей в Санкт-Петербурге больше, и это различие статистически значимо."
   ]
  },
  {
   "cell_type": "markdown",
   "id": "fc44ab36",
   "metadata": {},
   "source": [
    "Для проверки гипотезы будем использовать t-test Уэлча, так как он более устойчив к выбросам данных, не требует равенства выборочных дисперсий. Кроме того, размеры групп сильно отличаются, поэтому такой тест будет оптимальным вариантом. "
   ]
  },
  {
   "cell_type": "code",
   "execution_count": 16,
   "id": "fdb1b3d3",
   "metadata": {},
   "outputs": [
    {
     "name": "stdout",
     "output_type": "stream",
     "text": [
      "p-value теста Уэлча=0.26\n",
      "Нулевая гипотеза находит подтверждение.\n",
      "Интерпретация: средняя активность пользователей в часах в Москве и Санкт-Петербурге не различается.\n"
     ]
    }
   ],
   "source": [
    "spb_group = df[df['city'] == 'Санкт-Петербург']['hours']\n",
    "msk_group = df[df['city'] == 'Москва']['hours']\n",
    "# пишем код для t-test \n",
    "alpha = 0.05\n",
    "stat_welch_ttest, p_value_welch_ttest = ttest_ind(spb_group,\n",
    "                                                  msk_group,\n",
    "                                                  equal_var = False,\n",
    "                                                 alternative = 'greater')\n",
    " \n",
    "if p_value_welch_ttest < alpha: \n",
    "    print(f'p-value теста Уэлча={round(p_value_welch_ttest, 2)}')\n",
    "    print('Нулевая гипотеза отвергается.')\n",
    "    print('Интерпретация: средняя активность пользователей в Санкт-Петербурге больше.')\n",
    "else:\n",
    "    print(f'p-value теста Уэлча={round(p_value_welch_ttest, 2)}')\n",
    "    print('Нулевая гипотеза находит подтверждение.')\n",
    "    print('Интерпретация: средняя активность пользователей в часах в Москве и Санкт-Петербурге не различается.')"
   ]
  },
  {
   "cell_type": "markdown",
   "id": "6953e84c",
   "metadata": {
    "id": "6953e84c"
   },
   "source": [
    "## 3. Аналитическая записка\n",
    "По результатам анализа данных подготовьте аналитическую записку, в которой опишете:\n",
    "\n",
    "- Выбранный тип t-теста и уровень статистической значимости.\n",
    "\n",
    "- Результат теста, или p-value.\n",
    "\n",
    "- Вывод на основе полученного p-value, то есть интерпретацию результатов.\n",
    "\n",
    "- Одну или две возможные причины, объясняющие полученные результаты.\n",
    "\n"
   ]
  },
  {
   "cell_type": "markdown",
   "id": "6ce5b798",
   "metadata": {},
   "source": [
    "Была проведена проверка гипотезы о том, что пользователи из Санкт-Петербурга проводят в среднем больше времени за чтением и прослушиванием книг в приложении, чем пользователи из Москвы. Для ее проверки был выбран t-test Уэлча, который обладает низкой чувствительность к неравным дисперсиям и применение которого возможно при разнице в размере групп. Уровень значимости `alpha` был выбран равным 0.05. \n",
    "\n",
    "Результат теста показал p-value = 0.26, что больше выбранного уровня значимости. А значит, гипотеза о том, что среднее время активности пользователей в Санкт-Петербурге больше, не подтвердилась. \n",
    "\n",
    "Причиной такого результата может быть одинаковый уровень лояльности к сервису пользователей Москвы и Санкт-Петербурга. Региональная принадлежность не влияет на вовлеченность пользователей. Также причиной могут быть схожие бытовые привычки и образ жителей этих городов."
   ]
  },
  {
   "cell_type": "markdown",
   "id": "hc1d6jVISegz",
   "metadata": {
    "id": "hc1d6jVISegz"
   },
   "source": [
    "----"
   ]
  },
  {
   "cell_type": "markdown",
   "id": "NqOUIYhbrIfC",
   "metadata": {
    "id": "NqOUIYhbrIfC"
   },
   "source": [
    "# Часть 2. Анализ результатов A/B-тестирования"
   ]
  },
  {
   "cell_type": "markdown",
   "id": "tDwMKFNGsClr",
   "metadata": {
    "id": "tDwMKFNGsClr"
   },
   "source": [
    "Теперь вам нужно проанализировать другие данные. Представьте, что к вам обратились представители интернет-магазина BitMotion Kit, в котором продаются геймифицированные товары для тех, кто ведёт здоровый образ жизни. У него есть своя целевая аудитория, даже появились хиты продаж: эспандер со счётчиком и напоминанием, так и подстольный велотренажёр с Bluetooth.\n",
    "\n",
    "В будущем компания хочет расширить ассортимент товаров. Но перед этим нужно решить одну проблему. Интерфейс онлайн-магазина слишком сложен для пользователей — об этом говорят отзывы.\n",
    "\n",
    "Чтобы привлечь новых клиентов и увеличить число продаж, владельцы магазина разработали новую версию сайта и протестировали его на части пользователей. По задумке, это решение доказуемо повысит количество пользователей, которые совершат покупку.\n",
    "\n",
    "Ваша задача — провести оценку результатов A/B-теста. В вашем распоряжении:\n",
    "\n",
    "* данные о действиях пользователей и распределении их на группы,\n",
    "\n",
    "* техническое задание.\n",
    "\n",
    "Оцените корректность проведения теста и проанализируйте его результаты."
   ]
  },
  {
   "cell_type": "markdown",
   "id": "UNXAAyF5r9Rk",
   "metadata": {
    "id": "UNXAAyF5r9Rk"
   },
   "source": [
    "## 1. Опишите цели исследования.\n",
    "\n"
   ]
  },
  {
   "cell_type": "markdown",
   "id": "80979410",
   "metadata": {},
   "source": [
    "Цель исследования: оценить эффективность новой версии интерфейса онлайн-магазина BitMotion Kit в сравнении со старой, чтобы определить, приводит ли изменение дизайна к увеличению конверсии в покупки.\n",
    "\n",
    "\n",
    "Задачи:\n",
    "- Проверить корректность проведения A/B-теста\n",
    "- Определить статистическую значимость различий\n",
    "- Сформулировать вывод\n",
    "\n",
    "Гипотезы, проверяемые в исследовании:\n",
    "\n",
    "Нулевая гипотеза $H_0: конверсия в группе B не больше, чем в группе A.\n",
    "\n",
    "Альтернативная гипотеза $H_1: конверсия в группе B превышает конверсию в группе A."
   ]
  },
  {
   "cell_type": "markdown",
   "id": "_CZryx2OsH-s",
   "metadata": {
    "id": "_CZryx2OsH-s"
   },
   "source": [
    "## 2. Загрузите данные, оцените их целостность.\n"
   ]
  },
  {
   "cell_type": "code",
   "execution_count": 17,
   "id": "DjFcJbeGsTIg",
   "metadata": {
    "id": "DjFcJbeGsTIg"
   },
   "outputs": [],
   "source": [
    "participants = pd.read_csv('https://code.s3.yandex.net/datasets/ab_test_participants.csv')\n",
    "events = pd.read_csv('https://code.s3.yandex.net/datasets/ab_test_events.zip',\n",
    "                     parse_dates=['event_dt'], low_memory=False)"
   ]
  },
  {
   "cell_type": "code",
   "execution_count": 18,
   "id": "49d561ef",
   "metadata": {},
   "outputs": [
    {
     "name": "stdout",
     "output_type": "stream",
     "text": [
      "<class 'pandas.core.frame.DataFrame'>\n",
      "RangeIndex: 14525 entries, 0 to 14524\n",
      "Data columns (total 4 columns):\n",
      " #   Column   Non-Null Count  Dtype \n",
      "---  ------   --------------  ----- \n",
      " 0   user_id  14525 non-null  object\n",
      " 1   group    14525 non-null  object\n",
      " 2   ab_test  14525 non-null  object\n",
      " 3   device   14525 non-null  object\n",
      "dtypes: object(4)\n",
      "memory usage: 454.0+ KB\n"
     ]
    }
   ],
   "source": [
    "participants.info()"
   ]
  },
  {
   "cell_type": "code",
   "execution_count": 19,
   "id": "df4c6866",
   "metadata": {},
   "outputs": [
    {
     "data": {
      "text/html": [
       "<div>\n",
       "<style scoped>\n",
       "    .dataframe tbody tr th:only-of-type {\n",
       "        vertical-align: middle;\n",
       "    }\n",
       "\n",
       "    .dataframe tbody tr th {\n",
       "        vertical-align: top;\n",
       "    }\n",
       "\n",
       "    .dataframe thead th {\n",
       "        text-align: right;\n",
       "    }\n",
       "</style>\n",
       "<table border=\"1\" class=\"dataframe\">\n",
       "  <thead>\n",
       "    <tr style=\"text-align: right;\">\n",
       "      <th></th>\n",
       "      <th>user_id</th>\n",
       "      <th>group</th>\n",
       "      <th>ab_test</th>\n",
       "      <th>device</th>\n",
       "    </tr>\n",
       "  </thead>\n",
       "  <tbody>\n",
       "    <tr>\n",
       "      <th>0</th>\n",
       "      <td>0002CE61FF2C4011</td>\n",
       "      <td>B</td>\n",
       "      <td>interface_eu_test</td>\n",
       "      <td>Mac</td>\n",
       "    </tr>\n",
       "    <tr>\n",
       "      <th>1</th>\n",
       "      <td>001064FEAAB631A1</td>\n",
       "      <td>B</td>\n",
       "      <td>recommender_system_test</td>\n",
       "      <td>Android</td>\n",
       "    </tr>\n",
       "    <tr>\n",
       "      <th>2</th>\n",
       "      <td>001064FEAAB631A1</td>\n",
       "      <td>A</td>\n",
       "      <td>interface_eu_test</td>\n",
       "      <td>Android</td>\n",
       "    </tr>\n",
       "    <tr>\n",
       "      <th>3</th>\n",
       "      <td>0010A1C096941592</td>\n",
       "      <td>A</td>\n",
       "      <td>recommender_system_test</td>\n",
       "      <td>Android</td>\n",
       "    </tr>\n",
       "    <tr>\n",
       "      <th>4</th>\n",
       "      <td>001E72F50D1C48FA</td>\n",
       "      <td>A</td>\n",
       "      <td>interface_eu_test</td>\n",
       "      <td>Mac</td>\n",
       "    </tr>\n",
       "  </tbody>\n",
       "</table>\n",
       "</div>"
      ],
      "text/plain": [
       "            user_id group                  ab_test   device\n",
       "0  0002CE61FF2C4011     B        interface_eu_test      Mac\n",
       "1  001064FEAAB631A1     B  recommender_system_test  Android\n",
       "2  001064FEAAB631A1     A        interface_eu_test  Android\n",
       "3  0010A1C096941592     A  recommender_system_test  Android\n",
       "4  001E72F50D1C48FA     A        interface_eu_test      Mac"
      ]
     },
     "execution_count": 19,
     "metadata": {},
     "output_type": "execute_result"
    }
   ],
   "source": [
    "participants.head()"
   ]
  },
  {
   "cell_type": "markdown",
   "id": "244f47cd",
   "metadata": {},
   "source": [
    "Полученный датафрейм `participants` содержит 14525 строк и 4 столбца:\n",
    "- `user_id` – уникальный идентификатор пользователя (должен быть без дубликатов)\n",
    "- `group` – группа A/B-теста (A – контроль, B – тестовая)\n",
    "- `ab_test` - название теста, в котором участвовал пользователей\n",
    "- `device` – тип устройства\n",
    "\n",
    "Данные не содержат пропусков и соответсвуют заявленному описанию."
   ]
  },
  {
   "cell_type": "code",
   "execution_count": 20,
   "id": "0d1bb5c6",
   "metadata": {},
   "outputs": [
    {
     "name": "stdout",
     "output_type": "stream",
     "text": [
      "<class 'pandas.core.frame.DataFrame'>\n",
      "RangeIndex: 787286 entries, 0 to 787285\n",
      "Data columns (total 4 columns):\n",
      " #   Column      Non-Null Count   Dtype         \n",
      "---  ------      --------------   -----         \n",
      " 0   user_id     787286 non-null  object        \n",
      " 1   event_dt    787286 non-null  datetime64[ns]\n",
      " 2   event_name  787286 non-null  object        \n",
      " 3   details     249022 non-null  object        \n",
      "dtypes: datetime64[ns](1), object(3)\n",
      "memory usage: 24.0+ MB\n"
     ]
    }
   ],
   "source": [
    "events.info()"
   ]
  },
  {
   "cell_type": "code",
   "execution_count": 21,
   "id": "77a6e8e7",
   "metadata": {},
   "outputs": [
    {
     "data": {
      "text/html": [
       "<div>\n",
       "<style scoped>\n",
       "    .dataframe tbody tr th:only-of-type {\n",
       "        vertical-align: middle;\n",
       "    }\n",
       "\n",
       "    .dataframe tbody tr th {\n",
       "        vertical-align: top;\n",
       "    }\n",
       "\n",
       "    .dataframe thead th {\n",
       "        text-align: right;\n",
       "    }\n",
       "</style>\n",
       "<table border=\"1\" class=\"dataframe\">\n",
       "  <thead>\n",
       "    <tr style=\"text-align: right;\">\n",
       "      <th></th>\n",
       "      <th>user_id</th>\n",
       "      <th>event_dt</th>\n",
       "      <th>event_name</th>\n",
       "      <th>details</th>\n",
       "    </tr>\n",
       "  </thead>\n",
       "  <tbody>\n",
       "    <tr>\n",
       "      <th>0</th>\n",
       "      <td>GLOBAL</td>\n",
       "      <td>2020-12-01 00:00:00</td>\n",
       "      <td>End of Black Friday Ads Campaign</td>\n",
       "      <td>ZONE_CODE15</td>\n",
       "    </tr>\n",
       "    <tr>\n",
       "      <th>1</th>\n",
       "      <td>CCBE9E7E99F94A08</td>\n",
       "      <td>2020-12-01 00:00:11</td>\n",
       "      <td>registration</td>\n",
       "      <td>0.0</td>\n",
       "    </tr>\n",
       "    <tr>\n",
       "      <th>2</th>\n",
       "      <td>GLOBAL</td>\n",
       "      <td>2020-12-01 00:00:25</td>\n",
       "      <td>product_page</td>\n",
       "      <td>NaN</td>\n",
       "    </tr>\n",
       "    <tr>\n",
       "      <th>3</th>\n",
       "      <td>CCBE9E7E99F94A08</td>\n",
       "      <td>2020-12-01 00:00:33</td>\n",
       "      <td>login</td>\n",
       "      <td>NaN</td>\n",
       "    </tr>\n",
       "    <tr>\n",
       "      <th>4</th>\n",
       "      <td>CCBE9E7E99F94A08</td>\n",
       "      <td>2020-12-01 00:00:52</td>\n",
       "      <td>product_page</td>\n",
       "      <td>NaN</td>\n",
       "    </tr>\n",
       "  </tbody>\n",
       "</table>\n",
       "</div>"
      ],
      "text/plain": [
       "            user_id            event_dt                        event_name  \\\n",
       "0            GLOBAL 2020-12-01 00:00:00  End of Black Friday Ads Campaign   \n",
       "1  CCBE9E7E99F94A08 2020-12-01 00:00:11                      registration   \n",
       "2            GLOBAL 2020-12-01 00:00:25                      product_page   \n",
       "3  CCBE9E7E99F94A08 2020-12-01 00:00:33                             login   \n",
       "4  CCBE9E7E99F94A08 2020-12-01 00:00:52                      product_page   \n",
       "\n",
       "       details  \n",
       "0  ZONE_CODE15  \n",
       "1          0.0  \n",
       "2          NaN  \n",
       "3          NaN  \n",
       "4          NaN  "
      ]
     },
     "execution_count": 21,
     "metadata": {},
     "output_type": "execute_result"
    }
   ],
   "source": [
    "events.head()"
   ]
  },
  {
   "cell_type": "markdown",
   "id": "8c7282d5",
   "metadata": {},
   "source": [
    "Датафрейм `events` содержит информацию о действиях пользователей, представленную в 787286 строках и 4 столбцах:\n",
    "- `user_id` — идентификатор пользователя;\n",
    "- `event_dt` — дата и время события;\n",
    "- `event_name` — тип события;\n",
    "- `details` — дополнительные данные о событии. Этот столбец содержит пропуски, однако нам не понадобится этот столбец для работы, поэтому пропуски некритичны. \n"
   ]
  },
  {
   "cell_type": "markdown",
   "id": "CnzA-efasUrk",
   "metadata": {
    "id": "CnzA-efasUrk"
   },
   "source": [
    "## 3. По таблице `ab_test_participants` оцените корректность проведения теста:\n",
    "\n",
    "   3\\.1 Выделите пользователей, участвующих в тесте, и проверьте:\n",
    "\n",
    "   - соответствие требованиям технического задания,\n",
    "\n",
    "   - равномерность распределения пользователей по группам теста,\n",
    "\n",
    "   - отсутствие пересечений с конкурирующим тестом (нет пользователей, участвующих одновременно в двух тестовых группах)."
   ]
  },
  {
   "cell_type": "code",
   "execution_count": 22,
   "id": "95f6b415",
   "metadata": {},
   "outputs": [
    {
     "data": {
      "text/html": [
       "<div>\n",
       "<style scoped>\n",
       "    .dataframe tbody tr th:only-of-type {\n",
       "        vertical-align: middle;\n",
       "    }\n",
       "\n",
       "    .dataframe tbody tr th {\n",
       "        vertical-align: top;\n",
       "    }\n",
       "\n",
       "    .dataframe thead th {\n",
       "        text-align: right;\n",
       "    }\n",
       "</style>\n",
       "<table border=\"1\" class=\"dataframe\">\n",
       "  <thead>\n",
       "    <tr style=\"text-align: right;\">\n",
       "      <th></th>\n",
       "      <th>index</th>\n",
       "      <th>user_id</th>\n",
       "      <th>group</th>\n",
       "      <th>ab_test</th>\n",
       "      <th>device</th>\n",
       "    </tr>\n",
       "  </thead>\n",
       "  <tbody>\n",
       "    <tr>\n",
       "      <th>0</th>\n",
       "      <td>1</td>\n",
       "      <td>001064FEAAB631A1</td>\n",
       "      <td>B</td>\n",
       "      <td>recommender_system_test</td>\n",
       "      <td>Android</td>\n",
       "    </tr>\n",
       "    <tr>\n",
       "      <th>1</th>\n",
       "      <td>2</td>\n",
       "      <td>001064FEAAB631A1</td>\n",
       "      <td>A</td>\n",
       "      <td>interface_eu_test</td>\n",
       "      <td>Android</td>\n",
       "    </tr>\n",
       "    <tr>\n",
       "      <th>2</th>\n",
       "      <td>9</td>\n",
       "      <td>00341D8401F0F665</td>\n",
       "      <td>A</td>\n",
       "      <td>recommender_system_test</td>\n",
       "      <td>iPhone</td>\n",
       "    </tr>\n",
       "    <tr>\n",
       "      <th>3</th>\n",
       "      <td>10</td>\n",
       "      <td>00341D8401F0F665</td>\n",
       "      <td>B</td>\n",
       "      <td>interface_eu_test</td>\n",
       "      <td>iPhone</td>\n",
       "    </tr>\n",
       "    <tr>\n",
       "      <th>4</th>\n",
       "      <td>25</td>\n",
       "      <td>0082295A41A867B5</td>\n",
       "      <td>A</td>\n",
       "      <td>interface_eu_test</td>\n",
       "      <td>iPhone</td>\n",
       "    </tr>\n",
       "  </tbody>\n",
       "</table>\n",
       "</div>"
      ],
      "text/plain": [
       "   index           user_id group                  ab_test   device\n",
       "0      1  001064FEAAB631A1     B  recommender_system_test  Android\n",
       "1      2  001064FEAAB631A1     A        interface_eu_test  Android\n",
       "2      9  00341D8401F0F665     A  recommender_system_test   iPhone\n",
       "3     10  00341D8401F0F665     B        interface_eu_test   iPhone\n",
       "4     25  0082295A41A867B5     A        interface_eu_test   iPhone"
      ]
     },
     "execution_count": 22,
     "metadata": {},
     "output_type": "execute_result"
    }
   ],
   "source": [
    "# Выделяем пользователей, которые участвовали в нескольких тестах, а также тех, которые могли попасть в две группы \n",
    "#одновременно, для последующего удаления\n",
    "duplicated_participants = participants[participants['user_id'].duplicated(keep=False)].reset_index()\n",
    "duplicated_participants.head()"
   ]
  },
  {
   "cell_type": "markdown",
   "id": "6d262ee6",
   "metadata": {},
   "source": [
    "Заметим, что есть пользователи, которые участвовали в двух и более тестах одновременно. Их необходимо удалить, так как не предсталяется возможным определить, какие изменения в системе влияли на их действия. "
   ]
  },
  {
   "cell_type": "code",
   "execution_count": 23,
   "id": "87832f84",
   "metadata": {},
   "outputs": [],
   "source": [
    "# Удаляем этих пользователей из исходного датафрейма\n",
    "participants = participants[~(participants['user_id'].isin(duplicated_participants['user_id']))]"
   ]
  },
  {
   "cell_type": "code",
   "execution_count": 24,
   "id": "aNa3zHrKslEN",
   "metadata": {
    "id": "aNa3zHrKslEN"
   },
   "outputs": [
    {
     "data": {
      "text/html": [
       "<div>\n",
       "<style scoped>\n",
       "    .dataframe tbody tr th:only-of-type {\n",
       "        vertical-align: middle;\n",
       "    }\n",
       "\n",
       "    .dataframe tbody tr th {\n",
       "        vertical-align: top;\n",
       "    }\n",
       "\n",
       "    .dataframe thead th {\n",
       "        text-align: right;\n",
       "    }\n",
       "</style>\n",
       "<table border=\"1\" class=\"dataframe\">\n",
       "  <thead>\n",
       "    <tr style=\"text-align: right;\">\n",
       "      <th></th>\n",
       "      <th>user_id</th>\n",
       "      <th>group</th>\n",
       "      <th>ab_test</th>\n",
       "      <th>device</th>\n",
       "    </tr>\n",
       "  </thead>\n",
       "  <tbody>\n",
       "    <tr>\n",
       "      <th>0</th>\n",
       "      <td>0002CE61FF2C4011</td>\n",
       "      <td>B</td>\n",
       "      <td>interface_eu_test</td>\n",
       "      <td>Mac</td>\n",
       "    </tr>\n",
       "    <tr>\n",
       "      <th>4</th>\n",
       "      <td>001E72F50D1C48FA</td>\n",
       "      <td>A</td>\n",
       "      <td>interface_eu_test</td>\n",
       "      <td>Mac</td>\n",
       "    </tr>\n",
       "    <tr>\n",
       "      <th>5</th>\n",
       "      <td>002412F1EB3F6E38</td>\n",
       "      <td>B</td>\n",
       "      <td>interface_eu_test</td>\n",
       "      <td>Mac</td>\n",
       "    </tr>\n",
       "    <tr>\n",
       "      <th>6</th>\n",
       "      <td>002540BE89C930FB</td>\n",
       "      <td>B</td>\n",
       "      <td>interface_eu_test</td>\n",
       "      <td>Android</td>\n",
       "    </tr>\n",
       "    <tr>\n",
       "      <th>7</th>\n",
       "      <td>0031F1B5E9FBF708</td>\n",
       "      <td>A</td>\n",
       "      <td>interface_eu_test</td>\n",
       "      <td>Android</td>\n",
       "    </tr>\n",
       "  </tbody>\n",
       "</table>\n",
       "</div>"
      ],
      "text/plain": [
       "            user_id group            ab_test   device\n",
       "0  0002CE61FF2C4011     B  interface_eu_test      Mac\n",
       "4  001E72F50D1C48FA     A  interface_eu_test      Mac\n",
       "5  002412F1EB3F6E38     B  interface_eu_test      Mac\n",
       "6  002540BE89C930FB     B  interface_eu_test  Android\n",
       "7  0031F1B5E9FBF708     A  interface_eu_test  Android"
      ]
     },
     "execution_count": 24,
     "metadata": {},
     "output_type": "execute_result"
    }
   ],
   "source": [
    "# Выделим пользователей, участвовавших в проведении теста \n",
    "test_participants = participants[participants['ab_test'] == 'interface_eu_test']\n",
    "test_participants.head()"
   ]
  },
  {
   "cell_type": "markdown",
   "id": "a407d9de",
   "metadata": {},
   "source": [
    "Перейдем к проверке групп на независимость - отсутствие пользователей, одновременно оказавшихся в друг группах. "
   ]
  },
  {
   "cell_type": "code",
   "execution_count": 25,
   "id": "4b7eead1",
   "metadata": {},
   "outputs": [
    {
     "data": {
      "text/plain": [
       "'Пересечений пользователей нет. Выборки независимы'"
      ]
     },
     "metadata": {},
     "output_type": "display_data"
    }
   ],
   "source": [
    "# Находим уникальных пользователей в обеих группах\n",
    "group_a = test_participants[test_participants['group'] == 'A']['user_id'].unique()\n",
    "group_b = test_participants[test_participants['group'] == 'B']['user_id'].unique()\n",
    "#Находим пересечение этих групп\n",
    "intersection = list(set(group_a) & set(group_b))\n",
    "if len(intersection) == 0: \n",
    "    display('Пересечений пользователей нет. Выборки независимы')\n",
    "else:\n",
    "    display(f'Пользователи {intersection} находятся в обеих выборках')"
   ]
  },
  {
   "cell_type": "markdown",
   "id": "33f4c117",
   "metadata": {},
   "source": [
    "Проверим насколько равномерно распределены пользователи по группам. Для этого сгруппируем данные и визуализируем их."
   ]
  },
  {
   "cell_type": "code",
   "execution_count": 26,
   "id": "9cb08968",
   "metadata": {},
   "outputs": [
    {
     "name": "stdout",
     "output_type": "stream",
     "text": [
      "Число пользователей в группах теста\n",
      "  group  user_id\n",
      "0     A     4952\n",
      "1     B     5011\n",
      "Процентная разница в количестве пользователей в группах A и B 1.19%\n"
     ]
    }
   ],
   "source": [
    "# Группируем данные по группам\n",
    "test_participants_grouped = test_participants.groupby('group').agg({'user_id':'nunique'}).reset_index()\n",
    "print('Число пользователей в группах теста')\n",
    "print(test_participants_grouped)\n",
    "\n",
    "#Считаем процентную разницу между двумя группами\n",
    "percent_difference = 100 * abs(test_participants_grouped['user_id'][0] - test_participants_grouped['user_id'][1]) / test_participants_grouped['user_id'][0]\n",
    "print(f'Процентная разница в количестве пользователей в группах A и B {round(percent_difference,2)}%')"
   ]
  },
  {
   "cell_type": "code",
   "execution_count": 27,
   "id": "592bf12e",
   "metadata": {},
   "outputs": [
    {
     "data": {
      "image/png": "[encoded data removed]",
      "text/plain": [
       "<Figure size 720x432 with 1 Axes>"
      ]
     },
     "metadata": {
      "needs_background": "light"
     },
     "output_type": "display_data"
    }
   ],
   "source": [
    "#Для наглядности строим столбчатый график\n",
    "plt.figure(figsize = (10,6))\n",
    "plt.bar(test_participants_grouped['group'], test_participants_grouped['user_id'])\n",
    "plt.title('Количество пользователей в группах A и B')\n",
    "plt.xlabel('Группа')\n",
    "plt.ylabel('Количество пользователей')\n",
    "plt.grid()"
   ]
  },
  {
   "cell_type": "markdown",
   "id": "f2a8888c",
   "metadata": {},
   "source": [
    "Количество пользователей в группах A и B составило 4952 и 5011 соответственно. Разница между ними незначительна и равна 1.19%, что допускается при проведении A-B тестирования. \n",
    "\n",
    "Убедимся в том, что пользователи равномерно распределены по категориальным переменным — типам устройства в рамках своей группы и в целом. "
   ]
  },
  {
   "cell_type": "code",
   "execution_count": 28,
   "id": "666c212f",
   "metadata": {},
   "outputs": [
    {
     "data": {
      "image/png": "[encoded data removed]",
      "text/plain": [
       "<Figure size 576x432 with 1 Axes>"
      ]
     },
     "metadata": {},
     "output_type": "display_data"
    },
    {
     "data": {
      "image/png": "[encoded data removed]",
      "text/plain": [
       "<Figure size 576x432 with 1 Axes>"
      ]
     },
     "metadata": {},
     "output_type": "display_data"
    }
   ],
   "source": [
    "#Агрегируем данные для построения графиков по распределению пользователей вннутри каждой группы\n",
    "devices = test_participants.groupby(['group','device']).agg({'user_id':'nunique'}).reset_index()\n",
    "#Строим график для пользователей группы A\n",
    "plt.figure(figsize=(8, 6))\n",
    "plt.pie(devices[devices['group'] == 'A']['user_id'], labels = devices[devices['group'] == 'A']['device'], autopct='%1.1f%%')\n",
    "plt.axis('equal')\n",
    "plt.title('Распределение пользователей группы A по устройствам')\n",
    "plt.legend()\n",
    "plt.show()\n",
    "\n",
    "#Строим график для пользователей группы B\n",
    "plt.figure(figsize=(8, 6))\n",
    "plt.pie(devices[devices['group'] == 'B']['user_id'], labels = devices[devices['group'] == 'B']['device'], autopct='%1.1f%%')\n",
    "plt.axis('equal')\n",
    "plt.title('Распределение пользователей группы B по устройствам')\n",
    "plt.legend()\n",
    "plt.show()"
   ]
  },
  {
   "cell_type": "code",
   "execution_count": 29,
   "id": "f3f3f6f6",
   "metadata": {},
   "outputs": [
    {
     "data": {
      "image/png": "[encoded data removed]",
      "text/plain": [
       "<Figure size 720x432 with 1 Axes>"
      ]
     },
     "metadata": {
      "needs_background": "light"
     },
     "output_type": "display_data"
    }
   ],
   "source": [
    "# Строим столбчатую диаграмму, отображающую сравнение распределения пользователей из групп по устройствам\n",
    "labels = devices['device'].unique()\n",
    "group_A_means = devices[devices['group'] == 'A']['user_id'].values\n",
    "group_B_means = devices[devices['group'] == 'B']['user_id'].values\n",
    "\n",
    "# Параметры для построения столбцов\n",
    "x = np.arange(len(labels))  # позиции по оси X\n",
    "width = 0.35  # ширина столбцов\n",
    "\n",
    "# Построение столбчатой диаграммы\n",
    "fig, ax = plt.subplots(figsize=(10, 6))\n",
    "bars_A = ax.bar(x - width/2, group_A_means, width, label='Группа A')\n",
    "bars_B = ax.bar(x + width/2, group_B_means, width, label='Группа B')\n",
    "\n",
    "# Добавление подписей и заголовка\n",
    "ax.set_title('Количество пользователей в группах A и B')\n",
    "ax.set_xlabel('Устройства')\n",
    "ax.set_ylabel('Количество пользователей')\n",
    "ax.set_xticks(x)\n",
    "ax.set_xticklabels(labels)\n",
    "ax.legend()\n",
    "\n",
    "# Отображение значений над столбцами\n",
    "def autolabel(bars):\n",
    "    for bar in bars:\n",
    "        height = bar.get_height()\n",
    "        ax.annotate('{}'.format(height),\n",
    "                    xy=(bar.get_x() + bar.get_width() / 2, height),\n",
    "                    xytext=(0, 3),  # 3 points vertical offset\n",
    "                    textcoords=\"offset points\",\n",
    "                    ha='center', va='bottom')\n",
    "autolabel(bars_A)\n",
    "autolabel(bars_B)\n",
    "# Показать график\n",
    "plt.grid()\n",
    "plt.tight_layout()\n",
    "plt.show()"
   ]
  },
  {
   "cell_type": "markdown",
   "id": "91df7fea",
   "metadata": {},
   "source": [
    "По графикам видно, что пользователи распределены равномерно по устройствам как внутри своих групп, так и в сравнении с другой группой. Это значит, что данные по пользователям сопоставимы и их возможно использовать в дальнейшем. "
   ]
  },
  {
   "cell_type": "markdown",
   "id": "GjulgSrlsqUU",
   "metadata": {
    "id": "GjulgSrlsqUU"
   },
   "source": [
    "3\\.2 Проанализируйте данные о пользовательской активности по таблице `ab_test_events`:\n",
    "\n",
    "- оставьте только события, связанные с участвующими в изучаемом тесте пользователями;"
   ]
  },
  {
   "cell_type": "code",
   "execution_count": 30,
   "id": "QMt0Ybo_swDK",
   "metadata": {
    "id": "QMt0Ybo_swDK"
   },
   "outputs": [
    {
     "data": {
      "text/html": [
       "<div>\n",
       "<style scoped>\n",
       "    .dataframe tbody tr th:only-of-type {\n",
       "        vertical-align: middle;\n",
       "    }\n",
       "\n",
       "    .dataframe tbody tr th {\n",
       "        vertical-align: top;\n",
       "    }\n",
       "\n",
       "    .dataframe thead th {\n",
       "        text-align: right;\n",
       "    }\n",
       "</style>\n",
       "<table border=\"1\" class=\"dataframe\">\n",
       "  <thead>\n",
       "    <tr style=\"text-align: right;\">\n",
       "      <th></th>\n",
       "      <th>user_id</th>\n",
       "      <th>event_dt</th>\n",
       "      <th>event_name</th>\n",
       "      <th>details</th>\n",
       "      <th>group</th>\n",
       "    </tr>\n",
       "  </thead>\n",
       "  <tbody>\n",
       "    <tr>\n",
       "      <th>0</th>\n",
       "      <td>5F506CEBEDC05D30</td>\n",
       "      <td>2020-12-06 14:10:01</td>\n",
       "      <td>registration</td>\n",
       "      <td>0.0</td>\n",
       "      <td>A</td>\n",
       "    </tr>\n",
       "    <tr>\n",
       "      <th>1</th>\n",
       "      <td>51278A006E918D97</td>\n",
       "      <td>2020-12-06 14:37:25</td>\n",
       "      <td>registration</td>\n",
       "      <td>-3.8</td>\n",
       "      <td>A</td>\n",
       "    </tr>\n",
       "    <tr>\n",
       "      <th>2</th>\n",
       "      <td>A0C1E8EFAD874D8B</td>\n",
       "      <td>2020-12-06 17:20:22</td>\n",
       "      <td>registration</td>\n",
       "      <td>-3.32</td>\n",
       "      <td>B</td>\n",
       "    </tr>\n",
       "    <tr>\n",
       "      <th>3</th>\n",
       "      <td>275A8D6254ACF530</td>\n",
       "      <td>2020-12-06 19:36:54</td>\n",
       "      <td>registration</td>\n",
       "      <td>-0.48</td>\n",
       "      <td>A</td>\n",
       "    </tr>\n",
       "    <tr>\n",
       "      <th>4</th>\n",
       "      <td>0B704EB2DC7FCA4B</td>\n",
       "      <td>2020-12-06 19:42:20</td>\n",
       "      <td>registration</td>\n",
       "      <td>0.0</td>\n",
       "      <td>B</td>\n",
       "    </tr>\n",
       "    <tr>\n",
       "      <th>...</th>\n",
       "      <td>...</td>\n",
       "      <td>...</td>\n",
       "      <td>...</td>\n",
       "      <td>...</td>\n",
       "      <td>...</td>\n",
       "    </tr>\n",
       "    <tr>\n",
       "      <th>73810</th>\n",
       "      <td>F80C9BDDEA02E53C</td>\n",
       "      <td>2020-12-30 10:02:43</td>\n",
       "      <td>purchase</td>\n",
       "      <td>4.49</td>\n",
       "      <td>B</td>\n",
       "    </tr>\n",
       "    <tr>\n",
       "      <th>73811</th>\n",
       "      <td>F80C9BDDEA02E53C</td>\n",
       "      <td>2020-12-30 10:03:51</td>\n",
       "      <td>purchase</td>\n",
       "      <td>4.49</td>\n",
       "      <td>B</td>\n",
       "    </tr>\n",
       "    <tr>\n",
       "      <th>73812</th>\n",
       "      <td>F80C9BDDEA02E53C</td>\n",
       "      <td>2020-12-30 10:03:52</td>\n",
       "      <td>product_cart</td>\n",
       "      <td>NaN</td>\n",
       "      <td>B</td>\n",
       "    </tr>\n",
       "    <tr>\n",
       "      <th>73813</th>\n",
       "      <td>6181F3835EBE66BF</td>\n",
       "      <td>2020-12-30 12:10:39</td>\n",
       "      <td>product_cart</td>\n",
       "      <td>NaN</td>\n",
       "      <td>B</td>\n",
       "    </tr>\n",
       "    <tr>\n",
       "      <th>73814</th>\n",
       "      <td>9DF4F595A906A0BA</td>\n",
       "      <td>2020-12-30 18:34:08</td>\n",
       "      <td>product_page</td>\n",
       "      <td>NaN</td>\n",
       "      <td>A</td>\n",
       "    </tr>\n",
       "  </tbody>\n",
       "</table>\n",
       "<p>73815 rows × 5 columns</p>\n",
       "</div>"
      ],
      "text/plain": [
       "                user_id            event_dt    event_name details group\n",
       "0      5F506CEBEDC05D30 2020-12-06 14:10:01  registration     0.0     A\n",
       "1      51278A006E918D97 2020-12-06 14:37:25  registration    -3.8     A\n",
       "2      A0C1E8EFAD874D8B 2020-12-06 17:20:22  registration   -3.32     B\n",
       "3      275A8D6254ACF530 2020-12-06 19:36:54  registration   -0.48     A\n",
       "4      0B704EB2DC7FCA4B 2020-12-06 19:42:20  registration     0.0     B\n",
       "...                 ...                 ...           ...     ...   ...\n",
       "73810  F80C9BDDEA02E53C 2020-12-30 10:02:43      purchase    4.49     B\n",
       "73811  F80C9BDDEA02E53C 2020-12-30 10:03:51      purchase    4.49     B\n",
       "73812  F80C9BDDEA02E53C 2020-12-30 10:03:52  product_cart     NaN     B\n",
       "73813  6181F3835EBE66BF 2020-12-30 12:10:39  product_cart     NaN     B\n",
       "73814  9DF4F595A906A0BA 2020-12-30 18:34:08  product_page     NaN     A\n",
       "\n",
       "[73815 rows x 5 columns]"
      ]
     },
     "execution_count": 30,
     "metadata": {},
     "output_type": "execute_result"
    }
   ],
   "source": [
    "#Создаем отдельный датафрейм с действиями только тех пользователей, которые участвуют в тестировании\n",
    "test_events = events[events['user_id'].isin(test_participants['user_id'])]\n",
    "test_events = test_events.merge(test_participants, how = 'left', on = 'user_id')\n",
    "test_events = test_events.drop(['ab_test', 'device'], axis = 1)\n",
    "test_events"
   ]
  },
  {
   "cell_type": "code",
   "execution_count": 31,
   "id": "5686ba59",
   "metadata": {},
   "outputs": [
    {
     "name": "stdout",
     "output_type": "stream",
     "text": [
      "<class 'pandas.core.frame.DataFrame'>\n",
      "Int64Index: 73815 entries, 0 to 73814\n",
      "Data columns (total 5 columns):\n",
      " #   Column      Non-Null Count  Dtype         \n",
      "---  ------      --------------  -----         \n",
      " 0   user_id     73815 non-null  object        \n",
      " 1   event_dt    73815 non-null  datetime64[ns]\n",
      " 2   event_name  73815 non-null  object        \n",
      " 3   details     19450 non-null  object        \n",
      " 4   group       73815 non-null  object        \n",
      "dtypes: datetime64[ns](1), object(4)\n",
      "memory usage: 3.4+ MB\n"
     ]
    }
   ],
   "source": [
    "test_events.info()"
   ]
  },
  {
   "cell_type": "markdown",
   "id": "fBZ4DC2xswZJ",
   "metadata": {
    "id": "fBZ4DC2xswZJ"
   },
   "source": [
    "- определите горизонт анализа: рассчитайте время (лайфтайм) совершения события пользователем после регистрации и оставьте только те события, которые были выполнены в течение первых семи дней с момента регистрации;"
   ]
  },
  {
   "cell_type": "code",
   "execution_count": 32,
   "id": "4eab97fc",
   "metadata": {},
   "outputs": [],
   "source": [
    "#Приведем столбец с датой к формату даты\n",
    "test_events = test_events.copy()\n",
    "test_events['event_dt'] = pd.to_datetime(test_events['event_dt']).dt.date"
   ]
  },
  {
   "cell_type": "code",
   "execution_count": 33,
   "id": "sES4-dKts0Yb",
   "metadata": {
    "id": "sES4-dKts0Yb"
   },
   "outputs": [
    {
     "data": {
      "text/html": [
       "<div>\n",
       "<style scoped>\n",
       "    .dataframe tbody tr th:only-of-type {\n",
       "        vertical-align: middle;\n",
       "    }\n",
       "\n",
       "    .dataframe tbody tr th {\n",
       "        vertical-align: top;\n",
       "    }\n",
       "\n",
       "    .dataframe thead th {\n",
       "        text-align: right;\n",
       "    }\n",
       "</style>\n",
       "<table border=\"1\" class=\"dataframe\">\n",
       "  <thead>\n",
       "    <tr style=\"text-align: right;\">\n",
       "      <th></th>\n",
       "      <th>user_id</th>\n",
       "      <th>registration_dt</th>\n",
       "    </tr>\n",
       "  </thead>\n",
       "  <tbody>\n",
       "    <tr>\n",
       "      <th>0</th>\n",
       "      <td>5F506CEBEDC05D30</td>\n",
       "      <td>2020-12-06</td>\n",
       "    </tr>\n",
       "    <tr>\n",
       "      <th>1</th>\n",
       "      <td>51278A006E918D97</td>\n",
       "      <td>2020-12-06</td>\n",
       "    </tr>\n",
       "    <tr>\n",
       "      <th>2</th>\n",
       "      <td>A0C1E8EFAD874D8B</td>\n",
       "      <td>2020-12-06</td>\n",
       "    </tr>\n",
       "    <tr>\n",
       "      <th>3</th>\n",
       "      <td>275A8D6254ACF530</td>\n",
       "      <td>2020-12-06</td>\n",
       "    </tr>\n",
       "    <tr>\n",
       "      <th>4</th>\n",
       "      <td>0B704EB2DC7FCA4B</td>\n",
       "      <td>2020-12-06</td>\n",
       "    </tr>\n",
       "    <tr>\n",
       "      <th>...</th>\n",
       "      <td>...</td>\n",
       "      <td>...</td>\n",
       "    </tr>\n",
       "    <tr>\n",
       "      <th>9958</th>\n",
       "      <td>52B5A81EFC31AF1D</td>\n",
       "      <td>2020-12-23</td>\n",
       "    </tr>\n",
       "    <tr>\n",
       "      <th>9959</th>\n",
       "      <td>B1D88FBD4BA58E1B</td>\n",
       "      <td>2020-12-23</td>\n",
       "    </tr>\n",
       "    <tr>\n",
       "      <th>9960</th>\n",
       "      <td>38CA3A3C4FE3FEFD</td>\n",
       "      <td>2020-12-23</td>\n",
       "    </tr>\n",
       "    <tr>\n",
       "      <th>9961</th>\n",
       "      <td>16CCB1C8C4DCF1AF</td>\n",
       "      <td>2020-12-23</td>\n",
       "    </tr>\n",
       "    <tr>\n",
       "      <th>9962</th>\n",
       "      <td>2DDC948BD76ABC57</td>\n",
       "      <td>2020-12-24</td>\n",
       "    </tr>\n",
       "  </tbody>\n",
       "</table>\n",
       "<p>9963 rows × 2 columns</p>\n",
       "</div>"
      ],
      "text/plain": [
       "               user_id registration_dt\n",
       "0     5F506CEBEDC05D30      2020-12-06\n",
       "1     51278A006E918D97      2020-12-06\n",
       "2     A0C1E8EFAD874D8B      2020-12-06\n",
       "3     275A8D6254ACF530      2020-12-06\n",
       "4     0B704EB2DC7FCA4B      2020-12-06\n",
       "...                ...             ...\n",
       "9958  52B5A81EFC31AF1D      2020-12-23\n",
       "9959  B1D88FBD4BA58E1B      2020-12-23\n",
       "9960  38CA3A3C4FE3FEFD      2020-12-23\n",
       "9961  16CCB1C8C4DCF1AF      2020-12-23\n",
       "9962  2DDC948BD76ABC57      2020-12-24\n",
       "\n",
       "[9963 rows x 2 columns]"
      ]
     },
     "execution_count": 33,
     "metadata": {},
     "output_type": "execute_result"
    }
   ],
   "source": [
    "# Выделим дату регистрации каждого пользователя \n",
    "registration_dt = test_events[test_events['event_name'] == 'registration'] [['user_id', 'event_dt']].reset_index()\n",
    "registration_dt = registration_dt.rename(columns = {'event_dt':'registration_dt'})\n",
    "registration_dt['registration_dt'] = pd.to_datetime(registration_dt['registration_dt']).dt.date\n",
    "registration_dt = registration_dt.drop('index', axis = 1)\n",
    "registration_dt"
   ]
  },
  {
   "cell_type": "code",
   "execution_count": 34,
   "id": "1a44388b",
   "metadata": {},
   "outputs": [],
   "source": [
    "# Добавим столбец с датой регистрации каждого пользователя в датафрейм test_events\n",
    "test_events = test_events.merge(registration_dt, how = 'left', on = 'user_id')"
   ]
  },
  {
   "cell_type": "code",
   "execution_count": 35,
   "id": "0b6b885e",
   "metadata": {},
   "outputs": [
    {
     "data": {
      "text/html": [
       "<div>\n",
       "<style scoped>\n",
       "    .dataframe tbody tr th:only-of-type {\n",
       "        vertical-align: middle;\n",
       "    }\n",
       "\n",
       "    .dataframe tbody tr th {\n",
       "        vertical-align: top;\n",
       "    }\n",
       "\n",
       "    .dataframe thead th {\n",
       "        text-align: right;\n",
       "    }\n",
       "</style>\n",
       "<table border=\"1\" class=\"dataframe\">\n",
       "  <thead>\n",
       "    <tr style=\"text-align: right;\">\n",
       "      <th></th>\n",
       "      <th>user_id</th>\n",
       "      <th>event_dt</th>\n",
       "      <th>event_name</th>\n",
       "      <th>details</th>\n",
       "      <th>group</th>\n",
       "      <th>registration_dt</th>\n",
       "      <th>days_since_registration</th>\n",
       "    </tr>\n",
       "  </thead>\n",
       "  <tbody>\n",
       "    <tr>\n",
       "      <th>0</th>\n",
       "      <td>5F506CEBEDC05D30</td>\n",
       "      <td>2020-12-06</td>\n",
       "      <td>registration</td>\n",
       "      <td>0.0</td>\n",
       "      <td>A</td>\n",
       "      <td>2020-12-06</td>\n",
       "      <td>0</td>\n",
       "    </tr>\n",
       "    <tr>\n",
       "      <th>1</th>\n",
       "      <td>51278A006E918D97</td>\n",
       "      <td>2020-12-06</td>\n",
       "      <td>registration</td>\n",
       "      <td>-3.8</td>\n",
       "      <td>A</td>\n",
       "      <td>2020-12-06</td>\n",
       "      <td>0</td>\n",
       "    </tr>\n",
       "    <tr>\n",
       "      <th>2</th>\n",
       "      <td>A0C1E8EFAD874D8B</td>\n",
       "      <td>2020-12-06</td>\n",
       "      <td>registration</td>\n",
       "      <td>-3.32</td>\n",
       "      <td>B</td>\n",
       "      <td>2020-12-06</td>\n",
       "      <td>0</td>\n",
       "    </tr>\n",
       "    <tr>\n",
       "      <th>3</th>\n",
       "      <td>275A8D6254ACF530</td>\n",
       "      <td>2020-12-06</td>\n",
       "      <td>registration</td>\n",
       "      <td>-0.48</td>\n",
       "      <td>A</td>\n",
       "      <td>2020-12-06</td>\n",
       "      <td>0</td>\n",
       "    </tr>\n",
       "    <tr>\n",
       "      <th>4</th>\n",
       "      <td>0B704EB2DC7FCA4B</td>\n",
       "      <td>2020-12-06</td>\n",
       "      <td>registration</td>\n",
       "      <td>0.0</td>\n",
       "      <td>B</td>\n",
       "      <td>2020-12-06</td>\n",
       "      <td>0</td>\n",
       "    </tr>\n",
       "    <tr>\n",
       "      <th>...</th>\n",
       "      <td>...</td>\n",
       "      <td>...</td>\n",
       "      <td>...</td>\n",
       "      <td>...</td>\n",
       "      <td>...</td>\n",
       "      <td>...</td>\n",
       "      <td>...</td>\n",
       "    </tr>\n",
       "    <tr>\n",
       "      <th>73791</th>\n",
       "      <td>D4E530F6595A05A3</td>\n",
       "      <td>2020-12-29</td>\n",
       "      <td>product_cart</td>\n",
       "      <td>NaN</td>\n",
       "      <td>B</td>\n",
       "      <td>2020-12-22</td>\n",
       "      <td>7</td>\n",
       "    </tr>\n",
       "    <tr>\n",
       "      <th>73793</th>\n",
       "      <td>31DBDCA380DD035F</td>\n",
       "      <td>2020-12-29</td>\n",
       "      <td>product_page</td>\n",
       "      <td>NaN</td>\n",
       "      <td>B</td>\n",
       "      <td>2020-12-23</td>\n",
       "      <td>6</td>\n",
       "    </tr>\n",
       "    <tr>\n",
       "      <th>73797</th>\n",
       "      <td>E6D34EE376AADC42</td>\n",
       "      <td>2020-12-29</td>\n",
       "      <td>product_cart</td>\n",
       "      <td>NaN</td>\n",
       "      <td>A</td>\n",
       "      <td>2020-12-22</td>\n",
       "      <td>7</td>\n",
       "    </tr>\n",
       "    <tr>\n",
       "      <th>73798</th>\n",
       "      <td>E6D34EE376AADC42</td>\n",
       "      <td>2020-12-29</td>\n",
       "      <td>product_cart</td>\n",
       "      <td>NaN</td>\n",
       "      <td>A</td>\n",
       "      <td>2020-12-22</td>\n",
       "      <td>7</td>\n",
       "    </tr>\n",
       "    <tr>\n",
       "      <th>73799</th>\n",
       "      <td>E6D34EE376AADC42</td>\n",
       "      <td>2020-12-29</td>\n",
       "      <td>product_cart</td>\n",
       "      <td>NaN</td>\n",
       "      <td>A</td>\n",
       "      <td>2020-12-22</td>\n",
       "      <td>7</td>\n",
       "    </tr>\n",
       "  </tbody>\n",
       "</table>\n",
       "<p>64845 rows × 7 columns</p>\n",
       "</div>"
      ],
      "text/plain": [
       "                user_id    event_dt    event_name details group  \\\n",
       "0      5F506CEBEDC05D30  2020-12-06  registration     0.0     A   \n",
       "1      51278A006E918D97  2020-12-06  registration    -3.8     A   \n",
       "2      A0C1E8EFAD874D8B  2020-12-06  registration   -3.32     B   \n",
       "3      275A8D6254ACF530  2020-12-06  registration   -0.48     A   \n",
       "4      0B704EB2DC7FCA4B  2020-12-06  registration     0.0     B   \n",
       "...                 ...         ...           ...     ...   ...   \n",
       "73791  D4E530F6595A05A3  2020-12-29  product_cart     NaN     B   \n",
       "73793  31DBDCA380DD035F  2020-12-29  product_page     NaN     B   \n",
       "73797  E6D34EE376AADC42  2020-12-29  product_cart     NaN     A   \n",
       "73798  E6D34EE376AADC42  2020-12-29  product_cart     NaN     A   \n",
       "73799  E6D34EE376AADC42  2020-12-29  product_cart     NaN     A   \n",
       "\n",
       "      registration_dt  days_since_registration  \n",
       "0          2020-12-06                        0  \n",
       "1          2020-12-06                        0  \n",
       "2          2020-12-06                        0  \n",
       "3          2020-12-06                        0  \n",
       "4          2020-12-06                        0  \n",
       "...               ...                      ...  \n",
       "73791      2020-12-22                        7  \n",
       "73793      2020-12-23                        6  \n",
       "73797      2020-12-22                        7  \n",
       "73798      2020-12-22                        7  \n",
       "73799      2020-12-22                        7  \n",
       "\n",
       "[64845 rows x 7 columns]"
      ]
     },
     "execution_count": 35,
     "metadata": {},
     "output_type": "execute_result"
    }
   ],
   "source": [
    "# Добавим столбец с расчетом количества дней с даты регистрации пользователя\n",
    "test_events['days_since_registration'] = test_events['event_dt'] - test_events['registration_dt']\n",
    "test_events['days_since_registration'] = test_events['days_since_registration'].dt.days\n",
    "# Оставляем только те события, которые были совершены в течение первых семи дней после регистрации\n",
    "test_events = test_events[test_events['days_since_registration'] <= 7]\n",
    "test_events"
   ]
  },
  {
   "cell_type": "markdown",
   "id": "7cf1df48",
   "metadata": {},
   "source": [
    "Оцените достаточность выборки для получения статистически значимых результатов A/B-теста. Заданные параметры:\n",
    "\n",
    "- базовый показатель конверсии — 30%,\n",
    "\n",
    "- мощность теста — 80%,\n",
    "\n",
    "- достоверность теста — 95%."
   ]
  },
  {
   "cell_type": "code",
   "execution_count": 36,
   "id": "7d97b466",
   "metadata": {},
   "outputs": [
    {
     "name": "stdout",
     "output_type": "stream",
     "text": [
      "Необходимый размер выборки для каждой группы: 1569\n"
     ]
    }
   ],
   "source": [
    "from statsmodels.stats.power import NormalIndPower\n",
    "\n",
    "# Задаём параметры\n",
    "alpha = 0.05  \n",
    "beta = 0.2  \n",
    "power = 0.8  \n",
    "mde = 0.1  # в относительном выражении прирост 3 процентных пунктов к 30% составляет 10%\n",
    "\n",
    "# Инициализируем класс NormalIndPower\n",
    "power_analysis = NormalIndPower()\n",
    "\n",
    "# Рассчитываем размер выборки\n",
    "sample_size = power_analysis.solve_power(\n",
    "    effect_size = mde,\n",
    "    power = power,\n",
    "    alpha = alpha,\n",
    "    ratio = 1 # Равномерное распределение выборок\n",
    ")\n",
    "\n",
    "print(f\"Необходимый размер выборки для каждой группы: {int(sample_size)}\")"
   ]
  },
  {
   "cell_type": "markdown",
   "id": "74241dd4",
   "metadata": {},
   "source": [
    "В ходе A/B - тестирования были собраны выборки с достаточным количеством пользователей, чтобы провести анализ влияния изменений сайта на конверсию. "
   ]
  },
  {
   "cell_type": "markdown",
   "id": "SadyUDgZs0t3",
   "metadata": {
    "id": "SadyUDgZs0t3"
   },
   "source": [
    "- рассчитайте для каждой группы количество посетителей, сделавших покупку, и общее количество посетителей."
   ]
  },
  {
   "cell_type": "code",
   "execution_count": 37,
   "id": "7ph853Xks4sy",
   "metadata": {
    "id": "7ph853Xks4sy"
   },
   "outputs": [
    {
     "data": {
      "text/html": [
       "<div>\n",
       "<style scoped>\n",
       "    .dataframe tbody tr th:only-of-type {\n",
       "        vertical-align: middle;\n",
       "    }\n",
       "\n",
       "    .dataframe tbody tr th {\n",
       "        vertical-align: top;\n",
       "    }\n",
       "\n",
       "    .dataframe thead th {\n",
       "        text-align: right;\n",
       "    }\n",
       "</style>\n",
       "<table border=\"1\" class=\"dataframe\">\n",
       "  <thead>\n",
       "    <tr style=\"text-align: right;\">\n",
       "      <th></th>\n",
       "      <th>group</th>\n",
       "      <th>total_users</th>\n",
       "      <th>purchased_users</th>\n",
       "      <th>part_of_purchased</th>\n",
       "    </tr>\n",
       "  </thead>\n",
       "  <tbody>\n",
       "    <tr>\n",
       "      <th>0</th>\n",
       "      <td>A</td>\n",
       "      <td>4952</td>\n",
       "      <td>1411</td>\n",
       "      <td>0.28</td>\n",
       "    </tr>\n",
       "    <tr>\n",
       "      <th>1</th>\n",
       "      <td>B</td>\n",
       "      <td>5011</td>\n",
       "      <td>1519</td>\n",
       "      <td>0.30</td>\n",
       "    </tr>\n",
       "  </tbody>\n",
       "</table>\n",
       "</div>"
      ],
      "text/plain": [
       "  group  total_users  purchased_users  part_of_purchased\n",
       "0     A         4952             1411               0.28\n",
       "1     B         5011             1519               0.30"
      ]
     },
     "execution_count": 37,
     "metadata": {},
     "output_type": "execute_result"
    }
   ],
   "source": [
    "all_users = test_events.groupby('group').agg({'user_id':'nunique'})\n",
    "purchase_users = test_events[test_events['event_name'] == 'purchase'].groupby('group').agg({'user_id':'nunique'})\n",
    "table = all_users.merge(purchase_users, on = 'group').reset_index()\n",
    "table = table.rename(columns = {'user_id_x':'total_users', 'user_id_y': 'purchased_users'})\n",
    "table['part_of_purchased'] = round(table['purchased_users'] / table['total_users'],2)\n",
    "table "
   ]
  },
  {
   "cell_type": "markdown",
   "id": "sh1JpGvAs5E3",
   "metadata": {
    "id": "sh1JpGvAs5E3"
   },
   "source": [
    "- сделайте предварительный общий вывод об изменении пользовательской активности в тестовой группе по сравнению с контрольной."
   ]
  },
  {
   "cell_type": "markdown",
   "id": "8d9e918b",
   "metadata": {
    "id": "hHTHPkJYs8mE"
   },
   "source": [
    "По результатам тестирования, доля пользователей, совершивших покупку в тестовой группе (B) больше, чем в контрольной. Можно предположить, что упрощение интерфейса сайта положительно сказалось на конверсию пользователя в покупателя. Однако прирост составил только 2 процентных пунка вместо планируемых 3. Эффект от изменений есть - стоит узнать, насколько статистически значимы полученные результаты. "
   ]
  },
  {
   "cell_type": "markdown",
   "id": "IKZ1Oo3Ws919",
   "metadata": {
    "id": "IKZ1Oo3Ws919"
   },
   "source": [
    "## 4. Проведите оценку результатов A/B-тестирования:"
   ]
  },
  {
   "cell_type": "markdown",
   "id": "dcUdBSmvtC-E",
   "metadata": {
    "id": "dcUdBSmvtC-E"
   },
   "source": [
    "- Проверьте изменение конверсии подходящим статистическим тестом, учитывая все этапы проверки гипотез.\n",
    "\n",
    "Проверяемые гипотезы: \n",
    "\n",
    "\n",
    "Нулевая гипотеза $H_0: конверсия в группе B не больше, чем в группе A.\n",
    "\n",
    "Альтернативная гипотеза $H_1: конверсия в группе B превышает конверсию в группе A."
   ]
  },
  {
   "cell_type": "code",
   "execution_count": 38,
   "id": "l_KOziBQtL3t",
   "metadata": {
    "id": "l_KOziBQtL3t"
   },
   "outputs": [
    {
     "name": "stdout",
     "output_type": "stream",
     "text": [
      "Предпосылка о достаточном количестве данных выполняется!\n",
      "Нулевая гипотеза: упрощение интерфейса не сделало конверсию в группе В выше, чем в группе А\n",
      "Альтернативная гипотеза: упрощение интерфейса сайта повысило конверсию в группе В по сравнению с группой А\n",
      "pvalue=0.02\n",
      "Нулевая гипотеза не находит подтверждения! Упрощение интерфейса сайта увеличило долю успешных сессий\n"
     ]
    }
   ],
   "source": [
    "# Для определения статистической значимости изменения конверсии используем z-тест\n",
    "# Для начала проверим выполнение предпосылки о достаточном количестве данных \n",
    "# Количество зарегистрировавшихся пользователей\n",
    "n_a = table['total_users'][0]\n",
    "n_b = table['total_users'][1]\n",
    "# Количество успешных сессий\n",
    "m_a = table['purchased_users'][0]\n",
    "m_b = table['purchased_users'][1]\n",
    "# Доля успехов для каждой группы\n",
    "p_a, p_b = m_a/n_a, m_b/n_b\n",
    "\n",
    "if (p_a*n_a > 10)and((1-p_a)*n_a > 10)and(p_b*n_b > 10)and((1-p_b)*n_b > 10):\n",
    "    print('Предпосылка о достаточном количестве данных выполняется!')\n",
    "else:\n",
    "    print('Предпосылка о достаточном количестве данных не выполняется!')\n",
    "    \n",
    "# Устанавливаем уровень значимости     \n",
    "alpha = 0.05\n",
    "#Проводим тест\n",
    "print('Нулевая гипотеза: упрощение интерфейса не сделало конверсию в группе В выше, чем в группе А')\n",
    "print('Альтернативная гипотеза: упрощение интерфейса сайта повысило конверсию в группе В по сравнению с группой А')\n",
    "stat_ztest, p_value_ztest = proportions_ztest(\n",
    "    [m_a, m_b],\n",
    "    [n_a, n_b],\n",
    "    alternative= 'smaller'\n",
    ")\n",
    "print(f'pvalue={round(p_value_ztest,2)}')\n",
    "\n",
    "if p_value_ztest > alpha:\n",
    "    print('Нулевая гипотеза находит подтверждение! Упрощение интерфейса сайта не повлияло на долю успешных сессий')\n",
    "else:\n",
    "    print('Нулевая гипотеза не находит подтверждения! Упрощение интерфейса сайта увеличило долю успешных сессий')\n",
    "    "
   ]
  },
  {
   "cell_type": "markdown",
   "id": "9jkyKOjgtGoc",
   "metadata": {
    "id": "9jkyKOjgtGoc"
   },
   "source": [
    "- Опишите выводы по проведённой оценке результатов A/B-тестирования. Что можно сказать про результаты A/B-тестирования? Был ли достигнут ожидаемый эффект в изменении конверсии?"
   ]
  },
  {
   "cell_type": "markdown",
   "id": "1344f7a4",
   "metadata": {},
   "source": [
    "A/B-тестирование показало статистически значимый результат p-value = 0.02 (< 0.05), позволяеющий отвергнуть нулевую гипотезу и принять альтернативную. А значит, урощение интерфейса действительно положительно повлияло на конверсию в группе B - упрощенный интерфейс увеличил долю успешных сессий (покупок) по сравнению со старой версией не на планируемые 3 процентных пункта, но на 2,  что недостаточно много, но тем не менее является ститистически значимым. Мы рекомендуем внедрить новую версию интерфейса для всех пользователей, так как она доказала свою эффективность."
   ]
  }
 ],
 "metadata": {
  "ExecuteTimeLog": [
   {
    "duration": 1224,
    "start_time": "2025-04-23T18:24:52.993Z"
   },
   {
    "duration": 67,
    "start_time": "2025-04-23T18:26:01.093Z"
   },
   {
    "duration": 2,
    "start_time": "2025-04-23T18:26:18.126Z"
   },
   {
    "duration": 64,
    "start_time": "2025-04-23T18:26:18.475Z"
   },
   {
    "duration": 58,
    "start_time": "2025-04-23T18:26:25.700Z"
   },
   {
    "duration": 92,
    "start_time": "2025-04-23T18:28:43.666Z"
   },
   {
    "duration": 12,
    "start_time": "2025-04-23T18:28:46.061Z"
   },
   {
    "duration": 13,
    "start_time": "2025-04-23T18:29:38.346Z"
   },
   {
    "duration": 13,
    "start_time": "2025-04-23T18:29:51.697Z"
   },
   {
    "duration": 5,
    "start_time": "2025-04-23T18:30:16.071Z"
   },
   {
    "duration": 10,
    "start_time": "2025-04-23T18:30:30.982Z"
   },
   {
    "duration": 19,
    "start_time": "2025-04-23T18:35:01.868Z"
   },
   {
    "duration": 16,
    "start_time": "2025-04-23T18:35:12.938Z"
   },
   {
    "duration": 15,
    "start_time": "2025-04-23T18:35:22.783Z"
   },
   {
    "duration": 1428,
    "start_time": "2025-04-24T13:46:22.600Z"
   },
   {
    "duration": 45,
    "start_time": "2025-04-24T13:46:24.030Z"
   },
   {
    "duration": 22,
    "start_time": "2025-04-24T13:46:24.077Z"
   },
   {
    "duration": 1719,
    "start_time": "2025-04-24T13:46:24.103Z"
   },
   {
    "duration": 9,
    "start_time": "2025-04-24T13:50:08.331Z"
   },
   {
    "duration": 6,
    "start_time": "2025-04-24T13:50:32.520Z"
   },
   {
    "duration": 11,
    "start_time": "2025-04-24T13:51:10.632Z"
   },
   {
    "duration": 10,
    "start_time": "2025-04-24T13:51:15.885Z"
   },
   {
    "duration": 66,
    "start_time": "2025-04-24T13:52:29.683Z"
   },
   {
    "duration": 71,
    "start_time": "2025-04-24T13:52:48.146Z"
   },
   {
    "duration": 62,
    "start_time": "2025-04-24T13:52:56.805Z"
   },
   {
    "duration": 70,
    "start_time": "2025-04-24T13:53:04.526Z"
   },
   {
    "duration": 10,
    "start_time": "2025-04-24T13:53:12.782Z"
   },
   {
    "duration": 8,
    "start_time": "2025-04-24T13:53:46.626Z"
   },
   {
    "duration": 9,
    "start_time": "2025-04-24T13:53:52.182Z"
   },
   {
    "duration": 18,
    "start_time": "2025-04-24T13:54:49.107Z"
   },
   {
    "duration": 16,
    "start_time": "2025-04-24T13:55:07.414Z"
   },
   {
    "duration": 100,
    "start_time": "2025-04-24T13:55:42.280Z"
   },
   {
    "duration": 14,
    "start_time": "2025-04-24T13:55:44.989Z"
   },
   {
    "duration": 104,
    "start_time": "2025-04-24T13:57:12.615Z"
   },
   {
    "duration": 10,
    "start_time": "2025-04-24T13:57:20.415Z"
   },
   {
    "duration": 14,
    "start_time": "2025-04-24T13:57:29.141Z"
   },
   {
    "duration": 230,
    "start_time": "2025-04-24T13:59:47.482Z"
   },
   {
    "duration": 65,
    "start_time": "2025-04-24T14:00:03.017Z"
   },
   {
    "duration": 72,
    "start_time": "2025-04-24T14:00:07.069Z"
   },
   {
    "duration": 71,
    "start_time": "2025-04-24T14:00:17.294Z"
   },
   {
    "duration": 10,
    "start_time": "2025-04-24T14:00:28.548Z"
   },
   {
    "duration": 100,
    "start_time": "2025-04-24T14:00:46.142Z"
   },
   {
    "duration": 10,
    "start_time": "2025-04-24T14:00:51.728Z"
   },
   {
    "duration": 370,
    "start_time": "2025-04-24T14:01:52.223Z"
   },
   {
    "duration": 15,
    "start_time": "2025-04-24T14:01:58.557Z"
   },
   {
    "duration": 5,
    "start_time": "2025-04-24T14:05:31.956Z"
   },
   {
    "duration": 2,
    "start_time": "2025-04-24T14:06:00.397Z"
   },
   {
    "duration": 6,
    "start_time": "2025-04-24T14:07:24.245Z"
   },
   {
    "duration": 7,
    "start_time": "2025-04-24T14:08:02.629Z"
   },
   {
    "duration": 6,
    "start_time": "2025-04-24T14:08:17.791Z"
   },
   {
    "duration": 7,
    "start_time": "2025-04-24T14:09:00.995Z"
   },
   {
    "duration": 7,
    "start_time": "2025-04-24T14:09:47.017Z"
   },
   {
    "duration": 1195,
    "start_time": "2025-04-24T14:09:54.623Z"
   },
   {
    "duration": 93,
    "start_time": "2025-04-24T14:09:55.821Z"
   },
   {
    "duration": 22,
    "start_time": "2025-04-24T14:09:55.915Z"
   },
   {
    "duration": 8,
    "start_time": "2025-04-24T14:09:55.939Z"
   },
   {
    "duration": 41,
    "start_time": "2025-04-24T14:09:55.949Z"
   },
   {
    "duration": 3,
    "start_time": "2025-04-24T14:09:55.992Z"
   },
   {
    "duration": 22,
    "start_time": "2025-04-24T14:09:56.004Z"
   },
   {
    "duration": 1795,
    "start_time": "2025-04-24T14:09:56.029Z"
   },
   {
    "duration": 7,
    "start_time": "2025-04-24T14:10:32.974Z"
   },
   {
    "duration": 7,
    "start_time": "2025-04-24T14:10:44.091Z"
   },
   {
    "duration": 8,
    "start_time": "2025-04-24T14:11:08.338Z"
   },
   {
    "duration": 8,
    "start_time": "2025-04-24T14:18:21.992Z"
   },
   {
    "duration": 8,
    "start_time": "2025-04-24T14:18:25.053Z"
   },
   {
    "duration": 241,
    "start_time": "2025-04-24T14:19:22.977Z"
   },
   {
    "duration": 107,
    "start_time": "2025-04-24T14:19:32.570Z"
   },
   {
    "duration": 113,
    "start_time": "2025-04-24T14:20:47.593Z"
   },
   {
    "duration": 115,
    "start_time": "2025-04-24T14:20:52.106Z"
   },
   {
    "duration": 134,
    "start_time": "2025-04-24T14:21:08.359Z"
   },
   {
    "duration": 144,
    "start_time": "2025-04-24T14:21:26.502Z"
   },
   {
    "duration": 183,
    "start_time": "2025-04-24T14:21:36.652Z"
   },
   {
    "duration": 219,
    "start_time": "2025-04-24T14:22:00.708Z"
   },
   {
    "duration": 200,
    "start_time": "2025-04-24T14:22:22.621Z"
   },
   {
    "duration": 294,
    "start_time": "2025-04-24T14:22:24.672Z"
   },
   {
    "duration": 11,
    "start_time": "2025-04-24T14:23:31.985Z"
   },
   {
    "duration": 199,
    "start_time": "2025-04-24T14:23:36.172Z"
   },
   {
    "duration": 206,
    "start_time": "2025-04-24T14:23:50.134Z"
   },
   {
    "duration": 113,
    "start_time": "2025-04-24T14:24:03.648Z"
   },
   {
    "duration": 108,
    "start_time": "2025-04-24T14:24:41.231Z"
   },
   {
    "duration": 115,
    "start_time": "2025-04-24T14:24:59.558Z"
   },
   {
    "duration": 118,
    "start_time": "2025-04-24T14:25:39.040Z"
   },
   {
    "duration": 224,
    "start_time": "2025-04-24T14:26:28.301Z"
   },
   {
    "duration": 184,
    "start_time": "2025-04-24T14:29:10.716Z"
   },
   {
    "duration": 189,
    "start_time": "2025-04-24T14:29:39.440Z"
   },
   {
    "duration": 195,
    "start_time": "2025-04-24T14:30:19.370Z"
   },
   {
    "duration": 311,
    "start_time": "2025-04-24T14:30:26.101Z"
   },
   {
    "duration": 197,
    "start_time": "2025-04-24T14:30:46.685Z"
   },
   {
    "duration": 200,
    "start_time": "2025-04-24T14:31:00.236Z"
   },
   {
    "duration": 195,
    "start_time": "2025-04-24T14:31:10.222Z"
   },
   {
    "duration": 114,
    "start_time": "2025-04-24T14:31:37.356Z"
   },
   {
    "duration": 108,
    "start_time": "2025-04-24T14:32:12.007Z"
   },
   {
    "duration": 113,
    "start_time": "2025-04-24T14:32:23.514Z"
   },
   {
    "duration": 10,
    "start_time": "2025-04-24T14:33:08.290Z"
   },
   {
    "duration": 6,
    "start_time": "2025-04-24T14:40:46.674Z"
   },
   {
    "duration": 6,
    "start_time": "2025-04-24T14:41:13.053Z"
   },
   {
    "duration": 7,
    "start_time": "2025-04-24T14:41:31.937Z"
   },
   {
    "duration": 4,
    "start_time": "2025-04-24T14:41:42.730Z"
   },
   {
    "duration": 1194,
    "start_time": "2025-04-24T14:41:58.921Z"
   },
   {
    "duration": 42,
    "start_time": "2025-04-24T14:42:00.117Z"
   },
   {
    "duration": 54,
    "start_time": "2025-04-24T14:42:00.161Z"
   },
   {
    "duration": 52,
    "start_time": "2025-04-24T14:42:00.217Z"
   },
   {
    "duration": 93,
    "start_time": "2025-04-24T14:42:00.271Z"
   },
   {
    "duration": 60,
    "start_time": "2025-04-24T14:42:00.366Z"
   },
   {
    "duration": 70,
    "start_time": "2025-04-24T14:42:00.427Z"
   },
   {
    "duration": 23,
    "start_time": "2025-04-24T14:42:00.499Z"
   },
   {
    "duration": 248,
    "start_time": "2025-04-24T14:42:00.524Z"
   },
   {
    "duration": 117,
    "start_time": "2025-04-24T14:42:00.775Z"
   },
   {
    "duration": 10,
    "start_time": "2025-04-24T14:42:00.894Z"
   },
   {
    "duration": 22,
    "start_time": "2025-04-24T14:42:00.906Z"
   },
   {
    "duration": 249,
    "start_time": "2025-04-24T14:42:00.930Z"
   },
   {
    "duration": 1623,
    "start_time": "2025-04-24T14:42:01.181Z"
   },
   {
    "duration": 6,
    "start_time": "2025-04-24T14:42:49.594Z"
   },
   {
    "duration": 9,
    "start_time": "2025-04-24T14:43:26.330Z"
   },
   {
    "duration": 110,
    "start_time": "2025-04-24T14:45:41.081Z"
   },
   {
    "duration": 1292,
    "start_time": "2025-04-24T14:45:50.989Z"
   },
   {
    "duration": 135,
    "start_time": "2025-04-24T14:46:06.923Z"
   },
   {
    "duration": 144,
    "start_time": "2025-04-24T14:46:56.720Z"
   },
   {
    "duration": 133,
    "start_time": "2025-04-24T14:47:24.429Z"
   },
   {
    "duration": 141,
    "start_time": "2025-04-24T14:47:55.938Z"
   },
   {
    "duration": 12,
    "start_time": "2025-04-24T14:48:00.193Z"
   },
   {
    "duration": 141,
    "start_time": "2025-04-24T14:48:04.044Z"
   },
   {
    "duration": 139,
    "start_time": "2025-04-24T14:48:05.932Z"
   },
   {
    "duration": 210,
    "start_time": "2025-04-24T14:51:40.872Z"
   },
   {
    "duration": 144,
    "start_time": "2025-04-24T14:51:49.691Z"
   },
   {
    "duration": 130,
    "start_time": "2025-04-24T14:52:20.683Z"
   },
   {
    "duration": 10,
    "start_time": "2025-04-24T14:55:43.942Z"
   },
   {
    "duration": 11,
    "start_time": "2025-04-24T14:56:11.354Z"
   },
   {
    "duration": 10,
    "start_time": "2025-04-24T14:56:44.833Z"
   },
   {
    "duration": 16,
    "start_time": "2025-04-24T14:56:59.699Z"
   },
   {
    "duration": 16,
    "start_time": "2025-04-24T14:57:08.667Z"
   },
   {
    "duration": 13,
    "start_time": "2025-04-24T14:57:15.891Z"
   },
   {
    "duration": 16,
    "start_time": "2025-04-24T14:57:43.313Z"
   },
   {
    "duration": 72,
    "start_time": "2025-04-24T15:08:53.302Z"
   },
   {
    "duration": 9,
    "start_time": "2025-04-24T15:09:04.756Z"
   },
   {
    "duration": 66,
    "start_time": "2025-04-24T15:12:21.901Z"
   },
   {
    "duration": 12,
    "start_time": "2025-04-24T15:12:49.651Z"
   },
   {
    "duration": 10,
    "start_time": "2025-04-24T15:12:55.598Z"
   },
   {
    "duration": 11,
    "start_time": "2025-04-24T15:13:02.739Z"
   },
   {
    "duration": 10,
    "start_time": "2025-04-24T15:19:04.410Z"
   },
   {
    "duration": 6,
    "start_time": "2025-04-24T15:34:45.534Z"
   },
   {
    "duration": 15,
    "start_time": "2025-04-24T15:34:51.741Z"
   },
   {
    "duration": 11,
    "start_time": "2025-04-24T15:35:42.213Z"
   },
   {
    "duration": 9,
    "start_time": "2025-04-24T15:36:01.432Z"
   },
   {
    "duration": 7,
    "start_time": "2025-04-24T15:36:10.237Z"
   },
   {
    "duration": 8,
    "start_time": "2025-04-24T15:38:37.427Z"
   },
   {
    "duration": 8,
    "start_time": "2025-04-24T15:38:51.165Z"
   },
   {
    "duration": 12,
    "start_time": "2025-04-24T15:39:00.524Z"
   },
   {
    "duration": 14,
    "start_time": "2025-04-24T15:39:16.914Z"
   },
   {
    "duration": 126,
    "start_time": "2025-04-24T15:40:41.168Z"
   },
   {
    "duration": 134,
    "start_time": "2025-04-24T15:40:56.672Z"
   },
   {
    "duration": 137,
    "start_time": "2025-04-24T15:41:08.840Z"
   },
   {
    "duration": 132,
    "start_time": "2025-04-24T15:41:15.224Z"
   },
   {
    "duration": 147,
    "start_time": "2025-04-24T15:41:18.295Z"
   },
   {
    "duration": 125,
    "start_time": "2025-04-24T15:41:38.273Z"
   },
   {
    "duration": 13,
    "start_time": "2025-04-24T15:42:59.552Z"
   },
   {
    "duration": 14,
    "start_time": "2025-04-24T15:43:27.427Z"
   },
   {
    "duration": 13,
    "start_time": "2025-04-24T15:43:53.345Z"
   },
   {
    "duration": 14,
    "start_time": "2025-04-24T15:43:55.999Z"
   },
   {
    "duration": 14,
    "start_time": "2025-04-24T15:44:32.207Z"
   },
   {
    "duration": 432,
    "start_time": "2025-04-24T15:49:22.941Z"
   },
   {
    "duration": 336,
    "start_time": "2025-04-24T15:50:20.793Z"
   },
   {
    "duration": 436,
    "start_time": "2025-04-24T15:51:56.234Z"
   },
   {
    "duration": 11,
    "start_time": "2025-04-24T15:55:24.040Z"
   },
   {
    "duration": 14,
    "start_time": "2025-04-24T15:55:38.689Z"
   },
   {
    "duration": 9,
    "start_time": "2025-04-24T15:58:49.760Z"
   },
   {
    "duration": 1527,
    "start_time": "2025-04-24T15:59:02.958Z"
   },
   {
    "duration": 16,
    "start_time": "2025-04-24T15:59:08.973Z"
   },
   {
    "duration": 9,
    "start_time": "2025-04-24T16:01:13.730Z"
   },
   {
    "duration": 7,
    "start_time": "2025-04-24T16:01:18.381Z"
   },
   {
    "duration": 15,
    "start_time": "2025-04-24T16:02:00.711Z"
   },
   {
    "duration": 16,
    "start_time": "2025-04-24T16:03:14.259Z"
   },
   {
    "duration": 7,
    "start_time": "2025-04-24T16:03:44.766Z"
   },
   {
    "duration": 14,
    "start_time": "2025-04-24T16:03:48.403Z"
   },
   {
    "duration": 11,
    "start_time": "2025-04-24T16:04:02.892Z"
   },
   {
    "duration": 12,
    "start_time": "2025-04-24T16:04:14.592Z"
   },
   {
    "duration": 15,
    "start_time": "2025-04-24T16:04:21.712Z"
   },
   {
    "duration": 16,
    "start_time": "2025-04-24T16:04:27.857Z"
   },
   {
    "duration": 4,
    "start_time": "2025-04-24T16:07:54.558Z"
   },
   {
    "duration": 79,
    "start_time": "2025-04-24T16:08:04.123Z"
   },
   {
    "duration": 94,
    "start_time": "2025-04-24T16:08:08.059Z"
   },
   {
    "duration": 69,
    "start_time": "2025-04-24T16:08:11.781Z"
   },
   {
    "duration": 10,
    "start_time": "2025-04-24T16:08:35.853Z"
   },
   {
    "duration": 16,
    "start_time": "2025-04-24T16:08:50.166Z"
   },
   {
    "duration": 9,
    "start_time": "2025-04-24T16:08:52.489Z"
   },
   {
    "duration": 11,
    "start_time": "2025-04-24T16:09:18.989Z"
   },
   {
    "duration": 15,
    "start_time": "2025-04-24T16:09:30.982Z"
   },
   {
    "duration": 18,
    "start_time": "2025-04-24T16:09:45.319Z"
   },
   {
    "duration": 16,
    "start_time": "2025-04-24T16:10:29.861Z"
   },
   {
    "duration": 13,
    "start_time": "2025-04-24T16:10:36.192Z"
   },
   {
    "duration": 11,
    "start_time": "2025-04-24T16:10:43.393Z"
   },
   {
    "duration": 20,
    "start_time": "2025-04-24T16:11:32.670Z"
   },
   {
    "duration": 14,
    "start_time": "2025-04-24T16:11:40.812Z"
   },
   {
    "duration": 6,
    "start_time": "2025-04-24T16:12:28.692Z"
   },
   {
    "duration": 14,
    "start_time": "2025-04-24T16:12:41.764Z"
   },
   {
    "duration": 6,
    "start_time": "2025-04-24T16:12:51.316Z"
   },
   {
    "duration": 14,
    "start_time": "2025-04-24T16:13:42.478Z"
   },
   {
    "duration": 16,
    "start_time": "2025-04-24T16:14:28.684Z"
   },
   {
    "duration": 6,
    "start_time": "2025-04-24T16:15:24.305Z"
   },
   {
    "duration": 69,
    "start_time": "2025-04-24T16:16:16.369Z"
   },
   {
    "duration": 13,
    "start_time": "2025-04-24T16:16:51.735Z"
   },
   {
    "duration": 1360,
    "start_time": "2025-04-24T16:17:03.962Z"
   },
   {
    "duration": 86,
    "start_time": "2025-04-24T16:17:05.324Z"
   },
   {
    "duration": 82,
    "start_time": "2025-04-24T16:17:05.412Z"
   },
   {
    "duration": 178,
    "start_time": "2025-04-24T16:17:05.497Z"
   },
   {
    "duration": 26,
    "start_time": "2025-04-24T16:17:05.677Z"
   },
   {
    "duration": 7,
    "start_time": "2025-04-24T16:17:05.706Z"
   },
   {
    "duration": 49,
    "start_time": "2025-04-24T16:17:05.715Z"
   },
   {
    "duration": 119,
    "start_time": "2025-04-24T16:17:05.766Z"
   },
   {
    "duration": 249,
    "start_time": "2025-04-24T16:17:05.886Z"
   },
   {
    "duration": 115,
    "start_time": "2025-04-24T16:17:06.138Z"
   },
   {
    "duration": 6,
    "start_time": "2025-04-24T16:17:06.255Z"
   },
   {
    "duration": 16,
    "start_time": "2025-04-24T16:17:06.263Z"
   },
   {
    "duration": 30,
    "start_time": "2025-04-24T16:17:06.281Z"
   },
   {
    "duration": 264,
    "start_time": "2025-04-24T16:17:06.313Z"
   },
   {
    "duration": 16,
    "start_time": "2025-04-24T16:17:06.579Z"
   },
   {
    "duration": 10,
    "start_time": "2025-04-24T16:17:06.604Z"
   },
   {
    "duration": 1710,
    "start_time": "2025-04-24T16:17:06.616Z"
   },
   {
    "duration": 12,
    "start_time": "2025-04-24T16:17:08.329Z"
   },
   {
    "duration": 128,
    "start_time": "2025-04-24T16:17:08.343Z"
   },
   {
    "duration": 28,
    "start_time": "2025-04-24T16:17:08.473Z"
   },
   {
    "duration": 61,
    "start_time": "2025-04-24T16:17:08.502Z"
   },
   {
    "duration": 12,
    "start_time": "2025-04-24T16:17:08.565Z"
   },
   {
    "duration": 148,
    "start_time": "2025-04-24T16:17:08.578Z"
   },
   {
    "duration": 377,
    "start_time": "2025-04-24T16:17:08.727Z"
   },
   {
    "duration": 333,
    "start_time": "2025-04-24T16:17:09.106Z"
   },
   {
    "duration": 14,
    "start_time": "2025-04-24T16:17:09.441Z"
   },
   {
    "duration": 70,
    "start_time": "2025-04-24T16:20:24.176Z"
   },
   {
    "duration": 79,
    "start_time": "2025-04-24T16:20:52.551Z"
   },
   {
    "duration": 14,
    "start_time": "2025-04-24T16:21:08.064Z"
   },
   {
    "duration": 106,
    "start_time": "2025-04-24T16:29:22.839Z"
   },
   {
    "duration": 37,
    "start_time": "2025-04-24T16:30:18.037Z"
   },
   {
    "duration": 15,
    "start_time": "2025-04-24T16:31:03.750Z"
   },
   {
    "duration": 39,
    "start_time": "2025-04-24T16:31:17.035Z"
   },
   {
    "duration": 40,
    "start_time": "2025-04-24T16:32:06.508Z"
   },
   {
    "duration": 40,
    "start_time": "2025-04-24T16:32:52.133Z"
   },
   {
    "duration": 42,
    "start_time": "2025-04-24T16:32:58.029Z"
   },
   {
    "duration": 40,
    "start_time": "2025-04-24T16:33:30.829Z"
   },
   {
    "duration": 28,
    "start_time": "2025-04-24T16:33:34.846Z"
   },
   {
    "duration": 6,
    "start_time": "2025-04-24T16:34:19.598Z"
   },
   {
    "duration": 67,
    "start_time": "2025-04-24T16:34:38.282Z"
   },
   {
    "duration": 49,
    "start_time": "2025-04-24T16:37:05.568Z"
   },
   {
    "duration": 41,
    "start_time": "2025-04-24T16:37:28.110Z"
   },
   {
    "duration": 42,
    "start_time": "2025-04-24T16:37:34.386Z"
   },
   {
    "duration": 36,
    "start_time": "2025-04-24T16:37:57.207Z"
   },
   {
    "duration": 121,
    "start_time": "2025-04-24T16:38:21.993Z"
   },
   {
    "duration": 13,
    "start_time": "2025-04-24T16:38:33.728Z"
   },
   {
    "duration": 28,
    "start_time": "2025-04-24T16:38:55.844Z"
   },
   {
    "duration": 37,
    "start_time": "2025-04-24T16:39:19.212Z"
   },
   {
    "duration": 30,
    "start_time": "2025-04-24T16:39:21.653Z"
   },
   {
    "duration": 14,
    "start_time": "2025-04-24T16:39:41.421Z"
   },
   {
    "duration": 23,
    "start_time": "2025-04-24T16:39:47.153Z"
   },
   {
    "duration": 22,
    "start_time": "2025-04-24T16:41:02.443Z"
   },
   {
    "duration": 125,
    "start_time": "2025-04-24T16:41:12.790Z"
   },
   {
    "duration": 49,
    "start_time": "2025-04-24T16:41:15.905Z"
   },
   {
    "duration": 68,
    "start_time": "2025-04-24T16:41:16.462Z"
   },
   {
    "duration": 64,
    "start_time": "2025-04-24T16:42:32.011Z"
   },
   {
    "duration": 16,
    "start_time": "2025-04-24T16:42:37.547Z"
   },
   {
    "duration": 62,
    "start_time": "2025-04-24T16:43:15.271Z"
   },
   {
    "duration": 62,
    "start_time": "2025-04-24T16:43:21.503Z"
   },
   {
    "duration": 63,
    "start_time": "2025-04-24T16:43:23.926Z"
   },
   {
    "duration": 79,
    "start_time": "2025-04-24T16:43:53.227Z"
   },
   {
    "duration": 85,
    "start_time": "2025-04-24T16:45:33.374Z"
   },
   {
    "duration": 12,
    "start_time": "2025-04-24T16:48:17.452Z"
   },
   {
    "duration": 19,
    "start_time": "2025-04-24T16:48:28.387Z"
   },
   {
    "duration": 26,
    "start_time": "2025-04-24T16:48:47.327Z"
   },
   {
    "duration": 11,
    "start_time": "2025-04-24T16:48:57.711Z"
   },
   {
    "duration": 1247,
    "start_time": "2025-04-24T16:49:09.818Z"
   },
   {
    "duration": 50,
    "start_time": "2025-04-24T16:49:11.067Z"
   },
   {
    "duration": 25,
    "start_time": "2025-04-24T16:49:11.120Z"
   },
   {
    "duration": 15,
    "start_time": "2025-04-24T16:49:11.147Z"
   },
   {
    "duration": 38,
    "start_time": "2025-04-24T16:49:11.164Z"
   },
   {
    "duration": 3,
    "start_time": "2025-04-24T16:49:11.203Z"
   },
   {
    "duration": 22,
    "start_time": "2025-04-24T16:49:11.207Z"
   },
   {
    "duration": 16,
    "start_time": "2025-04-24T16:49:11.230Z"
   },
   {
    "duration": 215,
    "start_time": "2025-04-24T16:49:11.247Z"
   },
   {
    "duration": 119,
    "start_time": "2025-04-24T16:49:11.463Z"
   },
   {
    "duration": 6,
    "start_time": "2025-04-24T16:49:11.583Z"
   },
   {
    "duration": 113,
    "start_time": "2025-04-24T16:49:11.591Z"
   },
   {
    "duration": 16,
    "start_time": "2025-04-24T16:49:11.707Z"
   },
   {
    "duration": 158,
    "start_time": "2025-04-24T16:49:11.725Z"
   },
   {
    "duration": 20,
    "start_time": "2025-04-24T16:49:11.885Z"
   },
   {
    "duration": 10,
    "start_time": "2025-04-24T16:49:11.907Z"
   },
   {
    "duration": 1632,
    "start_time": "2025-04-24T16:49:11.919Z"
   },
   {
    "duration": 11,
    "start_time": "2025-04-24T16:49:13.553Z"
   },
   {
    "duration": 50,
    "start_time": "2025-04-24T16:49:13.566Z"
   },
   {
    "duration": 98,
    "start_time": "2025-04-24T16:49:13.618Z"
   },
   {
    "duration": 15,
    "start_time": "2025-04-24T16:49:13.718Z"
   },
   {
    "duration": 12,
    "start_time": "2025-04-24T16:49:13.735Z"
   },
   {
    "duration": 131,
    "start_time": "2025-04-24T16:49:13.750Z"
   },
   {
    "duration": 381,
    "start_time": "2025-04-24T16:49:13.883Z"
   },
   {
    "duration": 349,
    "start_time": "2025-04-24T16:49:14.266Z"
   },
   {
    "duration": 87,
    "start_time": "2025-04-24T16:49:14.617Z"
   },
   {
    "duration": 39,
    "start_time": "2025-04-24T16:49:14.707Z"
   },
   {
    "duration": 63,
    "start_time": "2025-04-24T16:49:14.748Z"
   },
   {
    "duration": 123,
    "start_time": "2025-04-24T16:49:14.814Z"
   },
   {
    "duration": 39,
    "start_time": "2025-04-24T16:49:21.450Z"
   },
   {
    "duration": 12,
    "start_time": "2025-04-24T16:49:48.813Z"
   },
   {
    "duration": 37,
    "start_time": "2025-04-24T16:50:43.502Z"
   },
   {
    "duration": 43,
    "start_time": "2025-04-24T16:50:45.731Z"
   },
   {
    "duration": 13,
    "start_time": "2025-04-24T16:50:46.281Z"
   },
   {
    "duration": 1199,
    "start_time": "2025-04-24T16:50:55.120Z"
   },
   {
    "duration": 46,
    "start_time": "2025-04-24T16:50:56.321Z"
   },
   {
    "duration": 23,
    "start_time": "2025-04-24T16:50:56.368Z"
   },
   {
    "duration": 14,
    "start_time": "2025-04-24T16:50:56.393Z"
   },
   {
    "duration": 17,
    "start_time": "2025-04-24T16:50:56.410Z"
   },
   {
    "duration": 3,
    "start_time": "2025-04-24T16:50:56.429Z"
   },
   {
    "duration": 25,
    "start_time": "2025-04-24T16:50:56.434Z"
   },
   {
    "duration": 17,
    "start_time": "2025-04-24T16:50:56.461Z"
   },
   {
    "duration": 213,
    "start_time": "2025-04-24T16:50:56.480Z"
   },
   {
    "duration": 119,
    "start_time": "2025-04-24T16:50:56.695Z"
   },
   {
    "duration": 6,
    "start_time": "2025-04-24T16:50:56.816Z"
   },
   {
    "duration": 11,
    "start_time": "2025-04-24T16:50:56.823Z"
   },
   {
    "duration": 20,
    "start_time": "2025-04-24T16:50:56.835Z"
   },
   {
    "duration": 155,
    "start_time": "2025-04-24T16:50:56.857Z"
   },
   {
    "duration": 15,
    "start_time": "2025-04-24T16:50:57.013Z"
   },
   {
    "duration": 9,
    "start_time": "2025-04-24T16:50:57.030Z"
   },
   {
    "duration": 1719,
    "start_time": "2025-04-24T16:50:57.041Z"
   },
   {
    "duration": 12,
    "start_time": "2025-04-24T16:50:58.762Z"
   },
   {
    "duration": 64,
    "start_time": "2025-04-24T16:50:58.775Z"
   },
   {
    "duration": 6,
    "start_time": "2025-04-24T16:50:58.841Z"
   },
   {
    "duration": 13,
    "start_time": "2025-04-24T16:50:58.849Z"
   },
   {
    "duration": 14,
    "start_time": "2025-04-24T16:50:58.864Z"
   },
   {
    "duration": 142,
    "start_time": "2025-04-24T16:50:58.880Z"
   },
   {
    "duration": 373,
    "start_time": "2025-04-24T16:50:59.024Z"
   },
   {
    "duration": 330,
    "start_time": "2025-04-24T16:50:59.403Z"
   },
   {
    "duration": 86,
    "start_time": "2025-04-24T16:50:59.735Z"
   },
   {
    "duration": 24,
    "start_time": "2025-04-24T16:50:59.823Z"
   },
   {
    "duration": 66,
    "start_time": "2025-04-24T16:50:59.850Z"
   },
   {
    "duration": 143,
    "start_time": "2025-04-24T16:50:59.918Z"
   },
   {
    "duration": 42,
    "start_time": "2025-04-24T16:51:03.539Z"
   },
   {
    "duration": 37,
    "start_time": "2025-04-24T16:51:05.391Z"
   },
   {
    "duration": 40,
    "start_time": "2025-04-24T16:51:23.771Z"
   },
   {
    "duration": 40,
    "start_time": "2025-04-24T16:51:33.340Z"
   },
   {
    "duration": 38,
    "start_time": "2025-04-24T16:51:36.638Z"
   },
   {
    "duration": 1123,
    "start_time": "2025-04-24T16:51:41.371Z"
   },
   {
    "duration": 59,
    "start_time": "2025-04-24T16:51:42.496Z"
   },
   {
    "duration": 31,
    "start_time": "2025-04-24T16:51:42.557Z"
   },
   {
    "duration": 7,
    "start_time": "2025-04-24T16:51:42.590Z"
   },
   {
    "duration": 30,
    "start_time": "2025-04-24T16:51:42.600Z"
   },
   {
    "duration": 25,
    "start_time": "2025-04-24T16:51:42.632Z"
   },
   {
    "duration": 10,
    "start_time": "2025-04-24T16:51:42.659Z"
   },
   {
    "duration": 10,
    "start_time": "2025-04-24T16:51:42.670Z"
   },
   {
    "duration": 210,
    "start_time": "2025-04-24T16:51:42.681Z"
   },
   {
    "duration": 103,
    "start_time": "2025-04-24T16:51:42.893Z"
   },
   {
    "duration": 11,
    "start_time": "2025-04-24T16:51:42.997Z"
   },
   {
    "duration": 23,
    "start_time": "2025-04-24T16:51:43.009Z"
   },
   {
    "duration": 17,
    "start_time": "2025-04-24T16:51:43.034Z"
   },
   {
    "duration": 124,
    "start_time": "2025-04-24T16:51:43.054Z"
   },
   {
    "duration": 29,
    "start_time": "2025-04-24T16:51:43.180Z"
   },
   {
    "duration": 11,
    "start_time": "2025-04-24T16:51:43.211Z"
   },
   {
    "duration": 1734,
    "start_time": "2025-04-24T16:51:43.224Z"
   },
   {
    "duration": 12,
    "start_time": "2025-04-24T16:51:44.959Z"
   },
   {
    "duration": 14,
    "start_time": "2025-04-24T16:51:44.973Z"
   },
   {
    "duration": 19,
    "start_time": "2025-04-24T16:51:44.989Z"
   },
   {
    "duration": 34,
    "start_time": "2025-04-24T16:51:45.010Z"
   },
   {
    "duration": 22,
    "start_time": "2025-04-24T16:51:45.046Z"
   },
   {
    "duration": 155,
    "start_time": "2025-04-24T16:51:45.070Z"
   },
   {
    "duration": 397,
    "start_time": "2025-04-24T16:51:45.227Z"
   },
   {
    "duration": 378,
    "start_time": "2025-04-24T16:51:45.626Z"
   },
   {
    "duration": 82,
    "start_time": "2025-04-24T16:51:46.007Z"
   },
   {
    "duration": 34,
    "start_time": "2025-04-24T16:51:46.091Z"
   },
   {
    "duration": 48,
    "start_time": "2025-04-24T16:51:46.127Z"
   },
   {
    "duration": 35,
    "start_time": "2025-04-24T16:51:46.176Z"
   },
   {
    "duration": 42,
    "start_time": "2025-04-24T16:52:01.849Z"
   },
   {
    "duration": 39,
    "start_time": "2025-04-24T16:52:04.043Z"
   },
   {
    "duration": 1150,
    "start_time": "2025-04-24T16:52:10.356Z"
   },
   {
    "duration": 42,
    "start_time": "2025-04-24T16:52:11.508Z"
   },
   {
    "duration": 23,
    "start_time": "2025-04-24T16:52:11.555Z"
   },
   {
    "duration": 24,
    "start_time": "2025-04-24T16:52:11.580Z"
   },
   {
    "duration": 21,
    "start_time": "2025-04-24T16:52:11.606Z"
   },
   {
    "duration": 35,
    "start_time": "2025-04-24T16:52:11.629Z"
   },
   {
    "duration": 73,
    "start_time": "2025-04-24T16:52:11.665Z"
   },
   {
    "duration": 17,
    "start_time": "2025-04-24T16:52:11.740Z"
   },
   {
    "duration": 210,
    "start_time": "2025-04-24T16:52:11.761Z"
   },
   {
    "duration": 130,
    "start_time": "2025-04-24T16:52:11.974Z"
   },
   {
    "duration": 6,
    "start_time": "2025-04-24T16:52:12.106Z"
   },
   {
    "duration": 24,
    "start_time": "2025-04-24T16:52:12.114Z"
   },
   {
    "duration": 42,
    "start_time": "2025-04-24T16:52:12.140Z"
   },
   {
    "duration": 162,
    "start_time": "2025-04-24T16:52:12.183Z"
   },
   {
    "duration": 16,
    "start_time": "2025-04-24T16:52:12.346Z"
   },
   {
    "duration": 39,
    "start_time": "2025-04-24T16:52:12.364Z"
   },
   {
    "duration": 1580,
    "start_time": "2025-04-24T16:52:12.405Z"
   },
   {
    "duration": 18,
    "start_time": "2025-04-24T16:52:13.987Z"
   },
   {
    "duration": 16,
    "start_time": "2025-04-24T16:52:14.006Z"
   },
   {
    "duration": 5,
    "start_time": "2025-04-24T16:52:14.024Z"
   },
   {
    "duration": 29,
    "start_time": "2025-04-24T16:52:14.031Z"
   },
   {
    "duration": 14,
    "start_time": "2025-04-24T16:52:14.062Z"
   },
   {
    "duration": 138,
    "start_time": "2025-04-24T16:52:14.078Z"
   },
   {
    "duration": 372,
    "start_time": "2025-04-24T16:52:14.218Z"
   },
   {
    "duration": 339,
    "start_time": "2025-04-24T16:52:14.592Z"
   },
   {
    "duration": 81,
    "start_time": "2025-04-24T16:52:14.932Z"
   },
   {
    "duration": 70,
    "start_time": "2025-04-24T16:52:15.016Z"
   },
   {
    "duration": 102,
    "start_time": "2025-04-24T16:52:15.088Z"
   },
   {
    "duration": 37,
    "start_time": "2025-04-24T16:52:15.192Z"
   },
   {
    "duration": 40,
    "start_time": "2025-04-24T16:53:20.770Z"
   },
   {
    "duration": 1197,
    "start_time": "2025-04-24T16:53:27.510Z"
   },
   {
    "duration": 46,
    "start_time": "2025-04-24T16:53:28.709Z"
   },
   {
    "duration": 23,
    "start_time": "2025-04-24T16:53:28.757Z"
   },
   {
    "duration": 23,
    "start_time": "2025-04-24T16:53:28.782Z"
   },
   {
    "duration": 18,
    "start_time": "2025-04-24T16:53:28.808Z"
   },
   {
    "duration": 3,
    "start_time": "2025-04-24T16:53:28.828Z"
   },
   {
    "duration": 16,
    "start_time": "2025-04-24T16:53:28.833Z"
   },
   {
    "duration": 16,
    "start_time": "2025-04-24T16:53:28.851Z"
   },
   {
    "duration": 225,
    "start_time": "2025-04-24T16:53:28.869Z"
   },
   {
    "duration": 118,
    "start_time": "2025-04-24T16:53:29.105Z"
   },
   {
    "duration": 7,
    "start_time": "2025-04-24T16:53:29.225Z"
   },
   {
    "duration": 32,
    "start_time": "2025-04-24T16:53:29.234Z"
   },
   {
    "duration": 31,
    "start_time": "2025-04-24T16:53:29.268Z"
   },
   {
    "duration": 152,
    "start_time": "2025-04-24T16:53:29.303Z"
   },
   {
    "duration": 16,
    "start_time": "2025-04-24T16:53:29.457Z"
   },
   {
    "duration": 31,
    "start_time": "2025-04-24T16:53:29.475Z"
   },
   {
    "duration": 1557,
    "start_time": "2025-04-24T16:53:29.508Z"
   },
   {
    "duration": 11,
    "start_time": "2025-04-24T16:53:31.067Z"
   },
   {
    "duration": 26,
    "start_time": "2025-04-24T16:53:31.080Z"
   },
   {
    "duration": 36,
    "start_time": "2025-04-24T16:53:31.107Z"
   },
   {
    "duration": 39,
    "start_time": "2025-04-24T16:53:31.145Z"
   },
   {
    "duration": 22,
    "start_time": "2025-04-24T16:53:31.185Z"
   },
   {
    "duration": 128,
    "start_time": "2025-04-24T16:53:31.209Z"
   },
   {
    "duration": 361,
    "start_time": "2025-04-24T16:53:31.338Z"
   },
   {
    "duration": 314,
    "start_time": "2025-04-24T16:53:31.704Z"
   },
   {
    "duration": 73,
    "start_time": "2025-04-24T16:53:32.019Z"
   },
   {
    "duration": 30,
    "start_time": "2025-04-24T16:53:32.093Z"
   },
   {
    "duration": 47,
    "start_time": "2025-04-24T16:53:32.125Z"
   },
   {
    "duration": 16,
    "start_time": "2025-04-24T16:53:32.174Z"
   },
   {
    "duration": 9,
    "start_time": "2025-04-24T16:54:42.579Z"
   },
   {
    "duration": 46,
    "start_time": "2025-04-24T16:55:01.194Z"
   },
   {
    "duration": 49,
    "start_time": "2025-04-24T16:55:39.609Z"
   },
   {
    "duration": 12,
    "start_time": "2025-04-24T16:55:41.699Z"
   },
   {
    "duration": 45,
    "start_time": "2025-04-24T16:55:53.275Z"
   },
   {
    "duration": 11,
    "start_time": "2025-04-24T16:55:55.430Z"
   },
   {
    "duration": 15,
    "start_time": "2025-04-24T16:56:06.450Z"
   },
   {
    "duration": 12,
    "start_time": "2025-04-24T16:56:07.236Z"
   },
   {
    "duration": 15,
    "start_time": "2025-04-24T16:56:43.678Z"
   },
   {
    "duration": 13,
    "start_time": "2025-04-24T16:56:44.055Z"
   },
   {
    "duration": 14,
    "start_time": "2025-04-24T16:56:51.185Z"
   },
   {
    "duration": 35,
    "start_time": "2025-04-24T16:57:13.599Z"
   },
   {
    "duration": 15,
    "start_time": "2025-04-24T16:58:19.490Z"
   },
   {
    "duration": 29,
    "start_time": "2025-04-24T16:58:20.387Z"
   },
   {
    "duration": 25,
    "start_time": "2025-04-24T16:58:55.204Z"
   },
   {
    "duration": 136,
    "start_time": "2025-04-24T17:00:30.216Z"
   },
   {
    "duration": 144,
    "start_time": "2025-04-24T17:00:36.456Z"
   },
   {
    "duration": 242,
    "start_time": "2025-04-24T17:01:42.977Z"
   },
   {
    "duration": 135,
    "start_time": "2025-04-24T17:02:00.643Z"
   },
   {
    "duration": 139,
    "start_time": "2025-04-24T17:02:15.175Z"
   },
   {
    "duration": 122,
    "start_time": "2025-04-24T17:02:20.350Z"
   },
   {
    "duration": 162,
    "start_time": "2025-04-24T17:02:31.249Z"
   },
   {
    "duration": 67,
    "start_time": "2025-04-24T17:03:42.966Z"
   },
   {
    "duration": 15,
    "start_time": "2025-04-24T17:03:48.928Z"
   },
   {
    "duration": 39,
    "start_time": "2025-04-24T17:04:11.357Z"
   },
   {
    "duration": 24,
    "start_time": "2025-04-24T17:05:27.730Z"
   },
   {
    "duration": 24,
    "start_time": "2025-04-24T17:05:31.333Z"
   },
   {
    "duration": 34,
    "start_time": "2025-04-24T17:05:31.661Z"
   },
   {
    "duration": 1315,
    "start_time": "2025-04-24T17:05:34.251Z"
   },
   {
    "duration": 1380,
    "start_time": "2025-04-24T17:05:38.231Z"
   },
   {
    "duration": 41,
    "start_time": "2025-04-24T17:06:05.618Z"
   },
   {
    "duration": 39,
    "start_time": "2025-04-24T17:06:18.786Z"
   },
   {
    "duration": 141,
    "start_time": "2025-04-24T17:06:21.135Z"
   },
   {
    "duration": 1248,
    "start_time": "2025-04-24T17:06:31.061Z"
   },
   {
    "duration": 52,
    "start_time": "2025-04-24T17:06:32.311Z"
   },
   {
    "duration": 26,
    "start_time": "2025-04-24T17:06:32.368Z"
   },
   {
    "duration": 10,
    "start_time": "2025-04-24T17:06:32.405Z"
   },
   {
    "duration": 19,
    "start_time": "2025-04-24T17:06:32.417Z"
   },
   {
    "duration": 4,
    "start_time": "2025-04-24T17:06:32.438Z"
   },
   {
    "duration": 8,
    "start_time": "2025-04-24T17:06:32.444Z"
   },
   {
    "duration": 11,
    "start_time": "2025-04-24T17:06:32.454Z"
   },
   {
    "duration": 280,
    "start_time": "2025-04-24T17:06:32.467Z"
   },
   {
    "duration": 117,
    "start_time": "2025-04-24T17:06:32.749Z"
   },
   {
    "duration": 6,
    "start_time": "2025-04-24T17:06:32.868Z"
   },
   {
    "duration": 10,
    "start_time": "2025-04-24T17:06:32.876Z"
   },
   {
    "duration": 15,
    "start_time": "2025-04-24T17:06:32.889Z"
   },
   {
    "duration": 220,
    "start_time": "2025-04-24T17:06:32.905Z"
   },
   {
    "duration": 18,
    "start_time": "2025-04-24T17:06:33.127Z"
   },
   {
    "duration": 18,
    "start_time": "2025-04-24T17:06:33.147Z"
   },
   {
    "duration": 1714,
    "start_time": "2025-04-24T17:06:33.167Z"
   },
   {
    "duration": 22,
    "start_time": "2025-04-24T17:06:34.882Z"
   },
   {
    "duration": 17,
    "start_time": "2025-04-24T17:06:34.906Z"
   },
   {
    "duration": 19,
    "start_time": "2025-04-24T17:06:34.924Z"
   },
   {
    "duration": 20,
    "start_time": "2025-04-24T17:06:34.945Z"
   },
   {
    "duration": 14,
    "start_time": "2025-04-24T17:06:34.967Z"
   },
   {
    "duration": 140,
    "start_time": "2025-04-24T17:06:34.983Z"
   },
   {
    "duration": 385,
    "start_time": "2025-04-24T17:06:35.125Z"
   },
   {
    "duration": 340,
    "start_time": "2025-04-24T17:06:35.512Z"
   },
   {
    "duration": 86,
    "start_time": "2025-04-24T17:06:35.854Z"
   },
   {
    "duration": 47,
    "start_time": "2025-04-24T17:06:35.942Z"
   },
   {
    "duration": 139,
    "start_time": "2025-04-24T17:06:35.991Z"
   },
   {
    "duration": 50,
    "start_time": "2025-04-24T17:06:36.132Z"
   },
   {
    "duration": 38,
    "start_time": "2025-04-24T17:06:36.184Z"
   },
   {
    "duration": 141,
    "start_time": "2025-04-24T17:06:36.223Z"
   },
   {
    "duration": 246,
    "start_time": "2025-04-24T17:08:20.974Z"
   },
   {
    "duration": 130,
    "start_time": "2025-04-24T17:08:57.975Z"
   },
   {
    "duration": 136,
    "start_time": "2025-04-24T17:09:07.551Z"
   },
   {
    "duration": 157,
    "start_time": "2025-04-24T17:09:27.506Z"
   },
   {
    "duration": 128,
    "start_time": "2025-04-24T17:10:17.114Z"
   },
   {
    "duration": 126,
    "start_time": "2025-04-24T17:10:22.649Z"
   },
   {
    "duration": 111,
    "start_time": "2025-04-24T17:11:48.000Z"
   },
   {
    "duration": 111,
    "start_time": "2025-04-24T17:11:54.867Z"
   },
   {
    "duration": 117,
    "start_time": "2025-04-24T17:12:01.674Z"
   },
   {
    "duration": 114,
    "start_time": "2025-04-24T17:12:13.866Z"
   },
   {
    "duration": 1208,
    "start_time": "2025-04-24T17:12:27.944Z"
   },
   {
    "duration": 50,
    "start_time": "2025-04-24T17:12:29.154Z"
   },
   {
    "duration": 25,
    "start_time": "2025-04-24T17:12:29.205Z"
   },
   {
    "duration": 10,
    "start_time": "2025-04-24T17:12:29.233Z"
   },
   {
    "duration": 17,
    "start_time": "2025-04-24T17:12:29.246Z"
   },
   {
    "duration": 3,
    "start_time": "2025-04-24T17:12:29.265Z"
   },
   {
    "duration": 13,
    "start_time": "2025-04-24T17:12:29.305Z"
   },
   {
    "duration": 14,
    "start_time": "2025-04-24T17:12:29.320Z"
   },
   {
    "duration": 218,
    "start_time": "2025-04-24T17:12:29.335Z"
   },
   {
    "duration": 122,
    "start_time": "2025-04-24T17:12:29.555Z"
   },
   {
    "duration": 7,
    "start_time": "2025-04-24T17:12:29.679Z"
   },
   {
    "duration": 51,
    "start_time": "2025-04-24T17:12:29.688Z"
   },
   {
    "duration": 32,
    "start_time": "2025-04-24T17:12:29.741Z"
   },
   {
    "duration": 173,
    "start_time": "2025-04-24T17:12:29.777Z"
   },
   {
    "duration": 17,
    "start_time": "2025-04-24T17:12:29.952Z"
   },
   {
    "duration": 17,
    "start_time": "2025-04-24T17:12:29.971Z"
   },
   {
    "duration": 1663,
    "start_time": "2025-04-24T17:12:30.005Z"
   },
   {
    "duration": 14,
    "start_time": "2025-04-24T17:12:31.670Z"
   },
   {
    "duration": 116,
    "start_time": "2025-04-24T17:12:31.686Z"
   },
   {
    "duration": 83,
    "start_time": "2025-04-24T17:12:31.804Z"
   },
   {
    "duration": 77,
    "start_time": "2025-04-24T17:12:31.889Z"
   },
   {
    "duration": 43,
    "start_time": "2025-04-24T17:12:31.968Z"
   },
   {
    "duration": 199,
    "start_time": "2025-04-24T17:12:32.013Z"
   },
   {
    "duration": 391,
    "start_time": "2025-04-24T17:12:32.213Z"
   },
   {
    "duration": 341,
    "start_time": "2025-04-24T17:12:32.606Z"
   },
   {
    "duration": 96,
    "start_time": "2025-04-24T17:12:32.949Z"
   },
   {
    "duration": 75,
    "start_time": "2025-04-24T17:12:33.047Z"
   },
   {
    "duration": 65,
    "start_time": "2025-04-24T17:12:33.124Z"
   },
   {
    "duration": 40,
    "start_time": "2025-04-24T17:12:33.192Z"
   },
   {
    "duration": 49,
    "start_time": "2025-04-24T17:12:33.234Z"
   },
   {
    "duration": 138,
    "start_time": "2025-04-24T17:12:33.285Z"
   },
   {
    "duration": 134,
    "start_time": "2025-04-24T17:12:45.820Z"
   },
   {
    "duration": 15,
    "start_time": "2025-04-24T17:14:19.617Z"
   },
   {
    "duration": 30,
    "start_time": "2025-04-24T17:17:48.286Z"
   },
   {
    "duration": 16,
    "start_time": "2025-04-24T17:19:09.043Z"
   },
   {
    "duration": 99,
    "start_time": "2025-04-24T17:21:41.209Z"
   },
   {
    "duration": 118,
    "start_time": "2025-04-24T17:21:48.442Z"
   },
   {
    "duration": 252,
    "start_time": "2025-04-24T17:22:27.408Z"
   },
   {
    "duration": 139,
    "start_time": "2025-04-24T17:22:30.791Z"
   },
   {
    "duration": 138,
    "start_time": "2025-04-24T17:22:36.025Z"
   },
   {
    "duration": 1220,
    "start_time": "2025-04-24T17:22:45.347Z"
   },
   {
    "duration": 46,
    "start_time": "2025-04-24T17:22:46.569Z"
   },
   {
    "duration": 24,
    "start_time": "2025-04-24T17:22:46.617Z"
   },
   {
    "duration": 124,
    "start_time": "2025-04-24T17:22:46.643Z"
   },
   {
    "duration": 16,
    "start_time": "2025-04-24T17:22:46.770Z"
   },
   {
    "duration": 3,
    "start_time": "2025-04-24T17:22:46.788Z"
   },
   {
    "duration": 28,
    "start_time": "2025-04-24T17:22:46.792Z"
   },
   {
    "duration": 14,
    "start_time": "2025-04-24T17:22:46.822Z"
   },
   {
    "duration": 218,
    "start_time": "2025-04-24T17:22:46.838Z"
   },
   {
    "duration": 119,
    "start_time": "2025-04-24T17:22:47.058Z"
   },
   {
    "duration": 6,
    "start_time": "2025-04-24T17:22:47.179Z"
   },
   {
    "duration": 18,
    "start_time": "2025-04-24T17:22:47.187Z"
   },
   {
    "duration": 19,
    "start_time": "2025-04-24T17:22:47.206Z"
   },
   {
    "duration": 146,
    "start_time": "2025-04-24T17:22:47.228Z"
   },
   {
    "duration": 16,
    "start_time": "2025-04-24T17:22:47.377Z"
   },
   {
    "duration": 12,
    "start_time": "2025-04-24T17:22:47.405Z"
   },
   {
    "duration": 1694,
    "start_time": "2025-04-24T17:22:47.418Z"
   },
   {
    "duration": 11,
    "start_time": "2025-04-24T17:22:49.114Z"
   },
   {
    "duration": 23,
    "start_time": "2025-04-24T17:22:49.127Z"
   },
   {
    "duration": 5,
    "start_time": "2025-04-24T17:22:49.152Z"
   },
   {
    "duration": 15,
    "start_time": "2025-04-24T17:22:49.158Z"
   },
   {
    "duration": 37,
    "start_time": "2025-04-24T17:22:49.175Z"
   },
   {
    "duration": 146,
    "start_time": "2025-04-24T17:22:49.214Z"
   },
   {
    "duration": 360,
    "start_time": "2025-04-24T17:22:49.362Z"
   },
   {
    "duration": 382,
    "start_time": "2025-04-24T17:22:49.724Z"
   },
   {
    "duration": 130,
    "start_time": "2025-04-24T17:22:50.108Z"
   },
   {
    "duration": 25,
    "start_time": "2025-04-24T17:22:50.240Z"
   },
   {
    "duration": 64,
    "start_time": "2025-04-24T17:22:50.266Z"
   },
   {
    "duration": 34,
    "start_time": "2025-04-24T17:22:50.332Z"
   },
   {
    "duration": 40,
    "start_time": "2025-04-24T17:22:50.368Z"
   },
   {
    "duration": 154,
    "start_time": "2025-04-24T17:22:50.410Z"
   },
   {
    "duration": 16,
    "start_time": "2025-04-24T17:22:50.566Z"
   },
   {
    "duration": 25,
    "start_time": "2025-04-24T17:23:52.125Z"
   },
   {
    "duration": 0,
    "start_time": "2025-04-24T17:25:16.189Z"
   },
   {
    "duration": 28,
    "start_time": "2025-04-24T17:25:20.697Z"
   },
   {
    "duration": 40,
    "start_time": "2025-04-24T17:25:31.412Z"
   },
   {
    "duration": 62,
    "start_time": "2025-04-24T17:30:15.706Z"
   },
   {
    "duration": 72,
    "start_time": "2025-04-24T17:30:19.984Z"
   },
   {
    "duration": 68,
    "start_time": "2025-04-24T17:35:36.530Z"
   },
   {
    "duration": 49,
    "start_time": "2025-04-24T17:35:41.215Z"
   },
   {
    "duration": 55,
    "start_time": "2025-04-24T17:36:12.906Z"
   },
   {
    "duration": 51,
    "start_time": "2025-04-24T17:36:16.809Z"
   },
   {
    "duration": 52,
    "start_time": "2025-04-24T17:37:15.993Z"
   },
   {
    "duration": 38,
    "start_time": "2025-04-24T17:37:28.110Z"
   },
   {
    "duration": 35,
    "start_time": "2025-04-24T17:37:35.927Z"
   },
   {
    "duration": 36,
    "start_time": "2025-04-24T17:37:52.262Z"
   },
   {
    "duration": 39,
    "start_time": "2025-04-24T17:38:51.268Z"
   },
   {
    "duration": 39,
    "start_time": "2025-04-24T17:39:03.171Z"
   },
   {
    "duration": 40,
    "start_time": "2025-04-24T17:40:00.270Z"
   },
   {
    "duration": 49,
    "start_time": "2025-04-24T17:40:03.359Z"
   },
   {
    "duration": 41,
    "start_time": "2025-04-24T17:44:59.554Z"
   },
   {
    "duration": 8,
    "start_time": "2025-04-24T17:47:27.078Z"
   },
   {
    "duration": 7,
    "start_time": "2025-04-24T17:47:45.339Z"
   },
   {
    "duration": 7,
    "start_time": "2025-04-24T17:50:08.008Z"
   },
   {
    "duration": 8,
    "start_time": "2025-04-24T17:51:39.999Z"
   },
   {
    "duration": 1187,
    "start_time": "2025-04-24T19:08:09.538Z"
   },
   {
    "duration": 105,
    "start_time": "2025-04-24T19:08:10.727Z"
   },
   {
    "duration": 20,
    "start_time": "2025-04-24T19:08:10.834Z"
   },
   {
    "duration": 8,
    "start_time": "2025-04-24T19:08:10.856Z"
   },
   {
    "duration": 31,
    "start_time": "2025-04-24T19:08:10.866Z"
   },
   {
    "duration": 3,
    "start_time": "2025-04-24T19:08:10.898Z"
   },
   {
    "duration": 16,
    "start_time": "2025-04-24T19:08:10.902Z"
   },
   {
    "duration": 11,
    "start_time": "2025-04-24T19:08:10.920Z"
   },
   {
    "duration": 219,
    "start_time": "2025-04-24T19:08:10.932Z"
   },
   {
    "duration": 113,
    "start_time": "2025-04-24T19:08:11.154Z"
   },
   {
    "duration": 15,
    "start_time": "2025-04-24T19:08:11.269Z"
   },
   {
    "duration": 17,
    "start_time": "2025-04-24T19:08:11.286Z"
   },
   {
    "duration": 17,
    "start_time": "2025-04-24T19:08:11.309Z"
   },
   {
    "duration": 153,
    "start_time": "2025-04-24T19:08:11.328Z"
   },
   {
    "duration": 33,
    "start_time": "2025-04-24T19:08:11.483Z"
   },
   {
    "duration": 10,
    "start_time": "2025-04-24T19:08:11.517Z"
   },
   {
    "duration": 1586,
    "start_time": "2025-04-24T19:08:11.529Z"
   },
   {
    "duration": 12,
    "start_time": "2025-04-24T19:08:13.117Z"
   },
   {
    "duration": 148,
    "start_time": "2025-04-24T19:08:13.131Z"
   },
   {
    "duration": 14,
    "start_time": "2025-04-24T19:08:13.281Z"
   },
   {
    "duration": 28,
    "start_time": "2025-04-24T19:08:13.297Z"
   },
   {
    "duration": 22,
    "start_time": "2025-04-24T19:08:13.327Z"
   },
   {
    "duration": 130,
    "start_time": "2025-04-24T19:08:13.351Z"
   },
   {
    "duration": 399,
    "start_time": "2025-04-24T19:08:13.482Z"
   },
   {
    "duration": 362,
    "start_time": "2025-04-24T19:08:13.882Z"
   },
   {
    "duration": 131,
    "start_time": "2025-04-24T19:08:14.246Z"
   },
   {
    "duration": 57,
    "start_time": "2025-04-24T19:08:14.379Z"
   },
   {
    "duration": 52,
    "start_time": "2025-04-24T19:08:14.441Z"
   },
   {
    "duration": 59,
    "start_time": "2025-04-24T19:08:14.495Z"
   },
   {
    "duration": 44,
    "start_time": "2025-04-24T19:08:14.556Z"
   },
   {
    "duration": 175,
    "start_time": "2025-04-24T19:08:14.602Z"
   },
   {
    "duration": 42,
    "start_time": "2025-04-24T19:08:14.778Z"
   },
   {
    "duration": 43,
    "start_time": "2025-04-24T19:08:14.822Z"
   },
   {
    "duration": 10,
    "start_time": "2025-04-24T19:08:14.867Z"
   },
   {
    "duration": 1760,
    "start_time": "2025-04-24T19:11:18.924Z"
   },
   {
    "duration": 15,
    "start_time": "2025-04-24T19:11:35.881Z"
   },
   {
    "duration": 140,
    "start_time": "2025-04-24T19:15:09.892Z"
   },
   {
    "duration": 13,
    "start_time": "2025-04-24T19:19:08.739Z"
   },
   {
    "duration": 10,
    "start_time": "2025-04-24T19:19:35.847Z"
   },
   {
    "duration": 1109,
    "start_time": "2025-04-25T09:04:21.093Z"
   },
   {
    "duration": 45,
    "start_time": "2025-04-25T09:04:22.204Z"
   },
   {
    "duration": 21,
    "start_time": "2025-04-25T09:04:22.250Z"
   },
   {
    "duration": 17,
    "start_time": "2025-04-25T09:04:22.273Z"
   },
   {
    "duration": 15,
    "start_time": "2025-04-25T09:04:22.291Z"
   },
   {
    "duration": 3,
    "start_time": "2025-04-25T09:04:22.307Z"
   },
   {
    "duration": 10,
    "start_time": "2025-04-25T09:04:22.311Z"
   },
   {
    "duration": 8,
    "start_time": "2025-04-25T09:04:22.337Z"
   },
   {
    "duration": 201,
    "start_time": "2025-04-25T09:04:22.346Z"
   },
   {
    "duration": 105,
    "start_time": "2025-04-25T09:04:22.548Z"
   },
   {
    "duration": 5,
    "start_time": "2025-04-25T09:04:22.654Z"
   },
   {
    "duration": 6,
    "start_time": "2025-04-25T09:04:22.661Z"
   },
   {
    "duration": 10,
    "start_time": "2025-04-25T09:04:22.668Z"
   },
   {
    "duration": 137,
    "start_time": "2025-04-25T09:04:22.681Z"
   },
   {
    "duration": 21,
    "start_time": "2025-04-25T09:04:22.820Z"
   },
   {
    "duration": 9,
    "start_time": "2025-04-25T09:04:22.842Z"
   },
   {
    "duration": 1392,
    "start_time": "2025-04-25T09:04:22.852Z"
   },
   {
    "duration": 12,
    "start_time": "2025-04-25T09:04:24.246Z"
   },
   {
    "duration": 21,
    "start_time": "2025-04-25T09:04:24.260Z"
   },
   {
    "duration": 125,
    "start_time": "2025-04-25T09:04:24.283Z"
   },
   {
    "duration": 11,
    "start_time": "2025-04-25T09:04:24.410Z"
   },
   {
    "duration": 25,
    "start_time": "2025-04-25T09:04:24.437Z"
   },
   {
    "duration": 13,
    "start_time": "2025-04-25T09:04:24.463Z"
   },
   {
    "duration": 10,
    "start_time": "2025-04-25T09:04:24.478Z"
   },
   {
    "duration": 20,
    "start_time": "2025-04-25T09:04:24.489Z"
   },
   {
    "duration": 18,
    "start_time": "2025-04-25T09:04:24.510Z"
   },
   {
    "duration": 126,
    "start_time": "2025-04-25T09:04:24.530Z"
   },
   {
    "duration": 337,
    "start_time": "2025-04-25T09:04:24.657Z"
   },
   {
    "duration": 325,
    "start_time": "2025-04-25T09:04:24.996Z"
   },
   {
    "duration": 148,
    "start_time": "2025-04-25T09:04:25.323Z"
   },
   {
    "duration": 24,
    "start_time": "2025-04-25T09:04:25.473Z"
   },
   {
    "duration": 50,
    "start_time": "2025-04-25T09:04:25.498Z"
   },
   {
    "duration": 31,
    "start_time": "2025-04-25T09:04:25.549Z"
   },
   {
    "duration": 19,
    "start_time": "2025-04-25T09:04:25.581Z"
   },
   {
    "duration": 155,
    "start_time": "2025-04-25T09:04:25.601Z"
   },
   {
    "duration": 13,
    "start_time": "2025-04-25T09:04:25.758Z"
   },
   {
    "duration": 45,
    "start_time": "2025-04-25T09:04:25.772Z"
   },
   {
    "duration": 19,
    "start_time": "2025-04-25T09:04:25.819Z"
   },
   {
    "duration": 109,
    "start_time": "2025-04-25T09:05:20.428Z"
   },
   {
    "duration": 1270,
    "start_time": "2025-04-25T11:53:59.970Z"
   },
   {
    "duration": 59,
    "start_time": "2025-04-25T11:54:01.242Z"
   },
   {
    "duration": 19,
    "start_time": "2025-04-25T11:54:01.303Z"
   },
   {
    "duration": 9,
    "start_time": "2025-04-25T11:54:01.325Z"
   },
   {
    "duration": 14,
    "start_time": "2025-04-25T11:54:01.336Z"
   },
   {
    "duration": 3,
    "start_time": "2025-04-25T11:54:01.351Z"
   },
   {
    "duration": 8,
    "start_time": "2025-04-25T11:54:01.355Z"
   },
   {
    "duration": 18,
    "start_time": "2025-04-25T11:54:01.365Z"
   },
   {
    "duration": 193,
    "start_time": "2025-04-25T11:54:01.386Z"
   },
   {
    "duration": 113,
    "start_time": "2025-04-25T11:54:01.583Z"
   },
   {
    "duration": 5,
    "start_time": "2025-04-25T11:54:01.698Z"
   },
   {
    "duration": 17,
    "start_time": "2025-04-25T11:54:01.705Z"
   },
   {
    "duration": 18,
    "start_time": "2025-04-25T11:54:01.724Z"
   },
   {
    "duration": 133,
    "start_time": "2025-04-25T11:54:01.743Z"
   },
   {
    "duration": 14,
    "start_time": "2025-04-25T11:54:01.877Z"
   },
   {
    "duration": 10,
    "start_time": "2025-04-25T11:54:01.892Z"
   },
   {
    "duration": 1473,
    "start_time": "2025-04-25T11:54:01.904Z"
   },
   {
    "duration": 12,
    "start_time": "2025-04-25T11:54:03.378Z"
   },
   {
    "duration": 27,
    "start_time": "2025-04-25T11:54:03.391Z"
   },
   {
    "duration": 140,
    "start_time": "2025-04-25T11:54:03.419Z"
   },
   {
    "duration": 8,
    "start_time": "2025-04-25T11:54:03.560Z"
   },
   {
    "duration": 27,
    "start_time": "2025-04-25T11:54:03.571Z"
   },
   {
    "duration": 32,
    "start_time": "2025-04-25T11:54:03.600Z"
   },
   {
    "duration": 5,
    "start_time": "2025-04-25T11:54:03.634Z"
   },
   {
    "duration": 9,
    "start_time": "2025-04-25T11:54:03.641Z"
   },
   {
    "duration": 16,
    "start_time": "2025-04-25T11:54:03.652Z"
   },
   {
    "duration": 135,
    "start_time": "2025-04-25T11:54:03.669Z"
   },
   {
    "duration": 345,
    "start_time": "2025-04-25T11:54:03.808Z"
   },
   {
    "duration": 367,
    "start_time": "2025-04-25T11:54:04.155Z"
   },
   {
    "duration": 119,
    "start_time": "2025-04-25T11:54:04.524Z"
   },
   {
    "duration": 22,
    "start_time": "2025-04-25T11:54:04.645Z"
   },
   {
    "duration": 34,
    "start_time": "2025-04-25T11:54:04.669Z"
   },
   {
    "duration": 54,
    "start_time": "2025-04-25T11:54:04.705Z"
   },
   {
    "duration": 19,
    "start_time": "2025-04-25T11:54:04.761Z"
   },
   {
    "duration": 158,
    "start_time": "2025-04-25T11:54:04.782Z"
   },
   {
    "duration": 13,
    "start_time": "2025-04-25T11:54:04.942Z"
   },
   {
    "duration": 37,
    "start_time": "2025-04-25T11:54:04.957Z"
   },
   {
    "duration": 6,
    "start_time": "2025-04-25T11:54:04.996Z"
   },
   {
    "duration": 109,
    "start_time": "2025-04-25T11:54:59.931Z"
   },
   {
    "duration": 13,
    "start_time": "2025-04-25T11:55:15.875Z"
   },
   {
    "duration": 3,
    "start_time": "2025-04-25T11:55:36.401Z"
   },
   {
    "duration": 53,
    "start_time": "2025-04-25T11:55:36.734Z"
   },
   {
    "duration": 17,
    "start_time": "2025-04-25T11:55:37.172Z"
   },
   {
    "duration": 15,
    "start_time": "2025-04-25T11:55:49.162Z"
   },
   {
    "duration": 10,
    "start_time": "2025-04-25T11:55:51.804Z"
   },
   {
    "duration": 12,
    "start_time": "2025-04-25T11:56:22.720Z"
   },
   {
    "duration": 1169,
    "start_time": "2025-04-25T11:56:31.939Z"
   },
   {
    "duration": 88,
    "start_time": "2025-04-25T11:56:33.109Z"
   },
   {
    "duration": 21,
    "start_time": "2025-04-25T11:56:33.198Z"
   },
   {
    "duration": 23,
    "start_time": "2025-04-25T11:56:33.220Z"
   },
   {
    "duration": 14,
    "start_time": "2025-04-25T11:56:33.245Z"
   },
   {
    "duration": 3,
    "start_time": "2025-04-25T11:56:33.260Z"
   },
   {
    "duration": 19,
    "start_time": "2025-04-25T11:56:33.264Z"
   },
   {
    "duration": 22,
    "start_time": "2025-04-25T11:56:33.284Z"
   },
   {
    "duration": 210,
    "start_time": "2025-04-25T11:56:33.308Z"
   },
   {
    "duration": 108,
    "start_time": "2025-04-25T11:56:33.520Z"
   },
   {
    "duration": 12,
    "start_time": "2025-04-25T11:56:33.630Z"
   },
   {
    "duration": 3,
    "start_time": "2025-04-25T11:56:33.644Z"
   },
   {
    "duration": 16,
    "start_time": "2025-04-25T11:56:33.649Z"
   },
   {
    "duration": 140,
    "start_time": "2025-04-25T11:56:33.668Z"
   },
   {
    "duration": 14,
    "start_time": "2025-04-25T11:56:33.810Z"
   },
   {
    "duration": 34,
    "start_time": "2025-04-25T11:56:33.826Z"
   },
   {
    "duration": 1439,
    "start_time": "2025-04-25T11:56:33.861Z"
   },
   {
    "duration": 12,
    "start_time": "2025-04-25T11:56:35.302Z"
   },
   {
    "duration": 24,
    "start_time": "2025-04-25T11:56:35.316Z"
   },
   {
    "duration": 118,
    "start_time": "2025-04-25T11:56:35.342Z"
   },
   {
    "duration": 14,
    "start_time": "2025-04-25T11:56:35.462Z"
   },
   {
    "duration": 13,
    "start_time": "2025-04-25T11:56:35.478Z"
   },
   {
    "duration": 48,
    "start_time": "2025-04-25T11:56:35.493Z"
   },
   {
    "duration": 5,
    "start_time": "2025-04-25T11:56:35.543Z"
   },
   {
    "duration": 20,
    "start_time": "2025-04-25T11:56:35.550Z"
   },
   {
    "duration": 14,
    "start_time": "2025-04-25T11:56:35.572Z"
   },
   {
    "duration": 134,
    "start_time": "2025-04-25T11:56:35.588Z"
   },
   {
    "duration": 348,
    "start_time": "2025-04-25T11:56:35.724Z"
   },
   {
    "duration": 354,
    "start_time": "2025-04-25T11:56:36.075Z"
   },
   {
    "duration": 115,
    "start_time": "2025-04-25T11:56:36.431Z"
   },
   {
    "duration": 22,
    "start_time": "2025-04-25T11:56:36.548Z"
   },
   {
    "duration": 32,
    "start_time": "2025-04-25T11:56:36.571Z"
   },
   {
    "duration": 54,
    "start_time": "2025-04-25T11:56:36.605Z"
   },
   {
    "duration": 22,
    "start_time": "2025-04-25T11:56:36.661Z"
   },
   {
    "duration": 160,
    "start_time": "2025-04-25T11:56:36.684Z"
   },
   {
    "duration": 14,
    "start_time": "2025-04-25T11:56:36.845Z"
   },
   {
    "duration": 44,
    "start_time": "2025-04-25T11:56:36.861Z"
   },
   {
    "duration": 7,
    "start_time": "2025-04-25T11:56:36.906Z"
   },
   {
    "duration": 1174,
    "start_time": "2025-04-25T14:37:04.527Z"
   },
   {
    "duration": 85,
    "start_time": "2025-04-25T14:37:05.703Z"
   },
   {
    "duration": 20,
    "start_time": "2025-04-25T14:37:05.790Z"
   },
   {
    "duration": 41,
    "start_time": "2025-04-25T14:37:05.812Z"
   },
   {
    "duration": 36,
    "start_time": "2025-04-25T14:37:05.855Z"
   },
   {
    "duration": 3,
    "start_time": "2025-04-25T14:37:05.893Z"
   },
   {
    "duration": 44,
    "start_time": "2025-04-25T14:37:05.897Z"
   },
   {
    "duration": 12,
    "start_time": "2025-04-25T14:37:05.943Z"
   },
   {
    "duration": 210,
    "start_time": "2025-04-25T14:37:05.957Z"
   },
   {
    "duration": 112,
    "start_time": "2025-04-25T14:37:06.170Z"
   },
   {
    "duration": 6,
    "start_time": "2025-04-25T14:37:06.284Z"
   },
   {
    "duration": 15,
    "start_time": "2025-04-25T14:37:06.292Z"
   },
   {
    "duration": 36,
    "start_time": "2025-04-25T14:37:06.309Z"
   },
   {
    "duration": 129,
    "start_time": "2025-04-25T14:37:06.348Z"
   },
   {
    "duration": 15,
    "start_time": "2025-04-25T14:37:06.479Z"
   },
   {
    "duration": 11,
    "start_time": "2025-04-25T14:37:06.496Z"
   },
   {
    "duration": 1500,
    "start_time": "2025-04-25T14:37:06.509Z"
   },
   {
    "duration": 14,
    "start_time": "2025-04-25T14:37:08.011Z"
   },
   {
    "duration": 9,
    "start_time": "2025-04-25T14:37:08.038Z"
   },
   {
    "duration": 139,
    "start_time": "2025-04-25T14:37:08.049Z"
   },
   {
    "duration": 9,
    "start_time": "2025-04-25T14:37:08.190Z"
   },
   {
    "duration": 70,
    "start_time": "2025-04-25T14:37:08.200Z"
   },
   {
    "duration": 18,
    "start_time": "2025-04-25T14:37:08.271Z"
   },
   {
    "duration": 28,
    "start_time": "2025-04-25T14:37:08.291Z"
   },
   {
    "duration": 15,
    "start_time": "2025-04-25T14:37:08.321Z"
   },
   {
    "duration": 13,
    "start_time": "2025-04-25T14:37:08.338Z"
   },
   {
    "duration": 129,
    "start_time": "2025-04-25T14:37:08.353Z"
   },
   {
    "duration": 344,
    "start_time": "2025-04-25T14:37:08.487Z"
   },
   {
    "duration": 318,
    "start_time": "2025-04-25T14:37:08.833Z"
   },
   {
    "duration": 115,
    "start_time": "2025-04-25T14:37:09.152Z"
   },
   {
    "duration": 23,
    "start_time": "2025-04-25T14:37:09.268Z"
   },
   {
    "duration": 48,
    "start_time": "2025-04-25T14:37:09.293Z"
   },
   {
    "duration": 30,
    "start_time": "2025-04-25T14:37:09.343Z"
   },
   {
    "duration": 22,
    "start_time": "2025-04-25T14:37:09.375Z"
   },
   {
    "duration": 169,
    "start_time": "2025-04-25T14:37:09.398Z"
   },
   {
    "duration": 14,
    "start_time": "2025-04-25T14:37:09.569Z"
   },
   {
    "duration": 56,
    "start_time": "2025-04-25T14:37:09.584Z"
   },
   {
    "duration": 8,
    "start_time": "2025-04-25T14:37:09.642Z"
   },
   {
    "duration": 15,
    "start_time": "2025-04-25T14:40:01.883Z"
   },
   {
    "duration": 9,
    "start_time": "2025-04-25T14:42:44.061Z"
   },
   {
    "duration": 11,
    "start_time": "2025-04-25T14:42:52.220Z"
   },
   {
    "duration": 11,
    "start_time": "2025-04-25T14:42:56.710Z"
   },
   {
    "duration": 10,
    "start_time": "2025-04-25T14:42:59.894Z"
   },
   {
    "duration": 8,
    "start_time": "2025-04-25T14:43:36.870Z"
   },
   {
    "duration": 11,
    "start_time": "2025-04-25T14:43:37.307Z"
   },
   {
    "duration": 5,
    "start_time": "2025-04-25T14:43:39.889Z"
   },
   {
    "duration": 8,
    "start_time": "2025-04-25T14:44:47.238Z"
   },
   {
    "duration": 5,
    "start_time": "2025-04-25T14:44:51.519Z"
   },
   {
    "duration": 15,
    "start_time": "2025-04-25T14:45:00.953Z"
   },
   {
    "duration": 1064,
    "start_time": "2025-04-25T14:45:34.592Z"
   },
   {
    "duration": 44,
    "start_time": "2025-04-25T14:45:35.658Z"
   },
   {
    "duration": 24,
    "start_time": "2025-04-25T14:45:35.704Z"
   },
   {
    "duration": 10,
    "start_time": "2025-04-25T14:45:35.729Z"
   },
   {
    "duration": 54,
    "start_time": "2025-04-25T14:45:35.741Z"
   },
   {
    "duration": 64,
    "start_time": "2025-04-25T14:45:35.797Z"
   },
   {
    "duration": 72,
    "start_time": "2025-04-25T14:45:35.863Z"
   },
   {
    "duration": 19,
    "start_time": "2025-04-25T14:45:35.937Z"
   },
   {
    "duration": 245,
    "start_time": "2025-04-25T14:45:35.958Z"
   },
   {
    "duration": 111,
    "start_time": "2025-04-25T14:45:36.205Z"
   },
   {
    "duration": 6,
    "start_time": "2025-04-25T14:45:36.318Z"
   },
   {
    "duration": 29,
    "start_time": "2025-04-25T14:45:36.326Z"
   },
   {
    "duration": 15,
    "start_time": "2025-04-25T14:45:36.357Z"
   },
   {
    "duration": 129,
    "start_time": "2025-04-25T14:45:36.375Z"
   },
   {
    "duration": 13,
    "start_time": "2025-04-25T14:45:36.505Z"
   },
   {
    "duration": 43,
    "start_time": "2025-04-25T14:45:36.520Z"
   },
   {
    "duration": 1679,
    "start_time": "2025-04-25T14:45:36.564Z"
   },
   {
    "duration": 13,
    "start_time": "2025-04-25T14:45:38.245Z"
   },
   {
    "duration": 27,
    "start_time": "2025-04-25T14:45:38.259Z"
   },
   {
    "duration": 114,
    "start_time": "2025-04-25T14:45:38.287Z"
   },
   {
    "duration": 8,
    "start_time": "2025-04-25T14:45:38.403Z"
   },
   {
    "duration": 35,
    "start_time": "2025-04-25T14:45:38.412Z"
   },
   {
    "duration": 14,
    "start_time": "2025-04-25T14:45:38.448Z"
   },
   {
    "duration": 19,
    "start_time": "2025-04-25T14:45:38.464Z"
   },
   {
    "duration": 19,
    "start_time": "2025-04-25T14:45:38.484Z"
   },
   {
    "duration": 26,
    "start_time": "2025-04-25T14:45:38.505Z"
   },
   {
    "duration": 102,
    "start_time": "2025-04-25T14:45:38.533Z"
   },
   {
    "duration": 317,
    "start_time": "2025-04-25T14:45:38.637Z"
   },
   {
    "duration": 309,
    "start_time": "2025-04-25T14:45:38.956Z"
   },
   {
    "duration": 109,
    "start_time": "2025-04-25T14:45:39.267Z"
   },
   {
    "duration": 22,
    "start_time": "2025-04-25T14:45:39.378Z"
   },
   {
    "duration": 49,
    "start_time": "2025-04-25T14:45:39.402Z"
   },
   {
    "duration": 28,
    "start_time": "2025-04-25T14:45:39.453Z"
   },
   {
    "duration": 25,
    "start_time": "2025-04-25T14:45:39.483Z"
   },
   {
    "duration": 152,
    "start_time": "2025-04-25T14:45:39.509Z"
   },
   {
    "duration": 14,
    "start_time": "2025-04-25T14:45:39.662Z"
   },
   {
    "duration": 58,
    "start_time": "2025-04-25T14:45:39.677Z"
   },
   {
    "duration": 7,
    "start_time": "2025-04-25T14:45:39.736Z"
   },
   {
    "duration": 11,
    "start_time": "2025-04-25T14:46:57.422Z"
   },
   {
    "duration": 10,
    "start_time": "2025-04-25T14:47:53.895Z"
   },
   {
    "duration": 5,
    "start_time": "2025-04-25T14:47:54.817Z"
   },
   {
    "duration": 10,
    "start_time": "2025-04-25T14:47:55.075Z"
   },
   {
    "duration": 1199,
    "start_time": "2025-04-25T14:48:02.521Z"
   },
   {
    "duration": 53,
    "start_time": "2025-04-25T14:48:03.722Z"
   },
   {
    "duration": 22,
    "start_time": "2025-04-25T14:48:03.776Z"
   },
   {
    "duration": 15,
    "start_time": "2025-04-25T14:48:03.799Z"
   },
   {
    "duration": 32,
    "start_time": "2025-04-25T14:48:03.817Z"
   },
   {
    "duration": 27,
    "start_time": "2025-04-25T14:48:03.851Z"
   },
   {
    "duration": 51,
    "start_time": "2025-04-25T14:48:03.880Z"
   },
   {
    "duration": 9,
    "start_time": "2025-04-25T14:48:03.933Z"
   },
   {
    "duration": 213,
    "start_time": "2025-04-25T14:48:03.944Z"
   },
   {
    "duration": 108,
    "start_time": "2025-04-25T14:48:04.159Z"
   },
   {
    "duration": 6,
    "start_time": "2025-04-25T14:48:04.268Z"
   },
   {
    "duration": 31,
    "start_time": "2025-04-25T14:48:04.275Z"
   },
   {
    "duration": 25,
    "start_time": "2025-04-25T14:48:04.307Z"
   },
   {
    "duration": 130,
    "start_time": "2025-04-25T14:48:04.335Z"
   },
   {
    "duration": 14,
    "start_time": "2025-04-25T14:48:04.466Z"
   },
   {
    "duration": 21,
    "start_time": "2025-04-25T14:48:04.481Z"
   },
   {
    "duration": 1490,
    "start_time": "2025-04-25T14:48:04.504Z"
   },
   {
    "duration": 12,
    "start_time": "2025-04-25T14:48:05.996Z"
   },
   {
    "duration": 37,
    "start_time": "2025-04-25T14:48:06.009Z"
   },
   {
    "duration": 128,
    "start_time": "2025-04-25T14:48:06.047Z"
   },
   {
    "duration": 8,
    "start_time": "2025-04-25T14:48:06.177Z"
   },
   {
    "duration": 42,
    "start_time": "2025-04-25T14:48:06.186Z"
   },
   {
    "duration": 28,
    "start_time": "2025-04-25T14:48:06.230Z"
   },
   {
    "duration": 16,
    "start_time": "2025-04-25T14:48:06.260Z"
   },
   {
    "duration": 35,
    "start_time": "2025-04-25T14:48:06.278Z"
   },
   {
    "duration": 22,
    "start_time": "2025-04-25T14:48:06.315Z"
   },
   {
    "duration": 122,
    "start_time": "2025-04-25T14:48:06.339Z"
   },
   {
    "duration": 328,
    "start_time": "2025-04-25T14:48:06.463Z"
   },
   {
    "duration": 335,
    "start_time": "2025-04-25T14:48:06.793Z"
   },
   {
    "duration": 121,
    "start_time": "2025-04-25T14:48:07.130Z"
   },
   {
    "duration": 23,
    "start_time": "2025-04-25T14:48:07.252Z"
   },
   {
    "duration": 32,
    "start_time": "2025-04-25T14:48:07.277Z"
   },
   {
    "duration": 47,
    "start_time": "2025-04-25T14:48:07.311Z"
   },
   {
    "duration": 21,
    "start_time": "2025-04-25T14:48:07.359Z"
   },
   {
    "duration": 160,
    "start_time": "2025-04-25T14:48:07.382Z"
   },
   {
    "duration": 15,
    "start_time": "2025-04-25T14:48:07.543Z"
   },
   {
    "duration": 84,
    "start_time": "2025-04-25T14:48:07.560Z"
   },
   {
    "duration": 11,
    "start_time": "2025-04-25T14:48:07.647Z"
   }
  ],
  "colab": {
   "provenance": [],
   "toc_visible": true
  },
  "kernelspec": {
   "display_name": "Python 3 (ipykernel)",
   "language": "python",
   "name": "python3"
  },
  "language_info": {
   "codemirror_mode": {
    "name": "ipython",
    "version": 3
   },
   "file_extension": ".py",
   "mimetype": "text/x-python",
   "name": "python",
   "nbconvert_exporter": "python",
   "pygments_lexer": "ipython3",
   "version": "3.12.7"
  },
  "toc": {
   "base_numbering": 1,
   "nav_menu": {},
   "number_sections": true,
   "sideBar": true,
   "skip_h1_title": true,
   "title_cell": "Table of Contents",
   "title_sidebar": "Contents",
   "toc_cell": false,
   "toc_position": {},
   "toc_section_display": true,
   "toc_window_display": false
  }
 },
 "nbformat": 4,
 "nbformat_minor": 5
}
