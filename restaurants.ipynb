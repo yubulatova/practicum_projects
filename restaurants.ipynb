{
 "cells": [
  {
   "cell_type": "markdown",
   "id": "a3d64dac",
   "metadata": {
    "id": "a3d64dac"
   },
   "source": [
    "# Поиска инсайтов и точек роста\n",
    "\n",
    "Однако конкуренты сервиса «Всё.из.кафе» не дремлют, и руководство ждёт от продукта роста. \n",
    "\n",
    "Необходимо помочь бизнесу ответить на следующие вопросы:\n",
    "- Как ведут себя пользователи? Как наиболее эффективно выстроить работу с ними, чтобы они продолжали пользоваться продуктом?\n",
    "- Какой путь проходят пользователи в сервисе? Где «проваливаются»?\n",
    "- Как улучшить взаимодействие с партнёрами-ресторанами?\n",
    "\n",
    "### Задачи \n",
    "\n",
    "В рамках данного проекта мы проведем комплексный анализ данных:\n",
    "- изучим пользовательский путь и проанализируем конверсии через воронки;\n",
    "- сегментируем пользователей с помощью RFM-модели для оценки лояльности и поведения клиентов;\n",
    "- кластеризуем рестораны методом K-Means, чтобы выделить группы с разными моделями работы и разработать персонализированные маркетинговые стратегии.\n",
    "\n",
    "Такой подход позволит ближе познакомиться с работой сервиса, выявить узкие места и предложить решения для удержания пользователей и повышения эффективности сотрудничества с ресторанами.\n",
    "\n",
    "\n",
    "### Данные\n",
    "\n",
    "Данные включают следующие сведения:\n",
    "      \n",
    "- `visitor_uuid` — идентификатор посетителя. Это идентификатор, который присваивается системой любому новому пользователю вне зависимости от того, зарегистрировался он в продукте или нет.\n",
    "- `user_id` — идентификатор зарегистрированного пользователя. Присваивается посетителю после создания учётной записи: ввода логина, пароля, адреса доставки и контактных данных.\n",
    "- `device_type` — тип платформы, с которой посетитель зашёл в продукт.\n",
    "- `city_id` — город, из которого посетитель зашёл в сервис.\n",
    "- `source` — рекламный источник привлечения посетителя.\n",
    "- `first_date` — дата первого посещения продукта.\n",
    "- `visit_id` — уникальный идентификатор сессии.\n",
    "- `event` — название аналитического события.\n",
    "- `datetime` — дата и время события.\n",
    "- `rest_id` — уникальный идентификатор ресторана (заполняется для заказов, карточек ресторанов и блюд).\n",
    "- `object_id` — уникальный идентификатор блюда (заполняется для заказов и карточек блюд).\n",
    "- `order_id` — уникальный идентификатор заказа.\n",
    "- `revenue` — выручка от заказа (в рублях). Это та сумма, которую пользователь видит при оплате.\n",
    "- `delivery` — стоимость доставки (в рублях).\n",
    "- `commission` — комиссия, которую «Всё.из.кафе» берёт с выручки ресторана, в процентах.\n",
    "\n",
    "    \n",
    "### План проекта\n",
    "- Загрузка данных и их предобработка.\n",
    "- Анализ пользовательского пути новых пользователей.\n",
    "- RFM сегментация.\n",
    "- K-Means кластеризация.\n",
    "- Итоговый вывод и рекомендации."
   ]
  },
  {
   "cell_type": "markdown",
   "id": "cd31b396",
   "metadata": {
    "id": "cd31b396"
   },
   "source": [
    "## 1. Загрузка данных и их предобработка"
   ]
  },
  {
   "cell_type": "code",
   "execution_count": 1,
   "id": "95c67de5",
   "metadata": {},
   "outputs": [],
   "source": [
    "# Загружаем все необходимые библиотеки\n",
    "import pandas as pd\n",
    "import seaborn as sns\n",
    "import matplotlib.pyplot as plt\n",
    "import matplotlib.colors as mcolors\n",
    "import numpy as np\n",
    "!pip install missingno -q\n",
    "import missingno as msno\n",
    "from sklearn.cluster import KMeans\n",
    "from sklearn.preprocessing import MinMaxScaler"
   ]
  },
  {
   "cell_type": "code",
   "execution_count": 2,
   "id": "c18f9a14",
   "metadata": {},
   "outputs": [],
   "source": [
    "# Загружаем рабочий датафрейм\n",
    "data = pd.read_csv('https://code.s3.yandex.net/datasets/insides_data.csv')"
   ]
  },
  {
   "cell_type": "markdown",
   "id": "85756ea5",
   "metadata": {},
   "source": [
    "Перейдем к предобработке датафрейма. "
   ]
  },
  {
   "cell_type": "code",
   "execution_count": 3,
   "id": "cfa7cf9f",
   "metadata": {},
   "outputs": [
    {
     "data": {
      "text/html": [
       "<div>\n",
       "<style scoped>\n",
       "    .dataframe tbody tr th:only-of-type {\n",
       "        vertical-align: middle;\n",
       "    }\n",
       "\n",
       "    .dataframe tbody tr th {\n",
       "        vertical-align: top;\n",
       "    }\n",
       "\n",
       "    .dataframe thead th {\n",
       "        text-align: right;\n",
       "    }\n",
       "</style>\n",
       "<table border=\"1\" class=\"dataframe\">\n",
       "  <thead>\n",
       "    <tr style=\"text-align: right;\">\n",
       "      <th></th>\n",
       "      <th>visitor_uuid</th>\n",
       "      <th>user_id</th>\n",
       "      <th>device_type</th>\n",
       "      <th>city_id</th>\n",
       "      <th>source</th>\n",
       "      <th>first_date</th>\n",
       "      <th>visit_id</th>\n",
       "      <th>event</th>\n",
       "      <th>datetime</th>\n",
       "      <th>rest_id</th>\n",
       "      <th>object_id</th>\n",
       "      <th>order_id</th>\n",
       "      <th>revenue</th>\n",
       "      <th>delivery</th>\n",
       "      <th>commission</th>\n",
       "    </tr>\n",
       "  </thead>\n",
       "  <tbody>\n",
       "    <tr>\n",
       "      <th>0</th>\n",
       "      <td>01b5da38-3022-48ff-87c0-5519247fef1b</td>\n",
       "      <td>567317.0</td>\n",
       "      <td>Desktop</td>\n",
       "      <td>6</td>\n",
       "      <td>Source_B</td>\n",
       "      <td>2021-05-01</td>\n",
       "      <td>171481813</td>\n",
       "      <td>authorization</td>\n",
       "      <td>2021-05-01 16:07:53</td>\n",
       "      <td>NaN</td>\n",
       "      <td>NaN</td>\n",
       "      <td>NaN</td>\n",
       "      <td>NaN</td>\n",
       "      <td>NaN</td>\n",
       "      <td>NaN</td>\n",
       "    </tr>\n",
       "    <tr>\n",
       "      <th>1</th>\n",
       "      <td>01b5da38-3022-48ff-87c0-5519247fef1b</td>\n",
       "      <td>567317.0</td>\n",
       "      <td>Desktop</td>\n",
       "      <td>6</td>\n",
       "      <td>Source_B</td>\n",
       "      <td>2021-05-01</td>\n",
       "      <td>171481813</td>\n",
       "      <td>reg_page</td>\n",
       "      <td>2021-05-01 16:09:16</td>\n",
       "      <td>NaN</td>\n",
       "      <td>NaN</td>\n",
       "      <td>NaN</td>\n",
       "      <td>NaN</td>\n",
       "      <td>NaN</td>\n",
       "      <td>NaN</td>\n",
       "    </tr>\n",
       "    <tr>\n",
       "      <th>2</th>\n",
       "      <td>01b5da38-3022-48ff-87c0-5519247fef1b</td>\n",
       "      <td>567317.0</td>\n",
       "      <td>Desktop</td>\n",
       "      <td>6</td>\n",
       "      <td>Source_B</td>\n",
       "      <td>2021-05-01</td>\n",
       "      <td>171481813</td>\n",
       "      <td>confirm_phone</td>\n",
       "      <td>2021-05-01 16:09:19</td>\n",
       "      <td>NaN</td>\n",
       "      <td>NaN</td>\n",
       "      <td>NaN</td>\n",
       "      <td>NaN</td>\n",
       "      <td>NaN</td>\n",
       "      <td>NaN</td>\n",
       "    </tr>\n",
       "    <tr>\n",
       "      <th>3</th>\n",
       "      <td>01b5da38-3022-48ff-87c0-5519247fef1b</td>\n",
       "      <td>567317.0</td>\n",
       "      <td>Desktop</td>\n",
       "      <td>6</td>\n",
       "      <td>Source_B</td>\n",
       "      <td>2021-05-01</td>\n",
       "      <td>171481813</td>\n",
       "      <td>login</td>\n",
       "      <td>2021-05-01 16:09:23</td>\n",
       "      <td>NaN</td>\n",
       "      <td>NaN</td>\n",
       "      <td>NaN</td>\n",
       "      <td>NaN</td>\n",
       "      <td>NaN</td>\n",
       "      <td>NaN</td>\n",
       "    </tr>\n",
       "    <tr>\n",
       "      <th>4</th>\n",
       "      <td>01b5da38-3022-48ff-87c0-5519247fef1b</td>\n",
       "      <td>567317.0</td>\n",
       "      <td>Desktop</td>\n",
       "      <td>6</td>\n",
       "      <td>Source_B</td>\n",
       "      <td>2021-05-01</td>\n",
       "      <td>171481813</td>\n",
       "      <td>main_page</td>\n",
       "      <td>2021-05-01 16:09:34</td>\n",
       "      <td>2c6095730b514c189ee41c65f03febc3</td>\n",
       "      <td>NaN</td>\n",
       "      <td>NaN</td>\n",
       "      <td>NaN</td>\n",
       "      <td>NaN</td>\n",
       "      <td>NaN</td>\n",
       "    </tr>\n",
       "  </tbody>\n",
       "</table>\n",
       "</div>"
      ],
      "text/plain": [
       "                           visitor_uuid   user_id device_type  city_id  \\\n",
       "0  01b5da38-3022-48ff-87c0-5519247fef1b  567317.0     Desktop        6   \n",
       "1  01b5da38-3022-48ff-87c0-5519247fef1b  567317.0     Desktop        6   \n",
       "2  01b5da38-3022-48ff-87c0-5519247fef1b  567317.0     Desktop        6   \n",
       "3  01b5da38-3022-48ff-87c0-5519247fef1b  567317.0     Desktop        6   \n",
       "4  01b5da38-3022-48ff-87c0-5519247fef1b  567317.0     Desktop        6   \n",
       "\n",
       "     source  first_date   visit_id          event             datetime  \\\n",
       "0  Source_B  2021-05-01  171481813  authorization  2021-05-01 16:07:53   \n",
       "1  Source_B  2021-05-01  171481813       reg_page  2021-05-01 16:09:16   \n",
       "2  Source_B  2021-05-01  171481813  confirm_phone  2021-05-01 16:09:19   \n",
       "3  Source_B  2021-05-01  171481813          login  2021-05-01 16:09:23   \n",
       "4  Source_B  2021-05-01  171481813      main_page  2021-05-01 16:09:34   \n",
       "\n",
       "                            rest_id  object_id  order_id  revenue  delivery  \\\n",
       "0                               NaN        NaN       NaN      NaN       NaN   \n",
       "1                               NaN        NaN       NaN      NaN       NaN   \n",
       "2                               NaN        NaN       NaN      NaN       NaN   \n",
       "3                               NaN        NaN       NaN      NaN       NaN   \n",
       "4  2c6095730b514c189ee41c65f03febc3        NaN       NaN      NaN       NaN   \n",
       "\n",
       "   commission  \n",
       "0         NaN  \n",
       "1         NaN  \n",
       "2         NaN  \n",
       "3         NaN  \n",
       "4         NaN  "
      ]
     },
     "execution_count": 3,
     "metadata": {},
     "output_type": "execute_result"
    }
   ],
   "source": [
    "# Выведем первые пять строк датафрейма \n",
    "data.head()"
   ]
  },
  {
   "cell_type": "code",
   "execution_count": 4,
   "id": "328d8fcc",
   "metadata": {},
   "outputs": [
    {
     "name": "stdout",
     "output_type": "stream",
     "text": [
      "<class 'pandas.core.frame.DataFrame'>\n",
      "RangeIndex: 205510 entries, 0 to 205509\n",
      "Data columns (total 15 columns):\n",
      " #   Column        Non-Null Count   Dtype  \n",
      "---  ------        --------------   -----  \n",
      " 0   visitor_uuid  205510 non-null  object \n",
      " 1   user_id       205510 non-null  float64\n",
      " 2   device_type   205510 non-null  object \n",
      " 3   city_id       205510 non-null  int64  \n",
      " 4   source        205510 non-null  object \n",
      " 5   first_date    205510 non-null  object \n",
      " 6   visit_id      205510 non-null  int64  \n",
      " 7   event         205510 non-null  object \n",
      " 8   datetime      205510 non-null  object \n",
      " 9   rest_id       166915 non-null  object \n",
      " 10  object_id     21308 non-null   float64\n",
      " 11  order_id      7008 non-null    float64\n",
      " 12  revenue       7008 non-null    float64\n",
      " 13  delivery      7008 non-null    float64\n",
      " 14  commission    21308 non-null   float64\n",
      "dtypes: float64(6), int64(2), object(7)\n",
      "memory usage: 23.5+ MB\n"
     ]
    }
   ],
   "source": [
    "data.info()"
   ]
  },
  {
   "cell_type": "code",
   "execution_count": 5,
   "id": "ff3e1395",
   "metadata": {},
   "outputs": [
    {
     "data": {
      "text/plain": [
       "visitor_uuid    0.000000\n",
       "user_id         0.000000\n",
       "device_type     0.000000\n",
       "city_id         0.000000\n",
       "source          0.000000\n",
       "first_date      0.000000\n",
       "visit_id        0.000000\n",
       "event           0.000000\n",
       "datetime        0.000000\n",
       "rest_id         0.187801\n",
       "object_id       0.896316\n",
       "order_id        0.965899\n",
       "revenue         0.965899\n",
       "delivery        0.965899\n",
       "commission      0.896316\n",
       "dtype: float64"
      ]
     },
     "execution_count": 5,
     "metadata": {},
     "output_type": "execute_result"
    }
   ],
   "source": [
    "data.isna().sum() / data.shape[0]"
   ]
  },
  {
   "cell_type": "code",
   "execution_count": 6,
   "id": "d3ea22e8",
   "metadata": {},
   "outputs": [
    {
     "data": {
      "text/plain": [
       "array(['authorization', 'reg_page', 'confirm_phone', 'login', 'main_page',\n",
       "       'object_page', 'add_to_cart', 'order'], dtype=object)"
      ]
     },
     "execution_count": 6,
     "metadata": {},
     "output_type": "execute_result"
    }
   ],
   "source": [
    "#Посмотрим уникальные события \n",
    "data['event'].unique()"
   ]
  },
  {
   "cell_type": "markdown",
   "id": "7626cfb5",
   "metadata": {},
   "source": [
    "Датасет одержит 205510 строк и 15 столбцов:\n",
    "- Столбцы `visitor_uuid`, `device_type`, `source`, `event`, `rest_id` представлены типом данных `object`, что корректно для их содержимого. \n",
    "- Столбцы `user_id`, `object_id`, `order_id`, `revenue`, `delivery`, `commission` содержат данные типа `float64`.\n",
    "- `city_id` представлен в формате `int64`.\n",
    "- Столбцы, содержащие дату и время - `first_date` и `datetime`, необходимо привести к временному формату данных.\n",
    "- Содержимое столбцов совпадает с заявленным описанием. \n",
    "- Столбцы `rest_id`, `object_id`, `order_id`, `revenue`, `delivery`, `commission` содержат от 19 до 97% пропусков. Не будем удалять эти строки, так как потеряем большой объем информации. Пропуски объясняются тем, что эти столбцы заполняются при определенных условиях: `rest_id` заполняется только для событий, связанных с ресторанами (просмотр карточки, заказ), `order_id`, `revenue`, `delivery`, `commission` заполняются только при оформлении заказа. А в датафрейме содержатся еще и другие действия - 'authorization', 'reg_page', 'confirm_phone', 'login', 'main_page', 'object_page', 'add_to_cart', 'order'.\n",
    "\n",
    "Для оптимизации памяти можно понизить размерность числовых типов данных."
   ]
  },
  {
   "cell_type": "code",
   "execution_count": 7,
   "id": "6ae389e4",
   "metadata": {},
   "outputs": [],
   "source": [
    "# Приведем столбцы `first_date` и `datetime` к типу даты\n",
    "data['first_date'] = pd.to_datetime(data['first_date'])\n",
    "data['datetime'] = pd.to_datetime(data['datetime'])"
   ]
  },
  {
   "cell_type": "code",
   "execution_count": 8,
   "id": "1bb18033",
   "metadata": {},
   "outputs": [],
   "source": [
    "# Оптимизация числовых типов данных\n",
    "def optimize_memory_usage(df: pd.DataFrame, print_size: bool=True) -> pd.DataFrame:\n",
    "        '''\n",
    "        Function optimizes memory usage in dataframe\n",
    "        df: pd.DataFrame - data table\n",
    "        print_size: bool - display of optimization results\n",
    "        return pd.DataFrame - amount of optimized memory\n",
    "        '''\n",
    "        numerics = ['int16', 'int32', 'int64', 'float16', 'float32', 'float64'] # Типы, которые будем проверять на оптимизацию\n",
    "        # Размер занимаемой памяти до оптимизации (в Мб)\n",
    "        before_size = df.memory_usage().sum() / 1024**2    \n",
    "        for column in df.columns:\n",
    "            column_type = df[column].dtypes\n",
    "            if column_type in numerics:\n",
    "                column_min = df[column].min()\n",
    "                column_max = df[column].max()\n",
    "                if str(column_type).startswith('int'):\n",
    "                    if column_min > np.iinfo(np.int8).min and column_max < np.iinfo(np.int8).max:\n",
    "                        df[column] = df[column].astype(np.int8)\n",
    "                    elif column_min > np.iinfo(np.int16).min and column_max < np.iinfo(np.int16).max:\n",
    "                        df[column] = df[column].astype(np.int16)\n",
    "                    elif column_min > np.iinfo(np.int32).min and column_max < np.iinfo(np.int32).max:\n",
    "                        df[column] = df[column].astype(np.int32)\n",
    "                    elif column_min > np.iinfo(np.int64).min and column_max < np.iinfo(np.int64).max:\n",
    "                        df[column] = df[column].astype(np.int64)  \n",
    "                else:\n",
    "                    if column_min > np.finfo(np.float32).min and column_max < np.finfo(np.float32).max:\n",
    "                        df[column] = df[column].astype(np.float32)\n",
    "                    else:\n",
    "                        df[column] = df[column].astype(np.float64)    \n",
    "        # Размер занимаемой памяти после оптимизации (в Мб)\n",
    "        after_size = df.memory_usage().sum() / 1024**2\n",
    "        if print_size: print('Размер использования памяти: до {:5.2f} Mb - после {:5.2f} Mb ({:.1f}%)'\n",
    "                             .format(before_size, after_size, 100 * (before_size - after_size) / before_size))\n",
    "        return df"
   ]
  },
  {
   "cell_type": "code",
   "execution_count": 9,
   "id": "5d0b463c",
   "metadata": {},
   "outputs": [
    {
     "name": "stdout",
     "output_type": "stream",
     "text": [
      "Размер использования памяти: до 23.52 Mb - после 16.66 Mb (29.2%)\n"
     ]
    },
    {
     "data": {
      "text/html": [
       "<div>\n",
       "<style scoped>\n",
       "    .dataframe tbody tr th:only-of-type {\n",
       "        vertical-align: middle;\n",
       "    }\n",
       "\n",
       "    .dataframe tbody tr th {\n",
       "        vertical-align: top;\n",
       "    }\n",
       "\n",
       "    .dataframe thead th {\n",
       "        text-align: right;\n",
       "    }\n",
       "</style>\n",
       "<table border=\"1\" class=\"dataframe\">\n",
       "  <thead>\n",
       "    <tr style=\"text-align: right;\">\n",
       "      <th></th>\n",
       "      <th>visitor_uuid</th>\n",
       "      <th>user_id</th>\n",
       "      <th>device_type</th>\n",
       "      <th>city_id</th>\n",
       "      <th>source</th>\n",
       "      <th>first_date</th>\n",
       "      <th>visit_id</th>\n",
       "      <th>event</th>\n",
       "      <th>datetime</th>\n",
       "      <th>rest_id</th>\n",
       "      <th>object_id</th>\n",
       "      <th>order_id</th>\n",
       "      <th>revenue</th>\n",
       "      <th>delivery</th>\n",
       "      <th>commission</th>\n",
       "    </tr>\n",
       "  </thead>\n",
       "  <tbody>\n",
       "    <tr>\n",
       "      <th>0</th>\n",
       "      <td>01b5da38-3022-48ff-87c0-5519247fef1b</td>\n",
       "      <td>567317.0</td>\n",
       "      <td>Desktop</td>\n",
       "      <td>6</td>\n",
       "      <td>Source_B</td>\n",
       "      <td>2021-05-01</td>\n",
       "      <td>171481813</td>\n",
       "      <td>authorization</td>\n",
       "      <td>2021-05-01 16:07:53</td>\n",
       "      <td>NaN</td>\n",
       "      <td>NaN</td>\n",
       "      <td>NaN</td>\n",
       "      <td>NaN</td>\n",
       "      <td>NaN</td>\n",
       "      <td>NaN</td>\n",
       "    </tr>\n",
       "    <tr>\n",
       "      <th>1</th>\n",
       "      <td>01b5da38-3022-48ff-87c0-5519247fef1b</td>\n",
       "      <td>567317.0</td>\n",
       "      <td>Desktop</td>\n",
       "      <td>6</td>\n",
       "      <td>Source_B</td>\n",
       "      <td>2021-05-01</td>\n",
       "      <td>171481813</td>\n",
       "      <td>reg_page</td>\n",
       "      <td>2021-05-01 16:09:16</td>\n",
       "      <td>NaN</td>\n",
       "      <td>NaN</td>\n",
       "      <td>NaN</td>\n",
       "      <td>NaN</td>\n",
       "      <td>NaN</td>\n",
       "      <td>NaN</td>\n",
       "    </tr>\n",
       "    <tr>\n",
       "      <th>2</th>\n",
       "      <td>01b5da38-3022-48ff-87c0-5519247fef1b</td>\n",
       "      <td>567317.0</td>\n",
       "      <td>Desktop</td>\n",
       "      <td>6</td>\n",
       "      <td>Source_B</td>\n",
       "      <td>2021-05-01</td>\n",
       "      <td>171481813</td>\n",
       "      <td>confirm_phone</td>\n",
       "      <td>2021-05-01 16:09:19</td>\n",
       "      <td>NaN</td>\n",
       "      <td>NaN</td>\n",
       "      <td>NaN</td>\n",
       "      <td>NaN</td>\n",
       "      <td>NaN</td>\n",
       "      <td>NaN</td>\n",
       "    </tr>\n",
       "    <tr>\n",
       "      <th>3</th>\n",
       "      <td>01b5da38-3022-48ff-87c0-5519247fef1b</td>\n",
       "      <td>567317.0</td>\n",
       "      <td>Desktop</td>\n",
       "      <td>6</td>\n",
       "      <td>Source_B</td>\n",
       "      <td>2021-05-01</td>\n",
       "      <td>171481813</td>\n",
       "      <td>login</td>\n",
       "      <td>2021-05-01 16:09:23</td>\n",
       "      <td>NaN</td>\n",
       "      <td>NaN</td>\n",
       "      <td>NaN</td>\n",
       "      <td>NaN</td>\n",
       "      <td>NaN</td>\n",
       "      <td>NaN</td>\n",
       "    </tr>\n",
       "    <tr>\n",
       "      <th>4</th>\n",
       "      <td>01b5da38-3022-48ff-87c0-5519247fef1b</td>\n",
       "      <td>567317.0</td>\n",
       "      <td>Desktop</td>\n",
       "      <td>6</td>\n",
       "      <td>Source_B</td>\n",
       "      <td>2021-05-01</td>\n",
       "      <td>171481813</td>\n",
       "      <td>main_page</td>\n",
       "      <td>2021-05-01 16:09:34</td>\n",
       "      <td>2c6095730b514c189ee41c65f03febc3</td>\n",
       "      <td>NaN</td>\n",
       "      <td>NaN</td>\n",
       "      <td>NaN</td>\n",
       "      <td>NaN</td>\n",
       "      <td>NaN</td>\n",
       "    </tr>\n",
       "    <tr>\n",
       "      <th>...</th>\n",
       "      <td>...</td>\n",
       "      <td>...</td>\n",
       "      <td>...</td>\n",
       "      <td>...</td>\n",
       "      <td>...</td>\n",
       "      <td>...</td>\n",
       "      <td>...</td>\n",
       "      <td>...</td>\n",
       "      <td>...</td>\n",
       "      <td>...</td>\n",
       "      <td>...</td>\n",
       "      <td>...</td>\n",
       "      <td>...</td>\n",
       "      <td>...</td>\n",
       "      <td>...</td>\n",
       "    </tr>\n",
       "    <tr>\n",
       "      <th>205505</th>\n",
       "      <td>fa03bc4e-a8d6-45b2-9df0-29e6e8449fd8</td>\n",
       "      <td>641931.0</td>\n",
       "      <td>Desktop</td>\n",
       "      <td>6</td>\n",
       "      <td>organic</td>\n",
       "      <td>2021-06-28</td>\n",
       "      <td>193825829</td>\n",
       "      <td>authorization</td>\n",
       "      <td>2021-07-01 14:02:36</td>\n",
       "      <td>NaN</td>\n",
       "      <td>NaN</td>\n",
       "      <td>NaN</td>\n",
       "      <td>NaN</td>\n",
       "      <td>NaN</td>\n",
       "      <td>NaN</td>\n",
       "    </tr>\n",
       "    <tr>\n",
       "      <th>205506</th>\n",
       "      <td>fa03bc4e-a8d6-45b2-9df0-29e6e8449fd8</td>\n",
       "      <td>641931.0</td>\n",
       "      <td>Desktop</td>\n",
       "      <td>6</td>\n",
       "      <td>organic</td>\n",
       "      <td>2021-06-28</td>\n",
       "      <td>193825829</td>\n",
       "      <td>main_page</td>\n",
       "      <td>2021-07-01 14:22:00</td>\n",
       "      <td>56edd124dfa44656afe0c0d041eba562</td>\n",
       "      <td>NaN</td>\n",
       "      <td>NaN</td>\n",
       "      <td>NaN</td>\n",
       "      <td>NaN</td>\n",
       "      <td>NaN</td>\n",
       "    </tr>\n",
       "    <tr>\n",
       "      <th>205507</th>\n",
       "      <td>fbf7a714-cb1d-492a-ae30-b45d02b44989</td>\n",
       "      <td>616472.0</td>\n",
       "      <td>Desktop</td>\n",
       "      <td>6</td>\n",
       "      <td>organic</td>\n",
       "      <td>2021-07-01</td>\n",
       "      <td>193987971</td>\n",
       "      <td>login</td>\n",
       "      <td>2021-07-02 00:11:57</td>\n",
       "      <td>NaN</td>\n",
       "      <td>NaN</td>\n",
       "      <td>NaN</td>\n",
       "      <td>NaN</td>\n",
       "      <td>NaN</td>\n",
       "      <td>NaN</td>\n",
       "    </tr>\n",
       "    <tr>\n",
       "      <th>205508</th>\n",
       "      <td>fbf7a714-cb1d-492a-ae30-b45d02b44989</td>\n",
       "      <td>616472.0</td>\n",
       "      <td>Desktop</td>\n",
       "      <td>6</td>\n",
       "      <td>organic</td>\n",
       "      <td>2021-07-01</td>\n",
       "      <td>193987971</td>\n",
       "      <td>add_to_cart</td>\n",
       "      <td>2021-07-02 00:12:05</td>\n",
       "      <td>8c9307a1485d4f8aa48c6746e46540d8</td>\n",
       "      <td>27807.0</td>\n",
       "      <td>675680.0</td>\n",
       "      <td>1400.0</td>\n",
       "      <td>28.0</td>\n",
       "      <td>0.05</td>\n",
       "    </tr>\n",
       "    <tr>\n",
       "      <th>205509</th>\n",
       "      <td>fbf7a714-cb1d-492a-ae30-b45d02b44989</td>\n",
       "      <td>616472.0</td>\n",
       "      <td>Desktop</td>\n",
       "      <td>6</td>\n",
       "      <td>organic</td>\n",
       "      <td>2021-07-01</td>\n",
       "      <td>193987971</td>\n",
       "      <td>order</td>\n",
       "      <td>2021-07-02 00:12:08</td>\n",
       "      <td>8c9307a1485d4f8aa48c6746e46540d8</td>\n",
       "      <td>27807.0</td>\n",
       "      <td>675680.0</td>\n",
       "      <td>1400.0</td>\n",
       "      <td>28.0</td>\n",
       "      <td>0.05</td>\n",
       "    </tr>\n",
       "  </tbody>\n",
       "</table>\n",
       "<p>205510 rows × 15 columns</p>\n",
       "</div>"
      ],
      "text/plain": [
       "                                visitor_uuid   user_id device_type  city_id  \\\n",
       "0       01b5da38-3022-48ff-87c0-5519247fef1b  567317.0     Desktop        6   \n",
       "1       01b5da38-3022-48ff-87c0-5519247fef1b  567317.0     Desktop        6   \n",
       "2       01b5da38-3022-48ff-87c0-5519247fef1b  567317.0     Desktop        6   \n",
       "3       01b5da38-3022-48ff-87c0-5519247fef1b  567317.0     Desktop        6   \n",
       "4       01b5da38-3022-48ff-87c0-5519247fef1b  567317.0     Desktop        6   \n",
       "...                                      ...       ...         ...      ...   \n",
       "205505  fa03bc4e-a8d6-45b2-9df0-29e6e8449fd8  641931.0     Desktop        6   \n",
       "205506  fa03bc4e-a8d6-45b2-9df0-29e6e8449fd8  641931.0     Desktop        6   \n",
       "205507  fbf7a714-cb1d-492a-ae30-b45d02b44989  616472.0     Desktop        6   \n",
       "205508  fbf7a714-cb1d-492a-ae30-b45d02b44989  616472.0     Desktop        6   \n",
       "205509  fbf7a714-cb1d-492a-ae30-b45d02b44989  616472.0     Desktop        6   \n",
       "\n",
       "          source first_date   visit_id          event            datetime  \\\n",
       "0       Source_B 2021-05-01  171481813  authorization 2021-05-01 16:07:53   \n",
       "1       Source_B 2021-05-01  171481813       reg_page 2021-05-01 16:09:16   \n",
       "2       Source_B 2021-05-01  171481813  confirm_phone 2021-05-01 16:09:19   \n",
       "3       Source_B 2021-05-01  171481813          login 2021-05-01 16:09:23   \n",
       "4       Source_B 2021-05-01  171481813      main_page 2021-05-01 16:09:34   \n",
       "...          ...        ...        ...            ...                 ...   \n",
       "205505   organic 2021-06-28  193825829  authorization 2021-07-01 14:02:36   \n",
       "205506   organic 2021-06-28  193825829      main_page 2021-07-01 14:22:00   \n",
       "205507   organic 2021-07-01  193987971          login 2021-07-02 00:11:57   \n",
       "205508   organic 2021-07-01  193987971    add_to_cart 2021-07-02 00:12:05   \n",
       "205509   organic 2021-07-01  193987971          order 2021-07-02 00:12:08   \n",
       "\n",
       "                                 rest_id  object_id  order_id  revenue  \\\n",
       "0                                    NaN        NaN       NaN      NaN   \n",
       "1                                    NaN        NaN       NaN      NaN   \n",
       "2                                    NaN        NaN       NaN      NaN   \n",
       "3                                    NaN        NaN       NaN      NaN   \n",
       "4       2c6095730b514c189ee41c65f03febc3        NaN       NaN      NaN   \n",
       "...                                  ...        ...       ...      ...   \n",
       "205505                               NaN        NaN       NaN      NaN   \n",
       "205506  56edd124dfa44656afe0c0d041eba562        NaN       NaN      NaN   \n",
       "205507                               NaN        NaN       NaN      NaN   \n",
       "205508  8c9307a1485d4f8aa48c6746e46540d8    27807.0  675680.0   1400.0   \n",
       "205509  8c9307a1485d4f8aa48c6746e46540d8    27807.0  675680.0   1400.0   \n",
       "\n",
       "        delivery  commission  \n",
       "0            NaN         NaN  \n",
       "1            NaN         NaN  \n",
       "2            NaN         NaN  \n",
       "3            NaN         NaN  \n",
       "4            NaN         NaN  \n",
       "...          ...         ...  \n",
       "205505       NaN         NaN  \n",
       "205506       NaN         NaN  \n",
       "205507       NaN         NaN  \n",
       "205508      28.0        0.05  \n",
       "205509      28.0        0.05  \n",
       "\n",
       "[205510 rows x 15 columns]"
      ]
     },
     "execution_count": 9,
     "metadata": {},
     "output_type": "execute_result"
    }
   ],
   "source": [
    "optimize_memory_usage(data)"
   ]
  },
  {
   "cell_type": "code",
   "execution_count": 10,
   "id": "349016eb",
   "metadata": {},
   "outputs": [
    {
     "name": "stdout",
     "output_type": "stream",
     "text": [
      "В датафрейме найдено 0 явных дубликатов \n",
      "В датафрейме найдено 7 неявных дубликатов \n",
      "Неявные дубликаты:\n"
     ]
    },
    {
     "data": {
      "text/html": [
       "<div>\n",
       "<style scoped>\n",
       "    .dataframe tbody tr th:only-of-type {\n",
       "        vertical-align: middle;\n",
       "    }\n",
       "\n",
       "    .dataframe tbody tr th {\n",
       "        vertical-align: top;\n",
       "    }\n",
       "\n",
       "    .dataframe thead th {\n",
       "        text-align: right;\n",
       "    }\n",
       "</style>\n",
       "<table border=\"1\" class=\"dataframe\">\n",
       "  <thead>\n",
       "    <tr style=\"text-align: right;\">\n",
       "      <th></th>\n",
       "      <th>visitor_uuid</th>\n",
       "      <th>user_id</th>\n",
       "      <th>device_type</th>\n",
       "      <th>city_id</th>\n",
       "      <th>source</th>\n",
       "      <th>first_date</th>\n",
       "      <th>visit_id</th>\n",
       "      <th>event</th>\n",
       "      <th>datetime</th>\n",
       "      <th>rest_id</th>\n",
       "      <th>object_id</th>\n",
       "      <th>order_id</th>\n",
       "      <th>revenue</th>\n",
       "      <th>delivery</th>\n",
       "      <th>commission</th>\n",
       "    </tr>\n",
       "  </thead>\n",
       "  <tbody>\n",
       "    <tr>\n",
       "      <th>6053</th>\n",
       "      <td>011d6385-8508-44f6-a208-693439a959d2</td>\n",
       "      <td>570334.0</td>\n",
       "      <td>Desktop</td>\n",
       "      <td>6</td>\n",
       "      <td>Source_C</td>\n",
       "      <td>2021-05-01</td>\n",
       "      <td>172092821</td>\n",
       "      <td>authorization</td>\n",
       "      <td>2021-05-03 18:18:38</td>\n",
       "      <td>NaN</td>\n",
       "      <td>NaN</td>\n",
       "      <td>NaN</td>\n",
       "      <td>NaN</td>\n",
       "      <td>NaN</td>\n",
       "      <td>NaN</td>\n",
       "    </tr>\n",
       "    <tr>\n",
       "      <th>6054</th>\n",
       "      <td>011d6385-8508-44f6-a208-693439a959d2</td>\n",
       "      <td>570334.0</td>\n",
       "      <td>Desktop</td>\n",
       "      <td>6</td>\n",
       "      <td>Source_C</td>\n",
       "      <td>2021-05-01</td>\n",
       "      <td>172092822</td>\n",
       "      <td>authorization</td>\n",
       "      <td>2021-05-03 18:18:38</td>\n",
       "      <td>NaN</td>\n",
       "      <td>NaN</td>\n",
       "      <td>NaN</td>\n",
       "      <td>NaN</td>\n",
       "      <td>NaN</td>\n",
       "      <td>NaN</td>\n",
       "    </tr>\n",
       "    <tr>\n",
       "      <th>14373</th>\n",
       "      <td>f15a5b75-db5b-4329-a82d-31332bb4b62b</td>\n",
       "      <td>570841.0</td>\n",
       "      <td>Desktop</td>\n",
       "      <td>6</td>\n",
       "      <td>organic</td>\n",
       "      <td>2021-05-03</td>\n",
       "      <td>172287156</td>\n",
       "      <td>authorization</td>\n",
       "      <td>2021-05-04 11:47:25</td>\n",
       "      <td>NaN</td>\n",
       "      <td>NaN</td>\n",
       "      <td>NaN</td>\n",
       "      <td>NaN</td>\n",
       "      <td>NaN</td>\n",
       "      <td>NaN</td>\n",
       "    </tr>\n",
       "    <tr>\n",
       "      <th>14374</th>\n",
       "      <td>f15a5b75-db5b-4329-a82d-31332bb4b62b</td>\n",
       "      <td>570841.0</td>\n",
       "      <td>Desktop</td>\n",
       "      <td>6</td>\n",
       "      <td>organic</td>\n",
       "      <td>2021-05-03</td>\n",
       "      <td>172287157</td>\n",
       "      <td>authorization</td>\n",
       "      <td>2021-05-04 11:47:25</td>\n",
       "      <td>NaN</td>\n",
       "      <td>NaN</td>\n",
       "      <td>NaN</td>\n",
       "      <td>NaN</td>\n",
       "      <td>NaN</td>\n",
       "      <td>NaN</td>\n",
       "    </tr>\n",
       "    <tr>\n",
       "      <th>33611</th>\n",
       "      <td>34368fa2-ecc3-4285-8ba5-2cede61d9b2e</td>\n",
       "      <td>580940.0</td>\n",
       "      <td>Desktop</td>\n",
       "      <td>6</td>\n",
       "      <td>Source_B</td>\n",
       "      <td>2021-05-11</td>\n",
       "      <td>174457841</td>\n",
       "      <td>authorization</td>\n",
       "      <td>2021-05-12 13:06:43</td>\n",
       "      <td>NaN</td>\n",
       "      <td>NaN</td>\n",
       "      <td>NaN</td>\n",
       "      <td>NaN</td>\n",
       "      <td>NaN</td>\n",
       "      <td>NaN</td>\n",
       "    </tr>\n",
       "    <tr>\n",
       "      <th>33612</th>\n",
       "      <td>34368fa2-ecc3-4285-8ba5-2cede61d9b2e</td>\n",
       "      <td>580940.0</td>\n",
       "      <td>Desktop</td>\n",
       "      <td>6</td>\n",
       "      <td>Source_B</td>\n",
       "      <td>2021-05-11</td>\n",
       "      <td>174457842</td>\n",
       "      <td>authorization</td>\n",
       "      <td>2021-05-12 13:06:43</td>\n",
       "      <td>NaN</td>\n",
       "      <td>NaN</td>\n",
       "      <td>NaN</td>\n",
       "      <td>NaN</td>\n",
       "      <td>NaN</td>\n",
       "      <td>NaN</td>\n",
       "    </tr>\n",
       "    <tr>\n",
       "      <th>37420</th>\n",
       "      <td>70eef638-0f3e-434e-b223-b432ee0f4771</td>\n",
       "      <td>146532.0</td>\n",
       "      <td>Desktop</td>\n",
       "      <td>6</td>\n",
       "      <td>Source_C</td>\n",
       "      <td>2021-05-12</td>\n",
       "      <td>174642056</td>\n",
       "      <td>authorization</td>\n",
       "      <td>2021-05-13 10:09:20</td>\n",
       "      <td>NaN</td>\n",
       "      <td>NaN</td>\n",
       "      <td>NaN</td>\n",
       "      <td>NaN</td>\n",
       "      <td>NaN</td>\n",
       "      <td>NaN</td>\n",
       "    </tr>\n",
       "    <tr>\n",
       "      <th>37421</th>\n",
       "      <td>70eef638-0f3e-434e-b223-b432ee0f4771</td>\n",
       "      <td>146532.0</td>\n",
       "      <td>Desktop</td>\n",
       "      <td>6</td>\n",
       "      <td>Source_C</td>\n",
       "      <td>2021-05-12</td>\n",
       "      <td>174642057</td>\n",
       "      <td>authorization</td>\n",
       "      <td>2021-05-13 10:09:20</td>\n",
       "      <td>NaN</td>\n",
       "      <td>NaN</td>\n",
       "      <td>NaN</td>\n",
       "      <td>NaN</td>\n",
       "      <td>NaN</td>\n",
       "      <td>NaN</td>\n",
       "    </tr>\n",
       "    <tr>\n",
       "      <th>44234</th>\n",
       "      <td>3473a33f-381c-42cc-902b-65f3178f30d8</td>\n",
       "      <td>563661.0</td>\n",
       "      <td>Desktop</td>\n",
       "      <td>6</td>\n",
       "      <td>Source_C</td>\n",
       "      <td>2021-05-16</td>\n",
       "      <td>176217598</td>\n",
       "      <td>authorization</td>\n",
       "      <td>2021-05-18 08:47:52</td>\n",
       "      <td>NaN</td>\n",
       "      <td>NaN</td>\n",
       "      <td>NaN</td>\n",
       "      <td>NaN</td>\n",
       "      <td>NaN</td>\n",
       "      <td>NaN</td>\n",
       "    </tr>\n",
       "    <tr>\n",
       "      <th>44566</th>\n",
       "      <td>3473a33f-381c-42cc-902b-65f3178f30d8</td>\n",
       "      <td>563661.0</td>\n",
       "      <td>Desktop</td>\n",
       "      <td>6</td>\n",
       "      <td>Source_C</td>\n",
       "      <td>2021-05-16</td>\n",
       "      <td>176217599</td>\n",
       "      <td>authorization</td>\n",
       "      <td>2021-05-18 08:47:52</td>\n",
       "      <td>NaN</td>\n",
       "      <td>NaN</td>\n",
       "      <td>NaN</td>\n",
       "      <td>NaN</td>\n",
       "      <td>NaN</td>\n",
       "      <td>NaN</td>\n",
       "    </tr>\n",
       "    <tr>\n",
       "      <th>76390</th>\n",
       "      <td>ce5d0dcd-f931-4c37-91d9-1ccdc8b61a4a</td>\n",
       "      <td>594482.0</td>\n",
       "      <td>Desktop</td>\n",
       "      <td>6</td>\n",
       "      <td>Source_C</td>\n",
       "      <td>2021-05-25</td>\n",
       "      <td>178836578</td>\n",
       "      <td>authorization</td>\n",
       "      <td>2021-05-26 09:04:12</td>\n",
       "      <td>NaN</td>\n",
       "      <td>NaN</td>\n",
       "      <td>NaN</td>\n",
       "      <td>NaN</td>\n",
       "      <td>NaN</td>\n",
       "      <td>NaN</td>\n",
       "    </tr>\n",
       "    <tr>\n",
       "      <th>76391</th>\n",
       "      <td>ce5d0dcd-f931-4c37-91d9-1ccdc8b61a4a</td>\n",
       "      <td>594482.0</td>\n",
       "      <td>Desktop</td>\n",
       "      <td>6</td>\n",
       "      <td>Source_C</td>\n",
       "      <td>2021-05-25</td>\n",
       "      <td>178836579</td>\n",
       "      <td>authorization</td>\n",
       "      <td>2021-05-26 09:04:12</td>\n",
       "      <td>NaN</td>\n",
       "      <td>NaN</td>\n",
       "      <td>NaN</td>\n",
       "      <td>NaN</td>\n",
       "      <td>NaN</td>\n",
       "      <td>NaN</td>\n",
       "    </tr>\n",
       "    <tr>\n",
       "      <th>190626</th>\n",
       "      <td>07bc936d-31e1-45cf-b6d1-9dfcc2b2f623</td>\n",
       "      <td>596594.0</td>\n",
       "      <td>Desktop</td>\n",
       "      <td>6</td>\n",
       "      <td>Source_C</td>\n",
       "      <td>2021-06-24</td>\n",
       "      <td>191707651</td>\n",
       "      <td>authorization</td>\n",
       "      <td>2021-06-25 20:34:50</td>\n",
       "      <td>NaN</td>\n",
       "      <td>NaN</td>\n",
       "      <td>NaN</td>\n",
       "      <td>NaN</td>\n",
       "      <td>NaN</td>\n",
       "      <td>NaN</td>\n",
       "    </tr>\n",
       "    <tr>\n",
       "      <th>190627</th>\n",
       "      <td>07bc936d-31e1-45cf-b6d1-9dfcc2b2f623</td>\n",
       "      <td>596594.0</td>\n",
       "      <td>Desktop</td>\n",
       "      <td>6</td>\n",
       "      <td>Source_C</td>\n",
       "      <td>2021-06-24</td>\n",
       "      <td>191707652</td>\n",
       "      <td>authorization</td>\n",
       "      <td>2021-06-25 20:34:50</td>\n",
       "      <td>NaN</td>\n",
       "      <td>NaN</td>\n",
       "      <td>NaN</td>\n",
       "      <td>NaN</td>\n",
       "      <td>NaN</td>\n",
       "      <td>NaN</td>\n",
       "    </tr>\n",
       "  </tbody>\n",
       "</table>\n",
       "</div>"
      ],
      "text/plain": [
       "                                visitor_uuid   user_id device_type  city_id  \\\n",
       "6053    011d6385-8508-44f6-a208-693439a959d2  570334.0     Desktop        6   \n",
       "6054    011d6385-8508-44f6-a208-693439a959d2  570334.0     Desktop        6   \n",
       "14373   f15a5b75-db5b-4329-a82d-31332bb4b62b  570841.0     Desktop        6   \n",
       "14374   f15a5b75-db5b-4329-a82d-31332bb4b62b  570841.0     Desktop        6   \n",
       "33611   34368fa2-ecc3-4285-8ba5-2cede61d9b2e  580940.0     Desktop        6   \n",
       "33612   34368fa2-ecc3-4285-8ba5-2cede61d9b2e  580940.0     Desktop        6   \n",
       "37420   70eef638-0f3e-434e-b223-b432ee0f4771  146532.0     Desktop        6   \n",
       "37421   70eef638-0f3e-434e-b223-b432ee0f4771  146532.0     Desktop        6   \n",
       "44234   3473a33f-381c-42cc-902b-65f3178f30d8  563661.0     Desktop        6   \n",
       "44566   3473a33f-381c-42cc-902b-65f3178f30d8  563661.0     Desktop        6   \n",
       "76390   ce5d0dcd-f931-4c37-91d9-1ccdc8b61a4a  594482.0     Desktop        6   \n",
       "76391   ce5d0dcd-f931-4c37-91d9-1ccdc8b61a4a  594482.0     Desktop        6   \n",
       "190626  07bc936d-31e1-45cf-b6d1-9dfcc2b2f623  596594.0     Desktop        6   \n",
       "190627  07bc936d-31e1-45cf-b6d1-9dfcc2b2f623  596594.0     Desktop        6   \n",
       "\n",
       "          source first_date   visit_id          event            datetime  \\\n",
       "6053    Source_C 2021-05-01  172092821  authorization 2021-05-03 18:18:38   \n",
       "6054    Source_C 2021-05-01  172092822  authorization 2021-05-03 18:18:38   \n",
       "14373    organic 2021-05-03  172287156  authorization 2021-05-04 11:47:25   \n",
       "14374    organic 2021-05-03  172287157  authorization 2021-05-04 11:47:25   \n",
       "33611   Source_B 2021-05-11  174457841  authorization 2021-05-12 13:06:43   \n",
       "33612   Source_B 2021-05-11  174457842  authorization 2021-05-12 13:06:43   \n",
       "37420   Source_C 2021-05-12  174642056  authorization 2021-05-13 10:09:20   \n",
       "37421   Source_C 2021-05-12  174642057  authorization 2021-05-13 10:09:20   \n",
       "44234   Source_C 2021-05-16  176217598  authorization 2021-05-18 08:47:52   \n",
       "44566   Source_C 2021-05-16  176217599  authorization 2021-05-18 08:47:52   \n",
       "76390   Source_C 2021-05-25  178836578  authorization 2021-05-26 09:04:12   \n",
       "76391   Source_C 2021-05-25  178836579  authorization 2021-05-26 09:04:12   \n",
       "190626  Source_C 2021-06-24  191707651  authorization 2021-06-25 20:34:50   \n",
       "190627  Source_C 2021-06-24  191707652  authorization 2021-06-25 20:34:50   \n",
       "\n",
       "       rest_id  object_id  order_id  revenue  delivery  commission  \n",
       "6053       NaN        NaN       NaN      NaN       NaN         NaN  \n",
       "6054       NaN        NaN       NaN      NaN       NaN         NaN  \n",
       "14373      NaN        NaN       NaN      NaN       NaN         NaN  \n",
       "14374      NaN        NaN       NaN      NaN       NaN         NaN  \n",
       "33611      NaN        NaN       NaN      NaN       NaN         NaN  \n",
       "33612      NaN        NaN       NaN      NaN       NaN         NaN  \n",
       "37420      NaN        NaN       NaN      NaN       NaN         NaN  \n",
       "37421      NaN        NaN       NaN      NaN       NaN         NaN  \n",
       "44234      NaN        NaN       NaN      NaN       NaN         NaN  \n",
       "44566      NaN        NaN       NaN      NaN       NaN         NaN  \n",
       "76390      NaN        NaN       NaN      NaN       NaN         NaN  \n",
       "76391      NaN        NaN       NaN      NaN       NaN         NaN  \n",
       "190626     NaN        NaN       NaN      NaN       NaN         NaN  \n",
       "190627     NaN        NaN       NaN      NaN       NaN         NaN  "
      ]
     },
     "execution_count": 10,
     "metadata": {},
     "output_type": "execute_result"
    }
   ],
   "source": [
    "# Проверим данные на полные дубликаты\n",
    "print(f'В датафрейме найдено {data.duplicated().sum()} явных дубликатов ')\n",
    "duplicated = data.duplicated(subset = ['user_id','datetime','event']).sum()\n",
    "print(f'В датафрейме найдено {duplicated} неявных дубликатов ')\n",
    "print('Неявные дубликаты:')\n",
    "data[data.duplicated(subset = ['user_id','datetime','event'], keep = False) == True]"
   ]
  },
  {
   "cell_type": "markdown",
   "id": "dda884a1",
   "metadata": {},
   "source": [
    "Можно заметить, что в у нас есть 7 неявных дубликатов. Они отличаются только по `visit_id`. Удалим их, оставив первую запись."
   ]
  },
  {
   "cell_type": "code",
   "execution_count": 11,
   "id": "092abddf",
   "metadata": {},
   "outputs": [
    {
     "name": "stdout",
     "output_type": "stream",
     "text": [
      "В результате очищения от дубликатов было удалено 0.003406160284171087% от исходного датафрейма\n"
     ]
    }
   ],
   "source": [
    "# Сохраним исходный размер датафрейма \n",
    "lines = data.shape[0]\n",
    "data = data.drop_duplicates(subset = ['user_id','datetime','event'])\n",
    "deleted_lines = lines - data.shape[0]\n",
    "deleted_part = deleted_lines / lines * 100\n",
    "\n",
    "print(f'В результате очищения от дубликатов было удалено {deleted_part}% от исходного датафрейма')"
   ]
  },
  {
   "cell_type": "code",
   "execution_count": 12,
   "id": "efe24ba0",
   "metadata": {},
   "outputs": [
    {
     "name": "stdout",
     "output_type": "stream",
     "text": [
      "Количество уникальных пользователей: 8473\n",
      "Количество уникальных ресторанов: 21\n"
     ]
    }
   ],
   "source": [
    "# Посмотрим на объем данных \n",
    "users = data['user_id'].nunique()\n",
    "print(f'Количество уникальных пользователей: {users}')\n",
    "restaraunts = data['rest_id'].nunique()\n",
    "print(f'Количество уникальных ресторанов: {restaraunts}')"
   ]
  },
  {
   "cell_type": "markdown",
   "id": "0daa06c9",
   "metadata": {},
   "source": [
    "### Промежуточные выводы\n",
    "\n",
    "В результате предобработки датафрейма:\n",
    "- было выяснено, что содержимое столбцов совпадает с исходным описанием данных\n",
    "- размерность числовых данных была понижена для оптимизации памяти\n",
    "- столбцы `first_date` и `datetime` были приведены к временному типу данных \n",
    "- пропуски в данных объясняются спецификой датафрейма: не все события связаны с оформлением заказа или взаимодействием с карточкой блюда\n",
    "- удалено менее 0.5% информации исходного датафрейма\n",
    "- выяснено, что всего сервисом пользуются 8473 человека, а сотрудничает он с 21 рестораном. "
   ]
  },
  {
   "cell_type": "markdown",
   "id": "e7c9d578",
   "metadata": {
    "id": "e7c9d578"
   },
   "source": [
    "---\n",
    "\n",
    "## 2. Анализ пользовательского пути\n",
    "\n",
    "Маркетологи стали замечать следующее: деньги на рекламу по-прежнему тратятся, а заказов стало меньше. И это несмотря на то, что приложение скачивается и устанавливается так же активно, как раньше. Складывается ощущение, что пользователи где-то теряются. При этом доля заказов с десктопной версии приложения увеличилась по сравнению с мобильной.\n",
    "\n",
    "Разработчики говорят, что последние обновления мобильной версии приложения не должны были повлиять на каталог блюд или его выбор для заказа и последующей оплаты доставки, так как изменения касались нового алгоритма подтверждения мобильного телефона и адреса доставки.\n",
    "\n",
    "С помощью воронок изучим общий пользовательский путь новых пользователей, затем сравним поведение пользователей мобильной и десктопной версий приложения. "
   ]
  },
  {
   "cell_type": "markdown",
   "id": "35acd0f6",
   "metadata": {},
   "source": [
    "**Задача 2.1.** Постройте и визуализируйте общую воронку (по всем данным), затем опишите пользовательский путь: какие этапы представлены, какова их последовательность, на каком (или на каких) этапах теряется большая часть новых пользователей.\n",
    "    \n",
    "При решении постройте две воронки: \n",
    "- **классическую воронку** — доля от первого шага в процентах\n",
    "- **step-by-step** — с конверсией от предыдущего этапа.\n",
    "\n",
    "Предполагается, что пользователь проходит такой путь к оформлению доставки блюда из ресторанов:\n",
    "1. `authorization` — авторизация пользователя — запуск приложения.\n",
    "2. `main_page` — загрузка основной страницы приложения.\n",
    "2. `reg_page` — переход на страницу регистрации.\n",
    "2. `confirm_phone` — подтверждение телефона (окончание процесса регистрации).\n",
    "2. `object_page` — страница блюда.\n",
    "2. `add_to_cart` — переход в корзину.\n",
    "2. `order` — оформление заказа.    "
   ]
  },
  {
   "cell_type": "code",
   "execution_count": 13,
   "id": "f3d8bcd0",
   "metadata": {},
   "outputs": [
    {
     "name": "stdout",
     "output_type": "stream",
     "text": [
      "            step  users  conversion_from_first_%  conversion_from_previous_%\n",
      "0  authorization   7410                    100.0                         NaN\n",
      "1      main_page   6537                     88.2                        88.2\n",
      "2       reg_page   5417                     73.1                        82.9\n",
      "3  confirm_phone   4190                     56.5                        77.3\n",
      "4    object_page   3453                     46.6                        82.4\n",
      "5    add_to_cart   2899                     39.1                        84.0\n",
      "6          order   2416                     32.6                        83.3\n"
     ]
    }
   ],
   "source": [
    "# Задаем порядок шагов в воронке\n",
    "funnel_steps = ['authorization', 'main_page', 'reg_page', 'confirm_phone', 'object_page', 'add_to_cart', 'order']\n",
    "# Фильтруем датасет оставляя только нужные шаги воронки\n",
    "funnel_df_steps = data[data['event'].isin(funnel_steps)]\n",
    "# Считаем число уникальных пользователей на каждом шаге\n",
    "funnel_counts = funnel_df_steps.groupby('event')['user_id'].nunique().reindex(funnel_steps)\n",
    "\n",
    "# Собираем таблицу воронки\n",
    "funnel_df = pd.DataFrame({\n",
    "   'step':funnel_steps,\n",
    "   'users':funnel_counts.values\n",
    "})\n",
    "\n",
    "# Добавляем конверсии и округляем до 1 знака после запятой\n",
    "funnel_df['conversion_from_first_%'] = round(funnel_df['users'] * 100/ funnel_df['users'].iloc[0],1)\n",
    "funnel_df['conversion_from_previous_%'] = round(funnel_df['users'] * 100 / funnel_df['users'].shift(1),1)\n",
    "\n",
    "print(funnel_df)"
   ]
  },
  {
   "cell_type": "code",
   "execution_count": 14,
   "id": "925c179d",
   "metadata": {},
   "outputs": [
    {
     "data": {
      "image/png": "[encoded data removed]",
      "text/plain": [
       "<Figure size 720x432 with 1 Axes>"
      ]
     },
     "metadata": {
      "needs_background": "light"
     },
     "output_type": "display_data"
    }
   ],
   "source": [
    "# Визуализируем данные для классической воронки\n",
    "plt.figure(figsize=(10, 6))\n",
    "# Строим barplot\n",
    "bars = plt.bar(funnel_df['step'], \n",
    "               funnel_df['conversion_from_first_%'], \n",
    "               color='mediumslateblue',\n",
    "               edgecolor='navy',\n",
    "               alpha=0.8)\n",
    "for bar in bars:\n",
    "    height = bar.get_height()\n",
    "    plt.text(bar.get_x() + bar.get_width()/2., height,\n",
    "             f'{height:.1f}%',\n",
    "             ha='center', va='bottom',\n",
    "             fontsize=10)\n",
    "plt.title('Классическая воронка')\n",
    "plt.ylabel('Конверсия от первого шага (%)')\n",
    "plt.xlabel('Этапы воронки')\n",
    "plt.show()"
   ]
  },
  {
   "cell_type": "code",
   "execution_count": 15,
   "id": "d78a7c6b",
   "metadata": {},
   "outputs": [
    {
     "data": {
      "image/png": "[encoded data removed]",
      "text/plain": [
       "<Figure size 720x432 with 1 Axes>"
      ]
     },
     "metadata": {
      "needs_background": "light"
     },
     "output_type": "display_data"
    }
   ],
   "source": [
    "# Визуализируем данные, кроме первого шага, чтобы не выводить NaN\n",
    "plt.figure(figsize=(10, 6))\n",
    "# Строим barplot\n",
    "bars = plt.bar(funnel_df['step'][1:], funnel_df['conversion_from_previous_%'][1:], color = 'mediumslateblue', edgecolor='navy',\n",
    "               alpha=0.8)\n",
    "for bar in bars:\n",
    "    height = bar.get_height()\n",
    "    plt.text(bar.get_x() + bar.get_width()/2., height,\n",
    "             f'{height:.1f}%',\n",
    "             ha='center', va='bottom',\n",
    "             fontsize=10)\n",
    "plt.title('Step-by-step воронка: конверсия от предыдущего шага')\n",
    "plt.ylabel('Конверсия от предыдущего шага (%)')\n",
    "plt.xlabel('Этапы воронки')\n",
    "plt.show()"
   ]
  },
  {
   "cell_type": "markdown",
   "id": "f8d2b697",
   "metadata": {},
   "source": [
    "Пользователь проходит такой путь к оформлению доставки блюда из ресторанов:\n",
    "1. `authorization` — авторизация пользователя — запуск приложения.\n",
    "2. `main_page` — загрузка основной страницы приложения.\n",
    "2. `reg_page` — переход на страницу регистрации.\n",
    "2. `confirm_phone` — подтверждение телефона (окончание процесса регистрации).\n",
    "2. `object_page` — страница блюда.\n",
    "2. `add_to_cart` — переход в корзину.\n",
    "2. `order` — оформление заказа.    \n",
    "\n",
    "До оформления заказа доходит около трети (32.6%) авторизованных пользователей. Более половины пользователей теряется уже к этапу просмотра страницы блюда. Исходя из воронки step-by-step, больший отток пользователей наблюдается на этапе подтверждения телефона. Это проблемное место пользовательского пути. Необходимо понять, почему так происходит и все ли группы пользователей сталкиваются с этим. "
   ]
  },
  {
   "cell_type": "markdown",
   "id": "2544fa1b",
   "metadata": {
    "id": "2544fa1b"
   },
   "source": [
    "**Задача 2.2.** Сравните пользовательский путь в двух приложениях: в мобильной версии и десктопной. Для этого постройте и визуализируйте **две воронки step-by-step**: для новых пользователей **мобильной** и **десктопной** версий приложения.\n",
    "    \n",
    "Сравните результаты между собой и проанализируйте, есть ли различия в пользовательском пути для различных приложений. Результаты сравнения опишите в небольшом **промежуточном выводе**."
   ]
  },
  {
   "cell_type": "code",
   "execution_count": 16,
   "id": "fdd93c9b",
   "metadata": {},
   "outputs": [],
   "source": [
    "#Отфильтруем данные на два датафрейма исходя из версий приложения\n",
    "funnel_df_steps_desktop = funnel_df_steps[funnel_df_steps['device_type'] == 'Desktop']\n",
    "funnel_df_steps_mobile = funnel_df_steps[funnel_df_steps['device_type'] == 'Mobile']"
   ]
  },
  {
   "cell_type": "code",
   "execution_count": 17,
   "id": "836cf577",
   "metadata": {},
   "outputs": [
    {
     "name": "stdout",
     "output_type": "stream",
     "text": [
      "Конверсия step-by-step для пользователей десктопной версии\n",
      "            step  users  conversion_from_first_%  conversion_from_previous_%\n",
      "0  authorization   4750                    100.0                         NaN\n",
      "1      main_page   4325                     91.1                        91.1\n",
      "2       reg_page   3432                     72.3                        79.4\n",
      "3  confirm_phone   3097                     65.2                        90.2\n",
      "4    object_page   2657                     55.9                        85.8\n",
      "5    add_to_cart   2203                     46.4                        82.9\n",
      "6          order   1814                     38.2                        82.3\n"
     ]
    }
   ],
   "source": [
    "# Считаем число уникальных пользователей на каждом шаге\n",
    "funnel_counts_desktop = funnel_df_steps_desktop.groupby('event')['user_id'].nunique().reindex(funnel_steps)\n",
    "\n",
    "# Собираем таблицу воронки\n",
    "funnel_df_desktop = pd.DataFrame({\n",
    "   'step':funnel_steps,\n",
    "   'users':funnel_counts_desktop.values\n",
    "})\n",
    "\n",
    "# Добавляем конверсии и округляем до 1 знака после запятой\n",
    "funnel_df_desktop['conversion_from_first_%'] = round(funnel_df_desktop['users'] * 100/ funnel_df_desktop['users'].iloc[0],1)\n",
    "funnel_df_desktop['conversion_from_previous_%'] = round(funnel_df_desktop['users'] * 100 / funnel_df_desktop['users'].shift(1),1)\n",
    "print('Конверсия step-by-step для пользователей десктопной версии')\n",
    "print(funnel_df_desktop)"
   ]
  },
  {
   "cell_type": "code",
   "execution_count": 18,
   "id": "0727970e",
   "metadata": {},
   "outputs": [
    {
     "name": "stdout",
     "output_type": "stream",
     "text": [
      "Конверсия step-by-step для пользователей мобильной версии\n",
      "            step  users  conversion_from_first_%  conversion_from_previous_%\n",
      "0  authorization   2810                    100.0                         NaN\n",
      "1      main_page   2341                     83.3                        83.3\n",
      "2       reg_page   2069                     73.6                        88.4\n",
      "3  confirm_phone   1139                     40.5                        55.1\n",
      "4    object_page    826                     29.4                        72.5\n",
      "5    add_to_cart    716                     25.5                        86.7\n",
      "6          order    614                     21.9                        85.8\n"
     ]
    }
   ],
   "source": [
    "# Считаем число уникальных пользователей на каждом шаге\n",
    "funnel_counts_mobile = funnel_df_steps_mobile.groupby('event')['user_id'].nunique().reindex(funnel_steps)\n",
    "\n",
    "# Собираем таблицу воронки\n",
    "funnel_df_mobile = pd.DataFrame({\n",
    "   'step':funnel_steps,\n",
    "   'users':funnel_counts_mobile.values\n",
    "})\n",
    "\n",
    "# Добавляем конверсии и округляем до 1 знака после запятой\n",
    "funnel_df_mobile['conversion_from_first_%'] = round(funnel_df_mobile['users'] * 100/ funnel_df_mobile['users'].iloc[0],1)\n",
    "funnel_df_mobile['conversion_from_previous_%'] = round(funnel_df_mobile['users'] * 100 / funnel_df_mobile['users'].shift(1),1)\n",
    "print('Конверсия step-by-step для пользователей мобильной версии')\n",
    "print(funnel_df_mobile)"
   ]
  },
  {
   "cell_type": "code",
   "execution_count": 19,
   "id": "03fb29c6",
   "metadata": {},
   "outputs": [
    {
     "data": {
      "image/png": "[encoded data removed]",
      "text/plain": [
       "<Figure size 720x432 with 1 Axes>"
      ]
     },
     "metadata": {
      "needs_background": "light"
     },
     "output_type": "display_data"
    },
    {
     "data": {
      "image/png": "[encoded data removed]",
      "text/plain": [
       "<Figure size 720x432 with 1 Axes>"
      ]
     },
     "metadata": {
      "needs_background": "light"
     },
     "output_type": "display_data"
    }
   ],
   "source": [
    "# Визуализируем данные, кроме первого шага, чтобы не выводить NaN\n",
    "plt.figure(figsize=(10, 6))\n",
    "# Строим barplot\n",
    "bars = plt.bar(funnel_df_desktop['step'][1:], funnel_df_desktop['conversion_from_previous_%'][1:], color = 'mediumslateblue', edgecolor='navy',\n",
    "               alpha=0.8)\n",
    "for bar in bars:\n",
    "    height = bar.get_height()\n",
    "    plt.text(bar.get_x() + bar.get_width()/2., height,\n",
    "             f'{height:.1f}%',\n",
    "             ha='center', va='bottom',\n",
    "             fontsize=10)\n",
    "    \n",
    "plt.title('Step-by-step воронка: конверсия от предыдущего шага для пользователей десктопной версии')\n",
    "plt.ylabel('Конверсия от предыдущего шага (%)')\n",
    "plt.xlabel('Этапы воронки')\n",
    "plt.show()\n",
    "\n",
    "\n",
    "# Визуализируем данные, кроме первого шага, чтобы не выводить NaN\n",
    "plt.figure(figsize=(10, 6))\n",
    "# Строим barplot\n",
    "bars = plt.bar(funnel_df_mobile['step'][1:], funnel_df_mobile['conversion_from_previous_%'][1:], color = 'mediumslateblue', edgecolor='navy',\n",
    "               alpha=0.8)\n",
    "for bar in bars:\n",
    "    height = bar.get_height()\n",
    "    plt.text(bar.get_x() + bar.get_width()/2., height,\n",
    "             f'{height:.1f}%',\n",
    "             ha='center', va='bottom',\n",
    "             fontsize=10)\n",
    "    \n",
    "plt.title('Step-by-step воронка: конверсия от предыдущего шага для пользователей мобильной версии')\n",
    "plt.ylabel('Конверсия от предыдущего шага (%)')\n",
    "plt.xlabel('Этапы воронки')\n",
    "plt.show()"
   ]
  },
  {
   "cell_type": "markdown",
   "id": "9bb89417",
   "metadata": {},
   "source": [
    "### Промежуточный вывод \n",
    "Анализ пользовательских путей выявил существенные различия между десктопной и мобильной версиями. Десктопная версия демонстрирует значительно более высокую общую конверсию (38,2% против 21,9% у мобильной), что свидетельствует о более комфортном пользовательском опыте. \n",
    "\n",
    "Наиболее проблемным этапом для мобильных пользователей стало подтверждение телефона, где конверсия от предыдущего шага составила лишь 55,1% против 90,2% в десктопной версии, то есть около половины мобильных пользователей теряется именно на этом этапе — это указывает на возможные сложности с UX мобильной формы. \n",
    "\n",
    "Основной вывод: мобильная версия требует срочного улучшения процесса подтверждения телефона, так как именно этот этап становится главным барьером для пользователей."
   ]
  },
  {
   "cell_type": "markdown",
   "id": "688346cf",
   "metadata": {
    "id": "688346cf"
   },
   "source": [
    "---\n",
    "\n",
    "## 3. RFM сегментация\n",
    "\n",
    "У сервиса доставки еды не такое высокое удержание пользователей: в первый день возвращается около 14% посетителей, а на седьмой день и того меньше — около 4–5%. Маркетологи хотят запустить несколько рекламных кампаний, направленных на удержание платящих пользователей и их возврат в сервис, если они давно не совершали заказы.\n",
    "\n",
    "Для этого необходимо сегментировать пользователей на различные поведенческие сегменты с помощью RFM-сегментации по трём показателям: \n",
    "- **давность** (Recency), \n",
    "- **частота покупок** (Frequency), \n",
    "- **сумма трат** (Monetary).\n",
    "\n",
    "В качестве даты анализа установим **03 июля 2021 года**."
   ]
  },
  {
   "cell_type": "markdown",
   "id": "5f4a65c2",
   "metadata": {},
   "source": [
    "**Задача 3.1.** Для каждого покупателя посчитайте:\n",
    "- количество дней с последней покупки — давность (R);\n",
    "- частоту покупок (F);\n",
    "- стоимость всех покупок — сумму трат (M).\n",
    "    \n",
    "В качестве даты анализа установите **03 июля 2021 года**. После этого постройте три гистограммы и проанализируйте их."
   ]
  },
  {
   "cell_type": "code",
   "execution_count": 20,
   "id": "f3604a9f",
   "metadata": {},
   "outputs": [
    {
     "name": "stdout",
     "output_type": "stream",
     "text": [
      "count     3501.000000\n",
      "mean      2537.469238\n",
      "std       2225.393555\n",
      "min        235.199997\n",
      "25%       1316.000000\n",
      "50%       1944.599976\n",
      "75%       3150.000000\n",
      "max      42000.000000\n",
      "Name: revenue, dtype: float64\n",
      "Количество пустых значений в столбце revenue:\n",
      "0\n"
     ]
    }
   ],
   "source": [
    "#Отфильтруем данные по дате и факту заказа для анализа\n",
    "filtered_data = data[(data['datetime'] <= '2021-07-01') & (data['event'] == 'order')].copy()\n",
    "#Посмотрим на данные по выручке, чтобы убедиться в отсутсвии аномальных значений\n",
    "print(filtered_data['revenue'].describe())\n",
    "print('Количество пустых значений в столбце revenue:')\n",
    "print(filtered_data['revenue'].isna().sum())"
   ]
  },
  {
   "cell_type": "markdown",
   "id": "0ff44d19",
   "metadata": {},
   "source": [
    "Выручка не имеет аномальных показателей - например, отрицательных или пустых значений. Минимальное значение - 235.2, среднее значение - 2537.469 - немного превышает медиану данных - 1944.6. Однако это может быть связано с отдельными заказами, приносящими высокую выручку. "
   ]
  },
  {
   "cell_type": "code",
   "execution_count": 21,
   "id": "903beb8a",
   "metadata": {},
   "outputs": [
    {
     "name": "stdout",
     "output_type": "stream",
     "text": [
      "   user_id  recency  frequency  monetary_value\n",
      "0   5506.0       30          2     3752.000000\n",
      "1   6291.0       55          1     1750.000000\n",
      "2   6820.0       39          1     1260.140015\n",
      "3  11062.0       55          1     3785.600098\n",
      "4  13254.0       52          1      553.000000\n",
      "5  19806.0        8          1     1680.000000\n",
      "6  22712.0        1          1     1120.000000\n",
      "7  23683.0       30          1     3472.000000\n",
      "8  26648.0       19          1     2240.000000\n",
      "9  28117.0       19          2    11319.755859\n"
     ]
    }
   ],
   "source": [
    "#Выделим количество дней с покупки до даты анализа\n",
    "filtered_data['order_recency'] = pd.to_datetime('2021-07-01') - filtered_data['datetime']\n",
    "\n",
    "# Группируем данные для каждого пользователя и рассчитываем данные для RFM-анализа:\n",
    "data_rfm = filtered_data.groupby('user_id').agg(\n",
    "    # Количество дней с последнего заказа:    \n",
    "    recency = ('order_recency', lambda x: x.min().days),\n",
    "    # Количество заказов за период времени: \n",
    "    frequency = ('order_id', 'nunique'),\n",
    "    # Сумма стоимости всех заказов: \n",
    "    monetary_value = ('revenue', 'sum')\n",
    ").reset_index()\n",
    "\n",
    "print(data_rfm.head(10))"
   ]
  },
  {
   "cell_type": "code",
   "execution_count": 22,
   "id": "4ea6a71d",
   "metadata": {},
   "outputs": [
    {
     "data": {
      "image/png": "[encoded data removed]",
      "text/plain": [
       "<Figure size 1080x1080 with 3 Axes>"
      ]
     },
     "metadata": {
      "needs_background": "light"
     },
     "output_type": "display_data"
    }
   ],
   "source": [
    "# Строим три гистограммы\n",
    "fig, axes = plt.subplots(3, 1, figsize=(15, 15))\n",
    "\n",
    "# Давность\n",
    "axes[0].hist(data_rfm['recency'], bins=75, color = 'mediumslateblue', edgecolor='navy', alpha=0.8)\n",
    "axes[0].set_title('Recency (дни с последней покупки)')\n",
    "axes[0].set_xlabel('Дни')\n",
    "axes[0].set_ylabel('Количество пользователей')\n",
    "\n",
    "# Частота\n",
    "axes[1].hist(data_rfm['frequency'], bins=75, color = 'mediumslateblue', edgecolor='navy', alpha=0.8)\n",
    "axes[1].set_title('Frequency (число заказов)')\n",
    "axes[1].set_xlabel('Количество заказов')\n",
    "axes[1].set_ylabel('Количество пользователей')\n",
    "\n",
    "# Сумма всех заказов\n",
    "axes[2].hist(data_rfm['monetary_value'], bins=75, color = 'mediumslateblue', edgecolor='navy', alpha=0.8)\n",
    "axes[2].set_title('Monetary (стоимость заказов)')\n",
    "axes[2].set_xlabel('Стоимость заказов')\n",
    "axes[2].set_ylabel('Количество пользователей')\n",
    "\n",
    "plt.show()\n"
   ]
  },
  {
   "cell_type": "markdown",
   "id": "932966b0",
   "metadata": {},
   "source": [
    "### Анализ гистограмм\n",
    "**Recency:** сервис имеет свежую аудиторию, которая совершала покупки в течении 7 дней до даты анализа. Нужно мотивировать этих клиентов совершать повторные заказы. Другая часть клиентов забывает о сервисе, что видно по размеру столбцов после 50 дней. Таким клиентам нужно напомнить о продукте - например, предложить скидку на следующий заказ, отправить email или push-уведомлнение. \n",
    "\n",
    "**Frequency:** подавляющая часть пользователей (примерно 1650 клиентов) совершает лишь один заказ. Около 600 клиентов заказывают вновь. Однако можно заметить, что постоянных пользователей, которые регулярно совершают заказы, очень мало, просиходит резкий спад после 2 заказов. Это говорит о том, пользователи немотивированы пользоваться сервисом в долгосрочной перспективе и нужно понять почему. Среди возможных причин, неудовлетворенность обслуживанием, единоразовый заказ по акции и другое. Можно внедрить программу лояльности, бонусы за повторные заказы, чтобы стимулировать клиентов оставаться. \n",
    "\n",
    "**Monetary:** пик количества пользователей по стоимости заказов приходится на 2 000 - 3 000, а далее показатели начинают резко снижаться. Это говорит о том, что основу бизнеса составляют мелкие заказы и чтобы увеличивать выручку, необходимо стимулировать повторные заказы. Также можно отметить, что есть клиенты, совершающие покупки на более крупные суммы от 20 000 до 42 000. Их необходимо удерживать, предлагая персонализированные предложения. \n",
    "\n",
    "\n",
    "**Общий вывод:** необходимо поработать над стимулированием пользователей совершать повторные заказы и удержанием крупных клиентов."
   ]
  },
  {
   "cell_type": "markdown",
   "id": "dad0c7d9",
   "metadata": {
    "id": "dad0c7d9"
   },
   "source": [
    "**Задача 3.2.** Выделите **RFM-сегменты** и изучите распределение пользователей по ним.\n",
    "    \n",
    "Примените следующие подходы к выделению RFM сегментов:\n",
    "- **Recency** — разделите на три равные группы.\n",
    "- **Frequency** —  разделите на три группы: \n",
    "    - пользователи с 1 заказом (F-сегмент с небольшим количеством заказов);\n",
    "    - пользователи с 2 заказами (F-сегмент со средним количеством заказов);\n",
    "    - пользователи с 3 и более заказами (F-сегмент с большим количеством заказов).\n",
    "- **Monetary** — разделите на три группы по 33-му и 66-му перцентилям.\n",
    "    \n",
    "После этого посчитайте количество покупателей в каждом сегменте, сделайте промежуточные выводы и напишите рекомендации."
   ]
  },
  {
   "cell_type": "code",
   "execution_count": 23,
   "id": "5d65e66c",
   "metadata": {},
   "outputs": [
    {
     "name": "stdout",
     "output_type": "stream",
     "text": [
      "   user_id  recency  frequency  monetary_value  r  f  m rfm_group\n",
      "0   5506.0       30          2     3752.000000  2  2  3       223\n",
      "1   6291.0       55          1     1750.000000  1  1  1       111\n",
      "2   6820.0       39          1     1260.140015  2  1  1       211\n",
      "3  11062.0       55          1     3785.600098  1  1  3       113\n",
      "4  13254.0       52          1      553.000000  1  1  1       111\n"
     ]
    }
   ],
   "source": [
    "# Определяем группу пользователя по количеству дней с момента последнего заказа: \n",
    "data_rfm['r'] = pd.cut(data_rfm['recency'], bins=3, labels=[3,2,1])\n",
    "\n",
    "# Определяем группу пользователя по количеству заказов: \n",
    "data_rfm['f'] = pd.cut(data_rfm['frequency'], bins = [0, 1, 2, float('inf')], labels=[1,2,3])\n",
    "\n",
    "# Определяем группу пользователя по сумме стоимости заказов: \n",
    "data_rfm['m'] = pd.qcut(data_rfm['monetary_value'], q = 3, labels=[1,2,3])\n",
    "\n",
    "# Находим групповой RFM-индекс:\n",
    "data_rfm[['r','f','m']] = data_rfm[['r','f','m']].astype('str')\n",
    "data_rfm['rfm_group'] = data_rfm['r'] + data_rfm['f'] + data_rfm['m']\n",
    "\n",
    "# Выводим первые строки таблицы:\n",
    "print(data_rfm.head())"
   ]
  },
  {
   "cell_type": "code",
   "execution_count": 24,
   "id": "d1b2e1c3",
   "metadata": {},
   "outputs": [
    {
     "name": "stdout",
     "output_type": "stream",
     "text": [
      "   rfm_group  user_id  user_share\n",
      "17       311      272    0.113903\n",
      "8        211      260    0.108878\n",
      "0        111      234    0.097990\n",
      "18       312      213    0.089196\n",
      "9        212      211    0.088358\n",
      "1        112      209    0.087521\n",
      "19       313      112    0.046901\n",
      "10       213      108    0.045226\n",
      "13       223      107    0.044807\n",
      "22       323      102    0.042714\n",
      "16       233       93    0.038945\n",
      "5        123       80    0.033501\n",
      "24       333       74    0.030988\n",
      "2        113       72    0.030151\n",
      "21       322       54    0.022613\n",
      "12       222       51    0.021357\n",
      "4        122       44    0.018425\n",
      "7        133       38    0.015913\n",
      "3        121       14    0.005863\n",
      "11       221        9    0.003769\n",
      "20       321        9    0.003769\n",
      "6        132        8    0.003350\n",
      "23       332        7    0.002931\n",
      "15       232        6    0.002513\n",
      "14       231        1    0.000419\n"
     ]
    }
   ],
   "source": [
    "# Группируем данные по сегментам и считаем их размер:\n",
    "rfm_group = data_rfm.groupby('rfm_group').agg({'user_id':'nunique'}).reset_index()\n",
    "\n",
    "# Считаем долю пользователей в каждом сегменте:\n",
    "rfm_group['user_share'] = rfm_group['user_id'] / rfm_group['user_id'].sum()\n",
    "\n",
    "# Выводим результат:\n",
    "print(rfm_group.sort_values(by='user_id', ascending=False))"
   ]
  },
  {
   "cell_type": "markdown",
   "id": "dc32eb12",
   "metadata": {},
   "source": [
    "Распределение пользователей по RFM-сегментам достаточно неравномерное.\n",
    "\n",
    "Самые большие сегменты по числу пользователей:\n",
    "- 311 — около 11.4% пользователей (недавние, но с низкой частотой и малыми тратами)\n",
    "- 211 — около 10.9% пользователей (средняя давность, низкая частота и траты)\n",
    "- 111 — около 9.8% пользователей (давние, низкая частота и траты) \n",
    "- В сегментах 312, 212, 112 от 8.8 до 8.9% пользователей.\n",
    "- К сегменту 333 относятся 3.1% пользователей. \n",
    "- Доли каждых оставшихся сегментов составляют менее 5%. \n",
    "\n",
    "Можно заметить, что в основе бизнеса нет клиентов, совершивших более одного заказа. Причем сегменты, занимающие топ-3 позиций по числу клиентов, отличаются лишь давностью покупок. Это значит, что основной задачей для компании сейчас является стимулирование пользователей совершать повторные заказы. Также можно поработать над увеличением среднего чека. \n",
    "\n",
    "Рекомендации: вновь привлечь внимание пользователей к продукту и внедрить программу лояльности для стимулирования повторных заказов и роста среднего чека. Удержать пользователей сегмента 333 за счет персонализированных предложений. \n",
    "\n"
   ]
  },
  {
   "cell_type": "markdown",
   "id": "50194012",
   "metadata": {
    "id": "50194012"
   },
   "source": [
    "---\n",
    "\n",
    "## 4. K-Means кластеризация\n",
    "\n",
    "Чтобы лучше понимать поведение ресторанов и предлагать им персонализированные условия сотрудничества, а также создавать персонализированные предложения для пользователей, маркетологи запросили кластеризацию ресторанов по следующим параметрам:\n",
    "- общее количество заказов;\n",
    "- средняя стоимость заказа;\n",
    "- общее число заказанных уникальных блюд (ассортимент ресторана).\n",
    "\n",
    "С помощью метода K-Means разделим рестораны на кластеры, отражающие различные модели работы и целевые сегменты. Это позволит выделить группы ресторанов с похожими характеристиками и разработать для них эффективные маркетинговые стратегии."
   ]
  },
  {
   "cell_type": "markdown",
   "id": "3227a337",
   "metadata": {
    "id": "3227a337"
   },
   "source": [
    "**Задача 4.1.** Подготовьте данные для кластеризации и для каждого ресторана подсчитайте:\n",
    "- общее количество заказов;\n",
    "- средняя стоимость заказа;\n",
    "- общее число заказанных уникальных блюд (ассортимент ресторана)."
   ]
  },
  {
   "cell_type": "code",
   "execution_count": 25,
   "id": "09b6887f",
   "metadata": {},
   "outputs": [
    {
     "name": "stdout",
     "output_type": "stream",
     "text": [
      "                            rest_id  orders_count     avg_bill  object_count\n",
      "0  1be5a933aab34fbab594bebba48e976e           144  2260.180176            28\n",
      "1  1d6bb74687104fa1953924c9684fe624           108  2959.256592            19\n",
      "2  2c6095730b514c189ee41c65f03febc3             8  1673.000000             4\n",
      "3  3247a3b5f9494812a3c1a73c5b61f004            33  2777.209717             4\n",
      "4  39b7eab4f4704ed2886fafe171489960            33  2011.269653             5\n"
     ]
    }
   ],
   "source": [
    "data_restaraunt = data[data['event'] == 'order'].groupby('rest_id').agg(\n",
    "    orders_count = ('order_id', 'nunique'),\n",
    "    avg_bill = ('revenue', 'mean'),\n",
    "    object_count = ('object_id', 'nunique')\n",
    ").reset_index()\n",
    "\n",
    "print(data_restaraunt.head())"
   ]
  },
  {
   "cell_type": "markdown",
   "id": "0b271d55",
   "metadata": {
    "id": "662740fb",
    "outputId": "811c9e15-7a09-4da3-d2ef-acf26fc62d13"
   },
   "source": [
    "**Задача 4.2.** Нормализуйте данные и найдите оптимальное количество кластеров, использовав метод `.inertia_`. Постройте график зависимости инерции от числа кластеров (метод «локтя») и предположите оптимальное количество кластеров."
   ]
  },
  {
   "cell_type": "code",
   "execution_count": 26,
   "id": "e3baa830",
   "metadata": {},
   "outputs": [],
   "source": [
    "#Округлим средний чек до двух знаков после запятой\n",
    "data_restaraunt['avg_bill'] = round(data_restaraunt['avg_bill'], 2)"
   ]
  },
  {
   "cell_type": "code",
   "execution_count": 27,
   "id": "96c37415",
   "metadata": {},
   "outputs": [
    {
     "name": "stdout",
     "output_type": "stream",
     "text": [
      "Суммарное внутрикластерное расстояние при 2 кластерах равно:  7193510.849507578\n",
      "Суммарное внутрикластерное расстояние при 3 кластерах равно:  3926794.3879727838\n",
      "Суммарное внутрикластерное расстояние при 4 кластерах равно:  1844874.751635584\n",
      "Суммарное внутрикластерное расстояние при 5 кластерах равно:  843226.2267397887\n",
      "Суммарное внутрикластерное расстояние при 6 кластерах равно:  505199.5082650011\n",
      "Суммарное внутрикластерное расстояние при 7 кластерах равно:  328169.8001547158\n",
      "Суммарное внутрикластерное расстояние при 8 кластерах равно:  246614.4931285381\n",
      "Суммарное внутрикластерное расстояние при 9 кластерах равно:  191852.87445660928\n",
      "Суммарное внутрикластерное расстояние при 10 кластерах равно:  158712.70189731813\n",
      "Суммарное внутрикластерное расстояние при 11 кластерах равно:  131980.73132289448\n",
      "Суммарное внутрикластерное расстояние при 12 кластерах равно:  91331.86065570265\n",
      "Суммарное внутрикластерное расстояние при 13 кластерах равно:  61614.33339456469\n",
      "Суммарное внутрикластерное расстояние при 14 кластерах равно:  44469.25116565575\n"
     ]
    }
   ],
   "source": [
    "#Используем метод кластеризации\n",
    "for k in range(2, 15):  # Цикл для перебора разного числа кластеров\n",
    "   km = KMeans(n_clusters=k)  # Создаём KMeans с текущим числом кластеров\n",
    "   km.fit_transform(data_restaraunt[['orders_count', 'avg_bill', 'object_count']])  # Применяем кластеризацию к данным\n",
    "   print(\"Суммарное внутрикластерное расстояние при\", k, \"кластерах равно: \",\n",
    "         km.inertia_)  # Выводим полученное значение"
   ]
  },
  {
   "cell_type": "code",
   "execution_count": 28,
   "id": "9405b65f",
   "metadata": {},
   "outputs": [
    {
     "data": {
      "image/png": "[encoded data removed]",
      "text/plain": [
       "<Figure size 864x576 with 1 Axes>"
      ]
     },
     "metadata": {
      "needs_background": "light"
     },
     "output_type": "display_data"
    }
   ],
   "source": [
    "# Создаём массив, в котором будем хранить значения inertia для разбиения с разным числом кластеров\n",
    "i = []\n",
    "\n",
    "# Задаём диапазон количества кластеров\n",
    "min_k = 1\n",
    "max_k = 10\n",
    "\n",
    "plt.figure(figsize=(12, 8))\n",
    "\n",
    "# Перебираем разное количество кластеров\n",
    "for k in range(min_k, max_k + 1):\n",
    "   km = KMeans(n_clusters=k)  # Создаём модель KMeans для текущего значения k\n",
    "   km.fit_transform(data_restaraunt[['orders_count', 'avg_bill', 'object_count']])  # Обучаем модель и получаем координаты точек в пространстве кластеров\n",
    "   i.append(km.inertia_)  # Сохраняем значение инерции для текущего k\n",
    "\n",
    "# Строим график зависимости инерции от количества кластеров\n",
    "plt.plot(range(min_k, max_k + 1), i, marker='o')\n",
    "plt.xlabel('Число кластеров K')  # Подпись оси X\n",
    "plt.ylabel('Суммарное внутрикластерное расстояние (Inertia)')  # Подпись оси Y\n",
    "plt.title('График зависимости инерции от числа кластеров (метод локтя)')  # Заголовок\n",
    "plt.show()"
   ]
  },
  {
   "cell_type": "markdown",
   "id": "f4f08a48",
   "metadata": {},
   "source": [
    "График показывает, что наибольшие перепады значений происходят с 1 по 4 кластер, после - спад становится более равномерным и плавным. Оптимальное число кластеров в данном случае - 4, так как в таком случае сохраняется баланс между детализацией и интерпретируемостью результатов. "
   ]
  },
  {
   "cell_type": "code",
   "execution_count": 29,
   "id": "b4a18c9a",
   "metadata": {},
   "outputs": [
    {
     "data": {
      "image/png": "[encoded data removed]",
      "text/plain": [
       "<Figure size 504x288 with 1 Axes>"
      ]
     },
     "metadata": {
      "needs_background": "light"
     },
     "output_type": "display_data"
    }
   ],
   "source": [
    "# Код ревьюера:\n",
    "# Создадим таблицу связей:\n",
    "from scipy.cluster.hierarchy import dendrogram, linkage\n",
    "\n",
    "linked = linkage(data_restaraunt[['orders_count', 'avg_bill', 'object_count']], method = 'ward')\n",
    "\n",
    "# Визуализируем таблицу связей:\n",
    "plt.figure(figsize=(7, 4))  \n",
    "dendrogram(linked, orientation='top')\n",
    "\n",
    "plt.axhline(y=1700, color='r', linestyle='--')  \n",
    "plt.title(\"Иерархическая кластеризация (дендрограмма)\")\n",
    "plt.xlabel(\"Объекты\")\n",
    "plt.ylabel(\"Расстояние\")\n",
    "\n",
    "plt.show()"
   ]
  },
  {
   "cell_type": "markdown",
   "id": "74002482",
   "metadata": {
    "id": "74002482"
   },
   "source": [
    "**Задача 4.3.** Проведите кластеризацию, проанализируйте полученные результаты и рассчитайте средние значения по каждому кластеру.\n",
    "    \n",
    "После этого визуализируйте результаты, чтобы проследить зависимость признаков друг от друга. Постройте две визуализации, на которые нанесите все кластеры:\n",
    "- средний чек в зависимости от количества заказов;\n",
    "- количество блюд в зависимости от количества заказов.\n",
    "\n",
    "После этого опишите каждый кластер в промежуточном выводе. "
   ]
  },
  {
   "cell_type": "code",
   "execution_count": 30,
   "id": "bbeeebb4",
   "metadata": {},
   "outputs": [
    {
     "data": {
      "text/html": [
       "<div>\n",
       "<style scoped>\n",
       "    .dataframe tbody tr th:only-of-type {\n",
       "        vertical-align: middle;\n",
       "    }\n",
       "\n",
       "    .dataframe tbody tr th {\n",
       "        vertical-align: top;\n",
       "    }\n",
       "\n",
       "    .dataframe thead th {\n",
       "        text-align: right;\n",
       "    }\n",
       "</style>\n",
       "<table border=\"1\" class=\"dataframe\">\n",
       "  <thead>\n",
       "    <tr style=\"text-align: right;\">\n",
       "      <th></th>\n",
       "      <th>cluster</th>\n",
       "      <th>rest_id</th>\n",
       "    </tr>\n",
       "  </thead>\n",
       "  <tbody>\n",
       "    <tr>\n",
       "      <th>0</th>\n",
       "      <td>0</td>\n",
       "      <td>6</td>\n",
       "    </tr>\n",
       "    <tr>\n",
       "      <th>1</th>\n",
       "      <td>1</td>\n",
       "      <td>2</td>\n",
       "    </tr>\n",
       "    <tr>\n",
       "      <th>2</th>\n",
       "      <td>2</td>\n",
       "      <td>11</td>\n",
       "    </tr>\n",
       "    <tr>\n",
       "      <th>3</th>\n",
       "      <td>3</td>\n",
       "      <td>2</td>\n",
       "    </tr>\n",
       "  </tbody>\n",
       "</table>\n",
       "</div>"
      ],
      "text/plain": [
       "   cluster  rest_id\n",
       "0        0        6\n",
       "1        1        2\n",
       "2        2       11\n",
       "3        3        2"
      ]
     },
     "execution_count": 30,
     "metadata": {},
     "output_type": "execute_result"
    }
   ],
   "source": [
    "n_clusters = 4\n",
    "kmeans = KMeans(n_clusters=n_clusters, random_state=42)\n",
    "clusters = kmeans.fit_predict(data_restaraunt[['orders_count', 'avg_bill', 'object_count']])\n",
    "\n",
    "# Добавляем метки кластеров в исходные данные\n",
    "data_restaraunt['cluster'] = clusters\n",
    "\n",
    "data_restaraunt.groupby('cluster')['rest_id'].nunique().reset_index()"
   ]
  },
  {
   "cell_type": "markdown",
   "id": "ab359839",
   "metadata": {},
   "source": [
    "Мы получили четыре кластера, размеры которых составляют 6, 2, 11 и 2 соотвественно. Рассмотрим их средние показатели."
   ]
  },
  {
   "cell_type": "code",
   "execution_count": 31,
   "id": "95294738",
   "metadata": {},
   "outputs": [
    {
     "name": "stdout",
     "output_type": "stream",
     "text": [
      "           Количество заказов  Средний чек  Количество блюд\n",
      "Кластер 1              65.333     3024.752            9.167\n",
      "Кластер 2              71.727     1931.617            8.636\n",
      "Кластер 3              84.000     4657.770            2.500\n",
      "Кластер 4            1100.000     2498.830           83.000\n"
     ]
    }
   ],
   "source": [
    "# Сортируем кластеры по возрастанию «Количества заказов»\n",
    "sorted_indices = np.argsort(kmeans.cluster_centers_[:, 0])\n",
    "sorted_centroids = kmeans.cluster_centers_[sorted_indices]\n",
    "\n",
    "# Создаём DataFrame из центроидов\n",
    "centroids_df = pd.DataFrame(\n",
    "   sorted_centroids,\n",
    "   columns=['Количество заказов', 'Средний чек', 'Количество блюд'],\n",
    "   index=[f'Кластер {i + 1}' for i in range(kmeans.n_clusters)]\n",
    ")\n",
    "\n",
    "# Форматируем числа для вывода (2 знака после точки)\n",
    "pd.options.display.float_format = '{:.3f}'.format\n",
    "\n",
    "# Выводим таблицу\n",
    "print(centroids_df.head())"
   ]
  },
  {
   "cell_type": "code",
   "execution_count": 32,
   "id": "8b11a0c8",
   "metadata": {},
   "outputs": [
    {
     "data": {
      "image/png": "[encoded data removed]",
      "text/plain": [
       "<Figure size 1440x720 with 2 Axes>"
      ]
     },
     "metadata": {
      "needs_background": "light"
     },
     "output_type": "display_data"
    }
   ],
   "source": [
    "labels = kmeans.fit_predict(data_restaraunt[['orders_count', 'avg_bill', 'object_count']])\n",
    "\n",
    "# Получаем координаты центров (центроидов) кластеров\n",
    "centroids = kmeans.cluster_centers_\n",
    "# Создаём 3 графика (1 строка × 2 столбца) для отображения попарных комбинаций признаков\n",
    "fig, axes = plt.subplots(1, 2, figsize=(20, 10))\n",
    "\n",
    "# Список названий признаков, которые будут использоваться на графиках\n",
    "axs = ['orders_count', 'avg_bill', 'object_count']\n",
    "\n",
    "# Перебираем пары признаков\n",
    "for i, (x_idx, y_idx) in enumerate([[0, 1], [0, 2]]):\n",
    "    x_label, y_label = axs[x_idx], axs[y_idx]  # Названия признаков для осей\n",
    "\n",
    "   # Строим точки — объекты из датафрейма, раскрашенные по меткам кластера\n",
    "    axes[i].scatter(\n",
    "       data_restaraunt[x_label],  # Значения по оси X\n",
    "       data_restaraunt[y_label],  # Значения по оси Y\n",
    "       c=labels,  # Цвет зависит от номера кластера\n",
    "       cmap='viridis',  # Цветовая карта\n",
    "       s=50  # Размер точек\n",
    "   )\n",
    "\n",
    "   # Строим центроиды кластеров красными крестами\n",
    "    axes[i].scatter(\n",
    "       centroids[:, x_idx],  # X-координаты центров\n",
    "       centroids[:, y_idx],  # Y-координаты центров\n",
    "       s=200,  # Размер крестов\n",
    "       c='red',  # Цвет — красный\n",
    "       edgecolors='black',  # Обводка — чёрная\n",
    "       linewidths=2,  # Толщина обводки\n",
    "       marker='X'  # Форма маркера — крест\n",
    "   )\n",
    "\n",
    "   # Подписи осей и заголовок графика\n",
    "    axes[i].set_xlabel(x_label)\n",
    "    axes[i].set_ylabel(y_label)\n",
    "    axes[i].set_title(f'{x_label} vs {y_label}')\n",
    "\n",
    "# Подгоняем макет, оставляя место снизу для подписи с инерцией\n",
    "plt.tight_layout(rect=[0, 0.05, 1, 1])\n",
    "\n",
    "# Добавляем текст с СВР внизу графика (по центру)\n",
    "fig.text(0.5, 0.01, f'Inertia: {kmeans.inertia_:.2f}', ha='center', fontsize=12)\n",
    "\n",
    "# Показываем итоговый набор визуализаций\n",
    "plt.show()"
   ]
  },
  {
   "cell_type": "markdown",
   "id": "dca21d02",
   "metadata": {},
   "source": [
    "### Промежуточные выводы \n",
    "**Кластер 1:** рестораны с наименьшим числом заказов и средним чеком 3024 р. Они отличаются широким ассортиментов представленных блюд. Их бизнес-модель ориентирована на стабильный, но не выдающийся трафик клиентов, сбалансированный по объему заказов и среднему чеку.\n",
    "\n",
    "**Кластер 2:** демонстрирует схожие с первым кластером показатели по количеству заказов (72 в среднем) и ассортименту (9 блюд), но при этом его средний чек значительно ниже (1932 рубля). Это рестораны среднего ценового сегмента, возможно, кафе или бистро. Их показатели отражают баланс между доступностью и качеством, что делает их популярными среди широкой аудитории, но не позволяет выйти на более высокие финансовые показатели.\n",
    "\n",
    "**Кластер 3:** при относительно высоком количестве заказов (84) и рекордном среднем чеке (4658 рублей) эти заведения предлагают минимальный ассортимент - всего 2-3 блюда. Такая модель характерна для эксклюзивных гастрономических проектов, возможно, ресторанов с дегустационными меню, суши-баров премиум-класса или заведений, специализирующихся на дорогих напитках, где основной доход формируется за счет высоких ценников. \n",
    "\n",
    "**Кластер 4:** резко выделяется на фоне остальных высокими показателями. Получая 1100 заказов, эти заведения поддерживают средний чек на уровне 2498 рублей при ассортименте в 83 блюда. Бизнес-модель построена на эффекте масштаба: большой поток клиентов компенсирует относительно невысокий средний чек, а обширное меню позволяет удовлетворить потребности разнообразной аудитории."
   ]
  },
  {
   "cell_type": "markdown",
   "id": "268ed4c1",
   "metadata": {
    "id": "50194012"
   },
   "source": [
    "---\n",
    "\n",
    "## 5. Итоговый вывод и рекомендации\n",
    "\n",
    "Сформулируйте общий вывод. Зафиксируйте основные результаты и инсайты, которые, на ваш взгляд, помогут бизнесу улучшить продукт.\n",
    "\n",
    "Выводы должны быть краткими и ёмкими, ведь их будут читать ваш заказчик, продуктовый менеджер и продуктовая команда."
   ]
  },
  {
   "cell_type": "markdown",
   "id": "053f2e70",
   "metadata": {},
   "source": [
    "Анализ данных выявил ключевые точки роста для бизнеса: мобильная версия приложения требует срочной доработки процесса подтверждения телефона, где теряется 79.1% пользователей, в то время как десктопная версия показывает более высокую конверсию. \n",
    "\n",
    "Распределение клиентов по RFM-сегментам показывает значительный перекос в сторону разовых покупок — три крупнейших сегмента (311, 211 и 111), составляющие вместе 32% пользователей, объединяют клиентов с низкой частотой заказов и скромными тратами, различающихся только давностью последнего визита. Внимание вызывает отсутствие сформированной базы постоянных клиентов: лишь 3% пользователей относятся к премиальному сегменту 333 (частые покупки + высокие чеки). Три и более заказов имеют менее 10% пользователей. Так, основная проблема бизнеса - низкая лояльность клиентов: большая часть пользователей совершают лишь один заказ, при этом выручку формируют в основном мелкие заказы (2000-3000 руб.).\n",
    "\n",
    "Анализ партнерских ресторанов выявил четыре ключевых кластера, требующих индивидуального подхода в сотрудничестве с сервисом доставки. Рестораны с высоким средним чеком (3024 рубля) и сбалансированным трафиком нуждаются в подчеркивании их эксклюзивности — для них стоит предусмотреть выделенную категорию в приложении. Рестораны среднего сегмента со стабильным трафиком, но относительно низкой маржинальностью (средний чек 1932 рубля) выиграют от внедрения пакетных предложений и поддержки по популярным позициям. Особого внимания заслуживают рестораны с минимальным ассортиментом, но рекордными чеками (4658 рублей) — для них эффективно создание специального раздела. Крупные сетевые игроки с большим количеством заказов (1100+) и широким ассортиментом требуют приоритетного размещения в поиске и совместных промоакций.\n",
    "\n",
    "Для роста бизнеса критически важно:\n",
    "- решить проблему с подтверждением номера телефона для пользователей мобильной версии \n",
    "- внедрить многоуровневую систему лояльности\n",
    "- разработать персонализированные предложения для премиальных клиентов\n",
    "- стимулировать повторные заказы через таргетированные промоакции\n",
    "- разработать разные стратегии работы с кластерами ресторанов-партнеров. "
   ]
  }
 ],
 "metadata": {
  "ExecuteTimeLog": [
   {
    "duration": 1703,
    "start_time": "2025-07-24T11:57:49.917Z"
   },
   {
    "duration": 1270,
    "start_time": "2025-07-24T11:58:10.511Z"
   },
   {
    "duration": 19,
    "start_time": "2025-07-24T11:58:49.676Z"
   },
   {
    "duration": 85,
    "start_time": "2025-07-24T12:00:37.266Z"
   },
   {
    "duration": 124,
    "start_time": "2025-07-24T12:13:57.015Z"
   },
   {
    "duration": 42,
    "start_time": "2025-07-24T12:15:06.195Z"
   },
   {
    "duration": 77,
    "start_time": "2025-07-24T12:15:29.906Z"
   },
   {
    "duration": 8,
    "start_time": "2025-07-24T12:15:31.092Z"
   },
   {
    "duration": 21,
    "start_time": "2025-07-24T12:15:46.638Z"
   },
   {
    "duration": 3,
    "start_time": "2025-07-24T12:16:12.422Z"
   },
   {
    "duration": 1056,
    "start_time": "2025-07-24T12:16:13.090Z"
   },
   {
    "duration": 11,
    "start_time": "2025-07-24T12:16:15.471Z"
   },
   {
    "duration": 53,
    "start_time": "2025-07-24T12:16:16.006Z"
   },
   {
    "duration": 40,
    "start_time": "2025-07-24T12:16:24.101Z"
   },
   {
    "duration": 81,
    "start_time": "2025-07-24T12:16:34.163Z"
   },
   {
    "duration": 1511,
    "start_time": "2025-07-24T12:16:45.800Z"
   },
   {
    "duration": 1129,
    "start_time": "2025-07-24T12:16:47.313Z"
   },
   {
    "duration": 33,
    "start_time": "2025-07-24T12:16:48.445Z"
   },
   {
    "duration": 92,
    "start_time": "2025-07-24T12:16:48.480Z"
   },
   {
    "duration": 107,
    "start_time": "2025-07-24T12:16:48.574Z"
   },
   {
    "duration": 9,
    "start_time": "2025-07-24T12:16:48.682Z"
   },
   {
    "duration": 82,
    "start_time": "2025-07-24T12:16:48.692Z"
   },
   {
    "duration": 60,
    "start_time": "2025-07-24T12:16:48.776Z"
   },
   {
    "duration": 1946,
    "start_time": "2025-07-24T16:59:28.727Z"
   },
   {
    "duration": 1300,
    "start_time": "2025-07-24T16:59:30.675Z"
   },
   {
    "duration": 35,
    "start_time": "2025-07-24T16:59:31.977Z"
   },
   {
    "duration": 121,
    "start_time": "2025-07-24T16:59:32.014Z"
   },
   {
    "duration": 124,
    "start_time": "2025-07-24T16:59:32.140Z"
   },
   {
    "duration": 8,
    "start_time": "2025-07-24T16:59:32.266Z"
   },
   {
    "duration": 244,
    "start_time": "2025-07-24T16:59:32.276Z"
   },
   {
    "duration": 75,
    "start_time": "2025-07-24T16:59:32.524Z"
   },
   {
    "duration": 94,
    "start_time": "2025-07-24T17:00:30.222Z"
   },
   {
    "duration": 69,
    "start_time": "2025-07-24T17:01:31.543Z"
   },
   {
    "duration": 22,
    "start_time": "2025-07-24T17:05:04.180Z"
   },
   {
    "duration": 31,
    "start_time": "2025-07-24T17:09:38.707Z"
   },
   {
    "duration": 14,
    "start_time": "2025-07-24T17:09:54.239Z"
   },
   {
    "duration": 3824,
    "start_time": "2025-07-24T17:12:37.422Z"
   },
   {
    "duration": 710,
    "start_time": "2025-07-24T17:13:06.755Z"
   },
   {
    "duration": 134,
    "start_time": "2025-07-24T17:15:15.333Z"
   },
   {
    "duration": 238,
    "start_time": "2025-07-24T17:15:25.078Z"
   },
   {
    "duration": 223,
    "start_time": "2025-07-24T17:15:35.962Z"
   },
   {
    "duration": 44,
    "start_time": "2025-07-24T17:24:40.897Z"
   },
   {
    "duration": 58,
    "start_time": "2025-07-24T17:28:25.241Z"
   },
   {
    "duration": 75,
    "start_time": "2025-07-24T17:28:31.050Z"
   },
   {
    "duration": 234,
    "start_time": "2025-07-24T17:30:33.981Z"
   },
   {
    "duration": 188,
    "start_time": "2025-07-24T17:31:47.995Z"
   },
   {
    "duration": 155,
    "start_time": "2025-07-24T17:32:10.522Z"
   },
   {
    "duration": 3,
    "start_time": "2025-07-24T17:33:30.581Z"
   },
   {
    "duration": 37,
    "start_time": "2025-07-24T17:33:33.246Z"
   },
   {
    "duration": 15,
    "start_time": "2025-07-24T17:36:01.028Z"
   },
   {
    "duration": 1496,
    "start_time": "2025-07-24T17:36:35.578Z"
   },
   {
    "duration": 0,
    "start_time": "2025-07-24T17:36:37.076Z"
   },
   {
    "duration": 58,
    "start_time": "2025-07-24T17:36:45.113Z"
   },
   {
    "duration": 35,
    "start_time": "2025-07-24T17:36:48.516Z"
   },
   {
    "duration": 46,
    "start_time": "2025-07-24T17:37:39.106Z"
   },
   {
    "duration": 38,
    "start_time": "2025-07-24T17:37:58.117Z"
   },
   {
    "duration": 19,
    "start_time": "2025-07-24T17:38:34.334Z"
   },
   {
    "duration": 37,
    "start_time": "2025-07-24T17:39:24.533Z"
   },
   {
    "duration": 51,
    "start_time": "2025-07-24T17:39:56.150Z"
   },
   {
    "duration": 23,
    "start_time": "2025-07-24T17:39:56.717Z"
   },
   {
    "duration": 271,
    "start_time": "2025-07-24T17:41:24.074Z"
   },
   {
    "duration": 355,
    "start_time": "2025-07-24T17:41:59.596Z"
   },
   {
    "duration": 759,
    "start_time": "2025-07-24T18:43:56.209Z"
   },
   {
    "duration": 11,
    "start_time": "2025-07-24T18:44:00.634Z"
   },
   {
    "duration": 831,
    "start_time": "2025-07-24T18:45:24.529Z"
   },
   {
    "duration": 840,
    "start_time": "2025-07-24T18:45:44.427Z"
   },
   {
    "duration": 11,
    "start_time": "2025-07-24T18:45:45.269Z"
   },
   {
    "duration": 818,
    "start_time": "2025-07-24T18:46:03.216Z"
   },
   {
    "duration": 789,
    "start_time": "2025-07-24T18:46:30.181Z"
   },
   {
    "duration": 775,
    "start_time": "2025-07-24T18:47:24.820Z"
   },
   {
    "duration": 130,
    "start_time": "2025-07-24T18:50:57.898Z"
   },
   {
    "duration": 85,
    "start_time": "2025-07-24T18:51:01.902Z"
   },
   {
    "duration": 93,
    "start_time": "2025-07-24T18:51:15.662Z"
   },
   {
    "duration": 102,
    "start_time": "2025-07-24T18:51:32.417Z"
   },
   {
    "duration": 29,
    "start_time": "2025-07-24T18:52:35.492Z"
   },
   {
    "duration": 18,
    "start_time": "2025-07-24T18:53:09.351Z"
   },
   {
    "duration": 19,
    "start_time": "2025-07-24T18:53:20.124Z"
   },
   {
    "duration": 21,
    "start_time": "2025-07-24T18:55:54.218Z"
   },
   {
    "duration": 30,
    "start_time": "2025-07-24T18:56:42.802Z"
   },
   {
    "duration": 33,
    "start_time": "2025-07-24T18:57:18.784Z"
   },
   {
    "duration": 18,
    "start_time": "2025-07-24T18:57:33.957Z"
   },
   {
    "duration": 28,
    "start_time": "2025-07-24T18:58:00.107Z"
   },
   {
    "duration": 18,
    "start_time": "2025-07-24T18:58:22.642Z"
   },
   {
    "duration": 29,
    "start_time": "2025-07-24T18:59:19.102Z"
   },
   {
    "duration": 25,
    "start_time": "2025-07-24T19:00:14.878Z"
   },
   {
    "duration": 34,
    "start_time": "2025-07-24T19:00:25.906Z"
   },
   {
    "duration": 42,
    "start_time": "2025-07-24T19:03:26.980Z"
   },
   {
    "duration": 24,
    "start_time": "2025-07-24T19:04:33.818Z"
   },
   {
    "duration": 31,
    "start_time": "2025-07-24T19:04:46.514Z"
   },
   {
    "duration": 35,
    "start_time": "2025-07-24T19:04:49.802Z"
   },
   {
    "duration": 34,
    "start_time": "2025-07-24T19:06:01.676Z"
   },
   {
    "duration": 19,
    "start_time": "2025-07-24T19:06:05.938Z"
   },
   {
    "duration": 20,
    "start_time": "2025-07-24T19:06:35.670Z"
   },
   {
    "duration": 43,
    "start_time": "2025-07-24T19:07:25.781Z"
   },
   {
    "duration": 19,
    "start_time": "2025-07-24T19:07:43.130Z"
   },
   {
    "duration": 21,
    "start_time": "2025-07-24T19:07:47.156Z"
   },
   {
    "duration": 17,
    "start_time": "2025-07-24T19:07:59.068Z"
   },
   {
    "duration": 257,
    "start_time": "2025-07-24T19:08:59.610Z"
   },
   {
    "duration": 860,
    "start_time": "2025-07-24T19:09:00.476Z"
   },
   {
    "duration": 19,
    "start_time": "2025-07-24T19:09:04.935Z"
   },
   {
    "duration": 31,
    "start_time": "2025-07-24T19:09:08.384Z"
   },
   {
    "duration": 275,
    "start_time": "2025-07-24T19:09:18.712Z"
   },
   {
    "duration": 921,
    "start_time": "2025-07-24T19:09:19.402Z"
   },
   {
    "duration": 34,
    "start_time": "2025-07-24T19:09:22.708Z"
   },
   {
    "duration": 14,
    "start_time": "2025-07-24T19:10:28.873Z"
   },
   {
    "duration": 22,
    "start_time": "2025-07-24T19:10:52.898Z"
   },
   {
    "duration": 26,
    "start_time": "2025-07-24T19:31:55.833Z"
   },
   {
    "duration": 84,
    "start_time": "2025-07-24T19:34:51.249Z"
   },
   {
    "duration": 87,
    "start_time": "2025-07-24T19:34:57.487Z"
   },
   {
    "duration": 127,
    "start_time": "2025-07-24T19:35:15.486Z"
   },
   {
    "duration": 86,
    "start_time": "2025-07-24T19:35:44.066Z"
   },
   {
    "duration": 71,
    "start_time": "2025-07-24T19:35:54.388Z"
   },
   {
    "duration": 63,
    "start_time": "2025-07-24T19:36:04.439Z"
   },
   {
    "duration": 73,
    "start_time": "2025-07-24T19:36:09.470Z"
   },
   {
    "duration": 67,
    "start_time": "2025-07-24T19:36:11.544Z"
   },
   {
    "duration": 76,
    "start_time": "2025-07-24T19:36:23.707Z"
   },
   {
    "duration": 72,
    "start_time": "2025-07-24T19:36:41.366Z"
   },
   {
    "duration": 30,
    "start_time": "2025-07-24T19:38:43.001Z"
   },
   {
    "duration": 204,
    "start_time": "2025-07-24T19:40:59.321Z"
   },
   {
    "duration": 407,
    "start_time": "2025-07-24T19:41:11.501Z"
   },
   {
    "duration": 4,
    "start_time": "2025-07-24T19:42:18.660Z"
   },
   {
    "duration": 407,
    "start_time": "2025-07-24T19:42:19.122Z"
   },
   {
    "duration": 130,
    "start_time": "2025-07-24T19:42:31.836Z"
   },
   {
    "duration": 404,
    "start_time": "2025-07-24T19:42:34.074Z"
   },
   {
    "duration": 711,
    "start_time": "2025-07-24T19:43:16.517Z"
   },
   {
    "duration": 6367,
    "start_time": "2025-07-25T08:48:35.055Z"
   },
   {
    "duration": 1236,
    "start_time": "2025-07-25T08:48:41.424Z"
   },
   {
    "duration": 36,
    "start_time": "2025-07-25T08:48:42.661Z"
   },
   {
    "duration": 143,
    "start_time": "2025-07-25T08:48:42.703Z"
   },
   {
    "duration": 90,
    "start_time": "2025-07-25T08:48:42.849Z"
   },
   {
    "duration": 37,
    "start_time": "2025-07-25T08:48:42.941Z"
   },
   {
    "duration": 127,
    "start_time": "2025-07-25T08:48:42.980Z"
   },
   {
    "duration": 12,
    "start_time": "2025-07-25T08:48:43.110Z"
   },
   {
    "duration": 58,
    "start_time": "2025-07-25T08:48:43.125Z"
   },
   {
    "duration": 202,
    "start_time": "2025-07-25T08:48:43.185Z"
   },
   {
    "duration": 66,
    "start_time": "2025-07-25T08:48:43.395Z"
   },
   {
    "duration": 218,
    "start_time": "2025-07-25T08:48:43.462Z"
   },
   {
    "duration": 183,
    "start_time": "2025-07-25T08:48:43.683Z"
   },
   {
    "duration": 51,
    "start_time": "2025-07-25T08:48:43.870Z"
   },
   {
    "duration": 29,
    "start_time": "2025-07-25T08:48:43.923Z"
   },
   {
    "duration": 90,
    "start_time": "2025-07-25T08:48:43.953Z"
   },
   {
    "duration": 318,
    "start_time": "2025-07-25T08:48:44.045Z"
   },
   {
    "duration": 366,
    "start_time": "2025-07-25T08:48:44.364Z"
   },
   {
    "duration": 887,
    "start_time": "2025-07-25T08:48:44.733Z"
   },
   {
    "duration": 21,
    "start_time": "2025-07-25T08:48:45.622Z"
   },
   {
    "duration": 13,
    "start_time": "2025-07-25T08:48:45.645Z"
   },
   {
    "duration": 103,
    "start_time": "2025-07-25T08:48:45.660Z"
   },
   {
    "duration": 4,
    "start_time": "2025-07-25T08:48:45.765Z"
   },
   {
    "duration": 487,
    "start_time": "2025-07-25T08:48:45.771Z"
   },
   {
    "duration": 846,
    "start_time": "2025-07-25T08:48:46.259Z"
   },
   {
    "duration": 27,
    "start_time": "2025-07-25T08:48:47.108Z"
   },
   {
    "duration": 10,
    "start_time": "2025-07-25T08:49:09.877Z"
   },
   {
    "duration": 12,
    "start_time": "2025-07-25T08:51:18.492Z"
   },
   {
    "duration": 8,
    "start_time": "2025-07-25T08:52:12.805Z"
   },
   {
    "duration": 21,
    "start_time": "2025-07-25T08:52:32.787Z"
   },
   {
    "duration": 9,
    "start_time": "2025-07-25T08:52:53.327Z"
   },
   {
    "duration": 12,
    "start_time": "2025-07-25T08:53:11.095Z"
   },
   {
    "duration": 41,
    "start_time": "2025-07-25T08:54:10.266Z"
   },
   {
    "duration": 37,
    "start_time": "2025-07-25T08:54:29.159Z"
   },
   {
    "duration": 8,
    "start_time": "2025-07-25T08:54:30.508Z"
   },
   {
    "duration": 2251,
    "start_time": "2025-07-25T08:56:14.295Z"
   },
   {
    "duration": 288,
    "start_time": "2025-07-25T08:57:29.206Z"
   },
   {
    "duration": 696,
    "start_time": "2025-07-25T08:58:36.088Z"
   },
   {
    "duration": 611,
    "start_time": "2025-07-25T09:00:24.020Z"
   },
   {
    "duration": 515,
    "start_time": "2025-07-25T09:00:54.060Z"
   },
   {
    "duration": 600,
    "start_time": "2025-07-25T09:01:01.165Z"
   },
   {
    "duration": 31,
    "start_time": "2025-07-25T09:01:53.039Z"
   },
   {
    "duration": 8,
    "start_time": "2025-07-25T09:01:53.963Z"
   },
   {
    "duration": 598,
    "start_time": "2025-07-25T09:01:54.633Z"
   },
   {
    "duration": 25,
    "start_time": "2025-07-25T12:54:03.040Z"
   },
   {
    "duration": 44,
    "start_time": "2025-07-25T12:54:14.695Z"
   },
   {
    "duration": 27,
    "start_time": "2025-07-25T13:21:34.887Z"
   },
   {
    "duration": 17,
    "start_time": "2025-07-25T13:22:03.884Z"
   },
   {
    "duration": 4085,
    "start_time": "2025-07-25T13:33:35.431Z"
   },
   {
    "duration": 1299,
    "start_time": "2025-07-25T13:33:39.518Z"
   },
   {
    "duration": 22,
    "start_time": "2025-07-25T13:33:40.818Z"
   },
   {
    "duration": 88,
    "start_time": "2025-07-25T13:33:40.842Z"
   },
   {
    "duration": 78,
    "start_time": "2025-07-25T13:33:40.932Z"
   },
   {
    "duration": 15,
    "start_time": "2025-07-25T13:33:41.012Z"
   },
   {
    "duration": 162,
    "start_time": "2025-07-25T13:33:41.029Z"
   },
   {
    "duration": 9,
    "start_time": "2025-07-25T13:33:41.192Z"
   },
   {
    "duration": 64,
    "start_time": "2025-07-25T13:33:41.203Z"
   },
   {
    "duration": 183,
    "start_time": "2025-07-25T13:33:41.270Z"
   },
   {
    "duration": 73,
    "start_time": "2025-07-25T13:33:41.455Z"
   },
   {
    "duration": 169,
    "start_time": "2025-07-25T13:33:41.530Z"
   },
   {
    "duration": 157,
    "start_time": "2025-07-25T13:33:41.702Z"
   },
   {
    "duration": 48,
    "start_time": "2025-07-25T13:33:41.863Z"
   },
   {
    "duration": 31,
    "start_time": "2025-07-25T13:33:41.913Z"
   },
   {
    "duration": 16,
    "start_time": "2025-07-25T13:33:41.946Z"
   },
   {
    "duration": 321,
    "start_time": "2025-07-25T13:33:41.963Z"
   },
   {
    "duration": 311,
    "start_time": "2025-07-25T13:33:42.290Z"
   },
   {
    "duration": 727,
    "start_time": "2025-07-25T13:33:42.603Z"
   },
   {
    "duration": 20,
    "start_time": "2025-07-25T13:33:43.332Z"
   },
   {
    "duration": 43,
    "start_time": "2025-07-25T13:33:43.354Z"
   },
   {
    "duration": 64,
    "start_time": "2025-07-25T13:33:43.399Z"
   },
   {
    "duration": 4,
    "start_time": "2025-07-25T13:33:43.464Z"
   },
   {
    "duration": 411,
    "start_time": "2025-07-25T13:33:43.469Z"
   },
   {
    "duration": 686,
    "start_time": "2025-07-25T13:33:43.890Z"
   },
   {
    "duration": 36,
    "start_time": "2025-07-25T13:33:44.578Z"
   },
   {
    "duration": 7,
    "start_time": "2025-07-25T13:33:44.616Z"
   },
   {
    "duration": 628,
    "start_time": "2025-07-25T13:33:44.624Z"
   },
   {
    "duration": 6865,
    "start_time": "2025-07-25T13:42:38.430Z"
   },
   {
    "duration": 1410,
    "start_time": "2025-07-25T13:42:45.297Z"
   },
   {
    "duration": 80,
    "start_time": "2025-07-25T13:42:46.709Z"
   },
   {
    "duration": 198,
    "start_time": "2025-07-25T13:42:46.792Z"
   },
   {
    "duration": 122,
    "start_time": "2025-07-25T13:42:46.992Z"
   },
   {
    "duration": 15,
    "start_time": "2025-07-25T13:42:47.116Z"
   },
   {
    "duration": 200,
    "start_time": "2025-07-25T13:42:47.133Z"
   },
   {
    "duration": 62,
    "start_time": "2025-07-25T13:42:47.335Z"
   },
   {
    "duration": 127,
    "start_time": "2025-07-25T13:42:47.400Z"
   },
   {
    "duration": 399,
    "start_time": "2025-07-25T13:42:47.528Z"
   },
   {
    "duration": 74,
    "start_time": "2025-07-25T13:42:47.929Z"
   },
   {
    "duration": 181,
    "start_time": "2025-07-25T13:42:48.005Z"
   },
   {
    "duration": 170,
    "start_time": "2025-07-25T13:42:48.190Z"
   },
   {
    "duration": 47,
    "start_time": "2025-07-25T13:42:48.363Z"
   },
   {
    "duration": 162,
    "start_time": "2025-07-25T13:42:48.411Z"
   },
   {
    "duration": 18,
    "start_time": "2025-07-25T13:42:48.574Z"
   },
   {
    "duration": 308,
    "start_time": "2025-07-25T13:42:48.593Z"
   },
   {
    "duration": 315,
    "start_time": "2025-07-25T13:42:48.902Z"
   },
   {
    "duration": 733,
    "start_time": "2025-07-25T13:42:49.219Z"
   },
   {
    "duration": 20,
    "start_time": "2025-07-25T13:42:49.954Z"
   },
   {
    "duration": 13,
    "start_time": "2025-07-25T13:42:49.990Z"
   },
   {
    "duration": 86,
    "start_time": "2025-07-25T13:42:50.005Z"
   },
   {
    "duration": 3,
    "start_time": "2025-07-25T13:42:50.094Z"
   },
   {
    "duration": 420,
    "start_time": "2025-07-25T13:42:50.099Z"
   },
   {
    "duration": 667,
    "start_time": "2025-07-25T13:42:50.521Z"
   },
   {
    "duration": 31,
    "start_time": "2025-07-25T13:42:51.190Z"
   },
   {
    "duration": 8,
    "start_time": "2025-07-25T13:42:51.222Z"
   },
   {
    "duration": 565,
    "start_time": "2025-07-25T13:42:51.232Z"
   },
   {
    "duration": 129,
    "start_time": "2025-07-25T13:49:53.458Z"
   },
   {
    "duration": 360,
    "start_time": "2025-07-25T13:50:15.071Z"
   },
   {
    "duration": 327,
    "start_time": "2025-07-25T13:50:22.587Z"
   },
   {
    "duration": 3929,
    "start_time": "2025-07-25T14:19:20.276Z"
   },
   {
    "duration": 1165,
    "start_time": "2025-07-25T14:19:24.208Z"
   },
   {
    "duration": 24,
    "start_time": "2025-07-25T14:19:25.375Z"
   },
   {
    "duration": 95,
    "start_time": "2025-07-25T14:19:25.401Z"
   },
   {
    "duration": 71,
    "start_time": "2025-07-25T14:19:25.498Z"
   },
   {
    "duration": 24,
    "start_time": "2025-07-25T14:19:25.571Z"
   },
   {
    "duration": 104,
    "start_time": "2025-07-25T14:19:25.597Z"
   },
   {
    "duration": 9,
    "start_time": "2025-07-25T14:19:25.702Z"
   },
   {
    "duration": 75,
    "start_time": "2025-07-25T14:19:25.713Z"
   },
   {
    "duration": 177,
    "start_time": "2025-07-25T14:19:25.790Z"
   },
   {
    "duration": 63,
    "start_time": "2025-07-25T14:19:25.970Z"
   },
   {
    "duration": 184,
    "start_time": "2025-07-25T14:19:26.035Z"
   },
   {
    "duration": 149,
    "start_time": "2025-07-25T14:19:26.221Z"
   },
   {
    "duration": 43,
    "start_time": "2025-07-25T14:19:26.375Z"
   },
   {
    "duration": 31,
    "start_time": "2025-07-25T14:19:26.420Z"
   },
   {
    "duration": 38,
    "start_time": "2025-07-25T14:19:26.453Z"
   },
   {
    "duration": 301,
    "start_time": "2025-07-25T14:19:26.493Z"
   },
   {
    "duration": 294,
    "start_time": "2025-07-25T14:19:26.797Z"
   },
   {
    "duration": 682,
    "start_time": "2025-07-25T14:19:27.092Z"
   },
   {
    "duration": 28,
    "start_time": "2025-07-25T14:19:27.775Z"
   },
   {
    "duration": 107,
    "start_time": "2025-07-25T14:19:27.804Z"
   },
   {
    "duration": 33,
    "start_time": "2025-07-25T14:19:27.912Z"
   },
   {
    "duration": 17,
    "start_time": "2025-07-25T14:19:27.947Z"
   },
   {
    "duration": 368,
    "start_time": "2025-07-25T14:19:27.966Z"
   },
   {
    "duration": 697,
    "start_time": "2025-07-25T14:19:28.336Z"
   },
   {
    "duration": 357,
    "start_time": "2025-07-25T14:19:29.035Z"
   },
   {
    "duration": 28,
    "start_time": "2025-07-25T14:19:29.394Z"
   },
   {
    "duration": 7,
    "start_time": "2025-07-25T14:19:29.423Z"
   },
   {
    "duration": 517,
    "start_time": "2025-07-25T14:19:29.431Z"
   },
   {
    "duration": 5,
    "start_time": "2025-07-25T16:15:48.184Z"
   },
   {
    "duration": 5,
    "start_time": "2025-07-25T16:15:59.138Z"
   },
   {
    "duration": 5,
    "start_time": "2025-07-25T16:16:08.512Z"
   },
   {
    "duration": 20,
    "start_time": "2025-07-25T16:17:22.142Z"
   },
   {
    "duration": 24,
    "start_time": "2025-07-25T16:17:41.428Z"
   },
   {
    "duration": 192,
    "start_time": "2025-07-25T16:20:26.818Z"
   },
   {
    "duration": 92,
    "start_time": "2025-07-25T16:20:59.139Z"
   },
   {
    "duration": 22,
    "start_time": "2025-07-25T16:21:14.181Z"
   },
   {
    "duration": 23,
    "start_time": "2025-07-25T16:21:33.018Z"
   },
   {
    "duration": 23,
    "start_time": "2025-07-25T16:21:38.923Z"
   },
   {
    "duration": 91,
    "start_time": "2025-07-25T16:22:18.521Z"
   },
   {
    "duration": 24,
    "start_time": "2025-07-25T16:22:53.368Z"
   },
   {
    "duration": 118,
    "start_time": "2025-07-25T16:24:39.522Z"
   },
   {
    "duration": 12,
    "start_time": "2025-07-25T16:24:44.648Z"
   },
   {
    "duration": 11,
    "start_time": "2025-07-25T16:26:06.474Z"
   },
   {
    "duration": 21,
    "start_time": "2025-07-25T16:26:20.612Z"
   },
   {
    "duration": 11,
    "start_time": "2025-07-25T16:26:45.780Z"
   },
   {
    "duration": 9,
    "start_time": "2025-07-25T16:27:25.214Z"
   },
   {
    "duration": 12,
    "start_time": "2025-07-25T16:27:28.179Z"
   },
   {
    "duration": 9,
    "start_time": "2025-07-25T16:27:34.995Z"
   },
   {
    "duration": 2541,
    "start_time": "2025-07-25T16:27:48.201Z"
   },
   {
    "duration": 4143,
    "start_time": "2025-07-25T16:27:58.881Z"
   },
   {
    "duration": 1263,
    "start_time": "2025-07-25T16:28:03.027Z"
   },
   {
    "duration": 20,
    "start_time": "2025-07-25T16:28:04.292Z"
   },
   {
    "duration": 148,
    "start_time": "2025-07-25T16:28:04.314Z"
   },
   {
    "duration": 72,
    "start_time": "2025-07-25T16:28:04.464Z"
   },
   {
    "duration": 16,
    "start_time": "2025-07-25T16:28:04.538Z"
   },
   {
    "duration": 117,
    "start_time": "2025-07-25T16:28:04.555Z"
   },
   {
    "duration": 17,
    "start_time": "2025-07-25T16:28:04.674Z"
   },
   {
    "duration": 76,
    "start_time": "2025-07-25T16:28:04.694Z"
   },
   {
    "duration": 174,
    "start_time": "2025-07-25T16:28:04.772Z"
   },
   {
    "duration": 72,
    "start_time": "2025-07-25T16:28:04.947Z"
   },
   {
    "duration": 181,
    "start_time": "2025-07-25T16:28:05.021Z"
   },
   {
    "duration": 156,
    "start_time": "2025-07-25T16:28:05.204Z"
   },
   {
    "duration": 47,
    "start_time": "2025-07-25T16:28:05.364Z"
   },
   {
    "duration": 30,
    "start_time": "2025-07-25T16:28:05.413Z"
   },
   {
    "duration": 78,
    "start_time": "2025-07-25T16:28:05.446Z"
   },
   {
    "duration": 290,
    "start_time": "2025-07-25T16:28:05.526Z"
   },
   {
    "duration": 26,
    "start_time": "2025-07-25T16:28:05.818Z"
   },
   {
    "duration": 346,
    "start_time": "2025-07-25T16:28:05.846Z"
   },
   {
    "duration": 699,
    "start_time": "2025-07-25T16:28:06.194Z"
   },
   {
    "duration": 18,
    "start_time": "2025-07-25T16:28:06.895Z"
   },
   {
    "duration": 10,
    "start_time": "2025-07-25T16:28:06.915Z"
   },
   {
    "duration": 44,
    "start_time": "2025-07-25T16:28:06.927Z"
   },
   {
    "duration": 18,
    "start_time": "2025-07-25T16:28:06.973Z"
   },
   {
    "duration": 435,
    "start_time": "2025-07-25T16:28:06.993Z"
   },
   {
    "duration": 616,
    "start_time": "2025-07-25T16:28:07.430Z"
   },
   {
    "duration": 362,
    "start_time": "2025-07-25T16:28:08.048Z"
   },
   {
    "duration": 29,
    "start_time": "2025-07-25T16:28:08.411Z"
   },
   {
    "duration": 24,
    "start_time": "2025-07-25T16:28:08.442Z"
   },
   {
    "duration": 529,
    "start_time": "2025-07-25T16:28:08.468Z"
   },
   {
    "duration": 8,
    "start_time": "2025-07-25T16:29:21.296Z"
   },
   {
    "duration": 3927,
    "start_time": "2025-07-25T16:29:46.818Z"
   },
   {
    "duration": 1096,
    "start_time": "2025-07-25T16:29:50.747Z"
   },
   {
    "duration": 20,
    "start_time": "2025-07-25T16:29:51.845Z"
   },
   {
    "duration": 102,
    "start_time": "2025-07-25T16:29:51.867Z"
   },
   {
    "duration": 65,
    "start_time": "2025-07-25T16:29:51.971Z"
   },
   {
    "duration": 13,
    "start_time": "2025-07-25T16:29:52.037Z"
   },
   {
    "duration": 116,
    "start_time": "2025-07-25T16:29:52.052Z"
   },
   {
    "duration": 8,
    "start_time": "2025-07-25T16:29:52.170Z"
   },
   {
    "duration": 118,
    "start_time": "2025-07-25T16:29:52.179Z"
   },
   {
    "duration": 162,
    "start_time": "2025-07-25T16:29:52.299Z"
   },
   {
    "duration": 70,
    "start_time": "2025-07-25T16:29:52.463Z"
   },
   {
    "duration": 160,
    "start_time": "2025-07-25T16:29:52.534Z"
   },
   {
    "duration": 154,
    "start_time": "2025-07-25T16:29:52.695Z"
   },
   {
    "duration": 42,
    "start_time": "2025-07-25T16:29:52.852Z"
   },
   {
    "duration": 65,
    "start_time": "2025-07-25T16:29:52.895Z"
   },
   {
    "duration": 37,
    "start_time": "2025-07-25T16:29:52.962Z"
   },
   {
    "duration": 313,
    "start_time": "2025-07-25T16:29:53.001Z"
   },
   {
    "duration": 23,
    "start_time": "2025-07-25T16:29:53.316Z"
   },
   {
    "duration": 315,
    "start_time": "2025-07-25T16:29:53.340Z"
   },
   {
    "duration": 682,
    "start_time": "2025-07-25T16:29:53.657Z"
   },
   {
    "duration": 19,
    "start_time": "2025-07-25T16:29:54.340Z"
   },
   {
    "duration": 21,
    "start_time": "2025-07-25T16:29:54.361Z"
   },
   {
    "duration": 117,
    "start_time": "2025-07-25T16:29:54.383Z"
   },
   {
    "duration": 22,
    "start_time": "2025-07-25T16:29:54.502Z"
   },
   {
    "duration": 406,
    "start_time": "2025-07-25T16:29:54.525Z"
   },
   {
    "duration": 629,
    "start_time": "2025-07-25T16:29:54.933Z"
   },
   {
    "duration": 339,
    "start_time": "2025-07-25T16:29:55.564Z"
   },
   {
    "duration": 31,
    "start_time": "2025-07-25T16:29:55.905Z"
   },
   {
    "duration": 7,
    "start_time": "2025-07-25T16:29:55.939Z"
   },
   {
    "duration": 513,
    "start_time": "2025-07-25T16:29:55.948Z"
   },
   {
    "duration": 86,
    "start_time": "2025-07-25T16:55:56.683Z"
   },
   {
    "duration": 4,
    "start_time": "2025-07-25T16:56:20.104Z"
   },
   {
    "duration": 204,
    "start_time": "2025-07-25T16:56:22.802Z"
   },
   {
    "duration": 179,
    "start_time": "2025-07-25T16:56:40.278Z"
   },
   {
    "duration": 224,
    "start_time": "2025-07-25T16:56:48.249Z"
   },
   {
    "duration": 223,
    "start_time": "2025-07-25T16:57:02.762Z"
   },
   {
    "duration": 222,
    "start_time": "2025-07-25T16:58:36.338Z"
   },
   {
    "duration": 221,
    "start_time": "2025-07-25T16:59:38.264Z"
   },
   {
    "duration": 55,
    "start_time": "2025-07-25T17:01:59.227Z"
   },
   {
    "duration": 129,
    "start_time": "2025-07-25T17:02:41.281Z"
   },
   {
    "duration": 102,
    "start_time": "2025-07-25T17:02:58.681Z"
   },
   {
    "duration": 111,
    "start_time": "2025-07-25T17:03:01.474Z"
   },
   {
    "duration": 88,
    "start_time": "2025-07-25T17:03:05.432Z"
   },
   {
    "duration": 6,
    "start_time": "2025-07-25T17:03:08.605Z"
   },
   {
    "duration": 8,
    "start_time": "2025-07-25T17:03:14.431Z"
   },
   {
    "duration": 33,
    "start_time": "2025-07-25T17:04:03.519Z"
   },
   {
    "duration": 104,
    "start_time": "2025-07-25T17:05:52.075Z"
   },
   {
    "duration": 64,
    "start_time": "2025-07-25T17:05:54.779Z"
   },
   {
    "duration": 61,
    "start_time": "2025-07-25T17:05:59.666Z"
   },
   {
    "duration": 68,
    "start_time": "2025-07-25T17:06:03.290Z"
   },
   {
    "duration": 56,
    "start_time": "2025-07-25T17:06:06.125Z"
   },
   {
    "duration": 67,
    "start_time": "2025-07-25T17:07:07.234Z"
   },
   {
    "duration": 196,
    "start_time": "2025-07-25T17:08:26.016Z"
   },
   {
    "duration": 63,
    "start_time": "2025-07-25T17:08:30.495Z"
   },
   {
    "duration": 3966,
    "start_time": "2025-07-25T17:08:36.943Z"
   },
   {
    "duration": 1094,
    "start_time": "2025-07-25T17:08:40.911Z"
   },
   {
    "duration": 21,
    "start_time": "2025-07-25T17:08:42.006Z"
   },
   {
    "duration": 99,
    "start_time": "2025-07-25T17:08:42.028Z"
   },
   {
    "duration": 73,
    "start_time": "2025-07-25T17:08:42.129Z"
   },
   {
    "duration": 15,
    "start_time": "2025-07-25T17:08:42.204Z"
   },
   {
    "duration": 110,
    "start_time": "2025-07-25T17:08:42.220Z"
   },
   {
    "duration": 9,
    "start_time": "2025-07-25T17:08:42.332Z"
   },
   {
    "duration": 71,
    "start_time": "2025-07-25T17:08:42.342Z"
   },
   {
    "duration": 288,
    "start_time": "2025-07-25T17:08:42.415Z"
   },
   {
    "duration": 57,
    "start_time": "2025-07-25T17:08:42.705Z"
   },
   {
    "duration": 53,
    "start_time": "2025-07-25T17:08:42.764Z"
   },
   {
    "duration": 54,
    "start_time": "2025-07-25T17:08:42.819Z"
   },
   {
    "duration": 174,
    "start_time": "2025-07-25T17:08:42.875Z"
   },
   {
    "duration": 160,
    "start_time": "2025-07-25T17:08:43.051Z"
   },
   {
    "duration": 38,
    "start_time": "2025-07-25T17:08:43.212Z"
   },
   {
    "duration": 50,
    "start_time": "2025-07-25T17:08:43.252Z"
   },
   {
    "duration": 15,
    "start_time": "2025-07-25T17:08:43.304Z"
   },
   {
    "duration": 308,
    "start_time": "2025-07-25T17:08:43.321Z"
   },
   {
    "duration": 23,
    "start_time": "2025-07-25T17:08:43.630Z"
   },
   {
    "duration": 298,
    "start_time": "2025-07-25T17:08:43.655Z"
   },
   {
    "duration": 741,
    "start_time": "2025-07-25T17:08:43.955Z"
   },
   {
    "duration": 26,
    "start_time": "2025-07-25T17:08:44.705Z"
   },
   {
    "duration": 18,
    "start_time": "2025-07-25T17:08:44.733Z"
   },
   {
    "duration": 48,
    "start_time": "2025-07-25T17:08:44.753Z"
   },
   {
    "duration": 4,
    "start_time": "2025-07-25T17:08:44.803Z"
   },
   {
    "duration": 456,
    "start_time": "2025-07-25T17:08:44.808Z"
   },
   {
    "duration": 674,
    "start_time": "2025-07-25T17:08:45.267Z"
   },
   {
    "duration": 382,
    "start_time": "2025-07-25T17:08:45.943Z"
   },
   {
    "duration": 28,
    "start_time": "2025-07-25T17:08:46.327Z"
   },
   {
    "duration": 7,
    "start_time": "2025-07-25T17:08:46.357Z"
   },
   {
    "duration": 577,
    "start_time": "2025-07-25T17:08:46.365Z"
   },
   {
    "duration": 245,
    "start_time": "2025-07-25T17:10:34.809Z"
   },
   {
    "duration": 164,
    "start_time": "2025-07-25T17:10:51.175Z"
   },
   {
    "duration": 156,
    "start_time": "2025-07-25T17:11:19.231Z"
   },
   {
    "duration": 165,
    "start_time": "2025-07-25T17:11:35.891Z"
   },
   {
    "duration": 450,
    "start_time": "2025-07-25T17:12:26.828Z"
   },
   {
    "duration": 679,
    "start_time": "2025-07-25T17:12:56.566Z"
   },
   {
    "duration": 682,
    "start_time": "2025-07-25T17:13:06.346Z"
   },
   {
    "duration": 804,
    "start_time": "2025-07-25T17:13:10.720Z"
   },
   {
    "duration": 326,
    "start_time": "2025-07-25T17:13:24.122Z"
   },
   {
    "duration": 712,
    "start_time": "2025-07-25T17:13:34.851Z"
   },
   {
    "duration": 3977,
    "start_time": "2025-07-25T17:13:55.670Z"
   },
   {
    "duration": 987,
    "start_time": "2025-07-25T17:13:59.650Z"
   },
   {
    "duration": 21,
    "start_time": "2025-07-25T17:14:00.639Z"
   },
   {
    "duration": 88,
    "start_time": "2025-07-25T17:14:00.662Z"
   },
   {
    "duration": 86,
    "start_time": "2025-07-25T17:14:00.752Z"
   },
   {
    "duration": 14,
    "start_time": "2025-07-25T17:14:00.840Z"
   },
   {
    "duration": 108,
    "start_time": "2025-07-25T17:14:00.856Z"
   },
   {
    "duration": 9,
    "start_time": "2025-07-25T17:14:00.966Z"
   },
   {
    "duration": 92,
    "start_time": "2025-07-25T17:14:00.976Z"
   },
   {
    "duration": 265,
    "start_time": "2025-07-25T17:14:01.070Z"
   },
   {
    "duration": 71,
    "start_time": "2025-07-25T17:14:01.336Z"
   },
   {
    "duration": 33,
    "start_time": "2025-07-25T17:14:01.408Z"
   },
   {
    "duration": 134,
    "start_time": "2025-07-25T17:14:01.443Z"
   },
   {
    "duration": 218,
    "start_time": "2025-07-25T17:14:01.580Z"
   },
   {
    "duration": 173,
    "start_time": "2025-07-25T17:14:01.799Z"
   },
   {
    "duration": 44,
    "start_time": "2025-07-25T17:14:01.974Z"
   },
   {
    "duration": 33,
    "start_time": "2025-07-25T17:14:02.019Z"
   },
   {
    "duration": 35,
    "start_time": "2025-07-25T17:14:02.054Z"
   },
   {
    "duration": 354,
    "start_time": "2025-07-25T17:14:02.091Z"
   },
   {
    "duration": 24,
    "start_time": "2025-07-25T17:14:02.447Z"
   },
   {
    "duration": 407,
    "start_time": "2025-07-25T17:14:02.473Z"
   },
   {
    "duration": 743,
    "start_time": "2025-07-25T17:14:02.882Z"
   },
   {
    "duration": 20,
    "start_time": "2025-07-25T17:14:03.627Z"
   },
   {
    "duration": 21,
    "start_time": "2025-07-25T17:14:03.649Z"
   },
   {
    "duration": 49,
    "start_time": "2025-07-25T17:14:03.671Z"
   },
   {
    "duration": 3,
    "start_time": "2025-07-25T17:14:03.722Z"
   },
   {
    "duration": 418,
    "start_time": "2025-07-25T17:14:03.726Z"
   },
   {
    "duration": 664,
    "start_time": "2025-07-25T17:14:04.145Z"
   },
   {
    "duration": 337,
    "start_time": "2025-07-25T17:14:04.811Z"
   },
   {
    "duration": 29,
    "start_time": "2025-07-25T17:14:05.150Z"
   },
   {
    "duration": 19,
    "start_time": "2025-07-25T17:14:05.181Z"
   },
   {
    "duration": 547,
    "start_time": "2025-07-25T17:14:05.202Z"
   },
   {
    "duration": 6827,
    "start_time": "2025-07-26T06:00:15.991Z"
   },
   {
    "duration": 2515,
    "start_time": "2025-07-26T06:00:22.820Z"
   },
   {
    "duration": 20,
    "start_time": "2025-07-26T06:00:25.337Z"
   },
   {
    "duration": 95,
    "start_time": "2025-07-26T06:00:25.359Z"
   },
   {
    "duration": 65,
    "start_time": "2025-07-26T06:00:25.457Z"
   },
   {
    "duration": 24,
    "start_time": "2025-07-26T06:00:25.523Z"
   },
   {
    "duration": 109,
    "start_time": "2025-07-26T06:00:25.548Z"
   },
   {
    "duration": 8,
    "start_time": "2025-07-26T06:00:25.659Z"
   },
   {
    "duration": 104,
    "start_time": "2025-07-26T06:00:25.669Z"
   },
   {
    "duration": 264,
    "start_time": "2025-07-26T06:00:25.774Z"
   },
   {
    "duration": 57,
    "start_time": "2025-07-26T06:00:26.039Z"
   },
   {
    "duration": 48,
    "start_time": "2025-07-26T06:00:26.097Z"
   },
   {
    "duration": 50,
    "start_time": "2025-07-26T06:00:26.147Z"
   },
   {
    "duration": 198,
    "start_time": "2025-07-26T06:00:26.200Z"
   },
   {
    "duration": 160,
    "start_time": "2025-07-26T06:00:26.400Z"
   },
   {
    "duration": 36,
    "start_time": "2025-07-26T06:00:26.562Z"
   },
   {
    "duration": 49,
    "start_time": "2025-07-26T06:00:26.600Z"
   },
   {
    "duration": 17,
    "start_time": "2025-07-26T06:00:26.651Z"
   },
   {
    "duration": 348,
    "start_time": "2025-07-26T06:00:26.670Z"
   },
   {
    "duration": 31,
    "start_time": "2025-07-26T06:00:27.020Z"
   },
   {
    "duration": 282,
    "start_time": "2025-07-26T06:00:27.053Z"
   },
   {
    "duration": 701,
    "start_time": "2025-07-26T06:00:27.337Z"
   },
   {
    "duration": 23,
    "start_time": "2025-07-26T06:00:28.039Z"
   },
   {
    "duration": 11,
    "start_time": "2025-07-26T06:00:28.064Z"
   },
   {
    "duration": 31,
    "start_time": "2025-07-26T06:00:28.076Z"
   },
   {
    "duration": 3,
    "start_time": "2025-07-26T06:00:28.135Z"
   },
   {
    "duration": 394,
    "start_time": "2025-07-26T06:00:28.140Z"
   },
   {
    "duration": 788,
    "start_time": "2025-07-26T06:00:28.536Z"
   },
   {
    "duration": 327,
    "start_time": "2025-07-26T06:00:29.326Z"
   },
   {
    "duration": 28,
    "start_time": "2025-07-26T06:00:29.654Z"
   },
   {
    "duration": 13,
    "start_time": "2025-07-26T06:00:29.684Z"
   },
   {
    "duration": 505,
    "start_time": "2025-07-26T06:00:29.699Z"
   }
  ],
  "colab": {
   "provenance": []
  },
  "kernelspec": {
   "display_name": "Python 3 (ipykernel)",
   "language": "python",
   "name": "python3"
  },
  "language_info": {
   "codemirror_mode": {
    "name": "ipython",
    "version": 3
   },
   "file_extension": ".py",
   "mimetype": "text/x-python",
   "name": "python",
   "nbconvert_exporter": "python",
   "pygments_lexer": "ipython3",
   "version": "3.12.7"
  },
  "toc": {
   "base_numbering": 1,
   "nav_menu": {},
   "number_sections": true,
   "sideBar": true,
   "skip_h1_title": true,
   "title_cell": "Table of Contents",
   "title_sidebar": "Contents",
   "toc_cell": false,
   "toc_position": {
    "height": "calc(100% - 180px)",
    "left": "10px",
    "top": "150px",
    "width": "409.600006px"
   },
   "toc_section_display": true,
   "toc_window_display": true
  }
 },
 "nbformat": 4,
 "nbformat_minor": 5
}
