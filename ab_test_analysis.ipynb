{
 "cells": [
  {
   "cell_type": "markdown",
   "metadata": {
    "id": "u98L9TgH0eMk"
   },
   "source": [
    "# Разработка A/B-тестирования и анализ результатов\n",
    "\n",
    "Вы работаете продуктовым аналитиком в компании, которая разрабатывает развлекательное приложение с функцией «бесконечной» ленты, как, например, в приложениях с короткими видео. В вашем приложении существует две модели монетизации: первая — ежемесячная платная подписка, которая позволяет пользователям смотреть ленту без рекламы, вторая — демонстрация рекламы для пользователей, которые ещё не оформили подписку.\n",
    "\n",
    "Команда разработчиков рекомендательных систем создала новый алгоритм рекомендаций, который, по их мнению, будет показывать более интересный контент для каждого пользователя. Вас, как аналитика, просят помочь рассчитать параметры A/B-теста, который позволит проверить эту гипотезу, и проанализировать его результаты."
   ]
  },
  {
   "cell_type": "markdown",
   "metadata": {
    "id": "LJBRALHs0eMf"
   },
   "source": [
    "## Описание данных\n",
    "\n",
    "Вы будете работать с тремя таблицами:\n",
    "\n",
    "- `sessions_project_history.csv` — таблица с историческими данными по сессиям пользователей на период с 2025-08-15 по 2025-09-23. Путь к файлу: `/datasets/sessions_project_history.csv`.\n",
    "\n",
    "- `sessions_project_test_part.csv` — таблица с данными за первый день проведения A/B-теста, то есть за 2025-10-14. Путь к файлу: `/datasets/sessions_project_test_part.csv`.\n",
    "\n",
    "- `sessions_project_test.csv` — таблица с данными за весь период проведения A/B-теста, то есть с 2025-10-14 по 2025-11-02. Путь к файлу: `/datasets/sessions_project_test.csv`.\n",
    "\n",
    "У этих таблиц почти совпадает структура и содержание колонок, различаются лишь периоды наблюдения.\n",
    "\n",
    "Поля таблиц `sessions_project_history.csv`, `sessions_project_test.csv`, `sessions_project_test_part.csv`:\n",
    "\n",
    "- `user_id` — идентификатор пользователя;\n",
    "\n",
    "- `session_id` — идентификатор сессии в приложении;\n",
    "\n",
    "- `session_date` — дата сессии;\n",
    "\n",
    "- `session_start_ts` — дата и время начала сессии;\n",
    "\n",
    "- `install_date` — дата установки приложения;\n",
    "\n",
    "- `session_number` — порядковый номер сессии для конкретного пользователя;\n",
    "\n",
    "- `registration_flag` — является ли пользователь зарегистрированным;\n",
    "\n",
    "- `page_counter` — количество просмотренных страниц во время сессии;\n",
    "\n",
    "- `region` — регион пользователя;\n",
    "\n",
    "- `device` — тип устройства пользователя;\n",
    "\n",
    "- `test_group` — тестовая группа (в таблице с историческими данными этого столбца нет).\n",
    "\n",
    "\n",
    "## Что нужно сделать\n",
    "Ваши задачи: рассчитать параметры теста, оценить корректность его проведения и проанализировать результаты эксперимента."
   ]
  },
  {
   "cell_type": "markdown",
   "metadata": {
    "id": "UpOucjID0eMl"
   },
   "source": [
    "### 1. Работа с историческими данными (EDA)"
   ]
  },
  {
   "cell_type": "markdown",
   "metadata": {
    "id": "8iJMtL-30eMl"
   },
   "source": [
    "#### 1.1. Загрузка исторических данных\n",
    "На первом этапе поработайте с историческими данными приложения:\n",
    "\n",
    "- Импортируйте библиотеку pandas.\n",
    "\n",
    "- Считайте и сохраните в датафрейм `sessions_history` CSV-файл с историческими данными о сессиях пользователей `sessions_project_history.csv`.\n",
    "\n",
    "Выведите на экран первые пять строк полученного датафрейма."
   ]
  },
  {
   "cell_type": "code",
   "execution_count": 1,
   "metadata": {
    "id": "6TPR2-1RPboT"
   },
   "outputs": [],
   "source": [
    "#Импортируем все необходимые библиотеки\n",
    "import pandas as pd\n",
    "import numpy as np\n",
    "import matplotlib.pyplot as plt\n",
    "from scipy.stats import ttest_ind\n",
    "from statsmodels.stats.proportion import proportions_ztest"
   ]
  },
  {
   "cell_type": "code",
   "execution_count": 2,
   "metadata": {},
   "outputs": [],
   "source": [
    "#Сохраняем датафрейм c данными о сессиях пользователей\n",
    "sessions_history = pd.read_csv('https://code.s3.yandex.net/datasets/sessions_project_history.csv')"
   ]
  },
  {
   "cell_type": "code",
   "execution_count": 3,
   "metadata": {},
   "outputs": [
    {
     "data": {
      "text/html": [
       "<div>\n",
       "<style scoped>\n",
       "    .dataframe tbody tr th:only-of-type {\n",
       "        vertical-align: middle;\n",
       "    }\n",
       "\n",
       "    .dataframe tbody tr th {\n",
       "        vertical-align: top;\n",
       "    }\n",
       "\n",
       "    .dataframe thead th {\n",
       "        text-align: right;\n",
       "    }\n",
       "</style>\n",
       "<table border=\"1\" class=\"dataframe\">\n",
       "  <thead>\n",
       "    <tr style=\"text-align: right;\">\n",
       "      <th></th>\n",
       "      <th>user_id</th>\n",
       "      <th>session_id</th>\n",
       "      <th>session_date</th>\n",
       "      <th>session_start_ts</th>\n",
       "      <th>install_date</th>\n",
       "      <th>session_number</th>\n",
       "      <th>registration_flag</th>\n",
       "      <th>page_counter</th>\n",
       "      <th>region</th>\n",
       "      <th>device</th>\n",
       "    </tr>\n",
       "  </thead>\n",
       "  <tbody>\n",
       "    <tr>\n",
       "      <th>0</th>\n",
       "      <td>E302123B7000BFE4</td>\n",
       "      <td>F9AF61A0C2023832</td>\n",
       "      <td>2025-08-15</td>\n",
       "      <td>2025-08-15 17:47:35</td>\n",
       "      <td>2025-08-15</td>\n",
       "      <td>1</td>\n",
       "      <td>0</td>\n",
       "      <td>3</td>\n",
       "      <td>CIS</td>\n",
       "      <td>iPhone</td>\n",
       "    </tr>\n",
       "    <tr>\n",
       "      <th>1</th>\n",
       "      <td>2530F72E221829FB</td>\n",
       "      <td>85003A206CBDAC6F</td>\n",
       "      <td>2025-08-15</td>\n",
       "      <td>2025-08-15 16:42:14</td>\n",
       "      <td>2025-08-15</td>\n",
       "      <td>1</td>\n",
       "      <td>0</td>\n",
       "      <td>4</td>\n",
       "      <td>MENA</td>\n",
       "      <td>Android</td>\n",
       "    </tr>\n",
       "    <tr>\n",
       "      <th>2</th>\n",
       "      <td>876E020A4FC512F5</td>\n",
       "      <td>3677423E49D72DEE</td>\n",
       "      <td>2025-08-15</td>\n",
       "      <td>2025-08-15 12:30:00</td>\n",
       "      <td>2025-08-15</td>\n",
       "      <td>1</td>\n",
       "      <td>0</td>\n",
       "      <td>4</td>\n",
       "      <td>EU</td>\n",
       "      <td>PC</td>\n",
       "    </tr>\n",
       "    <tr>\n",
       "      <th>3</th>\n",
       "      <td>2640B349E1D81584</td>\n",
       "      <td>956B45F5915CA225</td>\n",
       "      <td>2025-08-15</td>\n",
       "      <td>2025-08-15 15:31:31</td>\n",
       "      <td>2025-08-15</td>\n",
       "      <td>1</td>\n",
       "      <td>0</td>\n",
       "      <td>4</td>\n",
       "      <td>CIS</td>\n",
       "      <td>Android</td>\n",
       "    </tr>\n",
       "    <tr>\n",
       "      <th>4</th>\n",
       "      <td>94E1CBFAEF1F5EE9</td>\n",
       "      <td>83BF0DA35F9F1F40</td>\n",
       "      <td>2025-08-15</td>\n",
       "      <td>2025-08-15 21:33:53</td>\n",
       "      <td>2025-08-15</td>\n",
       "      <td>1</td>\n",
       "      <td>0</td>\n",
       "      <td>3</td>\n",
       "      <td>CIS</td>\n",
       "      <td>Android</td>\n",
       "    </tr>\n",
       "  </tbody>\n",
       "</table>\n",
       "</div>"
      ],
      "text/plain": [
       "            user_id        session_id session_date     session_start_ts  \\\n",
       "0  E302123B7000BFE4  F9AF61A0C2023832   2025-08-15  2025-08-15 17:47:35   \n",
       "1  2530F72E221829FB  85003A206CBDAC6F   2025-08-15  2025-08-15 16:42:14   \n",
       "2  876E020A4FC512F5  3677423E49D72DEE   2025-08-15  2025-08-15 12:30:00   \n",
       "3  2640B349E1D81584  956B45F5915CA225   2025-08-15  2025-08-15 15:31:31   \n",
       "4  94E1CBFAEF1F5EE9  83BF0DA35F9F1F40   2025-08-15  2025-08-15 21:33:53   \n",
       "\n",
       "  install_date  session_number  registration_flag  page_counter region  \\\n",
       "0   2025-08-15               1                  0             3    CIS   \n",
       "1   2025-08-15               1                  0             4   MENA   \n",
       "2   2025-08-15               1                  0             4     EU   \n",
       "3   2025-08-15               1                  0             4    CIS   \n",
       "4   2025-08-15               1                  0             3    CIS   \n",
       "\n",
       "    device  \n",
       "0   iPhone  \n",
       "1  Android  \n",
       "2       PC  \n",
       "3  Android  \n",
       "4  Android  "
      ]
     },
     "execution_count": 3,
     "metadata": {},
     "output_type": "execute_result"
    }
   ],
   "source": [
    "#Выводим первые пять строк полученного датафрейма\n",
    "sessions_history.head()"
   ]
  },
  {
   "cell_type": "markdown",
   "metadata": {
    "id": "qTDoiODz0eMo"
   },
   "source": [
    "#### 1.2. Знакомство с данными\n",
    "- Для каждого уникального пользователя `user_id` рассчитайте количество уникальных сессий `session_id`.\n",
    "\n",
    "- Выведите на экран все данные из таблицы `sessions_history` для одного пользователя с наибольшим количеством сессий. Если таких пользователей несколько, выберите любого из них.\n",
    "\n",
    "- Изучите таблицу для одного пользователя, чтобы лучше понять логику формирования каждого столбца данных.\n",
    "\n"
   ]
  },
  {
   "cell_type": "code",
   "execution_count": 4,
   "metadata": {
    "id": "PWZO9vTIPbPN"
   },
   "outputs": [
    {
     "data": {
      "text/html": [
       "<div>\n",
       "<style scoped>\n",
       "    .dataframe tbody tr th:only-of-type {\n",
       "        vertical-align: middle;\n",
       "    }\n",
       "\n",
       "    .dataframe tbody tr th {\n",
       "        vertical-align: top;\n",
       "    }\n",
       "\n",
       "    .dataframe thead th {\n",
       "        text-align: right;\n",
       "    }\n",
       "</style>\n",
       "<table border=\"1\" class=\"dataframe\">\n",
       "  <thead>\n",
       "    <tr style=\"text-align: right;\">\n",
       "      <th></th>\n",
       "      <th>user_id</th>\n",
       "      <th>session_id</th>\n",
       "    </tr>\n",
       "  </thead>\n",
       "  <tbody>\n",
       "    <tr>\n",
       "      <th>0</th>\n",
       "      <td>10E0DEFC1ABDBBE0</td>\n",
       "      <td>10</td>\n",
       "    </tr>\n",
       "    <tr>\n",
       "      <th>1</th>\n",
       "      <td>6A73CB5566BB494D</td>\n",
       "      <td>10</td>\n",
       "    </tr>\n",
       "    <tr>\n",
       "      <th>2</th>\n",
       "      <td>8A60431A825D035B</td>\n",
       "      <td>9</td>\n",
       "    </tr>\n",
       "    <tr>\n",
       "      <th>3</th>\n",
       "      <td>D11541BAC141FB94</td>\n",
       "      <td>9</td>\n",
       "    </tr>\n",
       "    <tr>\n",
       "      <th>4</th>\n",
       "      <td>5BCFE7C4DCC148E9</td>\n",
       "      <td>9</td>\n",
       "    </tr>\n",
       "    <tr>\n",
       "      <th>...</th>\n",
       "      <td>...</td>\n",
       "      <td>...</td>\n",
       "    </tr>\n",
       "    <tr>\n",
       "      <th>134034</th>\n",
       "      <td>1DF13BB1953B3497</td>\n",
       "      <td>1</td>\n",
       "    </tr>\n",
       "    <tr>\n",
       "      <th>134035</th>\n",
       "      <td>628502A3CE7E0A3C</td>\n",
       "      <td>1</td>\n",
       "    </tr>\n",
       "    <tr>\n",
       "      <th>134036</th>\n",
       "      <td>1DEEF40DEFBD0C65</td>\n",
       "      <td>1</td>\n",
       "    </tr>\n",
       "    <tr>\n",
       "      <th>134037</th>\n",
       "      <td>AC08479B7472C628</td>\n",
       "      <td>1</td>\n",
       "    </tr>\n",
       "    <tr>\n",
       "      <th>134038</th>\n",
       "      <td>8A0882B6715D9EE5</td>\n",
       "      <td>1</td>\n",
       "    </tr>\n",
       "  </tbody>\n",
       "</table>\n",
       "<p>134039 rows × 2 columns</p>\n",
       "</div>"
      ],
      "text/plain": [
       "                 user_id  session_id\n",
       "0       10E0DEFC1ABDBBE0          10\n",
       "1       6A73CB5566BB494D          10\n",
       "2       8A60431A825D035B           9\n",
       "3       D11541BAC141FB94           9\n",
       "4       5BCFE7C4DCC148E9           9\n",
       "...                  ...         ...\n",
       "134034  1DF13BB1953B3497           1\n",
       "134035  628502A3CE7E0A3C           1\n",
       "134036  1DEEF40DEFBD0C65           1\n",
       "134037  AC08479B7472C628           1\n",
       "134038  8A0882B6715D9EE5           1\n",
       "\n",
       "[134039 rows x 2 columns]"
      ]
     },
     "execution_count": 4,
     "metadata": {},
     "output_type": "execute_result"
    }
   ],
   "source": [
    "#Рассичитыаем число уникальных сессиий на каждого пользователя и отсортируем по убыванию\n",
    "sessions_for_user = sessions_history.groupby('user_id')['session_id'].nunique().sort_values(ascending=False).reset_index()\n",
    "sessions_for_user"
   ]
  },
  {
   "cell_type": "code",
   "execution_count": 5,
   "metadata": {},
   "outputs": [
    {
     "data": {
      "text/html": [
       "<div>\n",
       "<style scoped>\n",
       "    .dataframe tbody tr th:only-of-type {\n",
       "        vertical-align: middle;\n",
       "    }\n",
       "\n",
       "    .dataframe tbody tr th {\n",
       "        vertical-align: top;\n",
       "    }\n",
       "\n",
       "    .dataframe thead th {\n",
       "        text-align: right;\n",
       "    }\n",
       "</style>\n",
       "<table border=\"1\" class=\"dataframe\">\n",
       "  <thead>\n",
       "    <tr style=\"text-align: right;\">\n",
       "      <th></th>\n",
       "      <th>user_id</th>\n",
       "      <th>session_id</th>\n",
       "      <th>session_date</th>\n",
       "      <th>session_start_ts</th>\n",
       "      <th>install_date</th>\n",
       "      <th>session_number</th>\n",
       "      <th>registration_flag</th>\n",
       "      <th>page_counter</th>\n",
       "      <th>region</th>\n",
       "      <th>device</th>\n",
       "    </tr>\n",
       "  </thead>\n",
       "  <tbody>\n",
       "    <tr>\n",
       "      <th>115558</th>\n",
       "      <td>10E0DEFC1ABDBBE0</td>\n",
       "      <td>B8F0423BBFFCF5DC</td>\n",
       "      <td>2025-08-14</td>\n",
       "      <td>2025-08-14 13:57:39</td>\n",
       "      <td>2025-08-14</td>\n",
       "      <td>1</td>\n",
       "      <td>0</td>\n",
       "      <td>4</td>\n",
       "      <td>CIS</td>\n",
       "      <td>Android</td>\n",
       "    </tr>\n",
       "    <tr>\n",
       "      <th>191751</th>\n",
       "      <td>10E0DEFC1ABDBBE0</td>\n",
       "      <td>87CA2FA549473837</td>\n",
       "      <td>2025-08-15</td>\n",
       "      <td>2025-08-15 16:42:10</td>\n",
       "      <td>2025-08-14</td>\n",
       "      <td>2</td>\n",
       "      <td>0</td>\n",
       "      <td>3</td>\n",
       "      <td>CIS</td>\n",
       "      <td>Android</td>\n",
       "    </tr>\n",
       "    <tr>\n",
       "      <th>239370</th>\n",
       "      <td>10E0DEFC1ABDBBE0</td>\n",
       "      <td>4ADD8011DCDCE318</td>\n",
       "      <td>2025-08-16</td>\n",
       "      <td>2025-08-16 19:53:21</td>\n",
       "      <td>2025-08-14</td>\n",
       "      <td>3</td>\n",
       "      <td>0</td>\n",
       "      <td>3</td>\n",
       "      <td>CIS</td>\n",
       "      <td>Android</td>\n",
       "    </tr>\n",
       "    <tr>\n",
       "      <th>274629</th>\n",
       "      <td>10E0DEFC1ABDBBE0</td>\n",
       "      <td>DF0FD0E09BF1F3D7</td>\n",
       "      <td>2025-08-17</td>\n",
       "      <td>2025-08-17 15:03:43</td>\n",
       "      <td>2025-08-14</td>\n",
       "      <td>4</td>\n",
       "      <td>0</td>\n",
       "      <td>1</td>\n",
       "      <td>CIS</td>\n",
       "      <td>Android</td>\n",
       "    </tr>\n",
       "    <tr>\n",
       "      <th>302501</th>\n",
       "      <td>10E0DEFC1ABDBBE0</td>\n",
       "      <td>3C221774B4DE6885</td>\n",
       "      <td>2025-08-18</td>\n",
       "      <td>2025-08-18 17:29:14</td>\n",
       "      <td>2025-08-14</td>\n",
       "      <td>5</td>\n",
       "      <td>0</td>\n",
       "      <td>4</td>\n",
       "      <td>CIS</td>\n",
       "      <td>Android</td>\n",
       "    </tr>\n",
       "    <tr>\n",
       "      <th>325557</th>\n",
       "      <td>10E0DEFC1ABDBBE0</td>\n",
       "      <td>031BD7A67048105B</td>\n",
       "      <td>2025-08-19</td>\n",
       "      <td>2025-08-19 13:23:55</td>\n",
       "      <td>2025-08-14</td>\n",
       "      <td>6</td>\n",
       "      <td>0</td>\n",
       "      <td>2</td>\n",
       "      <td>CIS</td>\n",
       "      <td>Android</td>\n",
       "    </tr>\n",
       "    <tr>\n",
       "      <th>345336</th>\n",
       "      <td>10E0DEFC1ABDBBE0</td>\n",
       "      <td>FF4315CF4AD4B100</td>\n",
       "      <td>2025-08-20</td>\n",
       "      <td>2025-08-20 19:31:54</td>\n",
       "      <td>2025-08-14</td>\n",
       "      <td>7</td>\n",
       "      <td>0</td>\n",
       "      <td>2</td>\n",
       "      <td>CIS</td>\n",
       "      <td>Android</td>\n",
       "    </tr>\n",
       "    <tr>\n",
       "      <th>377532</th>\n",
       "      <td>10E0DEFC1ABDBBE0</td>\n",
       "      <td>4045FEA0747203B4</td>\n",
       "      <td>2025-08-22</td>\n",
       "      <td>2025-08-22 17:54:13</td>\n",
       "      <td>2025-08-14</td>\n",
       "      <td>8</td>\n",
       "      <td>0</td>\n",
       "      <td>2</td>\n",
       "      <td>CIS</td>\n",
       "      <td>Android</td>\n",
       "    </tr>\n",
       "    <tr>\n",
       "      <th>403538</th>\n",
       "      <td>10E0DEFC1ABDBBE0</td>\n",
       "      <td>344B086C421C7F37</td>\n",
       "      <td>2025-08-24</td>\n",
       "      <td>2025-08-24 14:46:13</td>\n",
       "      <td>2025-08-14</td>\n",
       "      <td>9</td>\n",
       "      <td>0</td>\n",
       "      <td>2</td>\n",
       "      <td>CIS</td>\n",
       "      <td>Android</td>\n",
       "    </tr>\n",
       "    <tr>\n",
       "      <th>414743</th>\n",
       "      <td>10E0DEFC1ABDBBE0</td>\n",
       "      <td>054F20BA371E4C9D</td>\n",
       "      <td>2025-08-25</td>\n",
       "      <td>2025-08-25 18:36:41</td>\n",
       "      <td>2025-08-14</td>\n",
       "      <td>10</td>\n",
       "      <td>0</td>\n",
       "      <td>3</td>\n",
       "      <td>CIS</td>\n",
       "      <td>Android</td>\n",
       "    </tr>\n",
       "  </tbody>\n",
       "</table>\n",
       "</div>"
      ],
      "text/plain": [
       "                 user_id        session_id session_date     session_start_ts  \\\n",
       "115558  10E0DEFC1ABDBBE0  B8F0423BBFFCF5DC   2025-08-14  2025-08-14 13:57:39   \n",
       "191751  10E0DEFC1ABDBBE0  87CA2FA549473837   2025-08-15  2025-08-15 16:42:10   \n",
       "239370  10E0DEFC1ABDBBE0  4ADD8011DCDCE318   2025-08-16  2025-08-16 19:53:21   \n",
       "274629  10E0DEFC1ABDBBE0  DF0FD0E09BF1F3D7   2025-08-17  2025-08-17 15:03:43   \n",
       "302501  10E0DEFC1ABDBBE0  3C221774B4DE6885   2025-08-18  2025-08-18 17:29:14   \n",
       "325557  10E0DEFC1ABDBBE0  031BD7A67048105B   2025-08-19  2025-08-19 13:23:55   \n",
       "345336  10E0DEFC1ABDBBE0  FF4315CF4AD4B100   2025-08-20  2025-08-20 19:31:54   \n",
       "377532  10E0DEFC1ABDBBE0  4045FEA0747203B4   2025-08-22  2025-08-22 17:54:13   \n",
       "403538  10E0DEFC1ABDBBE0  344B086C421C7F37   2025-08-24  2025-08-24 14:46:13   \n",
       "414743  10E0DEFC1ABDBBE0  054F20BA371E4C9D   2025-08-25  2025-08-25 18:36:41   \n",
       "\n",
       "       install_date  session_number  registration_flag  page_counter region  \\\n",
       "115558   2025-08-14               1                  0             4    CIS   \n",
       "191751   2025-08-14               2                  0             3    CIS   \n",
       "239370   2025-08-14               3                  0             3    CIS   \n",
       "274629   2025-08-14               4                  0             1    CIS   \n",
       "302501   2025-08-14               5                  0             4    CIS   \n",
       "325557   2025-08-14               6                  0             2    CIS   \n",
       "345336   2025-08-14               7                  0             2    CIS   \n",
       "377532   2025-08-14               8                  0             2    CIS   \n",
       "403538   2025-08-14               9                  0             2    CIS   \n",
       "414743   2025-08-14              10                  0             3    CIS   \n",
       "\n",
       "         device  \n",
       "115558  Android  \n",
       "191751  Android  \n",
       "239370  Android  \n",
       "274629  Android  \n",
       "302501  Android  \n",
       "325557  Android  \n",
       "345336  Android  \n",
       "377532  Android  \n",
       "403538  Android  \n",
       "414743  Android  "
      ]
     },
     "execution_count": 5,
     "metadata": {},
     "output_type": "execute_result"
    }
   ],
   "source": [
    "#Выводим все данные для пользователя с максимальным числом сессий\n",
    "sessions_history[sessions_history['user_id'] == sessions_for_user['user_id'][0]]"
   ]
  },
  {
   "cell_type": "markdown",
   "metadata": {
    "id": "CmcGpJTP0eMq"
   },
   "source": [
    "#### 1.3. Анализ числа регистраций\n",
    "Одна из важнейших метрик продукта — число зарегистрированных пользователей. Используя исторические данные, визуализируйте, как менялось число регистраций в приложении за время его существования.\n",
    "\n",
    "- Агрегируйте исторические данные и рассчитайте число уникальных пользователей и число зарегистрированных пользователей для каждого дня наблюдения. Для простоты считайте, что у пользователя в течение дня бывает одна сессия максимум и статус регистрации в течение одного дня не может измениться.\n",
    "\n",
    "- Постройте линейные графики общего числа пользователей и общего числа зарегистрированных пользователей по дням. Отобразите их на одном графике.\n",
    "\n",
    "- Постройте отдельный линейный график доли зарегистрированных пользователей от всех пользователей по дням.\n",
    "\n",
    "- На обоих графиках должны быть заголовок, подписанные оси X и Y, сетка и легенда."
   ]
  },
  {
   "cell_type": "code",
   "execution_count": 6,
   "metadata": {
    "id": "tN_6Ml3EPatS"
   },
   "outputs": [
    {
     "data": {
      "text/plain": [
       "<matplotlib.legend.Legend at 0x7f0eeaea8df0>"
      ]
     },
     "execution_count": 6,
     "metadata": {},
     "output_type": "execute_result"
    },
    {
     "data": {
      "image/png": "[encoded data removed]",
      "text/plain": [
       "<Figure size 1152x432 with 1 Axes>"
      ]
     },
     "metadata": {
      "needs_background": "light"
     },
     "output_type": "display_data"
    }
   ],
   "source": [
    "#Агрегируем данные\n",
    "users_per_day = sessions_history.groupby('session_date').agg({'user_id':'nunique',\n",
    "                                              'registration_flag':'sum'}).reset_index().sort_values(by = 'session_date')\n",
    "\n",
    "#Строим линейный график\n",
    "plt.figure(figsize=(16, 6))\n",
    "plt.plot(users_per_day['session_date'], users_per_day['user_id'], label ='Общее число пользователей')\n",
    "plt.plot(users_per_day['session_date'], users_per_day['registration_flag'], label = 'Общее число зарегистрированных пользователей')\n",
    "plt.title('Сравнение общего числа пользователей и общего числа зарегистрированных пользователей по дням')\n",
    "plt.xlabel('Дата')\n",
    "plt.xticks(rotation=45)\n",
    "plt.ylabel('Число пользователей')\n",
    "plt.grid()\n",
    "plt.legend()"
   ]
  },
  {
   "cell_type": "code",
   "execution_count": 7,
   "metadata": {},
   "outputs": [
    {
     "data": {
      "text/plain": [
       "<matplotlib.legend.Legend at 0x7f0ee9528b50>"
      ]
     },
     "execution_count": 7,
     "metadata": {},
     "output_type": "execute_result"
    },
    {
     "data": {
      "image/png": "[encoded data removed]",
      "text/plain": [
       "<Figure size 1152x432 with 1 Axes>"
      ]
     },
     "metadata": {
      "needs_background": "light"
     },
     "output_type": "display_data"
    }
   ],
   "source": [
    "# Добавляем столбец с долей зарегистрированных пользователей от общего числа \n",
    "users_per_day['part_of_registrated'] = round(users_per_day['registration_flag'] / users_per_day['user_id'], 2)\n",
    "#Строим график для доли зарегистрированных пользователей\n",
    "plt.figure(figsize=(16, 6))\n",
    "plt.plot(users_per_day['session_date'], users_per_day['part_of_registrated'], label ='Доля зарегистрированных пользователей')\n",
    "plt.title('Доля зарегистрированных пользователей от общего числа')\n",
    "plt.xlabel('Дата')\n",
    "plt.xticks(rotation=45)\n",
    "plt.ylabel('Доля зарегистрированных пользователей')\n",
    "plt.grid()\n",
    "plt.legend()"
   ]
  },
  {
   "cell_type": "markdown",
   "metadata": {
    "id": "UR7D7RhF0eMr"
   },
   "source": [
    "#### 1.4. Анализ числа просмотренных страниц\n",
    "Другая важная метрика продукта — число просмотренных страниц в приложении. Чем больше страниц просмотрено, тем сильнее пользователь увлечён контентом, а значит, выше шансы на то, что он зарегистрируется и оплатит подписку.\n",
    "\n",
    "- Найдите количество сессий для каждого значения количества просмотренных страниц. Например: одну страницу просмотрели в 29160 сессиях, две страницы в 105536 сессиях и так далее.\n",
    "\n",
    "- Постройте столбчатую диаграмму, где по оси X будет число просмотренных страниц, по оси Y — количество сессий.\n",
    "\n",
    "- На диаграмме должны быть заголовок, подписанные оси X и Y."
   ]
  },
  {
   "cell_type": "code",
   "execution_count": 8,
   "metadata": {
    "id": "cb6hPlVzPaSf"
   },
   "outputs": [
    {
     "data": {
      "image/png": "[encoded data removed]",
      "text/plain": [
       "<Figure size 720x432 with 1 Axes>"
      ]
     },
     "metadata": {
      "needs_background": "light"
     },
     "output_type": "display_data"
    }
   ],
   "source": [
    "#Агрегируем данные \n",
    "sessions_for_pages = sessions_history.groupby('page_counter').agg({'session_id':'nunique'}).reset_index()\n",
    "#Строим график\n",
    "plt.figure(figsize = (10,6))\n",
    "plt.bar(sessions_for_pages['page_counter'], sessions_for_pages['session_id'])\n",
    "plt.title('Количество сессий для каждого значения количества просмотренных страниц')\n",
    "plt.xlabel('Число просмотренных страниц')\n",
    "plt.ylabel('Количество сессий')\n",
    "plt.grid()"
   ]
  },
  {
   "cell_type": "markdown",
   "metadata": {
    "id": "xDltSpVP0eMr"
   },
   "source": [
    "#### 1.5. Доля пользователей, просмотревших более четырёх страниц\n",
    "Продуктовая команда продукта считает, что сессии, в рамках которых пользователь просмотрел 4 и более страниц, говорят об удовлетворённости контентом и алгоритмами рекомендаций. Этот показатель является важной прокси-метрикой для продукта.\n",
    "\n",
    "- В датафрейме `sessions_history` создайте дополнительный столбец `good_session`. В него войдёт значение `1`, если за одну сессию было просмотрено 4 и более страниц, и значение `0`, если было просмотрено меньше.\n",
    "\n",
    "- Постройте график со средним значением доли успешных сессий ко всем сессиям по дням за весь период наблюдения."
   ]
  },
  {
   "cell_type": "code",
   "execution_count": 9,
   "metadata": {
    "id": "iygaPfixPYMW"
   },
   "outputs": [
    {
     "data": {
      "image/png": "[encoded data removed]",
      "text/plain": [
       "<Figure size 1152x432 with 1 Axes>"
      ]
     },
     "metadata": {
      "needs_background": "light"
     },
     "output_type": "display_data"
    }
   ],
   "source": [
    "#Создаем дополнительный столбец\n",
    "sessions_history['good_session'] = 0\n",
    "sessions_history.loc[sessions_history['page_counter'] >= 4, 'good_session'] = 1\n",
    "\n",
    "#Агрегируем данные для построения графика\n",
    "good_sessions_for_day = sessions_history.groupby('session_date').agg({'session_id':'nunique',\n",
    "                                                                     'good_session':'sum'}).sort_values(by='session_date').reset_index()\n",
    "#Добавляем столбец с долей успещных сессий\n",
    "good_sessions_for_day['part_of_good'] = good_sessions_for_day['good_session'] / good_sessions_for_day['session_id']\n",
    "\n",
    "#Строим график \n",
    "plt.figure(figsize = (16,6))\n",
    "plt.plot(good_sessions_for_day['session_date'], good_sessions_for_day['part_of_good'], label = 'Доля успешных сессий')\n",
    "plt.title('Доля успешных сессий от общего числа по дням')\n",
    "plt.xticks(rotation=45)\n",
    "plt.xlabel('Дата')\n",
    "plt.ylabel('Доля успешных сессий')\n",
    "plt.grid()"
   ]
  },
  {
   "cell_type": "markdown",
   "metadata": {
    "id": "21JcG77Y0eMt"
   },
   "source": [
    "### 2. Подготовка к тесту\n",
    "При планировании теста необходимо проделать несколько важных шагов:\n",
    "\n",
    "- Определиться с целевой метрикой.\n",
    "\n",
    "- Рассчитать необходимый размер выборки.\n",
    "\n",
    "- Исходя из текущих значений трафика, рассчитать необходимую длительность проведения теста."
   ]
  },
  {
   "cell_type": "markdown",
   "metadata": {
    "id": "uzaeln270eMt"
   },
   "source": [
    "#### 2.1. Расчёт размера выборки\n",
    "В рамках курса вам уже приходилось рассчитывать размеры выборки, используя онлайн-калькуляторы. В этом задании предлагаем воспользоваться готовым кодом и рассчитать необходимое для вашего дизайна эксперимента количество пользователей.\n",
    "\n",
    "Для этого установите в коде ниже следующие параметры:\n",
    "\n",
    "- Уровень значимости — 0.05.\n",
    "\n",
    "- Вероятность ошибки второго рода — 0.2.\n",
    "\n",
    "- Мощность теста.\n",
    "\n",
    "- Минимальный детектируемый эффект, или MDE, — 3%. Обратите внимание, что здесь нужно указать десятичную дробь, а не процент.\n",
    "\n",
    "При расчёте размера выборки мы будем использовать метод `solve_power()` из класса `power.NormalIndPower` модуля `statsmodels.stats`.\n",
    "\n",
    "Запустите ячейку и изучите полученное значение."
   ]
  },
  {
   "cell_type": "code",
   "execution_count": 10,
   "metadata": {
    "id": "zSxJyPGPNdaI"
   },
   "outputs": [
    {
     "name": "stdout",
     "output_type": "stream",
     "text": [
      "Необходимый размер выборки для каждой группы: 17441\n"
     ]
    }
   ],
   "source": [
    "from statsmodels.stats.power import NormalIndPower\n",
    "\n",
    "# Задаём параметры\n",
    "alpha = 0.05  # Уровень значимости\n",
    "beta = 0.2  # Ошибка второго рода, часто 1 - мощность\n",
    "power = 0.8  # Мощность теста\n",
    "mde = 0.03  # Минимальный детектируемый эффект\n",
    "\n",
    "# Инициализируем класс NormalIndPower\n",
    "power_analysis = NormalIndPower()\n",
    "\n",
    "# Рассчитываем размер выборки\n",
    "sample_size = power_analysis.solve_power(\n",
    "    effect_size = mde,\n",
    "    power = power,\n",
    "    alpha = alpha,\n",
    "    ratio = 1 # Равномерное распределение выборок\n",
    ")\n",
    "\n",
    "print(f\"Необходимый размер выборки для каждой группы: {int(sample_size)}\")"
   ]
  },
  {
   "cell_type": "markdown",
   "metadata": {
    "id": "qLEv4RoV0eMu"
   },
   "source": [
    "#### 2.1. Расчёт длительности A/B-теста\n",
    "\n",
    "Используйте данные о количестве пользователей в каждой выборке и среднем количестве пользователей приложения. Рассчитайте длительность теста, разделив одно на другое.\n",
    "\n",
    "- Рассчитайте среднее количество уникальных пользователей приложения в день.\n",
    "\n",
    "- Определите длительность теста, исходя из рассчитанного значения размера выборок и среднего дневного трафика приложения. Количество дней округлите в большую сторону."
   ]
  },
  {
   "cell_type": "code",
   "execution_count": 11,
   "metadata": {
    "id": "KZDRbryDOGHa"
   },
   "outputs": [
    {
     "name": "stdout",
     "output_type": "stream",
     "text": [
      "Рассчитанная длительность A/B-теста при текущем уровене трафика в 9907.363636363636 пользователей в день составит 4 дня\n"
     ]
    }
   ],
   "source": [
    "from math import ceil\n",
    "\n",
    "# Среднее количество пользователей приложения в день по историческим данным\n",
    "avg_daily_users = users_per_day['user_id'].mean()\n",
    "\n",
    "# Рассчитываем длительность теста в днях как отношение размера выборки к среднему числу пользователей\n",
    "test_duration = ceil(int(sample_size) * 2 / avg_daily_users)\n",
    "\n",
    "print(f\"Рассчитанная длительность A/B-теста при текущем уровене трафика в {avg_daily_users} пользователей в день составит {test_duration} дня\")"
   ]
  },
  {
   "cell_type": "markdown",
   "metadata": {
    "id": "ZuvtAdha0eMv"
   },
   "source": [
    "### 3. Мониторинг А/В-теста"
   ]
  },
  {
   "cell_type": "markdown",
   "metadata": {
    "id": "jq5sE3Ya0eMv"
   },
   "source": [
    "#### 3.1. Проверка распределения пользователей\n",
    "\n",
    "A/B-тест успешно запущен, и уже доступны данные за первые три дня. На этом этапе нужно убедиться, что всё идёт хорошо: пользователи разделены правильным образом, а интересующие вас метрики корректно считаются.\n",
    "\n",
    "- Считайте и сохраните в датафрейм `sessions_test_part` CSV-файл с историческими данными о сессиях пользователей `sessions_project_test_part.csv`.\n",
    "\n",
    "- Рассчитайте количество уникальных пользователей в каждой из экспериментальных групп для одного дня наблюдения.\n",
    "\n",
    "- Рассчитайте и выведите на экран процентную разницу в количестве пользователей в группах A и B. Постройте любую удобную визуализацию, на которой можно было бы увидеть возможное различие двух групп.\n",
    "\n",
    "Для расчёта процентной разницы воспользуйтесь формулой:\n",
    "$$P = 100 \\cdot  \\frac{|A − B|}{A}$$"
   ]
  },
  {
   "cell_type": "code",
   "execution_count": 12,
   "metadata": {
    "id": "G1bqIzDJOUiz"
   },
   "outputs": [
    {
     "data": {
      "text/plain": [
       "'Процентная разница в количестве пользователей в группах A и B 0.7447528774542993%'"
      ]
     },
     "metadata": {},
     "output_type": "display_data"
    }
   ],
   "source": [
    "#Сохраняем в датафрейм данные о тесте\n",
    "sessions_test_part = pd.read_csv('https://code.s3.yandex.net/datasets/sessions_project_test_part.csv')\n",
    "#Считаем уникальное количество пользователей для первого дня теста\n",
    "unique_users_per_day = sessions_test_part.groupby(['session_date', 'test_group']).agg({'user_id':'nunique'}).reset_index()\n",
    "#Считаем процентную разницу между двумя группами\n",
    "percent_difference = 100 * abs(unique_users_per_day['user_id'][0] - unique_users_per_day['user_id'][1]) / unique_users_per_day['user_id'][0]\n",
    "display(f'Процентная разница в количестве пользователей в группах A и B {percent_difference}%')"
   ]
  },
  {
   "cell_type": "code",
   "execution_count": 13,
   "metadata": {},
   "outputs": [
    {
     "data": {
      "image/png": "[encoded data removed]",
      "text/plain": [
       "<Figure size 720x432 with 1 Axes>"
      ]
     },
     "metadata": {
      "needs_background": "light"
     },
     "output_type": "display_data"
    }
   ],
   "source": [
    "#Построим график для визуализации разницы в количестве пользователей в группах\n",
    "plt.figure(figsize = (10,6))\n",
    "plt.bar(unique_users_per_day['test_group'], unique_users_per_day['user_id'])\n",
    "plt.title('Количество пользователей в группах A и B')\n",
    "plt.xlabel('Группа')\n",
    "plt.ylabel('Количество пользователей')\n",
    "plt.ylim(1300, max(unique_users_per_day['user_id']) + 10)\n",
    "plt.grid()"
   ]
  },
  {
   "cell_type": "markdown",
   "metadata": {
    "id": "sgpNY5bv0eM0"
   },
   "source": [
    "#### 3.2. Проверка пересечений пользователей\n",
    "Помимо проверки равенства количества пользователей в группах полезно убедиться в том, что группы независимы. Для этого нужно убедиться, что никто из пользователей случайно не попал в обе группы одновременно.\n",
    "\n",
    "- Рассчитайте количество пользователей, которые встречаются одновременно в группах A и B, или убедитесь, что таких нет."
   ]
  },
  {
   "cell_type": "code",
   "execution_count": 14,
   "metadata": {
    "id": "E72ozN9FOX1u"
   },
   "outputs": [
    {
     "data": {
      "text/plain": [
       "'Пересечений пользователей нет. Выборки независимы'"
      ]
     },
     "metadata": {},
     "output_type": "display_data"
    }
   ],
   "source": [
    "# Находим уникальных пользователей в обеих группах\n",
    "group_a = sessions_test_part[sessions_test_part['test_group'] == 'A']['user_id'].unique()\n",
    "group_b = sessions_test_part[sessions_test_part['test_group'] == 'B']['user_id'].unique()\n",
    "#Находим пересечение этих групп\n",
    "intersection = list(set(group_a) & set(group_b))\n",
    "if len(intersection) == 0:\n",
    "    display('Пересечений пользователей нет. Выборки независимы')\n",
    "else:\n",
    "    display(f'Пользователи {intersection} находятся в обеих выборках')"
   ]
  },
  {
   "cell_type": "markdown",
   "metadata": {
    "id": "6RvkNLrg0eM1"
   },
   "source": [
    "#### 3.3. Равномерность разделения пользователей по устройствам\n",
    "Полезно также убедиться в том, что пользователи равномерно распределены по всем доступным категориальным переменным — типам устройства и регионам.\n",
    "\n",
    "Постройте две диаграммы:\n",
    "\n",
    "- доля каждого типа устройства для пользователей из группы A,\n",
    "\n",
    "- доля каждого типа устройства для пользователей из группы B.\n",
    "\n",
    "Постарайтесь добавить на диаграммы все необходимые подписи, пояснения и заголовки, которые позволят сделать вывод о том, совпадает ли распределение устройств в группах A и B.\n"
   ]
  },
  {
   "cell_type": "code",
   "execution_count": 15,
   "metadata": {
    "id": "x_IP6PUNPWHC"
   },
   "outputs": [
    {
     "data": {
      "image/png": "[encoded data removed]",
      "text/plain": [
       "<Figure size 576x432 with 1 Axes>"
      ]
     },
     "metadata": {},
     "output_type": "display_data"
    },
    {
     "data": {
      "image/png": "[encoded data removed]",
      "text/plain": [
       "<Figure size 576x432 with 1 Axes>"
      ]
     },
     "metadata": {},
     "output_type": "display_data"
    }
   ],
   "source": [
    "#Агрегируем данные для построения графиков\n",
    "devices = sessions_test_part.groupby(['test_group','device']).agg({'user_id':'nunique'}).reset_index()\n",
    "#Строим график для пользователей группы A\n",
    "plt.figure(figsize=(8, 6))\n",
    "plt.pie(devices[devices['test_group'] == 'A']['user_id'], labels = devices[devices['test_group'] == 'A']['device'], autopct='%1.1f%%')\n",
    "plt.axis('equal')\n",
    "plt.title('Распределение пользователей группы A по устройствам')\n",
    "plt.legend()\n",
    "plt.show()\n",
    "\n",
    "#Строим график для пользователей группы B\n",
    "plt.figure(figsize=(8, 6))\n",
    "plt.pie(devices[devices['test_group'] == 'B']['user_id'], labels = devices[devices['test_group'] == 'B']['device'], autopct='%1.1f%%')\n",
    "plt.axis('equal')\n",
    "plt.title('Распределение пользователей группы B по устройствам')\n",
    "plt.legend()\n",
    "plt.show()"
   ]
  },
  {
   "cell_type": "code",
   "execution_count": 16,
   "metadata": {},
   "outputs": [
    {
     "data": {
      "image/png": "[encoded data removed]",
      "text/plain": [
       "<Figure size 720x432 with 1 Axes>"
      ]
     },
     "metadata": {
      "needs_background": "light"
     },
     "output_type": "display_data"
    }
   ],
   "source": [
    "labels = devices['device'].unique()\n",
    "group_A_means = devices[devices['test_group'] == 'A']['user_id'].values\n",
    "group_B_means = devices[devices['test_group'] == 'B']['user_id'].values\n",
    "\n",
    "# Параметры для построения столбцов\n",
    "x = np.arange(len(labels))  # позиции по оси X\n",
    "width = 0.35  # ширина столбцов\n",
    "\n",
    "# Построение столбчатой диаграммы\n",
    "fig, ax = plt.subplots(figsize=(10, 6))\n",
    "bars_A = ax.bar(x - width/2, group_A_means, width, label='Группа A')\n",
    "bars_B = ax.bar(x + width/2, group_B_means, width, label='Группа B')\n",
    "\n",
    "# Добавление подписей и заголовка\n",
    "ax.set_title('Количество пользователей в группах A и B')\n",
    "ax.set_xlabel('Устройства')\n",
    "ax.set_ylabel('Количество пользователей')\n",
    "ax.set_xticks(x)\n",
    "ax.set_xticklabels(labels)\n",
    "ax.legend()\n",
    "\n",
    "# Отображение значений над столбцами\n",
    "def autolabel(bars):\n",
    "    \"\"\"Добавляет метки над столбцами с их значениями.\"\"\"\n",
    "    for bar in bars:\n",
    "        height = bar.get_height()\n",
    "        ax.annotate('{}'.format(height),\n",
    "                    xy=(bar.get_x() + bar.get_width() / 2, height),\n",
    "                    xytext=(0, 3),  # 3 points vertical offset\n",
    "                    textcoords=\"offset points\",\n",
    "                    ha='center', va='bottom')\n",
    "autolabel(bars_A)\n",
    "autolabel(bars_B)\n",
    "# Показать график\n",
    "plt.grid()\n",
    "plt.tight_layout()\n",
    "plt.show()"
   ]
  },
  {
   "cell_type": "markdown",
   "metadata": {
    "id": "gAgmP6vo0eM1"
   },
   "source": [
    "#### 3.4. Равномерность распределения пользователей по регионам\n",
    "Теперь убедитесь, что пользователи равномерно распределены по регионам.\n",
    "\n",
    "Постройте две диаграммы:\n",
    "\n",
    "- доля каждого региона для пользователей из группы A,\n",
    "\n",
    "- доля каждого региона для пользователей из группы B.\n",
    "\n",
    "Постарайтесь добавить на диаграммы все необходимые подписи, пояснения и заголовки, которые позволят сделать вывод о том, совпадает ли распределение регионов в группах A и B. Постарайтесь использовать другой тип диаграммы, не тот, что в прошлом задании.\n"
   ]
  },
  {
   "cell_type": "code",
   "execution_count": 17,
   "metadata": {
    "id": "3hAq-FG4OdYM"
   },
   "outputs": [
    {
     "data": {
      "image/png": "[encoded data removed]",
      "text/plain": [
       "<Figure size 576x432 with 1 Axes>"
      ]
     },
     "metadata": {},
     "output_type": "display_data"
    },
    {
     "data": {
      "image/png": "[encoded data removed]",
      "text/plain": [
       "<Figure size 576x432 with 1 Axes>"
      ]
     },
     "metadata": {},
     "output_type": "display_data"
    }
   ],
   "source": [
    "#Агрегируем данные для построения графиков\n",
    "region = sessions_test_part.groupby(['test_group','region']).agg({'user_id':'nunique'}).reset_index()\n",
    "#Строим график для пользователей группы A\n",
    "plt.figure(figsize=(8, 6))\n",
    "plt.pie(region[region['test_group'] == 'A']['user_id'], labels = region[region['test_group'] == 'A']['region'], autopct='%1.1f%%')\n",
    "plt.axis('equal')\n",
    "plt.title('Распределение пользователей группы A по регионам')\n",
    "plt.legend()\n",
    "plt.show()\n",
    "\n",
    "#Строим график для пользователей группы B\n",
    "plt.figure(figsize=(8, 6))\n",
    "plt.pie(region[region['test_group'] == 'B']['user_id'], labels = region[region['test_group'] == 'B']['region'], autopct='%1.1f%%')\n",
    "plt.axis('equal')\n",
    "plt.title('Распределение пользователей группы B по регионам')\n",
    "plt.legend()\n",
    "plt.show()"
   ]
  },
  {
   "cell_type": "code",
   "execution_count": 18,
   "metadata": {},
   "outputs": [
    {
     "data": {
      "image/png": "[encoded data removed]",
      "text/plain": [
       "<Figure size 720x432 with 1 Axes>"
      ]
     },
     "metadata": {
      "needs_background": "light"
     },
     "output_type": "display_data"
    }
   ],
   "source": [
    "labels = region['region'].unique()\n",
    "group_A_means = region[region['test_group'] == 'A']['user_id'].values\n",
    "group_B_means = region[region['test_group'] == 'B']['user_id'].values\n",
    "\n",
    "# Параметры для построения столбцов\n",
    "x = np.arange(len(labels))  # позиции по оси X\n",
    "width = 0.35  # ширина столбцов\n",
    "\n",
    "# Построение столбчатой диаграммы\n",
    "fig, ax = plt.subplots(figsize=(10, 6))\n",
    "bars_A = ax.bar(x - width/2, group_A_means, width, label='Группа A')\n",
    "bars_B = ax.bar(x + width/2, group_B_means, width, label='Группа B')\n",
    "\n",
    "# Добавление подписей и заголовка\n",
    "ax.set_title('Количество пользователей в группах A и B')\n",
    "ax.set_xlabel('Регион')\n",
    "ax.set_ylabel('Количество пользователей')\n",
    "ax.set_xticks(x)\n",
    "ax.set_xticklabels(labels)\n",
    "ax.legend(bbox_to_anchor = (1.20, 1))\n",
    "\n",
    "# Отображение значений над столбцами\n",
    "def autolabel(bars):\n",
    "    \"\"\"Добавляет метки над столбцами с их значениями.\"\"\"\n",
    "    for bar in bars:\n",
    "        height = bar.get_height()\n",
    "        ax.annotate('{}'.format(height),\n",
    "                    xy=(bar.get_x() + bar.get_width() / 2, height),\n",
    "                    xytext=(0, 3),  # 3 points vertical offset\n",
    "                    textcoords=\"offset points\",\n",
    "                    ha='center', va='bottom')\n",
    "autolabel(bars_A)\n",
    "autolabel(bars_B)\n",
    "# Показать график\n",
    "plt.grid()\n",
    "plt.tight_layout()\n",
    "plt.show()"
   ]
  },
  {
   "cell_type": "markdown",
   "metadata": {
    "id": "X2WSZ-sDrSUi"
   },
   "source": [
    "#### 3.5. Вывод после проверки A/B-теста\n",
    "\n",
    "На основе проведённого анализа A/B-теста сформулируйте и запишите свои выводы. В выводе обязательно укажите:\n",
    "\n",
    "- Были ли обнаружено различие в количестве пользователей в двух группах.\n",
    "\n",
    "- Являются ли выборки независимыми. Было ли обнаружено пересечение пользователей из тестовой и контрольной групп.\n",
    "\n",
    "- Сохраняется ли равномерное распределение пользователей тестовой и контрольной групп по категориальным переменным: устройствам и регионам.\n",
    "\n",
    "Сделайте заключение о том, корректно ли проходит A/B-тест или наблюдаются какие-либо нарушения."
   ]
  },
  {
   "cell_type": "markdown",
   "metadata": {},
   "source": [
    "На основе анализа A/B-теста не было обнаружено статистически значимых различий в количестве пользователей в двух группах и не быо выявлено нарушений критерия независимости двух выборок - среди пользователей тестовой и контрольной групп нет пересечений. Также среди пользователей тестовой и контрольной групп сохраняетяс равномерное распределение по категориальным переменным: устройствам и регионам.\n",
    "\n",
    "Таким образом, полученные данные не содержат критически значимых ошибок и могут использоваться для анализа эффективности внедрения новой системы рекомендаций в приложении. "
   ]
  },
  {
   "cell_type": "markdown",
   "metadata": {
    "id": "nudRr_BQ0eM2"
   },
   "source": [
    "### 4. Проверка результатов A/B-теста\n",
    "\n",
    "A/B-тест завершён, и у вас есть результаты за все дни проведения эксперимента. Необходимо убедиться в корректности теста и верно интерпретировать результаты."
   ]
  },
  {
   "cell_type": "markdown",
   "metadata": {
    "id": "JVve-YBB0eM2"
   },
   "source": [
    "#### 4.1. Получение результатов теста и подсчёт основной метрики\n",
    "\n",
    "- Считайте и сохраните в датафрейм `sessions_test` CSV-файл с историческими данными о сессиях пользователей `sessions_project_test.csv`.\n",
    "\n",
    "- В датафрейме `sessions_test` создайте дополнительный столбец `good_session`. В него войдёт значение `1`, если за одну сессию было просмотрено 4 и более страниц, и значение `0`, если просмотрено меньше."
   ]
  },
  {
   "cell_type": "code",
   "execution_count": 19,
   "metadata": {
    "id": "EqRlwMtKPTir"
   },
   "outputs": [],
   "source": [
    "#Загружаем новый датафрейм с данными о тесте\n",
    "sessions_test = pd.read_csv('https://code.s3.yandex.net/datasets/sessions_project_test.csv')"
   ]
  },
  {
   "cell_type": "code",
   "execution_count": 20,
   "metadata": {},
   "outputs": [
    {
     "data": {
      "text/html": [
       "<div>\n",
       "<style scoped>\n",
       "    .dataframe tbody tr th:only-of-type {\n",
       "        vertical-align: middle;\n",
       "    }\n",
       "\n",
       "    .dataframe tbody tr th {\n",
       "        vertical-align: top;\n",
       "    }\n",
       "\n",
       "    .dataframe thead th {\n",
       "        text-align: right;\n",
       "    }\n",
       "</style>\n",
       "<table border=\"1\" class=\"dataframe\">\n",
       "  <thead>\n",
       "    <tr style=\"text-align: right;\">\n",
       "      <th></th>\n",
       "      <th>user_id</th>\n",
       "    </tr>\n",
       "    <tr>\n",
       "      <th>test_group</th>\n",
       "      <th></th>\n",
       "    </tr>\n",
       "  </thead>\n",
       "  <tbody>\n",
       "    <tr>\n",
       "      <th>A</th>\n",
       "      <td>15163</td>\n",
       "    </tr>\n",
       "    <tr>\n",
       "      <th>B</th>\n",
       "      <td>15416</td>\n",
       "    </tr>\n",
       "  </tbody>\n",
       "</table>\n",
       "</div>"
      ],
      "text/plain": [
       "            user_id\n",
       "test_group         \n",
       "A             15163\n",
       "B             15416"
      ]
     },
     "metadata": {},
     "output_type": "display_data"
    },
    {
     "data": {
      "text/plain": [
       "'Количество пользователей в каждой группе меньше необходимого минимума для проведения A/B-тестирования'"
      ]
     },
     "metadata": {},
     "output_type": "display_data"
    }
   ],
   "source": [
    "#Рассчитаем количество униклаьных пользователей, вошедших в каждую группу\n",
    "users_for_group = sessions_test.groupby('test_group').agg({'user_id':'nunique'})\n",
    "display(users_for_group)\n",
    "display('Количество пользователей в каждой группе меньше необходимого минимума для проведения A/B-тестирования')"
   ]
  },
  {
   "cell_type": "code",
   "execution_count": 21,
   "metadata": {},
   "outputs": [],
   "source": [
    "#Создаем в датафрейме новый столбец с показателем успешности сессии\n",
    "sessions_test['good_session'] = 0\n",
    "sessions_test.loc[sessions_test['page_counter'] >= 4, 'good_session'] = 1"
   ]
  },
  {
   "cell_type": "markdown",
   "metadata": {
    "id": "aeYhrMYy0eM2"
   },
   "source": [
    "#### 4.2. Проверка корректности результатов теста\n",
    "\n",
    "Прежде чем приступать к анализу ключевых продуктовых метрик, необходимо убедиться, что тест проведён корректно и вы будете сравнивать две сопоставимые группы.\n",
    "\n",
    "- Рассчитайте количество уникальных сессий для каждого дня и обеих тестовых групп, используя группировку.\n",
    "\n",
    "- Проверьте, что количество уникальных дневных сессий в двух выборках не различается или различия не статистически значимы. Используйте статистический тест, который позволит сделать вывод о равенстве средних двух выборок.\n",
    "\n",
    "- В качестве ответа выведите на экран полученное значение p-value и интерпретируйте его."
   ]
  },
  {
   "cell_type": "code",
   "execution_count": 22,
   "metadata": {
    "id": "5NUlcltkTTSU"
   },
   "outputs": [
    {
     "name": "stdout",
     "output_type": "stream",
     "text": [
      "p-value теста Уэлча=0.94\n",
      "Нулевая гипотеза находит подтверждение! Выборочные средние в группах A и B равны\n",
      "Интерпретация: данные подходят для проведения дальнейшего анализа\n"
     ]
    }
   ],
   "source": [
    "#Считаем количество уникальных сессиий для каждого дня теста и обеих тестовых групп\n",
    "unique_sessions_count = sessions_test.groupby(['session_date','test_group']).agg({'session_id':'nunique'}).reset_index()\n",
    "#Проверим равенство средних двух выборок\n",
    "metric_a = unique_sessions_count[unique_sessions_count['test_group'] == 'A']['session_id']\n",
    "metric_b = unique_sessions_count[unique_sessions_count['test_group'] == 'B']['session_id']\n",
    "\n",
    "alpha = 0.05\n",
    "\n",
    "stat_welch_ttest, p_value_welch_ttest = ttest_ind(\n",
    "    metric_a, \n",
    "    metric_b, \n",
    "    equal_var=False,\n",
    "    alternative='two-sided' ## поскольку альтернативная гипотеза о том, что выборочное среднее первой выборки (metric_a) меньше второй выборки\n",
    ") ## применяем t-тест Уэлча\n",
    "if p_value_welch_ttest>alpha:\n",
    "    print(f'p-value теста Уэлча={round(p_value_welch_ttest, 2)}')\n",
    "    print('Нулевая гипотеза находит подтверждение! Выборочные средние в группах A и B равны')\n",
    "    print('Интерпретация: данные подходят для проведения дальнейшего анализа')\n",
    "else:\n",
    "    print(f'p-value теста Уэлча={round(p_value_welch_ttest, 2)}')\n",
    "    print('Нулевая гипотеза не находит подтверждения! Выборочные средние в группах A и B не равны')\n",
    "    print('Интерпретация: данные не подходят для проведения дальнейшего анализа')     "
   ]
  },
  {
   "cell_type": "markdown",
   "metadata": {
    "id": "7kwRxzg70eM3"
   },
   "source": [
    "#### 4.3. Сравнение доли успешных сессий\n",
    "\n",
    "Когда вы убедились, что количество сессий в обеих выборках не различалось, можно переходить к анализу ключевой метрики — доли успешных сессий.\n",
    "\n",
    "Используйте созданный на первом шаге задания столбец `good_session` и рассчитайте долю успешных сессий для выборок A и B, а также разницу в этом показателе. Полученный вывод отобразите на экране."
   ]
  },
  {
   "cell_type": "code",
   "execution_count": 23,
   "metadata": {
    "id": "Uku-V1CpPRCz"
   },
   "outputs": [
    {
     "data": {
      "text/plain": [
       "'Информация о сессиях в двух группах теста'"
      ]
     },
     "metadata": {},
     "output_type": "display_data"
    },
    {
     "data": {
      "text/html": [
       "<div>\n",
       "<style scoped>\n",
       "    .dataframe tbody tr th:only-of-type {\n",
       "        vertical-align: middle;\n",
       "    }\n",
       "\n",
       "    .dataframe tbody tr th {\n",
       "        vertical-align: top;\n",
       "    }\n",
       "\n",
       "    .dataframe thead th {\n",
       "        text-align: right;\n",
       "    }\n",
       "</style>\n",
       "<table border=\"1\" class=\"dataframe\">\n",
       "  <thead>\n",
       "    <tr style=\"text-align: right;\">\n",
       "      <th></th>\n",
       "      <th>test_group</th>\n",
       "      <th>sessions_count</th>\n",
       "      <th>good_session</th>\n",
       "      <th>part_of_good</th>\n",
       "    </tr>\n",
       "  </thead>\n",
       "  <tbody>\n",
       "    <tr>\n",
       "      <th>0</th>\n",
       "      <td>A</td>\n",
       "      <td>49551</td>\n",
       "      <td>15248</td>\n",
       "      <td>0.307723</td>\n",
       "    </tr>\n",
       "    <tr>\n",
       "      <th>1</th>\n",
       "      <td>B</td>\n",
       "      <td>50454</td>\n",
       "      <td>16059</td>\n",
       "      <td>0.318290</td>\n",
       "    </tr>\n",
       "  </tbody>\n",
       "</table>\n",
       "</div>"
      ],
      "text/plain": [
       "  test_group  sessions_count  good_session  part_of_good\n",
       "0          A           49551         15248      0.307723\n",
       "1          B           50454         16059      0.318290"
      ]
     },
     "metadata": {},
     "output_type": "display_data"
    },
    {
     "data": {
      "text/plain": [
       "'Разница между количеством успешных сессий для выборок A и B составляет 1.06%'"
      ]
     },
     "metadata": {},
     "output_type": "display_data"
    }
   ],
   "source": [
    "#Агрегируем данные\n",
    "session_inf = sessions_test.groupby('test_group').agg({'session_id':'nunique',\n",
    "                                        'good_session':'sum'}).reset_index()\n",
    "session_inf['part_of_good'] = session_inf['good_session'] / session_inf['session_id']\n",
    "session_inf = session_inf.rename(columns={'session_id':'sessions_count'})\n",
    "#Выводим полученную таблицу с информацией о сессиях двух групп\n",
    "display('Информация о сессиях в двух группах теста')\n",
    "display(session_inf)\n",
    "difference = round(abs(session_inf['part_of_good'][1] - session_inf['part_of_good'][0]) *100, 2)\n",
    "display(f'Разница между количеством успешных сессий для выборок A и B составляет {difference}%')"
   ]
  },
  {
   "cell_type": "markdown",
   "metadata": {
    "id": "9fMFuja10eM4"
   },
   "source": [
    "#### 4.4. Насколько статистически значимо изменение ключевой метрики\n",
    "\n",
    "На предыдущем шаге вы убедились, что количество успешных сессий в тестовой выборке примерно на 1.1% выше, чем в контрольной, но делать выводы только на основе этого значения будет некорректно. Для принятия решения всегда необходимо отвечать на вопрос: является ли это изменение статистически значимым.\n",
    "\n",
    "- Используя статистический тест, рассчитайте, является ли изменение в метрике доли успешных сессий статистически значимым.\n",
    "\n",
    "- Выведите на экран полученное значение p-value и свои выводы о статистической значимости. Напомним, что уровень значимости в эксперименте был выбран на уровне 0.05."
   ]
  },
  {
   "cell_type": "code",
   "execution_count": 24,
   "metadata": {
    "id": "gFvhRGwlPLS0"
   },
   "outputs": [
    {
     "name": "stdout",
     "output_type": "stream",
     "text": [
      "Предпосылка о достаточном количестве данных выполняется!\n",
      "Нулевая гипотеза: доля успешных сессий в группе В не выше, чем в группе А\n",
      "Альтернативная гипотеза: доля успешных сессий в группе В выше, чем в группе А\n",
      "pvalue=0.0001574739988036123\n",
      "Нулевая гипотеза не находит подтверждения! Внедрение нового алгоритма рекомендаций увеличило долю успешных сессий\n"
     ]
    }
   ],
   "source": [
    "# Для определения статистической значимости изменения долей успешных сессий используем z-тест\n",
    "# Для начала проверим выполнение предпосылки о достаточном количестве данных \n",
    "# Количество сессий\n",
    "n_a = session_inf['sessions_count'][0]\n",
    "n_b = session_inf['sessions_count'][1]\n",
    "# Количество успешных сессий\n",
    "m_a = session_inf['good_session'][0]\n",
    "m_b = session_inf['good_session'][1]\n",
    "# Доля успехов для каждой группы\n",
    "p_a, p_b = m_a/n_a, m_b/n_b\n",
    "\n",
    "if (p_a*n_a > 10)and((1-p_a)*n_a > 10)and(p_b*n_b > 10)and((1-p_b)*n_b > 10): # проверьте предпосылку о достаточном количестве данных\n",
    "    print('Предпосылка о достаточном количестве данных выполняется!')\n",
    "else:\n",
    "    print('Предпосылка о достаточном количестве данных не выполняется!')\n",
    "    \n",
    "# Устанавливаем уровень значимости     \n",
    "alpha = 0.05\n",
    "#Проводим тест\n",
    "print('Нулевая гипотеза: доля успешных сессий в группе В не выше, чем в группе А')\n",
    "print('Альтернативная гипотеза: доля успешных сессий в группе В выше, чем в группе А')\n",
    "stat_ztest, p_value_ztest = proportions_ztest(\n",
    "    [m_a, m_b],\n",
    "    [n_a, n_b],\n",
    "    alternative= 'smaller'\n",
    ")\n",
    "print(f'pvalue={p_value_ztest}')\n",
    "\n",
    "if p_value_ztest > alpha:\n",
    "    print('Нулевая гипотеза находит подтверждение! Внедрение нового алгоритма рекомендаций не повлияло на долю успешных сессий')\n",
    "else:\n",
    "    print('Нулевая гипотеза не находит подтверждения! Внедрение нового алгоритма рекомендаций увеличило долю успешных сессий')\n",
    "    "
   ]
  },
  {
   "cell_type": "markdown",
   "metadata": {
    "id": "GnJrkY9Q63zS"
   },
   "source": [
    "#### 4.5. Вывод по результатам A/B-эксперимента"
   ]
  },
  {
   "cell_type": "markdown",
   "metadata": {},
   "source": [
    "Вывод и рекомендации: \n",
    "\n",
    "Было проведено A/B-тестирование, проверяющее эффективность нового алгоритма рекомендаций в приложении. В группу A вошли пользователи, не использующие нововведение, а в группу B - использующие его. Уровень значимости эксперимента = 0.05. Длительность теста составила 20 дней (2025-10-14 - 2025-11-02). Минимальное количество пользователей на каждую группу, необходимое для проведения теста, составляло 17441. \n",
    "\n",
    "Количество пользователей в группах A и B составило 15163 и 15416 человек соответственно. Это меньше необходимого минимума. Среди участников эксперимента не обнаружено пересечений, в распределении пользователей групп по регионам и устройствам использования есть допустимые погрешности, не влияющие на результаты тестирования. \n",
    "\n",
    "Разница в количестве успешных сессий двух групп составила примерно 1.06% в пользу группы B. Полученное p-value эксперимента равно 0.0001574739988036123, что подтверждает гипотезу о росте успешных сессий после внедрения нового алгоритма рекомендаций в приложении. \n",
    "\n",
    "Таким образом, по результатам A/B-тестирования, мы рекомендуем внедрить новый алгоритм в приложение, так как он потенциально полезен для удержания пользователей. Предполагаем, что он работает эффективнее, чем старый, показывая более интересные для пользователя ролики, и тем самым привлекает его смотреть больше контента. \n"
   ]
  }
 ],
 "metadata": {
  "ExecuteTimeLog": [
   {
    "duration": 437,
    "start_time": "2025-04-13T11:06:48.935Z"
   },
   {
    "duration": 1932,
    "start_time": "2025-04-13T11:08:41.941Z"
   },
   {
    "duration": 2110,
    "start_time": "2025-04-13T11:08:59.818Z"
   },
   {
    "duration": 18,
    "start_time": "2025-04-13T11:09:29.225Z"
   },
   {
    "duration": 515,
    "start_time": "2025-04-13T11:11:52.357Z"
   },
   {
    "duration": 536,
    "start_time": "2025-04-13T11:11:59.031Z"
   },
   {
    "duration": 533,
    "start_time": "2025-04-13T11:12:10.760Z"
   },
   {
    "duration": 508,
    "start_time": "2025-04-13T11:12:21.038Z"
   },
   {
    "duration": 62,
    "start_time": "2025-04-13T11:15:08.843Z"
   },
   {
    "duration": 510,
    "start_time": "2025-04-13T11:15:13.758Z"
   },
   {
    "duration": 477,
    "start_time": "2025-04-13T11:15:22.506Z"
   },
   {
    "duration": 488,
    "start_time": "2025-04-13T11:15:46.023Z"
   },
   {
    "duration": 512,
    "start_time": "2025-04-13T11:16:45.263Z"
   },
   {
    "duration": 10,
    "start_time": "2025-04-13T11:16:50.450Z"
   },
   {
    "duration": 1230,
    "start_time": "2025-04-13T11:17:25.194Z"
   },
   {
    "duration": 35,
    "start_time": "2025-04-13T11:17:35.085Z"
   },
   {
    "duration": 74,
    "start_time": "2025-04-13T17:24:37.418Z"
   },
   {
    "duration": 46,
    "start_time": "2025-04-13T17:24:54.768Z"
   },
   {
    "duration": 417,
    "start_time": "2025-04-13T17:25:07.385Z"
   },
   {
    "duration": 2566,
    "start_time": "2025-04-13T17:25:07.805Z"
   },
   {
    "duration": 20,
    "start_time": "2025-04-13T17:25:10.372Z"
   },
   {
    "duration": 709,
    "start_time": "2025-04-13T17:25:10.394Z"
   },
   {
    "duration": 46,
    "start_time": "2025-04-13T17:25:11.105Z"
   },
   {
    "duration": 663,
    "start_time": "2025-04-13T17:25:11.153Z"
   },
   {
    "duration": 630,
    "start_time": "2025-04-13T17:25:11.818Z"
   },
   {
    "duration": 0,
    "start_time": "2025-04-13T17:25:12.450Z"
   },
   {
    "duration": 199,
    "start_time": "2025-04-13T17:26:20.208Z"
   },
   {
    "duration": 192,
    "start_time": "2025-04-13T17:26:42.895Z"
   },
   {
    "duration": 173,
    "start_time": "2025-04-13T17:26:54.008Z"
   },
   {
    "duration": 182,
    "start_time": "2025-04-13T17:31:36.159Z"
   },
   {
    "duration": 511,
    "start_time": "2025-04-13T17:32:00.637Z"
   },
   {
    "duration": 680,
    "start_time": "2025-04-13T17:32:08.282Z"
   },
   {
    "duration": 2179,
    "start_time": "2025-04-13T17:32:08.964Z"
   },
   {
    "duration": 16,
    "start_time": "2025-04-13T17:32:11.145Z"
   },
   {
    "duration": 701,
    "start_time": "2025-04-13T17:32:11.163Z"
   },
   {
    "duration": 45,
    "start_time": "2025-04-13T17:32:11.865Z"
   },
   {
    "duration": 361,
    "start_time": "2025-04-13T17:32:11.913Z"
   },
   {
    "duration": 639,
    "start_time": "2025-04-13T17:32:12.277Z"
   },
   {
    "duration": 0,
    "start_time": "2025-04-13T17:32:12.918Z"
   },
   {
    "duration": 311,
    "start_time": "2025-04-13T17:33:20.416Z"
   },
   {
    "duration": 658,
    "start_time": "2025-04-13T17:36:26.411Z"
   },
   {
    "duration": 672,
    "start_time": "2025-04-13T17:36:53.947Z"
   },
   {
    "duration": 354,
    "start_time": "2025-04-13T17:37:43.342Z"
   },
   {
    "duration": 701,
    "start_time": "2025-04-13T17:38:41.683Z"
   },
   {
    "duration": 699,
    "start_time": "2025-04-13T17:38:51.520Z"
   },
   {
    "duration": 718,
    "start_time": "2025-04-13T17:39:07.412Z"
   },
   {
    "duration": 729,
    "start_time": "2025-04-13T17:40:28.510Z"
   },
   {
    "duration": 750,
    "start_time": "2025-04-13T17:40:36.364Z"
   },
   {
    "duration": 827,
    "start_time": "2025-04-13T17:41:22.990Z"
   },
   {
    "duration": 704,
    "start_time": "2025-04-13T17:41:28.847Z"
   },
   {
    "duration": 750,
    "start_time": "2025-04-13T17:41:32.070Z"
   },
   {
    "duration": 764,
    "start_time": "2025-04-13T17:42:42.550Z"
   },
   {
    "duration": 752,
    "start_time": "2025-04-13T17:42:52.169Z"
   },
   {
    "duration": 789,
    "start_time": "2025-04-13T17:42:57.520Z"
   },
   {
    "duration": 793,
    "start_time": "2025-04-13T17:43:07.024Z"
   },
   {
    "duration": 775,
    "start_time": "2025-04-13T17:43:39.056Z"
   },
   {
    "duration": 856,
    "start_time": "2025-04-13T17:44:15.212Z"
   },
   {
    "duration": 800,
    "start_time": "2025-04-13T17:44:25.157Z"
   },
   {
    "duration": 909,
    "start_time": "2025-04-13T17:44:32.148Z"
   },
   {
    "duration": 5,
    "start_time": "2025-04-13T17:46:19.641Z"
   },
   {
    "duration": 18,
    "start_time": "2025-04-13T17:46:27.967Z"
   },
   {
    "duration": 13,
    "start_time": "2025-04-13T17:46:47.052Z"
   },
   {
    "duration": 15,
    "start_time": "2025-04-13T17:46:57.485Z"
   },
   {
    "duration": 603,
    "start_time": "2025-04-13T17:49:09.950Z"
   },
   {
    "duration": 562,
    "start_time": "2025-04-13T17:49:19.562Z"
   },
   {
    "duration": 589,
    "start_time": "2025-04-13T17:49:54.176Z"
   },
   {
    "duration": 289,
    "start_time": "2025-04-13T17:52:13.356Z"
   },
   {
    "duration": 283,
    "start_time": "2025-04-13T17:52:24.178Z"
   },
   {
    "duration": 288,
    "start_time": "2025-04-13T17:52:53.422Z"
   },
   {
    "duration": 79,
    "start_time": "2025-04-13T17:54:20.181Z"
   },
   {
    "duration": 287,
    "start_time": "2025-04-13T17:55:03.359Z"
   },
   {
    "duration": 291,
    "start_time": "2025-04-13T17:55:20.117Z"
   },
   {
    "duration": 418,
    "start_time": "2025-04-13T17:55:45.731Z"
   },
   {
    "duration": 461,
    "start_time": "2025-04-13T17:57:05.656Z"
   },
   {
    "duration": 456,
    "start_time": "2025-04-13T17:57:25.048Z"
   },
   {
    "duration": 16,
    "start_time": "2025-04-13T18:17:14.369Z"
   },
   {
    "duration": 25,
    "start_time": "2025-04-13T18:17:20.225Z"
   },
   {
    "duration": 11,
    "start_time": "2025-04-13T18:17:53.214Z"
   },
   {
    "duration": 63,
    "start_time": "2025-04-13T18:20:46.188Z"
   },
   {
    "duration": 83,
    "start_time": "2025-04-13T18:20:51.162Z"
   },
   {
    "duration": 280,
    "start_time": "2025-04-13T18:20:58.091Z"
   },
   {
    "duration": 293,
    "start_time": "2025-04-13T18:21:08.267Z"
   },
   {
    "duration": 285,
    "start_time": "2025-04-13T18:23:02.146Z"
   },
   {
    "duration": 299,
    "start_time": "2025-04-13T18:23:08.876Z"
   },
   {
    "duration": 444,
    "start_time": "2025-04-13T18:24:36.384Z"
   },
   {
    "duration": 773,
    "start_time": "2025-04-13T18:24:51.570Z"
   },
   {
    "duration": 776,
    "start_time": "2025-04-13T18:25:19.042Z"
   },
   {
    "duration": 927,
    "start_time": "2025-04-13T18:25:53.194Z"
   },
   {
    "duration": 796,
    "start_time": "2025-04-13T18:26:09.257Z"
   },
   {
    "duration": 770,
    "start_time": "2025-04-13T18:26:16.707Z"
   },
   {
    "duration": 767,
    "start_time": "2025-04-13T18:26:21.992Z"
   },
   {
    "duration": 765,
    "start_time": "2025-04-13T18:26:39.590Z"
   },
   {
    "duration": 756,
    "start_time": "2025-04-13T18:26:46.074Z"
   },
   {
    "duration": 784,
    "start_time": "2025-04-13T18:26:51.571Z"
   },
   {
    "duration": 781,
    "start_time": "2025-04-13T18:26:59.079Z"
   },
   {
    "duration": 830,
    "start_time": "2025-04-13T18:27:12.155Z"
   },
   {
    "duration": 448,
    "start_time": "2025-04-13T18:27:20.728Z"
   },
   {
    "duration": 18,
    "start_time": "2025-04-13T18:29:04.717Z"
   },
   {
    "duration": 70,
    "start_time": "2025-04-13T18:32:21.823Z"
   },
   {
    "duration": 11,
    "start_time": "2025-04-13T18:34:11.728Z"
   },
   {
    "duration": 5,
    "start_time": "2025-04-13T18:36:25.778Z"
   },
   {
    "duration": 5,
    "start_time": "2025-04-13T18:37:00.818Z"
   },
   {
    "duration": 4,
    "start_time": "2025-04-13T18:37:05.845Z"
   },
   {
    "duration": 122,
    "start_time": "2025-04-13T18:37:15.743Z"
   },
   {
    "duration": 4,
    "start_time": "2025-04-13T18:37:19.019Z"
   },
   {
    "duration": 4,
    "start_time": "2025-04-13T18:37:24.229Z"
   },
   {
    "duration": 4,
    "start_time": "2025-04-13T18:37:35.590Z"
   },
   {
    "duration": 4,
    "start_time": "2025-04-13T18:37:46.016Z"
   },
   {
    "duration": 41,
    "start_time": "2025-04-13T18:40:28.524Z"
   },
   {
    "duration": 51,
    "start_time": "2025-04-13T18:40:37.938Z"
   },
   {
    "duration": 47,
    "start_time": "2025-04-13T18:40:42.302Z"
   },
   {
    "duration": 60,
    "start_time": "2025-04-13T18:42:55.003Z"
   },
   {
    "duration": 48,
    "start_time": "2025-04-13T18:43:01.127Z"
   },
   {
    "duration": 50,
    "start_time": "2025-04-13T18:43:03.618Z"
   },
   {
    "duration": 48,
    "start_time": "2025-04-13T18:43:38.005Z"
   },
   {
    "duration": 78,
    "start_time": "2025-04-13T18:43:42.255Z"
   },
   {
    "duration": 46,
    "start_time": "2025-04-13T18:44:42.737Z"
   },
   {
    "duration": 63,
    "start_time": "2025-04-13T18:45:04.246Z"
   },
   {
    "duration": 64,
    "start_time": "2025-04-13T18:46:21.546Z"
   },
   {
    "duration": 1408,
    "start_time": "2025-04-13T18:46:29.654Z"
   },
   {
    "duration": 67,
    "start_time": "2025-04-13T18:46:37.594Z"
   },
   {
    "duration": 64,
    "start_time": "2025-04-13T18:46:43.301Z"
   },
   {
    "duration": 69,
    "start_time": "2025-04-13T18:46:50.686Z"
   },
   {
    "duration": 52,
    "start_time": "2025-04-13T18:47:05.115Z"
   },
   {
    "duration": 53,
    "start_time": "2025-04-13T18:47:12.691Z"
   },
   {
    "duration": 70,
    "start_time": "2025-04-13T18:47:43.632Z"
   },
   {
    "duration": 77,
    "start_time": "2025-04-13T18:48:52.583Z"
   },
   {
    "duration": 51,
    "start_time": "2025-04-13T18:49:00.681Z"
   },
   {
    "duration": 70,
    "start_time": "2025-04-13T18:50:26.041Z"
   },
   {
    "duration": 62,
    "start_time": "2025-04-13T18:50:32.329Z"
   },
   {
    "duration": 49,
    "start_time": "2025-04-13T18:50:52.252Z"
   },
   {
    "duration": 55,
    "start_time": "2025-04-13T18:51:03.916Z"
   },
   {
    "duration": 154,
    "start_time": "2025-04-13T18:54:23.637Z"
   },
   {
    "duration": 136,
    "start_time": "2025-04-13T18:55:16.902Z"
   },
   {
    "duration": 138,
    "start_time": "2025-04-13T18:55:28.047Z"
   },
   {
    "duration": 134,
    "start_time": "2025-04-13T18:55:59.139Z"
   },
   {
    "duration": 130,
    "start_time": "2025-04-13T18:56:05.749Z"
   },
   {
    "duration": 294,
    "start_time": "2025-04-13T18:56:12.112Z"
   },
   {
    "duration": 144,
    "start_time": "2025-04-13T18:56:19.692Z"
   },
   {
    "duration": 129,
    "start_time": "2025-04-13T18:56:28.887Z"
   },
   {
    "duration": 132,
    "start_time": "2025-04-13T18:57:07.916Z"
   },
   {
    "duration": 9,
    "start_time": "2025-04-13T19:01:31.604Z"
   },
   {
    "duration": 10,
    "start_time": "2025-04-13T19:01:34.846Z"
   },
   {
    "duration": 4,
    "start_time": "2025-04-13T19:01:38.652Z"
   },
   {
    "duration": 5,
    "start_time": "2025-04-13T19:01:43.720Z"
   },
   {
    "duration": 11,
    "start_time": "2025-04-13T19:02:18.783Z"
   },
   {
    "duration": 12,
    "start_time": "2025-04-13T19:02:23.926Z"
   },
   {
    "duration": 6,
    "start_time": "2025-04-13T19:02:27.721Z"
   },
   {
    "duration": 8,
    "start_time": "2025-04-13T19:02:35.571Z"
   },
   {
    "duration": 8,
    "start_time": "2025-04-13T19:02:51.800Z"
   },
   {
    "duration": 19,
    "start_time": "2025-04-13T19:03:07.096Z"
   },
   {
    "duration": 15,
    "start_time": "2025-04-13T19:04:05.526Z"
   },
   {
    "duration": 8,
    "start_time": "2025-04-13T19:07:12.272Z"
   },
   {
    "duration": 9,
    "start_time": "2025-04-13T19:07:17.760Z"
   },
   {
    "duration": 151,
    "start_time": "2025-04-13T19:09:51.205Z"
   },
   {
    "duration": 10,
    "start_time": "2025-04-13T19:09:55.201Z"
   },
   {
    "duration": 10,
    "start_time": "2025-04-13T19:10:01.255Z"
   },
   {
    "duration": 13,
    "start_time": "2025-04-13T19:10:47.591Z"
   },
   {
    "duration": 18,
    "start_time": "2025-04-13T19:14:28.919Z"
   },
   {
    "duration": 18,
    "start_time": "2025-04-13T19:15:36.715Z"
   },
   {
    "duration": 15,
    "start_time": "2025-04-13T19:15:51.106Z"
   },
   {
    "duration": 13,
    "start_time": "2025-04-13T19:16:21.351Z"
   },
   {
    "duration": 10,
    "start_time": "2025-04-13T19:16:24.541Z"
   },
   {
    "duration": 19,
    "start_time": "2025-04-13T19:16:47.668Z"
   },
   {
    "duration": 9,
    "start_time": "2025-04-13T19:16:53.480Z"
   },
   {
    "duration": 12,
    "start_time": "2025-04-13T19:17:05.796Z"
   },
   {
    "duration": 122,
    "start_time": "2025-04-13T19:18:46.680Z"
   },
   {
    "duration": 1232,
    "start_time": "2025-04-13T19:18:55.757Z"
   },
   {
    "duration": 76,
    "start_time": "2025-04-13T19:21:08.510Z"
   },
   {
    "duration": 135,
    "start_time": "2025-04-13T19:21:20.799Z"
   },
   {
    "duration": 18,
    "start_time": "2025-04-13T19:23:11.957Z"
   },
   {
    "duration": 18,
    "start_time": "2025-04-13T19:23:58.325Z"
   },
   {
    "duration": 138,
    "start_time": "2025-04-13T19:24:59.338Z"
   },
   {
    "duration": 126,
    "start_time": "2025-04-13T19:25:19.378Z"
   },
   {
    "duration": 17,
    "start_time": "2025-04-13T19:25:52.126Z"
   },
   {
    "duration": 129,
    "start_time": "2025-04-13T19:26:10.059Z"
   },
   {
    "duration": 224,
    "start_time": "2025-04-13T19:26:27.151Z"
   },
   {
    "duration": 128,
    "start_time": "2025-04-13T19:27:00.335Z"
   },
   {
    "duration": 154,
    "start_time": "2025-04-13T19:27:34.377Z"
   },
   {
    "duration": 174,
    "start_time": "2025-04-13T19:28:06.049Z"
   },
   {
    "duration": 186,
    "start_time": "2025-04-13T19:28:37.132Z"
   },
   {
    "duration": 191,
    "start_time": "2025-04-13T19:28:59.015Z"
   },
   {
    "duration": 190,
    "start_time": "2025-04-13T19:29:18.942Z"
   },
   {
    "duration": 183,
    "start_time": "2025-04-13T19:29:32.013Z"
   },
   {
    "duration": 362,
    "start_time": "2025-04-13T19:29:49.269Z"
   },
   {
    "duration": 350,
    "start_time": "2025-04-13T19:29:58.918Z"
   },
   {
    "duration": 301,
    "start_time": "2025-04-13T19:31:32.818Z"
   },
   {
    "duration": 824,
    "start_time": "2025-04-14T11:32:12.513Z"
   },
   {
    "duration": 2518,
    "start_time": "2025-04-14T11:32:13.339Z"
   },
   {
    "duration": 15,
    "start_time": "2025-04-14T11:32:15.859Z"
   },
   {
    "duration": 598,
    "start_time": "2025-04-14T11:32:15.876Z"
   },
   {
    "duration": 38,
    "start_time": "2025-04-14T11:32:16.476Z"
   },
   {
    "duration": 871,
    "start_time": "2025-04-14T11:32:16.516Z"
   },
   {
    "duration": 560,
    "start_time": "2025-04-14T11:32:17.388Z"
   },
   {
    "duration": 415,
    "start_time": "2025-04-14T11:32:17.949Z"
   },
   {
    "duration": 843,
    "start_time": "2025-04-14T11:32:18.365Z"
   },
   {
    "duration": 412,
    "start_time": "2025-04-14T11:32:19.210Z"
   },
   {
    "duration": 4,
    "start_time": "2025-04-14T11:32:19.624Z"
   },
   {
    "duration": 106,
    "start_time": "2025-04-14T11:32:19.630Z"
   },
   {
    "duration": 129,
    "start_time": "2025-04-14T11:32:19.738Z"
   },
   {
    "duration": 9,
    "start_time": "2025-04-14T11:32:19.869Z"
   },
   {
    "duration": 19,
    "start_time": "2025-04-14T11:32:19.879Z"
   },
   {
    "duration": 364,
    "start_time": "2025-04-14T11:32:19.899Z"
   },
   {
    "duration": 373,
    "start_time": "2025-04-14T11:32:20.264Z"
   },
   {
    "duration": 656,
    "start_time": "2025-04-14T11:33:58.045Z"
   },
   {
    "duration": 496,
    "start_time": "2025-04-14T11:34:10.141Z"
   },
   {
    "duration": 6,
    "start_time": "2025-04-14T11:35:43.356Z"
   },
   {
    "duration": 20,
    "start_time": "2025-04-14T11:35:52.288Z"
   },
   {
    "duration": 6,
    "start_time": "2025-04-14T11:36:15.409Z"
   },
   {
    "duration": 100,
    "start_time": "2025-04-14T11:38:23.978Z"
   },
   {
    "duration": 20,
    "start_time": "2025-04-14T11:38:26.762Z"
   },
   {
    "duration": 34,
    "start_time": "2025-04-14T11:38:41.343Z"
   },
   {
    "duration": 43,
    "start_time": "2025-04-14T11:39:06.674Z"
   },
   {
    "duration": 50,
    "start_time": "2025-04-14T11:39:15.073Z"
   },
   {
    "duration": 50,
    "start_time": "2025-04-14T11:40:11.821Z"
   },
   {
    "duration": 45,
    "start_time": "2025-04-14T11:44:49.116Z"
   },
   {
    "duration": 1241,
    "start_time": "2025-04-14T11:49:06.858Z"
   },
   {
    "duration": 52,
    "start_time": "2025-04-14T11:49:39.680Z"
   },
   {
    "duration": 2,
    "start_time": "2025-04-14T11:50:33.051Z"
   },
   {
    "duration": 48,
    "start_time": "2025-04-14T11:50:41.475Z"
   },
   {
    "duration": 59,
    "start_time": "2025-04-14T11:50:49.053Z"
   },
   {
    "duration": 59,
    "start_time": "2025-04-14T11:50:51.557Z"
   },
   {
    "duration": 37,
    "start_time": "2025-04-14T11:54:02.677Z"
   },
   {
    "duration": 34,
    "start_time": "2025-04-14T11:54:32.313Z"
   },
   {
    "duration": 1398,
    "start_time": "2025-04-14T11:55:42.892Z"
   },
   {
    "duration": 37,
    "start_time": "2025-04-14T11:55:46.613Z"
   },
   {
    "duration": 40,
    "start_time": "2025-04-14T11:55:55.894Z"
   },
   {
    "duration": 40,
    "start_time": "2025-04-14T11:56:22.795Z"
   },
   {
    "duration": 40,
    "start_time": "2025-04-14T11:58:00.607Z"
   },
   {
    "duration": 42,
    "start_time": "2025-04-14T11:58:25.715Z"
   },
   {
    "duration": 39,
    "start_time": "2025-04-14T11:59:24.799Z"
   },
   {
    "duration": 53,
    "start_time": "2025-04-14T12:00:17.838Z"
   },
   {
    "duration": 50,
    "start_time": "2025-04-14T12:00:27.836Z"
   },
   {
    "duration": 88,
    "start_time": "2025-04-14T12:01:26.248Z"
   },
   {
    "duration": 85,
    "start_time": "2025-04-14T12:01:29.382Z"
   },
   {
    "duration": 87,
    "start_time": "2025-04-14T12:01:31.602Z"
   },
   {
    "duration": 53,
    "start_time": "2025-04-14T12:01:36.635Z"
   },
   {
    "duration": 50,
    "start_time": "2025-04-14T12:04:36.683Z"
   },
   {
    "duration": 55,
    "start_time": "2025-04-14T12:04:47.218Z"
   },
   {
    "duration": 57,
    "start_time": "2025-04-14T12:05:05.921Z"
   },
   {
    "duration": 51,
    "start_time": "2025-04-14T12:05:38.831Z"
   },
   {
    "duration": 43,
    "start_time": "2025-04-14T12:05:41.390Z"
   },
   {
    "duration": 5,
    "start_time": "2025-04-14T12:14:01.317Z"
   },
   {
    "duration": 5,
    "start_time": "2025-04-14T12:14:06.505Z"
   },
   {
    "duration": 12,
    "start_time": "2025-04-14T12:19:45.446Z"
   },
   {
    "duration": 6,
    "start_time": "2025-04-14T12:20:08.617Z"
   },
   {
    "duration": 7,
    "start_time": "2025-04-14T12:20:16.808Z"
   },
   {
    "duration": 8,
    "start_time": "2025-04-14T12:20:26.833Z"
   },
   {
    "duration": 10,
    "start_time": "2025-04-14T12:22:36.062Z"
   },
   {
    "duration": 11,
    "start_time": "2025-04-14T12:23:02.198Z"
   },
   {
    "duration": 12,
    "start_time": "2025-04-14T12:24:38.107Z"
   },
   {
    "duration": 7,
    "start_time": "2025-04-14T12:25:01.644Z"
   },
   {
    "duration": 61,
    "start_time": "2025-04-14T12:47:12.603Z"
   },
   {
    "duration": 49,
    "start_time": "2025-04-14T12:47:28.544Z"
   },
   {
    "duration": 49,
    "start_time": "2025-04-14T12:47:32.076Z"
   },
   {
    "duration": 57,
    "start_time": "2025-04-14T12:48:10.012Z"
   },
   {
    "duration": 46,
    "start_time": "2025-04-14T12:48:31.729Z"
   },
   {
    "duration": 49,
    "start_time": "2025-04-14T12:48:34.841Z"
   },
   {
    "duration": 37,
    "start_time": "2025-04-14T12:54:09.951Z"
   },
   {
    "duration": 42,
    "start_time": "2025-04-14T12:55:41.540Z"
   },
   {
    "duration": 39,
    "start_time": "2025-04-14T12:55:46.017Z"
   },
   {
    "duration": 38,
    "start_time": "2025-04-14T12:56:47.746Z"
   },
   {
    "duration": 6,
    "start_time": "2025-04-14T13:19:59.718Z"
   },
   {
    "duration": 1188,
    "start_time": "2025-04-14T14:47:49.340Z"
   },
   {
    "duration": 1745,
    "start_time": "2025-04-14T14:47:50.530Z"
   },
   {
    "duration": 14,
    "start_time": "2025-04-14T14:47:52.277Z"
   },
   {
    "duration": 626,
    "start_time": "2025-04-14T14:47:52.293Z"
   },
   {
    "duration": 49,
    "start_time": "2025-04-14T14:47:52.922Z"
   },
   {
    "duration": 809,
    "start_time": "2025-04-14T14:47:52.973Z"
   },
   {
    "duration": 613,
    "start_time": "2025-04-14T14:47:53.784Z"
   },
   {
    "duration": 463,
    "start_time": "2025-04-14T14:47:54.398Z"
   },
   {
    "duration": 829,
    "start_time": "2025-04-14T14:47:54.863Z"
   },
   {
    "duration": 17,
    "start_time": "2025-04-14T14:47:55.695Z"
   },
   {
    "duration": 98,
    "start_time": "2025-04-14T14:47:55.714Z"
   },
   {
    "duration": 53,
    "start_time": "2025-04-14T14:47:55.814Z"
   },
   {
    "duration": 128,
    "start_time": "2025-04-14T14:47:55.869Z"
   },
   {
    "duration": 9,
    "start_time": "2025-04-14T14:47:55.999Z"
   },
   {
    "duration": 361,
    "start_time": "2025-04-14T14:47:56.010Z"
   },
   {
    "duration": 387,
    "start_time": "2025-04-14T14:47:56.372Z"
   },
   {
    "duration": 456,
    "start_time": "2025-04-14T14:47:56.761Z"
   },
   {
    "duration": 44,
    "start_time": "2025-04-14T14:47:57.219Z"
   },
   {
    "duration": 6,
    "start_time": "2025-04-14T14:47:57.265Z"
   },
   {
    "duration": 69,
    "start_time": "2025-04-14T14:47:57.272Z"
   },
   {
    "duration": 45,
    "start_time": "2025-04-14T14:47:57.343Z"
   },
   {
    "duration": 37,
    "start_time": "2025-04-14T14:47:57.389Z"
   },
   {
    "duration": 491,
    "start_time": "2025-04-14T14:50:06.443Z"
   },
   {
    "duration": 329,
    "start_time": "2025-04-14T14:50:11.595Z"
   },
   {
    "duration": 414,
    "start_time": "2025-04-14T14:53:05.278Z"
   },
   {
    "duration": 128,
    "start_time": "2025-04-14T14:54:56.445Z"
   },
   {
    "duration": 74,
    "start_time": "2025-04-14T14:55:00.021Z"
   },
   {
    "duration": 73,
    "start_time": "2025-04-14T14:55:06.486Z"
   },
   {
    "duration": 126,
    "start_time": "2025-04-14T14:55:11.305Z"
   },
   {
    "duration": 8,
    "start_time": "2025-04-14T14:58:10.525Z"
   },
   {
    "duration": 7,
    "start_time": "2025-04-14T14:58:15.917Z"
   },
   {
    "duration": 8,
    "start_time": "2025-04-14T14:59:57.045Z"
   },
   {
    "duration": 9,
    "start_time": "2025-04-14T15:00:04.740Z"
   },
   {
    "duration": 1354,
    "start_time": "2025-04-14T15:21:58.820Z"
   },
   {
    "duration": 1935,
    "start_time": "2025-04-14T15:22:00.176Z"
   },
   {
    "duration": 23,
    "start_time": "2025-04-14T15:22:02.113Z"
   },
   {
    "duration": 645,
    "start_time": "2025-04-14T15:22:02.138Z"
   },
   {
    "duration": 52,
    "start_time": "2025-04-14T15:22:02.784Z"
   },
   {
    "duration": 798,
    "start_time": "2025-04-14T15:22:02.838Z"
   },
   {
    "duration": 570,
    "start_time": "2025-04-14T15:22:03.637Z"
   },
   {
    "duration": 435,
    "start_time": "2025-04-14T15:22:04.209Z"
   },
   {
    "duration": 784,
    "start_time": "2025-04-14T15:22:04.646Z"
   },
   {
    "duration": 14,
    "start_time": "2025-04-14T15:22:05.436Z"
   },
   {
    "duration": 54,
    "start_time": "2025-04-14T15:22:05.452Z"
   },
   {
    "duration": 125,
    "start_time": "2025-04-14T15:22:05.508Z"
   },
   {
    "duration": 122,
    "start_time": "2025-04-14T15:22:05.635Z"
   },
   {
    "duration": 8,
    "start_time": "2025-04-14T15:22:05.758Z"
   },
   {
    "duration": 335,
    "start_time": "2025-04-14T15:22:05.767Z"
   },
   {
    "duration": 356,
    "start_time": "2025-04-14T15:22:06.103Z"
   },
   {
    "duration": 602,
    "start_time": "2025-04-14T15:22:06.461Z"
   },
   {
    "duration": 45,
    "start_time": "2025-04-14T15:22:07.065Z"
   },
   {
    "duration": 23,
    "start_time": "2025-04-14T15:22:07.112Z"
   },
   {
    "duration": 52,
    "start_time": "2025-04-14T15:22:07.137Z"
   },
   {
    "duration": 62,
    "start_time": "2025-04-14T15:22:07.190Z"
   },
   {
    "duration": 8,
    "start_time": "2025-04-14T15:22:07.254Z"
   },
   {
    "duration": 4,
    "start_time": "2025-04-14T15:22:41.000Z"
   },
   {
    "duration": 7,
    "start_time": "2025-04-14T15:25:34.739Z"
   },
   {
    "duration": 7,
    "start_time": "2025-04-14T15:26:26.369Z"
   },
   {
    "duration": 17,
    "start_time": "2025-04-14T15:28:04.742Z"
   },
   {
    "duration": 323,
    "start_time": "2025-04-14T15:29:41.097Z"
   },
   {
    "duration": 309,
    "start_time": "2025-04-14T15:29:58.254Z"
   },
   {
    "duration": 306,
    "start_time": "2025-04-14T15:30:07.070Z"
   },
   {
    "duration": 290,
    "start_time": "2025-04-14T15:30:18.430Z"
   },
   {
    "duration": 288,
    "start_time": "2025-04-14T15:30:25.126Z"
   },
   {
    "duration": 418,
    "start_time": "2025-04-14T15:30:30.867Z"
   },
   {
    "duration": 1209,
    "start_time": "2025-04-14T15:33:23.017Z"
   },
   {
    "duration": 2052,
    "start_time": "2025-04-14T15:33:24.227Z"
   },
   {
    "duration": 14,
    "start_time": "2025-04-14T15:33:26.281Z"
   },
   {
    "duration": 602,
    "start_time": "2025-04-14T15:33:26.296Z"
   },
   {
    "duration": 48,
    "start_time": "2025-04-14T15:33:26.900Z"
   },
   {
    "duration": 762,
    "start_time": "2025-04-14T15:33:26.950Z"
   },
   {
    "duration": 526,
    "start_time": "2025-04-14T15:33:27.714Z"
   },
   {
    "duration": 409,
    "start_time": "2025-04-14T15:33:28.242Z"
   },
   {
    "duration": 766,
    "start_time": "2025-04-14T15:33:28.653Z"
   },
   {
    "duration": 25,
    "start_time": "2025-04-14T15:33:29.420Z"
   },
   {
    "duration": 5,
    "start_time": "2025-04-14T15:33:29.446Z"
   },
   {
    "duration": 48,
    "start_time": "2025-04-14T15:33:29.452Z"
   },
   {
    "duration": 120,
    "start_time": "2025-04-14T15:33:29.502Z"
   },
   {
    "duration": 8,
    "start_time": "2025-04-14T15:33:29.636Z"
   },
   {
    "duration": 15,
    "start_time": "2025-04-14T15:33:29.645Z"
   },
   {
    "duration": 339,
    "start_time": "2025-04-14T15:33:29.662Z"
   },
   {
    "duration": 361,
    "start_time": "2025-04-14T15:33:30.003Z"
   },
   {
    "duration": 1102,
    "start_time": "2025-04-14T15:33:30.365Z"
   },
   {
    "duration": 37,
    "start_time": "2025-04-14T15:33:31.469Z"
   },
   {
    "duration": 5,
    "start_time": "2025-04-14T15:33:31.507Z"
   },
   {
    "duration": 77,
    "start_time": "2025-04-14T15:33:31.514Z"
   },
   {
    "duration": 55,
    "start_time": "2025-04-14T15:33:31.593Z"
   },
   {
    "duration": 7,
    "start_time": "2025-04-14T15:33:31.650Z"
   },
   {
    "duration": 3,
    "start_time": "2025-04-14T15:50:56.936Z"
   },
   {
    "duration": 1376,
    "start_time": "2025-04-14T15:52:46.573Z"
   },
   {
    "duration": 1346,
    "start_time": "2025-04-14T15:52:54.396Z"
   },
   {
    "duration": 119,
    "start_time": "2025-04-14T15:53:12.610Z"
   },
   {
    "duration": 128,
    "start_time": "2025-04-14T15:53:39.350Z"
   },
   {
    "duration": 325,
    "start_time": "2025-04-14T15:59:13.948Z"
   },
   {
    "duration": 94,
    "start_time": "2025-04-14T15:59:40.419Z"
   },
   {
    "duration": 89,
    "start_time": "2025-04-14T15:59:47.667Z"
   },
   {
    "duration": 94,
    "start_time": "2025-04-14T15:59:52.231Z"
   },
   {
    "duration": 134,
    "start_time": "2025-04-14T15:59:57.897Z"
   },
   {
    "duration": 526,
    "start_time": "2025-04-14T16:00:09.557Z"
   },
   {
    "duration": 412,
    "start_time": "2025-04-14T16:04:50.473Z"
   },
   {
    "duration": 283,
    "start_time": "2025-04-14T16:06:34.667Z"
   },
   {
    "duration": 108,
    "start_time": "2025-04-14T16:07:00.449Z"
   },
   {
    "duration": 335,
    "start_time": "2025-04-14T16:07:34.094Z"
   },
   {
    "duration": 179,
    "start_time": "2025-04-14T16:08:01.701Z"
   },
   {
    "duration": 324,
    "start_time": "2025-04-14T16:08:06.689Z"
   },
   {
    "duration": 245,
    "start_time": "2025-04-14T16:08:40.250Z"
   },
   {
    "duration": 315,
    "start_time": "2025-04-14T16:09:05.994Z"
   },
   {
    "duration": 315,
    "start_time": "2025-04-14T16:09:21.779Z"
   },
   {
    "duration": 246,
    "start_time": "2025-04-14T16:09:41.250Z"
   },
   {
    "duration": 298,
    "start_time": "2025-04-14T16:09:56.649Z"
   },
   {
    "duration": 1097,
    "start_time": "2025-04-14T16:10:13.320Z"
   },
   {
    "duration": 2602,
    "start_time": "2025-04-14T16:10:14.419Z"
   },
   {
    "duration": 31,
    "start_time": "2025-04-14T16:10:17.024Z"
   },
   {
    "duration": 606,
    "start_time": "2025-04-14T16:10:17.057Z"
   },
   {
    "duration": 36,
    "start_time": "2025-04-14T16:10:17.665Z"
   },
   {
    "duration": 805,
    "start_time": "2025-04-14T16:10:17.703Z"
   },
   {
    "duration": 553,
    "start_time": "2025-04-14T16:10:18.510Z"
   },
   {
    "duration": 441,
    "start_time": "2025-04-14T16:10:19.065Z"
   },
   {
    "duration": 786,
    "start_time": "2025-04-14T16:10:19.508Z"
   },
   {
    "duration": 16,
    "start_time": "2025-04-14T16:10:20.296Z"
   },
   {
    "duration": 32,
    "start_time": "2025-04-14T16:10:20.314Z"
   },
   {
    "duration": 726,
    "start_time": "2025-04-14T16:10:20.349Z"
   },
   {
    "duration": 120,
    "start_time": "2025-04-14T16:10:21.077Z"
   },
   {
    "duration": 8,
    "start_time": "2025-04-14T16:10:21.200Z"
   },
   {
    "duration": 355,
    "start_time": "2025-04-14T16:10:21.209Z"
   },
   {
    "duration": 188,
    "start_time": "2025-04-14T16:10:21.565Z"
   },
   {
    "duration": 0,
    "start_time": "2025-04-14T16:10:21.755Z"
   },
   {
    "duration": 0,
    "start_time": "2025-04-14T16:10:21.755Z"
   },
   {
    "duration": 0,
    "start_time": "2025-04-14T16:10:21.757Z"
   },
   {
    "duration": 0,
    "start_time": "2025-04-14T16:10:21.758Z"
   },
   {
    "duration": 0,
    "start_time": "2025-04-14T16:10:21.760Z"
   },
   {
    "duration": 0,
    "start_time": "2025-04-14T16:10:21.761Z"
   },
   {
    "duration": 0,
    "start_time": "2025-04-14T16:10:21.761Z"
   },
   {
    "duration": 3,
    "start_time": "2025-04-14T16:10:58.165Z"
   },
   {
    "duration": 295,
    "start_time": "2025-04-14T16:11:04.849Z"
   },
   {
    "duration": 353,
    "start_time": "2025-04-14T16:12:01.098Z"
   },
   {
    "duration": 1156,
    "start_time": "2025-04-14T16:12:58.151Z"
   },
   {
    "duration": 1816,
    "start_time": "2025-04-14T16:12:59.309Z"
   },
   {
    "duration": 25,
    "start_time": "2025-04-14T16:13:01.126Z"
   },
   {
    "duration": 608,
    "start_time": "2025-04-14T16:13:01.153Z"
   },
   {
    "duration": 36,
    "start_time": "2025-04-14T16:13:01.763Z"
   },
   {
    "duration": 815,
    "start_time": "2025-04-14T16:13:01.801Z"
   },
   {
    "duration": 567,
    "start_time": "2025-04-14T16:13:02.617Z"
   },
   {
    "duration": 419,
    "start_time": "2025-04-14T16:13:03.186Z"
   },
   {
    "duration": 800,
    "start_time": "2025-04-14T16:13:03.607Z"
   },
   {
    "duration": 29,
    "start_time": "2025-04-14T16:13:04.409Z"
   },
   {
    "duration": 6,
    "start_time": "2025-04-14T16:13:04.448Z"
   },
   {
    "duration": 120,
    "start_time": "2025-04-14T16:13:04.456Z"
   },
   {
    "duration": 126,
    "start_time": "2025-04-14T16:13:04.578Z"
   },
   {
    "duration": 10,
    "start_time": "2025-04-14T16:13:04.707Z"
   },
   {
    "duration": 366,
    "start_time": "2025-04-14T16:13:04.718Z"
   },
   {
    "duration": 411,
    "start_time": "2025-04-14T16:13:05.086Z"
   },
   {
    "duration": 319,
    "start_time": "2025-04-14T16:13:05.499Z"
   },
   {
    "duration": 457,
    "start_time": "2025-04-14T16:13:05.820Z"
   },
   {
    "duration": 37,
    "start_time": "2025-04-14T16:13:06.279Z"
   },
   {
    "duration": 24,
    "start_time": "2025-04-14T16:13:06.317Z"
   },
   {
    "duration": 77,
    "start_time": "2025-04-14T16:13:06.343Z"
   },
   {
    "duration": 46,
    "start_time": "2025-04-14T16:13:06.422Z"
   },
   {
    "duration": 49,
    "start_time": "2025-04-14T16:13:06.470Z"
   },
   {
    "duration": 1433,
    "start_time": "2025-04-14T16:13:33.793Z"
   },
   {
    "duration": 334,
    "start_time": "2025-04-14T16:14:00.048Z"
   },
   {
    "duration": 1273,
    "start_time": "2025-04-14T16:14:05.426Z"
   },
   {
    "duration": 298,
    "start_time": "2025-04-14T16:15:06.663Z"
   },
   {
    "duration": 286,
    "start_time": "2025-04-14T16:15:44.946Z"
   },
   {
    "duration": 293,
    "start_time": "2025-04-14T16:15:51.146Z"
   },
   {
    "duration": 346,
    "start_time": "2025-04-14T16:16:01.590Z"
   },
   {
    "duration": 361,
    "start_time": "2025-04-14T16:16:05.548Z"
   },
   {
    "duration": 337,
    "start_time": "2025-04-14T16:16:11.476Z"
   },
   {
    "duration": 400,
    "start_time": "2025-04-14T16:16:22.583Z"
   },
   {
    "duration": 306,
    "start_time": "2025-04-14T16:16:26.148Z"
   },
   {
    "duration": 330,
    "start_time": "2025-04-14T16:16:29.984Z"
   },
   {
    "duration": 329,
    "start_time": "2025-04-14T16:16:33.478Z"
   },
   {
    "duration": 309,
    "start_time": "2025-04-14T16:16:38.814Z"
   },
   {
    "duration": 325,
    "start_time": "2025-04-14T16:16:41.730Z"
   },
   {
    "duration": 66,
    "start_time": "2025-04-14T16:19:46.106Z"
   },
   {
    "duration": 46,
    "start_time": "2025-04-14T16:19:48.576Z"
   },
   {
    "duration": 1241,
    "start_time": "2025-04-14T20:51:14.414Z"
   },
   {
    "duration": 2146,
    "start_time": "2025-04-14T20:51:15.657Z"
   },
   {
    "duration": 15,
    "start_time": "2025-04-14T20:51:17.804Z"
   },
   {
    "duration": 661,
    "start_time": "2025-04-14T20:51:17.821Z"
   },
   {
    "duration": 39,
    "start_time": "2025-04-14T20:51:18.485Z"
   },
   {
    "duration": 823,
    "start_time": "2025-04-14T20:51:18.526Z"
   },
   {
    "duration": 585,
    "start_time": "2025-04-14T20:51:19.352Z"
   },
   {
    "duration": 426,
    "start_time": "2025-04-14T20:51:19.939Z"
   },
   {
    "duration": 828,
    "start_time": "2025-04-14T20:51:20.367Z"
   },
   {
    "duration": 18,
    "start_time": "2025-04-14T20:51:21.197Z"
   },
   {
    "duration": 70,
    "start_time": "2025-04-14T20:51:21.217Z"
   },
   {
    "duration": 115,
    "start_time": "2025-04-14T20:51:21.289Z"
   },
   {
    "duration": 132,
    "start_time": "2025-04-14T20:51:21.406Z"
   },
   {
    "duration": 9,
    "start_time": "2025-04-14T20:51:21.542Z"
   },
   {
    "duration": 373,
    "start_time": "2025-04-14T20:51:21.554Z"
   },
   {
    "duration": 440,
    "start_time": "2025-04-14T20:51:21.929Z"
   },
   {
    "duration": 328,
    "start_time": "2025-04-14T20:51:22.372Z"
   },
   {
    "duration": 344,
    "start_time": "2025-04-14T20:51:22.702Z"
   },
   {
    "duration": 548,
    "start_time": "2025-04-14T20:51:23.054Z"
   },
   {
    "duration": 47,
    "start_time": "2025-04-14T20:51:23.603Z"
   },
   {
    "duration": 7,
    "start_time": "2025-04-14T20:51:23.652Z"
   },
   {
    "duration": 50,
    "start_time": "2025-04-14T20:51:23.661Z"
   },
   {
    "duration": 64,
    "start_time": "2025-04-14T20:51:23.713Z"
   },
   {
    "duration": 7,
    "start_time": "2025-04-14T20:51:23.779Z"
   }
  ],
  "colab": {
   "provenance": []
  },
  "kernelspec": {
   "display_name": "Python 3 (ipykernel)",
   "language": "python",
   "name": "python3"
  },
  "language_info": {
   "codemirror_mode": {
    "name": "ipython",
    "version": 3
   },
   "file_extension": ".py",
   "mimetype": "text/x-python",
   "name": "python",
   "nbconvert_exporter": "python",
   "pygments_lexer": "ipython3",
   "version": "3.12.7"
  },
  "toc": {
   "base_numbering": 1,
   "nav_menu": {},
   "number_sections": true,
   "sideBar": true,
   "skip_h1_title": true,
   "title_cell": "Table of Contents",
   "title_sidebar": "Contents",
   "toc_cell": false,
   "toc_position": {},
   "toc_section_display": true,
   "toc_window_display": false
  }
 },
 "nbformat": 4,
 "nbformat_minor": 4
}
