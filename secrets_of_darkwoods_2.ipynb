{
 "cells": [
  {
   "cell_type": "markdown",
   "id": "ea8838ac-e1a4-49f9-8f86-1ad29e5a07b3",
   "metadata": {},
   "source": [
    "# Проект спринта №7. Анализ для игры \"Секреты темнолесья\"."
   ]
  },
  {
   "cell_type": "markdown",
   "id": "a5e7abc5-3405-4c84-a1eb-841a6709b893",
   "metadata": {
    "jp-MarkdownHeadingCollapsed": true
   },
   "source": [
    "### Цели и задачи проекта\n",
    "\n",
    "В этот тетрадке используем датасет `/datasets/new_games.csv`, который содержит информацию о продажах игр разных жанров и платформ, а также пользовательские и экспертные оценки игр. На данных датасета мы проведем анализ развития игровой индустрии с 2000 по 2013 год: категоризируем игры на оценках пользователей и выделим топ-7 платформ по количеству игр, выпущенных за этот период."
   ]
  },
  {
   "cell_type": "markdown",
   "id": "7329fe4c-c9b7-4891-8308-d367aa2fa095",
   "metadata": {},
   "source": [
    "### Описание данных\n",
    "\n",
    "В проекте будут использованы данные датасета `/datasets/new_games.csv` с таким описанием:\n",
    "\n",
    "- `Name` — название игры.\n",
    "- `Platform` — название платформы.\n",
    "- `Year of Release` — год выпуска игры.\n",
    "- `Genre` — жанр игры.\n",
    "- `NA sales` — продажи в Северной Америке (в миллионах проданных копий).\n",
    "- `EU sales` — продажи в Европе (в миллионах проданных копий).\n",
    "- `JP sales` — продажи в Японии (в миллионах проданных копий).\n",
    "- `Other sales` — продажи в других странах (в миллионах проданных копий).\n",
    "- `Critic Score` — оценка критиков (от 0 до 100).\n",
    "- `User Score` — оценка пользователей (от 0 до 10).\n",
    "- `Rating` — рейтинг организации ESRB (англ. Entertainment Software Rating Board). Эта ассоциация определяет рейтинг компьютерных игр и присваивает им подходящую возрастную категорию."
   ]
  },
  {
   "cell_type": "markdown",
   "id": "00bdc722-9f3e-44dd-966c-3033966692f4",
   "metadata": {},
   "source": [
    "### Содержимое проекта\n",
    "\n",
    "1. Загрузка и знакомство с данными\n",
    "2. Проверка ошибок в данных и их предобработка\n",
    "3. Фильтрация данных\n",
    "4. Категоризация данных"
   ]
  },
  {
   "cell_type": "markdown",
   "id": "59a2b6db-5556-427f-993e-be1e1f6255bb",
   "metadata": {},
   "source": [
    "## Загрузка и знакомство с данными\n",
    "\n",
    "Загрузим необходимые библиотеки для анализа данных и данные из датасета `/datasets/new_games.csv`. Затем выведем основную информацию о данных с помощью метода info() и первые строки датафрейма."
   ]
  },
  {
   "cell_type": "code",
   "execution_count": 1,
   "id": "951d5ef4-8aff-4fa1-a06c-dd64f8351cf6",
   "metadata": {},
   "outputs": [],
   "source": [
    "# Импортируем библиотеку pandas\n",
    "import pandas as pd\n",
    "\n",
    "import warnings\n",
    "warnings.filterwarnings('ignore') "
   ]
  },
  {
   "cell_type": "code",
   "execution_count": 2,
   "id": "3b9909e0-6b83-4bc3-814d-0358304bcbbd",
   "metadata": {},
   "outputs": [],
   "source": [
    "# Выгружаем данные из датасета datasets/new_games.csv в датафрейм games\n",
    "games = pd.read_csv('https://code.s3.yandex.net/datasets/new_games.csv')"
   ]
  },
  {
   "cell_type": "code",
   "execution_count": 3,
   "id": "ea298ea0-2a29-41fd-81fd-d486b8b2ad13",
   "metadata": {},
   "outputs": [
    {
     "name": "stdout",
     "output_type": "stream",
     "text": [
      "<class 'pandas.core.frame.DataFrame'>\n",
      "RangeIndex: 16956 entries, 0 to 16955\n",
      "Data columns (total 11 columns):\n",
      " #   Column           Non-Null Count  Dtype  \n",
      "---  ------           --------------  -----  \n",
      " 0   Name             16954 non-null  object \n",
      " 1   Platform         16956 non-null  object \n",
      " 2   Year of Release  16681 non-null  float64\n",
      " 3   Genre            16954 non-null  object \n",
      " 4   NA sales         16956 non-null  float64\n",
      " 5   EU sales         16956 non-null  object \n",
      " 6   JP sales         16956 non-null  object \n",
      " 7   Other sales      16956 non-null  float64\n",
      " 8   Critic Score     8242 non-null   float64\n",
      " 9   User Score       10152 non-null  object \n",
      " 10  Rating           10085 non-null  object \n",
      "dtypes: float64(4), object(7)\n",
      "memory usage: 1.4+ MB\n"
     ]
    }
   ],
   "source": [
    "# Выводим информацию о датафрейме\n",
    "games.info()"
   ]
  },
  {
   "cell_type": "code",
   "execution_count": 4,
   "id": "76883332-b022-44df-85d8-5aa96486a626",
   "metadata": {},
   "outputs": [
    {
     "data": {
      "text/html": [
       "<div>\n",
       "<style scoped>\n",
       "    .dataframe tbody tr th:only-of-type {\n",
       "        vertical-align: middle;\n",
       "    }\n",
       "\n",
       "    .dataframe tbody tr th {\n",
       "        vertical-align: top;\n",
       "    }\n",
       "\n",
       "    .dataframe thead th {\n",
       "        text-align: right;\n",
       "    }\n",
       "</style>\n",
       "<table border=\"1\" class=\"dataframe\">\n",
       "  <thead>\n",
       "    <tr style=\"text-align: right;\">\n",
       "      <th></th>\n",
       "      <th>Name</th>\n",
       "      <th>Platform</th>\n",
       "      <th>Year of Release</th>\n",
       "      <th>Genre</th>\n",
       "      <th>NA sales</th>\n",
       "      <th>EU sales</th>\n",
       "      <th>JP sales</th>\n",
       "      <th>Other sales</th>\n",
       "      <th>Critic Score</th>\n",
       "      <th>User Score</th>\n",
       "      <th>Rating</th>\n",
       "    </tr>\n",
       "  </thead>\n",
       "  <tbody>\n",
       "    <tr>\n",
       "      <th>0</th>\n",
       "      <td>Wii Sports</td>\n",
       "      <td>Wii</td>\n",
       "      <td>2006.0</td>\n",
       "      <td>Sports</td>\n",
       "      <td>41.36</td>\n",
       "      <td>28.96</td>\n",
       "      <td>3.77</td>\n",
       "      <td>8.45</td>\n",
       "      <td>76.0</td>\n",
       "      <td>8</td>\n",
       "      <td>E</td>\n",
       "    </tr>\n",
       "    <tr>\n",
       "      <th>1</th>\n",
       "      <td>Super Mario Bros.</td>\n",
       "      <td>NES</td>\n",
       "      <td>1985.0</td>\n",
       "      <td>Platform</td>\n",
       "      <td>29.08</td>\n",
       "      <td>3.58</td>\n",
       "      <td>6.81</td>\n",
       "      <td>0.77</td>\n",
       "      <td>NaN</td>\n",
       "      <td>NaN</td>\n",
       "      <td>NaN</td>\n",
       "    </tr>\n",
       "    <tr>\n",
       "      <th>2</th>\n",
       "      <td>Mario Kart Wii</td>\n",
       "      <td>Wii</td>\n",
       "      <td>2008.0</td>\n",
       "      <td>Racing</td>\n",
       "      <td>15.68</td>\n",
       "      <td>12.76</td>\n",
       "      <td>3.79</td>\n",
       "      <td>3.29</td>\n",
       "      <td>82.0</td>\n",
       "      <td>8.3</td>\n",
       "      <td>E</td>\n",
       "    </tr>\n",
       "    <tr>\n",
       "      <th>3</th>\n",
       "      <td>Wii Sports Resort</td>\n",
       "      <td>Wii</td>\n",
       "      <td>2009.0</td>\n",
       "      <td>Sports</td>\n",
       "      <td>15.61</td>\n",
       "      <td>10.93</td>\n",
       "      <td>3.28</td>\n",
       "      <td>2.95</td>\n",
       "      <td>80.0</td>\n",
       "      <td>8</td>\n",
       "      <td>E</td>\n",
       "    </tr>\n",
       "    <tr>\n",
       "      <th>4</th>\n",
       "      <td>Pokemon Red/Pokemon Blue</td>\n",
       "      <td>GB</td>\n",
       "      <td>1996.0</td>\n",
       "      <td>Role-Playing</td>\n",
       "      <td>11.27</td>\n",
       "      <td>8.89</td>\n",
       "      <td>10.22</td>\n",
       "      <td>1.00</td>\n",
       "      <td>NaN</td>\n",
       "      <td>NaN</td>\n",
       "      <td>NaN</td>\n",
       "    </tr>\n",
       "  </tbody>\n",
       "</table>\n",
       "</div>"
      ],
      "text/plain": [
       "                       Name Platform  Year of Release         Genre  NA sales  \\\n",
       "0                Wii Sports      Wii           2006.0        Sports     41.36   \n",
       "1         Super Mario Bros.      NES           1985.0      Platform     29.08   \n",
       "2            Mario Kart Wii      Wii           2008.0        Racing     15.68   \n",
       "3         Wii Sports Resort      Wii           2009.0        Sports     15.61   \n",
       "4  Pokemon Red/Pokemon Blue       GB           1996.0  Role-Playing     11.27   \n",
       "\n",
       "  EU sales JP sales  Other sales  Critic Score User Score Rating  \n",
       "0    28.96     3.77         8.45          76.0          8      E  \n",
       "1     3.58     6.81         0.77           NaN        NaN    NaN  \n",
       "2    12.76     3.79         3.29          82.0        8.3      E  \n",
       "3    10.93     3.28         2.95          80.0          8      E  \n",
       "4     8.89    10.22         1.00           NaN        NaN    NaN  "
      ]
     },
     "execution_count": 4,
     "metadata": {},
     "output_type": "execute_result"
    }
   ],
   "source": [
    "# Выводим первые строки датафрейма на экран\n",
    "games.head()"
   ]
  },
  {
   "cell_type": "markdown",
   "id": "e580c759-c39c-4480-9ada-273304e96aca",
   "metadata": {},
   "source": [
    "Датасет `/datasets/new_games.csv` содержит 11 столбцов и 16956 строк, в которых преставлена информация о видеоиграх. Данные полностью соотвествуют описанию и отображают содержимое. Названия столбцов написаны с разными регистрами и пробелами, что может вызвать неудобства при обработке данных.\n",
    "\n",
    "Изучим типы данных и их корректность:\n",
    "- **Object**. Семь столбцов представлены типом `object`:\n",
    "  - `Name`, `Platform`, `Genre` и `Rating` содержат строковую информацию (название игры, название платформы, жанр игры, рейтинг организации ESRB), что логично для текстовых данных. Тип `object` выбран правильно.\n",
    "  - `EU sales`, `JP sales` и `User Score` содержат числовую информацию (продажи в Европе, продажи в Японии, оценка пользователей). Для них рекомендуется использовать тип данных `flot64`. Это позволит корректно проводить над ними математические операции в дальнейшем анализе.\n",
    "- **Float64**. Четыре столбца имеют тип данных `float64`:\n",
    "  - `Year of Release` хранит информацию о годе выпуска игры. Тип данных можно сменить на `int16`, который облегчит фильтрацию по годам.\n",
    "  - `NA sales`, `Other sales` и `Critic Score` хранят числовую информацию (продажи в Северной Америке, продажи в других странах, оценка критиков). Выбранный тип данных `float64` корректен для данных столбцов.\n",
    "\n",
    "После анализа типов данных видно, что большинство столбцов представлены корректными типами данных. Однако для оптимизации нужно преобразовать некоторые столбцы к вещественному типу и целочисленному. Помимо этого необходимо привести названия столбцов к стилю snake case для корректного написания, так как сейчас нет единого формата для них: используются пробелы и разные регистры.\n",
    "\n",
    "Данные содержат пропуски в шести столбцах: `Name`, `Year of Release`, `Genre`, `Critic Score`, `User Score` и `Rating`. Следует оценить долю потерянной информации и учесть при дальнейшем анализе. "
   ]
  },
  {
   "cell_type": "markdown",
   "id": "c9629ecc-71d1-4157-bf63-936991c491f9",
   "metadata": {},
   "source": [
    "## Проверка ошибок в данных и их предобработка"
   ]
  },
  {
   "cell_type": "markdown",
   "id": "da4bf059-28d4-428b-9db8-015e35043b5f",
   "metadata": {},
   "source": [
    "### Работа с названиями столбцов датафрейма\n",
    "\n",
    "Для начала проверим стиль написания столбцов датафрейма и преобразуем его при необходимости."
   ]
  },
  {
   "cell_type": "code",
   "execution_count": 5,
   "id": "3ce46d04-2ac0-4a21-b82f-f5918ac21ec4",
   "metadata": {},
   "outputs": [
    {
     "name": "stdout",
     "output_type": "stream",
     "text": [
      "Index(['Name', 'Platform', 'Year of Release', 'Genre', 'NA sales', 'EU sales',\n",
      "       'JP sales', 'Other sales', 'Critic Score', 'User Score', 'Rating'],\n",
      "      dtype='object')\n"
     ]
    }
   ],
   "source": [
    "# Выведем на экран названия всех столбцов датафрейма и проверим их стиль написания\n",
    "print(games.columns)"
   ]
  },
  {
   "cell_type": "markdown",
   "id": "566620e9-c4b5-4aab-815c-c2dfa3b704f5",
   "metadata": {},
   "source": [
    "Для удобства работы с датафреймом приведем все названия столбцов к единому стилю snake case. "
   ]
  },
  {
   "cell_type": "code",
   "execution_count": 6,
   "id": "0b942828-f873-43b2-9cd0-761fdf49c61c",
   "metadata": {},
   "outputs": [],
   "source": [
    "# Приведем названия столбцов к единому виду\n",
    "games.columns = games.columns.str.lower().str.replace(' ','_') "
   ]
  },
  {
   "cell_type": "code",
   "execution_count": 7,
   "id": "e4cefd90-79d7-452e-bf65-a4a57a62c0be",
   "metadata": {},
   "outputs": [
    {
     "data": {
      "text/plain": [
       "Index(['name', 'platform', 'year_of_release', 'genre', 'na_sales', 'eu_sales',\n",
       "       'jp_sales', 'other_sales', 'critic_score', 'user_score', 'rating'],\n",
       "      dtype='object')"
      ]
     },
     "execution_count": 7,
     "metadata": {},
     "output_type": "execute_result"
    }
   ],
   "source": [
    "# Проверим наши преобразования\n",
    "games.columns"
   ]
  },
  {
   "cell_type": "markdown",
   "id": "0a18e861-cad8-4634-907b-49dd7d3546af",
   "metadata": {},
   "source": [
    "Теперь названия столбцов приведены к единому стилю, что облегчит анализ информации в последующем."
   ]
  },
  {
   "cell_type": "markdown",
   "id": "6f57db55-e948-43f5-8eb2-e38c62f5ab40",
   "metadata": {},
   "source": [
    "### Работа с типами данных\n",
    "\n",
    "Столбцы `eu_sales`, `jp_sales` и `user_score` содержат числовую информацию (продажи в Европе, продажи в Японии, оценка пользователей) и корректный тип данных для них `float64`. Однако сейчас они находятся в типе `object`. Возможно, они содержат строковые значения и их следует заменить на Nan для преобразования к `float64`."
   ]
  },
  {
   "cell_type": "code",
   "execution_count": 8,
   "id": "cba91cde-6b9f-46cc-a7e0-2914f72b12e6",
   "metadata": {},
   "outputs": [
    {
     "data": {
      "text/plain": [
       "'Уникальные значения в eu_sales:'"
      ]
     },
     "metadata": {},
     "output_type": "display_data"
    },
    {
     "data": {
      "text/plain": [
       "array(['28.96', '3.58', '12.76', '10.93', '8.89', '2.26', '9.14', '9.18',\n",
       "       '6.94', '0.63', '10.95', '7.47', '6.18', '8.03', '4.89', '8.49',\n",
       "       '9.09', '0.4', '3.75', '9.2', '4.46', '2.71', '3.44', '5.14',\n",
       "       '5.49', '3.9', '5.35', '3.17', '5.09', '4.24', '5.04', '5.86',\n",
       "       '3.68', '4.19', '5.73', '3.59', '4.51', '2.55', '4.02', '4.37',\n",
       "       '6.31', '3.45', '2.81', '2.85', '3.49', '0.01', '3.35', '2.04',\n",
       "       '3.07', '3.87', '3.0', '4.82', '3.64', '2.15', '3.69', '2.65',\n",
       "       '2.56', '3.11', '3.14', '1.94', '1.95', '2.47', '2.28', '3.42',\n",
       "       '3.63', '2.36', '1.71', '1.85', '2.79', '1.24', '6.12', '1.53',\n",
       "       '3.47', '2.24', '5.01', '2.01', '1.72', '2.07', '6.42', '3.86',\n",
       "       '0.45', '3.48', '1.89', '5.75', '2.17', '1.37', '2.35', '1.18',\n",
       "       '2.11', '1.88', '2.83', '2.99', '2.89', '3.27', '2.22', '2.14',\n",
       "       '1.45', '1.75', '1.04', '1.77', '3.02', '2.75', '2.16', '1.9',\n",
       "       '2.59', '2.2', '4.3', '0.93', '2.53', '2.52', '1.79', '1.3', '2.6',\n",
       "       '1.58', '1.2', '1.56', '1.34', '1.26', '0.83', '6.21', '2.8',\n",
       "       '1.59', '1.73', '4.33', '1.83', '0.0', '2.18', '1.98', '1.47',\n",
       "       '0.67', '1.55', '1.91', '0.69', '0.6', '1.93', '1.64', '0.55',\n",
       "       '2.19', '1.11', '2.29', '2.5', '0.96', '1.21', '1.12', '0.77',\n",
       "       '1.69', '1.08', '0.79', '2.37', '2.46', '0.26', '0.75', '1.25',\n",
       "       '2.43', '0.98', '0.74', '2.23', '0.61', '2.45', '1.41', '1.8',\n",
       "       '3.28', '1.16', '1.99', '1.38', '1.36', '1.17', '1.19', '0.99',\n",
       "       '1.68', '2.0', '1.33', '1.57', '1.48', '2.1', '1.27', '1.97',\n",
       "       '0.91', '1.39', '1.96', '0.24', '1.51', '0.14', '1.29', '2.39',\n",
       "       '1.03', '0.5', '0.58', '1.31', '2.02', '1.32', '1.01', '2.27',\n",
       "       '2.3', '1.82', '2.78', '0.44', '0.48', '0.27', '0.21', '2.48',\n",
       "       '0.51', '1.52', '0.04', '0.28', '1.35', '0.87', '2.13', '1.13',\n",
       "       '1.76', '0.76', '2.12', '0.66', '1.6', '1.44', '1.43', '1.7',\n",
       "       '0.47', '1.87', '0.86', '0.73', '1.28', '0.81', '1.09', '0.68',\n",
       "       '1.22', '1.4', '1.02', '1.49', '1.14', '0.49', '0.9', '0.38',\n",
       "       '1.42', '0.95', '1.62', '0.71', '1.05', '0.92', '0.33', '0.3',\n",
       "       '1.67', '1.0', '0.89', '0.1', '0.72', '0.59', '0.56', '0.16',\n",
       "       '0.97', '0.62', 'unknown', '0.85', '0.94', '0.88', '0.84', '1.06',\n",
       "       '0.2', '1.15', '0.8', '1.1', '0.7', '1.92', '0.32', '0.15', '0.53',\n",
       "       '0.09', '1.46', '0.29', '0.22', '1.23', '0.07', '0.17', '0.54',\n",
       "       '0.36', '0.31', '1.84', '0.52', '0.11', '0.64', '0.12', '2.05',\n",
       "       '1.63', '0.82', '0.08', '0.57', '1.65', '0.19', '0.02', '0.43',\n",
       "       '0.25', '1.5', '0.18', '0.39', '0.13', '1.07', '0.46', '0.41',\n",
       "       '0.06', '0.03', '0.37', '0.05', '0.23', '0.65', '0.42', '0.34',\n",
       "       '0.35', '0.78'], dtype=object)"
      ]
     },
     "metadata": {},
     "output_type": "display_data"
    }
   ],
   "source": [
    "# Выводим уникальные значения в столбце eu_sales\n",
    "unique_values = games['eu_sales'].unique()\n",
    "display('Уникальные значения в eu_sales:')\n",
    "display(unique_values)"
   ]
  },
  {
   "cell_type": "markdown",
   "id": "bed0d582-7c7d-49bf-b54b-33a66d307714",
   "metadata": {},
   "source": [
    "В столбце `eu_sales` помимо чисел находится значение 'unknown'. Заменим его на пустое значение - None."
   ]
  },
  {
   "cell_type": "code",
   "execution_count": 9,
   "id": "40d2fef6-01b6-453c-b503-856b67f33640",
   "metadata": {},
   "outputs": [],
   "source": [
    "# Заменяем на None\n",
    "games['eu_sales'] = games['eu_sales'].replace('unknown', None)"
   ]
  },
  {
   "cell_type": "code",
   "execution_count": 10,
   "id": "485a160e-621a-4ae1-9e95-d07edaad1a3b",
   "metadata": {},
   "outputs": [],
   "source": [
    "# Приведем столбец к численному типу данных\n",
    "games['eu_sales'] = pd.to_numeric(games['eu_sales'])"
   ]
  },
  {
   "cell_type": "code",
   "execution_count": 11,
   "id": "a7dbfd62-6d3a-4364-a064-3e558c6c9335",
   "metadata": {},
   "outputs": [
    {
     "data": {
      "text/plain": [
       "'Уникальные значения в jp_sales:'"
      ]
     },
     "metadata": {},
     "output_type": "display_data"
    },
    {
     "data": {
      "text/plain": [
       "array(['3.77', '6.81', '3.79', '3.28', '10.22', '4.22', '6.5', '2.93',\n",
       "       '4.7', '0.28', '1.93', '4.13', '7.2', '3.6', '0.24', '2.53',\n",
       "       '0.98', '0.41', '3.54', '4.16', '6.04', '4.18', '3.84', '0.06',\n",
       "       '0.47', '5.38', '5.32', '5.65', '1.87', '0.13', '3.12', '0.36',\n",
       "       '0.11', '4.35', '0.65', '0.07', '0.08', '0.49', '0.3', '2.66',\n",
       "       '2.69', '0.48', '0.38', '5.33', '1.91', '3.96', '3.1', '1.1',\n",
       "       '1.2', '0.14', '2.54', '2.14', '0.81', '2.12', '0.44', '3.15',\n",
       "       '1.25', '0.04', '0.0', '2.47', '2.23', '1.69', '0.01', '3.0',\n",
       "       '0.02', '4.39', '1.98', '0.1', '3.81', '0.05', '2.49', '1.58',\n",
       "       '3.14', '2.73', '0.66', '0.22', '3.63', '1.45', '1.31', '2.43',\n",
       "       '0.7', '0.35', '1.4', '0.6', '2.26', '1.42', '1.28', '1.39',\n",
       "       '0.87', '0.17', '0.94', '0.19', '0.21', '1.6', '0.16', '1.03',\n",
       "       '0.25', '2.06', '1.49', '1.29', '0.09', '2.87', '0.03', '0.78',\n",
       "       '0.83', '2.33', '2.02', '1.36', '1.81', '1.97', '0.91', '0.99',\n",
       "       '0.95', '2.0', '1.01', '2.78', '2.11', '1.09', '0.2', '1.9',\n",
       "       '1.27', '3.61', '1.57', '2.2', '1.7', '1.08', '0.15', '1.11',\n",
       "       '0.29', '1.54', '0.12', '0.89', '4.87', '1.52', '1.32', '1.15',\n",
       "       '4.1', '1.46', '0.46', '1.05', '1.61', '0.26', '1.38', '0.62',\n",
       "       '0.73', '0.57', '0.31', '0.58', '1.76', '2.1', '0.9', '0.51',\n",
       "       '0.64', '2.46', '0.23', '0.37', '0.92', '1.07', '2.62', '1.12',\n",
       "       '0.54', '0.27', '0.59', '3.67', '0.55', '1.75', '3.44', '0.33',\n",
       "       '2.55', '2.32', '2.79', '0.74', '3.18', '0.82', '0.77', '0.4',\n",
       "       '2.35', '3.19', '0.8', '0.76', '3.03', '0.88', 'unknown', '0.45',\n",
       "       '1.16', '0.34', '1.19', '1.13', '2.13', '1.96', '0.71', '1.04',\n",
       "       '2.68', '0.68', '2.65', '0.96', '2.41', '0.52', '0.18', '1.34',\n",
       "       '1.48', '2.34', '1.06', '1.21', '2.29', '1.63', '2.05', '2.17',\n",
       "       '1.56', '1.35', '1.33', '0.63', '0.79', '0.75', '0.53', '1.53',\n",
       "       '1.3', '0.39', '0.69', '0.42', '0.93', '0.56', '0.84', '0.72',\n",
       "       '0.32', '1.71', '1.65', '0.61', '1.51', '1.5', '1.44', '1.24',\n",
       "       '1.18', '1.37', '1.0', '1.26', '0.85', '0.43', '0.67', '1.14',\n",
       "       '0.86', '1.17', '0.5', '1.02', '0.97'], dtype=object)"
      ]
     },
     "metadata": {},
     "output_type": "display_data"
    }
   ],
   "source": [
    "# Выводим уникальные значения в столбце jp_sales\n",
    "unique_values = games['jp_sales'].unique()\n",
    "display('Уникальные значения в jp_sales:')\n",
    "display(unique_values)"
   ]
  },
  {
   "cell_type": "code",
   "execution_count": 12,
   "id": "b1ba9c2b-ff4a-4bd5-91bb-aa16ea8a8b12",
   "metadata": {},
   "outputs": [],
   "source": [
    "# Также значения 'unknown' заменяем на None\n",
    "games['jp_sales'] = games['jp_sales'].replace('unknown', None)"
   ]
  },
  {
   "cell_type": "code",
   "execution_count": 13,
   "id": "f96af015-1486-419f-bed7-f2ddfc37baa7",
   "metadata": {},
   "outputs": [],
   "source": [
    "# Приведем столбец к численному типу данных\n",
    "games['jp_sales'] = pd.to_numeric(games['jp_sales'])"
   ]
  },
  {
   "cell_type": "code",
   "execution_count": 14,
   "id": "e5a49c27-a4a9-466b-bbf0-80d4e9dc3206",
   "metadata": {},
   "outputs": [
    {
     "data": {
      "text/plain": [
       "'Уникальные значения в user_score:'"
      ]
     },
     "metadata": {},
     "output_type": "display_data"
    },
    {
     "data": {
      "text/plain": [
       "array(['8', nan, '8.3', '8.5', '6.6', '8.4', '8.6', '7.7', '6.3', '7.4',\n",
       "       '8.2', '9', '7.9', '8.1', '8.7', '7.1', '3.4', '5.3', '4.8', '3.2',\n",
       "       '8.9', '6.4', '7.8', '7.5', '2.6', '7.2', '9.2', '7', '7.3', '4.3',\n",
       "       '7.6', '5.7', '5', '9.1', '6.5', 'tbd', '8.8', '6.9', '9.4', '6.8',\n",
       "       '6.1', '6.7', '5.4', '4', '4.9', '4.5', '9.3', '6.2', '4.2', '6',\n",
       "       '3.7', '4.1', '5.8', '5.6', '5.5', '4.4', '4.6', '5.9', '3.9',\n",
       "       '3.1', '2.9', '5.2', '3.3', '4.7', '5.1', '3.5', '2.5', '1.9', '3',\n",
       "       '2.7', '2.2', '2', '9.5', '2.1', '3.6', '2.8', '1.8', '3.8', '0',\n",
       "       '1.6', '9.6', '2.4', '1.7', '1.1', '0.3', '1.5', '0.7', '1.2',\n",
       "       '2.3', '0.5', '1.3', '0.2', '0.6', '1.4', '0.9', '1', '9.7'],\n",
       "      dtype=object)"
      ]
     },
     "metadata": {},
     "output_type": "display_data"
    }
   ],
   "source": [
    "# Выводим уникальные значения в столбце user_score\n",
    "unique_values = games['user_score'].unique()\n",
    "display('Уникальные значения в user_score:')\n",
    "display(unique_values)"
   ]
  },
  {
   "cell_type": "code",
   "execution_count": 15,
   "id": "b1d4d357-f687-43db-8125-7f4c4af47bf6",
   "metadata": {},
   "outputs": [],
   "source": [
    "# Аналогично 'unknown' и 'tbd' заменяем на None\n",
    "games['user_score'] = games['user_score'].replace('unknown', None)\n",
    "games['user_score'] = games['user_score'].replace('tbd', None)"
   ]
  },
  {
   "cell_type": "code",
   "execution_count": 16,
   "id": "bd31d3b9-c184-4cf8-8ff0-01b4ca7e8005",
   "metadata": {},
   "outputs": [],
   "source": [
    "# Приведем столбец к численному типу данных\n",
    "games['user_score'] = pd.to_numeric(games['user_score'])"
   ]
  },
  {
   "cell_type": "markdown",
   "id": "c3cd8f6a-e908-4d0c-8555-1a28f4502249",
   "metadata": {},
   "source": [
    "Проверим наши преобразования, вызвав метод info()."
   ]
  },
  {
   "cell_type": "code",
   "execution_count": 17,
   "id": "4ff3e515-573f-4a2a-8b26-a095b1ab3ae9",
   "metadata": {},
   "outputs": [
    {
     "name": "stdout",
     "output_type": "stream",
     "text": [
      "<class 'pandas.core.frame.DataFrame'>\n",
      "RangeIndex: 16956 entries, 0 to 16955\n",
      "Data columns (total 11 columns):\n",
      " #   Column           Non-Null Count  Dtype  \n",
      "---  ------           --------------  -----  \n",
      " 0   name             16954 non-null  object \n",
      " 1   platform         16956 non-null  object \n",
      " 2   year_of_release  16681 non-null  float64\n",
      " 3   genre            16954 non-null  object \n",
      " 4   na_sales         16956 non-null  float64\n",
      " 5   eu_sales         16950 non-null  float64\n",
      " 6   jp_sales         16952 non-null  float64\n",
      " 7   other_sales      16956 non-null  float64\n",
      " 8   critic_score     8242 non-null   float64\n",
      " 9   user_score       7688 non-null   float64\n",
      " 10  rating           10085 non-null  object \n",
      "dtypes: float64(7), object(4)\n",
      "memory usage: 1.4+ MB\n"
     ]
    }
   ],
   "source": [
    "games.info()"
   ]
  },
  {
   "cell_type": "markdown",
   "id": "1c9e21da-145c-403d-a1f9-d8624443e399",
   "metadata": {},
   "source": [
    "Таким образом, мы заменили аномальные строковые значения в столбцах `eu_sales`, `jp_sales` и `user_score` на пустые значения, чтобы обработать эти пропуски в дальнейшем, и привели столбцы к численным типам данных для выполнения корректных математических операций."
   ]
  },
  {
   "cell_type": "markdown",
   "id": "e1f409c3-5438-4b73-a667-a7d41ea7b569",
   "metadata": {},
   "source": [
    "### Работа с пропусками в данных"
   ]
  },
  {
   "cell_type": "code",
   "execution_count": 18,
   "id": "410b7957-ff9d-4d0c-8607-8b2fe409debd",
   "metadata": {},
   "outputs": [
    {
     "data": {
      "text/plain": [
       "name                  2\n",
       "platform              0\n",
       "year_of_release     275\n",
       "genre                 2\n",
       "na_sales              0\n",
       "eu_sales              6\n",
       "jp_sales              4\n",
       "other_sales           0\n",
       "critic_score       8714\n",
       "user_score         9268\n",
       "rating             6871\n",
       "dtype: int64"
      ]
     },
     "execution_count": 18,
     "metadata": {},
     "output_type": "execute_result"
    }
   ],
   "source": [
    "# Выводим количество пропущенных строк датафрейма\n",
    "games.isna().sum()"
   ]
  },
  {
   "cell_type": "code",
   "execution_count": 19,
   "id": "a583784e-bcc6-4ff1-9c71-ac5af30da320",
   "metadata": {},
   "outputs": [
    {
     "data": {
      "text/plain": [
       "name                0.011795\n",
       "platform            0.000000\n",
       "year_of_release     1.621845\n",
       "genre               0.011795\n",
       "na_sales            0.000000\n",
       "eu_sales            0.035386\n",
       "jp_sales            0.023590\n",
       "other_sales         0.000000\n",
       "critic_score       51.391838\n",
       "user_score         54.659118\n",
       "rating             40.522529\n",
       "dtype: float64"
      ]
     },
     "execution_count": 19,
     "metadata": {},
     "output_type": "execute_result"
    }
   ],
   "source": [
    "# Подсчитываем процент строк с пропусками\n",
    "games.isna().sum() / games.shape[0] * 100"
   ]
  },
  {
   "cell_type": "markdown",
   "id": "f53a6e53-2517-4195-88f8-1307be0d3193",
   "metadata": {},
   "source": [
    "Датафрейм содержит восемь столбцов с пропусками:\n",
    "- `name` и `genre` содержат всего по два пропуска, что составляет менее 1% данных. Скорее всего, это вызвано технической ошибкой, и в связи с отсутствием информации о названии игры становится невозможным определить ее жанр. Эти строки можно удалить, они не критично повлияют на анализ.\n",
    "- Столбец `year_of_release` хранит 275 пропусков (1,62%). Пропуски так же случайны, их доля невелика, поэтому удалим эти строки.\n",
    "- В столбцах `eu_sales` и `jp_sales` содержится 6 и 4 пропуска (0.04% и 0.02%) соотвественно. Их можно заменить на среднее значение в зависимости от названия платформы и года выхода игры.\n",
    "- Пропуски в столбцах `critic_score` и `user_score` в абсолютном значении составляют 8714 и 9268, а в относительном 51,59% и 54,66% от всех данных соотвественно. Довольно значительная доля информации пропала. Причиной этому может стать отсутствие оценки критиков и пользователей этих игр, то есть пропуски неслучайны. Значения можно заменить индикатором (-1).\n",
    "- Столбец `rating` содержит 6871 пропуск (40,52%). Аналогично предыдущим столбцам пропуски могут быть вызваны неслучайным отсутствием информации. Для присвоения рейтинга ESRB издатель игры должен прислать этой организации материал для оценки. Возможно, создатели этих игр не совершали этого. Заменим пропуски строкой 'нет данных'. "
   ]
  },
  {
   "cell_type": "code",
   "execution_count": 20,
   "id": "57c3a2a5-fd22-41a5-a757-51f985d8e463",
   "metadata": {},
   "outputs": [],
   "source": [
    "# Сохраним исходное число строк датафрейма \n",
    "games_lines = games.shape[0]"
   ]
  },
  {
   "cell_type": "code",
   "execution_count": 21,
   "id": "4347d972-1d14-4950-87b5-5fc07296f5d3",
   "metadata": {},
   "outputs": [],
   "source": [
    "# Удалим из датафрейма строки с пропусками в столбцах `name`, `genre` и `year_of_release`\n",
    "games = games.dropna(subset = ['name', 'genre', 'year_of_release'])"
   ]
  },
  {
   "cell_type": "markdown",
   "id": "6bb186f8-fb35-4312-aece-cef8775c2469",
   "metadata": {},
   "source": [
    "После того, как мы удалили пропуски в столбце `year_of_release`, можно привести его к типу `int16`."
   ]
  },
  {
   "cell_type": "code",
   "execution_count": 22,
   "id": "ed836cbf-c0d7-40bd-89e3-450d8120d5bb",
   "metadata": {},
   "outputs": [],
   "source": [
    "games['year_of_release'] = games['year_of_release'].astype('int16')"
   ]
  },
  {
   "cell_type": "markdown",
   "id": "a27002f8-9870-4628-85dd-3e57bb9d5d2d",
   "metadata": {},
   "source": [
    "Чтобы заменить пропуски в столбцах `eu_sales` и `jp_sales` на среднее значение, исходя из названия платформы и года выпуска, создадим переменную `mean_eu_sales` и `mean_jp_sales`, используя группировку и метод `transform`. Заполним пропуски в столбцах этими переменными с помощью функции `fillna()`."
   ]
  },
  {
   "cell_type": "code",
   "execution_count": 23,
   "id": "6a5dd06d-4c64-4798-9518-f99d6d4e0e11",
   "metadata": {},
   "outputs": [],
   "source": [
    "# Заменим пропуски в столбцe `eu_sales`\n",
    "mean_eu_sales = games.groupby(['platform','year_of_release'])['eu_sales'].transform('mean')\n",
    "games['eu_sales'] = games['eu_sales'].fillna(mean_eu_sales)"
   ]
  },
  {
   "cell_type": "code",
   "execution_count": 24,
   "id": "ed7ac05c-7385-412f-878e-4bc34d0de3dd",
   "metadata": {},
   "outputs": [],
   "source": [
    "# Заменим пропуски в столбцe `jp_sales`\n",
    "mean_jp_sales = games.groupby(['platform','year_of_release'])['jp_sales'].transform('mean')\n",
    "games['jp_sales'] = games['jp_sales'].fillna(mean_jp_sales)"
   ]
  },
  {
   "cell_type": "markdown",
   "id": "ca486555-68af-423b-bcd3-767de1e8a4f1",
   "metadata": {},
   "source": [
    "Теперь заменим пропуски в столбцах `critic_score` и `user_score` значениями-индикаторами. Используем -1, так как оно не может быть использовано в данных."
   ]
  },
  {
   "cell_type": "code",
   "execution_count": 25,
   "id": "e3bf9f19-496b-4dae-b2fb-adf2aa606480",
   "metadata": {},
   "outputs": [],
   "source": [
    "games['critic_score'] = games['critic_score'].fillna(-1)\n",
    "games['user_score'] = games['user_score'].fillna(-1)"
   ]
  },
  {
   "cell_type": "markdown",
   "id": "6ebcb3fb-41da-412c-ae4e-a717db63f02a",
   "metadata": {},
   "source": [
    "Аналогично со столбцом `rating` - заменяем пропуски на строку 'нет данных'."
   ]
  },
  {
   "cell_type": "code",
   "execution_count": 26,
   "id": "10e00b17-b429-4c5a-b3fd-dbd23d6138bb",
   "metadata": {},
   "outputs": [],
   "source": [
    "games['rating'] = games['rating'].fillna('нет данных')"
   ]
  },
  {
   "cell_type": "markdown",
   "id": "662f0a46-b335-4a58-af4d-9e79d0162269",
   "metadata": {},
   "source": [
    "Проверим информацию о датафрейме после обработки пропусков с помощью метода info()."
   ]
  },
  {
   "cell_type": "code",
   "execution_count": 27,
   "id": "331b12a0-5b6b-4637-b044-44581accb391",
   "metadata": {},
   "outputs": [
    {
     "name": "stdout",
     "output_type": "stream",
     "text": [
      "<class 'pandas.core.frame.DataFrame'>\n",
      "Index: 16679 entries, 0 to 16955\n",
      "Data columns (total 11 columns):\n",
      " #   Column           Non-Null Count  Dtype  \n",
      "---  ------           --------------  -----  \n",
      " 0   name             16679 non-null  object \n",
      " 1   platform         16679 non-null  object \n",
      " 2   year_of_release  16679 non-null  int16  \n",
      " 3   genre            16679 non-null  object \n",
      " 4   na_sales         16679 non-null  float64\n",
      " 5   eu_sales         16679 non-null  float64\n",
      " 6   jp_sales         16679 non-null  float64\n",
      " 7   other_sales      16679 non-null  float64\n",
      " 8   critic_score     16679 non-null  float64\n",
      " 9   user_score       16679 non-null  float64\n",
      " 10  rating           16679 non-null  object \n",
      "dtypes: float64(6), int16(1), object(4)\n",
      "memory usage: 1.4+ MB\n"
     ]
    }
   ],
   "source": [
    "games.info()"
   ]
  },
  {
   "cell_type": "markdown",
   "id": "fc063462-0c7b-44fa-823b-a34323ae9789",
   "metadata": {},
   "source": [
    "Все пропуски в датафрейме заполнены. \n",
    "\n",
    "Займемся обработкой неявных дубликатов. Для начала изучим уникальные значения категориальных данных - столбцы `name`, `platform`, `year_of_release`, `genre` и `rating`, чтобы вычвить опечатки или данные с разным способом написания."
   ]
  },
  {
   "cell_type": "markdown",
   "id": "96da9aad",
   "metadata": {},
   "source": []
  },
  {
   "cell_type": "code",
   "execution_count": 28,
   "id": "abe52813-9912-4263-a42d-ba747db59451",
   "metadata": {},
   "outputs": [
    {
     "data": {
      "text/plain": [
       "array(['Wii', 'NES', 'GB', 'DS', 'X360', 'PS3', 'PS2', 'SNES', 'GBA',\n",
       "       'PS4', '3DS', 'N64', 'PS', 'XB', 'PC', '2600', 'PSP', 'XOne',\n",
       "       'WiiU', 'GC', 'GEN', 'DC', 'PSV', 'SAT', 'SCD', 'WS', 'NG', 'TG16',\n",
       "       '3DO', 'GG', 'PCFX'], dtype=object)"
      ]
     },
     "metadata": {},
     "output_type": "display_data"
    }
   ],
   "source": [
    "# Уникальные значения `platform`\n",
    "unique_platforms = games['platform'].unique()\n",
    "display(unique_platforms)"
   ]
  },
  {
   "cell_type": "markdown",
   "id": "63f2b8eb-6519-4f4a-b3db-4ae62a691113",
   "metadata": {},
   "source": [
    "Дубликатов в столбце `platform` не выявлено. Переходим к проверке `year_of_release`."
   ]
  },
  {
   "cell_type": "code",
   "execution_count": 29,
   "id": "f03a5b92-cc44-4202-a76a-8aad8af7375e",
   "metadata": {},
   "outputs": [
    {
     "data": {
      "text/plain": [
       "array([2006, 1985, 2008, 2009, 1996, 1989, 1984, 2005, 1999, 2007, 2010,\n",
       "       2013, 2004, 1990, 1988, 2002, 2001, 2011, 1998, 2015, 2012, 2014,\n",
       "       1992, 1997, 1993, 1994, 1982, 2016, 2003, 1986, 2000, 1995, 1991,\n",
       "       1981, 1987, 1980, 1983], dtype=int16)"
      ]
     },
     "metadata": {},
     "output_type": "display_data"
    }
   ],
   "source": [
    "# Уникальные значения `year_of_release`\n",
    "unique_years = games['year_of_release'].unique()\n",
    "display(unique_years)"
   ]
  },
  {
   "cell_type": "markdown",
   "id": "8b058b53-1233-4b65-aad4-7721d2fb2824",
   "metadata": {},
   "source": [
    "Так же нет дубликатов."
   ]
  },
  {
   "cell_type": "code",
   "execution_count": 30,
   "id": "591237d6-80a0-4925-8f46-e908a86583d3",
   "metadata": {},
   "outputs": [
    {
     "data": {
      "text/plain": [
       "array(['Sports', 'Platform', 'Racing', 'Role-Playing', 'Puzzle', 'Misc',\n",
       "       'Shooter', 'Simulation', 'Action', 'Fighting', 'Adventure',\n",
       "       'Strategy', 'MISC', 'ROLE-PLAYING', 'RACING', 'ACTION', 'SHOOTER',\n",
       "       'FIGHTING', 'SPORTS', 'PLATFORM', 'ADVENTURE', 'SIMULATION',\n",
       "       'PUZZLE', 'STRATEGY'], dtype=object)"
      ]
     },
     "metadata": {},
     "output_type": "display_data"
    }
   ],
   "source": [
    "# Уникальные значения `genre`\n",
    "unique_genres = games['genre'].unique()\n",
    "display(unique_genres)"
   ]
  },
  {
   "cell_type": "markdown",
   "id": "e00e24c7-8e99-4417-b49a-c6f213efb325",
   "metadata": {},
   "source": [
    "Заметим, что многие значения столбца `genre` - одинаковые жанры, только написаные в разном регистре. Проведем нормализацию данных, приведя строки к нижнему регистру."
   ]
  },
  {
   "cell_type": "code",
   "execution_count": 31,
   "id": "f8f3d9b6-b76b-4d89-b0f8-b8a48f6bf83e",
   "metadata": {},
   "outputs": [],
   "source": [
    "games['genre'] = games['genre'].str.lower()"
   ]
  },
  {
   "cell_type": "code",
   "execution_count": 32,
   "id": "3e7f0190-9efe-4ed2-9c15-119ddd2dbc89",
   "metadata": {},
   "outputs": [
    {
     "data": {
      "text/plain": [
       "array(['E', 'нет данных', 'M', 'T', 'E10+', 'K-A', 'AO', 'EC', 'RP'],\n",
       "      dtype=object)"
      ]
     },
     "metadata": {},
     "output_type": "display_data"
    }
   ],
   "source": [
    "# Уникальные значения `rating`\n",
    "unique_ratings = games['rating'].unique()\n",
    "display(unique_ratings)"
   ]
  },
  {
   "cell_type": "markdown",
   "id": "170d64ad-b4a7-4d9f-8392-31d33432548b",
   "metadata": {},
   "source": [
    "Неявных дубликатов в столбце `rating` нет."
   ]
  },
  {
   "cell_type": "markdown",
   "id": "2a9fc8e9-8077-424b-8bdd-7b039d02f528",
   "metadata": {},
   "source": [
    "Приведем столбец `name` к единому стилю, чтобы при проверке на явные дубликаты, можно было найти одинаковые строки."
   ]
  },
  {
   "cell_type": "code",
   "execution_count": 33,
   "id": "4d561618-0cae-4feb-a10e-6f2d2671949e",
   "metadata": {},
   "outputs": [],
   "source": [
    "games['name'] = games['name'].str.lower()"
   ]
  },
  {
   "cell_type": "markdown",
   "id": "25ce9182-06bd-467a-9fc9-f4c3eb90faf0",
   "metadata": {},
   "source": [
    "Проверим, есть ли в датафрейме явные дубликаты, используя метод duplicated()."
   ]
  },
  {
   "cell_type": "code",
   "execution_count": 34,
   "id": "e5c84a2d-0da5-47a9-8fe7-bedf7beb43bf",
   "metadata": {},
   "outputs": [
    {
     "data": {
      "text/plain": [
       "235"
      ]
     },
     "execution_count": 34,
     "metadata": {},
     "output_type": "execute_result"
    }
   ],
   "source": [
    "# Считаем количество дублированных строк \n",
    "games.duplicated().sum()"
   ]
  },
  {
   "cell_type": "markdown",
   "id": "d469cb2d-45ee-4ca4-890c-d2a77ef9d6f2",
   "metadata": {},
   "source": [
    "В датафрейме 235 явных дубликатов. Удалим их с помощью метода drop_dublicates()."
   ]
  },
  {
   "cell_type": "code",
   "execution_count": 35,
   "id": "06f0546a-82aa-4934-8802-5ba252217c4b",
   "metadata": {},
   "outputs": [],
   "source": [
    "#Удаляем дубликаты\n",
    "games.drop_duplicates(inplace = True)"
   ]
  },
  {
   "cell_type": "markdown",
   "id": "6cdf5576",
   "metadata": {},
   "source": [
    "Проверим есть ли неявные дубликаты данных по столбцам `name`, `platform`, `year_of_release`. Комбинации значений в них должны быть уникальными для корректной обработки данных."
   ]
  },
  {
   "cell_type": "code",
   "execution_count": 36,
   "id": "8f8faeb6",
   "metadata": {
    "scrolled": true
   },
   "outputs": [
    {
     "data": {
      "text/plain": [
       "'Найдено 1 дубликатов'"
      ]
     },
     "metadata": {},
     "output_type": "display_data"
    }
   ],
   "source": [
    "duplicated_names = games.duplicated(subset = ['name', 'platform', 'year_of_release']).sum()\n",
    "display(f\"Найдено {duplicated_names} дубликатов\")"
   ]
  },
  {
   "cell_type": "code",
   "execution_count": 37,
   "id": "204e8683",
   "metadata": {},
   "outputs": [],
   "source": [
    "# Удаляем эти дубликаты\n",
    "games.drop_duplicates(subset = ['name', 'platform', 'year_of_release'], inplace = True)"
   ]
  },
  {
   "cell_type": "markdown",
   "id": "3bf74f80-9593-4471-9825-ae945da4fdc9",
   "metadata": {},
   "source": [
    "Посчитаем количество удаленных строк после всей предобработки данных. Для этого вернемся к переменной `games_lines`, сохраненной нами в начале работы. Вычтем из нее количество строк обработанного датафрейма и найдем абсолютное и относительное значение удаленных строк."
   ]
  },
  {
   "cell_type": "code",
   "execution_count": 38,
   "id": "d4bb79f1-db8d-4c47-96ab-68cdec393a42",
   "metadata": {},
   "outputs": [
    {
     "data": {
      "text/plain": [
       "'Количество удаленных строк: 513'"
      ]
     },
     "metadata": {},
     "output_type": "display_data"
    },
    {
     "data": {
      "text/plain": [
       "'Процент удаленных строк: 3.0254777070063694'"
      ]
     },
     "metadata": {},
     "output_type": "display_data"
    }
   ],
   "source": [
    "# Количество удаленных строк\n",
    "deleted_lines = games_lines - games.shape[0]\n",
    "display(f\"Количество удаленных строк: {deleted_lines}\")\n",
    "\n",
    "# Процент удаленных строк\n",
    "percent_of_deleted_lines = deleted_lines / games_lines * 100\n",
    "display(f\"Процент удаленных строк: {percent_of_deleted_lines}\")"
   ]
  },
  {
   "cell_type": "markdown",
   "id": "9805d0a0-2437-43eb-9d34-076c899ecfe9",
   "metadata": {},
   "source": [
    "В результате обработки данных были выполнены следующие действия:\n",
    "- Названия столбцов датафрейма были приведены к единому стиля snake case\n",
    "- Столбцы `eu_sales`, `jp_sales` и `user_score` были приведены к типу данных `float64`, столбец `year_of_release` - к типу данных `int16`\n",
    "- Все пропуски были обработаны: строки столбцов `name`, `genre` и `year_of_release`, содержащих пропуски, были удалены, так как составляли небольшую часть данных. Пустые значения в `eu_sales` и `jp_sales` были заменены на средние в зависимости от платформы и года выпуска игры. Пропуски в `critic_score` и `user_score` заполнили значением=индикатором (-1), а в столбце `rating` строкой 'нет данных'.\n",
    "- В столбце `genres` мы нашли неявные дубликаты, появившиеся в результате использования разного регистра. Мы провели нормализацию данных, чтобы избежать ошибок в дальнейшем анализе.\n",
    "- Мы нашли 235 явных дубликатов и 1 неявный. Провели очистку датафрейма от них.\n",
    "- Вся обработка данных потребовала от нас удаления 513 строк, что составило 3,03% от исходного датафрейма."
   ]
  },
  {
   "cell_type": "markdown",
   "id": "1470f604-b3cd-4826-bfa1-7f254f065734",
   "metadata": {},
   "source": [
    "## Фильтрация данных"
   ]
  },
  {
   "cell_type": "markdown",
   "id": "5d383531-acb3-44bd-b7d6-10e7390ede03",
   "metadata": {},
   "source": [
    "Отберем данные за период с 2000 по 2013 года включительно и сохраним новый срез данных в отдельном датафрейме `df_actual`."
   ]
  },
  {
   "cell_type": "code",
   "execution_count": 39,
   "id": "ba74250a-29af-4cfc-8e6f-1aed270346b9",
   "metadata": {},
   "outputs": [],
   "source": [
    "# Фильтруем датафрейм и сохраняем в новый\n",
    "df_actual = games.loc[(games['year_of_release'] >= 2000) & (games['year_of_release'] <= 2013)]"
   ]
  },
  {
   "cell_type": "code",
   "execution_count": 40,
   "id": "99e23cdf",
   "metadata": {},
   "outputs": [
    {
     "name": "stdout",
     "output_type": "stream",
     "text": [
      "<class 'pandas.core.frame.DataFrame'>\n",
      "Index: 12780 entries, 0 to 16954\n",
      "Data columns (total 11 columns):\n",
      " #   Column           Non-Null Count  Dtype  \n",
      "---  ------           --------------  -----  \n",
      " 0   name             12780 non-null  object \n",
      " 1   platform         12780 non-null  object \n",
      " 2   year_of_release  12780 non-null  int16  \n",
      " 3   genre            12780 non-null  object \n",
      " 4   na_sales         12780 non-null  float64\n",
      " 5   eu_sales         12780 non-null  float64\n",
      " 6   jp_sales         12780 non-null  float64\n",
      " 7   other_sales      12780 non-null  float64\n",
      " 8   critic_score     12780 non-null  float64\n",
      " 9   user_score       12780 non-null  float64\n",
      " 10  rating           12780 non-null  object \n",
      "dtypes: float64(6), int16(1), object(4)\n",
      "memory usage: 1.1+ MB\n"
     ]
    }
   ],
   "source": [
    "# Выведем информацию о новом датафрейме\n",
    "df_actual.info()"
   ]
  },
  {
   "cell_type": "markdown",
   "id": "ad73bd1c",
   "metadata": {},
   "source": [
    "После фильтрации мы получили новый датафрейм `df_actual`. В нем осталось 11 столбцов и 12780 строки, в которых преставлена обработанная информация о видеоиграх, выпущенных в период с 2000 по 2013 года включительно. Так как этот датафрейм создан на основе предыдущего, то описание столбцов, стиль написания и содеражащаяся в нем информация корректны.\n",
    "\n",
    "Изучим типы данных:\n",
    "- **Object**. Четыре столбца представлены типом `object`:\n",
    "  - `name`, `platform`, `genre` и `rating` содержат строковую информацию (название игры, название платформы, жанр игры, рейтинг организации ESRB), что логично для текстовых данных. Тип `object` выбран правильно.\n",
    "- **Float64**. Шесть столбцов имеют тип данных `float64`:\n",
    "  - `na_sales`, `eu_sales`, `jp_sales`, `other_sales`, `critic_score` и `user_score` хранят числовую информацию (продажи в Северной Америке, продажи в Европе, продажи в Японии, продажи в других странах, оценка критиков, оценка пользователей). Выбранный тип данных `float64` корректен для данных столбцов.\n",
    "- **Int16**. Один столбец хранит информацию типа `int16`:\n",
    "  - `year_of_release` содержит года выпуска игр, которые представлены целыми числами.\n",
    "  \n",
    "Данные не содежат пропусков и дубликатов, так как получены из обработанного датафрейма. Можно приступать к анализу."
   ]
  },
  {
   "cell_type": "markdown",
   "id": "ffcab979-9894-47a3-b7f3-aada118a88e4",
   "metadata": {},
   "source": [
    "## Категоризация данных\n",
    "\n",
    "Проведем категоризацию данных. Разделим все игры по оценкам пользователей и выделим такие категории: высокая оценка (от 8 до 10 включительно), средняя оценка (от 3 до 8, не включая правую границу интервала) и низкая оценка (от 0 до 3, не включая правую границу интервала). "
   ]
  },
  {
   "cell_type": "code",
   "execution_count": 41,
   "id": "0ab14ac8-e143-4e66-ae4b-8f481a3efd69",
   "metadata": {},
   "outputs": [],
   "source": [
    "df_actual['user_category'] = pd.cut(df_actual['user_score'], bins = [0, 3, 8, 10.01], labels = ['низкая', 'средняя', 'высокая'], right = False)"
   ]
  },
  {
   "cell_type": "markdown",
   "id": "466ed69d-55c5-4c0b-b538-472908adc281",
   "metadata": {},
   "source": [
    "Разделим все игры по оценкам критиков и выделите такие категории: высокая оценка (от 80 до 100 включительно), средняя оценка (от 30 до 80, не включая правую границу интервала) и низкая оценка (от 0 до 30, не включая правую границу интервала)."
   ]
  },
  {
   "cell_type": "code",
   "execution_count": 42,
   "id": "a6c9058a-b514-4240-a2f7-c251b66d21a4",
   "metadata": {},
   "outputs": [],
   "source": [
    "df_actual['critics_category'] = pd.cut(df_actual['critic_score'], bins = [0, 30, 80, 100.01], labels = ['низкая', 'средняя', 'высокая'], right = False)"
   ]
  },
  {
   "cell_type": "markdown",
   "id": "ed077946-f052-4c29-b29d-5d449dd1b70c",
   "metadata": {},
   "source": [
    "Выведем первые пять строк полученного датафрейма, чтобы посмотреть результат преобразований."
   ]
  },
  {
   "cell_type": "code",
   "execution_count": 43,
   "id": "ee530ea4-39f1-4059-a5c5-24b4d0952262",
   "metadata": {},
   "outputs": [
    {
     "data": {
      "text/html": [
       "<div>\n",
       "<style scoped>\n",
       "    .dataframe tbody tr th:only-of-type {\n",
       "        vertical-align: middle;\n",
       "    }\n",
       "\n",
       "    .dataframe tbody tr th {\n",
       "        vertical-align: top;\n",
       "    }\n",
       "\n",
       "    .dataframe thead th {\n",
       "        text-align: right;\n",
       "    }\n",
       "</style>\n",
       "<table border=\"1\" class=\"dataframe\">\n",
       "  <thead>\n",
       "    <tr style=\"text-align: right;\">\n",
       "      <th></th>\n",
       "      <th>name</th>\n",
       "      <th>platform</th>\n",
       "      <th>year_of_release</th>\n",
       "      <th>genre</th>\n",
       "      <th>na_sales</th>\n",
       "      <th>eu_sales</th>\n",
       "      <th>jp_sales</th>\n",
       "      <th>other_sales</th>\n",
       "      <th>critic_score</th>\n",
       "      <th>user_score</th>\n",
       "      <th>rating</th>\n",
       "      <th>user_category</th>\n",
       "      <th>critics_category</th>\n",
       "    </tr>\n",
       "  </thead>\n",
       "  <tbody>\n",
       "    <tr>\n",
       "      <th>0</th>\n",
       "      <td>wii sports</td>\n",
       "      <td>Wii</td>\n",
       "      <td>2006</td>\n",
       "      <td>sports</td>\n",
       "      <td>41.36</td>\n",
       "      <td>28.96</td>\n",
       "      <td>3.77</td>\n",
       "      <td>8.45</td>\n",
       "      <td>76.0</td>\n",
       "      <td>8.0</td>\n",
       "      <td>E</td>\n",
       "      <td>высокая</td>\n",
       "      <td>средняя</td>\n",
       "    </tr>\n",
       "    <tr>\n",
       "      <th>2</th>\n",
       "      <td>mario kart wii</td>\n",
       "      <td>Wii</td>\n",
       "      <td>2008</td>\n",
       "      <td>racing</td>\n",
       "      <td>15.68</td>\n",
       "      <td>12.76</td>\n",
       "      <td>3.79</td>\n",
       "      <td>3.29</td>\n",
       "      <td>82.0</td>\n",
       "      <td>8.3</td>\n",
       "      <td>E</td>\n",
       "      <td>высокая</td>\n",
       "      <td>высокая</td>\n",
       "    </tr>\n",
       "    <tr>\n",
       "      <th>3</th>\n",
       "      <td>wii sports resort</td>\n",
       "      <td>Wii</td>\n",
       "      <td>2009</td>\n",
       "      <td>sports</td>\n",
       "      <td>15.61</td>\n",
       "      <td>10.93</td>\n",
       "      <td>3.28</td>\n",
       "      <td>2.95</td>\n",
       "      <td>80.0</td>\n",
       "      <td>8.0</td>\n",
       "      <td>E</td>\n",
       "      <td>высокая</td>\n",
       "      <td>высокая</td>\n",
       "    </tr>\n",
       "    <tr>\n",
       "      <th>6</th>\n",
       "      <td>new super mario bros.</td>\n",
       "      <td>DS</td>\n",
       "      <td>2006</td>\n",
       "      <td>platform</td>\n",
       "      <td>11.28</td>\n",
       "      <td>9.14</td>\n",
       "      <td>6.50</td>\n",
       "      <td>2.88</td>\n",
       "      <td>89.0</td>\n",
       "      <td>8.5</td>\n",
       "      <td>E</td>\n",
       "      <td>высокая</td>\n",
       "      <td>высокая</td>\n",
       "    </tr>\n",
       "    <tr>\n",
       "      <th>7</th>\n",
       "      <td>wii play</td>\n",
       "      <td>Wii</td>\n",
       "      <td>2006</td>\n",
       "      <td>misc</td>\n",
       "      <td>13.96</td>\n",
       "      <td>9.18</td>\n",
       "      <td>2.93</td>\n",
       "      <td>2.84</td>\n",
       "      <td>58.0</td>\n",
       "      <td>6.6</td>\n",
       "      <td>E</td>\n",
       "      <td>средняя</td>\n",
       "      <td>средняя</td>\n",
       "    </tr>\n",
       "  </tbody>\n",
       "</table>\n",
       "</div>"
      ],
      "text/plain": [
       "                    name platform  year_of_release     genre  na_sales  \\\n",
       "0             wii sports      Wii             2006    sports     41.36   \n",
       "2         mario kart wii      Wii             2008    racing     15.68   \n",
       "3      wii sports resort      Wii             2009    sports     15.61   \n",
       "6  new super mario bros.       DS             2006  platform     11.28   \n",
       "7               wii play      Wii             2006      misc     13.96   \n",
       "\n",
       "   eu_sales  jp_sales  other_sales  critic_score  user_score rating  \\\n",
       "0     28.96      3.77         8.45          76.0         8.0      E   \n",
       "2     12.76      3.79         3.29          82.0         8.3      E   \n",
       "3     10.93      3.28         2.95          80.0         8.0      E   \n",
       "6      9.14      6.50         2.88          89.0         8.5      E   \n",
       "7      9.18      2.93         2.84          58.0         6.6      E   \n",
       "\n",
       "  user_category critics_category  \n",
       "0       высокая          средняя  \n",
       "2       высокая          высокая  \n",
       "3       высокая          высокая  \n",
       "6       высокая          высокая  \n",
       "7       средняя          средняя  "
      ]
     },
     "execution_count": 43,
     "metadata": {},
     "output_type": "execute_result"
    }
   ],
   "source": [
    "df_actual.head()"
   ]
  },
  {
   "cell_type": "markdown",
   "id": "c45bff7d-a572-4f89-944b-83d0ab0e18b4",
   "metadata": {},
   "source": [
    "Выделим топ-7 платформ по количеству игр, выпущенных за весь актуальный период."
   ]
  },
  {
   "cell_type": "code",
   "execution_count": 44,
   "id": "dadf21a5-f2e8-4640-994a-9502037421f6",
   "metadata": {},
   "outputs": [],
   "source": [
    "# Группируем данные по `platform`, применяем агрегирующую функцию count()\n",
    "top_7_platforms = df_actual.groupby('platform')['name'].count()"
   ]
  },
  {
   "cell_type": "code",
   "execution_count": 45,
   "id": "63f48d79-8184-4974-96c9-9ed445c5a426",
   "metadata": {},
   "outputs": [],
   "source": [
    "# Cортируем названия платформ по убыванию количества выпущенных игр\n",
    "top_7_platforms = top_7_platforms.sort_values(ascending = False)"
   ]
  },
  {
   "cell_type": "code",
   "execution_count": 46,
   "id": "cfcc4742-0fde-43c0-94d3-33e0038f40fc",
   "metadata": {},
   "outputs": [],
   "source": [
    "# Выбираем топ-7 платформ по количеству выпущенных игр, используя срез данных\n",
    "top_7_platforms = top_7_platforms[:7]"
   ]
  },
  {
   "cell_type": "code",
   "execution_count": 47,
   "id": "6aef8818-a2b4-4500-8f9d-c31e0bf1c950",
   "metadata": {},
   "outputs": [
    {
     "data": {
      "text/plain": [
       "platform\n",
       "PS2     2127\n",
       "DS      2120\n",
       "Wii     1275\n",
       "PSP     1180\n",
       "X360    1121\n",
       "PS3     1086\n",
       "GBA      811\n",
       "Name: name, dtype: int64"
      ]
     },
     "metadata": {},
     "output_type": "display_data"
    }
   ],
   "source": [
    "# Выводим топ-7 платформ на экран\n",
    "display(top_7_platforms)"
   ]
  },
  {
   "cell_type": "markdown",
   "id": "197adcca-6501-41a2-a5e2-96386e3b94c2",
   "metadata": {},
   "source": [
    "В первом столбце топа предствлены названия платформ, а во втором - количество игр, выпущенных в период с 2000 по 2013 год включительно. В топ вошли PS2 (2127 запусков), DS(2120), Wii (1275), PSP (1180), X360 (1121), PS3 (1086) и GBA (811).  \n"
   ]
  },
  {
   "cell_type": "markdown",
   "id": "8f1d44d2-5831-496f-99ec-09cf3b602bee",
   "metadata": {},
   "source": [
    "## Основные выводы и результаты\n",
    "\n",
    "Были загружены данные `/datasets/new_games.csv`. Они содержат 11 столбцов и 16956 строк, в которых представлена информация о продажах игр разных жанров и платформ, а также пользовательские и экспертные оценки игр. Для удобства работы с данными названия столбцов были приведены к единому стилю snake case. При первичном знакомстве с данными и их предобработкой получили такие результаты:\n",
    "- После замены строковых значениях в числовых столбцах было получено: восемь столбцов (`name`, `genre`, `year_of_release`, `eu_sales`, `jp_sales`, `critic_score`, `user_score`, `rating`) содержат пропуски. Максимальное значение пропущенных данных в столбце `user_score` - 54.66%. \n",
    "- Для оптимизации работы с данными в датафрейме были произведены следующие изменения типов данных:\n",
    "  - `year_or_release`: тип изменен с `float64` на `int16`\n",
    "  - `eu_sales`, `jp_sales` и `user_score`: тип изменен с `object` на `float64`\n",
    "- В ходе обработки данных было удалено 513 строк, что составило 3,03% от исходного датафрейма.\n",
    "- После очистки данных исходного датафрема был создан новый `df_actual`, в который вошел период выпуска игр с 2000 по 2013 года включительно. В нем осталось 11 столбцов и 12780 строки. \n",
    "- Для дополнительной работы с данными в датафрейме `df_actual` были созданы дополнительные столбцы:\n",
    "  - `user_category`: столбец с категорией игр по оценкам пользователей (столбец `user_score`) - высокая оценка (от 8 до 10 включительно), средняя оценка (от 3 до 8, не включая правую границу интервала) и низкая оценка (от 0 до 3, не включая правую границу интервала).\n",
    "  - `critics_category`: столбец с категорией игр по оценкам критиков (`critic_score`) - высокая оценка (от 80 до 100 включительно), средняя оценка (от 30 до 80, не включая правую границу интервала) и низкая оценка (от 0 до 30, не включая правую границу интервала).\n",
    "- Был составлен топ-7 платформ по количеству запусков игр за отведенный период. В него вошли платформы PS2 (2127 запусков), DS(2120), Wii (1275), PSP (1180), X360 (1121), PS3 (1086) и GBA (811)\n"
   ]
  }
 ],
 "metadata": {
  "ExecuteTimeLog": [
   {
    "duration": 395,
    "start_time": "2025-01-23T09:05:52.752Z"
   },
   {
    "duration": 139,
    "start_time": "2025-01-23T09:05:53.149Z"
   },
   {
    "duration": 13,
    "start_time": "2025-01-23T09:05:53.290Z"
   },
   {
    "duration": 21,
    "start_time": "2025-01-23T09:05:53.304Z"
   },
   {
    "duration": 3,
    "start_time": "2025-01-23T09:05:53.327Z"
   },
   {
    "duration": 8,
    "start_time": "2025-01-23T09:05:53.331Z"
   },
   {
    "duration": 6,
    "start_time": "2025-01-23T09:05:53.340Z"
   },
   {
    "duration": 15,
    "start_time": "2025-01-23T09:05:53.347Z"
   },
   {
    "duration": 9,
    "start_time": "2025-01-23T09:05:53.363Z"
   },
   {
    "duration": 8,
    "start_time": "2025-01-23T09:05:53.373Z"
   },
   {
    "duration": 20,
    "start_time": "2025-01-23T09:05:53.383Z"
   },
   {
    "duration": 20,
    "start_time": "2025-01-23T09:05:53.404Z"
   },
   {
    "duration": 20,
    "start_time": "2025-01-23T09:05:53.426Z"
   },
   {
    "duration": 12,
    "start_time": "2025-01-23T09:05:53.449Z"
   },
   {
    "duration": 6,
    "start_time": "2025-01-23T09:05:53.462Z"
   },
   {
    "duration": 11,
    "start_time": "2025-01-23T09:05:53.469Z"
   },
   {
    "duration": 25,
    "start_time": "2025-01-23T09:05:53.481Z"
   },
   {
    "duration": 8,
    "start_time": "2025-01-23T09:05:53.507Z"
   },
   {
    "duration": 16,
    "start_time": "2025-01-23T09:05:53.516Z"
   },
   {
    "duration": 3,
    "start_time": "2025-01-23T09:05:53.534Z"
   },
   {
    "duration": 9,
    "start_time": "2025-01-23T09:05:53.539Z"
   },
   {
    "duration": 3,
    "start_time": "2025-01-23T09:05:53.550Z"
   },
   {
    "duration": 18,
    "start_time": "2025-01-23T09:05:53.554Z"
   },
   {
    "duration": 13,
    "start_time": "2025-01-23T09:05:53.573Z"
   },
   {
    "duration": 18,
    "start_time": "2025-01-23T09:05:53.587Z"
   },
   {
    "duration": 32,
    "start_time": "2025-01-23T09:05:53.606Z"
   },
   {
    "duration": 33,
    "start_time": "2025-01-23T09:05:53.639Z"
   },
   {
    "duration": 10,
    "start_time": "2025-01-23T09:05:53.673Z"
   },
   {
    "duration": 28,
    "start_time": "2025-01-23T09:05:53.685Z"
   },
   {
    "duration": 53,
    "start_time": "2025-01-23T09:05:53.714Z"
   },
   {
    "duration": 26,
    "start_time": "2025-01-23T09:05:53.768Z"
   },
   {
    "duration": 49,
    "start_time": "2025-01-23T09:05:53.796Z"
   },
   {
    "duration": 8,
    "start_time": "2025-01-23T09:05:53.847Z"
   },
   {
    "duration": 18,
    "start_time": "2025-01-23T09:05:53.856Z"
   },
   {
    "duration": 15,
    "start_time": "2025-01-23T09:05:53.875Z"
   },
   {
    "duration": 6,
    "start_time": "2025-01-23T09:05:53.894Z"
   },
   {
    "duration": 6,
    "start_time": "2025-01-23T09:05:53.902Z"
   },
   {
    "duration": 6,
    "start_time": "2025-01-23T09:05:53.909Z"
   },
   {
    "duration": 32,
    "start_time": "2025-01-23T09:05:53.917Z"
   },
   {
    "duration": 14,
    "start_time": "2025-01-23T09:05:53.950Z"
   },
   {
    "duration": 5,
    "start_time": "2025-01-23T09:05:53.967Z"
   },
   {
    "duration": 5,
    "start_time": "2025-01-23T09:05:53.973Z"
   },
   {
    "duration": 13,
    "start_time": "2025-01-23T09:05:53.979Z"
   },
   {
    "duration": 7,
    "start_time": "2025-01-23T09:05:53.993Z"
   },
   {
    "duration": 51,
    "start_time": "2025-01-23T09:43:08.324Z"
   },
   {
    "duration": 406,
    "start_time": "2025-01-23T09:43:17.391Z"
   },
   {
    "duration": 117,
    "start_time": "2025-01-23T09:43:17.800Z"
   },
   {
    "duration": 16,
    "start_time": "2025-01-23T09:43:17.919Z"
   },
   {
    "duration": 20,
    "start_time": "2025-01-23T09:43:17.937Z"
   },
   {
    "duration": 3,
    "start_time": "2025-01-23T09:43:17.959Z"
   },
   {
    "duration": 9,
    "start_time": "2025-01-23T09:43:17.963Z"
   },
   {
    "duration": 11,
    "start_time": "2025-01-23T09:43:17.975Z"
   },
   {
    "duration": 8,
    "start_time": "2025-01-23T09:43:17.988Z"
   },
   {
    "duration": 4,
    "start_time": "2025-01-23T09:43:17.997Z"
   },
   {
    "duration": 10,
    "start_time": "2025-01-23T09:43:18.003Z"
   },
   {
    "duration": 12,
    "start_time": "2025-01-23T09:43:18.014Z"
   },
   {
    "duration": 8,
    "start_time": "2025-01-23T09:43:18.028Z"
   },
   {
    "duration": 37,
    "start_time": "2025-01-23T09:43:18.037Z"
   },
   {
    "duration": 15,
    "start_time": "2025-01-23T09:43:18.079Z"
   },
   {
    "duration": 13,
    "start_time": "2025-01-23T09:43:18.095Z"
   },
   {
    "duration": 9,
    "start_time": "2025-01-23T09:43:18.110Z"
   },
   {
    "duration": 16,
    "start_time": "2025-01-23T09:43:18.120Z"
   },
   {
    "duration": 9,
    "start_time": "2025-01-23T09:43:18.138Z"
   },
   {
    "duration": 28,
    "start_time": "2025-01-23T09:43:18.148Z"
   },
   {
    "duration": 12,
    "start_time": "2025-01-23T09:43:18.178Z"
   },
   {
    "duration": 12,
    "start_time": "2025-01-23T09:43:18.192Z"
   },
   {
    "duration": 12,
    "start_time": "2025-01-23T09:43:18.206Z"
   },
   {
    "duration": 10,
    "start_time": "2025-01-23T09:43:18.219Z"
   },
   {
    "duration": 15,
    "start_time": "2025-01-23T09:43:18.230Z"
   },
   {
    "duration": 7,
    "start_time": "2025-01-23T09:43:18.246Z"
   },
   {
    "duration": 6,
    "start_time": "2025-01-23T09:43:18.255Z"
   },
   {
    "duration": 16,
    "start_time": "2025-01-23T09:43:18.262Z"
   },
   {
    "duration": 17,
    "start_time": "2025-01-23T09:43:18.280Z"
   },
   {
    "duration": 9,
    "start_time": "2025-01-23T09:43:18.299Z"
   },
   {
    "duration": 11,
    "start_time": "2025-01-23T09:43:18.309Z"
   },
   {
    "duration": 8,
    "start_time": "2025-01-23T09:43:18.322Z"
   },
   {
    "duration": 7,
    "start_time": "2025-01-23T09:43:18.332Z"
   },
   {
    "duration": 12,
    "start_time": "2025-01-23T09:43:18.341Z"
   },
   {
    "duration": 29,
    "start_time": "2025-01-23T09:43:18.355Z"
   },
   {
    "duration": 14,
    "start_time": "2025-01-23T09:43:18.386Z"
   },
   {
    "duration": 6,
    "start_time": "2025-01-23T09:43:18.401Z"
   },
   {
    "duration": 6,
    "start_time": "2025-01-23T09:43:18.408Z"
   },
   {
    "duration": 7,
    "start_time": "2025-01-23T09:43:18.416Z"
   },
   {
    "duration": 46,
    "start_time": "2025-01-23T09:43:18.425Z"
   },
   {
    "duration": 66,
    "start_time": "2025-01-23T09:43:18.473Z"
   },
   {
    "duration": 4,
    "start_time": "2025-01-23T09:43:18.544Z"
   },
   {
    "duration": 5,
    "start_time": "2025-01-23T09:43:18.550Z"
   },
   {
    "duration": 5,
    "start_time": "2025-01-23T09:43:18.556Z"
   },
   {
    "duration": 8,
    "start_time": "2025-01-23T09:43:18.563Z"
   },
   {
    "duration": 6,
    "start_time": "2025-01-23T09:51:46.252Z"
   },
   {
    "duration": 6,
    "start_time": "2025-01-23T09:52:24.674Z"
   },
   {
    "duration": 75,
    "start_time": "2025-01-23T09:54:26.240Z"
   },
   {
    "duration": 23,
    "start_time": "2025-01-23T09:55:43.267Z"
   },
   {
    "duration": 15,
    "start_time": "2025-01-23T09:56:22.992Z"
   },
   {
    "duration": 434,
    "start_time": "2025-01-23T09:57:43.060Z"
   },
   {
    "duration": 111,
    "start_time": "2025-01-23T09:57:43.496Z"
   },
   {
    "duration": 17,
    "start_time": "2025-01-23T09:57:43.609Z"
   },
   {
    "duration": 52,
    "start_time": "2025-01-23T09:57:43.629Z"
   },
   {
    "duration": 7,
    "start_time": "2025-01-23T09:57:43.683Z"
   },
   {
    "duration": 17,
    "start_time": "2025-01-23T09:57:43.692Z"
   },
   {
    "duration": 5,
    "start_time": "2025-01-23T09:57:43.710Z"
   },
   {
    "duration": 8,
    "start_time": "2025-01-23T09:57:43.716Z"
   },
   {
    "duration": 22,
    "start_time": "2025-01-23T09:57:43.726Z"
   },
   {
    "duration": 15,
    "start_time": "2025-01-23T09:57:43.750Z"
   },
   {
    "duration": 8,
    "start_time": "2025-01-23T09:57:43.766Z"
   },
   {
    "duration": 6,
    "start_time": "2025-01-23T09:57:43.775Z"
   },
   {
    "duration": 15,
    "start_time": "2025-01-23T09:57:43.782Z"
   },
   {
    "duration": 17,
    "start_time": "2025-01-23T09:57:43.798Z"
   },
   {
    "duration": 5,
    "start_time": "2025-01-23T09:57:43.817Z"
   },
   {
    "duration": 17,
    "start_time": "2025-01-23T09:57:43.824Z"
   },
   {
    "duration": 28,
    "start_time": "2025-01-23T09:57:43.842Z"
   },
   {
    "duration": 96,
    "start_time": "2025-01-23T09:57:43.872Z"
   },
   {
    "duration": 16,
    "start_time": "2025-01-23T09:57:43.970Z"
   },
   {
    "duration": 14,
    "start_time": "2025-01-23T09:57:43.988Z"
   },
   {
    "duration": 12,
    "start_time": "2025-01-23T09:57:44.003Z"
   },
   {
    "duration": 4,
    "start_time": "2025-01-23T09:57:44.017Z"
   },
   {
    "duration": 12,
    "start_time": "2025-01-23T09:57:44.022Z"
   },
   {
    "duration": 7,
    "start_time": "2025-01-23T09:57:44.036Z"
   },
   {
    "duration": 5,
    "start_time": "2025-01-23T09:57:44.044Z"
   },
   {
    "duration": 19,
    "start_time": "2025-01-23T09:57:44.050Z"
   },
   {
    "duration": 16,
    "start_time": "2025-01-23T09:57:44.071Z"
   },
   {
    "duration": 6,
    "start_time": "2025-01-23T09:57:44.091Z"
   },
   {
    "duration": 40,
    "start_time": "2025-01-23T09:57:44.099Z"
   },
   {
    "duration": 9,
    "start_time": "2025-01-23T09:57:44.141Z"
   },
   {
    "duration": 14,
    "start_time": "2025-01-23T09:57:44.152Z"
   },
   {
    "duration": 25,
    "start_time": "2025-01-23T09:57:44.168Z"
   },
   {
    "duration": 18,
    "start_time": "2025-01-23T09:57:44.194Z"
   },
   {
    "duration": 15,
    "start_time": "2025-01-23T09:57:44.213Z"
   },
   {
    "duration": 13,
    "start_time": "2025-01-23T09:57:44.230Z"
   },
   {
    "duration": 6,
    "start_time": "2025-01-23T09:57:44.244Z"
   },
   {
    "duration": 18,
    "start_time": "2025-01-23T09:57:44.251Z"
   },
   {
    "duration": 13,
    "start_time": "2025-01-23T09:57:44.271Z"
   },
   {
    "duration": 6,
    "start_time": "2025-01-23T09:57:44.286Z"
   },
   {
    "duration": 6,
    "start_time": "2025-01-23T09:57:44.294Z"
   },
   {
    "duration": 22,
    "start_time": "2025-01-23T09:57:44.301Z"
   },
   {
    "duration": 7,
    "start_time": "2025-01-23T09:57:44.325Z"
   },
   {
    "duration": 7,
    "start_time": "2025-01-23T09:57:44.334Z"
   },
   {
    "duration": 29,
    "start_time": "2025-01-23T09:57:44.342Z"
   },
   {
    "duration": 44,
    "start_time": "2025-01-23T09:57:44.373Z"
   },
   {
    "duration": 16,
    "start_time": "2025-01-23T10:34:29.436Z"
   },
   {
    "duration": 8,
    "start_time": "2025-01-23T10:35:45.862Z"
   },
   {
    "duration": 7,
    "start_time": "2025-01-23T10:36:40.251Z"
   },
   {
    "duration": 448,
    "start_time": "2025-01-23T10:36:49.044Z"
   },
   {
    "duration": 91,
    "start_time": "2025-01-23T10:36:49.494Z"
   },
   {
    "duration": 16,
    "start_time": "2025-01-23T10:36:49.587Z"
   },
   {
    "duration": 59,
    "start_time": "2025-01-23T10:36:49.605Z"
   },
   {
    "duration": 9,
    "start_time": "2025-01-23T10:36:49.666Z"
   },
   {
    "duration": 7,
    "start_time": "2025-01-23T10:36:49.677Z"
   },
   {
    "duration": 14,
    "start_time": "2025-01-23T10:36:49.685Z"
   },
   {
    "duration": 10,
    "start_time": "2025-01-23T10:36:49.701Z"
   },
   {
    "duration": 4,
    "start_time": "2025-01-23T10:36:49.713Z"
   },
   {
    "duration": 12,
    "start_time": "2025-01-23T10:36:49.719Z"
   },
   {
    "duration": 24,
    "start_time": "2025-01-23T10:36:49.733Z"
   },
   {
    "duration": 12,
    "start_time": "2025-01-23T10:36:49.759Z"
   },
   {
    "duration": 11,
    "start_time": "2025-01-23T10:36:49.772Z"
   },
   {
    "duration": 8,
    "start_time": "2025-01-23T10:36:49.787Z"
   },
   {
    "duration": 7,
    "start_time": "2025-01-23T10:36:49.797Z"
   },
   {
    "duration": 8,
    "start_time": "2025-01-23T10:36:49.806Z"
   },
   {
    "duration": 14,
    "start_time": "2025-01-23T10:36:49.816Z"
   },
   {
    "duration": 9,
    "start_time": "2025-01-23T10:36:49.832Z"
   },
   {
    "duration": 12,
    "start_time": "2025-01-23T10:36:49.871Z"
   },
   {
    "duration": 3,
    "start_time": "2025-01-23T10:36:49.884Z"
   },
   {
    "duration": 13,
    "start_time": "2025-01-23T10:36:49.889Z"
   },
   {
    "duration": 5,
    "start_time": "2025-01-23T10:36:49.903Z"
   },
   {
    "duration": 7,
    "start_time": "2025-01-23T10:36:49.909Z"
   },
   {
    "duration": 10,
    "start_time": "2025-01-23T10:36:49.917Z"
   },
   {
    "duration": 4,
    "start_time": "2025-01-23T10:36:49.929Z"
   },
   {
    "duration": 37,
    "start_time": "2025-01-23T10:36:49.934Z"
   },
   {
    "duration": 14,
    "start_time": "2025-01-23T10:36:49.973Z"
   },
   {
    "duration": 98,
    "start_time": "2025-01-23T10:36:49.989Z"
   },
   {
    "duration": 4,
    "start_time": "2025-01-23T10:36:50.089Z"
   },
   {
    "duration": 12,
    "start_time": "2025-01-23T10:36:50.095Z"
   },
   {
    "duration": 21,
    "start_time": "2025-01-23T10:36:50.109Z"
   },
   {
    "duration": 24,
    "start_time": "2025-01-23T10:36:50.132Z"
   },
   {
    "duration": 23,
    "start_time": "2025-01-23T10:36:50.157Z"
   },
   {
    "duration": 17,
    "start_time": "2025-01-23T10:36:50.181Z"
   },
   {
    "duration": 14,
    "start_time": "2025-01-23T10:36:50.200Z"
   },
   {
    "duration": 17,
    "start_time": "2025-01-23T10:36:50.216Z"
   },
   {
    "duration": 22,
    "start_time": "2025-01-23T10:36:50.234Z"
   },
   {
    "duration": 15,
    "start_time": "2025-01-23T10:36:50.258Z"
   },
   {
    "duration": 25,
    "start_time": "2025-01-23T10:36:50.275Z"
   },
   {
    "duration": 24,
    "start_time": "2025-01-23T10:36:50.302Z"
   },
   {
    "duration": 6,
    "start_time": "2025-01-23T10:36:50.330Z"
   },
   {
    "duration": 7,
    "start_time": "2025-01-23T10:36:50.337Z"
   },
   {
    "duration": 29,
    "start_time": "2025-01-23T10:36:50.346Z"
   },
   {
    "duration": 28,
    "start_time": "2025-01-23T10:36:50.377Z"
   },
   {
    "duration": 13,
    "start_time": "2025-01-23T10:36:50.406Z"
   },
   {
    "duration": 5,
    "start_time": "2025-01-23T10:36:50.421Z"
   },
   {
    "duration": 10,
    "start_time": "2025-01-23T10:36:50.427Z"
   },
   {
    "duration": 8,
    "start_time": "2025-01-23T10:37:50.582Z"
   },
   {
    "duration": 69,
    "start_time": "2025-01-23T10:39:03.377Z"
   },
   {
    "duration": 8,
    "start_time": "2025-01-23T10:39:10.612Z"
   },
   {
    "duration": 420,
    "start_time": "2025-01-23T10:39:17.335Z"
   },
   {
    "duration": 87,
    "start_time": "2025-01-23T10:39:17.757Z"
   },
   {
    "duration": 16,
    "start_time": "2025-01-23T10:39:17.846Z"
   },
   {
    "duration": 20,
    "start_time": "2025-01-23T10:39:17.864Z"
   },
   {
    "duration": 3,
    "start_time": "2025-01-23T10:39:17.885Z"
   },
   {
    "duration": 5,
    "start_time": "2025-01-23T10:39:17.890Z"
   },
   {
    "duration": 13,
    "start_time": "2025-01-23T10:39:17.896Z"
   },
   {
    "duration": 9,
    "start_time": "2025-01-23T10:39:17.911Z"
   },
   {
    "duration": 4,
    "start_time": "2025-01-23T10:39:17.921Z"
   },
   {
    "duration": 7,
    "start_time": "2025-01-23T10:39:17.928Z"
   },
   {
    "duration": 40,
    "start_time": "2025-01-23T10:39:17.937Z"
   },
   {
    "duration": 4,
    "start_time": "2025-01-23T10:39:17.978Z"
   },
   {
    "duration": 8,
    "start_time": "2025-01-23T10:39:17.984Z"
   },
   {
    "duration": 88,
    "start_time": "2025-01-23T10:39:17.994Z"
   },
   {
    "duration": 6,
    "start_time": "2025-01-23T10:39:18.083Z"
   },
   {
    "duration": 23,
    "start_time": "2025-01-23T10:39:18.091Z"
   },
   {
    "duration": 20,
    "start_time": "2025-01-23T10:39:18.116Z"
   },
   {
    "duration": 9,
    "start_time": "2025-01-23T10:39:18.137Z"
   },
   {
    "duration": 18,
    "start_time": "2025-01-23T10:39:18.147Z"
   },
   {
    "duration": 3,
    "start_time": "2025-01-23T10:39:18.170Z"
   },
   {
    "duration": 9,
    "start_time": "2025-01-23T10:39:18.174Z"
   },
   {
    "duration": 3,
    "start_time": "2025-01-23T10:39:18.185Z"
   },
   {
    "duration": 7,
    "start_time": "2025-01-23T10:39:18.190Z"
   },
   {
    "duration": 6,
    "start_time": "2025-01-23T10:39:18.198Z"
   },
   {
    "duration": 3,
    "start_time": "2025-01-23T10:39:18.206Z"
   },
   {
    "duration": 4,
    "start_time": "2025-01-23T10:39:18.211Z"
   },
   {
    "duration": 60,
    "start_time": "2025-01-23T10:39:18.216Z"
   },
   {
    "duration": 5,
    "start_time": "2025-01-23T10:39:18.279Z"
   },
   {
    "duration": 11,
    "start_time": "2025-01-23T10:39:18.285Z"
   },
   {
    "duration": 37,
    "start_time": "2025-01-23T10:39:18.298Z"
   },
   {
    "duration": 15,
    "start_time": "2025-01-23T10:39:18.336Z"
   },
   {
    "duration": 5,
    "start_time": "2025-01-23T10:39:18.353Z"
   },
   {
    "duration": 16,
    "start_time": "2025-01-23T10:39:18.360Z"
   },
   {
    "duration": 31,
    "start_time": "2025-01-23T10:39:18.378Z"
   },
   {
    "duration": 13,
    "start_time": "2025-01-23T10:39:18.410Z"
   },
   {
    "duration": 8,
    "start_time": "2025-01-23T10:39:18.425Z"
   },
   {
    "duration": 7,
    "start_time": "2025-01-23T10:39:18.434Z"
   },
   {
    "duration": 8,
    "start_time": "2025-01-23T10:39:18.443Z"
   },
   {
    "duration": 5,
    "start_time": "2025-01-23T10:39:18.470Z"
   },
   {
    "duration": 13,
    "start_time": "2025-01-23T10:39:18.477Z"
   },
   {
    "duration": 11,
    "start_time": "2025-01-23T10:39:18.492Z"
   },
   {
    "duration": 7,
    "start_time": "2025-01-23T10:39:18.505Z"
   },
   {
    "duration": 21,
    "start_time": "2025-01-23T10:39:18.513Z"
   },
   {
    "duration": 36,
    "start_time": "2025-01-23T10:39:18.536Z"
   },
   {
    "duration": 4,
    "start_time": "2025-01-23T10:39:18.574Z"
   },
   {
    "duration": 9,
    "start_time": "2025-01-23T10:39:18.580Z"
   },
   {
    "duration": 14,
    "start_time": "2025-01-23T10:39:18.590Z"
   },
   {
    "duration": 420,
    "start_time": "2025-01-23T10:50:51.535Z"
   },
   {
    "duration": 153,
    "start_time": "2025-01-23T10:50:51.958Z"
   },
   {
    "duration": 18,
    "start_time": "2025-01-23T10:50:52.112Z"
   },
   {
    "duration": 133,
    "start_time": "2025-01-23T10:50:52.132Z"
   },
   {
    "duration": 5,
    "start_time": "2025-01-23T10:50:52.268Z"
   },
   {
    "duration": 31,
    "start_time": "2025-01-23T10:50:52.275Z"
   },
   {
    "duration": 43,
    "start_time": "2025-01-23T10:50:52.308Z"
   },
   {
    "duration": 26,
    "start_time": "2025-01-23T10:50:52.352Z"
   },
   {
    "duration": 18,
    "start_time": "2025-01-23T10:50:52.380Z"
   },
   {
    "duration": 13,
    "start_time": "2025-01-23T10:50:52.400Z"
   },
   {
    "duration": 14,
    "start_time": "2025-01-23T10:50:52.415Z"
   },
   {
    "duration": 24,
    "start_time": "2025-01-23T10:50:52.431Z"
   },
   {
    "duration": 54,
    "start_time": "2025-01-23T10:50:52.457Z"
   },
   {
    "duration": 26,
    "start_time": "2025-01-23T10:50:52.516Z"
   },
   {
    "duration": 52,
    "start_time": "2025-01-23T10:50:52.544Z"
   },
   {
    "duration": 39,
    "start_time": "2025-01-23T10:50:52.598Z"
   },
   {
    "duration": 71,
    "start_time": "2025-01-23T10:50:52.638Z"
   },
   {
    "duration": 29,
    "start_time": "2025-01-23T10:50:52.711Z"
   },
   {
    "duration": 98,
    "start_time": "2025-01-23T10:50:52.742Z"
   },
   {
    "duration": 14,
    "start_time": "2025-01-23T10:50:52.841Z"
   },
   {
    "duration": 11,
    "start_time": "2025-01-23T10:50:52.856Z"
   },
   {
    "duration": 4,
    "start_time": "2025-01-23T10:50:52.869Z"
   },
   {
    "duration": 33,
    "start_time": "2025-01-23T10:50:52.875Z"
   },
   {
    "duration": 7,
    "start_time": "2025-01-23T10:50:52.910Z"
   },
   {
    "duration": 4,
    "start_time": "2025-01-23T10:50:52.918Z"
   },
   {
    "duration": 5,
    "start_time": "2025-01-23T10:50:52.924Z"
   },
   {
    "duration": 18,
    "start_time": "2025-01-23T10:50:52.930Z"
   },
   {
    "duration": 21,
    "start_time": "2025-01-23T10:50:52.950Z"
   },
   {
    "duration": 4,
    "start_time": "2025-01-23T10:50:52.973Z"
   },
   {
    "duration": 25,
    "start_time": "2025-01-23T10:50:52.979Z"
   },
   {
    "duration": 16,
    "start_time": "2025-01-23T10:50:53.006Z"
   },
   {
    "duration": 28,
    "start_time": "2025-01-23T10:50:53.023Z"
   },
   {
    "duration": 21,
    "start_time": "2025-01-23T10:50:53.053Z"
   },
   {
    "duration": 22,
    "start_time": "2025-01-23T10:50:53.076Z"
   },
   {
    "duration": 14,
    "start_time": "2025-01-23T10:50:53.100Z"
   },
   {
    "duration": 8,
    "start_time": "2025-01-23T10:50:53.116Z"
   },
   {
    "duration": 10,
    "start_time": "2025-01-23T10:50:53.126Z"
   },
   {
    "duration": 35,
    "start_time": "2025-01-23T10:50:53.138Z"
   },
   {
    "duration": 30,
    "start_time": "2025-01-23T10:50:53.175Z"
   },
   {
    "duration": 17,
    "start_time": "2025-01-23T10:50:53.206Z"
   },
   {
    "duration": 6,
    "start_time": "2025-01-23T10:50:53.227Z"
   },
   {
    "duration": 15,
    "start_time": "2025-01-23T10:50:53.234Z"
   },
   {
    "duration": 23,
    "start_time": "2025-01-23T10:50:53.251Z"
   },
   {
    "duration": 5,
    "start_time": "2025-01-23T10:50:53.275Z"
   },
   {
    "duration": 3,
    "start_time": "2025-01-23T10:50:53.282Z"
   },
   {
    "duration": 6,
    "start_time": "2025-01-23T10:50:53.287Z"
   },
   {
    "duration": 20,
    "start_time": "2025-01-23T10:50:53.294Z"
   },
   {
    "duration": 81,
    "start_time": "2025-01-23T10:51:13.402Z"
   },
   {
    "duration": 7,
    "start_time": "2025-01-23T10:57:09.252Z"
   },
   {
    "duration": 374,
    "start_time": "2025-01-23T13:27:58.170Z"
   },
   {
    "duration": 195,
    "start_time": "2025-01-23T13:27:58.545Z"
   },
   {
    "duration": 23,
    "start_time": "2025-01-23T13:27:58.742Z"
   },
   {
    "duration": 26,
    "start_time": "2025-01-23T13:27:58.767Z"
   },
   {
    "duration": 3,
    "start_time": "2025-01-23T13:27:58.794Z"
   },
   {
    "duration": 4,
    "start_time": "2025-01-23T13:27:58.798Z"
   },
   {
    "duration": 5,
    "start_time": "2025-01-23T13:27:58.803Z"
   },
   {
    "duration": 6,
    "start_time": "2025-01-23T13:27:58.809Z"
   },
   {
    "duration": 4,
    "start_time": "2025-01-23T13:27:58.816Z"
   },
   {
    "duration": 7,
    "start_time": "2025-01-23T13:27:58.822Z"
   },
   {
    "duration": 34,
    "start_time": "2025-01-23T13:27:58.830Z"
   },
   {
    "duration": 6,
    "start_time": "2025-01-23T13:27:58.865Z"
   },
   {
    "duration": 7,
    "start_time": "2025-01-23T13:27:58.872Z"
   },
   {
    "duration": 6,
    "start_time": "2025-01-23T13:27:58.881Z"
   },
   {
    "duration": 5,
    "start_time": "2025-01-23T13:27:58.888Z"
   },
   {
    "duration": 53,
    "start_time": "2025-01-23T13:27:58.895Z"
   },
   {
    "duration": 41,
    "start_time": "2025-01-23T13:27:58.950Z"
   },
   {
    "duration": 35,
    "start_time": "2025-01-23T13:27:58.992Z"
   },
   {
    "duration": 44,
    "start_time": "2025-01-23T13:27:59.028Z"
   },
   {
    "duration": 11,
    "start_time": "2025-01-23T13:27:59.074Z"
   },
   {
    "duration": 40,
    "start_time": "2025-01-23T13:27:59.086Z"
   },
   {
    "duration": 18,
    "start_time": "2025-01-23T13:27:59.127Z"
   },
   {
    "duration": 30,
    "start_time": "2025-01-23T13:27:59.146Z"
   },
   {
    "duration": 44,
    "start_time": "2025-01-23T13:27:59.177Z"
   },
   {
    "duration": 28,
    "start_time": "2025-01-23T13:27:59.222Z"
   },
   {
    "duration": 28,
    "start_time": "2025-01-23T13:27:59.251Z"
   },
   {
    "duration": 30,
    "start_time": "2025-01-23T13:27:59.281Z"
   },
   {
    "duration": 27,
    "start_time": "2025-01-23T13:27:59.314Z"
   },
   {
    "duration": 57,
    "start_time": "2025-01-23T13:27:59.343Z"
   },
   {
    "duration": 24,
    "start_time": "2025-01-23T13:27:59.402Z"
   },
   {
    "duration": 24,
    "start_time": "2025-01-23T13:27:59.428Z"
   },
   {
    "duration": 38,
    "start_time": "2025-01-23T13:27:59.465Z"
   },
   {
    "duration": 39,
    "start_time": "2025-01-23T13:27:59.505Z"
   },
   {
    "duration": 61,
    "start_time": "2025-01-23T13:27:59.546Z"
   },
   {
    "duration": 22,
    "start_time": "2025-01-23T13:27:59.608Z"
   },
   {
    "duration": 20,
    "start_time": "2025-01-23T13:27:59.631Z"
   },
   {
    "duration": 21,
    "start_time": "2025-01-23T13:27:59.665Z"
   },
   {
    "duration": 13,
    "start_time": "2025-01-23T13:27:59.688Z"
   },
   {
    "duration": 28,
    "start_time": "2025-01-23T13:27:59.702Z"
   },
   {
    "duration": 65,
    "start_time": "2025-01-23T13:27:59.731Z"
   },
   {
    "duration": 6,
    "start_time": "2025-01-23T13:27:59.798Z"
   },
   {
    "duration": 5,
    "start_time": "2025-01-23T13:27:59.805Z"
   },
   {
    "duration": 13,
    "start_time": "2025-01-23T13:27:59.811Z"
   },
   {
    "duration": 4,
    "start_time": "2025-01-23T13:27:59.825Z"
   },
   {
    "duration": 3,
    "start_time": "2025-01-23T13:27:59.830Z"
   },
   {
    "duration": 4,
    "start_time": "2025-01-23T13:27:59.834Z"
   },
   {
    "duration": 8,
    "start_time": "2025-01-23T13:27:59.839Z"
   },
   {
    "duration": 434,
    "start_time": "2025-01-23T15:53:39.266Z"
   },
   {
    "duration": 101,
    "start_time": "2025-01-23T15:53:39.702Z"
   },
   {
    "duration": 16,
    "start_time": "2025-01-23T15:53:39.804Z"
   },
   {
    "duration": 47,
    "start_time": "2025-01-23T15:53:39.822Z"
   },
   {
    "duration": 3,
    "start_time": "2025-01-23T15:53:39.871Z"
   },
   {
    "duration": 4,
    "start_time": "2025-01-23T15:53:39.876Z"
   },
   {
    "duration": 12,
    "start_time": "2025-01-23T15:53:39.881Z"
   },
   {
    "duration": 10,
    "start_time": "2025-01-23T15:53:39.894Z"
   },
   {
    "duration": 12,
    "start_time": "2025-01-23T15:53:39.905Z"
   },
   {
    "duration": 12,
    "start_time": "2025-01-23T15:53:39.919Z"
   },
   {
    "duration": 15,
    "start_time": "2025-01-23T15:53:39.933Z"
   },
   {
    "duration": 4,
    "start_time": "2025-01-23T15:53:39.950Z"
   },
   {
    "duration": 17,
    "start_time": "2025-01-23T15:53:39.955Z"
   },
   {
    "duration": 9,
    "start_time": "2025-01-23T15:53:39.974Z"
   },
   {
    "duration": 19,
    "start_time": "2025-01-23T15:53:39.984Z"
   },
   {
    "duration": 23,
    "start_time": "2025-01-23T15:53:40.004Z"
   },
   {
    "duration": 15,
    "start_time": "2025-01-23T15:53:40.029Z"
   },
   {
    "duration": 12,
    "start_time": "2025-01-23T15:53:40.046Z"
   },
   {
    "duration": 23,
    "start_time": "2025-01-23T15:53:40.060Z"
   },
   {
    "duration": 24,
    "start_time": "2025-01-23T15:53:40.085Z"
   },
   {
    "duration": 11,
    "start_time": "2025-01-23T15:53:40.111Z"
   },
   {
    "duration": 5,
    "start_time": "2025-01-23T15:53:40.124Z"
   },
   {
    "duration": 11,
    "start_time": "2025-01-23T15:53:40.131Z"
   },
   {
    "duration": 14,
    "start_time": "2025-01-23T15:53:40.144Z"
   },
   {
    "duration": 7,
    "start_time": "2025-01-23T15:53:40.163Z"
   },
   {
    "duration": 9,
    "start_time": "2025-01-23T15:53:40.172Z"
   },
   {
    "duration": 23,
    "start_time": "2025-01-23T15:53:40.183Z"
   },
   {
    "duration": 6,
    "start_time": "2025-01-23T15:53:40.210Z"
   },
   {
    "duration": 5,
    "start_time": "2025-01-23T15:53:40.218Z"
   },
   {
    "duration": 5,
    "start_time": "2025-01-23T15:53:40.224Z"
   },
   {
    "duration": 15,
    "start_time": "2025-01-23T15:53:40.231Z"
   },
   {
    "duration": 18,
    "start_time": "2025-01-23T15:53:40.269Z"
   },
   {
    "duration": 15,
    "start_time": "2025-01-23T15:53:40.288Z"
   },
   {
    "duration": 33,
    "start_time": "2025-01-23T15:53:40.305Z"
   },
   {
    "duration": 14,
    "start_time": "2025-01-23T15:53:40.340Z"
   },
   {
    "duration": 27,
    "start_time": "2025-01-23T15:53:40.356Z"
   },
   {
    "duration": 8,
    "start_time": "2025-01-23T15:53:40.384Z"
   },
   {
    "duration": 6,
    "start_time": "2025-01-23T15:53:40.394Z"
   },
   {
    "duration": 5,
    "start_time": "2025-01-23T15:53:40.402Z"
   },
   {
    "duration": 13,
    "start_time": "2025-01-23T15:53:40.408Z"
   },
   {
    "duration": 7,
    "start_time": "2025-01-23T15:53:40.422Z"
   },
   {
    "duration": 41,
    "start_time": "2025-01-23T15:53:40.431Z"
   },
   {
    "duration": 17,
    "start_time": "2025-01-23T15:53:40.475Z"
   },
   {
    "duration": 11,
    "start_time": "2025-01-23T15:53:40.494Z"
   },
   {
    "duration": 4,
    "start_time": "2025-01-23T15:53:40.507Z"
   },
   {
    "duration": 8,
    "start_time": "2025-01-23T15:53:40.513Z"
   },
   {
    "duration": 6,
    "start_time": "2025-01-23T15:53:40.522Z"
   },
   {
    "duration": 414,
    "start_time": "2025-01-23T15:54:35.085Z"
   },
   {
    "duration": 89,
    "start_time": "2025-01-23T15:54:35.500Z"
   },
   {
    "duration": 17,
    "start_time": "2025-01-23T15:54:35.590Z"
   },
   {
    "duration": 37,
    "start_time": "2025-01-23T15:54:35.608Z"
   },
   {
    "duration": 9,
    "start_time": "2025-01-23T15:54:35.647Z"
   },
   {
    "duration": 11,
    "start_time": "2025-01-23T15:54:35.657Z"
   },
   {
    "duration": 19,
    "start_time": "2025-01-23T15:54:35.670Z"
   },
   {
    "duration": 31,
    "start_time": "2025-01-23T15:54:35.691Z"
   },
   {
    "duration": 30,
    "start_time": "2025-01-23T15:54:35.723Z"
   },
   {
    "duration": 92,
    "start_time": "2025-01-23T15:54:35.755Z"
   },
   {
    "duration": 7,
    "start_time": "2025-01-23T15:54:35.849Z"
   },
   {
    "duration": 23,
    "start_time": "2025-01-23T15:54:35.858Z"
   },
   {
    "duration": 42,
    "start_time": "2025-01-23T15:54:35.883Z"
   },
   {
    "duration": 46,
    "start_time": "2025-01-23T15:54:35.930Z"
   },
   {
    "duration": 49,
    "start_time": "2025-01-23T15:54:35.978Z"
   },
   {
    "duration": 10,
    "start_time": "2025-01-23T15:54:36.029Z"
   },
   {
    "duration": 34,
    "start_time": "2025-01-23T15:54:36.041Z"
   },
   {
    "duration": 28,
    "start_time": "2025-01-23T15:54:36.077Z"
   },
   {
    "duration": 42,
    "start_time": "2025-01-23T15:54:36.106Z"
   },
   {
    "duration": 4,
    "start_time": "2025-01-23T15:54:36.150Z"
   },
   {
    "duration": 36,
    "start_time": "2025-01-23T15:54:36.156Z"
   },
   {
    "duration": 26,
    "start_time": "2025-01-23T15:54:36.194Z"
   },
   {
    "duration": 20,
    "start_time": "2025-01-23T15:54:36.222Z"
   },
   {
    "duration": 17,
    "start_time": "2025-01-23T15:54:36.244Z"
   },
   {
    "duration": 14,
    "start_time": "2025-01-23T15:54:36.263Z"
   },
   {
    "duration": 30,
    "start_time": "2025-01-23T15:54:36.279Z"
   },
   {
    "duration": 21,
    "start_time": "2025-01-23T15:54:36.311Z"
   },
   {
    "duration": 12,
    "start_time": "2025-01-23T15:54:36.334Z"
   },
   {
    "duration": 7,
    "start_time": "2025-01-23T15:54:36.347Z"
   },
   {
    "duration": 6,
    "start_time": "2025-01-23T15:54:36.357Z"
   },
   {
    "duration": 10,
    "start_time": "2025-01-23T15:54:36.365Z"
   },
   {
    "duration": 34,
    "start_time": "2025-01-23T15:54:36.377Z"
   },
   {
    "duration": 25,
    "start_time": "2025-01-23T15:54:36.413Z"
   },
   {
    "duration": 20,
    "start_time": "2025-01-23T15:54:36.440Z"
   },
   {
    "duration": 15,
    "start_time": "2025-01-23T15:54:36.461Z"
   },
   {
    "duration": 9,
    "start_time": "2025-01-23T15:54:36.477Z"
   },
   {
    "duration": 47,
    "start_time": "2025-01-23T15:54:36.488Z"
   },
   {
    "duration": 27,
    "start_time": "2025-01-23T15:54:36.537Z"
   },
   {
    "duration": 13,
    "start_time": "2025-01-23T15:54:36.566Z"
   },
   {
    "duration": 42,
    "start_time": "2025-01-23T15:54:36.580Z"
   },
   {
    "duration": 24,
    "start_time": "2025-01-23T15:54:36.626Z"
   },
   {
    "duration": 13,
    "start_time": "2025-01-23T15:54:36.652Z"
   },
   {
    "duration": 23,
    "start_time": "2025-01-23T15:54:36.667Z"
   },
   {
    "duration": 11,
    "start_time": "2025-01-23T15:54:36.692Z"
   },
   {
    "duration": 11,
    "start_time": "2025-01-23T15:54:36.704Z"
   },
   {
    "duration": 19,
    "start_time": "2025-01-23T15:54:36.717Z"
   },
   {
    "duration": 12,
    "start_time": "2025-01-23T15:54:36.737Z"
   },
   {
    "duration": 443,
    "start_time": "2025-01-23T15:55:52.644Z"
   },
   {
    "duration": 98,
    "start_time": "2025-01-23T15:55:53.089Z"
   },
   {
    "duration": 18,
    "start_time": "2025-01-23T15:55:53.188Z"
   },
   {
    "duration": 21,
    "start_time": "2025-01-23T15:55:53.208Z"
   },
   {
    "duration": 3,
    "start_time": "2025-01-23T15:55:53.231Z"
   },
   {
    "duration": 34,
    "start_time": "2025-01-23T15:55:53.236Z"
   },
   {
    "duration": 5,
    "start_time": "2025-01-23T15:55:53.272Z"
   },
   {
    "duration": 11,
    "start_time": "2025-01-23T15:55:53.279Z"
   },
   {
    "duration": 4,
    "start_time": "2025-01-23T15:55:53.292Z"
   },
   {
    "duration": 8,
    "start_time": "2025-01-23T15:55:53.299Z"
   },
   {
    "duration": 9,
    "start_time": "2025-01-23T15:55:53.309Z"
   },
   {
    "duration": 5,
    "start_time": "2025-01-23T15:55:53.319Z"
   },
   {
    "duration": 9,
    "start_time": "2025-01-23T15:55:53.325Z"
   },
   {
    "duration": 38,
    "start_time": "2025-01-23T15:55:53.335Z"
   },
   {
    "duration": 6,
    "start_time": "2025-01-23T15:55:53.375Z"
   },
   {
    "duration": 9,
    "start_time": "2025-01-23T15:55:53.383Z"
   },
   {
    "duration": 19,
    "start_time": "2025-01-23T15:55:53.393Z"
   },
   {
    "duration": 8,
    "start_time": "2025-01-23T15:55:53.413Z"
   },
   {
    "duration": 14,
    "start_time": "2025-01-23T15:55:53.423Z"
   },
   {
    "duration": 2,
    "start_time": "2025-01-23T15:55:53.439Z"
   },
   {
    "duration": 33,
    "start_time": "2025-01-23T15:55:53.442Z"
   },
   {
    "duration": 4,
    "start_time": "2025-01-23T15:55:53.477Z"
   },
   {
    "duration": 7,
    "start_time": "2025-01-23T15:55:53.483Z"
   },
   {
    "duration": 6,
    "start_time": "2025-01-23T15:55:53.491Z"
   },
   {
    "duration": 8,
    "start_time": "2025-01-23T15:55:53.498Z"
   },
   {
    "duration": 4,
    "start_time": "2025-01-23T15:55:53.508Z"
   },
   {
    "duration": 13,
    "start_time": "2025-01-23T15:55:53.513Z"
   },
   {
    "duration": 4,
    "start_time": "2025-01-23T15:55:53.529Z"
   },
   {
    "duration": 39,
    "start_time": "2025-01-23T15:55:53.534Z"
   },
   {
    "duration": 65,
    "start_time": "2025-01-23T15:55:53.575Z"
   },
   {
    "duration": 9,
    "start_time": "2025-01-23T15:55:53.641Z"
   },
   {
    "duration": 7,
    "start_time": "2025-01-23T15:55:53.651Z"
   },
   {
    "duration": 9,
    "start_time": "2025-01-23T15:55:53.659Z"
   },
   {
    "duration": 21,
    "start_time": "2025-01-23T15:55:53.670Z"
   },
   {
    "duration": 13,
    "start_time": "2025-01-23T15:55:53.692Z"
   },
   {
    "duration": 35,
    "start_time": "2025-01-23T15:55:53.706Z"
   },
   {
    "duration": 112,
    "start_time": "2025-01-23T15:55:53.743Z"
   },
   {
    "duration": 27,
    "start_time": "2025-01-23T15:55:53.857Z"
   },
   {
    "duration": 5,
    "start_time": "2025-01-23T15:55:53.886Z"
   },
   {
    "duration": 14,
    "start_time": "2025-01-23T15:55:53.893Z"
   },
   {
    "duration": 11,
    "start_time": "2025-01-23T15:55:53.908Z"
   },
   {
    "duration": 15,
    "start_time": "2025-01-23T15:55:53.920Z"
   },
   {
    "duration": 15,
    "start_time": "2025-01-23T15:55:53.937Z"
   },
   {
    "duration": 5,
    "start_time": "2025-01-23T15:55:53.954Z"
   },
   {
    "duration": 3,
    "start_time": "2025-01-23T15:55:53.971Z"
   },
   {
    "duration": 5,
    "start_time": "2025-01-23T15:55:53.975Z"
   },
   {
    "duration": 5,
    "start_time": "2025-01-23T15:55:53.982Z"
   },
   {
    "duration": 28,
    "start_time": "2025-01-23T15:58:29.347Z"
   },
   {
    "duration": 389,
    "start_time": "2025-01-23T15:58:40.230Z"
   },
   {
    "duration": 102,
    "start_time": "2025-01-23T15:58:40.622Z"
   },
   {
    "duration": 18,
    "start_time": "2025-01-23T15:58:40.726Z"
   },
   {
    "duration": 21,
    "start_time": "2025-01-23T15:58:40.746Z"
   },
   {
    "duration": 45,
    "start_time": "2025-01-23T15:58:40.769Z"
   },
   {
    "duration": 30,
    "start_time": "2025-01-23T15:58:40.815Z"
   },
   {
    "duration": 9,
    "start_time": "2025-01-23T15:58:40.847Z"
   },
   {
    "duration": 11,
    "start_time": "2025-01-23T15:58:40.857Z"
   },
   {
    "duration": 11,
    "start_time": "2025-01-23T15:58:40.870Z"
   },
   {
    "duration": 13,
    "start_time": "2025-01-23T15:58:40.883Z"
   },
   {
    "duration": 8,
    "start_time": "2025-01-23T15:58:40.898Z"
   },
   {
    "duration": 4,
    "start_time": "2025-01-23T15:58:40.908Z"
   },
   {
    "duration": 14,
    "start_time": "2025-01-23T15:58:40.914Z"
   },
   {
    "duration": 11,
    "start_time": "2025-01-23T15:58:40.933Z"
   },
   {
    "duration": 8,
    "start_time": "2025-01-23T15:58:40.946Z"
   },
   {
    "duration": 7,
    "start_time": "2025-01-23T15:58:40.970Z"
   },
   {
    "duration": 22,
    "start_time": "2025-01-23T15:58:40.979Z"
   },
   {
    "duration": 11,
    "start_time": "2025-01-23T15:58:41.003Z"
   },
   {
    "duration": 12,
    "start_time": "2025-01-23T15:58:41.016Z"
   },
   {
    "duration": 3,
    "start_time": "2025-01-23T15:58:41.030Z"
   },
   {
    "duration": 39,
    "start_time": "2025-01-23T15:58:41.034Z"
   },
   {
    "duration": 4,
    "start_time": "2025-01-23T15:58:41.075Z"
   },
   {
    "duration": 8,
    "start_time": "2025-01-23T15:58:41.081Z"
   },
   {
    "duration": 17,
    "start_time": "2025-01-23T15:58:41.091Z"
   },
   {
    "duration": 5,
    "start_time": "2025-01-23T15:58:41.110Z"
   },
   {
    "duration": 5,
    "start_time": "2025-01-23T15:58:41.117Z"
   },
   {
    "duration": 16,
    "start_time": "2025-01-23T15:58:41.123Z"
   },
   {
    "duration": 31,
    "start_time": "2025-01-23T15:58:41.141Z"
   },
   {
    "duration": 127,
    "start_time": "2025-01-23T15:58:41.174Z"
   },
   {
    "duration": 6,
    "start_time": "2025-01-23T15:58:41.303Z"
   },
   {
    "duration": 10,
    "start_time": "2025-01-23T15:58:41.310Z"
   },
   {
    "duration": 5,
    "start_time": "2025-01-23T15:58:41.322Z"
   },
   {
    "duration": 11,
    "start_time": "2025-01-23T15:58:41.329Z"
   },
   {
    "duration": 26,
    "start_time": "2025-01-23T15:58:41.342Z"
   },
   {
    "duration": 14,
    "start_time": "2025-01-23T15:58:41.369Z"
   },
   {
    "duration": 40,
    "start_time": "2025-01-23T15:58:41.385Z"
   },
   {
    "duration": 8,
    "start_time": "2025-01-23T15:58:41.427Z"
   },
   {
    "duration": 35,
    "start_time": "2025-01-23T15:58:41.437Z"
   },
   {
    "duration": 8,
    "start_time": "2025-01-23T15:58:41.474Z"
   },
   {
    "duration": 17,
    "start_time": "2025-01-23T15:58:41.484Z"
   },
   {
    "duration": 8,
    "start_time": "2025-01-23T15:58:41.504Z"
   },
   {
    "duration": 8,
    "start_time": "2025-01-23T15:58:41.513Z"
   },
   {
    "duration": 49,
    "start_time": "2025-01-23T15:58:41.523Z"
   },
   {
    "duration": 97,
    "start_time": "2025-01-23T15:58:41.574Z"
   },
   {
    "duration": 5,
    "start_time": "2025-01-23T15:58:41.673Z"
   },
   {
    "duration": 6,
    "start_time": "2025-01-23T15:58:41.679Z"
   },
   {
    "duration": 35,
    "start_time": "2025-01-23T15:58:41.687Z"
   },
   {
    "duration": 389,
    "start_time": "2025-01-23T16:00:34.808Z"
   },
   {
    "duration": 101,
    "start_time": "2025-01-23T16:00:35.199Z"
   },
   {
    "duration": 34,
    "start_time": "2025-01-23T16:00:35.302Z"
   },
   {
    "duration": 20,
    "start_time": "2025-01-23T16:00:35.339Z"
   },
   {
    "duration": 24,
    "start_time": "2025-01-23T16:00:35.360Z"
   },
   {
    "duration": 38,
    "start_time": "2025-01-23T16:00:35.386Z"
   },
   {
    "duration": 23,
    "start_time": "2025-01-23T16:00:35.425Z"
   },
   {
    "duration": 15,
    "start_time": "2025-01-23T16:00:35.449Z"
   },
   {
    "duration": 41,
    "start_time": "2025-01-23T16:00:35.466Z"
   },
   {
    "duration": 15,
    "start_time": "2025-01-23T16:00:35.511Z"
   },
   {
    "duration": 27,
    "start_time": "2025-01-23T16:00:35.528Z"
   },
   {
    "duration": 154,
    "start_time": "2025-01-23T16:00:35.557Z"
   },
   {
    "duration": 38,
    "start_time": "2025-01-23T16:00:35.713Z"
   },
   {
    "duration": 41,
    "start_time": "2025-01-23T16:00:35.754Z"
   },
   {
    "duration": 90,
    "start_time": "2025-01-23T16:00:35.797Z"
   },
   {
    "duration": 41,
    "start_time": "2025-01-23T16:00:35.890Z"
   },
   {
    "duration": 40,
    "start_time": "2025-01-23T16:00:35.933Z"
   },
   {
    "duration": 51,
    "start_time": "2025-01-23T16:00:35.975Z"
   },
   {
    "duration": 32,
    "start_time": "2025-01-23T16:00:36.028Z"
   },
   {
    "duration": 20,
    "start_time": "2025-01-23T16:00:36.062Z"
   },
   {
    "duration": 20,
    "start_time": "2025-01-23T16:00:36.084Z"
   },
   {
    "duration": 45,
    "start_time": "2025-01-23T16:00:36.106Z"
   },
   {
    "duration": 21,
    "start_time": "2025-01-23T16:00:36.153Z"
   },
   {
    "duration": 64,
    "start_time": "2025-01-23T16:00:36.175Z"
   },
   {
    "duration": 15,
    "start_time": "2025-01-23T16:00:36.240Z"
   },
   {
    "duration": 13,
    "start_time": "2025-01-23T16:00:36.257Z"
   },
   {
    "duration": 34,
    "start_time": "2025-01-23T16:00:36.272Z"
   },
   {
    "duration": 21,
    "start_time": "2025-01-23T16:00:36.309Z"
   },
   {
    "duration": 10,
    "start_time": "2025-01-23T16:00:36.332Z"
   },
   {
    "duration": 10,
    "start_time": "2025-01-23T16:00:36.344Z"
   },
   {
    "duration": 12,
    "start_time": "2025-01-23T16:00:36.355Z"
   },
   {
    "duration": 48,
    "start_time": "2025-01-23T16:00:36.369Z"
   },
   {
    "duration": 12,
    "start_time": "2025-01-23T16:00:36.419Z"
   },
   {
    "duration": 35,
    "start_time": "2025-01-23T16:00:36.432Z"
   },
   {
    "duration": 14,
    "start_time": "2025-01-23T16:00:36.470Z"
   },
   {
    "duration": 75,
    "start_time": "2025-01-23T16:00:36.486Z"
   },
   {
    "duration": 0,
    "start_time": "2025-01-23T16:00:36.570Z"
   },
   {
    "duration": 0,
    "start_time": "2025-01-23T16:00:36.571Z"
   },
   {
    "duration": 0,
    "start_time": "2025-01-23T16:00:36.572Z"
   },
   {
    "duration": 0,
    "start_time": "2025-01-23T16:00:36.573Z"
   },
   {
    "duration": 0,
    "start_time": "2025-01-23T16:00:36.574Z"
   },
   {
    "duration": 0,
    "start_time": "2025-01-23T16:00:36.576Z"
   },
   {
    "duration": 0,
    "start_time": "2025-01-23T16:00:36.577Z"
   },
   {
    "duration": 0,
    "start_time": "2025-01-23T16:00:36.578Z"
   },
   {
    "duration": 0,
    "start_time": "2025-01-23T16:00:36.579Z"
   },
   {
    "duration": 0,
    "start_time": "2025-01-23T16:00:36.580Z"
   },
   {
    "duration": 0,
    "start_time": "2025-01-23T16:00:36.581Z"
   },
   {
    "duration": 433,
    "start_time": "2025-01-23T16:01:03.797Z"
   },
   {
    "duration": 97,
    "start_time": "2025-01-23T16:01:04.232Z"
   },
   {
    "duration": 16,
    "start_time": "2025-01-23T16:01:04.331Z"
   },
   {
    "duration": 43,
    "start_time": "2025-01-23T16:01:04.349Z"
   },
   {
    "duration": 9,
    "start_time": "2025-01-23T16:01:04.394Z"
   },
   {
    "duration": 19,
    "start_time": "2025-01-23T16:01:04.404Z"
   },
   {
    "duration": 14,
    "start_time": "2025-01-23T16:01:04.424Z"
   },
   {
    "duration": 8,
    "start_time": "2025-01-23T16:01:04.440Z"
   },
   {
    "duration": 4,
    "start_time": "2025-01-23T16:01:04.450Z"
   },
   {
    "duration": 9,
    "start_time": "2025-01-23T16:01:04.456Z"
   },
   {
    "duration": 49,
    "start_time": "2025-01-23T16:01:04.467Z"
   },
   {
    "duration": 31,
    "start_time": "2025-01-23T16:01:04.518Z"
   },
   {
    "duration": 28,
    "start_time": "2025-01-23T16:01:04.551Z"
   },
   {
    "duration": 63,
    "start_time": "2025-01-23T16:01:04.580Z"
   },
   {
    "duration": 36,
    "start_time": "2025-01-23T16:01:04.645Z"
   },
   {
    "duration": 103,
    "start_time": "2025-01-23T16:01:04.683Z"
   },
   {
    "duration": 116,
    "start_time": "2025-01-23T16:01:04.788Z"
   },
   {
    "duration": 18,
    "start_time": "2025-01-23T16:01:04.906Z"
   },
   {
    "duration": 18,
    "start_time": "2025-01-23T16:01:04.926Z"
   },
   {
    "duration": 11,
    "start_time": "2025-01-23T16:01:04.946Z"
   },
   {
    "duration": 17,
    "start_time": "2025-01-23T16:01:04.958Z"
   },
   {
    "duration": 11,
    "start_time": "2025-01-23T16:01:04.976Z"
   },
   {
    "duration": 21,
    "start_time": "2025-01-23T16:01:04.988Z"
   },
   {
    "duration": 30,
    "start_time": "2025-01-23T16:01:05.011Z"
   },
   {
    "duration": 6,
    "start_time": "2025-01-23T16:01:05.042Z"
   },
   {
    "duration": 20,
    "start_time": "2025-01-23T16:01:05.050Z"
   },
   {
    "duration": 30,
    "start_time": "2025-01-23T16:01:05.071Z"
   },
   {
    "duration": 24,
    "start_time": "2025-01-23T16:01:05.105Z"
   },
   {
    "duration": 7,
    "start_time": "2025-01-23T16:01:05.130Z"
   },
   {
    "duration": 7,
    "start_time": "2025-01-23T16:01:05.139Z"
   },
   {
    "duration": 155,
    "start_time": "2025-01-23T16:01:05.148Z"
   },
   {
    "duration": 30,
    "start_time": "2025-01-23T16:01:05.304Z"
   },
   {
    "duration": 17,
    "start_time": "2025-01-23T16:01:05.336Z"
   },
   {
    "duration": 36,
    "start_time": "2025-01-23T16:01:05.355Z"
   },
   {
    "duration": 14,
    "start_time": "2025-01-23T16:01:05.392Z"
   },
   {
    "duration": 52,
    "start_time": "2025-01-23T16:01:05.408Z"
   },
   {
    "duration": 8,
    "start_time": "2025-01-23T16:01:05.471Z"
   },
   {
    "duration": 22,
    "start_time": "2025-01-23T16:01:05.480Z"
   },
   {
    "duration": 14,
    "start_time": "2025-01-23T16:01:05.503Z"
   },
   {
    "duration": 15,
    "start_time": "2025-01-23T16:01:05.518Z"
   },
   {
    "duration": 14,
    "start_time": "2025-01-23T16:01:05.535Z"
   },
   {
    "duration": 6,
    "start_time": "2025-01-23T16:01:05.550Z"
   },
   {
    "duration": 22,
    "start_time": "2025-01-23T16:01:05.558Z"
   },
   {
    "duration": 105,
    "start_time": "2025-01-23T16:01:05.581Z"
   },
   {
    "duration": 47,
    "start_time": "2025-01-23T16:01:05.688Z"
   },
   {
    "duration": 119,
    "start_time": "2025-01-23T16:01:05.738Z"
   },
   {
    "duration": 45,
    "start_time": "2025-01-23T16:01:05.859Z"
   },
   {
    "duration": 15,
    "start_time": "2025-01-23T16:04:33.968Z"
   },
   {
    "duration": 391,
    "start_time": "2025-01-23T16:05:11.099Z"
   },
   {
    "duration": 100,
    "start_time": "2025-01-23T16:05:11.491Z"
   },
   {
    "duration": 17,
    "start_time": "2025-01-23T16:05:11.593Z"
   },
   {
    "duration": 121,
    "start_time": "2025-01-23T16:05:11.612Z"
   },
   {
    "duration": 4,
    "start_time": "2025-01-23T16:05:11.735Z"
   },
   {
    "duration": 4,
    "start_time": "2025-01-23T16:05:11.740Z"
   },
   {
    "duration": 6,
    "start_time": "2025-01-23T16:05:11.746Z"
   },
   {
    "duration": 12,
    "start_time": "2025-01-23T16:05:11.753Z"
   },
   {
    "duration": 4,
    "start_time": "2025-01-23T16:05:11.767Z"
   },
   {
    "duration": 10,
    "start_time": "2025-01-23T16:05:11.772Z"
   },
   {
    "duration": 15,
    "start_time": "2025-01-23T16:05:11.783Z"
   },
   {
    "duration": 88,
    "start_time": "2025-01-23T16:05:11.800Z"
   },
   {
    "duration": 11,
    "start_time": "2025-01-23T16:05:11.889Z"
   },
   {
    "duration": 6,
    "start_time": "2025-01-23T16:05:11.905Z"
   },
   {
    "duration": 7,
    "start_time": "2025-01-23T16:05:11.913Z"
   },
   {
    "duration": 7,
    "start_time": "2025-01-23T16:05:11.921Z"
   },
   {
    "duration": 16,
    "start_time": "2025-01-23T16:05:11.929Z"
   },
   {
    "duration": 9,
    "start_time": "2025-01-23T16:05:11.947Z"
   },
   {
    "duration": 14,
    "start_time": "2025-01-23T16:05:11.971Z"
   },
   {
    "duration": 3,
    "start_time": "2025-01-23T16:05:11.986Z"
   },
   {
    "duration": 11,
    "start_time": "2025-01-23T16:05:11.991Z"
   },
   {
    "duration": 7,
    "start_time": "2025-01-23T16:05:12.004Z"
   },
   {
    "duration": 8,
    "start_time": "2025-01-23T16:05:12.012Z"
   },
   {
    "duration": 6,
    "start_time": "2025-01-23T16:05:12.021Z"
   },
   {
    "duration": 3,
    "start_time": "2025-01-23T16:05:12.029Z"
   },
   {
    "duration": 45,
    "start_time": "2025-01-23T16:05:12.034Z"
   },
   {
    "duration": 21,
    "start_time": "2025-01-23T16:05:12.080Z"
   },
   {
    "duration": 7,
    "start_time": "2025-01-23T16:05:12.102Z"
   },
   {
    "duration": 20,
    "start_time": "2025-01-23T16:05:12.110Z"
   },
   {
    "duration": 15,
    "start_time": "2025-01-23T16:05:12.132Z"
   },
   {
    "duration": 25,
    "start_time": "2025-01-23T16:05:12.148Z"
   },
   {
    "duration": 19,
    "start_time": "2025-01-23T16:05:12.175Z"
   },
   {
    "duration": 28,
    "start_time": "2025-01-23T16:05:12.196Z"
   },
   {
    "duration": 22,
    "start_time": "2025-01-23T16:05:12.226Z"
   },
   {
    "duration": 14,
    "start_time": "2025-01-23T16:05:12.250Z"
   },
   {
    "duration": 10,
    "start_time": "2025-01-23T16:05:12.266Z"
   },
   {
    "duration": 10,
    "start_time": "2025-01-23T16:05:12.278Z"
   },
   {
    "duration": 7,
    "start_time": "2025-01-23T16:05:12.289Z"
   },
   {
    "duration": 14,
    "start_time": "2025-01-23T16:05:12.298Z"
   },
   {
    "duration": 12,
    "start_time": "2025-01-23T16:05:12.314Z"
   },
   {
    "duration": 6,
    "start_time": "2025-01-23T16:05:12.329Z"
   },
   {
    "duration": 6,
    "start_time": "2025-01-23T16:05:12.337Z"
   },
   {
    "duration": 16,
    "start_time": "2025-01-23T16:05:12.372Z"
   },
   {
    "duration": 5,
    "start_time": "2025-01-23T16:05:12.390Z"
   },
   {
    "duration": 5,
    "start_time": "2025-01-23T16:05:12.397Z"
   },
   {
    "duration": 11,
    "start_time": "2025-01-23T16:05:12.404Z"
   },
   {
    "duration": 6,
    "start_time": "2025-01-23T16:05:12.416Z"
   },
   {
    "duration": 12,
    "start_time": "2025-01-23T16:13:23.456Z"
   },
   {
    "duration": 441,
    "start_time": "2025-01-23T16:15:05.841Z"
   },
   {
    "duration": 106,
    "start_time": "2025-01-23T16:15:06.284Z"
   },
   {
    "duration": 19,
    "start_time": "2025-01-23T16:15:06.392Z"
   },
   {
    "duration": 45,
    "start_time": "2025-01-23T16:15:06.413Z"
   },
   {
    "duration": 37,
    "start_time": "2025-01-23T16:15:06.460Z"
   },
   {
    "duration": 30,
    "start_time": "2025-01-23T16:15:06.498Z"
   },
   {
    "duration": 26,
    "start_time": "2025-01-23T16:15:06.530Z"
   },
   {
    "duration": 17,
    "start_time": "2025-01-23T16:15:06.558Z"
   },
   {
    "duration": 32,
    "start_time": "2025-01-23T16:15:06.576Z"
   },
   {
    "duration": 34,
    "start_time": "2025-01-23T16:15:06.610Z"
   },
   {
    "duration": 9,
    "start_time": "2025-01-23T16:15:06.646Z"
   },
   {
    "duration": 4,
    "start_time": "2025-01-23T16:15:06.657Z"
   },
   {
    "duration": 31,
    "start_time": "2025-01-23T16:15:06.662Z"
   },
   {
    "duration": 32,
    "start_time": "2025-01-23T16:15:06.697Z"
   },
   {
    "duration": 20,
    "start_time": "2025-01-23T16:15:06.731Z"
   },
   {
    "duration": 32,
    "start_time": "2025-01-23T16:15:06.753Z"
   },
   {
    "duration": 86,
    "start_time": "2025-01-23T16:15:06.786Z"
   },
   {
    "duration": 99,
    "start_time": "2025-01-23T16:15:06.874Z"
   },
   {
    "duration": 24,
    "start_time": "2025-01-23T16:15:06.975Z"
   },
   {
    "duration": 36,
    "start_time": "2025-01-23T16:15:07.001Z"
   },
   {
    "duration": 44,
    "start_time": "2025-01-23T16:15:07.039Z"
   },
   {
    "duration": 38,
    "start_time": "2025-01-23T16:15:07.084Z"
   },
   {
    "duration": 11,
    "start_time": "2025-01-23T16:15:07.124Z"
   },
   {
    "duration": 8,
    "start_time": "2025-01-23T16:15:07.136Z"
   },
   {
    "duration": 13,
    "start_time": "2025-01-23T16:15:07.146Z"
   },
   {
    "duration": 19,
    "start_time": "2025-01-23T16:15:07.160Z"
   },
   {
    "duration": 17,
    "start_time": "2025-01-23T16:15:07.181Z"
   },
   {
    "duration": 5,
    "start_time": "2025-01-23T16:15:07.200Z"
   },
   {
    "duration": 72,
    "start_time": "2025-01-23T16:15:07.207Z"
   },
   {
    "duration": 109,
    "start_time": "2025-01-23T16:15:07.281Z"
   },
   {
    "duration": 42,
    "start_time": "2025-01-23T16:15:07.392Z"
   },
   {
    "duration": 19,
    "start_time": "2025-01-23T16:15:07.436Z"
   },
   {
    "duration": 10,
    "start_time": "2025-01-23T16:15:07.457Z"
   },
   {
    "duration": 32,
    "start_time": "2025-01-23T16:15:07.468Z"
   },
   {
    "duration": 18,
    "start_time": "2025-01-23T16:15:07.502Z"
   },
   {
    "duration": 26,
    "start_time": "2025-01-23T16:15:07.522Z"
   },
   {
    "duration": 9,
    "start_time": "2025-01-23T16:15:07.550Z"
   },
   {
    "duration": 65,
    "start_time": "2025-01-23T16:15:07.560Z"
   },
   {
    "duration": 6,
    "start_time": "2025-01-23T16:15:07.627Z"
   },
   {
    "duration": 13,
    "start_time": "2025-01-23T16:15:07.634Z"
   },
   {
    "duration": 91,
    "start_time": "2025-01-23T16:15:07.651Z"
   },
   {
    "duration": 8,
    "start_time": "2025-01-23T16:15:07.744Z"
   },
   {
    "duration": 28,
    "start_time": "2025-01-23T16:15:07.754Z"
   },
   {
    "duration": 40,
    "start_time": "2025-01-23T16:15:07.784Z"
   },
   {
    "duration": 82,
    "start_time": "2025-01-23T16:15:07.826Z"
   },
   {
    "duration": 12,
    "start_time": "2025-01-23T16:15:07.909Z"
   },
   {
    "duration": 16,
    "start_time": "2025-01-23T16:15:07.922Z"
   },
   {
    "duration": 430,
    "start_time": "2025-01-23T16:15:24.968Z"
   },
   {
    "duration": 100,
    "start_time": "2025-01-23T16:15:25.400Z"
   },
   {
    "duration": 17,
    "start_time": "2025-01-23T16:15:25.502Z"
   },
   {
    "duration": 20,
    "start_time": "2025-01-23T16:15:25.521Z"
   },
   {
    "duration": 3,
    "start_time": "2025-01-23T16:15:25.543Z"
   },
   {
    "duration": 23,
    "start_time": "2025-01-23T16:15:25.548Z"
   },
   {
    "duration": 7,
    "start_time": "2025-01-23T16:15:25.572Z"
   },
   {
    "duration": 7,
    "start_time": "2025-01-23T16:15:25.581Z"
   },
   {
    "duration": 4,
    "start_time": "2025-01-23T16:15:25.589Z"
   },
   {
    "duration": 9,
    "start_time": "2025-01-23T16:15:25.596Z"
   },
   {
    "duration": 6,
    "start_time": "2025-01-23T16:15:25.607Z"
   },
   {
    "duration": 5,
    "start_time": "2025-01-23T16:15:25.615Z"
   },
   {
    "duration": 50,
    "start_time": "2025-01-23T16:15:25.621Z"
   },
   {
    "duration": 7,
    "start_time": "2025-01-23T16:15:25.672Z"
   },
   {
    "duration": 66,
    "start_time": "2025-01-23T16:15:25.680Z"
   },
   {
    "duration": 23,
    "start_time": "2025-01-23T16:15:25.749Z"
   },
   {
    "duration": 18,
    "start_time": "2025-01-23T16:15:25.775Z"
   },
   {
    "duration": 22,
    "start_time": "2025-01-23T16:15:25.794Z"
   },
   {
    "duration": 103,
    "start_time": "2025-01-23T16:15:25.818Z"
   },
   {
    "duration": 6,
    "start_time": "2025-01-23T16:15:25.923Z"
   },
   {
    "duration": 16,
    "start_time": "2025-01-23T16:15:25.931Z"
   },
   {
    "duration": 4,
    "start_time": "2025-01-23T16:15:25.948Z"
   },
   {
    "duration": 7,
    "start_time": "2025-01-23T16:15:25.953Z"
   },
   {
    "duration": 7,
    "start_time": "2025-01-23T16:15:25.962Z"
   },
   {
    "duration": 3,
    "start_time": "2025-01-23T16:15:25.971Z"
   },
   {
    "duration": 5,
    "start_time": "2025-01-23T16:15:25.976Z"
   },
   {
    "duration": 19,
    "start_time": "2025-01-23T16:15:25.983Z"
   },
   {
    "duration": 5,
    "start_time": "2025-01-23T16:15:26.005Z"
   },
   {
    "duration": 5,
    "start_time": "2025-01-23T16:15:26.012Z"
   },
   {
    "duration": 5,
    "start_time": "2025-01-23T16:15:26.018Z"
   },
   {
    "duration": 10,
    "start_time": "2025-01-23T16:15:26.024Z"
   },
   {
    "duration": 6,
    "start_time": "2025-01-23T16:15:26.035Z"
   },
   {
    "duration": 50,
    "start_time": "2025-01-23T16:15:26.042Z"
   },
   {
    "duration": 19,
    "start_time": "2025-01-23T16:15:26.094Z"
   },
   {
    "duration": 13,
    "start_time": "2025-01-23T16:15:26.114Z"
   },
   {
    "duration": 23,
    "start_time": "2025-01-23T16:15:26.129Z"
   },
   {
    "duration": 10,
    "start_time": "2025-01-23T16:15:26.171Z"
   },
   {
    "duration": 6,
    "start_time": "2025-01-23T16:15:26.183Z"
   },
   {
    "duration": 7,
    "start_time": "2025-01-23T16:15:26.191Z"
   },
   {
    "duration": 14,
    "start_time": "2025-01-23T16:15:26.199Z"
   },
   {
    "duration": 10,
    "start_time": "2025-01-23T16:15:26.215Z"
   },
   {
    "duration": 43,
    "start_time": "2025-01-23T16:15:26.228Z"
   },
   {
    "duration": 18,
    "start_time": "2025-01-23T16:15:26.273Z"
   },
   {
    "duration": 7,
    "start_time": "2025-01-23T16:15:26.293Z"
   },
   {
    "duration": 4,
    "start_time": "2025-01-23T16:15:26.302Z"
   },
   {
    "duration": 5,
    "start_time": "2025-01-23T16:15:26.308Z"
   },
   {
    "duration": 10,
    "start_time": "2025-01-23T16:15:26.314Z"
   },
   {
    "duration": 436,
    "start_time": "2025-01-23T16:17:11.170Z"
   },
   {
    "duration": 93,
    "start_time": "2025-01-23T16:17:11.608Z"
   },
   {
    "duration": 18,
    "start_time": "2025-01-23T16:17:11.702Z"
   },
   {
    "duration": 33,
    "start_time": "2025-01-23T16:17:11.722Z"
   },
   {
    "duration": 3,
    "start_time": "2025-01-23T16:17:11.757Z"
   },
   {
    "duration": 10,
    "start_time": "2025-01-23T16:17:11.762Z"
   },
   {
    "duration": 5,
    "start_time": "2025-01-23T16:17:11.774Z"
   },
   {
    "duration": 7,
    "start_time": "2025-01-23T16:17:11.781Z"
   },
   {
    "duration": 20,
    "start_time": "2025-01-23T16:17:11.790Z"
   },
   {
    "duration": 10,
    "start_time": "2025-01-23T16:17:11.812Z"
   },
   {
    "duration": 69,
    "start_time": "2025-01-23T16:17:11.824Z"
   },
   {
    "duration": 4,
    "start_time": "2025-01-23T16:17:11.894Z"
   },
   {
    "duration": 9,
    "start_time": "2025-01-23T16:17:11.899Z"
   },
   {
    "duration": 6,
    "start_time": "2025-01-23T16:17:11.913Z"
   },
   {
    "duration": 5,
    "start_time": "2025-01-23T16:17:11.920Z"
   },
   {
    "duration": 11,
    "start_time": "2025-01-23T16:17:11.927Z"
   },
   {
    "duration": 17,
    "start_time": "2025-01-23T16:17:11.940Z"
   },
   {
    "duration": 18,
    "start_time": "2025-01-23T16:17:11.958Z"
   },
   {
    "duration": 13,
    "start_time": "2025-01-23T16:17:11.977Z"
   },
   {
    "duration": 5,
    "start_time": "2025-01-23T16:17:11.991Z"
   },
   {
    "duration": 10,
    "start_time": "2025-01-23T16:17:11.997Z"
   },
   {
    "duration": 7,
    "start_time": "2025-01-23T16:17:12.009Z"
   },
   {
    "duration": 8,
    "start_time": "2025-01-23T16:17:12.017Z"
   },
   {
    "duration": 10,
    "start_time": "2025-01-23T16:17:12.027Z"
   },
   {
    "duration": 4,
    "start_time": "2025-01-23T16:17:12.039Z"
   },
   {
    "duration": 31,
    "start_time": "2025-01-23T16:17:12.044Z"
   },
   {
    "duration": 14,
    "start_time": "2025-01-23T16:17:12.077Z"
   },
   {
    "duration": 5,
    "start_time": "2025-01-23T16:17:12.092Z"
   },
   {
    "duration": 16,
    "start_time": "2025-01-23T16:17:12.098Z"
   },
   {
    "duration": 13,
    "start_time": "2025-01-23T16:17:12.116Z"
   },
   {
    "duration": 10,
    "start_time": "2025-01-23T16:17:12.131Z"
   },
   {
    "duration": 7,
    "start_time": "2025-01-23T16:17:12.143Z"
   },
   {
    "duration": 19,
    "start_time": "2025-01-23T16:17:12.152Z"
   },
   {
    "duration": 14,
    "start_time": "2025-01-23T16:17:12.172Z"
   },
   {
    "duration": 13,
    "start_time": "2025-01-23T16:17:12.188Z"
   },
   {
    "duration": 39,
    "start_time": "2025-01-23T16:17:12.202Z"
   },
   {
    "duration": 35,
    "start_time": "2025-01-23T16:17:12.242Z"
   },
   {
    "duration": 10,
    "start_time": "2025-01-23T16:17:12.279Z"
   },
   {
    "duration": 9,
    "start_time": "2025-01-23T16:17:12.291Z"
   },
   {
    "duration": 27,
    "start_time": "2025-01-23T16:17:12.302Z"
   },
   {
    "duration": 6,
    "start_time": "2025-01-23T16:17:12.333Z"
   },
   {
    "duration": 7,
    "start_time": "2025-01-23T16:17:12.341Z"
   },
   {
    "duration": 32,
    "start_time": "2025-01-23T16:17:12.350Z"
   },
   {
    "duration": 5,
    "start_time": "2025-01-23T16:17:12.384Z"
   },
   {
    "duration": 3,
    "start_time": "2025-01-23T16:17:12.390Z"
   },
   {
    "duration": 11,
    "start_time": "2025-01-23T16:17:12.394Z"
   },
   {
    "duration": 8,
    "start_time": "2025-01-23T16:17:12.407Z"
   },
   {
    "duration": 10,
    "start_time": "2025-01-23T16:24:04.379Z"
   },
   {
    "duration": 392,
    "start_time": "2025-01-23T16:25:57.913Z"
   },
   {
    "duration": 82,
    "start_time": "2025-01-23T16:25:58.307Z"
   },
   {
    "duration": 17,
    "start_time": "2025-01-23T16:25:58.390Z"
   },
   {
    "duration": 20,
    "start_time": "2025-01-23T16:25:58.409Z"
   },
   {
    "duration": 3,
    "start_time": "2025-01-23T16:25:58.431Z"
   },
   {
    "duration": 5,
    "start_time": "2025-01-23T16:25:58.436Z"
   },
   {
    "duration": 5,
    "start_time": "2025-01-23T16:25:58.443Z"
   },
   {
    "duration": 7,
    "start_time": "2025-01-23T16:25:58.471Z"
   },
   {
    "duration": 4,
    "start_time": "2025-01-23T16:25:58.479Z"
   },
   {
    "duration": 19,
    "start_time": "2025-01-23T16:25:58.485Z"
   },
   {
    "duration": 10,
    "start_time": "2025-01-23T16:25:58.505Z"
   },
   {
    "duration": 5,
    "start_time": "2025-01-23T16:25:58.516Z"
   },
   {
    "duration": 9,
    "start_time": "2025-01-23T16:25:58.523Z"
   },
   {
    "duration": 35,
    "start_time": "2025-01-23T16:25:58.536Z"
   },
   {
    "duration": 8,
    "start_time": "2025-01-23T16:25:58.572Z"
   },
   {
    "duration": 9,
    "start_time": "2025-01-23T16:25:58.581Z"
   },
   {
    "duration": 18,
    "start_time": "2025-01-23T16:25:58.592Z"
   },
   {
    "duration": 8,
    "start_time": "2025-01-23T16:25:58.612Z"
   },
   {
    "duration": 19,
    "start_time": "2025-01-23T16:25:58.622Z"
   },
   {
    "duration": 6,
    "start_time": "2025-01-23T16:25:58.643Z"
   },
   {
    "duration": 48,
    "start_time": "2025-01-23T16:25:58.650Z"
   },
   {
    "duration": 4,
    "start_time": "2025-01-23T16:25:58.700Z"
   },
   {
    "duration": 7,
    "start_time": "2025-01-23T16:25:58.706Z"
   },
   {
    "duration": 6,
    "start_time": "2025-01-23T16:25:58.714Z"
   },
   {
    "duration": 4,
    "start_time": "2025-01-23T16:25:58.722Z"
   },
   {
    "duration": 11,
    "start_time": "2025-01-23T16:25:58.727Z"
   },
   {
    "duration": 16,
    "start_time": "2025-01-23T16:25:58.739Z"
   },
   {
    "duration": 19,
    "start_time": "2025-01-23T16:25:58.756Z"
   },
   {
    "duration": 5,
    "start_time": "2025-01-23T16:25:58.777Z"
   },
   {
    "duration": 6,
    "start_time": "2025-01-23T16:25:58.784Z"
   },
   {
    "duration": 14,
    "start_time": "2025-01-23T16:25:58.792Z"
   },
   {
    "duration": 11,
    "start_time": "2025-01-23T16:25:58.808Z"
   },
   {
    "duration": 12,
    "start_time": "2025-01-23T16:25:58.820Z"
   },
   {
    "duration": 47,
    "start_time": "2025-01-23T16:25:58.834Z"
   },
   {
    "duration": 13,
    "start_time": "2025-01-23T16:25:58.883Z"
   },
   {
    "duration": 10,
    "start_time": "2025-01-23T16:25:58.898Z"
   },
   {
    "duration": 91,
    "start_time": "2025-01-23T16:25:58.909Z"
   },
   {
    "duration": 6,
    "start_time": "2025-01-23T16:25:59.001Z"
   },
   {
    "duration": 5,
    "start_time": "2025-01-23T16:25:59.008Z"
   },
   {
    "duration": 33,
    "start_time": "2025-01-23T16:25:59.014Z"
   },
   {
    "duration": 16,
    "start_time": "2025-01-23T16:25:59.051Z"
   },
   {
    "duration": 6,
    "start_time": "2025-01-23T16:25:59.068Z"
   },
   {
    "duration": 17,
    "start_time": "2025-01-23T16:25:59.076Z"
   },
   {
    "duration": 8,
    "start_time": "2025-01-23T16:25:59.095Z"
   },
   {
    "duration": 2,
    "start_time": "2025-01-23T16:25:59.105Z"
   },
   {
    "duration": 18,
    "start_time": "2025-01-23T16:25:59.109Z"
   },
   {
    "duration": 5,
    "start_time": "2025-01-23T16:25:59.129Z"
   },
   {
    "duration": 3,
    "start_time": "2025-01-23T16:26:43.141Z"
   },
   {
    "duration": 3,
    "start_time": "2025-01-23T16:27:04.066Z"
   },
   {
    "duration": 418,
    "start_time": "2025-01-23T16:27:08.673Z"
   },
   {
    "duration": 96,
    "start_time": "2025-01-23T16:27:09.093Z"
   },
   {
    "duration": 17,
    "start_time": "2025-01-23T16:27:09.190Z"
   },
   {
    "duration": 24,
    "start_time": "2025-01-23T16:27:09.209Z"
   },
   {
    "duration": 3,
    "start_time": "2025-01-23T16:27:09.235Z"
   },
   {
    "duration": 9,
    "start_time": "2025-01-23T16:27:09.239Z"
   },
   {
    "duration": 21,
    "start_time": "2025-01-23T16:27:09.250Z"
   },
   {
    "duration": 35,
    "start_time": "2025-01-23T16:27:09.273Z"
   },
   {
    "duration": 28,
    "start_time": "2025-01-23T16:27:09.310Z"
   },
   {
    "duration": 26,
    "start_time": "2025-01-23T16:27:09.341Z"
   },
   {
    "duration": 24,
    "start_time": "2025-01-23T16:27:09.368Z"
   },
   {
    "duration": 15,
    "start_time": "2025-01-23T16:27:09.394Z"
   },
   {
    "duration": 55,
    "start_time": "2025-01-23T16:27:09.410Z"
   },
   {
    "duration": 12,
    "start_time": "2025-01-23T16:27:09.466Z"
   },
   {
    "duration": 14,
    "start_time": "2025-01-23T16:27:09.480Z"
   },
   {
    "duration": 11,
    "start_time": "2025-01-23T16:27:09.496Z"
   },
   {
    "duration": 21,
    "start_time": "2025-01-23T16:27:09.508Z"
   },
   {
    "duration": 9,
    "start_time": "2025-01-23T16:27:09.531Z"
   },
   {
    "duration": 11,
    "start_time": "2025-01-23T16:27:09.542Z"
   },
   {
    "duration": 3,
    "start_time": "2025-01-23T16:27:09.570Z"
   },
   {
    "duration": 15,
    "start_time": "2025-01-23T16:27:09.574Z"
   },
   {
    "duration": 10,
    "start_time": "2025-01-23T16:27:09.591Z"
   },
   {
    "duration": 9,
    "start_time": "2025-01-23T16:27:09.602Z"
   },
   {
    "duration": 6,
    "start_time": "2025-01-23T16:27:09.613Z"
   },
   {
    "duration": 5,
    "start_time": "2025-01-23T16:27:09.621Z"
   },
   {
    "duration": 5,
    "start_time": "2025-01-23T16:27:09.627Z"
   },
   {
    "duration": 15,
    "start_time": "2025-01-23T16:27:09.634Z"
   },
   {
    "duration": 5,
    "start_time": "2025-01-23T16:27:09.670Z"
   },
   {
    "duration": 119,
    "start_time": "2025-01-23T16:27:09.676Z"
   },
   {
    "duration": 13,
    "start_time": "2025-01-23T16:27:09.797Z"
   },
   {
    "duration": 11,
    "start_time": "2025-01-23T16:27:09.811Z"
   },
   {
    "duration": 9,
    "start_time": "2025-01-23T16:27:09.824Z"
   },
   {
    "duration": 18,
    "start_time": "2025-01-23T16:27:09.835Z"
   },
   {
    "duration": 81,
    "start_time": "2025-01-23T16:27:09.855Z"
   },
   {
    "duration": 40,
    "start_time": "2025-01-23T16:27:09.938Z"
   },
   {
    "duration": 10,
    "start_time": "2025-01-23T16:27:09.980Z"
   },
   {
    "duration": 9,
    "start_time": "2025-01-23T16:27:09.991Z"
   },
   {
    "duration": 5,
    "start_time": "2025-01-23T16:27:10.002Z"
   },
   {
    "duration": 13,
    "start_time": "2025-01-23T16:27:10.009Z"
   },
   {
    "duration": 26,
    "start_time": "2025-01-23T16:27:10.024Z"
   },
   {
    "duration": 21,
    "start_time": "2025-01-23T16:27:10.051Z"
   },
   {
    "duration": 7,
    "start_time": "2025-01-23T16:27:10.074Z"
   },
   {
    "duration": 18,
    "start_time": "2025-01-23T16:27:10.083Z"
   },
   {
    "duration": 8,
    "start_time": "2025-01-23T16:27:10.103Z"
   },
   {
    "duration": 5,
    "start_time": "2025-01-23T16:27:10.113Z"
   },
   {
    "duration": 15,
    "start_time": "2025-01-23T16:27:10.119Z"
   },
   {
    "duration": 13,
    "start_time": "2025-01-23T16:27:10.135Z"
   },
   {
    "duration": 427,
    "start_time": "2025-01-23T16:33:30.840Z"
   },
   {
    "duration": 109,
    "start_time": "2025-01-23T16:33:31.271Z"
   },
   {
    "duration": 17,
    "start_time": "2025-01-23T16:33:31.382Z"
   },
   {
    "duration": 72,
    "start_time": "2025-01-23T16:33:31.401Z"
   },
   {
    "duration": 4,
    "start_time": "2025-01-23T16:33:31.475Z"
   },
   {
    "duration": 27,
    "start_time": "2025-01-23T16:33:31.480Z"
   },
   {
    "duration": 16,
    "start_time": "2025-01-23T16:33:31.509Z"
   },
   {
    "duration": 16,
    "start_time": "2025-01-23T16:33:31.527Z"
   },
   {
    "duration": 29,
    "start_time": "2025-01-23T16:33:31.545Z"
   },
   {
    "duration": 28,
    "start_time": "2025-01-23T16:33:31.577Z"
   },
   {
    "duration": 13,
    "start_time": "2025-01-23T16:33:31.607Z"
   },
   {
    "duration": 4,
    "start_time": "2025-01-23T16:33:31.622Z"
   },
   {
    "duration": 32,
    "start_time": "2025-01-23T16:33:31.627Z"
   },
   {
    "duration": 32,
    "start_time": "2025-01-23T16:33:31.661Z"
   },
   {
    "duration": 13,
    "start_time": "2025-01-23T16:33:31.695Z"
   },
   {
    "duration": 119,
    "start_time": "2025-01-23T16:33:31.710Z"
   },
   {
    "duration": 20,
    "start_time": "2025-01-23T16:33:31.831Z"
   },
   {
    "duration": 9,
    "start_time": "2025-01-23T16:33:31.852Z"
   },
   {
    "duration": 20,
    "start_time": "2025-01-23T16:33:31.863Z"
   },
   {
    "duration": 101,
    "start_time": "2025-01-23T16:33:31.885Z"
   },
   {
    "duration": 24,
    "start_time": "2025-01-23T16:33:31.988Z"
   },
   {
    "duration": 4,
    "start_time": "2025-01-23T16:33:32.013Z"
   },
   {
    "duration": 27,
    "start_time": "2025-01-23T16:33:32.019Z"
   },
   {
    "duration": 7,
    "start_time": "2025-01-23T16:33:32.048Z"
   },
   {
    "duration": 5,
    "start_time": "2025-01-23T16:33:32.056Z"
   },
   {
    "duration": 18,
    "start_time": "2025-01-23T16:33:32.062Z"
   },
   {
    "duration": 31,
    "start_time": "2025-01-23T16:33:32.082Z"
   },
   {
    "duration": 5,
    "start_time": "2025-01-23T16:33:32.117Z"
   },
   {
    "duration": 30,
    "start_time": "2025-01-23T16:33:32.123Z"
   },
   {
    "duration": 14,
    "start_time": "2025-01-23T16:33:32.155Z"
   },
   {
    "duration": 55,
    "start_time": "2025-01-23T16:33:32.170Z"
   },
   {
    "duration": 23,
    "start_time": "2025-01-23T16:33:32.227Z"
   },
   {
    "duration": 10,
    "start_time": "2025-01-23T16:33:32.252Z"
   },
   {
    "duration": 48,
    "start_time": "2025-01-23T16:33:32.264Z"
   },
   {
    "duration": 13,
    "start_time": "2025-01-23T16:33:32.314Z"
   },
   {
    "duration": 29,
    "start_time": "2025-01-23T16:33:32.329Z"
   },
   {
    "duration": 9,
    "start_time": "2025-01-23T16:33:32.360Z"
   },
   {
    "duration": 31,
    "start_time": "2025-01-23T16:33:32.370Z"
   },
   {
    "duration": 28,
    "start_time": "2025-01-23T16:33:32.403Z"
   },
   {
    "duration": 16,
    "start_time": "2025-01-23T16:33:32.433Z"
   },
   {
    "duration": 6,
    "start_time": "2025-01-23T16:33:32.450Z"
   },
   {
    "duration": 12,
    "start_time": "2025-01-23T16:33:32.457Z"
   },
   {
    "duration": 24,
    "start_time": "2025-01-23T16:33:32.470Z"
   },
   {
    "duration": 21,
    "start_time": "2025-01-23T16:33:32.496Z"
   },
   {
    "duration": 10,
    "start_time": "2025-01-23T16:33:32.518Z"
   },
   {
    "duration": 10,
    "start_time": "2025-01-23T16:33:32.529Z"
   },
   {
    "duration": 10,
    "start_time": "2025-01-23T16:33:32.540Z"
   },
   {
    "duration": 520,
    "start_time": "2025-01-23T17:14:30.154Z"
   },
   {
    "duration": 164,
    "start_time": "2025-01-23T17:14:30.675Z"
   },
   {
    "duration": 22,
    "start_time": "2025-01-23T17:14:30.841Z"
   },
   {
    "duration": 26,
    "start_time": "2025-01-23T17:14:30.866Z"
   },
   {
    "duration": 12,
    "start_time": "2025-01-23T17:14:30.893Z"
   },
   {
    "duration": 6,
    "start_time": "2025-01-23T17:14:30.906Z"
   },
   {
    "duration": 5,
    "start_time": "2025-01-23T17:14:30.914Z"
   },
   {
    "duration": 36,
    "start_time": "2025-01-23T17:14:30.921Z"
   },
   {
    "duration": 5,
    "start_time": "2025-01-23T17:14:30.959Z"
   },
   {
    "duration": 15,
    "start_time": "2025-01-23T17:14:30.967Z"
   },
   {
    "duration": 12,
    "start_time": "2025-01-23T17:14:30.984Z"
   },
   {
    "duration": 6,
    "start_time": "2025-01-23T17:14:30.998Z"
   },
   {
    "duration": 42,
    "start_time": "2025-01-23T17:14:31.005Z"
   },
   {
    "duration": 7,
    "start_time": "2025-01-23T17:14:31.049Z"
   },
   {
    "duration": 8,
    "start_time": "2025-01-23T17:14:31.058Z"
   },
   {
    "duration": 10,
    "start_time": "2025-01-23T17:14:31.068Z"
   },
   {
    "duration": 15,
    "start_time": "2025-01-23T17:14:31.079Z"
   },
   {
    "duration": 10,
    "start_time": "2025-01-23T17:14:31.096Z"
   },
   {
    "duration": 47,
    "start_time": "2025-01-23T17:14:31.107Z"
   },
   {
    "duration": 4,
    "start_time": "2025-01-23T17:14:31.155Z"
   },
   {
    "duration": 28,
    "start_time": "2025-01-23T17:14:31.161Z"
   },
   {
    "duration": 5,
    "start_time": "2025-01-23T17:14:31.191Z"
   },
   {
    "duration": 10,
    "start_time": "2025-01-23T17:14:31.198Z"
   },
   {
    "duration": 7,
    "start_time": "2025-01-23T17:14:31.210Z"
   },
   {
    "duration": 14,
    "start_time": "2025-01-23T17:14:31.219Z"
   },
   {
    "duration": 45,
    "start_time": "2025-01-23T17:14:31.246Z"
   },
   {
    "duration": 14,
    "start_time": "2025-01-23T17:14:31.293Z"
   },
   {
    "duration": 5,
    "start_time": "2025-01-23T17:14:31.310Z"
   },
   {
    "duration": 21,
    "start_time": "2025-01-23T17:14:31.317Z"
   },
   {
    "duration": 20,
    "start_time": "2025-01-23T17:14:31.340Z"
   },
   {
    "duration": 12,
    "start_time": "2025-01-23T17:14:31.362Z"
   },
   {
    "duration": 7,
    "start_time": "2025-01-23T17:14:31.376Z"
   },
   {
    "duration": 13,
    "start_time": "2025-01-23T17:14:31.385Z"
   },
   {
    "duration": 15,
    "start_time": "2025-01-23T17:14:31.400Z"
   },
   {
    "duration": 36,
    "start_time": "2025-01-23T17:14:31.417Z"
   },
   {
    "duration": 13,
    "start_time": "2025-01-23T17:14:31.455Z"
   },
   {
    "duration": 92,
    "start_time": "2025-01-23T17:14:31.470Z"
   },
   {
    "duration": 12,
    "start_time": "2025-01-23T17:14:31.565Z"
   },
   {
    "duration": 16,
    "start_time": "2025-01-23T17:14:31.579Z"
   },
   {
    "duration": 14,
    "start_time": "2025-01-23T17:14:31.597Z"
   },
   {
    "duration": 7,
    "start_time": "2025-01-23T17:14:31.614Z"
   },
   {
    "duration": 21,
    "start_time": "2025-01-23T17:14:31.622Z"
   },
   {
    "duration": 30,
    "start_time": "2025-01-23T17:14:31.646Z"
   },
   {
    "duration": 6,
    "start_time": "2025-01-23T17:14:31.677Z"
   },
   {
    "duration": 12,
    "start_time": "2025-01-23T17:14:31.685Z"
   },
   {
    "duration": 7,
    "start_time": "2025-01-23T17:14:31.699Z"
   },
   {
    "duration": 9,
    "start_time": "2025-01-23T17:14:31.708Z"
   }
  ],
  "kernelspec": {
   "display_name": "Python 3 (ipykernel)",
   "language": "python",
   "name": "python3"
  },
  "language_info": {
   "codemirror_mode": {
    "name": "ipython",
    "version": 3
   },
   "file_extension": ".py",
   "mimetype": "text/x-python",
   "name": "python",
   "nbconvert_exporter": "python",
   "pygments_lexer": "ipython3",
   "version": "3.12.7"
  },
  "toc": {
   "base_numbering": 1,
   "nav_menu": {},
   "number_sections": true,
   "sideBar": true,
   "skip_h1_title": true,
   "title_cell": "Table of Contents",
   "title_sidebar": "Contents",
   "toc_cell": false,
   "toc_position": {},
   "toc_section_display": true,
   "toc_window_display": true
  }
 },
 "nbformat": 4,
 "nbformat_minor": 5
}
